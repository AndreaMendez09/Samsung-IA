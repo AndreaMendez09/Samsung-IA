{
 "cells": [
  {
   "cell_type": "markdown",
   "metadata": {},
   "source": [
    "# Tensorflow\n",
    "\n",
    "Como se indica en su [web oficial](https://www.tensorflow.org):\n",
    "\n",
    "> TensorFlow es una plataforma de código abierto de extremo a extremo para el aprendizaje automático. Cuenta con un ecosistema integral y flexible de herramientas, bibliotecas y recursos de la comunidad que les permite a los investigadores innovar con el aprendizaje automático y, a los desarrolladores, compilar e implementar con facilidad aplicaciones con tecnología de Aprendizaje Automático.\n",
    "\n",
    "Dicho de otra forma, es una biblioteca de código abierto de aprendizaje automático/aprendizaje profundo desarrollada por el equipo de Google Brain que permite, entre otras cosas, la ejecución de código en Python, Java, R, ... de manera paralela en múltiples CPUs y GPUs."
   ]
  },
  {
   "cell_type": "markdown",
   "metadata": {},
   "source": [
    "## El elemento básico: el tensor\n",
    "\n",
    "Un [**tensor**](https://es.wikipedia.org/wiki/C%C3%A1lculo_tensorial) es cierta clase de entidad algebraica de varios componentes que generaliza los conceptos de escalar, vector y matriz de una manera que sea independiente de cualquier sistema de coordenadas elegido.\n",
    "\n",
    "Una vez elegida una base vectorial, los componentes de un tensor en una base vendrán dadas por una multimatriz. El orden de un tensor será el número de índices necesario para especificar sin ambigüedad un componente de un tensor: un escalar será considerado como un tensor de orden 0; un vector, un tensor de orden 1; y dada una base vectorial, los tensores de segundo orden pueden ser representados por una matriz.\n",
    "\n",
    "![Tensor de Levi-Civita](https://upload.wikimedia.org/wikipedia/commons/7/71/Epsilontensor.svg)\n",
    "\n",
    "Los cómputos de **Tensorflow** son grafos de flujo de datos en los cuales los nodos representan tensores y las aristas representan relaciones entre dichos nodos. Por ejemplo, el resultado de la suma de dos tensores es, a su vez, otro tensor:"
   ]
  },
  {
   "cell_type": "code",
   "execution_count": 1,
   "metadata": {
    "ExecuteTime": {
     "end_time": "2021-05-24T12:38:57.126762Z",
     "start_time": "2021-05-24T12:38:52.224915Z"
    }
   },
   "outputs": [
    {
     "data": {
      "text/plain": [
       "<tf.Tensor: shape=(), dtype=int32, numpy=67>"
      ]
     },
     "execution_count": 1,
     "metadata": {},
     "output_type": "execute_result"
    }
   ],
   "source": [
    "import tensorflow as tf\n",
    "\n",
    "tensor1 = tf.constant(27)\n",
    "tensor2 = tf.constant(40)\n",
    "tf.add(tensor1, tensor2)"
   ]
  },
  {
   "cell_type": "markdown",
   "metadata": {},
   "source": [
    "Otro ejemplo: la multiplicación de dos tensores de orden 2:"
   ]
  },
  {
   "cell_type": "code",
   "execution_count": 3,
   "metadata": {
    "ExecuteTime": {
     "end_time": "2021-05-24T12:43:14.333175Z",
     "start_time": "2021-05-24T12:43:14.322915Z"
    }
   },
   "outputs": [
    {
     "data": {
      "text/plain": [
       "<tf.Tensor: shape=(2, 1), dtype=int32, numpy=\n",
       "array([[41],\n",
       "       [16]], dtype=int32)>"
      ]
     },
     "execution_count": 3,
     "metadata": {},
     "output_type": "execute_result"
    }
   ],
   "source": [
    "t1 = tf.constant([\n",
    "    [7, 4],\n",
    "    [2, 2]\n",
    "])\n",
    "\n",
    "t2 = tf.constant([\n",
    "    [3],\n",
    "    [5]\n",
    "])\n",
    "tf.matmul(t1, t2)"
   ]
  },
  {
   "cell_type": "markdown",
   "metadata": {},
   "source": [
    "Además de especificar su valor de manera explícita, **Tensorflow** nos ofrece inicializadores parametrizables para crear tensores con características predefinidas:"
   ]
  },
  {
   "cell_type": "code",
   "execution_count": 4,
   "metadata": {
    "ExecuteTime": {
     "end_time": "2021-05-24T12:48:31.857911Z",
     "start_time": "2021-05-24T12:48:31.831157Z"
    }
   },
   "outputs": [
    {
     "name": "stdout",
     "output_type": "stream",
     "text": [
      "tf.Tensor(\n",
      "[[[1.1 1.1]\n",
      "  [1.1 1.1]]\n",
      "\n",
      " [[1.1 1.1]\n",
      "  [1.1 1.1]]], shape=(2, 2, 2), dtype=float32)\n",
      "tf.Tensor([0. 0. 0. 0.], shape=(4,), dtype=float32)\n",
      "tf.Tensor(\n",
      "[[1. 1.]\n",
      " [1. 1.]], shape=(2, 2), dtype=float32)\n"
     ]
    }
   ],
   "source": [
    "tfill = tf.fill((2, 2, 2), 1.1) # Tensor de orden 3 relleno completamente con el valor 1.1\n",
    "print(tfill)\n",
    "\n",
    "tzeros = tf.zeros((4,)) # Tensor de orden 1 con 4 ceros\n",
    "print(tzeros)\n",
    "\n",
    "tones = tf.ones((2, 2)) # Tensor de orden 2 con unos\n",
    "print(tones)"
   ]
  },
  {
   "cell_type": "code",
   "execution_count": 5,
   "metadata": {
    "ExecuteTime": {
     "end_time": "2021-05-24T14:43:14.409374Z",
     "start_time": "2021-05-24T14:43:14.403712Z"
    }
   },
   "outputs": [],
   "source": [
    "# with tf.device('/GPU:1'):"
   ]
  },
  {
   "cell_type": "markdown",
   "metadata": {},
   "source": [
    "Los **tensores** se llevan bien con *NumPy*: puedes crear un tensor a partir de un array de NumPy, y viceversa. Incluso puedes aplicar operaciones de TensorFlow a matrices de NumPy y operaciones de NumPy a tensores:"
   ]
  },
  {
   "cell_type": "code",
   "execution_count": 11,
   "metadata": {
    "ExecuteTime": {
     "end_time": "2021-05-24T16:31:24.046163Z",
     "start_time": "2021-05-24T16:31:24.016424Z"
    }
   },
   "outputs": [
    {
     "name": "stdout",
     "output_type": "stream",
     "text": [
      "tf.Tensor([2. 4. 5.], shape=(3,), dtype=float32)\n"
     ]
    },
    {
     "data": {
      "text/plain": [
       "<tf.Tensor: shape=(3,), dtype=float64, numpy=array([ 4., 16., 25.])>"
      ]
     },
     "execution_count": 11,
     "metadata": {},
     "output_type": "execute_result"
    }
   ],
   "source": [
    "import numpy as np\n",
    "\n",
    "a = np.array([2., 4., 5.])\n",
    "print(tf.constant(a, dtype=tf.float32))\n",
    "\n",
    "tf.square(a)"
   ]
  },
  {
   "cell_type": "markdown",
   "metadata": {},
   "source": [
    "Como se puede obsevar, cuando hemos contruido un tensor a partir de un array de *NumPy* hemos especificado el tipo de datos `tf.float32`. Esto se debe a que *NumPy* utiliza un tamaño de 64 bits para los valores en coma flotante, mientras que **Tensorflow** usa 32 bits para el mismo tipo de datos.\n",
    "\n",
    "Hay que prestar especial cuidado a que los tipos de los tensores coincidan cuando se opera con ellos, ya que en caso contrario la librería nos devuelve un error. Siempre podemos transformar de un tipo a otro utilizando `dtype=<type>` o bien `tf.cast()`:"
   ]
  },
  {
   "cell_type": "code",
   "execution_count": 13,
   "metadata": {
    "ExecuteTime": {
     "end_time": "2021-05-24T16:37:11.561409Z",
     "start_time": "2021-05-24T16:37:11.532887Z"
    }
   },
   "outputs": [
    {
     "data": {
      "text/plain": [
       "<tf.Tensor: shape=(), dtype=float32, numpy=24.7>"
      ]
     },
     "execution_count": 13,
     "metadata": {},
     "output_type": "execute_result"
    }
   ],
   "source": [
    "# Si descomentas la siguiente línea, obtienes un error:\n",
    "# tf.constant(4.7) + tf.constant(20)\n",
    "t20 = tf.constant(20)\n",
    "tf.constant(4.7) + tf.cast(t20, dtype=tf.float32)"
   ]
  },
  {
   "cell_type": "markdown",
   "metadata": {},
   "source": [
    "## Variables\n",
    "\n",
    "Hasta ahora, todos los tensores con los que hemos trabajado eran inmutables, es decir, su valor no se puede cambiar una vez han sido inicializados.\n",
    "\n",
    "En **Tensorflow**, el concepto de variable es distinto al usual, ya que nos encontramos ante una librería de *Machine Learning*. Una variable es un parámetro del modelo que queremos aprender o, dicho de otra forma, un *peso* que forma parte de una función de coste a ajustar mediante un algoritmo de optimización. Es altamente improbable que tengamos que modificar el valor de una variable por nuestra cuenta, ya que eso es tarea del algoritmo de optimización.\n",
    "\n",
    "Podemos declarar variables **Tensorflow** que alberguen tensores de la siguiente forma:"
   ]
  },
  {
   "cell_type": "code",
   "execution_count": 22,
   "metadata": {
    "ExecuteTime": {
     "end_time": "2021-05-24T17:07:47.079745Z",
     "start_time": "2021-05-24T17:07:47.058125Z"
    }
   },
   "outputs": [],
   "source": [
    "v1 = tf.Variable(initial_value=tf.random.uniform((4,4),0,1))\n",
    "v2 = tf.Variable(initial_value=11.2)"
   ]
  },
  {
   "cell_type": "markdown",
   "metadata": {},
   "source": [
    "Podemos realizar operaciones de lectura y escritura de variables:\n",
    "\n",
    "- `.read_value()` para leer el valor de una variable\n",
    "- `.assign()`, `.assign_add()` y `.assign_sub()` para escribir y/o actualizar el valor de una variable"
   ]
  },
  {
   "cell_type": "code",
   "execution_count": 23,
   "metadata": {
    "ExecuteTime": {
     "end_time": "2021-05-24T17:09:26.337644Z",
     "start_time": "2021-05-24T17:09:26.313082Z"
    }
   },
   "outputs": [
    {
     "data": {
      "text/plain": [
       "<tf.Tensor: shape=(4, 4), dtype=float32, numpy=\n",
       "array([[0.42368412, 0.13072741, 0.05083394, 0.27491677],\n",
       "       [0.430884  , 0.33739102, 0.19206774, 0.9098592 ],\n",
       "       [0.38008714, 0.5228889 , 0.43160272, 0.16131401],\n",
       "       [0.75684774, 0.8613702 , 0.49176025, 0.07519436]], dtype=float32)>"
      ]
     },
     "execution_count": 23,
     "metadata": {},
     "output_type": "execute_result"
    }
   ],
   "source": [
    "v1.read_value()"
   ]
  },
  {
   "cell_type": "code",
   "execution_count": 24,
   "metadata": {
    "ExecuteTime": {
     "end_time": "2021-05-24T17:10:03.908711Z",
     "start_time": "2021-05-24T17:10:03.883579Z"
    }
   },
   "outputs": [
    {
     "data": {
      "text/plain": [
       "<tf.Variable 'UnreadVariable' shape=() dtype=float32, numpy=12.099999>"
      ]
     },
     "execution_count": 24,
     "metadata": {},
     "output_type": "execute_result"
    }
   ],
   "source": [
    "v2.assign_add(0.9)"
   ]
  },
  {
   "cell_type": "markdown",
   "metadata": {},
   "source": [
    "El constructor de variables de **Tensorflow** tiene un parámetro booleano `trainable` para diferenciar aquellas variables que tienen que ser ajustadas (aprendidas, entrenadas, ...) para definir el modelo o variables genéricas necesarias para el funcionamiento del mismo, como por ejemplo el número de iteraciones."
   ]
  },
  {
   "cell_type": "markdown",
   "metadata": {},
   "source": [
    "## Placeholders\n",
    "\n",
    "Ya tenemos la herramienta para declarar parámetros del modelo de aprendizaje, pero todavía no tenemos cómo especificar las cracterísticas o *features* mediante las cuales el modelo extraerá el conocimiento.\n",
    "\n",
    "En **Tensorflow** las *features* se declaran como **placeholders** y, al igual que sucede con las variables, tienen su propio constructor:"
   ]
  },
  {
   "cell_type": "code",
   "execution_count": 25,
   "metadata": {
    "ExecuteTime": {
     "end_time": "2021-05-26T15:21:31.958743Z",
     "start_time": "2021-05-26T15:21:31.874637Z"
    }
   },
   "outputs": [
    {
     "name": "stdout",
     "output_type": "stream",
     "text": [
      "WARNING:tensorflow:From /opt/conda/lib/python3.8/site-packages/tensorflow/python/compat/v2_compat.py:96: disable_resource_variables (from tensorflow.python.ops.variable_scope) is deprecated and will be removed in a future version.\n",
      "Instructions for updating:\n",
      "non-resource variables are not supported in the long term\n"
     ]
    }
   ],
   "source": [
    "# Necesario para compatibilizar TF1 con TF2\n",
    "import tensorflow.compat.v1 as tf\n",
    "tf.disable_v2_behavior()\n",
    "\n",
    "X = tf.placeholder(tf.float32, shape=(None,3))       # \"None\" significa que el número de filas aún no está definido. \n",
    "b = tf.placeholder(tf.float32, shape=(3,1))"
   ]
  },
  {
   "cell_type": "markdown",
   "metadata": {},
   "source": [
    "Los **placeholders** son una característica de la **v1** de **Tensorflow**, por lo que tenemos que re-importar la librería en el modo compatibilidad, así como desactivar las características de la **v2**. Entre otras cosas, se deshabilita la ejecución *eager* de los grafos, por lo que será necesario abrir sesiones a partir de ahora.\n",
    "\n",
    "Podemos observar que se nos permite un número arbitrario de filas para las variables de este tipo, poniendo a `None` el parámetro correspondiente a su dimensión.\n",
    "\n",
    "Los valores no se asignarán a los **placeholders** hasta el momento en que se ejecute el grafo de tensores:"
   ]
  },
  {
   "cell_type": "code",
   "execution_count": 26,
   "metadata": {
    "ExecuteTime": {
     "end_time": "2021-05-26T15:27:00.656073Z",
     "start_time": "2021-05-26T15:27:00.188046Z"
    }
   },
   "outputs": [
    {
     "name": "stdout",
     "output_type": "stream",
     "text": [
      "[[2.3203425]\n",
      " [2.8659291]\n",
      " [2.0325646]]\n",
      "\n",
      "\n",
      "[[-3.0157547]\n",
      " [-3.098227 ]\n",
      " [ 5.6696734]\n",
      " [ 4.9473605]\n",
      " [-2.126623 ]\n",
      " [-3.475409 ]\n",
      " [-3.875013 ]\n",
      " [ 4.582823 ]\n",
      " [ 1.2528943]\n",
      " [-5.8383956]]\n"
     ]
    }
   ],
   "source": [
    "X1 = np.random.uniform(0.0, 1.0, (3,3))\n",
    "X2 = np.random.normal(0.0, 1.0, (10,3))\n",
    "b0 = np.array([1,2,3]).reshape((-1,1))\n",
    "\n",
    "y = tf.matmul(X, b)\n",
    "with tf.Session() as sess:\n",
    "    print(sess.run(y, feed_dict={X:X1, b:b0}))       # Alimenta los datos.\n",
    "    print(\"\\n\")\n",
    "    print(sess.run(y, feed_dict={X:X2, b:b0}))       # Alimenta los datos."
   ]
  },
  {
   "cell_type": "markdown",
   "metadata": {},
   "source": [
    "## Caso de estudio: regresión lineal\n",
    "\n",
    "los modelos de regresión se suelen generalizar del siguiente modo:\n",
    "\n",
    "$$\n",
    "Y = \\beta_0 + \\beta_1 \\cdot X_1 + \\beta_2 \\cdot X_2 + \\cdots + \\beta_m \\cdot X_m + \\epsilon\n",
    "$$\n",
    "\n",
    "Donde:\n",
    "\n",
    "- $\\beta_0$ se corresponde con el *bias* de la recta.\n",
    "- $\\beta_1, \\dots, \\beta_m$ son los parámetros de la pendiente de la recta en las diferentes dimensiones\n",
    "- $\\epsilon$ representa el error que cometemos al no poder aproximar perfectamente todos los puntos. Nótese que cuando tenemos más de 2 puntos es prácticamente imposible encontrar una **recta** que pase por todos ellos.\n",
    "\n",
    "Podemos escribir la expresión anterior usando una notación más compacta de matrices:\n",
    "\n",
    "$$\n",
    "Y = X \\cdot \\beta + \\epsilon\n",
    "$$\n",
    "\n",
    "Para comprobar el funcionamiento de la regresión lineal en **Tensorflow** vamos a utilizar el conjunto de datos de [*boston house-prices*](https://scikit-learn.org/stable/datasets/toy_dataset.html#boston-dataset) que contiene 13 variables (*features*) relacionadas con las viviendas de una determinada barriada de la ciudad de Boston, y una variable objetivo que es el valor mediano de las viviendas de ese barrio en miles de dólares:"
   ]
  },
  {
   "cell_type": "code",
   "execution_count": 37,
   "metadata": {
    "ExecuteTime": {
     "end_time": "2021-05-26T16:01:42.490281Z",
     "start_time": "2021-05-26T16:01:42.473251Z"
    }
   },
   "outputs": [
    {
     "data": {
      "text/plain": [
       "(506, 13)"
      ]
     },
     "execution_count": 37,
     "metadata": {},
     "output_type": "execute_result"
    }
   ],
   "source": [
    "from sklearn.datasets import load_boston\n",
    "from sklearn.model_selection import train_test_split\n",
    "boston = load_boston()\n",
    "X = boston.data\n",
    "y = boston.target"
   ]
  },
  {
   "cell_type": "markdown",
   "metadata": {},
   "source": [
    "Hacemos un preprocesamiento rápido del *dataset* ya que la regresión lineal es muy sensible a las diferencias en las escalas de los valores de las variables:"
   ]
  },
  {
   "cell_type": "code",
   "execution_count": 119,
   "metadata": {
    "ExecuteTime": {
     "end_time": "2021-05-26T17:06:40.486944Z",
     "start_time": "2021-05-26T17:06:40.477074Z"
    }
   },
   "outputs": [
    {
     "data": {
      "text/plain": [
       "(506, 13)"
      ]
     },
     "execution_count": 119,
     "metadata": {},
     "output_type": "execute_result"
    }
   ],
   "source": [
    "from sklearn.preprocessing import MinMaxScaler\n",
    "scaler = MinMaxScaler()\n",
    "X = scaler.fit_transform(X)\n",
    "\n",
    "X_train, X_test, Y_train, Y_test = train_test_split(X, y, test_size=0.2, random_state=1337)\n",
    "X.shape"
   ]
  },
  {
   "cell_type": "markdown",
   "metadata": {},
   "source": [
    "Ahora que sabemos la dimensionalidad de nuestro problema, podemos definir los **placeholder** para las entradas:"
   ]
  },
  {
   "cell_type": "code",
   "execution_count": 150,
   "metadata": {
    "ExecuteTime": {
     "end_time": "2021-05-26T18:56:53.522878Z",
     "start_time": "2021-05-26T18:56:53.516617Z"
    }
   },
   "outputs": [],
   "source": [
    "Xi = tf.placeholder(tf.float32, shape=(None, X.shape[1]))\n",
    "Yi = tf.placeholder(tf.float32, shape=(None, 1))"
   ]
  },
  {
   "cell_type": "markdown",
   "metadata": {},
   "source": [
    "De la misma forma podemos definir los parámetros de nuestro modelo como **variables** de Tensorflow:"
   ]
  },
  {
   "cell_type": "code",
   "execution_count": 151,
   "metadata": {
    "ExecuteTime": {
     "end_time": "2021-05-26T18:56:55.678668Z",
     "start_time": "2021-05-26T18:56:55.663086Z"
    }
   },
   "outputs": [],
   "source": [
    "beta = tf.Variable(initial_value=tf.random_normal(shape=(X.shape[1], 1)))\n",
    "beta0 = tf.Variable(tf.zeros([1]))"
   ]
  },
  {
   "cell_type": "markdown",
   "metadata": {
    "ExecuteTime": {
     "end_time": "2021-05-26T15:45:27.515431Z",
     "start_time": "2021-05-26T15:45:27.510448Z"
    }
   },
   "source": [
    "Una vez tenemos las variables creadas, podemos definir nuestro modelo de regresión lineal como un grafo de operaciones sobre estas variables:"
   ]
  },
  {
   "cell_type": "code",
   "execution_count": 152,
   "metadata": {
    "ExecuteTime": {
     "end_time": "2021-05-26T18:56:55.994421Z",
     "start_time": "2021-05-26T18:56:55.988946Z"
    }
   },
   "outputs": [],
   "source": [
    "yhat = tf.add(tf.matmul(Xi, beta), beta0)"
   ]
  },
  {
   "cell_type": "markdown",
   "metadata": {},
   "source": [
    "El ajuste de cualquier modelo de *machine learning* se lleva a cabo mediante la optimización de una función de coste que represente cuánto se está equivocando el modelo en cuestión. Vamos a definir la función de coste como el **error cuadrático o L2**:"
   ]
  },
  {
   "cell_type": "code",
   "execution_count": 153,
   "metadata": {
    "ExecuteTime": {
     "end_time": "2021-05-26T18:56:56.292467Z",
     "start_time": "2021-05-26T18:56:56.285610Z"
    }
   },
   "outputs": [],
   "source": [
    "loss = tf.reduce_sum(tf.square(Yi - yhat))"
   ]
  },
  {
   "cell_type": "markdown",
   "metadata": {},
   "source": [
    "Por último tenemos que elegir el método de optimización de la función de coste, en nuestro caso el algoritmo de **descenso de gradiente** canónico que está implementado en **Tensorflow**, además de definir el método de entrenamiento (minimizar la función de coste) y la inicialización de las variables (parámetros del problema):"
   ]
  },
  {
   "cell_type": "code",
   "execution_count": 182,
   "metadata": {
    "ExecuteTime": {
     "end_time": "2021-05-26T19:15:42.069929Z",
     "start_time": "2021-05-26T19:15:42.011916Z"
    }
   },
   "outputs": [],
   "source": [
    "optimizer = tf.train.GradientDescentOptimizer(learning_rate=0.0005)\n",
    "train = optimizer.minimize(loss)\n",
    "init = [tf.global_variables_initializer(), tf.local_variables_initializer()]"
   ]
  },
  {
   "cell_type": "markdown",
   "metadata": {},
   "source": [
    "Ya tenemos todos los elementos definidos, por lo que basta con ejecutar el grafo que representa todos los pasos del algoritmo de optimización elegido. Para validar el modelo utilizaremos las métricas de calidad de regresión: MSE, MAE y RMSE:"
   ]
  },
  {
   "cell_type": "code",
   "execution_count": 192,
   "metadata": {
    "ExecuteTime": {
     "end_time": "2021-05-26T19:23:37.800803Z",
     "start_time": "2021-05-26T19:23:37.019310Z"
    }
   },
   "outputs": [
    {
     "name": "stdout",
     "output_type": "stream",
     "text": [
      "yhat = (404, 1)\n",
      "y_true = (404, 1)\n",
      "cost = 10556.681640625\n",
      "W = [[ -3.274589 ]\n",
      " [  3.02091  ]\n",
      " [ -2.0710044]\n",
      " [  3.7703202]\n",
      " [ -0.6509441]\n",
      " [ 21.024826 ]\n",
      " [  1.7905577]\n",
      " [ -2.0817237]\n",
      " [  1.6206309]\n",
      " [ -1.8542298]\n",
      " [ -6.239719 ]\n",
      " [  7.3429246]\n",
      " [-13.30216  ]]\n",
      "b = [12.822431]\n",
      "Validación: MSE=2825.68 MAE=350.70 RMSE=350.70\n"
     ]
    },
    {
     "data": {
      "text/plain": [
       "[<matplotlib.lines.Line2D at 0x7f074dbf2bb0>]"
      ]
     },
     "execution_count": 192,
     "metadata": {},
     "output_type": "execute_result"
    },
    {
     "data": {
      "image/png": "[encoded data removed]",
      "text/plain": [
       "<Figure size 432x288 with 1 Axes>"
      ]
     },
     "metadata": {
      "needs_background": "light"
     },
     "output_type": "display_data"
    }
   ],
   "source": [
    "with tf.Session() as session:\n",
    "    errors = []\n",
    "    session.run(init)\n",
    "\n",
    "    for _ in range(100):\n",
    "\n",
    "        session.run(train, feed_dict={\n",
    "            Xi: X_train,\n",
    "            Yi: Y_train.reshape(Y_train.shape[0], 1)\n",
    "        })\n",
    "        \n",
    "        errors.append(session.run(loss, feed_dict={\n",
    "            Xi: X_train,\n",
    "            Yi: Y_train.reshape(Y_train.shape[0], 1)\n",
    "        }))\n",
    "    print(\"yhat = {}\".format(session.run(yhat, feed_dict={\n",
    "        Xi: X_train,\n",
    "        Yi: Y_train.reshape(Y_train.shape[0], 1)\n",
    "    }).shape))\n",
    "    print(\"y_true = {}\".format(Y_train.reshape(Y_train.shape[0], 1).shape))\n",
    "    print(\"cost = {}\".format(session.run(loss, feed_dict={\n",
    "        Xi: X_train,\n",
    "        Yi: Y_train.reshape(Y_train.shape[0], 1)\n",
    "    })))\n",
    "\n",
    "    print(\"W = {}\".format(session.run(beta)))\n",
    "    print(\"b = {}\".format(session.run(beta0)))\n",
    "    \n",
    "    # Validación del modelo\n",
    "    # MSE\n",
    "    mse = tf.reduce_sum(tf.square(Yi - yhat))\n",
    "    mae = tf.reduce_sum(tf.abs(Yi - yhat))\n",
    "    rmse = tf.reduce_sum(tf.sqrt(tf.square(Yi - yhat)))\n",
    "    \n",
    "    mse_value = session.run(mse, feed_dict={Xi:X_test, Yi:Y_test.reshape(Y_test.shape[0], 1)})\n",
    "    mae_value = session.run(mae, feed_dict={Xi:X_test, Yi:Y_test.reshape(Y_test.shape[0], 1)})\n",
    "    rmse_value = session.run(rmse, feed_dict={Xi:X_test, Yi:Y_test.reshape(Y_test.shape[0], 1)})\n",
    "    \n",
    "    print(f\"\\nValidación: MSE={mse_value:5.2f} MAE={mae_value:5.2f} RMSE={rmse_value:5.2f}\")\n",
    "\n",
    "import matplotlib.pyplot as plt\n",
    "\n",
    "plt.plot(errors)"
   ]
  },
  {
   "cell_type": "markdown",
   "metadata": {},
   "source": [
    "Una vez que tenemos definida la **regresión lineal** podríamos añadirle regularización para convertirla en **Ridge**, **Lasso** y **ElasticNet**. Para ello vamos a encapsular el proceso de entrenamiento y validación en una función para que sea más cómodo ejecutarlo. Empezamos por **regresión Ridge**, la cual modifica la función de perdida del modelo para plantear el siguiente problema de optimización:\n",
    "\n",
    "$$\n",
    "\\min_{\\beta} (\\beta \\cdot X - Y)^2 + \\alpha \\cdot ||\\beta||_2^2\n",
    "$$"
   ]
  },
  {
   "cell_type": "code",
   "execution_count": 197,
   "metadata": {
    "ExecuteTime": {
     "end_time": "2021-05-27T10:04:05.219660Z",
     "start_time": "2021-05-27T10:04:05.198543Z"
    }
   },
   "outputs": [],
   "source": [
    "def train_and_validate_ridge(\n",
    "    data,\n",
    "    target,\n",
    "    alpha=0.1,\n",
    "    learning_rate=0.0005,\n",
    "    n_iters=100,\n",
    "    test_size=0.2,\n",
    "    random_state=None,\n",
    "):\n",
    "    # Train-test split\n",
    "    data_train, data_test, target_train, target_test = train_test_split(\n",
    "        data, target, test_size=test_size, random_state=random_state\n",
    "    )\n",
    "\n",
    "    with tf.Session() as session, tf.compat.v1.variable_scope(\"ridge\"):\n",
    "        # Placeholders:\n",
    "        X = tf.placeholder(tf.float32, shape=(None, data_train.shape[1]))\n",
    "        Y = tf.placeholder(tf.float32, shape=(None, 1))\n",
    "\n",
    "        # Parámetros del modelo:\n",
    "        beta = tf.Variable(initial_value=tf.random_normal(shape=(data_train.shape[1], 1)))\n",
    "        beta0 = tf.Variable(tf.zeros([1]))\n",
    "        \n",
    "        # Modelo\n",
    "        yhat = tf.add(tf.matmul(X, beta), beta0)\n",
    "        \n",
    "        # Función de coste adaptada para regularización Ridge\n",
    "        loss = tf.reduce_sum(tf.square(Y - yhat) + (alpha * tf.square(tf.norm(beta))))\n",
    "        \n",
    "        # Entrenamiento e inicialización\n",
    "        train = tf.train.GradientDescentOptimizer(learning_rate=learning_rate).minimize(loss)\n",
    "        init = [tf.global_variables_initializer(), tf.local_variables_initializer()]\n",
    "        \n",
    "        errors = []\n",
    "        session.run(init)\n",
    "\n",
    "        for _ in range(n_iters):\n",
    "\n",
    "            session.run(\n",
    "                train, feed_dict={X: data_train, Y: target_train.reshape(target_train.shape[0], 1)}\n",
    "            )\n",
    "\n",
    "            errors.append(\n",
    "                session.run(\n",
    "                    loss,\n",
    "                    feed_dict={X: data_train, Y: target_train.reshape(target_train.shape[0], 1)},\n",
    "                )\n",
    "            )\n",
    "        print(\n",
    "            \"cost = {}\".format(\n",
    "                session.run(\n",
    "                    loss,\n",
    "                    feed_dict={X: data_train, Y: target_train.reshape(target_train.shape[0], 1)},\n",
    "                )\n",
    "            )\n",
    "        )\n",
    "\n",
    "        print(\"W = {}\".format(session.run(beta)))\n",
    "        print(\"b = {}\".format(session.run(beta0)))\n",
    "\n",
    "        # Validación del modelo\n",
    "        # MSE\n",
    "        mse = tf.reduce_sum(tf.square(Y - yhat))\n",
    "        mae = tf.reduce_sum(tf.abs(Y - yhat))\n",
    "        rmse = tf.reduce_sum(tf.sqrt(tf.square(Y - yhat)))\n",
    "\n",
    "        mse_value = session.run(\n",
    "            mse, feed_dict={X: data_test, Y: target_test.reshape(target_test.shape[0], 1)}\n",
    "        )\n",
    "        mae_value = session.run(\n",
    "            mae, feed_dict={X: data_test, Y: target_test.reshape(target_test.shape[0], 1)}\n",
    "        )\n",
    "        rmse_value = session.run(\n",
    "            rmse, feed_dict={X: data_test, Y: target_test.reshape(target_test.shape[0], 1)}\n",
    "        )\n",
    "\n",
    "        print(\n",
    "            f\"\\nValidación: MSE={mse_value:5.2f} MAE={mae_value:5.2f} RMSE={rmse_value:5.2f}\"\n",
    "        )\n",
    "\n",
    "    import matplotlib.pyplot as plt\n",
    "\n",
    "    plt.plot(errors)\n"
   ]
  },
  {
   "cell_type": "code",
   "execution_count": 200,
   "metadata": {
    "ExecuteTime": {
     "end_time": "2021-05-27T10:04:33.696760Z",
     "start_time": "2021-05-27T10:04:32.808336Z"
    }
   },
   "outputs": [
    {
     "name": "stdout",
     "output_type": "stream",
     "text": [
      "cost = 27603.6640625\n",
      "W = [[-0.4121435 ]\n",
      " [ 0.7931541 ]\n",
      " [-1.2045095 ]\n",
      " [ 0.6189763 ]\n",
      " [-0.9469664 ]\n",
      " [ 1.404561  ]\n",
      " [-0.9134362 ]\n",
      " [ 0.22289616]\n",
      " [-1.0602585 ]\n",
      " [-1.3500694 ]\n",
      " [-1.4503169 ]\n",
      " [ 1.0352085 ]\n",
      " [-1.9310377 ]]\n",
      "b = [24.428661]\n",
      "\n",
      "Validación: MSE=7135.11 MAE=599.87 RMSE=599.87\n"
     ]
    },
    {
     "data": {
      "image/png": "[encoded data removed]",
      "text/plain": [
       "<Figure size 432x288 with 1 Axes>"
      ]
     },
     "metadata": {
      "needs_background": "light"
     },
     "output_type": "display_data"
    }
   ],
   "source": [
    "train_and_validate_ridge(X, y, alpha=0.5)"
   ]
  },
  {
   "cell_type": "markdown",
   "metadata": {},
   "source": [
    "En el caso de la **regresión Lasso** y **ElasticNet**, tenemos que seguir el mismo enfoque y modificar únicamente la función de pérdida, tarea que se deja al lector."
   ]
  },
  {
   "cell_type": "markdown",
   "metadata": {},
   "source": [
    "## Caso de estudio: regresión logística\n",
    "Pasamos ahora a modelos de clasificación y, concretamente, la **regresión logística**. Recordamos que este modelo transforma la **regresión lineal** en una interpretación probabilística de que una muestra pertenezca a una clase dada mediante la aplicación de la función *sigmoide*:\n",
    "\n",
    "$$\n",
    "logit(x) = \\frac{1}{1+ e^{-x}}\n",
    "$$\n",
    "\n",
    "Por lo tanto, el modelo será muy parecido al que ya tenemos de **regresión lineal**, aunque ajustando la salida del modelo y la función de coste, que en este caso será la **entropía cruzada**. Al igual que antes, vamos a encapsular el entrenamiento y validación del modelo en una función. Para calcular las predicciones usaremos `argmax` y así elegir la clase con una probabilidad de pertenencia más alta:"
   ]
  },
  {
   "cell_type": "code",
   "execution_count": 215,
   "metadata": {
    "ExecuteTime": {
     "end_time": "2021-05-27T11:21:36.918366Z",
     "start_time": "2021-05-27T11:21:36.899948Z"
    }
   },
   "outputs": [],
   "source": [
    "from sklearn.metrics import precision_score, recall_score, f1_score, precision_recall_curve\n",
    "\n",
    "def logistic_regression(\n",
    "    data,\n",
    "    target,\n",
    "    learning_rate=0.0005,\n",
    "    n_iters=100,\n",
    "    test_size=0.2,\n",
    "    random_state=None,\n",
    "):\n",
    "    # Train-test split\n",
    "    data_train, data_test, target_train, target_test = train_test_split(\n",
    "        data, target, test_size=test_size, random_state=random_state\n",
    "    )\n",
    "\n",
    "    with tf.Session() as session, tf.compat.v1.variable_scope(\"logistic\"):\n",
    "        # Placeholders:\n",
    "        X = tf.placeholder(tf.float32, shape=(None, data_train.shape[1]))\n",
    "        Y = tf.placeholder(tf.float32, shape=(None, target_train.shape[1]))\n",
    "\n",
    "        # Parámetros del modelo:\n",
    "        W = tf.Variable(initial_value=tf.random_normal(shape=(data_train.shape[1], 1)))\n",
    "        b = tf.Variable(tf.zeros([target_train.shape[1]]))\n",
    "        \n",
    "        # Modelo\n",
    "        model = tf.add(tf.matmul(X, W), b)\n",
    "        \n",
    "        # Función de coste: entropía cruzada\n",
    "        loss  = tf.reduce_mean(tf.nn.softmax_cross_entropy_with_logits_v2(labels=target_train, logits=model))\n",
    "        \n",
    "        # Entrenamiento e inicialización\n",
    "        train = tf.train.GradientDescentOptimizer(learning_rate=learning_rate).minimize(loss)\n",
    "        init = [tf.global_variables_initializer(), tf.local_variables_initializer()]\n",
    "        \n",
    "        errors = []\n",
    "        session.run(init)\n",
    "\n",
    "        for _ in range(n_iters):\n",
    "\n",
    "            session.run(\n",
    "                train, feed_dict={X: data_train, Y: target_train}\n",
    "            )\n",
    "\n",
    "            errors.append(\n",
    "                session.run(\n",
    "                    loss,\n",
    "                    feed_dict={X: data_train, Y: target_train},\n",
    "                )\n",
    "            )\n",
    "        print(\n",
    "            \"cost = {}\".format(\n",
    "                session.run(\n",
    "                    loss,\n",
    "                    feed_dict={X: data_train, Y: target_train},\n",
    "                )\n",
    "            )\n",
    "        )\n",
    "\n",
    "        print(\"W = {}\".format(session.run(W)))\n",
    "        print(\"b = {}\".format(session.run(b)))\n",
    "        \n",
    "        correct_predictions = tf.equal(tf.argmax(Y, axis=1), tf.argmax(model, axis=1))\n",
    "        accuracy = tf.reduce_mean(tf.cast(correct_predictions, tf.float32))\n",
    "        accuracy_value = session.run(accuracy, feed_dict={X:data_test, Y:target_test})\n",
    "        y_true = session.run(tf.argmax(Y, axis=1), feed_dict={X:data_test, Y:target_test})\n",
    "        y_pred = session.run(tf.argmax(model, axis=1), feed_dict={X:data_test, Y:target_test})\n",
    "        precision_value = precision_score(y_true, y_pred, average='weighted')\n",
    "        recall_value = recall_score(y_true, y_pred, average='weighted')\n",
    "        f1_value = f1_score(y_true, y_pred, average='weighted')\n",
    "        \n",
    "        print(\n",
    "            f\"\\nValidación: accuracy={accuracy_value:.4f} precision={precision_value:.4f} recall={recall_value:.4f} F1={f1_value:.4f}\"\n",
    "        )\n",
    "    import matplotlib.pyplot as plt\n",
    "\n",
    "    plt.plot(errors)\n",
    "        "
   ]
  },
  {
   "cell_type": "markdown",
   "metadata": {},
   "source": [
    "Vamos a probar el modelo con el conjunto de datos *Iris* de *Scikit-learn*. Hacemos one-hot encoding a la salida para regresión logística multiclase:"
   ]
  },
  {
   "cell_type": "code",
   "execution_count": 203,
   "metadata": {
    "ExecuteTime": {
     "end_time": "2021-05-27T11:15:28.212016Z",
     "start_time": "2021-05-27T11:15:28.200138Z"
    }
   },
   "outputs": [],
   "source": [
    "from sklearn.datasets import load_iris\n",
    "from sklearn.preprocessing import scale\n",
    "import pandas as pd\n",
    "\n",
    "data_raw = load_iris()\n",
    "X = data_raw['data']\n",
    "y = data_raw['target']\n",
    "# Codificación One-Hot.\n",
    "y = np.array(pd.get_dummies(y, drop_first=False))               # drop_frist = False para codificación one-hot.\n",
    "# Escalado\n",
    "X = scale(X)"
   ]
  },
  {
   "cell_type": "markdown",
   "metadata": {},
   "source": [
    "Y procedemos al entrenamiento y validación del modelo:"
   ]
  },
  {
   "cell_type": "code",
   "execution_count": 220,
   "metadata": {
    "ExecuteTime": {
     "end_time": "2021-05-27T11:26:38.379779Z",
     "start_time": "2021-05-27T11:26:34.758531Z"
    }
   },
   "outputs": [
    {
     "name": "stdout",
     "output_type": "stream",
     "text": [
      "cost = 1.0984041690826416\n",
      "W = [[-0.65826863]\n",
      " [ 0.04598559]\n",
      " [ 1.1817874 ]\n",
      " [-0.78150225]]\n",
      "b = [ 0.02403683 -0.02419555  0.00015868]\n",
      "\n",
      "Validación: accuracy=0.3000 precision=0.0900 recall=0.3000 F1=0.1385\n"
     ]
    },
    {
     "data": {
      "image/png": "[encoded data removed]",
      "text/plain": [
       "<Figure size 432x288 with 1 Axes>"
      ]
     },
     "metadata": {
      "needs_background": "light"
     },
     "output_type": "display_data"
    }
   ],
   "source": [
    "logistic_regression(X, y, learning_rate=0.01, n_iters=1000)"
   ]
  },
  {
   "cell_type": "markdown",
   "metadata": {},
   "source": [
    "---\n",
    "\n",
    "Creado por **Raúl Lara Cabrera** (raul.lara@upm.es)\n",
    "\n",
    "<img src=\"https://licensebuttons.net/l/by-nc-sa/3.0/88x31.png\">"
   ]
  }
 ],
 "metadata": {
  "kernelspec": {
   "display_name": "Python 3",
   "language": "python",
   "name": "python3"
  },
  "language_info": {
   "codemirror_mode": {
    "name": "ipython",
    "version": 3
   },
   "file_extension": ".py",
   "mimetype": "text/x-python",
   "name": "python",
   "nbconvert_exporter": "python",
   "pygments_lexer": "ipython3",
   "version": "3.8.8"
  },
  "toc": {
   "base_numbering": 1,
   "nav_menu": {},
   "number_sections": false,
   "sideBar": true,
   "skip_h1_title": false,
   "title_cell": "Table of Contents",
   "title_sidebar": "Contents",
   "toc_cell": false,
   "toc_position": {},
   "toc_section_display": true,
   "toc_window_display": true
  }
 },
 "nbformat": 4,
 "nbformat_minor": 4
}
