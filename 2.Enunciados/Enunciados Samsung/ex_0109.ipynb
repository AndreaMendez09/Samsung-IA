{
 "cells": [
  {
   "cell_type": "markdown",
   "metadata": {},
   "source": [
    "## Ejercicio de codificación #0109"
   ]
  },
  {
   "cell_type": "markdown",
   "metadata": {},
   "source": [
    "### 1. Una función que devuelve el valor absoluto:"
   ]
  },
  {
   "cell_type": "code",
   "execution_count": null,
   "metadata": {},
   "outputs": [],
   "source": [
    "def ABS(x):\n",
    "    if x >= 0:\n",
    "        result = x\n",
    "    else:\n",
    "        result = -x\n",
    "    return result"
   ]
  },
  {
   "cell_type": "code",
   "execution_count": null,
   "metadata": {},
   "outputs": [],
   "source": [
    "ABS(3)"
   ]
  },
  {
   "cell_type": "code",
   "execution_count": null,
   "metadata": {},
   "outputs": [],
   "source": [
    "ABS(-7)"
   ]
  },
  {
   "cell_type": "markdown",
   "metadata": {},
   "source": [
    "### 2. Una función que devuelve el valor máximo:"
   ]
  },
  {
   "cell_type": "code",
   "execution_count": null,
   "metadata": {},
   "outputs": [],
   "source": [
    "def MAX(x):\n",
    "    n = len(x)\n",
    "    my_max = x[0]                 # Inicializar el máximo con el primer elemento.\n",
    "    for i in range(1, n): \n",
    "        if x[i] > my_max:         # Si el elemento actual es mayor que el máximo almacenado,\n",
    "            my_max = x[i]         # reemplazarlo.\n",
    "    return my_max"
   ]
  },
  {
   "cell_type": "code",
   "execution_count": null,
   "metadata": {},
   "outputs": [],
   "source": [
    "a = [ 999, 131, -542, 1022, 1021, 45, 77]"
   ]
  },
  {
   "cell_type": "code",
   "execution_count": null,
   "metadata": {},
   "outputs": [],
   "source": [
    "MAX(a)"
   ]
  },
  {
   "cell_type": "markdown",
   "metadata": {},
   "source": [
    "### 3. Una función que encuentra valores repetidos (set):"
   ]
  },
  {
   "cell_type": "code",
   "execution_count": null,
   "metadata": {},
   "outputs": [],
   "source": [
    "def FIND_SAME(x):\n",
    "    n = len(x)\n",
    "    result = set()                     # Inicializa a vacío el conjunto 'result'.\n",
    "    for i in range(0, n-1):            # Itera en i desde 0 a n-2.\n",
    "        for j in range(i + 1, n):      # Itera en j desde i+1 a n-1.\n",
    "            if x[i] == x[j]:           # Si se detecta una repetición,\n",
    "                result.add(x[i])       # se incluye en el conjunto 'result'.\n",
    "    return list(result)"
   ]
  },
  {
   "cell_type": "code",
   "execution_count": null,
   "metadata": {},
   "outputs": [],
   "source": [
    "a = ['Tom', 'Jerry', 'Mike','Sara','Tom','Sara', 'John']"
   ]
  },
  {
   "cell_type": "code",
   "execution_count": null,
   "metadata": {},
   "outputs": [],
   "source": [
    "FIND_SAME(a)"
   ]
  },
  {
   "cell_type": "code",
   "execution_count": null,
   "metadata": {},
   "outputs": [],
   "source": [
    "b = [1,1,1,2,3,4,2,3,5,6,7,8,9,4]"
   ]
  },
  {
   "cell_type": "code",
   "execution_count": null,
   "metadata": {},
   "outputs": [],
   "source": [
    "FIND_SAME(b)"
   ]
  },
  {
   "cell_type": "markdown",
   "metadata": {},
   "source": [
    "### 4. Una función que encuentra valores repetidos (dictionary):"
   ]
  },
  {
   "cell_type": "code",
   "execution_count": null,
   "metadata": {},
   "outputs": [],
   "source": [
    "def FIND_SAME_DICT(x):\n",
    "    my_dict = {}                       # Un dictionario vacío.\n",
    "    for name in x:                     # Itera sobre cada elemento de la lista.\n",
    "        if name in my_dict:            # Si el elemento es una clave del diccionario,\n",
    "            my_dict[name] += 1         # incrementa su valor en 1.\n",
    "        else:                          # si no,\n",
    "            my_dict[name] = 1          # Lo incluye como nueva clave con valor 1.\n",
    "    result = []\n",
    "    for name in my_dict:               # Itera sobre las claves del diccionario.\n",
    "        if my_dict[name] >= 2:         # Si el valor de la clave es mayor que 2\n",
    "            result.append(name)        # Se añade la clave a la lista de salida.\n",
    "    return result"
   ]
  },
  {
   "cell_type": "code",
   "execution_count": null,
   "metadata": {},
   "outputs": [],
   "source": [
    "FIND_SAME_DICT(a)"
   ]
  },
  {
   "cell_type": "code",
   "execution_count": null,
   "metadata": {},
   "outputs": [],
   "source": [
    "FIND_SAME(b)"
   ]
  },
  {
   "cell_type": "markdown",
   "metadata": {},
   "source": [
    "### 5. Búsqueda binaria:"
   ]
  },
  {
   "cell_type": "code",
   "execution_count": null,
   "metadata": {},
   "outputs": [],
   "source": [
    "# entrada:  a = list, x = valor buscado.\n",
    "# salida: posición del valor buscado. Si no se encuentra devuelve -1.\n",
    "#\n",
    "def binary_search(a, x):\n",
    "    # 'left' y 'right' determinan el rango de búsqueda.\n",
    "    left = 0                       \n",
    "    right = len(a) - 1\n",
    "    while left <= right:             # Siga buscando mientras quede un rango distinto de cero.\n",
    "        mid = (left + right)//2      # Medio del rango de búsqueda. División de piso aplicada.\n",
    "        if x == a[mid]:              # ¡Encontrado!\n",
    "            return mid\n",
    "        elif x > a[mid]:             # Si el valor buscado es mayor que el valor medio,\n",
    "            left = mid + 1           #  reducir el rango de búsqueda a la mitad derecha.\n",
    "        else:                        # Si el valor buscado es menor que el valor medio\n",
    "            right = mid - 1          #  reducir el rango de búsqueda a la mitad izquierda.\n",
    "    return -1                        # Cuando la búsqueda no tuvo éxito."
   ]
  },
  {
   "cell_type": "code",
   "execution_count": null,
   "metadata": {},
   "outputs": [],
   "source": [
    "d = [1,4,9,16,25,36,49,64,81]"
   ]
  },
  {
   "cell_type": "code",
   "execution_count": null,
   "metadata": {},
   "outputs": [],
   "source": [
    "binary_search(d,36)"
   ]
  },
  {
   "cell_type": "code",
   "execution_count": null,
   "metadata": {},
   "outputs": [],
   "source": [
    "binary_search(d,50)"
   ]
  },
  {
   "cell_type": "code",
   "execution_count": null,
   "metadata": {},
   "outputs": [],
   "source": []
  }
 ],
 "metadata": {
  "kernelspec": {
   "display_name": "Python 3",
   "language": "python",
   "name": "python3"
  },
  "language_info": {
   "codemirror_mode": {
    "name": "ipython",
    "version": 3
   },
   "file_extension": ".py",
   "mimetype": "text/x-python",
   "name": "python",
   "nbconvert_exporter": "python",
   "pygments_lexer": "ipython3",
   "version": "3.8.3"
  }
 },
 "nbformat": 4,
 "nbformat_minor": 2
}
