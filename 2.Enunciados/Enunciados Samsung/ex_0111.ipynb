{
 "cells": [
  {
   "cell_type": "markdown",
   "metadata": {},
   "source": [
    "## Ejercicio de codificación #0111"
   ]
  },
  {
   "cell_type": "markdown",
   "metadata": {},
   "source": [
    "### 1. Utilizando la librería OS:"
   ]
  },
  {
   "cell_type": "code",
   "execution_count": null,
   "metadata": {},
   "outputs": [],
   "source": [
    "# Importar la librería.\n",
    "import os"
   ]
  },
  {
   "cell_type": "code",
   "execution_count": null,
   "metadata": {},
   "outputs": [],
   "source": [
    "str1 = \"c:\"+ os.path.sep\n",
    "str2 = \"Users\"\n",
    "str3 = \"Public\"\n",
    "str4 = \"Documents\""
   ]
  },
  {
   "cell_type": "code",
   "execution_count": null,
   "metadata": {},
   "outputs": [],
   "source": [
    "# Hacer un camino usando cadenas.\n",
    "str_path = os.path.join(str1, str2, str3, str4)\n",
    "print(os.path.sep)\n",
    "print(str_path)"
   ]
  },
  {
   "cell_type": "code",
   "execution_count": null,
   "metadata": {},
   "outputs": [],
   "source": [
    "# Directorio de trabajo actual.\n",
    "print(os.getcwd())                   "
   ]
  },
  {
   "cell_type": "code",
   "execution_count": null,
   "metadata": {},
   "outputs": [],
   "source": [
    "# Cambiar de directorio.\n",
    "os.chdir(str_path)                   \n",
    "# Directorio de trabajo actual.\n",
    "print(os.getcwd())  "
   ]
  },
  {
   "cell_type": "code",
   "execution_count": null,
   "metadata": {},
   "outputs": [],
   "source": [
    "# Ruta absoluta basada en el directorio de trabajo actual.\n",
    "str_path_abs = os.path.abspath(\"my_file.txt\")  # \"my_file.txt\" fichero de ejemplo.\n",
    "print(str_path_abs)"
   ]
  },
  {
   "cell_type": "code",
   "execution_count": null,
   "metadata": {},
   "outputs": [],
   "source": [
    "# Comprobar si es una ruta absoluta.\n",
    "print(os.path.isabs(str_path_abs))\n",
    "# Solo el nombre del archivo.\n",
    "print(os.path.basename(str_path_abs))\n",
    "# Solo la ruta hasta el directorio.\n",
    "print(os.path.dirname(str_path_abs))"
   ]
  },
  {
   "cell_type": "code",
   "execution_count": null,
   "metadata": {},
   "outputs": [],
   "source": [
    "# Compruebe si la ruta es un directorio.\n",
    "print(os.path.isdir(str_path))\n",
    "print(os.path.isdir(str_path_abs))"
   ]
  },
  {
   "cell_type": "code",
   "execution_count": null,
   "metadata": {},
   "outputs": [],
   "source": [
    "# Compruebe si la ruta termina en un archivo real.\n",
    "print(os.path.isfile(str_path))\n",
    "print(os.path.isfile(str_path_abs))"
   ]
  },
  {
   "cell_type": "code",
   "execution_count": null,
   "metadata": {},
   "outputs": [],
   "source": [
    "# Tamaño del fichero.\n",
    "os.path.getsize(\"my_file.txt\")                            # \"my_file.txt\" fichero de ejemplo"
   ]
  },
  {
   "cell_type": "code",
   "execution_count": null,
   "metadata": {},
   "outputs": [],
   "source": [
    "# Lista los ficheros del directorio actual.\n",
    "list_dir = os.listdir()\n",
    "list_dir.sort()\n",
    "\n",
    "# Muestra sólo los ficheros que comiemzan con 'a' o 'A'.\n",
    "for x in list_dir:\n",
    "    if x.lower()[0] == 'a':\n",
    "        print(x)"
   ]
  },
  {
   "cell_type": "code",
   "execution_count": null,
   "metadata": {},
   "outputs": [],
   "source": [
    "# Crea una nueva subcarpeta si aún no existe.\n",
    "name_subdir = 'mySubDirectory'\n",
    "if not os.path.exists(name_subdir):\n",
    "    os.makedirs(name_subdir)"
   ]
  },
  {
   "cell_type": "code",
   "execution_count": null,
   "metadata": {},
   "outputs": [],
   "source": [
    "# Elimina un directorio.\n",
    "os.rmdir(name_subdir)"
   ]
  },
  {
   "cell_type": "code",
   "execution_count": null,
   "metadata": {},
   "outputs": [],
   "source": [
    "# Borra un fichero si existe.\n",
    "if os.path.isfile('my_test.txt'):\n",
    "    os.unlink('my_test.txt')"
   ]
  },
  {
   "cell_type": "code",
   "execution_count": null,
   "metadata": {},
   "outputs": [],
   "source": [
    "os.getcwd()"
   ]
  },
  {
   "cell_type": "markdown",
   "metadata": {},
   "source": [
    "### 2. Leyendo y escribiendo ficheros:"
   ]
  },
  {
   "cell_type": "code",
   "execution_count": null,
   "metadata": {},
   "outputs": [],
   "source": [
    "# Obtiene el directorio de trabajo actual.\n",
    "os.getcwd()"
   ]
  },
  {
   "cell_type": "code",
   "execution_count": null,
   "metadata": {},
   "outputs": [],
   "source": [
    "# Cambia al directorio que contine el fichero. \n",
    "os.chdir(r'~~')                # Cambiar con la ruta a probar.   "
   ]
  },
  {
   "cell_type": "code",
   "execution_count": null,
   "metadata": {},
   "outputs": [],
   "source": [
    "f = open('my_file.txt', 'r')   # Abre el fichero en modo lectura.\n",
    "all = f.read()                 # Lee el contenido completo de una vez.\n",
    "print(all)                     # Muestra el contenido completo de una vez.\n",
    "f.close()                      # Cierra el fichero."
   ]
  },
  {
   "cell_type": "code",
   "execution_count": null,
   "metadata": {},
   "outputs": [],
   "source": [
    "f = open('my_file.txt', 'r')   # Abre el fichero en modo lectura.\n",
    "all = f.read()                 # Lee el contenido completo de una vez\n",
    "for line in all:\n",
    "     print(line)               # Muestra el contenido líea por línea.\n",
    "f.close()                      # Cierra el fichero."
   ]
  },
  {
   "cell_type": "code",
   "execution_count": null,
   "metadata": {},
   "outputs": [],
   "source": [
    "f = open('new_file.txt', 'w')  # Abre el fichero en modo escritura.\n",
    "f.write('This is a new file.') # Escribe.\n",
    "f.close()                      # Cierra el fichero."
   ]
  },
  {
   "cell_type": "code",
   "execution_count": null,
   "metadata": {},
   "outputs": [],
   "source": [
    "f = open('new_file.txt', 'w')      # Abre el fichero en modo escritura (sobreescritura)\n",
    "f.write('This is another file!')   # Escribe.\n",
    "f.close()                          # Cierra el fichero."
   ]
  },
  {
   "cell_type": "code",
   "execution_count": null,
   "metadata": {},
   "outputs": [],
   "source": [
    "f = open('new_file.txt', 'a')      # Abre el fichero en modo añadir.\n",
    "f.write('This is the end!')        # Añade contenido.\n",
    "f.close()                          # Cierra el fichero."
   ]
  },
  {
   "cell_type": "markdown",
   "metadata": {},
   "source": [
    "### 3. Librería Pickle:"
   ]
  },
  {
   "cell_type": "code",
   "execution_count": null,
   "metadata": {},
   "outputs": [],
   "source": [
    "# Importa la librería.\n",
    "import pickle"
   ]
  },
  {
   "cell_type": "code",
   "execution_count": null,
   "metadata": {},
   "outputs": [],
   "source": [
    "x = [1,2,3, {'Name':'John', 'Age':25, 'Score':9}]         # Un objeto."
   ]
  },
  {
   "cell_type": "code",
   "execution_count": null,
   "metadata": {},
   "outputs": [],
   "source": [
    "pickle.dump(x, open('my_pickle.pkl','wb'))                # Se almacena."
   ]
  },
  {
   "cell_type": "code",
   "execution_count": null,
   "metadata": {},
   "outputs": [],
   "source": [
    "del x                                                     # Se borra."
   ]
  },
  {
   "cell_type": "code",
   "execution_count": null,
   "metadata": {},
   "outputs": [],
   "source": [
    "new_x = pickle.load(open('my_pickle.pkl','rb'))           # Se recupera.\n",
    "print(new_x)"
   ]
  },
  {
   "cell_type": "markdown",
   "metadata": {},
   "source": [
    "### 4. Librería Shelve:"
   ]
  },
  {
   "cell_type": "code",
   "execution_count": null,
   "metadata": {},
   "outputs": [],
   "source": [
    "# Importa la librearía.\n",
    "import shelve"
   ]
  },
  {
   "cell_type": "code",
   "execution_count": null,
   "metadata": {},
   "outputs": [],
   "source": [
    "# Escritura en formato diccionario.\n",
    "x = shelve.open('MyDict')               # Se crean 3 ficheros binarios: .bak, .dat, .dir\n",
    "x['Name'] = 'Andrew'                    # Un par clave-valor. \n",
    "x['Age'] = 23\n",
    "x['Score'] = 8\n",
    "x.close()"
   ]
  },
  {
   "cell_type": "code",
   "execution_count": null,
   "metadata": {},
   "outputs": [],
   "source": [
    "# Lectura.\n",
    "x = shelve.open('MyDict')\n",
    "print(list(x.keys()))\n",
    "print(list(x.values()))\n",
    "print(list(x.items()))\n",
    "x.close()"
   ]
  }
 ],
 "metadata": {
  "kernelspec": {
   "display_name": "Python 3",
   "language": "python",
   "name": "python3"
  },
  "language_info": {
   "codemirror_mode": {
    "name": "ipython",
    "version": 3
   },
   "file_extension": ".py",
   "mimetype": "text/x-python",
   "name": "python",
   "nbconvert_exporter": "python",
   "pygments_lexer": "ipython3",
   "version": "3.8.3"
  }
 },
 "nbformat": 4,
 "nbformat_minor": 2
}
