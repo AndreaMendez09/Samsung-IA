{
 "cells": [
  {
   "cell_type": "markdown",
   "metadata": {},
   "source": [
    "## Ejercicio de codificación #0306"
   ]
  },
  {
   "cell_type": "markdown",
   "metadata": {},
   "source": [
    "### 1. Estimación del intervalo de la proporción:"
   ]
  },
  {
   "cell_type": "code",
   "execution_count": null,
   "metadata": {},
   "outputs": [],
   "source": [
    "import numpy as np\n",
    "import scipy.stats as st"
   ]
  },
  {
   "cell_type": "markdown",
   "metadata": {},
   "source": [
    "1). Hay dos candidatos políticos que se presentan a las elecciones, A y B. El candidato A quiere comprobar su índice de aprobación. De 100 encuestados, 55 respondieron que le votarían. ¿Puede A estar seguro de que saldrá elegido?\n",
    "- Suponga que A resulta elegido con el 50% o más.\n",
    "- Utilice un intervalo de confianza del 95%."
   ]
  },
  {
   "cell_type": "code",
   "execution_count": null,
   "metadata": {},
   "outputs": [],
   "source": [
    "# Intervalo de confianza del 95%.\n",
    "# Aplicamos la expresión para el error estándar (SE).\n",
    "# Se ignoran correcciones adicionales. \n",
    "n_yes = 55\n",
    "n_total = 100\n",
    "p_mean = n_yes/n_total\n",
    "SE = np.sqrt(p_mean*(1-p_mean)/n_total)\n",
    "st.norm.interval(0.95, loc = p_mean, scale=SE)"
   ]
  },
  {
   "cell_type": "markdown",
   "metadata": {},
   "source": [
    "$\\Rightarrow$ El intervalo de confianza tiene el límite inferior por debajo del 50%. Entonces A no puede estar seguro con el nivel de confianza del 95%."
   ]
  },
  {
   "cell_type": "markdown",
   "metadata": {},
   "source": [
    "2). De 1000 encuestados, 550 respondieron que le votarían. ¿Puede A estar seguro de que saldrá elegido?\n",
    "- Suponga que A resulta elegido con el 50% o más.\n",
    "- Utilice un intervalo de confianza del 95%."
   ]
  },
  {
   "cell_type": "code",
   "execution_count": null,
   "metadata": {},
   "outputs": [],
   "source": [
    "# Intervalo de confianza del 95%.\n",
    "# Aplicamos la expresión para el error estándar (SE).\n",
    "# Se ignoran correcciones adicionales. \n",
    "n_yes = 550\n",
    "n_total = 1000\n",
    "p_mean = n_yes/n_total\n",
    "SE = np.sqrt(p_mean*(1-p_mean)/n_total)\n",
    "st.norm.interval(0.95, loc = p_mean, scale=SE)"
   ]
  },
  {
   "cell_type": "markdown",
   "metadata": {},
   "source": [
    "$\\Rightarrow$ El intervalo de confianza tiene el límite inferior por encima del 50%. Entonces A no puede estar seguro con el nivel de confianza del 95%."
   ]
  },
  {
   "cell_type": "code",
   "execution_count": null,
   "metadata": {},
   "outputs": [],
   "source": []
  }
 ],
 "metadata": {
  "kernelspec": {
   "display_name": "Python 3",
   "language": "python",
   "name": "python3"
  },
  "language_info": {
   "codemirror_mode": {
    "name": "ipython",
    "version": 3
   },
   "file_extension": ".py",
   "mimetype": "text/x-python",
   "name": "python",
   "nbconvert_exporter": "python",
   "pygments_lexer": "ipython3",
   "version": "3.8.2"
  }
 },
 "nbformat": 4,
 "nbformat_minor": 2
}
