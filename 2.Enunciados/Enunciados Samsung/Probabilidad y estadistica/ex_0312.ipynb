{
 "cells": [
  {
   "cell_type": "markdown",
   "metadata": {},
   "source": [
    "## Ejercicio de codificación #0312"
   ]
  },
  {
   "cell_type": "markdown",
   "metadata": {},
   "source": [
    "### 1. Test $F$ de varianza:"
   ]
  },
  {
   "cell_type": "code",
   "execution_count": 4,
   "metadata": {},
   "outputs": [],
   "source": [
    "import pandas as pd\n",
    "import numpy as np\n",
    "import scipy.stats as st\n",
    "import os"
   ]
  },
  {
   "cell_type": "code",
   "execution_count": 5,
   "metadata": {},
   "outputs": [],
   "source": [
    "# Simular los datos.\n",
    "np.random.seed(1234)\n",
    "n1 = 25\n",
    "n2 = 20\n",
    "n3 = 30\n",
    "x1 = np.random.randn(n1)*2 + 10              # mu=10, sigma=2.  \n",
    "x2 = np.random.randn(n2)*4 - 5               # mu=-5, sigma=4.  \n",
    "x3 = np.random.randn(n3)*2 + 50              # mu=50, sigma=2.  \n",
    "ssq_1 = x1.var(ddof=1)                       # s1^2.                              \n",
    "ssq_2 = x2.var(ddof=1)                       # s2^2.\n",
    "ssq_3 = x3.var(ddof=1)                       # s3^2."
   ]
  },
  {
   "cell_type": "code",
   "execution_count": 6,
   "metadata": {},
   "outputs": [
    {
     "name": "stdout",
     "output_type": "stream",
     "text": [
      "s1^2 = 4.264041\n",
      "s2^2 = 16.174581\n",
      "s3^2 = 3.543988\n"
     ]
    }
   ],
   "source": [
    "# Imprime los estimaores insesgados de la varianza.\n",
    "print(\"s1^2 = %f\" % ssq_1)\n",
    "print(\"s2^2 = %f\" % ssq_2)\n",
    "print(\"s3^2 = %f\" % ssq_3)"
   ]
  },
  {
   "cell_type": "markdown",
   "metadata": {},
   "source": [
    "#### 1.1. Usando el valor-p:\n",
    "\n",
    "Realice pruebas con contraste $F$ para comparar las varianzas de las muestras 'x1' vs. 'x2' y 'x1' vs. 'x3'. Ejecute tests de dos dolas y de cola derecha."
   ]
  },
  {
   "cell_type": "code",
   "execution_count": null,
   "metadata": {},
   "outputs": [],
   "source": [
    "# Prueba de las dos colas para 2 vs 1.\n",
    "test_stat = ssq_2/ssq_1                             # ¡Mayor varianza muestral para el numerador!\n",
    "p_value = 2*(1 - st.f.cdf(test_stat, n2-1, n1-1))   \n",
    "p_value"
   ]
  },
  {
   "cell_type": "code",
   "execution_count": null,
   "metadata": {},
   "outputs": [],
   "source": [
    "# Prueba de la cola derecha para 2 vs 1.\n",
    "p_value = 1 - st.f.cdf(test_stat, n2-1, n1-1)       \n",
    "p_value"
   ]
  },
  {
   "cell_type": "code",
   "execution_count": null,
   "metadata": {},
   "outputs": [],
   "source": [
    "# Prueba de las dos colas para 1 vs 3.\n",
    "test_stat = ssq_1/ssq_3                             # ¡Mayor varianza muestral para el numerador!\n",
    "p_value = 2*(1 - st.f.cdf(test_stat, n1-1, n3-1))   \n",
    "p_value"
   ]
  },
  {
   "cell_type": "code",
   "execution_count": null,
   "metadata": {},
   "outputs": [],
   "source": [
    "# Prueba de la cola derecha para 1 vs 3.\n",
    "p_value = 1 - st.f.cdf(test_stat, n1-1, n3-1)       \n",
    "p_value"
   ]
  },
  {
   "cell_type": "markdown",
   "metadata": {},
   "source": [
    "*NOTA: Como la distribución F es asimétrica, hicimos el estadístico de prueba colocando la varianza muestral más grande en el numerador. De esta manera, siempre estamos usando la cola derecha de la distribución F.*"
   ]
  }
 ],
 "metadata": {
  "kernelspec": {
   "display_name": "Python 3",
   "language": "python",
   "name": "python3"
  },
  "language_info": {
   "codemirror_mode": {
    "name": "ipython",
    "version": 3
   },
   "file_extension": ".py",
   "mimetype": "text/x-python",
   "name": "python",
   "nbconvert_exporter": "python",
   "pygments_lexer": "ipython3",
   "version": "3.8.2"
  }
 },
 "nbformat": 4,
 "nbformat_minor": 2
}
