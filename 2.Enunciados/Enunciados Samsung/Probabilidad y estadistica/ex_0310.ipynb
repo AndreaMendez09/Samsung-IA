{
 "cells": [
  {
   "cell_type": "markdown",
   "metadata": {},
   "source": [
    "## Ejercicio de codificación #0310"
   ]
  },
  {
   "cell_type": "markdown",
   "metadata": {},
   "source": [
    "### 1. Tests Chi-squared:"
   ]
  },
  {
   "cell_type": "code",
   "execution_count": null,
   "metadata": {},
   "outputs": [],
   "source": [
    "import pandas as pd\n",
    "import numpy as np\n",
    "import scipy.stats as st"
   ]
  },
  {
   "cell_type": "markdown",
   "metadata": {},
   "source": [
    "#### 1.1. Para tablas de una vía:"
   ]
  },
  {
   "cell_type": "markdown",
   "metadata": {},
   "source": [
    "Supongamos que tenemos una tabla de frecuencias de *color de ojos* de 592 adultos. <br>"
   ]
  },
  {
   "cell_type": "code",
   "execution_count": null,
   "metadata": {},
   "outputs": [],
   "source": [
    "# Datos.\n",
    "data = np.array([220, 215, 93,64])\n",
    "eye = pd.Series(data,index=['Brown','Blue','Hazel','Green'])\n",
    "eye"
   ]
  },
  {
   "cell_type": "markdown",
   "metadata": {},
   "source": [
    "Realizar un test $\\chi^2$ para determinar si estas observaciones son compatibles con que todos los tipos de ojos aparezcan con la misma frecuencia."
   ]
  },
  {
   "cell_type": "code",
   "execution_count": null,
   "metadata": {},
   "outputs": [],
   "source": [
    "# Tabla de proporciones.\n",
    "eye/eye.sum()"
   ]
  },
  {
   "cell_type": "code",
   "execution_count": null,
   "metadata": {},
   "outputs": [],
   "source": [
    "# Comparar con el modelo predeterminado de frecuencias iguales.\n",
    "# Concluimos que los datos y el modelo proporcionado no coinciden.\n",
    "st.chisquare(eye)"
   ]
  },
  {
   "cell_type": "code",
   "execution_count": null,
   "metadata": {},
   "outputs": [],
   "source": [
    "# Comparar con el modelo proporcionado por el usuario.\n",
    "# Nuevamente, este modelo corresponde a frecuencias iguales.\n",
    "# Concluimos que los datos y el modelo proporcionado no coinciden.\n",
    "my_model = len(eye)*[np.mean(eye)]\n",
    "print(my_model)\n",
    "st.chisquare(f_obs=eye,f_exp = my_model)"
   ]
  },
  {
   "cell_type": "markdown",
   "metadata": {},
   "source": [
    "Repetir el test $\\chi^2$ con las frecuencias $0.40,0.33,0.15,0.12$. Discutir el resultado."
   ]
  },
  {
   "cell_type": "code",
   "execution_count": null,
   "metadata": {},
   "outputs": [],
   "source": [
    "# Comparar con el modelo proporcionado por el usuario.\n",
    "# Se proporciona un modelo más realista.\n",
    "# Concluimos que los datos y el modelo proporcionado coinciden.\n",
    "my_model = eye.sum()*np.array([0.40,0.33,0.15,0.12])\n",
    "print(my_model)\n",
    "st.chisquare(f_obs=eye,f_exp = my_model )"
   ]
  },
  {
   "cell_type": "markdown",
   "metadata": {},
   "source": [
    "Obsérvese que el test se acepta a nivel 0.05 (sobradamente), incluso aunque las frecuencias no coincidan con las frecuencias reales."
   ]
  },
  {
   "cell_type": "markdown",
   "metadata": {},
   "source": [
    "#### 1.2. Para tablas de dos vías:"
   ]
  },
  {
   "cell_type": "markdown",
   "metadata": {},
   "source": [
    "Supongamos que tenemos una tabla de contingencia de *color de ojos* vs *color de cabello* de 592 adultos. <br>\n",
    "Realice un prueba $\\chi^2$ de independencia."
   ]
  },
  {
   "cell_type": "code",
   "execution_count": null,
   "metadata": {},
   "outputs": [],
   "source": [
    "# Datos.\n",
    "# Etiqueta de fila = color de cabello.\n",
    "# Etiqueta de columna = color de ojos.\n",
    "data_eye = {'Brown': [68,119,26,7], 'Blue':[20,84,17,94], 'Hazel':[15,54,14,10], 'Green':[5, 29, 14,16]}\n",
    "data = pd.DataFrame(data_eye,index=['Black','Brown','Red','Blonde'])\n",
    "data"
   ]
  },
  {
   "cell_type": "code",
   "execution_count": null,
   "metadata": {},
   "outputs": [],
   "source": [
    "# Prueba estadística, valor-p, grado de libertad, tabla de frecuencia esperada.\n",
    "# Concluimos que el color de ojos y el color de cabello no son independientes.\n",
    "st.chi2_contingency(data)"
   ]
  },
  {
   "cell_type": "markdown",
   "metadata": {},
   "source": [
    "Supongamos que tenemos una tabla de contingencia de la *clase de habitación* vs *superviviente* del RMS Titanic. <br>\n",
    "Realicemos la prueba $\\chi^2$ de independencia. Disculta los resultados."
   ]
  },
  {
   "cell_type": "code",
   "execution_count": null,
   "metadata": {},
   "outputs": [],
   "source": [
    "# Datos.\n",
    "# Etiqueta de fila = clase de habitación.\n",
    "# Etiqueta de columna = sobrevivió.\n",
    "data_survived = {'Yes':[122, 167, 528, 673], 'No':[203,118,178,212]}\n",
    "data = pd.DataFrame(data_survived,index=['1st','2nd','3rd','Crew'])\n",
    "data"
   ]
  },
  {
   "cell_type": "code",
   "execution_count": null,
   "metadata": {},
   "outputs": [],
   "source": [
    "# Prueba estadística, valor-p, grado de libertad, tabla de frecuencia esperada.\n",
    "# Concluimos que la clase de habitación y los sobrevivientes no son independientes.\n",
    "st.chi2_contingency(data)"
   ]
  },
  {
   "cell_type": "code",
   "execution_count": null,
   "metadata": {},
   "outputs": [],
   "source": []
  }
 ],
 "metadata": {
  "kernelspec": {
   "display_name": "Python 3",
   "language": "python",
   "name": "python3"
  },
  "language_info": {
   "codemirror_mode": {
    "name": "ipython",
    "version": 3
   },
   "file_extension": ".py",
   "mimetype": "text/x-python",
   "name": "python",
   "nbconvert_exporter": "python",
   "pygments_lexer": "ipython3",
   "version": "3.8.8"
  }
 },
 "nbformat": 4,
 "nbformat_minor": 2
}
