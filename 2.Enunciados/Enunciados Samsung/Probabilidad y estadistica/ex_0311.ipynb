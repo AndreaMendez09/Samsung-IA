{
 "cells": [
  {
   "cell_type": "markdown",
   "metadata": {},
   "source": [
    "## Ejercicio de codificación #0311"
   ]
  },
  {
   "cell_type": "markdown",
   "metadata": {},
   "source": [
    "### 1. Test $\\chi^2$ para la varianza:"
   ]
  },
  {
   "cell_type": "code",
   "execution_count": null,
   "metadata": {},
   "outputs": [],
   "source": [
    "import pandas as pd\n",
    "import numpy as np\n",
    "import scipy.stats as st\n",
    "import os"
   ]
  },
  {
   "cell_type": "code",
   "execution_count": null,
   "metadata": {},
   "outputs": [],
   "source": [
    "# Simular los datos.\n",
    "np.random.seed(1234)\n",
    "n = 20\n",
    "mu = 10\n",
    "sigma = 2\n",
    "x = np.random.randn(n)*sigma + mu  \n",
    "ssq = x.var(ddof=1)                                  # s^2"
   ]
  },
  {
   "cell_type": "markdown",
   "metadata": {},
   "source": [
    "#### 1.1. Usando el rango de aceptación (región):\n",
    "\n",
    "Realizar un test de hipótesis $\\chi^2$ para la varianza para evaluar si la varianza de la muestra 'x' anterior es compatible con valer $4$. Realice análisis de dos colas, así como de cola izquierda y derecha."
   ]
  },
  {
   "cell_type": "code",
   "execution_count": null,
   "metadata": {},
   "outputs": [],
   "source": [
    "# Estadística de prueba.\n",
    "sigma0sq = 2**2                                      # simga_0^2\n",
    "test_stat = (n-1)*ssq/sigma0sq                       \n",
    "print(\"Test statistic : %f \" % test_stat)\n",
    "# Obtenga el rango de aceptación como un objeto de diccionario.\n",
    "acceptance_range = {'low': st.chi2.ppf(0.025,n-1), 'high': st.chi2.ppf(0.975,n-1)}\n",
    "acceptance_range\n",
    "# Como el estadístico de prueba pertenece al rango de aceptación, concluimos que s ^ 2 = simga_0 ^ 2."
   ]
  },
  {
   "cell_type": "markdown",
   "metadata": {},
   "source": [
    "#### 1.2. Usando el valor-p:"
   ]
  },
  {
   "cell_type": "code",
   "execution_count": null,
   "metadata": {},
   "outputs": [],
   "source": [
    "# Cola derecha.\n",
    "p_value1 = 1 - st.chi2.cdf(test_stat,n-1)\n",
    "p_value1"
   ]
  },
  {
   "cell_type": "code",
   "execution_count": null,
   "metadata": {},
   "outputs": [],
   "source": [
    "# Cola izquierda.\n",
    "p_value2 = st.chi2.cdf(test_stat,n-1)\n",
    "p_value2"
   ]
  },
  {
   "cell_type": "code",
   "execution_count": null,
   "metadata": {},
   "outputs": [],
   "source": [
    "# Dos colas.\n",
    "p_value3 = 2*p_value1\n",
    "p_value3"
   ]
  }
 ],
 "metadata": {
  "kernelspec": {
   "display_name": "Python 3",
   "language": "python",
   "name": "python3"
  },
  "language_info": {
   "codemirror_mode": {
    "name": "ipython",
    "version": 3
   },
   "file_extension": ".py",
   "mimetype": "text/x-python",
   "name": "python",
   "nbconvert_exporter": "python",
   "pygments_lexer": "ipython3",
   "version": "3.8.2"
  }
 },
 "nbformat": 4,
 "nbformat_minor": 2
}
