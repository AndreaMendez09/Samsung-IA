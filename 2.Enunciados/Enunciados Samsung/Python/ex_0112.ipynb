{
 "cells": [
  {
   "cell_type": "markdown",
   "metadata": {},
   "source": [
    "## Ejercicio de codificación #0112"
   ]
  },
  {
   "cell_type": "markdown",
   "metadata": {},
   "source": [
    "### 1. Trabajando con documentos Excel:"
   ]
  },
  {
   "cell_type": "code",
   "execution_count": null,
   "metadata": {},
   "outputs": [],
   "source": [
    "# Intalar la libraría.\n",
    "!pip install openpyxl"
   ]
  },
  {
   "cell_type": "code",
   "execution_count": null,
   "metadata": {},
   "outputs": [],
   "source": [
    "# Importar las librerías necesarias.\n",
    "import openpyxl\n",
    "import os"
   ]
  },
  {
   "cell_type": "code",
   "execution_count": null,
   "metadata": {},
   "outputs": [],
   "source": [
    "# Ir al directorio dónde se encuentra el ficheros. \n",
    "os.chdir(r'~~')                # Reemplazar con la ruta utilizada.   "
   ]
  },
  {
   "cell_type": "markdown",
   "metadata": {},
   "source": [
    "#### 1.1. Trabajando con documentos existentes: "
   ]
  },
  {
   "cell_type": "code",
   "execution_count": null,
   "metadata": {},
   "outputs": [],
   "source": [
    "wb = openpyxl.load_workbook('my_excel_workbook.xlsx')      # Abre un libro.\n",
    "wb.sheetnames                                              # Muestras las hojas incluidas."
   ]
  },
  {
   "cell_type": "code",
   "execution_count": null,
   "metadata": {},
   "outputs": [],
   "source": [
    "sh = wb['Sheet1']                                 # Recupera la hoja 'Sheet1' como un objeto.\n",
    "cl = sh['A1']                                     # Recupera la celda 'A1' como un objeto.\n",
    "print(cl.value)                                   # Muestra el valor de la celda.\n",
    "print(sh['A1'].value)                             # Another way to show the value of 'A1' cell.\n",
    "print(sh.cell(1,1).value)                         # Get the cell value by specifying the row and column positions."
   ]
  },
  {
   "cell_type": "code",
   "execution_count": null,
   "metadata": {},
   "outputs": [],
   "source": [
    "# Muestra los valores de diversas celdas.\n",
    "for i in range(1,11):\n",
    "     print(sh.cell(i,1).value )"
   ]
  },
  {
   "cell_type": "markdown",
   "metadata": {},
   "source": [
    "#### 1.2. Creando un nuevo documento: "
   ]
  },
  {
   "cell_type": "code",
   "execution_count": null,
   "metadata": {},
   "outputs": [],
   "source": [
    "# Crea un nuevo libro.\n",
    "my_wb = openpyxl.Workbook()           # Crea un nuevo libro en memoria.\n",
    "print(my_wb.sheetnames)               # Se crea con una única hoja 'Sheet'."
   ]
  },
  {
   "cell_type": "code",
   "execution_count": null,
   "metadata": {},
   "outputs": [],
   "source": [
    "# Manipulando el contenido del nuevo libro.\n",
    "my_sh = my_wb['Sheet']                  \n",
    "my_sh['A1'].value = 999                  # Cambiar el valor de una celda.\n",
    "my_sh['A2'] = 666                        # Cambiar el valor de una celda.\n",
    "my_sh.title = 'MySheet1'                 # Cambiar el nombre de la hoja.\n",
    "my_sh2 = my_wb.create_sheet(index = 0, title = 'MySheet2')    # Añadir una nueva hoja.\n",
    "my_sh2['A1'].value = 777                 # Cambiar el valor de una celda de la nueva hoja. \n",
    "print(my_wb.sheetnames)"
   ]
  },
  {
   "cell_type": "code",
   "execution_count": null,
   "metadata": {},
   "outputs": [],
   "source": [
    "# Salvar el libro como un fichero.\n",
    "my_wb.save('my_new_excel_workbook.xlsx')"
   ]
  },
  {
   "cell_type": "code",
   "execution_count": null,
   "metadata": {},
   "outputs": [],
   "source": []
  }
 ],
 "metadata": {
  "kernelspec": {
   "display_name": "Python 3",
   "language": "python",
   "name": "python3"
  },
  "language_info": {
   "codemirror_mode": {
    "name": "ipython",
    "version": 3
   },
   "file_extension": ".py",
   "mimetype": "text/x-python",
   "name": "python",
   "nbconvert_exporter": "python",
   "pygments_lexer": "ipython3",
   "version": "3.8.3"
  }
 },
 "nbformat": 4,
 "nbformat_minor": 2
}
