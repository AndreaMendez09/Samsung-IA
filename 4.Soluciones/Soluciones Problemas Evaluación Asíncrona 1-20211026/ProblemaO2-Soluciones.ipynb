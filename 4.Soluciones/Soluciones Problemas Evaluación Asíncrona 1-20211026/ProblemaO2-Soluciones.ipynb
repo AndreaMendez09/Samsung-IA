{
 "cells": [
  {
   "cell_type": "markdown",
   "metadata": {},
   "source": [
    "## Prueba #0305"
   ]
  },
  {
   "cell_type": "markdown",
   "metadata": {},
   "source": [
    "### \"Correlación e intervalo de estimación\""
   ]
  },
  {
   "cell_type": "code",
   "execution_count": 14,
   "metadata": {},
   "outputs": [],
   "source": [
    "import numpy as np\n",
    "import scipy.stats as st"
   ]
  },
  {
   "cell_type": "markdown",
   "metadata": {},
   "source": [
    "#### Responda las siguientes preguntas proporcionando código Python:"
   ]
  },
  {
   "cell_type": "markdown",
   "metadata": {},
   "source": [
    "Calcule los intervalos de confianza del 95% y el 99% para la correlación de Pearson. <br>\n",
    "Analice si el intervalo de confianza incluye cero o no."
   ]
  },
  {
   "cell_type": "markdown",
   "metadata": {},
   "source": [
    "1) Cuando el tamaño de la muestra $n = 30$ y la correlación de la muestra $r = 0.45$:"
   ]
  },
  {
   "cell_type": "code",
   "execution_count": 15,
   "metadata": {},
   "outputs": [],
   "source": [
    "n = 30\n",
    "r = 0.45\n",
    "R = np.arctanh(r)"
   ]
  },
  {
   "cell_type": "code",
   "execution_count": 16,
   "metadata": {},
   "outputs": [
    {
     "name": "stdout",
     "output_type": "stream",
     "text": [
      "0.10709278247377604\n",
      "0.6972330057657297\n"
     ]
    }
   ],
   "source": [
    "# Intervalo de confianza del 95%. \n",
    "beta = 0.95\n",
    "low_value = np.tanh(R-st.norm.ppf((beta+1)/2)/np.sqrt(n-3))\n",
    "high_value = np.tanh(R+st.norm.ppf((beta+1)/2)/np.sqrt(n-3))\n",
    "\n",
    "print(low_value)\n",
    "print(high_value)\n",
    "# Concluimos que el intervalo de confianza excluye cero."
   ]
  },
  {
   "cell_type": "code",
   "execution_count": 17,
   "metadata": {},
   "outputs": [
    {
     "name": "stdout",
     "output_type": "stream",
     "text": [
      "-0.0110178561395322\n",
      "0.7532471683684436\n"
     ]
    }
   ],
   "source": [
    "# Intervalo de confianza del 99%. \n",
    "beta = 0.99\n",
    "low_value = np.tanh(R-st.norm.ppf((beta+1)/2)/np.sqrt(n-3))\n",
    "high_value = np.tanh(R+st.norm.ppf((beta+1)/2)/np.sqrt(n-3))\n",
    "\n",
    "print(low_value)\n",
    "print(high_value)\n",
    "# Concluimos que el intervalo de confianza incluye cero.\n",
    "# Concluimos que la correlación muestral no se puede distinguir de cero."
   ]
  },
  {
   "cell_type": "markdown",
   "metadata": {},
   "source": [
    "2). Cuando el tamaño de la muestra $n = 300$ y la correlación de la muestra $r = -0,2$:"
   ]
  },
  {
   "cell_type": "code",
   "execution_count": 18,
   "metadata": {},
   "outputs": [],
   "source": [
    "n = 300\n",
    "r = -0.2\n",
    "R = np.arctanh(r)"
   ]
  },
  {
   "cell_type": "code",
   "execution_count": 19,
   "metadata": {},
   "outputs": [
    {
     "name": "stdout",
     "output_type": "stream",
     "text": [
      "-0.30630362326590993\n",
      "-0.08876963035471495\n"
     ]
    }
   ],
   "source": [
    "# Intervalo de confianza del 95%. \n",
    "beta = 0.95\n",
    "low_value = np.tanh(R-st.norm.ppf((beta+1)/2)/np.sqrt(n-3))\n",
    "high_value = np.tanh(R+st.norm.ppf((beta+1)/2)/np.sqrt(n-3))\n",
    "\n",
    "print(low_value)\n",
    "print(high_value)\n",
    "# Concluimos que el intervalo de confianza excluye cero."
   ]
  },
  {
   "cell_type": "code",
   "execution_count": 20,
   "metadata": {},
   "outputs": [
    {
     "name": "stdout",
     "output_type": "stream",
     "text": [
      "-0.3383228071595094\n",
      "-0.05321745374020949\n"
     ]
    }
   ],
   "source": [
    "# Intervalo de confianza del 99%. \n",
    "beta = 0.99\n",
    "low_value = np.tanh(R-st.norm.ppf((beta+1)/2)/np.sqrt(n-3))\n",
    "high_value = np.tanh(R+st.norm.ppf((beta+1)/2)/np.sqrt(n-3))\n",
    "\n",
    "print(low_value)\n",
    "print(high_value)\n",
    "# Concluimos que el intervalo de confianza excluye cero."
   ]
  },
  {
   "cell_type": "code",
   "execution_count": null,
   "metadata": {},
   "outputs": [],
   "source": []
  }
 ],
 "metadata": {
  "kernelspec": {
   "display_name": "Python 3",
   "language": "python",
   "name": "python3"
  },
  "language_info": {
   "codemirror_mode": {
    "name": "ipython",
    "version": 3
   },
   "file_extension": ".py",
   "mimetype": "text/x-python",
   "name": "python",
   "nbconvert_exporter": "python",
   "pygments_lexer": "ipython3",
   "version": "3.6.9"
  }
 },
 "nbformat": 4,
 "nbformat_minor": 2
}
