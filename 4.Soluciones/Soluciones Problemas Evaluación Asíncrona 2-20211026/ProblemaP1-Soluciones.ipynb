{
 "cells": [
  {
   "cell_type": "markdown",
   "metadata": {},
   "source": [
    "## Prueba #0301"
   ]
  },
  {
   "cell_type": "markdown",
   "metadata": {},
   "source": [
    "### \"Tamaño de la muestra\""
   ]
  },
  {
   "cell_type": "code",
   "execution_count": 2,
   "metadata": {},
   "outputs": [],
   "source": [
    "import numpy as np\n",
    "import scipy.stats as st"
   ]
  },
  {
   "cell_type": "markdown",
   "metadata": {},
   "source": [
    "#### Responda las siguientes preguntas proporcionando código Python:"
   ]
  },
  {
   "cell_type": "markdown",
   "metadata": {},
   "source": [
    "Se sabe que el peso de los estudiantes de la escuela se distribuye con una distribución normal de desviación típica $\\sigma = 3$ kg. <br>\n",
    "Calcule el tamaño de muestra *mínimo* en cada uno de los siguientes casos."
   ]
  },
  {
   "cell_type": "code",
   "execution_count": 17,
   "metadata": {},
   "outputs": [],
   "source": [
    "sigma = 3.0"
   ]
  },
  {
   "cell_type": "markdown",
   "metadata": {},
   "source": [
    "1) Cuando queremos que el ancho total del intervalo de confianza del 95% para la media sea inferior a 2 kg:\n",
    "**NOTA**: Use la distribución normal para calcular el intervalo de confianza."
   ]
  },
  {
   "cell_type": "code",
   "execution_count": 6,
   "metadata": {},
   "outputs": [
    {
     "data": {
      "text/plain": [
       "35"
      ]
     },
     "execution_count": 6,
     "metadata": {},
     "output_type": "execute_result"
    }
   ],
   "source": [
    "import numpy as np\n",
    "import scipy.stats as st\n",
    "\n",
    "# La longitud del intervalo de confianza es L = 2*Delta_beta*sigma/sqrt(n).\n",
    "# Luego, despejando, se tiene n = (2*Delta_beta*siga/L)**2\n",
    "\n",
    "L = 2\n",
    "Delta_beta = st.norm.ppf((0.95+1)/2)\n",
    "n = (2*Delta_beta*sigma/L)**2\n",
    "int(np.ceil(n))"
   ]
  },
  {
   "cell_type": "markdown",
   "metadata": {},
   "source": [
    "2). Cuando queremos que el ancho total del intervalo de confianza del 95% para la media sea inferior a 2 kg: <br>\n",
    "**NOTA**: Utilice la distribución $t$ de Student.\n",
    "\n",
    "*SUGERENCIA*: Como la distribución de $t$ de Student depende de $n$, este ejercicio es más complejo que el anterior."
   ]
  },
  {
   "cell_type": "code",
   "execution_count": 22,
   "metadata": {},
   "outputs": [
    {
     "name": "stdout",
     "output_type": "stream",
     "text": [
      "38\n"
     ]
    }
   ],
   "source": [
    "# En este caso, la solucion es similar\n",
    "# L = 2*Delta_beta^t*sigma/sqrt(n), pero Delta_beta^t depende de\n",
    "# n, así que hay que ir probando con distintos valores de n\n",
    "# hasta que esta cantidad es menor que 2\n",
    "\n",
    "n = 1\n",
    "L = 1000\n",
    "while L > 2:\n",
    "    n += 1\n",
    "    df = n-1\n",
    "    Delta_beta_t = st.t.ppf(0.975,df)\n",
    "    L = 2*Delta_beta_t*sigma/np.sqrt(n)\n",
    "    \n",
    "print(n)"
   ]
  }
 ],
 "metadata": {
  "kernelspec": {
   "display_name": "Python 3",
   "language": "python",
   "name": "python3"
  },
  "language_info": {
   "codemirror_mode": {
    "name": "ipython",
    "version": 3
   },
   "file_extension": ".py",
   "mimetype": "text/x-python",
   "name": "python",
   "nbconvert_exporter": "python",
   "pygments_lexer": "ipython3",
   "version": "3.6.9"
  }
 },
 "nbformat": 4,
 "nbformat_minor": 2
}
