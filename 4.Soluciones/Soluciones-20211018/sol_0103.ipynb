{
 "cells": [
  {
   "cell_type": "markdown",
   "metadata": {},
   "source": [
    "## Prueba #0103 (Solución)"
   ]
  },
  {
   "cell_type": "markdown",
   "metadata": {},
   "source": [
    "#### Codifique la clase llamada 'Calculadora' que genera el resultado como se muestra."
   ]
  },
  {
   "cell_type": "code",
   "execution_count": 5,
   "metadata": {},
   "outputs": [],
   "source": [
    "class Calculator:\n",
    "    def __init__(self, a, b):\n",
    "        self.a = a\n",
    "        self.b = b\n",
    "    \n",
    "    def sum(self):\n",
    "        return (self.a+self.b)\n",
    "    \n",
    "    def subtract(self):\n",
    "        return (self.a-self.b)\n",
    "    \n",
    "    def product(self):\n",
    "        return (self.a*self.b)\n",
    "    \n",
    "    def divide(self):\n",
    "        return (self.a/self.b)"
   ]
  },
  {
   "cell_type": "markdown",
   "metadata": {},
   "source": [
    "Resultados de la prueba:"
   ]
  },
  {
   "cell_type": "code",
   "execution_count": 6,
   "metadata": {},
   "outputs": [],
   "source": [
    "calc1 = Calculator(5,3)\n",
    "calc2 = Calculator(10,2)"
   ]
  },
  {
   "cell_type": "code",
   "execution_count": 7,
   "metadata": {},
   "outputs": [
    {
     "name": "stdout",
     "output_type": "stream",
     "text": [
      "8\n",
      "2\n",
      "15\n",
      "1.6666666666666667\n"
     ]
    }
   ],
   "source": [
    "print(calc1.sum())\n",
    "print(calc1.subtract())\n",
    "print(calc1.product())\n",
    "print(calc1.divide())"
   ]
  },
  {
   "cell_type": "code",
   "execution_count": 8,
   "metadata": {},
   "outputs": [
    {
     "name": "stdout",
     "output_type": "stream",
     "text": [
      "12\n",
      "8\n",
      "20\n",
      "5.0\n"
     ]
    }
   ],
   "source": [
    "print(calc2.sum())\n",
    "print(calc2.subtract())\n",
    "print(calc2.product())\n",
    "print(calc2.divide())"
   ]
  },
  {
   "cell_type": "code",
   "execution_count": null,
   "metadata": {},
   "outputs": [],
   "source": []
  }
 ],
 "metadata": {
  "kernelspec": {
   "display_name": "Python 3",
   "language": "python",
   "name": "python3"
  },
  "language_info": {
   "codemirror_mode": {
    "name": "ipython",
    "version": 3
   },
   "file_extension": ".py",
   "mimetype": "text/x-python",
   "name": "python",
   "nbconvert_exporter": "python",
   "pygments_lexer": "ipython3",
   "version": "3.8.8"
  }
 },
 "nbformat": 4,
 "nbformat_minor": 2
}
