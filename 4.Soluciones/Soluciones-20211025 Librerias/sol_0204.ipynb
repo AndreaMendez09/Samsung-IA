{
 "cells": [
  {
   "cell_type": "markdown",
   "metadata": {},
   "source": [
    "## Prueba #0204 (Solución)"
   ]
  },
  {
   "cell_type": "code",
   "execution_count": 1,
   "metadata": {
    "ExecuteTime": {
     "end_time": "2021-10-04T15:25:06.540326Z",
     "start_time": "2021-10-04T15:25:06.271380Z"
    }
   },
   "outputs": [],
   "source": [
    "import pandas as pd\n",
    "import numpy as np\n",
    "import os\n",
    "import matplotlib.pyplot as plt\n",
    "%matplotlib inline"
   ]
  },
  {
   "cell_type": "markdown",
   "metadata": {},
   "source": [
    "#### Leer los datos."
   ]
  },
  {
   "cell_type": "code",
   "execution_count": 2,
   "metadata": {
    "ExecuteTime": {
     "end_time": "2021-10-04T15:25:07.146308Z",
     "start_time": "2021-10-04T15:25:07.144286Z"
    }
   },
   "outputs": [],
   "source": [
    "# Ir al directorio en el que se encuentra el archivo. \n",
    "os.chdir(r'./')                # Reemplazar por la ruta correcta."
   ]
  },
  {
   "cell_type": "code",
   "execution_count": 3,
   "metadata": {
    "ExecuteTime": {
     "end_time": "2021-10-04T15:25:07.579678Z",
     "start_time": "2021-10-04T15:25:07.559478Z"
    }
   },
   "outputs": [],
   "source": [
    "df = pd.read_csv('data_coffeeshop.csv', header='infer',na_values=[' '])"
   ]
  },
  {
   "cell_type": "code",
   "execution_count": 4,
   "metadata": {
    "ExecuteTime": {
     "end_time": "2021-10-04T15:25:08.038352Z",
     "start_time": "2021-10-04T15:25:08.033231Z"
    }
   },
   "outputs": [
    {
     "data": {
      "text/plain": [
       "(43182, 3)"
      ]
     },
     "execution_count": 4,
     "metadata": {},
     "output_type": "execute_result"
    }
   ],
   "source": [
    "df.shape"
   ]
  },
  {
   "cell_type": "code",
   "execution_count": 5,
   "metadata": {
    "ExecuteTime": {
     "end_time": "2021-10-04T15:25:08.538868Z",
     "start_time": "2021-10-04T15:25:08.528652Z"
    }
   },
   "outputs": [
    {
     "data": {
      "text/html": [
       "<div>\n",
       "<style scoped>\n",
       "    .dataframe tbody tr th:only-of-type {\n",
       "        vertical-align: middle;\n",
       "    }\n",
       "\n",
       "    .dataframe tbody tr th {\n",
       "        vertical-align: top;\n",
       "    }\n",
       "\n",
       "    .dataframe thead th {\n",
       "        text-align: right;\n",
       "    }\n",
       "</style>\n",
       "<table border=\"1\" class=\"dataframe\">\n",
       "  <thead>\n",
       "    <tr style=\"text-align: right;\">\n",
       "      <th></th>\n",
       "      <th>yearOfStart</th>\n",
       "      <th>CurrentState</th>\n",
       "      <th>sizeOfsite</th>\n",
       "    </tr>\n",
       "  </thead>\n",
       "  <tbody>\n",
       "    <tr>\n",
       "      <th>0</th>\n",
       "      <td>2008.0</td>\n",
       "      <td>In</td>\n",
       "      <td>20.80</td>\n",
       "    </tr>\n",
       "    <tr>\n",
       "      <th>1</th>\n",
       "      <td>2010.0</td>\n",
       "      <td>In</td>\n",
       "      <td>212.72</td>\n",
       "    </tr>\n",
       "    <tr>\n",
       "      <th>2</th>\n",
       "      <td>2013.0</td>\n",
       "      <td>In</td>\n",
       "      <td>20.04</td>\n",
       "    </tr>\n",
       "    <tr>\n",
       "      <th>3</th>\n",
       "      <td>2012.0</td>\n",
       "      <td>In</td>\n",
       "      <td>64.17</td>\n",
       "    </tr>\n",
       "    <tr>\n",
       "      <th>4</th>\n",
       "      <td>2002.0</td>\n",
       "      <td>Out</td>\n",
       "      <td>11.40</td>\n",
       "    </tr>\n",
       "  </tbody>\n",
       "</table>\n",
       "</div>"
      ],
      "text/plain": [
       "   yearOfStart CurrentState  sizeOfsite\n",
       "0       2008.0           In       20.80\n",
       "1       2010.0           In      212.72\n",
       "2       2013.0           In       20.04\n",
       "3       2012.0           In       64.17\n",
       "4       2002.0          Out       11.40"
      ]
     },
     "execution_count": 5,
     "metadata": {},
     "output_type": "execute_result"
    }
   ],
   "source": [
    "df.head(5)"
   ]
  },
  {
   "cell_type": "markdown",
   "metadata": {},
   "source": [
    "#### Responda las siguientes cuestiones."
   ]
  },
  {
   "cell_type": "markdown",
   "metadata": {},
   "source": [
    "1). Haga una tabla de frecuencia de 'yearOfStart' y visualícela por año.\n",
    "- Ordenar por año.\n",
    "- Dibuje una gráfica de línea de 1997 a 2014. <= Pista: plt.xlim ()"
   ]
  },
  {
   "cell_type": "code",
   "execution_count": 6,
   "metadata": {
    "ExecuteTime": {
     "end_time": "2021-10-04T15:25:10.940261Z",
     "start_time": "2021-10-04T15:25:10.935354Z"
    }
   },
   "outputs": [],
   "source": [
    "table = df.yearOfStart.value_counts()\n",
    "table = table.sort_index()"
   ]
  },
  {
   "cell_type": "code",
   "execution_count": 7,
   "metadata": {
    "ExecuteTime": {
     "end_time": "2021-10-04T15:25:11.989804Z",
     "start_time": "2021-10-04T15:25:11.789614Z"
    }
   },
   "outputs": [
    {
     "data": {
      "image/png": "[encoded data removed]",
      "text/plain": [
       "<Figure size 432x288 with 1 Axes>"
      ]
     },
     "metadata": {
      "needs_background": "light"
     },
     "output_type": "display_data"
    }
   ],
   "source": [
    "plt.plot(table.index, table.values, color='blue', alpha=0.5, linewidth=2, linestyle='--')\n",
    "plt.xlim([1997, 2014])\n",
    "plt.show()"
   ]
  },
  {
   "cell_type": "markdown",
   "metadata": {},
   "source": [
    "2). Ahora, divida los datos por el estado actual del negocio ('In' o 'Out' del negocio). Luego, visualice la tendencia anual de las frecuencias 'yearOfStart'.\n",
    "- Ordenar por año.\n",
    "- Dibuja dos gráficos de líneas superpuestas de 1997 a 2014.\n",
    "- Use el objeto 'figure'."
   ]
  },
  {
   "cell_type": "code",
   "execution_count": 8,
   "metadata": {
    "ExecuteTime": {
     "end_time": "2021-10-04T15:25:16.517691Z",
     "start_time": "2021-10-04T15:25:16.503558Z"
    }
   },
   "outputs": [],
   "source": [
    "# Dividir los datos por el estado actual del negocio.\n",
    "df_in = df[df.CurrentState == 'In']                      # En negocio.\n",
    "df_out = df[df.CurrentState == 'Out']                    # Fuera del negocio."
   ]
  },
  {
   "cell_type": "code",
   "execution_count": 9,
   "metadata": {
    "ExecuteTime": {
     "end_time": "2021-10-04T15:25:18.253673Z",
     "start_time": "2021-10-04T15:25:18.247170Z"
    }
   },
   "outputs": [],
   "source": [
    "# Tablas de frecuencia.\n",
    "table_in = df_in.yearOfStart.value_counts()\n",
    "table_in = table_in.sort_index()\n",
    "table_out = df_out.yearOfStart.value_counts()\n",
    "table_out = table_out.sort_index()"
   ]
  },
  {
   "cell_type": "code",
   "execution_count": 10,
   "metadata": {
    "ExecuteTime": {
     "end_time": "2021-10-04T15:25:19.452909Z",
     "start_time": "2021-10-04T15:25:19.271345Z"
    }
   },
   "outputs": [
    {
     "data": {
      "image/png": "[encoded data removed]",
      "text/plain": [
       "<Figure size 360x216 with 1 Axes>"
      ]
     },
     "metadata": {
      "needs_background": "light"
     },
     "output_type": "display_data"
    }
   ],
   "source": [
    "# Visualice como dos gráficos de líneas superpuestas.\n",
    "fig = plt.figure(figsize=[5,3])\n",
    "my_axes = fig.add_axes([0,0,1,1])\n",
    "my_axes.plot(table_in.index, table_in.values, color = 'blue', linestyle='--',label='In Business')\n",
    "my_axes.plot(table_out.index, table_out.values,color = 'red', linestyle='-.', label='Out of Business')\n",
    "my_axes.legend(loc=0)\n",
    "my_axes.set_xlim([1997, 2014])\n",
    "plt.show()"
   ]
  },
  {
   "cell_type": "markdown",
   "metadata": {},
   "source": [
    "3). A partir de los resultados de 1) y 2), ¿cómo puede describir la tendencia en general?"
   ]
  },
  {
   "cell_type": "markdown",
   "metadata": {},
   "source": [
    "- Alrededor del año 2008, comenzó un fuerte aumento en el número de nuevas cafeterías.\n",
    "- A partir del año 2014, más cafeterías abiertas en los últimos 5 años todavía están en el negocio en lugar de cerrar."
   ]
  }
 ],
 "metadata": {
  "kernelspec": {
   "display_name": "Python 3",
   "language": "python",
   "name": "python3"
  },
  "language_info": {
   "codemirror_mode": {
    "name": "ipython",
    "version": 3
   },
   "file_extension": ".py",
   "mimetype": "text/x-python",
   "name": "python",
   "nbconvert_exporter": "python",
   "pygments_lexer": "ipython3",
   "version": "3.8.8"
  },
  "toc": {
   "base_numbering": 1,
   "nav_menu": {},
   "number_sections": false,
   "sideBar": true,
   "skip_h1_title": false,
   "title_cell": "Table of Contents",
   "title_sidebar": "Contents",
   "toc_cell": false,
   "toc_position": {},
   "toc_section_display": true,
   "toc_window_display": false
  }
 },
 "nbformat": 4,
 "nbformat_minor": 2
}
