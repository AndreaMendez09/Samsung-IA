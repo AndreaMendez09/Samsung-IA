{
 "cells": [
  {
   "cell_type": "markdown",
   "metadata": {},
   "source": [
    "## Ejercicio de codificación #0605"
   ]
  },
  {
   "cell_type": "code",
   "execution_count": null,
   "metadata": {},
   "outputs": [],
   "source": [
    "# Instalar Tweepy una única vez.\n",
    "# !pip install tweepy"
   ]
  },
  {
   "cell_type": "code",
   "execution_count": null,
   "metadata": {},
   "outputs": [],
   "source": [
    "import tweepy\n",
    "import re\n",
    "import os\n",
    "import pickle\n",
    "import nltk\n",
    "from nltk.corpus import stopwords\n",
    "from tweepy import OAuthHandler"
   ]
  },
  {
   "cell_type": "markdown",
   "metadata": {},
   "source": [
    "### 1. Obteniendo tweets de Twitter:\n",
    "Puede encontrar más información [aquí](http://docs.tweepy.org/en/v3.5.0/index.html)."
   ]
  },
  {
   "cell_type": "code",
   "execution_count": null,
   "metadata": {},
   "outputs": [],
   "source": [
    "# ¡POR FAVOR COMPLETE CON SUS PROPIAS CLAVES DEL API!\n",
    "my_consumer_key = \"\"\n",
    "my_consumer_secret = \"\"\n",
    "my_access_token = \"\"\n",
    "my_access_secret = \"\""
   ]
  },
  {
   "cell_type": "code",
   "execution_count": null,
   "metadata": {},
   "outputs": [],
   "source": [
    "# Inicializar los tokens.\n",
    "auth = OAuthHandler(my_consumer_key, my_consumer_secret)\n",
    "auth.set_access_token(my_access_token, my_access_secret)"
   ]
  },
  {
   "cell_type": "code",
   "execution_count": null,
   "metadata": {},
   "outputs": [],
   "source": [
    "my_keyword = \"Trump\"                           # Clave de búsqueda.\n",
    "my_location = \"40.71,-74.0,500km\"              # Location = latitud, longitud, radio.\n",
    "n_tweets = 100                                 # Número máximo de tweets."
   ]
  },
  {
   "cell_type": "code",
   "execution_count": null,
   "metadata": {},
   "outputs": [],
   "source": [
    "my_tweets = []\n",
    "api = tweepy.API(auth, timeout = 10)           # Timeout después de 10 segundos.\n",
    "for status in tweepy.Cursor(api.search, q = my_keyword + \" -filter:retweets\", lang=\"en\", result_type=\"recent\", geocode=my_location).items(n_tweets):\n",
    "    my_tweets.append(status.text)"
   ]
  },
  {
   "cell_type": "code",
   "execution_count": null,
   "metadata": {},
   "outputs": [],
   "source": [
    "print('\\n'.join(my_tweets))"
   ]
  },
  {
   "cell_type": "markdown",
   "metadata": {},
   "source": [
    "### 2. Preprocesando los tweets:"
   ]
  },
  {
   "cell_type": "code",
   "execution_count": null,
   "metadata": {},
   "outputs": [],
   "source": [
    "my_tweets_new = []\n",
    "for tweet in my_tweets:\n",
    "    tweet = tweet.lower()\n",
    "    tweet = re.sub(r\"^https://t.co/[a-zA-Z0-9]*\\s\", \" \", tweet)\n",
    "    tweet = re.sub(r\"\\s+https://t.co/[a-zA-Z0-9]*\\s\", \" \", tweet)\n",
    "    tweet = re.sub(r\"\\s+https://t.co/[a-zA-Z0-9]*$\", \" \", tweet)\n",
    "    tweet = re.sub(r\"that's\",\"that is\",tweet)\n",
    "    tweet = re.sub(r\"there's\",\"there is\",tweet)\n",
    "    tweet = re.sub(r\"what's\",\"what is\",tweet)\n",
    "    tweet = re.sub(r\"where's\",\"where is\",tweet)\n",
    "    tweet = re.sub(r\"it's\",\"it is\",tweet)\n",
    "    tweet = re.sub(r\"who's\",\"who is\",tweet)\n",
    "    tweet = re.sub(r\"i'm\",\"i am\",tweet)\n",
    "    tweet = re.sub(r\"she's\",\"she is\",tweet)\n",
    "    tweet = re.sub(r\"he's\",\"he is\",tweet)\n",
    "    tweet = re.sub(r\"they're\",\"they are\",tweet)\n",
    "    tweet = re.sub(r\"who're\",\"who are\",tweet)\n",
    "    tweet = re.sub(r\"ain't\",\"am not\",tweet)\n",
    "    tweet = re.sub(r\"wouldn't\",\"would not\",tweet)\n",
    "    tweet = re.sub(r\"shouldn't\",\"should not\",tweet)\n",
    "    tweet = re.sub(r\"can't\",\"can not\",tweet)\n",
    "    tweet = re.sub(r\"couldn't\",\"could not\",tweet)\n",
    "    tweet = re.sub(r\"won't\",\"will not\",tweet)\n",
    "    tweet = re.sub(r\"\\W\",\" \",tweet)\n",
    "    tweet = re.sub(r\"\\d\",\" \",tweet)\n",
    "    tweet = re.sub(r\"\\s+[a-z]\\s+\",\" \",tweet)\n",
    "    tweet = re.sub(r\"\\s+[a-z]$\",\" \",tweet)\n",
    "    tweet = re.sub(r\"^[a-z]\\s+\",\" \",tweet)\n",
    "    tweet = re.sub(r\"\\s+\",\" \",tweet)\n",
    "    words = nltk.word_tokenize(tweet)\n",
    "    words = [x for x in words if x not in stopwords.words('english')]\n",
    "    tweet = ' '.join(words) \n",
    "    my_tweets_new.append(tweet)"
   ]
  },
  {
   "cell_type": "code",
   "execution_count": null,
   "metadata": {},
   "outputs": [],
   "source": [
    "# Mostrando los tweets.\n",
    "i = 0\n",
    "for tw in my_tweets_new:\n",
    "    i += 1\n",
    "    print(str(i) + \" : \" + tw)"
   ]
  },
  {
   "cell_type": "code",
   "execution_count": null,
   "metadata": {},
   "outputs": [],
   "source": []
  }
 ],
 "metadata": {
  "kernelspec": {
   "display_name": "Python 3",
   "language": "python",
   "name": "python3"
  },
  "language_info": {
   "codemirror_mode": {
    "name": "ipython",
    "version": 3
   },
   "file_extension": ".py",
   "mimetype": "text/x-python",
   "name": "python",
   "nbconvert_exporter": "python",
   "pygments_lexer": "ipython3",
   "version": "3.7.4"
  }
 },
 "nbformat": 4,
 "nbformat_minor": 2
}
