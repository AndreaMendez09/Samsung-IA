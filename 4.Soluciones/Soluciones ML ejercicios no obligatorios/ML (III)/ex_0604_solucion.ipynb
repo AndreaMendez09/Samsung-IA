{
 "cells": [
  {
   "cell_type": "markdown",
   "metadata": {},
   "source": [
    "## Ejercicio de codificación #0604"
   ]
  },
  {
   "cell_type": "code",
   "execution_count": null,
   "metadata": {},
   "outputs": [],
   "source": [
    "# Instalar BeautifulSoup4 una única vez.\n",
    "# !pip install bs4"
   ]
  },
  {
   "cell_type": "code",
   "execution_count": null,
   "metadata": {},
   "outputs": [],
   "source": [
    "import requests as rq\n",
    "import bs4"
   ]
  },
  {
   "cell_type": "markdown",
   "metadata": {},
   "source": [
    "### 1. Adquisición de datos de una página web:"
   ]
  },
  {
   "cell_type": "markdown",
   "metadata": {},
   "source": [
    "#### 1.1. Utilizando la librería Requests:"
   ]
  },
  {
   "cell_type": "code",
   "execution_count": null,
   "metadata": {},
   "outputs": [],
   "source": [
    "# La URL de la que se obtienen los datos de texto.\n",
    "res = rq.get(\"https://en.wikipedia.org/wiki/Machine_learning\")"
   ]
  },
  {
   "cell_type": "code",
   "execution_count": null,
   "metadata": {},
   "outputs": [],
   "source": [
    "# Si el código de estado es 200, entonces OK.\n",
    "# Si el código de estado es 404, entonces no fue posible ubicar el recurso.\n",
    "res.status_code"
   ]
  },
  {
   "cell_type": "code",
   "execution_count": null,
   "metadata": {},
   "outputs": [],
   "source": [
    "# El encabezado como diccionario.\n",
    "my_header = dict(res.headers)\n",
    "my_header.keys()"
   ]
  },
  {
   "cell_type": "code",
   "execution_count": null,
   "metadata": {},
   "outputs": [],
   "source": [
    "# Imprime algunos valores de encabezado.\n",
    "print(my_header['Date'])\n",
    "print(my_header['Content-Type'])\n",
    "print(my_header['Content-Language'])\n",
    "print(my_header['Content-Length'])"
   ]
  },
  {
   "cell_type": "code",
   "execution_count": null,
   "metadata": {},
   "outputs": [],
   "source": [
    "# Imprima todos los datos.\n",
    "# No es fácilmente inteligible.\n",
    "print(res.text)"
   ]
  },
  {
   "cell_type": "markdown",
   "metadata": {},
   "source": [
    "#### 1.2. Utilizando la librería BeautifulSoup4:"
   ]
  },
  {
   "cell_type": "code",
   "execution_count": null,
   "metadata": {},
   "outputs": [],
   "source": [
    "# Utilice BeautifulSoup4 para analizar el HTML.\n",
    "# Hay 3 analizadores: 'lxml', 'html5lib', 'html.parser'\n",
    "soup = bs4.BeautifulSoup(res.text, 'html.parser')     # Devuelve un objeto BeautifulSoup. Usa 'html.parser'\n",
    "print(soup.prettify())                                # Salida de una manera más legible."
   ]
  },
  {
   "cell_type": "code",
   "execution_count": null,
   "metadata": {},
   "outputs": [],
   "source": [
    "# Une el contenido del texto de todos los párrafos.\n",
    "x=soup.find_all('p')\n",
    "n = len(x)\n",
    "paragraphs = ''                              # Inicializa una cadena vacía.\n",
    "for i in range(n):\n",
    "    paragraphs += x[i].text.strip() + '\\n'   # Retorno de carro al final de cada párrafo.     "
   ]
  },
  {
   "cell_type": "code",
   "execution_count": null,
   "metadata": {},
   "outputs": [],
   "source": [
    "# Muestra el resultado.\n",
    "print(paragraphs)"
   ]
  },
  {
   "cell_type": "code",
   "execution_count": null,
   "metadata": {},
   "outputs": [],
   "source": []
  }
 ],
 "metadata": {
  "kernelspec": {
   "display_name": "Python 3",
   "language": "python",
   "name": "python3"
  },
  "language_info": {
   "codemirror_mode": {
    "name": "ipython",
    "version": 3
   },
   "file_extension": ".py",
   "mimetype": "text/x-python",
   "name": "python",
   "nbconvert_exporter": "python",
   "pygments_lexer": "ipython3",
   "version": "3.7.4"
  }
 },
 "nbformat": 4,
 "nbformat_minor": 2
}
