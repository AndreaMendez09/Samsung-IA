{
 "cells": [
  {
   "cell_type": "markdown",
   "metadata": {},
   "source": [
    "## Ejercicio de codificación #0609"
   ]
  },
  {
   "cell_type": "code",
   "execution_count": null,
   "metadata": {},
   "outputs": [],
   "source": [
    "import nltk\n",
    "from numpy.random import randint, seed\n",
    "from sklearn.feature_extraction.text import CountVectorizer"
   ]
  },
  {
   "cell_type": "markdown",
   "metadata": {},
   "source": [
    "### 1. Autocompletado basado en n-Gramas:"
   ]
  },
  {
   "cell_type": "code",
   "execution_count": null,
   "metadata": {},
   "outputs": [],
   "source": [
    "# Datos de texto para entrenamiento.\n",
    "my_text = \"\"\"Machine learning is the scientific study of algorithms and statistical models that computer systems use to effectively perform a specific task without using explicit instructions, relying on patterns and inference instead. It is seen as a subset of artificial intelligence. Machine learning algorithms build a mathematical model of sample data, known as \"training data\", in order to make predictions or decisions without being explicitly programmed to perform the task.[1][2]:2 Machine learning algorithms are used in the applications of email filtering, detection of network intruders, and computer vision, where it is infeasible to develop an algorithm of specific instructions for performing the task. Machine learning is closely related to computational statistics, which focuses on making predictions using computers. The study of mathematical optimization delivers methods, theory and application domains to the field of machine learning. Data mining is a field of study within machine learning, and focuses on exploratory data analysis through unsupervised learning In its application across business problems, machine learning is also referred to as predictive analytics.\"\"\""
   ]
  },
  {
   "cell_type": "code",
   "execution_count": null,
   "metadata": {},
   "outputs": [],
   "source": [
    "my_text = [my_text.lower()]                       # Convierta a minúsculas y haga una lista. => Requerido por CountVectorizer ()."
   ]
  },
  {
   "cell_type": "markdown",
   "metadata": {},
   "source": [
    "#### 1.1. Eejecución de prueba de n-Grama:"
   ]
  },
  {
   "cell_type": "code",
   "execution_count": null,
   "metadata": {},
   "outputs": [],
   "source": [
    "n = 3                                                            # Se puede cambiar a un número igual o mayor que 2.\n",
    "n_min = n\n",
    "n_max = n\n",
    "n_gram_type = 'word'                                             # n-Grama con palabras.\n",
    "vectorizer = CountVectorizer(ngram_range=(n_min,n_max), analyzer = n_gram_type)"
   ]
  },
  {
   "cell_type": "code",
   "execution_count": null,
   "metadata": {},
   "outputs": [],
   "source": [
    "n_grams = vectorizer.fit(my_text).get_feature_names()            # Obtener los n-Gramas como una lista.\n",
    "n_gram_cts = vectorizer.transform(my_text).toarray()             # La salida es un array de arrays.\n",
    "n_gram_cts = list(n_gram_cts[0])                                 # Convertir en una lista simple."
   ]
  },
  {
   "cell_type": "code",
   "execution_count": null,
   "metadata": {},
   "outputs": [],
   "source": [
    "list(zip(n_grams,n_gram_cts))                                    # Hacer una lista de tuplas y visualizar."
   ]
  },
  {
   "cell_type": "markdown",
   "metadata": {},
   "source": [
    "#### 1.2. Entrenar haciendo un diccionario basado en n-Gramas:"
   ]
  },
  {
   "cell_type": "code",
   "execution_count": null,
   "metadata": {},
   "outputs": [],
   "source": [
    "n = 3                                                           # Se puede cambiar a un número igual o mayor que 2.\n",
    "n_min = n                              \n",
    "n_max = n                              \n",
    "n_gram_type = 'word'\n",
    "vectorizer = CountVectorizer(ngram_range=(n_min,n_max), analyzer = n_gram_type)"
   ]
  },
  {
   "cell_type": "code",
   "execution_count": null,
   "metadata": {},
   "outputs": [],
   "source": [
    "n_grams = vectorizer.fit(my_text).get_feature_names()           # Una lista de n-Gramas.\n",
    "my_dict = {}\n",
    "for a_gram in n_grams:\n",
    "    words = nltk.word_tokenize(a_gram)\n",
    "    a_nm1_gram = ' '.join(words[0:n-1])                         # (n-1)-Grama.\n",
    "    next_word = words[-1]                                       # Palabra después de a_nm1_gram.\n",
    "    if a_nm1_gram not in my_dict.keys():\n",
    "        my_dict[a_nm1_gram] = [next_word]                       # a_nm1_gram es una nueva clave. Entonces, se inicializa la entrada del diccionario.\n",
    "    else:\n",
    "        my_dict[a_nm1_gram] += [next_word]                      # an_nm1_gram está en el diccionario."
   ]
  },
  {
   "cell_type": "code",
   "execution_count": null,
   "metadata": {},
   "outputs": [],
   "source": [
    "# Viaulizar el diccionario.\n",
    "my_dict"
   ]
  },
  {
   "cell_type": "markdown",
   "metadata": {},
   "source": [
    "#### 1.3. Predecir la siguiente palabra:"
   ]
  },
  {
   "cell_type": "code",
   "execution_count": null,
   "metadata": {},
   "outputs": [],
   "source": [
    "# Función auxiliar que elige la siguiente palabra.\n",
    "def predict_next(a_nm1_gram):\n",
    "    value_list_size = len(my_dict[a_nm1_gram])         # longitud del valor correspondiente a la clave = a_nm1_gram.\n",
    "    i_pick = randint(0, value_list_size)               # Un número aleatorio del rango 0 ~ value_list_size.\n",
    "    return(my_dict[a_nm1_gram][i_pick])                # Devuelve la siguiente palabra elegida al azar."
   ]
  },
  {
   "cell_type": "code",
   "execution_count": null,
   "metadata": {},
   "outputs": [],
   "source": [
    "# Prueba.\n",
    "input_str = 'order to'                                 # ¡Tiene que ser un (n-1)-Grama VÁLIDO!\n",
    "predict_next(input_str)"
   ]
  },
  {
   "cell_type": "code",
   "execution_count": null,
   "metadata": {},
   "outputs": [],
   "source": [
    "# Otra prueba.\n",
    "# Repita 10 veces y vea que la siguiente palabra se elija al azar con una probabilidad proporcional a la ocurrencia.\n",
    "input_str = 'machine learning'                                 # ¡Tiene que ser un (n-1)-Grama VÁLIDO!\n",
    "for i in range(10):\n",
    "    print(predict_next(input_str))"
   ]
  },
  {
   "cell_type": "markdown",
   "metadata": {},
   "source": [
    "#### 1.4. Predecir una secuencia:"
   ]
  },
  {
   "cell_type": "code",
   "execution_count": null,
   "metadata": {},
   "outputs": [],
   "source": [
    "# Inicializar la semilla aleatoria.\n",
    "seed(123)"
   ]
  },
  {
   "cell_type": "code",
   "execution_count": null,
   "metadata": {},
   "outputs": [],
   "source": [
    "# El usuario debe introducir una cadena de inicialización.\n",
    "my_seed_str = 'machine learning'                                   # ¡Tiene que ser un (n-1)-Grama VÁLIDO!\n",
    "# my_seed_str = 'in order'                                         # ¡Tiene que ser un (n-1)-Grama VÁLIDO!"
   ]
  },
  {
   "cell_type": "code",
   "execution_count": null,
   "metadata": {},
   "outputs": [],
   "source": [
    "a_nm1_gram = my_seed_str\n",
    "output_string = my_seed_str                                         # Inicializar la cadena de salida.\n",
    "while a_nm1_gram in my_dict:\n",
    "    output_string += \" \" + predict_next(a_nm1_gram)\n",
    "    words = nltk.word_tokenize(output_string)\n",
    "    a_nm1_gram = ' '.join(words[-n+1:])                            # Actualizar a_nm1_gram."
   ]
  },
  {
   "cell_type": "code",
   "execution_count": null,
   "metadata": {},
   "outputs": [],
   "source": [
    "# Secuencia predicha.\n",
    "output_string"
   ]
  },
  {
   "cell_type": "code",
   "execution_count": null,
   "metadata": {},
   "outputs": [],
   "source": []
  }
 ],
 "metadata": {
  "kernelspec": {
   "display_name": "Python 3",
   "language": "python",
   "name": "python3"
  },
  "language_info": {
   "codemirror_mode": {
    "name": "ipython",
    "version": 3
   },
   "file_extension": ".py",
   "mimetype": "text/x-python",
   "name": "python",
   "nbconvert_exporter": "python",
   "pygments_lexer": "ipython3",
   "version": "3.7.4"
  }
 },
 "nbformat": 4,
 "nbformat_minor": 2
}
