{
 "cells": [
  {
   "cell_type": "code",
   "execution_count": 1,
   "metadata": {
    "colab": {
     "base_uri": "https://localhost:8080/",
     "height": 1000,
     "output_embedded_package_id": "1muNphfmGnpTXLSf-CDrhUV1frHFzf3hq"
    },
    "executionInfo": {
     "elapsed": 12996,
     "status": "ok",
     "timestamp": 1602672428442,
     "user": {
      "displayName": "Fernando Ortega Requena",
      "photoUrl": "https://lh3.googleusercontent.com/a-/AOh14GgiZKcEyk_b-6E_dNg7_x20idZVEj0N7w-N6pwgBQ=s64",
      "userId": "02003917424124170753"
     },
     "user_tz": -120
    },
    "id": "4zUwHuJatqLW",
    "outputId": "871e176f-3a51-4bbb-8be8-d7672065a34a"
   },
   "outputs": [
    {
     "data": {
      "text/plain": [
       "Output hidden; open in https://colab.research.google.com to view."
      ]
     },
     "metadata": {},
     "output_type": "display_data"
    }
   ],
   "source": [
    "# Coding Practice #0617\n",
    "#----------------------------------------------------------------------------------\n",
    "\n",
    "import numpy as np\n",
    "import cv2\n",
    "\n",
    "from google.colab.patches import cv2_imshow\n",
    "\n",
    "# Go to the directory where the data file is located. \n",
    "# os.chdir(r'~~')                     \t\t\t\t  # Please, replace the path with your own.   \n",
    "\n",
    "# 1. Morphological filtering.\n",
    "# Open an image in B/W. \n",
    "img = cv2.imread('/content/picture_Texture.jpg',0)         \n",
    "print(\"Texture\")\n",
    "cv2_imshow(img)\n",
    "cv2.waitKey(0)                                                                          # Wait until a key is pressed.\n",
    "cv2.destroyAllWindows()  \t\t\t\t\t  # Close the open window.   "
   ]
  },
  {
   "cell_type": "code",
   "execution_count": 2,
   "metadata": {
    "colab": {
     "base_uri": "https://localhost:8080/",
     "height": 1000,
     "output_embedded_package_id": "1qTh6u8_Rc1ZpCpXXMUGUGd6Bhjl8SrqF"
    },
    "executionInfo": {
     "elapsed": 12986,
     "status": "ok",
     "timestamp": 1602672428446,
     "user": {
      "displayName": "Fernando Ortega Requena",
      "photoUrl": "https://lh3.googleusercontent.com/a-/AOh14GgiZKcEyk_b-6E_dNg7_x20idZVEj0N7w-N6pwgBQ=s64",
      "userId": "02003917424124170753"
     },
     "user_tz": -120
    },
    "id": "G_9aEpB_twqu",
    "outputId": "0c138aa8-708c-4e41-c312-2a43191c2f7d"
   },
   "outputs": [
    {
     "data": {
      "text/plain": [
       "Output hidden; open in https://colab.research.google.com to view."
      ]
     },
     "metadata": {},
     "output_type": "display_data"
    }
   ],
   "source": [
    "# 1.1. Erosion and dilation:\n",
    "# Erosion: Turns white pixels into black ones.\n",
    "# Dilation: Turns black pixels into white ones.\n",
    "kernel = np.ones((5,5),'uint8')\n",
    "img_eroded = cv2.erode(img, kernel, iterations=5)                           # 'iterations' is adjustable.\n",
    "img_dilated = cv2.dilate(img,kernel,iterations=5)                              # 'iterations' is adjustable.\n",
    "\n",
    "print(\"Eroded\")\n",
    "cv2_imshow(img_eroded)\n",
    "cv2.waitKey(0)                                                                          # Wait until a key is pressed.\n",
    "cv2.destroyAllWindows()  \t\t\t\t\t   # Close the open window.   \n",
    "\n",
    "print(\"Dilated\")\n",
    "cv2_imshow(img_dilated)\n",
    "cv2.waitKey(0)                                                                          # Wait until a key is pressed.\n",
    "cv2.destroyAllWindows()  \t\t\t\t\t  # Close the open window.   "
   ]
  }
 ],
 "metadata": {
  "colab": {
   "authorship_tag": "ABX9TyMCZOOZqOxz8HtJt8pcZ6N/",
   "name": "ex_0617_solucion.ipynb",
   "provenance": []
  },
  "kernelspec": {
   "display_name": "Python 3",
   "language": "python",
   "name": "python3"
  },
  "language_info": {
   "codemirror_mode": {
    "name": "ipython",
    "version": 3
   },
   "file_extension": ".py",
   "mimetype": "text/x-python",
   "name": "python",
   "nbconvert_exporter": "python",
   "pygments_lexer": "ipython3",
   "version": "3.8.8"
  }
 },
 "nbformat": 4,
 "nbformat_minor": 1
}
