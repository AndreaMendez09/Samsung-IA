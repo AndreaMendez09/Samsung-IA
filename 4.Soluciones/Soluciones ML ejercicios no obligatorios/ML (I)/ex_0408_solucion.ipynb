{
 "cells": [
  {
   "cell_type": "markdown",
   "metadata": {},
   "source": [
    "## Ejercicio de codificación #0408"
   ]
  },
  {
   "cell_type": "markdown",
   "metadata": {},
   "source": [
    "### 1. Predicción de regresión lineal e intervalo de confianza:"
   ]
  },
  {
   "cell_type": "code",
   "execution_count": null,
   "metadata": {},
   "outputs": [],
   "source": [
    "import numpy as np\n",
    "import pandas as pd\n",
    "import matplotlib.pyplot as plt\n",
    "import scipy.stats as st\n",
    "from sklearn.linear_model import LinearRegression\n",
    "from sklearn import metrics\n",
    "%matplotlib inline"
   ]
  },
  {
   "cell_type": "markdown",
   "metadata": {},
   "source": [
    "#### 1.1. Datos: \n",
    "<br>\n",
    "study = una matriz que contiene las horas de estudio. Esta es la variable explicativa. <br>\n",
    "score = una matriz que contiene las puntuaciones de las pruebas. Esta es la variable de respuesta."
   ]
  },
  {
   "cell_type": "code",
   "execution_count": null,
   "metadata": {},
   "outputs": [],
   "source": [
    "study = np.array([ 3, 4.5, 6, 1.2, 2, 6.9, 6.7, 5.5])\n",
    "score = np.array([ 88, 85, 90, 80, 81, 92, 95, 90])\n",
    "n = study.size"
   ]
  },
  {
   "cell_type": "markdown",
   "metadata": {},
   "source": [
    "#### 1.2. Entrenamiento:"
   ]
  },
  {
   "cell_type": "code",
   "execution_count": null,
   "metadata": {},
   "outputs": [],
   "source": [
    "# Cree una instancia de un objeto de regresión lineal.\n",
    "lm = LinearRegression()"
   ]
  },
  {
   "cell_type": "code",
   "execution_count": null,
   "metadata": {
    "scrolled": true
   },
   "outputs": [],
   "source": [
    "# Entrenar.\n",
    "lm.fit(study.reshape(-1,1), score.reshape(-1,1))"
   ]
  },
  {
   "cell_type": "code",
   "execution_count": null,
   "metadata": {},
   "outputs": [],
   "source": [
    "# Obtener los parámetros\n",
    "b0 = lm.intercept_[0]\n",
    "b1 = lm.coef_[0][0]\n",
    "print(b0)\n",
    "print(b1)"
   ]
  },
  {
   "cell_type": "code",
   "execution_count": null,
   "metadata": {},
   "outputs": [],
   "source": [
    "# Calcule el RMSE en la muestra.\n",
    "predScore = lm.predict(study.reshape(-1,1))\n",
    "mse = metrics.mean_squared_error(score, predScore)\n",
    "rmse=np.sqrt(mse)\n",
    "np.round(rmse,2)"
   ]
  },
  {
   "cell_type": "markdown",
   "metadata": {},
   "source": [
    "####  1.3. Intervalo de confianza y visualización:"
   ]
  },
  {
   "cell_type": "code",
   "execution_count": null,
   "metadata": {},
   "outputs": [],
   "source": [
    "# Definimos aquí la función que calcula el error estándar.\n",
    "# Refiérase a la fórmula dada en la teoría.\n",
    "def StdError(x_star, x_vec, mse, n):\n",
    "    x_mean = np.mean(x_vec)\n",
    "    return (np.sqrt(mse*(1/n+(x_star-x_mean)**2/np.sum((x_vec-x_mean)**2))))"
   ]
  },
  {
   "cell_type": "code",
   "execution_count": null,
   "metadata": {},
   "outputs": [],
   "source": [
    "# y_hat: la y predicha.\n",
    "# y_low: límite inferior del intervalo de confianza (95%).\n",
    "# y_up: límite superior del intervalo de confianza (95%).\n",
    "x_star = np.linspace(1,9,10)\n",
    "y_hat = b0 + b1*x_star\n",
    "y_low = y_hat - st.t.ppf(0.975,n-2)*StdError(x_star,study,mse,n)\n",
    "y_up = y_hat + st.t.ppf(0.975,n-2)*StdError(x_star,study,mse,n)"
   ]
  },
  {
   "cell_type": "code",
   "execution_count": null,
   "metadata": {},
   "outputs": [],
   "source": [
    "# Ahora, visualice.\n",
    "plt.scatter(study, score, c='red')\n",
    "plt.plot(x_star,y_low,c = 'blue',linestyle='--',linewidth=1)\n",
    "plt.plot(x_star,y_hat,c = 'green',linewidth = 1.5, alpha=0.5)\n",
    "plt.plot(x_star,y_up,c = 'blue',linestyle='--',linewidth=1)\n",
    "plt.xlabel('Study')\n",
    "plt.ylabel('Score')\n",
    "plt.show()"
   ]
  },
  {
   "cell_type": "code",
   "execution_count": null,
   "metadata": {},
   "outputs": [],
   "source": []
  }
 ],
 "metadata": {
  "kernelspec": {
   "display_name": "Python 3",
   "language": "python",
   "name": "python3"
  },
  "language_info": {
   "codemirror_mode": {
    "name": "ipython",
    "version": 3
   },
   "file_extension": ".py",
   "mimetype": "text/x-python",
   "name": "python",
   "nbconvert_exporter": "python",
   "pygments_lexer": "ipython3",
   "version": "3.7.4"
  }
 },
 "nbformat": 4,
 "nbformat_minor": 2
}
