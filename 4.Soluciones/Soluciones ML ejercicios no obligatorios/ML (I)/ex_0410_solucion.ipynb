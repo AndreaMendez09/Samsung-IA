{
 "cells": [
  {
   "cell_type": "markdown",
   "metadata": {},
   "source": [
    "## Ejercicio de codificación #0410"
   ]
  },
  {
   "cell_type": "markdown",
   "metadata": {},
   "source": [
    "### 1. Regresiones regularizadas:"
   ]
  },
  {
   "cell_type": "code",
   "execution_count": null,
   "metadata": {},
   "outputs": [],
   "source": [
    "import numpy as np\n",
    "import pandas as pd\n",
    "import os\n",
    "import matplotlib.pyplot as plt\n",
    "from sklearn.metrics import mean_squared_error\n",
    "from sklearn.model_selection import train_test_split\n",
    "from sklearn.linear_model import Ridge, Lasso"
   ]
  },
  {
   "cell_type": "markdown",
   "metadata": {},
   "source": [
    "#### 1.1. Leer los datos:\n",
    "\n",
    "El conjunto de datos proviene de 1974 MotoTrend US Magazine."
   ]
  },
  {
   "cell_type": "code",
   "execution_count": null,
   "metadata": {},
   "outputs": [],
   "source": [
    "# Ir al directorio que contiene el fichero \n",
    "# os.chdir(r'~~')                # Reemplazar por la ruta adecuada  "
   ]
  },
  {
   "cell_type": "code",
   "execution_count": null,
   "metadata": {},
   "outputs": [],
   "source": [
    "df = pd.read_csv('data_mtcars.csv', header='infer')"
   ]
  },
  {
   "cell_type": "code",
   "execution_count": null,
   "metadata": {},
   "outputs": [],
   "source": [
    "df.shape"
   ]
  },
  {
   "cell_type": "code",
   "execution_count": null,
   "metadata": {},
   "outputs": [],
   "source": [
    "df.head(5)"
   ]
  },
  {
   "cell_type": "code",
   "execution_count": null,
   "metadata": {},
   "outputs": [],
   "source": [
    "# Separe en X e Y.\n",
    "X=df.drop(columns=['model','mpg'])\n",
    "Y=df.mpg"
   ]
  },
  {
   "cell_type": "code",
   "execution_count": null,
   "metadata": {},
   "outputs": [],
   "source": [
    "# Divida el conjunto de datos.\n",
    "X_train, X_test, Y_train, Y_test = train_test_split(X, Y, test_size=0.3, random_state=123)"
   ]
  },
  {
   "cell_type": "markdown",
   "metadata": {},
   "source": [
    "#### 1.2. Regresión de Ridge:"
   ]
  },
  {
   "cell_type": "code",
   "execution_count": null,
   "metadata": {},
   "outputs": [],
   "source": [
    "lambdaRange = range(1,100)"
   ]
  },
  {
   "cell_type": "code",
   "execution_count": null,
   "metadata": {},
   "outputs": [],
   "source": [
    "bestRsq = 0.0                                                # Para contener el mejor R^2.\n",
    "bestLambda = 0.0                                             # Para contener la mejor lambda.\n",
    "for aLambda in lambdaRange:\n",
    "    ridge = Ridge(aLambda)\n",
    "    ridge.fit(X_train,Y_train)                               # Entrena con el set de entrenamiento.\n",
    "    rsq = ridge.score(X_test,Y_test)                         # Calcule R^2 con el conjunto de prueba. \n",
    "    if (rsq > bestRsq):                                      # Si R^2 es mejor, reemplace bestRsq.\n",
    "        bestRsq = rsq\n",
    "        bestLambda = aLambda\n",
    "        print(\"Lambda = \", bestLambda, \" and  R^2 = \", np.round(rsq,3))\n",
    "ridge = Ridge(bestLambda)                                    # Ejecución final con bestLambda.\n",
    "ridge.fit(X,Y)                                                  "
   ]
  },
  {
   "cell_type": "code",
   "execution_count": null,
   "metadata": {},
   "outputs": [],
   "source": [
    "# Muestre la intersección.\n",
    "ridge.intercept_"
   ]
  },
  {
   "cell_type": "code",
   "execution_count": null,
   "metadata": {},
   "outputs": [],
   "source": [
    "# Mostrar otros parámetros.\n",
    "ridge.coef_"
   ]
  },
  {
   "cell_type": "markdown",
   "metadata": {},
   "source": [
    "NOTA: In Ridge, incluso cuando $\\lambda$ es grande ningún parámetro es exactamente 0."
   ]
  },
  {
   "cell_type": "markdown",
   "metadata": {},
   "source": [
    "#### 1.3. Regresión de Lasso:"
   ]
  },
  {
   "cell_type": "code",
   "execution_count": null,
   "metadata": {},
   "outputs": [],
   "source": [
    "lambdaRange = range(1,100)"
   ]
  },
  {
   "cell_type": "code",
   "execution_count": null,
   "metadata": {},
   "outputs": [],
   "source": [
    "bestRsq = 0.0                                                # Para contener el mejor R^2.\n",
    "bestLambda = 0.0                                             # Para contener la mejor lambda.\n",
    "for aLambda in lambdaRange:\n",
    "    lasso = Lasso(aLambda)\n",
    "    lasso.fit(X_train,Y_train)                               # Entrena con el set de entrenamiento.\n",
    "    rsq = lasso.score(X_test,Y_test)                         # Calcule R^2 con el conjunto de prueba.  \n",
    "    if (rsq > bestRsq):                                      # Si R^2 es mejor, reemplace bestRsq.\n",
    "        bestRsq = rsq\n",
    "        bestLambda = aLambda\n",
    "        print(\"Lambda = \", bestLambda, \" and  R^2 = \", np.round(rsq,3))\n",
    "lasso = Lasso(bestLambda)                                    # Ejecución final con bestLambda.\n",
    "lasso.fit(X,Y) "
   ]
  },
  {
   "cell_type": "code",
   "execution_count": null,
   "metadata": {},
   "outputs": [],
   "source": [
    "# Muestre la intersección.\n",
    "lasso.intercept_"
   ]
  },
  {
   "cell_type": "code",
   "execution_count": null,
   "metadata": {},
   "outputs": [],
   "source": [
    "# Mostrar otros parámetros.\n",
    "lasso.coef_"
   ]
  },
  {
   "cell_type": "markdown",
   "metadata": {},
   "source": [
    "NOTA: Lasso puede hacer que algunos parámetros sean exactamente 0 cuando $ \\ lambda $ es lo suficientemente grande."
   ]
  },
  {
   "cell_type": "code",
   "execution_count": null,
   "metadata": {},
   "outputs": [],
   "source": []
  }
 ],
 "metadata": {
  "kernelspec": {
   "display_name": "Python 3",
   "language": "python",
   "name": "python3"
  },
  "language_info": {
   "codemirror_mode": {
    "name": "ipython",
    "version": 3
   },
   "file_extension": ".py",
   "mimetype": "text/x-python",
   "name": "python",
   "nbconvert_exporter": "python",
   "pygments_lexer": "ipython3",
   "version": "3.7.4"
  }
 },
 "nbformat": 4,
 "nbformat_minor": 2
}
