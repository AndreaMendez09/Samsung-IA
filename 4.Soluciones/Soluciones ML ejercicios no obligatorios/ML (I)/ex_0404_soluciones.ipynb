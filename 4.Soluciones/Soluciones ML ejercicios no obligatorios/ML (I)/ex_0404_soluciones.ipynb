{
 "cells": [
  {
   "cell_type": "markdown",
   "metadata": {},
   "source": [
    "## Ejercicio de codificación #0404"
   ]
  },
  {
   "cell_type": "markdown",
   "metadata": {},
   "source": [
    "### 1. Reducción de dimensionalidad con PCA:"
   ]
  },
  {
   "cell_type": "code",
   "execution_count": null,
   "metadata": {},
   "outputs": [],
   "source": [
    "import numpy as np\n",
    "import pandas as pd\n",
    "import matplotlib.pyplot as plt\n",
    "from sklearn.datasets import make_blobs\n",
    "from sklearn.decomposition import PCA, NMF\n",
    "import os\n",
    "%matplotlib inline"
   ]
  },
  {
   "cell_type": "markdown",
   "metadata": {},
   "source": [
    "#### 1.1. Leer los datos y explorar:"
   ]
  },
  {
   "cell_type": "code",
   "execution_count": null,
   "metadata": {},
   "outputs": [],
   "source": [
    "# Ir al directorio dónde se encuentra el fichero. \n",
    "# os.chdir(r'~~')                # Reemplazar por la ruta adecuada.   "
   ]
  },
  {
   "cell_type": "code",
   "execution_count": null,
   "metadata": {},
   "outputs": [],
   "source": [
    "df = pd.read_csv('data_number_nine.csv', header='infer')"
   ]
  },
  {
   "cell_type": "code",
   "execution_count": null,
   "metadata": {},
   "outputs": [],
   "source": [
    "df.shape"
   ]
  },
  {
   "cell_type": "code",
   "execution_count": null,
   "metadata": {},
   "outputs": [],
   "source": [
    "df.head(5)"
   ]
  },
  {
   "cell_type": "markdown",
   "metadata": {},
   "source": [
    "#### 1.2. Visualizar los datos:"
   ]
  },
  {
   "cell_type": "code",
   "execution_count": null,
   "metadata": {},
   "outputs": [],
   "source": [
    "# Definir una función de visualización adecuada basada en imshow().\n",
    "# Visualiza todo el conjunto de datos a la vez como una imagen de píxeles.\n",
    "def ShowMe(X):\n",
    "    Y= 1.0 - X\n",
    "    plt.imshow(Y, cmap='gray')\n",
    "    plt.show()"
   ]
  },
  {
   "cell_type": "code",
   "execution_count": null,
   "metadata": {},
   "outputs": [],
   "source": [
    "X = np.array(df)\n",
    "ShowMe(X)"
   ]
  },
  {
   "cell_type": "markdown",
   "metadata": {},
   "source": [
    "#### 1.3. Visualizar la entrada dimensional reducida por PCA:"
   ]
  },
  {
   "cell_type": "code",
   "execution_count": null,
   "metadata": {},
   "outputs": [],
   "source": [
    "# Defina una función que devuelva una entrada dimensional reducida.\n",
    "def reducedInputPCA(X,nPC):\n",
    "    pca = PCA(n_components = nPC)                           # Definir un objeto PCA para un número determinado de PC de destino. \n",
    "    X_pca = pca.fit_transform(X)                            # Obtén las puntuaciones transformadas.\n",
    "    return pca.inverse_transform(X_pca)                     # Devuelva las puntuaciones transformadas al sistema de coordenadas original."
   ]
  },
  {
   "cell_type": "code",
   "execution_count": null,
   "metadata": {},
   "outputs": [],
   "source": [
    "# Visualice la entrada dimensional reducida para diferentes casos.\n",
    "# A medida que reducimos la dimensión, la imagen se vuelve menos clara.\n",
    "for nPC in [23, 10, 5, 3, 1]:\n",
    "    Z = reducedInputPCA(X,nPC)\n",
    "    print( \"N# of PCs = \" + str(nPC))\n",
    "    ShowMe(Z)"
   ]
  },
  {
   "cell_type": "markdown",
   "metadata": {},
   "source": [
    "#### 1.4. Análisis del ratio de varianza acumulada (CVR):"
   ]
  },
  {
   "cell_type": "code",
   "execution_count": null,
   "metadata": {},
   "outputs": [],
   "source": [
    "pca = PCA(n_components = 23)                          # Definir un objeto PCA.\n",
    "pca.fit(X)                                            # Entrenar con los datos."
   ]
  },
  {
   "cell_type": "code",
   "execution_count": null,
   "metadata": {},
   "outputs": [],
   "source": [
    "# Visualize the CVRs as a Barplot.\n",
    "CVRs = np.cumsum(pca.explained_variance_ratio_)        # Calcular los CVRs.\n",
    "nPCs = np.arange(23)+1                                 # Define una matriz que corresponda a la cantidad de PC.\n",
    "plt.bar(nPCs,CVRs,color = 'green', alpha=0.7)  \n",
    "plt.title('Cumulative Variance Ratio')\n",
    "plt.show()"
   ]
  },
  {
   "cell_type": "markdown",
   "metadata": {},
   "source": [
    "### 2. Reducción dimensional con NMF:"
   ]
  },
  {
   "cell_type": "markdown",
   "metadata": {},
   "source": [
    "NMF (Factorización de matriz no negativa) se aplica a la matriz de datos que contiene solo valores no negativos. <br>\n",
    "De forma similar a la PCA, podemos hacer una reducción dimensional y obtener una entrada dimensional reducida usando NMF. <br>\n",
    "Notamos que obtenemos imágenes un poco menos \"ruidosas\" en comparación con el resultado de PCA. <br>\n",
    "Mas información en [Wikipedia](https://en.wikipedia.org/wiki/Non-negative_matrix_factorization)."
   ]
  },
  {
   "cell_type": "markdown",
   "metadata": {},
   "source": [
    "#### 2.1. Visualice la entrada dimensional reducida por NMF:"
   ]
  },
  {
   "cell_type": "code",
   "execution_count": null,
   "metadata": {},
   "outputs": [],
   "source": [
    "# Defina una función que devuelve una entrada dimensional reducida.\n",
    "def reducedInputNMF(X,n):\n",
    "    nmf = NMF(n_components=n, init='random', random_state=0)      # Defina un objeto NMF para un número determinado de componentes de destino.\n",
    "    X_nmf = nmf.fit_transform(X)                                  # Obtiene las puntuaciones transformadas.       \n",
    "    return nmf.inverse_transform(X_nmf)                           # Devuelve las puntuaciones transformadas al sistema de coordenadas original."
   ]
  },
  {
   "cell_type": "code",
   "execution_count": null,
   "metadata": {},
   "outputs": [],
   "source": [
    "# Visualice la entrada dimensional reducida para diferentes casos.\n",
    "# A medida que reducimos la dimensión, la imagen se vuelve menos clara.\n",
    "for n in [23, 10, 5, 3, 1]:\n",
    "    Z = reducedInputNMF(X,n)\n",
    "    print( \"N# of Components = \" + str(n))\n",
    "    ShowMe(Z)"
   ]
  },
  {
   "cell_type": "markdown",
   "metadata": {},
   "source": [
    "### 3. Visualización optimizada de alta dimensión con PCA:"
   ]
  },
  {
   "cell_type": "markdown",
   "metadata": {},
   "source": [
    "#### 3.1.Datos simulados:"
   ]
  },
  {
   "cell_type": "code",
   "execution_count": null,
   "metadata": {},
   "outputs": [],
   "source": [
    "# 3 grupos en un espacio de 8 dimensiones.\n",
    "# ¡Difícil de visualizar!\n",
    "X, label = make_blobs(n_samples=150, n_features=8, centers=3, cluster_std = 5, random_state=123)\n",
    "X.shape"
   ]
  },
  {
   "cell_type": "code",
   "execution_count": null,
   "metadata": {},
   "outputs": [],
   "source": [
    "# Define una paleta de colores personalizada.\n",
    "myColors = {0:'red',1:'green',2:'blue'}  \n",
    "labelColors = pd.Series(label).apply(lambda x: myColors[x])"
   ]
  },
  {
   "cell_type": "code",
   "execution_count": null,
   "metadata": {},
   "outputs": [],
   "source": [
    "# Visualiza en el plano X1 vs X2. X1 ==> columna 0, X2 ==> columna 1. \n",
    "# ¡Difícilmente podemos distinguir los grupos!\n",
    "# Los grupos se superponen en gran medida.\n",
    "plt.scatter(X[:,0],X[:,1],marker=\"o\",alpha=0.7, s=10, c=labelColors)\n",
    "plt.xlabel(\"X1\")\n",
    "plt.ylabel(\"X2\")\n",
    "plt.show()"
   ]
  },
  {
   "cell_type": "code",
   "execution_count": null,
   "metadata": {},
   "outputs": [],
   "source": [
    "# Visualiza en el plano X1 vs X2. X1 ==> columna 0, X5 ==> columna 4. \n",
    "# ¡Difícilmente podemos distinguir los grupos!\n",
    "# Los grupos se superponen en gran medida.\n",
    "plt.scatter(X[:,0],X[:,4],marker=\"o\",alpha=0.7, s=10, c=labelColors)\n",
    "plt.xlabel(\"X1\")\n",
    "plt.ylabel(\"X5\")\n",
    "plt.show()"
   ]
  },
  {
   "cell_type": "code",
   "execution_count": null,
   "metadata": {},
   "outputs": [],
   "source": [
    "# Visualiza en el plano X1 vs X2. X1 ==> columna 0, X8 ==> columna 7. \n",
    "# ¡Difícilmente podemos distinguir los grupos!\n",
    "# Los grupos se superponen en gran medida.\n",
    "plt.scatter(X[:,4],X[:,7],marker=\"o\",alpha=0.7, s=10, c=labelColors)\n",
    "plt.xlabel(\"X5\")\n",
    "plt.ylabel(\"X8\")\n",
    "plt.show()"
   ]
  },
  {
   "cell_type": "markdown",
   "metadata": {},
   "source": [
    "#### 3.2. Visualizacion en el plano definido por PC1 y PC2:"
   ]
  },
  {
   "cell_type": "code",
   "execution_count": null,
   "metadata": {},
   "outputs": [],
   "source": [
    "# Solo se necesitan 2 primeras PC. \n",
    "pca = PCA(n_components = 2)\n",
    "X_pca = pca.fit_transform(X)"
   ]
  },
  {
   "cell_type": "code",
   "execution_count": null,
   "metadata": {},
   "outputs": [],
   "source": [
    "# Visualice en el plano PC1 vs PC2.\n",
    "# ¡Los grupos se superponen menos!\n",
    "plt.scatter(X_pca[:,0],X_pca[:,1],marker=\"o\",alpha=0.7, s=10, c=labelColors)\n",
    "plt.xlabel(\"PC1\")\n",
    "plt.ylabel(\"PC2\")\n",
    "plt.show()"
   ]
  },
  {
   "cell_type": "code",
   "execution_count": null,
   "metadata": {},
   "outputs": [],
   "source": []
  }
 ],
 "metadata": {
  "kernelspec": {
   "display_name": "Python 3",
   "language": "python",
   "name": "python3"
  },
  "language_info": {
   "codemirror_mode": {
    "name": "ipython",
    "version": 3
   },
   "file_extension": ".py",
   "mimetype": "text/x-python",
   "name": "python",
   "nbconvert_exporter": "python",
   "pygments_lexer": "ipython3",
   "version": "3.7.4"
  }
 },
 "nbformat": 4,
 "nbformat_minor": 2
}
