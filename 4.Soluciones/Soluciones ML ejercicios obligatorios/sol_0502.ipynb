{
 "cells": [
  {
   "cell_type": "markdown",
   "metadata": {},
   "source": [
    "## Prueba #0502 (Solución)"
   ]
  },
  {
   "cell_type": "markdown",
   "metadata": {},
   "source": [
    "### \"Reconocimiento de actividad humana\" "
   ]
  },
  {
   "cell_type": "markdown",
   "metadata": {},
   "source": [
    "#### Responda las siguientes preguntas proporcionando código Python:\n",
    "#### Objetivos:\n",
    "- Realizar la EDA.\n",
    "- Realizar el preprocesamiento de los datos.\n",
    "- Optimice y pruebe un modelo predictivo de su elección."
   ]
  },
  {
   "cell_type": "code",
   "execution_count": 1,
   "metadata": {},
   "outputs": [],
   "source": [
    "import numpy as np\n",
    "import pandas as pd\n",
    "import matplotlib.pyplot as plt\n",
    "import seaborn as sns\n",
    "import os\n",
    "import warnings\n",
    "from sklearn.model_selection import train_test_split, GridSearchCV\n",
    "from sklearn.neighbors import KNeighborsClassifier\n",
    "from sklearn.tree import DecisionTreeClassifier\n",
    "from sklearn.ensemble import RandomForestClassifier,AdaBoostClassifier, GradientBoostingClassifier\n",
    "from xgboost import XGBClassifier\n",
    "from sklearn import metrics, preprocessing\n",
    "warnings.filterwarnings(action='ignore')                  # Desactivar las advertencias.\n",
    "%matplotlib inline"
   ]
  },
  {
   "cell_type": "markdown",
   "metadata": {},
   "source": [
    "#### Leer los datos:\n",
    "La explicación sobre el conjunto de datos se puede encontrar [aquí](https://archive.ics.uci.edu/ml/datasets/human+activity+recognition+using+smartphones)."
   ]
  },
  {
   "cell_type": "code",
   "execution_count": 2,
   "metadata": {},
   "outputs": [],
   "source": [
    "# Ir al directorio dónde se ecuentra el fichero \n",
    "# os.chdir(r'~~')                # Reemplazar por la ruta adecuada"
   ]
  },
  {
   "cell_type": "code",
   "execution_count": 3,
   "metadata": {},
   "outputs": [],
   "source": [
    "df = pd.read_csv('data_human activity recognition.csv', header='infer')"
   ]
  },
  {
   "cell_type": "code",
   "execution_count": 4,
   "metadata": {},
   "outputs": [
    {
     "data": {
      "text/plain": [
       "(19622, 160)"
      ]
     },
     "execution_count": 4,
     "metadata": {},
     "output_type": "execute_result"
    }
   ],
   "source": [
    "df.shape"
   ]
  },
  {
   "cell_type": "code",
   "execution_count": 5,
   "metadata": {},
   "outputs": [
    {
     "data": {
      "text/plain": [
       "Index(['Unnamed: 0', 'user_name', 'raw_timestamp_part_1',\n",
       "       'raw_timestamp_part_2', 'cvtd_timestamp', 'new_window', 'num_window',\n",
       "       'roll_belt', 'pitch_belt', 'yaw_belt',\n",
       "       ...\n",
       "       'gyros_forearm_x', 'gyros_forearm_y', 'gyros_forearm_z',\n",
       "       'accel_forearm_x', 'accel_forearm_y', 'accel_forearm_z',\n",
       "       'magnet_forearm_x', 'magnet_forearm_y', 'magnet_forearm_z', 'classe'],\n",
       "      dtype='object', length=160)"
      ]
     },
     "execution_count": 5,
     "metadata": {},
     "output_type": "execute_result"
    }
   ],
   "source": [
    "df.columns"
   ]
  },
  {
   "cell_type": "markdown",
   "metadata": {},
   "source": [
    "1). Realice la EDA. Compruebe los valores faltantes. SUGERENCIA: La variable de respuesta es 'clase'."
   ]
  },
  {
   "cell_type": "code",
   "execution_count": 6,
   "metadata": {},
   "outputs": [
    {
     "data": {
      "text/html": [
       "<div>\n",
       "<style scoped>\n",
       "    .dataframe tbody tr th:only-of-type {\n",
       "        vertical-align: middle;\n",
       "    }\n",
       "\n",
       "    .dataframe tbody tr th {\n",
       "        vertical-align: top;\n",
       "    }\n",
       "\n",
       "    .dataframe thead th {\n",
       "        text-align: right;\n",
       "    }\n",
       "</style>\n",
       "<table border=\"1\" class=\"dataframe\">\n",
       "  <thead>\n",
       "    <tr style=\"text-align: right;\">\n",
       "      <th></th>\n",
       "      <th>Unnamed: 0</th>\n",
       "      <th>raw_timestamp_part_1</th>\n",
       "      <th>raw_timestamp_part_2</th>\n",
       "      <th>num_window</th>\n",
       "      <th>roll_belt</th>\n",
       "      <th>pitch_belt</th>\n",
       "      <th>yaw_belt</th>\n",
       "      <th>total_accel_belt</th>\n",
       "      <th>max_roll_belt</th>\n",
       "      <th>max_picth_belt</th>\n",
       "      <th>...</th>\n",
       "      <th>var_yaw_forearm</th>\n",
       "      <th>gyros_forearm_x</th>\n",
       "      <th>gyros_forearm_y</th>\n",
       "      <th>gyros_forearm_z</th>\n",
       "      <th>accel_forearm_x</th>\n",
       "      <th>accel_forearm_y</th>\n",
       "      <th>accel_forearm_z</th>\n",
       "      <th>magnet_forearm_x</th>\n",
       "      <th>magnet_forearm_y</th>\n",
       "      <th>magnet_forearm_z</th>\n",
       "    </tr>\n",
       "  </thead>\n",
       "  <tbody>\n",
       "    <tr>\n",
       "      <th>count</th>\n",
       "      <td>19622.000000</td>\n",
       "      <td>1.962200e+04</td>\n",
       "      <td>19622.000000</td>\n",
       "      <td>19622.000000</td>\n",
       "      <td>19622.000000</td>\n",
       "      <td>19622.000000</td>\n",
       "      <td>19622.000000</td>\n",
       "      <td>19622.000000</td>\n",
       "      <td>406.000000</td>\n",
       "      <td>406.000000</td>\n",
       "      <td>...</td>\n",
       "      <td>406.000000</td>\n",
       "      <td>19622.000000</td>\n",
       "      <td>19622.000000</td>\n",
       "      <td>19622.000000</td>\n",
       "      <td>19622.000000</td>\n",
       "      <td>19622.000000</td>\n",
       "      <td>19622.000000</td>\n",
       "      <td>19622.000000</td>\n",
       "      <td>19622.000000</td>\n",
       "      <td>19622.000000</td>\n",
       "    </tr>\n",
       "    <tr>\n",
       "      <th>mean</th>\n",
       "      <td>9811.500000</td>\n",
       "      <td>1.322827e+09</td>\n",
       "      <td>500656.144277</td>\n",
       "      <td>430.640047</td>\n",
       "      <td>64.407197</td>\n",
       "      <td>0.305283</td>\n",
       "      <td>-11.205061</td>\n",
       "      <td>11.312608</td>\n",
       "      <td>-6.667241</td>\n",
       "      <td>12.923645</td>\n",
       "      <td>...</td>\n",
       "      <td>4639.849068</td>\n",
       "      <td>0.157951</td>\n",
       "      <td>0.075175</td>\n",
       "      <td>0.151245</td>\n",
       "      <td>-61.651819</td>\n",
       "      <td>163.655896</td>\n",
       "      <td>-55.291917</td>\n",
       "      <td>-312.575884</td>\n",
       "      <td>380.116445</td>\n",
       "      <td>393.613745</td>\n",
       "    </tr>\n",
       "    <tr>\n",
       "      <th>std</th>\n",
       "      <td>5664.527827</td>\n",
       "      <td>2.049277e+05</td>\n",
       "      <td>288222.879958</td>\n",
       "      <td>247.909554</td>\n",
       "      <td>62.750255</td>\n",
       "      <td>22.351242</td>\n",
       "      <td>95.193926</td>\n",
       "      <td>7.742309</td>\n",
       "      <td>94.594252</td>\n",
       "      <td>8.005960</td>\n",
       "      <td>...</td>\n",
       "      <td>7284.972361</td>\n",
       "      <td>0.648618</td>\n",
       "      <td>3.100725</td>\n",
       "      <td>1.754483</td>\n",
       "      <td>180.593687</td>\n",
       "      <td>200.130082</td>\n",
       "      <td>138.396947</td>\n",
       "      <td>346.958482</td>\n",
       "      <td>509.373742</td>\n",
       "      <td>369.268747</td>\n",
       "    </tr>\n",
       "    <tr>\n",
       "      <th>min</th>\n",
       "      <td>1.000000</td>\n",
       "      <td>1.322490e+09</td>\n",
       "      <td>294.000000</td>\n",
       "      <td>1.000000</td>\n",
       "      <td>-28.900000</td>\n",
       "      <td>-55.800000</td>\n",
       "      <td>-180.000000</td>\n",
       "      <td>0.000000</td>\n",
       "      <td>-94.300000</td>\n",
       "      <td>3.000000</td>\n",
       "      <td>...</td>\n",
       "      <td>0.000000</td>\n",
       "      <td>-22.000000</td>\n",
       "      <td>-7.020000</td>\n",
       "      <td>-8.090000</td>\n",
       "      <td>-498.000000</td>\n",
       "      <td>-632.000000</td>\n",
       "      <td>-446.000000</td>\n",
       "      <td>-1280.000000</td>\n",
       "      <td>-896.000000</td>\n",
       "      <td>-973.000000</td>\n",
       "    </tr>\n",
       "    <tr>\n",
       "      <th>25%</th>\n",
       "      <td>4906.250000</td>\n",
       "      <td>1.322673e+09</td>\n",
       "      <td>252912.250000</td>\n",
       "      <td>222.000000</td>\n",
       "      <td>1.100000</td>\n",
       "      <td>1.760000</td>\n",
       "      <td>-88.300000</td>\n",
       "      <td>3.000000</td>\n",
       "      <td>-88.000000</td>\n",
       "      <td>5.000000</td>\n",
       "      <td>...</td>\n",
       "      <td>0.274550</td>\n",
       "      <td>-0.220000</td>\n",
       "      <td>-1.460000</td>\n",
       "      <td>-0.180000</td>\n",
       "      <td>-178.000000</td>\n",
       "      <td>57.000000</td>\n",
       "      <td>-182.000000</td>\n",
       "      <td>-616.000000</td>\n",
       "      <td>2.000000</td>\n",
       "      <td>191.000000</td>\n",
       "    </tr>\n",
       "    <tr>\n",
       "      <th>50%</th>\n",
       "      <td>9811.500000</td>\n",
       "      <td>1.322833e+09</td>\n",
       "      <td>496380.000000</td>\n",
       "      <td>424.000000</td>\n",
       "      <td>113.000000</td>\n",
       "      <td>5.280000</td>\n",
       "      <td>-13.000000</td>\n",
       "      <td>17.000000</td>\n",
       "      <td>-5.100000</td>\n",
       "      <td>18.000000</td>\n",
       "      <td>...</td>\n",
       "      <td>612.214225</td>\n",
       "      <td>0.050000</td>\n",
       "      <td>0.030000</td>\n",
       "      <td>0.080000</td>\n",
       "      <td>-57.000000</td>\n",
       "      <td>201.000000</td>\n",
       "      <td>-39.000000</td>\n",
       "      <td>-378.000000</td>\n",
       "      <td>591.000000</td>\n",
       "      <td>511.000000</td>\n",
       "    </tr>\n",
       "    <tr>\n",
       "      <th>75%</th>\n",
       "      <td>14716.750000</td>\n",
       "      <td>1.323084e+09</td>\n",
       "      <td>751890.750000</td>\n",
       "      <td>644.000000</td>\n",
       "      <td>123.000000</td>\n",
       "      <td>14.900000</td>\n",
       "      <td>12.900000</td>\n",
       "      <td>18.000000</td>\n",
       "      <td>18.500000</td>\n",
       "      <td>19.000000</td>\n",
       "      <td>...</td>\n",
       "      <td>7368.414252</td>\n",
       "      <td>0.560000</td>\n",
       "      <td>1.620000</td>\n",
       "      <td>0.490000</td>\n",
       "      <td>76.000000</td>\n",
       "      <td>312.000000</td>\n",
       "      <td>26.000000</td>\n",
       "      <td>-73.000000</td>\n",
       "      <td>737.000000</td>\n",
       "      <td>653.000000</td>\n",
       "    </tr>\n",
       "    <tr>\n",
       "      <th>max</th>\n",
       "      <td>19622.000000</td>\n",
       "      <td>1.323095e+09</td>\n",
       "      <td>998801.000000</td>\n",
       "      <td>864.000000</td>\n",
       "      <td>162.000000</td>\n",
       "      <td>60.300000</td>\n",
       "      <td>179.000000</td>\n",
       "      <td>29.000000</td>\n",
       "      <td>180.000000</td>\n",
       "      <td>30.000000</td>\n",
       "      <td>...</td>\n",
       "      <td>39009.333330</td>\n",
       "      <td>3.970000</td>\n",
       "      <td>311.000000</td>\n",
       "      <td>231.000000</td>\n",
       "      <td>477.000000</td>\n",
       "      <td>923.000000</td>\n",
       "      <td>291.000000</td>\n",
       "      <td>672.000000</td>\n",
       "      <td>1480.000000</td>\n",
       "      <td>1090.000000</td>\n",
       "    </tr>\n",
       "  </tbody>\n",
       "</table>\n",
       "<p>8 rows × 123 columns</p>\n",
       "</div>"
      ],
      "text/plain": [
       "         Unnamed: 0  raw_timestamp_part_1  raw_timestamp_part_2    num_window  \\\n",
       "count  19622.000000          1.962200e+04          19622.000000  19622.000000   \n",
       "mean    9811.500000          1.322827e+09         500656.144277    430.640047   \n",
       "std     5664.527827          2.049277e+05         288222.879958    247.909554   \n",
       "min        1.000000          1.322490e+09            294.000000      1.000000   \n",
       "25%     4906.250000          1.322673e+09         252912.250000    222.000000   \n",
       "50%     9811.500000          1.322833e+09         496380.000000    424.000000   \n",
       "75%    14716.750000          1.323084e+09         751890.750000    644.000000   \n",
       "max    19622.000000          1.323095e+09         998801.000000    864.000000   \n",
       "\n",
       "          roll_belt    pitch_belt      yaw_belt  total_accel_belt  \\\n",
       "count  19622.000000  19622.000000  19622.000000      19622.000000   \n",
       "mean      64.407197      0.305283    -11.205061         11.312608   \n",
       "std       62.750255     22.351242     95.193926          7.742309   \n",
       "min      -28.900000    -55.800000   -180.000000          0.000000   \n",
       "25%        1.100000      1.760000    -88.300000          3.000000   \n",
       "50%      113.000000      5.280000    -13.000000         17.000000   \n",
       "75%      123.000000     14.900000     12.900000         18.000000   \n",
       "max      162.000000     60.300000    179.000000         29.000000   \n",
       "\n",
       "       max_roll_belt  max_picth_belt  ...  var_yaw_forearm  gyros_forearm_x  \\\n",
       "count     406.000000      406.000000  ...       406.000000     19622.000000   \n",
       "mean       -6.667241       12.923645  ...      4639.849068         0.157951   \n",
       "std        94.594252        8.005960  ...      7284.972361         0.648618   \n",
       "min       -94.300000        3.000000  ...         0.000000       -22.000000   \n",
       "25%       -88.000000        5.000000  ...         0.274550        -0.220000   \n",
       "50%        -5.100000       18.000000  ...       612.214225         0.050000   \n",
       "75%        18.500000       19.000000  ...      7368.414252         0.560000   \n",
       "max       180.000000       30.000000  ...     39009.333330         3.970000   \n",
       "\n",
       "       gyros_forearm_y  gyros_forearm_z  accel_forearm_x  accel_forearm_y  \\\n",
       "count     19622.000000     19622.000000     19622.000000     19622.000000   \n",
       "mean          0.075175         0.151245       -61.651819       163.655896   \n",
       "std           3.100725         1.754483       180.593687       200.130082   \n",
       "min          -7.020000        -8.090000      -498.000000      -632.000000   \n",
       "25%          -1.460000        -0.180000      -178.000000        57.000000   \n",
       "50%           0.030000         0.080000       -57.000000       201.000000   \n",
       "75%           1.620000         0.490000        76.000000       312.000000   \n",
       "max         311.000000       231.000000       477.000000       923.000000   \n",
       "\n",
       "       accel_forearm_z  magnet_forearm_x  magnet_forearm_y  magnet_forearm_z  \n",
       "count     19622.000000      19622.000000      19622.000000      19622.000000  \n",
       "mean        -55.291917       -312.575884        380.116445        393.613745  \n",
       "std         138.396947        346.958482        509.373742        369.268747  \n",
       "min        -446.000000      -1280.000000       -896.000000       -973.000000  \n",
       "25%        -182.000000       -616.000000          2.000000        191.000000  \n",
       "50%         -39.000000       -378.000000        591.000000        511.000000  \n",
       "75%          26.000000        -73.000000        737.000000        653.000000  \n",
       "max         291.000000        672.000000       1480.000000       1090.000000  \n",
       "\n",
       "[8 rows x 123 columns]"
      ]
     },
     "execution_count": 6,
     "metadata": {},
     "output_type": "execute_result"
    }
   ],
   "source": [
    "# Estadística descriptiva de las variables numéricas.\n",
    "df.describe()"
   ]
  },
  {
   "cell_type": "code",
   "execution_count": 7,
   "metadata": {},
   "outputs": [
    {
     "data": {
      "image/png": "[encoded data removed]",
      "text/plain": [
       "<Figure size 432x288 with 1 Axes>"
      ]
     },
     "metadata": {
      "needs_background": "light"
     },
     "output_type": "display_data"
    }
   ],
   "source": [
    "# Tabla de frecuencia de la variable respuesta.\n",
    "freqs = df.classe.value_counts()\n",
    "sns.barplot(freqs.index, freqs.values,ci=None)\n",
    "plt.show()"
   ]
  },
  {
   "cell_type": "code",
   "execution_count": 8,
   "metadata": {},
   "outputs": [
    {
     "data": {
      "text/plain": [
       "Unnamed: 0              0.0\n",
       "user_name               0.0\n",
       "raw_timestamp_part_1    0.0\n",
       "raw_timestamp_part_2    0.0\n",
       "cvtd_timestamp          0.0\n",
       "                       ... \n",
       "accel_forearm_z         0.0\n",
       "magnet_forearm_x        0.0\n",
       "magnet_forearm_y        0.0\n",
       "magnet_forearm_z        0.0\n",
       "classe                  0.0\n",
       "Length: 160, dtype: float64"
      ]
     },
     "execution_count": 8,
     "metadata": {},
     "output_type": "execute_result"
    }
   ],
   "source": [
    "# PProporción de los valores perdidos por columna.\n",
    "pd.isnull(df).mean(axis=0)"
   ]
  },
  {
   "cell_type": "markdown",
   "metadata": {},
   "source": [
    "2). Elimine las columnas que tengan más del 97% de valores perdidos."
   ]
  },
  {
   "cell_type": "code",
   "execution_count": 9,
   "metadata": {},
   "outputs": [],
   "source": [
    "# Conserve solo aquellas columnas con menos del 97% de valor perdido.\n",
    "isnotZero = np.array(pd.isnull(df).mean(axis=0) < 0.97)\n",
    "df = df.loc[:, isnotZero]"
   ]
  },
  {
   "cell_type": "code",
   "execution_count": 10,
   "metadata": {},
   "outputs": [
    {
     "data": {
      "text/plain": [
       "Unnamed: 0              0.0\n",
       "user_name               0.0\n",
       "raw_timestamp_part_1    0.0\n",
       "raw_timestamp_part_2    0.0\n",
       "cvtd_timestamp          0.0\n",
       "new_window              0.0\n",
       "num_window              0.0\n",
       "roll_belt               0.0\n",
       "pitch_belt              0.0\n",
       "yaw_belt                0.0\n",
       "total_accel_belt        0.0\n",
       "gyros_belt_x            0.0\n",
       "gyros_belt_y            0.0\n",
       "gyros_belt_z            0.0\n",
       "accel_belt_x            0.0\n",
       "accel_belt_y            0.0\n",
       "accel_belt_z            0.0\n",
       "magnet_belt_x           0.0\n",
       "magnet_belt_y           0.0\n",
       "magnet_belt_z           0.0\n",
       "roll_arm                0.0\n",
       "pitch_arm               0.0\n",
       "yaw_arm                 0.0\n",
       "total_accel_arm         0.0\n",
       "gyros_arm_x             0.0\n",
       "gyros_arm_y             0.0\n",
       "gyros_arm_z             0.0\n",
       "accel_arm_x             0.0\n",
       "accel_arm_y             0.0\n",
       "accel_arm_z             0.0\n",
       "magnet_arm_x            0.0\n",
       "magnet_arm_y            0.0\n",
       "magnet_arm_z            0.0\n",
       "roll_dumbbell           0.0\n",
       "pitch_dumbbell          0.0\n",
       "yaw_dumbbell            0.0\n",
       "total_accel_dumbbell    0.0\n",
       "gyros_dumbbell_x        0.0\n",
       "gyros_dumbbell_y        0.0\n",
       "gyros_dumbbell_z        0.0\n",
       "accel_dumbbell_x        0.0\n",
       "accel_dumbbell_y        0.0\n",
       "accel_dumbbell_z        0.0\n",
       "magnet_dumbbell_x       0.0\n",
       "magnet_dumbbell_y       0.0\n",
       "magnet_dumbbell_z       0.0\n",
       "roll_forearm            0.0\n",
       "pitch_forearm           0.0\n",
       "yaw_forearm             0.0\n",
       "total_accel_forearm     0.0\n",
       "gyros_forearm_x         0.0\n",
       "gyros_forearm_y         0.0\n",
       "gyros_forearm_z         0.0\n",
       "accel_forearm_x         0.0\n",
       "accel_forearm_y         0.0\n",
       "accel_forearm_z         0.0\n",
       "magnet_forearm_x        0.0\n",
       "magnet_forearm_y        0.0\n",
       "magnet_forearm_z        0.0\n",
       "classe                  0.0\n",
       "dtype: float64"
      ]
     },
     "execution_count": 10,
     "metadata": {},
     "output_type": "execute_result"
    }
   ],
   "source": [
    "# Ahora verifique el resultado. ¡No más valores perdidos!\n",
    "pd.isnull(df).mean(axis=0)"
   ]
  },
  {
   "cell_type": "code",
   "execution_count": 11,
   "metadata": {},
   "outputs": [
    {
     "data": {
      "text/plain": [
       "(19622, 60)"
      ]
     },
     "execution_count": 11,
     "metadata": {},
     "output_type": "execute_result"
    }
   ],
   "source": [
    "# Comprueba el tamaño.\n",
    "df.shape"
   ]
  },
  {
   "cell_type": "markdown",
   "metadata": {},
   "source": [
    "3). Elimine de las columnas innecesarias. SUGERENCIA: Aquellas columnas con \"time\" en el nombre y aquellas que obviamente son innecesarias."
   ]
  },
  {
   "cell_type": "code",
   "execution_count": 12,
   "metadata": {},
   "outputs": [
    {
     "name": "stdout",
     "output_type": "stream",
     "text": [
      "(19622, 54)\n"
     ]
    },
    {
     "data": {
      "text/html": [
       "<div>\n",
       "<style scoped>\n",
       "    .dataframe tbody tr th:only-of-type {\n",
       "        vertical-align: middle;\n",
       "    }\n",
       "\n",
       "    .dataframe tbody tr th {\n",
       "        vertical-align: top;\n",
       "    }\n",
       "\n",
       "    .dataframe thead th {\n",
       "        text-align: right;\n",
       "    }\n",
       "</style>\n",
       "<table border=\"1\" class=\"dataframe\">\n",
       "  <thead>\n",
       "    <tr style=\"text-align: right;\">\n",
       "      <th></th>\n",
       "      <th>num_window</th>\n",
       "      <th>roll_belt</th>\n",
       "      <th>pitch_belt</th>\n",
       "      <th>yaw_belt</th>\n",
       "      <th>total_accel_belt</th>\n",
       "      <th>gyros_belt_x</th>\n",
       "      <th>gyros_belt_y</th>\n",
       "      <th>gyros_belt_z</th>\n",
       "      <th>accel_belt_x</th>\n",
       "      <th>accel_belt_y</th>\n",
       "      <th>...</th>\n",
       "      <th>gyros_forearm_x</th>\n",
       "      <th>gyros_forearm_y</th>\n",
       "      <th>gyros_forearm_z</th>\n",
       "      <th>accel_forearm_x</th>\n",
       "      <th>accel_forearm_y</th>\n",
       "      <th>accel_forearm_z</th>\n",
       "      <th>magnet_forearm_x</th>\n",
       "      <th>magnet_forearm_y</th>\n",
       "      <th>magnet_forearm_z</th>\n",
       "      <th>classe</th>\n",
       "    </tr>\n",
       "  </thead>\n",
       "  <tbody>\n",
       "    <tr>\n",
       "      <th>0</th>\n",
       "      <td>11</td>\n",
       "      <td>1.41</td>\n",
       "      <td>8.07</td>\n",
       "      <td>-94.4</td>\n",
       "      <td>3</td>\n",
       "      <td>0.00</td>\n",
       "      <td>0.00</td>\n",
       "      <td>-0.02</td>\n",
       "      <td>-21</td>\n",
       "      <td>4</td>\n",
       "      <td>...</td>\n",
       "      <td>0.03</td>\n",
       "      <td>0.00</td>\n",
       "      <td>-0.02</td>\n",
       "      <td>192</td>\n",
       "      <td>203</td>\n",
       "      <td>-215</td>\n",
       "      <td>-17</td>\n",
       "      <td>654.0</td>\n",
       "      <td>476.0</td>\n",
       "      <td>A</td>\n",
       "    </tr>\n",
       "    <tr>\n",
       "      <th>1</th>\n",
       "      <td>11</td>\n",
       "      <td>1.41</td>\n",
       "      <td>8.07</td>\n",
       "      <td>-94.4</td>\n",
       "      <td>3</td>\n",
       "      <td>0.02</td>\n",
       "      <td>0.00</td>\n",
       "      <td>-0.02</td>\n",
       "      <td>-22</td>\n",
       "      <td>4</td>\n",
       "      <td>...</td>\n",
       "      <td>0.02</td>\n",
       "      <td>0.00</td>\n",
       "      <td>-0.02</td>\n",
       "      <td>192</td>\n",
       "      <td>203</td>\n",
       "      <td>-216</td>\n",
       "      <td>-18</td>\n",
       "      <td>661.0</td>\n",
       "      <td>473.0</td>\n",
       "      <td>A</td>\n",
       "    </tr>\n",
       "    <tr>\n",
       "      <th>2</th>\n",
       "      <td>11</td>\n",
       "      <td>1.42</td>\n",
       "      <td>8.07</td>\n",
       "      <td>-94.4</td>\n",
       "      <td>3</td>\n",
       "      <td>0.00</td>\n",
       "      <td>0.00</td>\n",
       "      <td>-0.02</td>\n",
       "      <td>-20</td>\n",
       "      <td>5</td>\n",
       "      <td>...</td>\n",
       "      <td>0.03</td>\n",
       "      <td>-0.02</td>\n",
       "      <td>0.00</td>\n",
       "      <td>196</td>\n",
       "      <td>204</td>\n",
       "      <td>-213</td>\n",
       "      <td>-18</td>\n",
       "      <td>658.0</td>\n",
       "      <td>469.0</td>\n",
       "      <td>A</td>\n",
       "    </tr>\n",
       "    <tr>\n",
       "      <th>3</th>\n",
       "      <td>12</td>\n",
       "      <td>1.48</td>\n",
       "      <td>8.05</td>\n",
       "      <td>-94.4</td>\n",
       "      <td>3</td>\n",
       "      <td>0.02</td>\n",
       "      <td>0.00</td>\n",
       "      <td>-0.03</td>\n",
       "      <td>-22</td>\n",
       "      <td>3</td>\n",
       "      <td>...</td>\n",
       "      <td>0.02</td>\n",
       "      <td>-0.02</td>\n",
       "      <td>0.00</td>\n",
       "      <td>189</td>\n",
       "      <td>206</td>\n",
       "      <td>-214</td>\n",
       "      <td>-16</td>\n",
       "      <td>658.0</td>\n",
       "      <td>469.0</td>\n",
       "      <td>A</td>\n",
       "    </tr>\n",
       "    <tr>\n",
       "      <th>4</th>\n",
       "      <td>12</td>\n",
       "      <td>1.48</td>\n",
       "      <td>8.07</td>\n",
       "      <td>-94.4</td>\n",
       "      <td>3</td>\n",
       "      <td>0.02</td>\n",
       "      <td>0.02</td>\n",
       "      <td>-0.02</td>\n",
       "      <td>-21</td>\n",
       "      <td>2</td>\n",
       "      <td>...</td>\n",
       "      <td>0.02</td>\n",
       "      <td>0.00</td>\n",
       "      <td>-0.02</td>\n",
       "      <td>189</td>\n",
       "      <td>206</td>\n",
       "      <td>-214</td>\n",
       "      <td>-17</td>\n",
       "      <td>655.0</td>\n",
       "      <td>473.0</td>\n",
       "      <td>A</td>\n",
       "    </tr>\n",
       "  </tbody>\n",
       "</table>\n",
       "<p>5 rows × 54 columns</p>\n",
       "</div>"
      ],
      "text/plain": [
       "   num_window  roll_belt  pitch_belt  yaw_belt  total_accel_belt  \\\n",
       "0          11       1.41        8.07     -94.4                 3   \n",
       "1          11       1.41        8.07     -94.4                 3   \n",
       "2          11       1.42        8.07     -94.4                 3   \n",
       "3          12       1.48        8.05     -94.4                 3   \n",
       "4          12       1.48        8.07     -94.4                 3   \n",
       "\n",
       "   gyros_belt_x  gyros_belt_y  gyros_belt_z  accel_belt_x  accel_belt_y  ...  \\\n",
       "0          0.00          0.00         -0.02           -21             4  ...   \n",
       "1          0.02          0.00         -0.02           -22             4  ...   \n",
       "2          0.00          0.00         -0.02           -20             5  ...   \n",
       "3          0.02          0.00         -0.03           -22             3  ...   \n",
       "4          0.02          0.02         -0.02           -21             2  ...   \n",
       "\n",
       "   gyros_forearm_x  gyros_forearm_y  gyros_forearm_z  accel_forearm_x  \\\n",
       "0             0.03             0.00            -0.02              192   \n",
       "1             0.02             0.00            -0.02              192   \n",
       "2             0.03            -0.02             0.00              196   \n",
       "3             0.02            -0.02             0.00              189   \n",
       "4             0.02             0.00            -0.02              189   \n",
       "\n",
       "   accel_forearm_y  accel_forearm_z  magnet_forearm_x  magnet_forearm_y  \\\n",
       "0              203             -215               -17             654.0   \n",
       "1              203             -216               -18             661.0   \n",
       "2              204             -213               -18             658.0   \n",
       "3              206             -214               -16             658.0   \n",
       "4              206             -214               -17             655.0   \n",
       "\n",
       "   magnet_forearm_z  classe  \n",
       "0             476.0       A  \n",
       "1             473.0       A  \n",
       "2             469.0       A  \n",
       "3             469.0       A  \n",
       "4             473.0       A  \n",
       "\n",
       "[5 rows x 54 columns]"
      ]
     },
     "execution_count": 12,
     "metadata": {},
     "output_type": "execute_result"
    }
   ],
   "source": [
    "# Elimine de las columnas con \"tiempo\" en el nombre.\n",
    "header =df.columns\n",
    "isnotTime = []\n",
    "for col in header:\n",
    "    if \"time\" in col:\n",
    "        isnotTime.append(False)\n",
    "    else:\n",
    "        isnotTime.append(True)\n",
    "df = df.loc[:, isnotTime]\n",
    "\n",
    "# Elimine las columnas innecesarias\n",
    "df = df.drop(columns = ['Unnamed: 0','user_name','new_window'])\n",
    "print(df.shape)\n",
    "df.head(5)"
   ]
  },
  {
   "cell_type": "markdown",
   "metadata": {},
   "source": [
    "4). Codifique la etiqueta de la variable de respuesta. SUGERENCIA: use preprocessing.LabelEncoder ()."
   ]
  },
  {
   "cell_type": "code",
   "execution_count": 13,
   "metadata": {},
   "outputs": [],
   "source": [
    "LE = preprocessing.LabelEncoder()\n",
    "X = np.array(df.drop(columns='classe'))\n",
    "Y = np.array(df.loc[:,'classe'])\n",
    "Y = LE.fit_transform(Y)"
   ]
  },
  {
   "cell_type": "markdown",
   "metadata": {},
   "source": [
    "5). Realizar escalado min-max de las variables exploratorias. SUGERENCIA: utilice preprocesamiento.MinMaxScaler ()."
   ]
  },
  {
   "cell_type": "code",
   "execution_count": 14,
   "metadata": {},
   "outputs": [],
   "source": [
    "scaler = preprocessing.MinMaxScaler()\n",
    "X = scaler.fit_transform(X)"
   ]
  },
  {
   "cell_type": "markdown",
   "metadata": {},
   "source": [
    "6). Elija un algoritmo y realice el análisis predictivo.\n",
    "- Optimizar el (los) hiperparámetro (s)\n",
    "- Calcule la precisión.\n",
    "- Consiga una precisión superior al 90%."
   ]
  },
  {
   "cell_type": "code",
   "execution_count": 15,
   "metadata": {},
   "outputs": [],
   "source": [
    "X_train, X_test, Y_train, Y_test = train_test_split(X, Y, test_size=0.3, random_state=123)"
   ]
  },
  {
   "cell_type": "code",
   "execution_count": 16,
   "metadata": {},
   "outputs": [],
   "source": [
    "# Aquí, aplicaremos el KNN.\n",
    "# Cuadrícula de parámetros.\n",
    "k_grid = np.arange(1,11,1)\n",
    "parameters = {'n_neighbors':k_grid}"
   ]
  },
  {
   "cell_type": "code",
   "execution_count": 17,
   "metadata": {},
   "outputs": [
    {
     "name": "stdout",
     "output_type": "stream",
     "text": [
      "Best k : 1\n"
     ]
    }
   ],
   "source": [
    "# Optimizar la k.\n",
    "gridCV = GridSearchCV(KNeighborsClassifier(), parameters, cv=10, n_jobs = -1)       # \"n_jobs = -1\" significa \"usar todos los núcleos de la CPU\".\n",
    "gridCV.fit(X_train, Y_train)\n",
    "best_k = gridCV.best_params_['n_neighbors']\n",
    "print(\"Best k : \" + str(best_k))"
   ]
  },
  {
   "cell_type": "code",
   "execution_count": 18,
   "metadata": {},
   "outputs": [
    {
     "name": "stdout",
     "output_type": "stream",
     "text": [
      "Best KNN accuracy : 0.986\n"
     ]
    }
   ],
   "source": [
    "# Testar con la mejor k.\n",
    "KNN_best = KNeighborsClassifier(n_neighbors=best_k)\n",
    "KNN_best.fit(X_train, Y_train)\n",
    "Y_pred = KNN_best.predict(X_test)\n",
    "print( \"Best KNN accuracy : \" + str(np.round(metrics.accuracy_score(Y_test,Y_pred),3)))"
   ]
  },
  {
   "cell_type": "code",
   "execution_count": null,
   "metadata": {},
   "outputs": [],
   "source": []
  }
 ],
 "metadata": {
  "kernelspec": {
   "display_name": "Python 3",
   "language": "python",
   "name": "python3"
  },
  "language_info": {
   "codemirror_mode": {
    "name": "ipython",
    "version": 3
   },
   "file_extension": ".py",
   "mimetype": "text/x-python",
   "name": "python",
   "nbconvert_exporter": "python",
   "pygments_lexer": "ipython3",
   "version": "3.8.8"
  }
 },
 "nbformat": 4,
 "nbformat_minor": 2
}
