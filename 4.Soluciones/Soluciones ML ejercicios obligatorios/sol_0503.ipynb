{
 "cells": [
  {
   "cell_type": "markdown",
   "metadata": {
    "id": "YGf_4qAiiiUA"
   },
   "source": [
    "## Prueba #0503 (Solución)"
   ]
  },
  {
   "cell_type": "markdown",
   "metadata": {
    "id": "KAleUKm0iiUB"
   },
   "source": [
    "### \"Aumento de datos\""
   ]
  },
  {
   "cell_type": "markdown",
   "metadata": {
    "id": "T2e08BaCiiUC"
   },
   "source": [
    "#### Responda las siguientes preguntas proporcionando código Python:\n",
    "#### Objetivos:\n",
    "- Codifique las funciones de ayuda.\n",
    "- Optimice y pruebe un modelo predictivo de su elección.\n",
    "- Realice aumentos de datos para mejorar la precisión predictiva cuando los datos de entrenamiento proporcionados son pequeños."
   ]
  },
  {
   "cell_type": "code",
   "execution_count": 1,
   "metadata": {
    "executionInfo": {
     "elapsed": 1591,
     "status": "ok",
     "timestamp": 1603273379368,
     "user": {
      "displayName": "Fernando Ortega Requena",
      "photoUrl": "https://lh3.googleusercontent.com/a-/AOh14GgiZKcEyk_b-6E_dNg7_x20idZVEj0N7w-N6pwgBQ=s64",
      "userId": "02003917424124170753"
     },
     "user_tz": -120
    },
    "id": "DelJqMEdiiUC"
   },
   "outputs": [],
   "source": [
    "import numpy as np\n",
    "import pandas as pd\n",
    "import os\n",
    "import warnings\n",
    "import matplotlib.pyplot as plt\n",
    "from sklearn.model_selection import GridSearchCV\n",
    "from sklearn.neighbors import KNeighborsClassifier\n",
    "from sklearn.tree import DecisionTreeClassifier\n",
    "from sklearn.ensemble import RandomForestClassifier,AdaBoostClassifier, GradientBoostingClassifier\n",
    "from xgboost import XGBClassifier\n",
    "from sklearn import metrics, preprocessing\n",
    "from scipy.ndimage.interpolation import rotate\n",
    "warnings.filterwarnings(action='ignore')                  # Desactivar las advertencias\n",
    "%matplotlib inline"
   ]
  },
  {
   "cell_type": "markdown",
   "metadata": {
    "id": "iWU1G97iiiUF"
   },
   "source": [
    "#### Leer los datos:\n",
    "La explicación de los datos originales se puede encontrar [aquí](http://yann.lecun.com/exdb/mnist/).\n",
    "- Los datos que usaremos son un pequeño subconjunto de los datos originales con solo 100 observaciones.\n",
    "- Cada observación es la versión \"aplanada\" de una imagen.\n",
    "- La primera columna corresponde a la etiqueta (Y).\n",
    "- El tamaño de la imagen es 28x28."
   ]
  },
  {
   "cell_type": "code",
   "execution_count": 2,
   "metadata": {
    "colab": {
     "base_uri": "https://localhost:8080/",
     "height": 375
    },
    "executionInfo": {
     "elapsed": 1593,
     "status": "error",
     "timestamp": 1603273379375,
     "user": {
      "displayName": "Fernando Ortega Requena",
      "photoUrl": "https://lh3.googleusercontent.com/a-/AOh14GgiZKcEyk_b-6E_dNg7_x20idZVEj0N7w-N6pwgBQ=s64",
      "userId": "02003917424124170753"
     },
     "user_tz": -120
    },
    "id": "WrgaKQwfiiUG",
    "outputId": "80c79e78-9c1d-4809-b746-05bf69bf0afd"
   },
   "outputs": [],
   "source": [
    "# Lea los datos de entrenamiento y prueba por separado.\n",
    "data_train = pd.read_csv('data_mnist_train_100.csv', header=None,encoding='latin1')\n",
    "data_test = pd.read_csv('data_mnist_test_100.csv', header=None,encoding='latin1')\n",
    "\n",
    "# Escale y divida el conjunto de datos en X e Y.\n",
    "X_train = np.array((data_train.iloc[:,1:]/255.0)*0.99+0.01)\n",
    "X_test = np.array((data_test.iloc[:,1:]/255.0)*0.99+0.01)\n",
    "Y_train = np.array(data_train.iloc[:,0])\n",
    "Y_test = np.array(data_test.iloc[:,0])"
   ]
  },
  {
   "cell_type": "markdown",
   "metadata": {
    "id": "TFchQq-giiUI"
   },
   "source": [
    "1). Codifique la función auxiliar 'show_data ()' que visualiza cada observación dada. SUGERENCIA: use matplotlib.pyplot.imshow () y scipy.ndimage.interpolation ()."
   ]
  },
  {
   "cell_type": "code",
   "execution_count": 3,
   "metadata": {
    "executionInfo": {
     "elapsed": 1585,
     "status": "aborted",
     "timestamp": 1603273379369,
     "user": {
      "displayName": "Fernando Ortega Requena",
      "photoUrl": "https://lh3.googleusercontent.com/a-/AOh14GgiZKcEyk_b-6E_dNg7_x20idZVEj0N7w-N6pwgBQ=s64",
      "userId": "02003917424124170753"
     },
     "user_tz": -120
    },
    "id": "Z_276WEoiiUJ"
   },
   "outputs": [],
   "source": [
    "def show_data(X, Y, n, angle=0):\n",
    "    image_matrix = X[n,:].reshape((28,28))\n",
    "    image_matrix = rotate(image_matrix, angle, cval=0.01, reshape=False)\n",
    "    imax = image_matrix.max()\n",
    "    imin = image_matrix.min()\n",
    "    image_matrix = ((image_matrix-imin)/(imax-imin))*0.99+0.01\n",
    "    plt.imshow(image_matrix, cmap='Greys',interpolation='None')\n",
    "    print(Y[n])"
   ]
  },
  {
   "cell_type": "code",
   "execution_count": 4,
   "metadata": {
    "executionInfo": {
     "elapsed": 1583,
     "status": "aborted",
     "timestamp": 1603273379370,
     "user": {
      "displayName": "Fernando Ortega Requena",
      "photoUrl": "https://lh3.googleusercontent.com/a-/AOh14GgiZKcEyk_b-6E_dNg7_x20idZVEj0N7w-N6pwgBQ=s64",
      "userId": "02003917424124170753"
     },
     "user_tz": -120
    },
    "id": "W-McN8WOiiUL"
   },
   "outputs": [
    {
     "name": "stdout",
     "output_type": "stream",
     "text": [
      "3\n"
     ]
    },
    {
     "data": {
      "image/png": "[encoded data removed]",
      "text/plain": [
       "<Figure size 432x288 with 1 Axes>"
      ]
     },
     "metadata": {
      "needs_background": "light"
     },
     "output_type": "display_data"
    }
   ],
   "source": [
    "# Ejemplo 1.\n",
    "show_data(X_train, Y_train,10,+10)"
   ]
  },
  {
   "cell_type": "code",
   "execution_count": 5,
   "metadata": {
    "executionInfo": {
     "elapsed": 1581,
     "status": "aborted",
     "timestamp": 1603273379370,
     "user": {
      "displayName": "Fernando Ortega Requena",
      "photoUrl": "https://lh3.googleusercontent.com/a-/AOh14GgiZKcEyk_b-6E_dNg7_x20idZVEj0N7w-N6pwgBQ=s64",
      "userId": "02003917424124170753"
     },
     "user_tz": -120
    },
    "id": "sVoj9vAniiUP"
   },
   "outputs": [
    {
     "name": "stdout",
     "output_type": "stream",
     "text": [
      "3\n"
     ]
    },
    {
     "data": {
      "image/png": "[encoded data removed]",
      "text/plain": [
       "<Figure size 432x288 with 1 Axes>"
      ]
     },
     "metadata": {
      "needs_background": "light"
     },
     "output_type": "display_data"
    }
   ],
   "source": [
    "# Ejemplo 2.\n",
    "show_data(X_train, Y_train,10,-30)"
   ]
  },
  {
   "cell_type": "code",
   "execution_count": 6,
   "metadata": {
    "executionInfo": {
     "elapsed": 1580,
     "status": "aborted",
     "timestamp": 1603273379371,
     "user": {
      "displayName": "Fernando Ortega Requena",
      "photoUrl": "https://lh3.googleusercontent.com/a-/AOh14GgiZKcEyk_b-6E_dNg7_x20idZVEj0N7w-N6pwgBQ=s64",
      "userId": "02003917424124170753"
     },
     "user_tz": -120
    },
    "id": "dVOu1XCZiiUS"
   },
   "outputs": [
    {
     "name": "stdout",
     "output_type": "stream",
     "text": [
      "1\n"
     ]
    },
    {
     "data": {
      "image/png": "[encoded data removed]",
      "text/plain": [
       "<Figure size 432x288 with 1 Axes>"
      ]
     },
     "metadata": {
      "needs_background": "light"
     },
     "output_type": "display_data"
    }
   ],
   "source": [
    "# Ejemplo 3.\n",
    "show_data(X_train, Y_train,77,0)"
   ]
  },
  {
   "cell_type": "markdown",
   "metadata": {
    "id": "XshRmNgPiiUV"
   },
   "source": [
    "2). Elija un algoritmo y realice el análisis predictivo.\n",
    "- Optimizar los hiperparámetros.\n",
    "- Calcule la precisión.\n",
    "- ¿Es la precisión lo suficientemente alta?"
   ]
  },
  {
   "cell_type": "code",
   "execution_count": 8,
   "metadata": {
    "executionInfo": {
     "elapsed": 1578,
     "status": "aborted",
     "timestamp": 1603273379371,
     "user": {
      "displayName": "Fernando Ortega Requena",
      "photoUrl": "https://lh3.googleusercontent.com/a-/AOh14GgiZKcEyk_b-6E_dNg7_x20idZVEj0N7w-N6pwgBQ=s64",
      "userId": "02003917424124170753"
     },
     "user_tz": -120
    },
    "id": "ZXKvPXc7iiUW"
   },
   "outputs": [],
   "source": [
    "estimator_grid = np.arange(30, 101, 10)\n",
    "depth_grid = np.arange(20, 51, 2)\n",
    "parameters = {'n_estimators': estimator_grid, 'max_depth': depth_grid}\n",
    "gridCV = GridSearchCV(RandomForestClassifier(), param_grid=parameters, cv=10)\n",
    "gridCV.fit(X_train, Y_train)\n",
    "best_n_estim = gridCV.best_params_['n_estimators']\n",
    "best_depth = gridCV.best_params_['max_depth']"
   ]
  },
  {
   "cell_type": "code",
   "execution_count": 9,
   "metadata": {
    "executionInfo": {
     "elapsed": 1577,
     "status": "aborted",
     "timestamp": 1603273379372,
     "user": {
      "displayName": "Fernando Ortega Requena",
      "photoUrl": "https://lh3.googleusercontent.com/a-/AOh14GgiZKcEyk_b-6E_dNg7_x20idZVEj0N7w-N6pwgBQ=s64",
      "userId": "02003917424124170753"
     },
     "user_tz": -120
    },
    "id": "3ozg5PrGiiUY"
   },
   "outputs": [
    {
     "name": "stdout",
     "output_type": "stream",
     "text": [
      "Random Forest best n estimator : 80\n",
      "Random Forest best depth : 46\n"
     ]
    }
   ],
   "source": [
    "print(\"Random Forest best n estimator : \" + str(best_n_estim))\n",
    "print(\"Random Forest best depth : \" + str(best_depth))"
   ]
  },
  {
   "cell_type": "code",
   "execution_count": 10,
   "metadata": {
    "executionInfo": {
     "elapsed": 1574,
     "status": "aborted",
     "timestamp": 1603273379372,
     "user": {
      "displayName": "Fernando Ortega Requena",
      "photoUrl": "https://lh3.googleusercontent.com/a-/AOh14GgiZKcEyk_b-6E_dNg7_x20idZVEj0N7w-N6pwgBQ=s64",
      "userId": "02003917424124170753"
     },
     "user_tz": -120
    },
    "id": "BNo1R2a4iiUa"
   },
   "outputs": [
    {
     "name": "stdout",
     "output_type": "stream",
     "text": [
      "Random Forest best accuracy : 0.68\n"
     ]
    }
   ],
   "source": [
    "RF_best = RandomForestClassifier(max_depth=best_depth,n_estimators=best_n_estim,random_state=3)\n",
    "RF_best.fit(X_train, Y_train);\n",
    "Y_pred = RF_best.predict(X_test)\n",
    "print( \"Random Forest best accuracy : \" + str(np.round(metrics.accuracy_score(Y_test,Y_pred),3)))"
   ]
  },
  {
   "cell_type": "markdown",
   "metadata": {
    "id": "6Awql-kMiiUc"
   },
   "source": [
    "3). Codifique la función auxiliar 'rotate_data ()' que rota cada observación dada en un ángulo. SUGERENCIA: use scipy.ndimage.interpolation ()."
   ]
  },
  {
   "cell_type": "code",
   "execution_count": 11,
   "metadata": {
    "executionInfo": {
     "elapsed": 1573,
     "status": "aborted",
     "timestamp": 1603273379373,
     "user": {
      "displayName": "Fernando Ortega Requena",
      "photoUrl": "https://lh3.googleusercontent.com/a-/AOh14GgiZKcEyk_b-6E_dNg7_x20idZVEj0N7w-N6pwgBQ=s64",
      "userId": "02003917424124170753"
     },
     "user_tz": -120
    },
    "id": "__0FaeVEiiUd"
   },
   "outputs": [],
   "source": [
    "def rotate_data(X, angle=0):\n",
    "    image_matrix = X.reshape((28,28))\n",
    "    image_matrix = rotate(image_matrix, angle, cval=0.01, reshape=False)\n",
    "    imax = image_matrix.max()\n",
    "    imin = image_matrix.min()\n",
    "    image_matrix = ((image_matrix-imin)/(imax-imin))*0.99+0.01\n",
    "    return image_matrix.reshape((1,-1))"
   ]
  },
  {
   "cell_type": "markdown",
   "metadata": {
    "id": "q425rl_5iiUf"
   },
   "source": [
    "4). Aumente el conjunto de datos de entrenamiento.\n",
    "- Aumente el tamaño del conjunto de datos de entrenamiento al introducir ligeras rotaciones (en sentido horario y antihorario).\n",
    "- Utilice la función 'rotate_data ()' definida en el paso anterior.\n",
    "- No es necesario aumentar el conjunto de datos de prueba.\n",
    "- Objetivo aproximadamente cinco veces mayor."
   ]
  },
  {
   "cell_type": "code",
   "execution_count": 12,
   "metadata": {
    "executionInfo": {
     "elapsed": 1572,
     "status": "aborted",
     "timestamp": 1603273379374,
     "user": {
      "displayName": "Fernando Ortega Requena",
      "photoUrl": "https://lh3.googleusercontent.com/a-/AOh14GgiZKcEyk_b-6E_dNg7_x20idZVEj0N7w-N6pwgBQ=s64",
      "userId": "02003917424124170753"
     },
     "user_tz": -120
    },
    "id": "Xuqrl9mAiiUf"
   },
   "outputs": [],
   "source": [
    "N_rows = X_train.shape[0]\n",
    "N_cols = X_train.shape[1]\n",
    "X_train_aug = np.empty((0,N_cols))\n",
    "Y_train_aug = np.array([])\n",
    "for angle in [-10,-5,0,5,10]:\n",
    "    for n in range(N_rows):\n",
    "        a_row = X_train[n,:]\n",
    "        a_y = Y_train[n]\n",
    "        X_train_aug = np.concatenate((X_train_aug,rotate_data(a_row,angle)),axis=0)\n",
    "        Y_train_aug = np.append(Y_train_aug, a_y)"
   ]
  },
  {
   "cell_type": "markdown",
   "metadata": {
    "id": "gbplk1M-iiUh"
   },
   "source": [
    "5). Rehaga el análisis predictivo con el conjunto de datos de entrenamiento aumentado.\n",
    "- Utilice el mismo algoritmo que en el paso 2).\n",
    "- Calcule la precisión.\n",
    "- ¿Ha aumentado la precisión?"
   ]
  },
  {
   "cell_type": "code",
   "execution_count": 13,
   "metadata": {
    "executionInfo": {
     "elapsed": 1571,
     "status": "aborted",
     "timestamp": 1603273379374,
     "user": {
      "displayName": "Fernando Ortega Requena",
      "photoUrl": "https://lh3.googleusercontent.com/a-/AOh14GgiZKcEyk_b-6E_dNg7_x20idZVEj0N7w-N6pwgBQ=s64",
      "userId": "02003917424124170753"
     },
     "user_tz": -120
    },
    "id": "HFtJ4VwsiiUh"
   },
   "outputs": [
    {
     "name": "stdout",
     "output_type": "stream",
     "text": [
      "Random Forest accuracy with the aumented training data : 0.74\n"
     ]
    }
   ],
   "source": [
    "RF_best = RandomForestClassifier(max_depth=best_depth,n_estimators=best_n_estim,random_state=123)\n",
    "RF_best.fit(X_train_aug, Y_train_aug);\n",
    "Y_pred = RF_best.predict(X_test)\n",
    "print( \"Random Forest accuracy with the aumented training data : \" + str(np.round(metrics.accuracy_score(Y_test,Y_pred),3)))"
   ]
  }
 ],
 "metadata": {
  "colab": {
   "collapsed_sections": [],
   "name": "sol_0503.ipynb",
   "provenance": [],
   "toc_visible": true
  },
  "kernelspec": {
   "display_name": "Python 3",
   "language": "python",
   "name": "python3"
  },
  "language_info": {
   "codemirror_mode": {
    "name": "ipython",
    "version": 3
   },
   "file_extension": ".py",
   "mimetype": "text/x-python",
   "name": "python",
   "nbconvert_exporter": "python",
   "pygments_lexer": "ipython3",
   "version": "3.8.8"
  }
 },
 "nbformat": 4,
 "nbformat_minor": 1
}
