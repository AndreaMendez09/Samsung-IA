{
 "cells": [
  {
   "cell_type": "markdown",
   "metadata": {
    "id": "S6NCXbtKI6ZY"
   },
   "source": [
    "## Prueba #0402 (Solución)"
   ]
  },
  {
   "cell_type": "markdown",
   "metadata": {
    "id": "307epUx-I6ZZ"
   },
   "source": [
    "### \"Solución MCO\""
   ]
  },
  {
   "cell_type": "code",
   "execution_count": 1,
   "metadata": {
    "id": "1gI2isREI6Za"
   },
   "outputs": [],
   "source": [
    "import numpy as np\n",
    "import pandas as pd"
   ]
  },
  {
   "cell_type": "markdown",
   "metadata": {
    "id": "RRu9sJgeI6Ze"
   },
   "source": [
    "#### Responda la siguiente pregunta proporcionando el código Python:\n",
    "<br>\n",
    "study = una matriz que contiene las horas de estudio. Esta es la variable explicativa. <br>\n",
    "score = una matriz que contiene las puntuaciones de las pruebas. Esta es la variable de respuesta."
   ]
  },
  {
   "cell_type": "code",
   "execution_count": 2,
   "metadata": {
    "id": "cMFv4YntI6Ze"
   },
   "outputs": [],
   "source": [
    "study = np.array([ 3, 4.5, 6, 1.2, 2, 6.9, 6.7, 5.5]).reshape(-1,1)\n",
    "score = np.array([ 88, 85, 90, 80, 81, 92, 95, 90]).reshape(-1,1)"
   ]
  },
  {
   "cell_type": "markdown",
   "metadata": {
    "id": "S2yVUXCWI6Zh"
   },
   "source": [
    "1). Defina la clase 'linerRegression' para que coincida con el resultado que se muestra a continuación:"
   ]
  },
  {
   "cell_type": "code",
   "execution_count": 3,
   "metadata": {
    "id": "Kp9hx2mYI6Zh"
   },
   "outputs": [],
   "source": [
    "class linearRegression:\n",
    "    def __init__(self):\n",
    "        return\n",
    "        \n",
    "    def train(self, input_X, input_Y):\n",
    "        n = input_X.shape[0]                                      # Número de observaciones\n",
    "        k = input_X.shape[1]                                      # Número de variables explicatorias.\n",
    "        ones_column = np.ones((n,1))                              # Columna de unos.\n",
    "        X = np.concatenate((ones_column,input_X),axis=1)\n",
    "        Y = input_Y.copy()\n",
    "\n",
    "        # Coeficientes de regresión por MCO.\n",
    "        self.beta = np.dot(np.linalg.inv(np.dot(X.T,X)),np.dot(X.T,Y))\n",
    "        \n",
    "        # Valores residuales.\n",
    "        self.residuals = Y - np.dot(X,self.beta)\n",
    "        \n",
    "        # R^2.\n",
    "        SSE = np.dot((self.residuals).T, self.residuals)\n",
    "        SST = np.dot((Y - Y.mean()).T, (Y-Y.mean()))\n",
    "        self.rsquared = 1.0 - SSE[0][0]/SST[0][0]\n",
    "        \n",
    "        # Resumen.\n",
    "        self.summary=pd.DataFrame(self.beta,columns = ['Coefficient'])\n",
    "        features = ['Intercept']\n",
    "        for i in range(1,k+1):\n",
    "            features += ['X' + str(i)]\n",
    "        self.summary.index = features\n",
    "        return  \n",
    "    \n",
    "    def output(self):\n",
    "        print(self.summary)\n",
    "        print(\"-\"*30)\n",
    "        print(\"R^2 : %f\" % self.rsquared)"
   ]
  },
  {
   "cell_type": "markdown",
   "metadata": {
    "id": "3sm1KGn7I6Zk"
   },
   "source": [
    "**Ejecución:**"
   ]
  },
  {
   "cell_type": "code",
   "execution_count": 4,
   "metadata": {
    "id": "PjQt-qunI6Zk"
   },
   "outputs": [
    {
     "name": "stdout",
     "output_type": "stream",
     "text": [
      "           Coefficient\n",
      "Intercept    77.684670\n",
      "X1            2.221303\n",
      "------------------------------\n",
      "R^2 : 0.845842\n"
     ]
    }
   ],
   "source": [
    "LR = linearRegression()                    # Crea un objeto de regresión lineal.\n",
    "LR.train(study, score)                     # Entrenar.\n",
    "LR.output()                                # Muestra el resultado del entrenamiento."
   ]
  },
  {
   "cell_type": "code",
   "execution_count": null,
   "metadata": {
    "id": "Ul2FuIM_I6Zn"
   },
   "outputs": [],
   "source": []
  }
 ],
 "metadata": {
  "colab": {
   "name": "sol_0402.ipynb",
   "provenance": []
  },
  "kernelspec": {
   "display_name": "Python 3",
   "language": "python",
   "name": "python3"
  },
  "language_info": {
   "codemirror_mode": {
    "name": "ipython",
    "version": 3
   },
   "file_extension": ".py",
   "mimetype": "text/x-python",
   "name": "python",
   "nbconvert_exporter": "python",
   "pygments_lexer": "ipython3",
   "version": "3.8.8"
  }
 },
 "nbformat": 4,
 "nbformat_minor": 1
}
