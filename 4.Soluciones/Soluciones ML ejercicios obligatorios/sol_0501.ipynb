{
 "cells": [
  {
   "cell_type": "markdown",
   "metadata": {
    "id": "PHijowguuPEX"
   },
   "source": [
    "## Prueba #0501 (Solución)"
   ]
  },
  {
   "cell_type": "markdown",
   "metadata": {
    "id": "swkgj3NVuPEZ"
   },
   "source": [
    "### \"Regresión Logísitica y algoritmo de Gradiente Descendente\""
   ]
  },
  {
   "cell_type": "markdown",
   "metadata": {
    "id": "0mWOQYr6uPEZ"
   },
   "source": [
    "#### Responda las siguientes preguntas proporcionando código Python:\n",
    "#### Objetivos:\n",
    "- Codifique una clase de regresión logística utilizando solo la biblioteca NumPy.\n",
    "- Implementar en Python la función Sigmoid.\n",
    "- Implementar en Python el Gradiente de la probabilidad logarítmica.\n",
    "- Implementar en Python el algoritmo de gradiente descendente."
   ]
  },
  {
   "cell_type": "code",
   "execution_count": 1,
   "metadata": {
    "id": "dpTy2bdpuPEa"
   },
   "outputs": [],
   "source": [
    "import numpy as np\n",
    "import pandas as pd\n",
    "from sklearn.datasets import load_breast_cancer\n",
    "from sklearn.model_selection import train_test_split"
   ]
  },
  {
   "cell_type": "markdown",
   "metadata": {
    "id": "Bbmd4jQ9uPEe"
   },
   "source": [
    "#### Leer los datos:"
   ]
  },
  {
   "cell_type": "code",
   "execution_count": 2,
   "metadata": {
    "id": "Sh6Fs6MXuPEf"
   },
   "outputs": [],
   "source": [
    "# Cargar los datos\n",
    "data = load_breast_cancer()\n",
    "# Variables explicativas\n",
    "X = data['data']\n",
    "# Volver a etquetar para que 0 = 'benign' y 1 = malignant.\n",
    "Y = 1 - data['target']"
   ]
  },
  {
   "cell_type": "code",
   "execution_count": 3,
   "metadata": {
    "id": "-6uYYpJtuPEi"
   },
   "outputs": [],
   "source": [
    "# Dividir el conjunto de datos en entrenamiento y prueba.\n",
    "X_train, X_test, Y_train, Y_test = train_test_split(X, Y, test_size=0.4, random_state=1234)"
   ]
  },
  {
   "cell_type": "markdown",
   "metadata": {
    "id": "fRk21LnNuPEk"
   },
   "source": [
    "1). Defina las funciones 'sigmoide' y 'gradiente' para producir el resultado que se muestra a continuación:"
   ]
  },
  {
   "cell_type": "code",
   "execution_count": 4,
   "metadata": {
    "id": "gt7QjwDruPEl"
   },
   "outputs": [],
   "source": [
    "def sigmoid(x):\n",
    "    s = 1.0/(1.0 + np.exp(-x))\n",
    "    return s\n",
    "\n",
    "def gradient(X, Y, beta):\n",
    "    z = np.dot(X,beta.T)*Y\n",
    "    ds = -Y*(1-sigmoid(z))*X\n",
    "    return ds.sum(axis=0)"
   ]
  },
  {
   "cell_type": "markdown",
   "metadata": {
    "id": "qpvFc7hauPEn"
   },
   "source": [
    "2). Defina la clase 'LogisticRegression' para producir el resultado que se muestra a continuación:"
   ]
  },
  {
   "cell_type": "code",
   "execution_count": 5,
   "metadata": {
    "id": "meS2tyQMuPEo"
   },
   "outputs": [],
   "source": [
    "class LogisticRegression:\n",
    "    def __init__(self, learn_rate):\n",
    "        self.rate = learn_rate\n",
    "        self.n_nodes = None\n",
    "        self.beta = None\n",
    "        \n",
    "    def train(self, input_X, input_Y, n_epochs):\n",
    "        self.n_nodes = input_X.shape[1] + 1\n",
    "        self.beta = np.random.normal(0.0,1.0,(1,self.n_nodes))\n",
    "        ones_column = np.ones((input_X.shape[0],1))\n",
    "        X = np.concatenate((ones_column,input_X),axis=1)\n",
    "        Y = (2*input_Y - 1).reshape(-1,1)\n",
    "        for n in range(n_epochs):\n",
    "            self.beta = self.beta - self.rate*gradient(X,Y,self.beta)\n",
    "        return self.beta\n",
    "    \n",
    "    def query(self, input_X, prob=True, cutoff=0.5):\n",
    "        ones_column = np.ones((input_X.shape[0],1))\n",
    "        X = np.concatenate((ones_column,input_X),axis=1)\n",
    "        z = np.dot(X,(self.beta).T)\n",
    "        p = sigmoid(z)\n",
    "        if prob :\n",
    "            return p\n",
    "        else:\n",
    "            return (p > cutoff).astype('int')"
   ]
  },
  {
   "cell_type": "markdown",
   "metadata": {
    "id": "0VwokjTnuPEr"
   },
   "source": [
    "#### Ejecutar:"
   ]
  },
  {
   "cell_type": "code",
   "execution_count": 6,
   "metadata": {
    "id": "7emzK1ISuPEr"
   },
   "outputs": [],
   "source": [
    "# Hiperparámetro para el regresor.\n",
    "learning_rate = 0.001"
   ]
  },
  {
   "cell_type": "code",
   "execution_count": 7,
   "metadata": {
    "colab": {
     "base_uri": "https://localhost:8080/",
     "height": 1000
    },
    "executionInfo": {
     "elapsed": 692,
     "status": "ok",
     "timestamp": 1603192669349,
     "user": {
      "displayName": "Fernando Ortega Requena",
      "photoUrl": "https://lh3.googleusercontent.com/a-/AOh14GgiZKcEyk_b-6E_dNg7_x20idZVEj0N7w-N6pwgBQ=s64",
      "userId": "02003917424124170753"
     },
     "user_tz": -120
    },
    "id": "7I44pgdJuPEw",
    "outputId": "72ce73fa-2cdc-44ae-892c-9d6ebf8f0588"
   },
   "outputs": [
    {
     "name": "stderr",
     "output_type": "stream",
     "text": [
      "<ipython-input-4-1ab6d2b3387e>:2: RuntimeWarning: overflow encountered in exp\n",
      "  s = 1.0/(1.0 + np.exp(-x))\n"
     ]
    }
   ],
   "source": [
    "# Entrenar y predecir.\n",
    "LR = LogisticRegression(learning_rate)\n",
    "LR.train(X_train, Y_train, 2000)\n",
    "Y_pred = LR.query(X_test,prob=False,cutoff=0.5)"
   ]
  },
  {
   "cell_type": "code",
   "execution_count": 8,
   "metadata": {
    "colab": {
     "base_uri": "https://localhost:8080/",
     "height": 34
    },
    "executionInfo": {
     "elapsed": 909,
     "status": "ok",
     "timestamp": 1603192631055,
     "user": {
      "displayName": "Fernando Ortega Requena",
      "photoUrl": "https://lh3.googleusercontent.com/a-/AOh14GgiZKcEyk_b-6E_dNg7_x20idZVEj0N7w-N6pwgBQ=s64",
      "userId": "02003917424124170753"
     },
     "user_tz": -120
    },
    "id": "PFkS6MGguPEz",
    "outputId": "04a206eb-d9f7-47cc-ac5b-ce7859e19297"
   },
   "outputs": [
    {
     "name": "stdout",
     "output_type": "stream",
     "text": [
      "Accuracy : 0.925\n"
     ]
    }
   ],
   "source": [
    "# Mostrar la exactitud\n",
    "acc = (Y_pred == Y_test.reshape(-1,1)).mean()\n",
    "print('Accuracy : {}'.format(np.round(acc,3)))"
   ]
  }
 ],
 "metadata": {
  "colab": {
   "collapsed_sections": [],
   "name": "sol_0501.ipynb",
   "provenance": []
  },
  "kernelspec": {
   "display_name": "Python 3",
   "language": "python",
   "name": "python3"
  },
  "language_info": {
   "codemirror_mode": {
    "name": "ipython",
    "version": 3
   },
   "file_extension": ".py",
   "mimetype": "text/x-python",
   "name": "python",
   "nbconvert_exporter": "python",
   "pygments_lexer": "ipython3",
   "version": "3.8.8"
  }
 },
 "nbformat": 4,
 "nbformat_minor": 1
}
