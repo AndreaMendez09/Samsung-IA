{
 "cells": [
  {
   "cell_type": "markdown",
   "metadata": {},
   "source": [
    "## Prueba #0601 (Solución)"
   ]
  },
  {
   "cell_type": "markdown",
   "metadata": {},
   "source": [
    "### \"Análisis de clasificación con PNL\""
   ]
  },
  {
   "cell_type": "markdown",
   "metadata": {},
   "source": [
    "#### Responda las siguientes preguntas proporcionando código Python:\n",
    "#### Objectivos:\n",
    "- Preprocesamiento de datos de texto.\n",
    "- Crear una representación TF IDF.\n",
    "- Realizar el análisis predictivo mediante el algoritmo Naive Bayes."
   ]
  },
  {
   "cell_type": "code",
   "execution_count": 1,
   "metadata": {},
   "outputs": [],
   "source": [
    "import numpy as np\n",
    "import re\n",
    "import nltk\n",
    "import seaborn as sns\n",
    "import matplotlib.pyplot as plt\n",
    "import warnings\n",
    "from nltk.corpus import stopwords\n",
    "from sklearn.datasets import load_files\n",
    "from sklearn.model_selection import train_test_split\n",
    "from sklearn.feature_extraction.text import TfidfVectorizer\n",
    "from sklearn.naive_bayes import GaussianNB\n",
    "from sklearn.metrics import confusion_matrix\n",
    "from sklearn.metrics import accuracy_score\n",
    "warnings.filterwarnings('ignore')               # Desactivar las advertencias"
   ]
  },
  {
   "cell_type": "markdown",
   "metadata": {},
   "source": [
    "#### Leer los datos:\n",
    "Datos de reseñas de películas del departamento de CS de Cornell. <br>\n",
    "- Los datos se pueden encontrar [aquí](https://www.cs.cornell.edu/people/pabo/movie-review-data). <br>\n",
    "- Descarga y descomprimir el \"conjunto de datos polarity\". <br>\n",
    "- Bajo la carpeta \"txt_sentoken\", hay subcarpetas \"pos\" y \"neg\". <br>"
   ]
  },
  {
   "cell_type": "code",
   "execution_count": 2,
   "metadata": {},
   "outputs": [],
   "source": [
    "# Especifique la carpeta y lea las subcarpetas.\n",
    "reviews = load_files('txt_sentoken/')\n",
    "my_docs, y = reviews.data, reviews.target"
   ]
  },
  {
   "cell_type": "code",
   "execution_count": 3,
   "metadata": {},
   "outputs": [
    {
     "data": {
      "text/plain": [
       "2002"
      ]
     },
     "execution_count": 3,
     "metadata": {},
     "output_type": "execute_result"
    }
   ],
   "source": [
    "len(my_docs)"
   ]
  },
  {
   "cell_type": "code",
   "execution_count": 4,
   "metadata": {},
   "outputs": [
    {
     "data": {
      "text/plain": [
       "(array([0, 1]), array([1001, 1001], dtype=int64))"
      ]
     },
     "execution_count": 4,
     "metadata": {},
     "output_type": "execute_result"
    }
   ],
   "source": [
    "np.unique(y, return_counts=True)"
   ]
  },
  {
   "cell_type": "code",
   "execution_count": 5,
   "metadata": {},
   "outputs": [
    {
     "data": {
      "image/png": "[encoded data removed]",
      "text/plain": [
       "<Figure size 432x288 with 1 Axes>"
      ]
     },
     "metadata": {
      "needs_background": "light"
     },
     "output_type": "display_data"
    }
   ],
   "source": [
    "# Visualizar la variable de respuesta.\n",
    "sns.countplot(y).set_title(\"Frequency Table\")\n",
    "plt.show()"
   ]
  },
  {
   "cell_type": "markdown",
   "metadata": {},
   "source": [
    "1). Realizar el preprocesamiento de los datos:"
   ]
  },
  {
   "cell_type": "code",
   "execution_count": 6,
   "metadata": {},
   "outputs": [],
   "source": [
    "corpus = []\n",
    "for i in range(0, len(my_docs)):\n",
    "    review = re.sub(r'\\W', ' ', str(my_docs[i]))\n",
    "    review = review.lower()\n",
    "    review = re.sub(r'^br$', ' ', review)\n",
    "    review = re.sub(r'\\s+br\\s+',' ',review)\n",
    "    review = re.sub(r'\\s+[a-z]\\s+', ' ',review)\n",
    "    review = re.sub(r'^b\\s+', '', review)\n",
    "    review = re.sub(r'\\s+', ' ', review)               # Eliminar los espacios en blanco sobrantes\n",
    "    corpus.append(review)  "
   ]
  },
  {
   "cell_type": "code",
   "execution_count": 7,
   "metadata": {},
   "outputs": [
    {
     "data": {
      "text/plain": [
       "'bad bad nbad nthat one word seems to pretty much sums up beyond the valley of the dolls nif that summary isn enough for you how about a a a nstill haven got the point nother than director russ meyer predilection for casting attractive large breasted women who ultimately expose the afore mentioned anatomical areas there is really only one other reason to recommend even taking look at this movie nthat is the fact that it was co written by famed film critic roger ebert who also was responsible for the screenplay nafter watching this movie you will never be able to sit through another one of his reviews where he gives movie thumbs down for bad writing with straight face nthis movie stinks out loud nquite frankly this movie deserves nbut there are parts of it that are so bad they are almost funny nso m giving it nand maybe that is too generous nright from the opening credits knew that had class bomb on my hands nnot only are the way the credits actually shot distracting but the first scene you see includes big breasted young woman being chased by guy in nazi uniform ni had absolutely no idea why the hell that was happening it does get explained later and as soon as the first scene is over we cut to completely unrelated scene nto be honest as sat through this movie mesmerized by just how incredibly awful it was actually forgot about the seemingly out of place opening until it popped up again later in the film nwith the quality of the writing during the rest of the film it wouldn have surprised me if the opening had never been explained nso what is this movie about nyou ask nlike it really matters nok here goes nthis all girl band headed by kelly macnamara dolly reed and her friends go to hollywood to try to gain foothold in the music industry nonce there they do manage to find success due as much to their hooters as anything else it sure wasn for their brutally bad singing voices and the movie chronicles how their lives change for the worse as the pressures of fame get to them neverything from big egos to booze and drugs to free flowing sex sends them on downward spiral nthere are couple of other idiotic subplots thrown in for good measure but the fame is the one that pretty much sums up this thing from creative standpoint there is nothing redeeming here nother than the above mentioned obsession with big knockers that russ meyer seemed to have nthe dialogue is so incredibly bad that it literally is funny in parts nmr ebert has generously thrown in helpings of hey man dig and my all time favorite this is my happening and it freaks me out nnow ask you with lines like that how can you go wrong nebert had tried to inject as many big words as possible into the dialogue nmaybe he thought it would make the movie seem smarter ni don know but all the big words in the world wouldn be able to disguise the bad writing and even worse acting nbut the wretched dialogue goes along well with the wretched quality of everything else in this movie ni ve seen home movies directed better than meyer managed with this turkey nin fact there is one scene the one in which they are in van driving to hollywood to make their fortunes during which really had to question if meyer or his editors had just suffered serious head injuries nadd to the directing and writing the music in this movie ni almost got up to check my sound system to see if it was broken there was such pile of crap emanating from the speakers nthen we have the cast nfirst lets start david gurian who played harris the manager of the band nthis has got to be the goofiest looking guy that has ever set foot in front of motion picture camera nsadly his acting doesn come close to making up for his looks nif you have been following along up to this point this shouldn surprise you nmeyer stable of well endowed girls also have the benefit of being fairly attractive to go along with their other assets ndolly reed plays kelly the leader of the band nand no surprise here she was cast for her cup size not her talents nand yes she does loose the shirt few times and display her impressive talents nsadly her ass is almost as large as her chest nhey it sexist movie so m writing sexist review nthen we have former playboy playmate cynthia myers in fairly small role as casey one of the other band members nthis goes along with the rest of the idiotic thinking in the movie nmeyer casts gorgeous playmate with rack to kill for and who obviously has no acting talent at all but her nude scenes are the biggest disappointment of all nsure russ now is the time to get artsy and throw in some well placed shadows non the up side she does have fun lesbo scene ni sound like m writing review in porn magazine nbut hey ll admit it the only reason that actually managed to sit through this damn movie was to catch look at cynthia myers naked nand since that was huge disappointment pretty much wasted two hours of my life on this turkey nthe only thing that can say about this movie is that you should stay away from it nunless of course you want to feel good about yourself by knowing that even pulitzer prize winning film critic like roger ebert has screwed up at least once in his life too nand if you are thinking of checking it out for the double s you are better off just downloading nude cynthia myers pictures off the internet nthis is movie that should be avoided at all costs nan even better idea might be to require video stores to place warning on the box of beyond the valley of the dolls beware this movie is extremely hazardous to your common sense nproceed with extreme caution '"
      ]
     },
     "execution_count": 7,
     "metadata": {},
     "output_type": "execute_result"
    }
   ],
   "source": [
    "# Mostrar el documento.\n",
    "corpus[0]"
   ]
  },
  {
   "cell_type": "markdown",
   "metadata": {},
   "source": [
    "2). Crear una representación TF IDF."
   ]
  },
  {
   "cell_type": "code",
   "execution_count": 8,
   "metadata": {},
   "outputs": [
    {
     "data": {
      "text/plain": [
       "(2002, 1000)"
      ]
     },
     "execution_count": 8,
     "metadata": {},
     "output_type": "execute_result"
    }
   ],
   "source": [
    "TFIDF = TfidfVectorizer(max_features = 1000, min_df = 2, max_df = 0.6, stop_words = stopwords.words('english'))\n",
    "TFIDF.fit(corpus)                                          # Crear el modelo TF IDF. \n",
    "X = TFIDF.transform(corpus).toarray()\n",
    "X.shape"
   ]
  },
  {
   "cell_type": "markdown",
   "metadata": {},
   "source": [
    "3). Aplicar el algoritmo de Naive Bayes algorithm. Calcular la exactitud."
   ]
  },
  {
   "cell_type": "code",
   "execution_count": 9,
   "metadata": {},
   "outputs": [],
   "source": [
    "X_train, X_test, Y_train, Y_test = train_test_split(X, y, test_size = 0.3, random_state = 1234)"
   ]
  },
  {
   "cell_type": "code",
   "execution_count": 10,
   "metadata": {},
   "outputs": [
    {
     "data": {
      "text/plain": [
       "GaussianNB()"
      ]
     },
     "execution_count": 10,
     "metadata": {},
     "output_type": "execute_result"
    }
   ],
   "source": [
    "# Entrenamiento.\n",
    "NB = GaussianNB()\n",
    "NB.fit(X_train,Y_train)"
   ]
  },
  {
   "cell_type": "code",
   "execution_count": 11,
   "metadata": {},
   "outputs": [],
   "source": [
    "# Pruebas.\n",
    "Y_pred = NB.predict(X_test)\n",
    "conf_mat = confusion_matrix(Y_pred, Y_test)\n",
    "acc = accuracy_score(Y_pred,Y_test)"
   ]
  },
  {
   "cell_type": "code",
   "execution_count": 12,
   "metadata": {},
   "outputs": [
    {
     "name": "stdout",
     "output_type": "stream",
     "text": [
      "[[241  76]\n",
      " [ 55 229]]\n"
     ]
    }
   ],
   "source": [
    "# La matriz de confusión.\n",
    "print(conf_mat)"
   ]
  },
  {
   "cell_type": "code",
   "execution_count": 13,
   "metadata": {},
   "outputs": [
    {
     "name": "stdout",
     "output_type": "stream",
     "text": [
      "0.782\n"
     ]
    }
   ],
   "source": [
    "# La exactitud.\n",
    "print(np.round(acc,3))"
   ]
  },
  {
   "cell_type": "code",
   "execution_count": null,
   "metadata": {},
   "outputs": [],
   "source": []
  }
 ],
 "metadata": {
  "kernelspec": {
   "display_name": "Python 3",
   "language": "python",
   "name": "python3"
  },
  "language_info": {
   "codemirror_mode": {
    "name": "ipython",
    "version": 3
   },
   "file_extension": ".py",
   "mimetype": "text/x-python",
   "name": "python",
   "nbconvert_exporter": "python",
   "pygments_lexer": "ipython3",
   "version": "3.8.8"
  }
 },
 "nbformat": 4,
 "nbformat_minor": 2
}
