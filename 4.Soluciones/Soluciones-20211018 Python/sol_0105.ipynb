{
 "cells": [
  {
   "cell_type": "markdown",
   "metadata": {},
   "source": [
    "## Prueba #0105 (Solución)"
   ]
  },
  {
   "cell_type": "markdown",
   "metadata": {},
   "source": [
    "#### Asignación:\n",
    "- Escriba una función llamada 'palindrome' para probar si la palabra o frase ingresada es un palíndromo. <br>\n",
    "- Ignorar mayúsculas, espacios, signos de puntuación, símbolos, etc. <br>\n",
    "- Utilice las propiedades de las estructuras de datos 'cola' y 'pila'. <br>"
   ]
  },
  {
   "cell_type": "markdown",
   "metadata": {},
   "source": [
    "Ejemplos de palíndromos: <br>\n",
    "- mom\n",
    "- wow\n",
    "- noon\n",
    "- level\n",
    "- radar\n",
    "- kayak\n",
    "- racecar\n",
    "- God's dog\n",
    "- Madam, I'm Adam"
   ]
  },
  {
   "cell_type": "code",
   "execution_count": null,
   "metadata": {},
   "outputs": [],
   "source": [
    "def palindrome(d):\n",
    "    b1 = ''\n",
    "    letters1 = []\n",
    "\n",
    "    for x in d:\n",
    "        if x.isalpha():\n",
    "            letters1.append(x.upper())\n",
    "    \n",
    "    letters2 = letters1[:]\n",
    "    \n",
    "    while letters1:    \n",
    "        c = letters1.pop(0)                     # Desencola como en una cola.\n",
    "        b1 += c\n",
    "    \n",
    "    b2 = ''\n",
    "    while letters2:    \n",
    "        c = letters2.pop()                      # Desapila como en una pila.\n",
    "        b2 += c\n",
    "    \n",
    "    if b1 == b2:\n",
    "        return True\n",
    "    else:\n",
    "        return False"
   ]
  },
  {
   "cell_type": "markdown",
   "metadata": {},
   "source": [
    "Test results:"
   ]
  },
  {
   "cell_type": "code",
   "execution_count": null,
   "metadata": {},
   "outputs": [],
   "source": [
    "palindrome(\"Kayak\")"
   ]
  },
  {
   "cell_type": "code",
   "execution_count": null,
   "metadata": {},
   "outputs": [],
   "source": [
    "palindrome(\"Madam, I'm Adam\")"
   ]
  },
  {
   "cell_type": "code",
   "execution_count": null,
   "metadata": {},
   "outputs": [],
   "source": [
    "palindrome(\"Hello\")"
   ]
  },
  {
   "cell_type": "code",
   "execution_count": null,
   "metadata": {},
   "outputs": [],
   "source": []
  }
 ],
 "metadata": {
  "kernelspec": {
   "display_name": "Python 3",
   "language": "python",
   "name": "python3"
  },
  "language_info": {
   "codemirror_mode": {
    "name": "ipython",
    "version": 3
   },
   "file_extension": ".py",
   "mimetype": "text/x-python",
   "name": "python",
   "nbconvert_exporter": "python",
   "pygments_lexer": "ipython3",
   "version": "3.8.8"
  }
 },
 "nbformat": 4,
 "nbformat_minor": 2
}
