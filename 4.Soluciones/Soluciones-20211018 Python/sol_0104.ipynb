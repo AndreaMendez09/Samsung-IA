{
 "cells": [
  {
   "cell_type": "markdown",
   "metadata": {},
   "source": [
    "## Prueba #0104 (Solución)"
   ]
  },
  {
   "cell_type": "markdown",
   "metadata": {},
   "source": [
    "#### Codifique la clase 'Acuario' que genera el resultado como se muestra."
   ]
  },
  {
   "cell_type": "code",
   "execution_count": 1,
   "metadata": {
    "ExecuteTime": {
     "end_time": "2021-10-15T16:24:06.699138Z",
     "start_time": "2021-10-15T16:24:06.692276Z"
    }
   },
   "outputs": [],
   "source": [
    "class Aquarium:\n",
    "    def __init__(self):\n",
    "        self.animals = []\n",
    "        print(\"An Aquarium has opened!\")\n",
    "    \n",
    "    def enters(self, x):\n",
    "        if not x in self.animals:\n",
    "            self.animals.append(x)\n",
    "            print( x + \" is a new member of our Aquarium!\")\n",
    "        else:\n",
    "            print(\"We already have \" + x +\".\")\n",
    "            \n",
    "    def leaves(self, x):\n",
    "        if x in self.animals:\n",
    "            # i = self.animals.index(x)\n",
    "            # del self.animals[i]\n",
    "            self.animals.remove(x)\n",
    "        else:\n",
    "            print(\"No such sea creature in the Aquarium!\")\n",
    "            \n",
    "    def show_all(self):\n",
    "        print(self.animals)            "
   ]
  },
  {
   "cell_type": "markdown",
   "metadata": {},
   "source": [
    "Test reuslts:"
   ]
  },
  {
   "cell_type": "code",
   "execution_count": 2,
   "metadata": {
    "ExecuteTime": {
     "end_time": "2021-10-15T16:24:06.706354Z",
     "start_time": "2021-10-15T16:24:06.702457Z"
    }
   },
   "outputs": [
    {
     "name": "stdout",
     "output_type": "stream",
     "text": [
      "An Aquarium has opened!\n"
     ]
    }
   ],
   "source": [
    "my_aquarium = Aquarium()"
   ]
  },
  {
   "cell_type": "code",
   "execution_count": 3,
   "metadata": {
    "ExecuteTime": {
     "end_time": "2021-10-15T16:24:06.712905Z",
     "start_time": "2021-10-15T16:24:06.709104Z"
    }
   },
   "outputs": [
    {
     "name": "stdout",
     "output_type": "stream",
     "text": [
      "Turtle is a new member of our Aquarium!\n"
     ]
    }
   ],
   "source": [
    "my_aquarium.enters('Turtle')"
   ]
  },
  {
   "cell_type": "code",
   "execution_count": 4,
   "metadata": {
    "ExecuteTime": {
     "end_time": "2021-10-15T16:24:06.719240Z",
     "start_time": "2021-10-15T16:24:06.715436Z"
    }
   },
   "outputs": [
    {
     "name": "stdout",
     "output_type": "stream",
     "text": [
      "We already have Turtle.\n"
     ]
    }
   ],
   "source": [
    "my_aquarium.enters('Turtle')"
   ]
  },
  {
   "cell_type": "code",
   "execution_count": 5,
   "metadata": {
    "ExecuteTime": {
     "end_time": "2021-10-15T16:24:06.725308Z",
     "start_time": "2021-10-15T16:24:06.721771Z"
    }
   },
   "outputs": [
    {
     "name": "stdout",
     "output_type": "stream",
     "text": [
      "Dolphin is a new member of our Aquarium!\n"
     ]
    }
   ],
   "source": [
    "my_aquarium.enters('Dolphin')"
   ]
  },
  {
   "cell_type": "code",
   "execution_count": 6,
   "metadata": {
    "ExecuteTime": {
     "end_time": "2021-10-15T16:24:06.731235Z",
     "start_time": "2021-10-15T16:24:06.727645Z"
    }
   },
   "outputs": [
    {
     "name": "stdout",
     "output_type": "stream",
     "text": [
      "Sea Lion is a new member of our Aquarium!\n"
     ]
    }
   ],
   "source": [
    "my_aquarium.enters('Sea Lion')"
   ]
  },
  {
   "cell_type": "code",
   "execution_count": 7,
   "metadata": {
    "ExecuteTime": {
     "end_time": "2021-10-15T16:24:06.738388Z",
     "start_time": "2021-10-15T16:24:06.734525Z"
    }
   },
   "outputs": [
    {
     "name": "stdout",
     "output_type": "stream",
     "text": [
      "Shark is a new member of our Aquarium!\n"
     ]
    }
   ],
   "source": [
    "my_aquarium.enters('Shark')"
   ]
  },
  {
   "cell_type": "code",
   "execution_count": 8,
   "metadata": {
    "ExecuteTime": {
     "end_time": "2021-10-15T16:24:06.745193Z",
     "start_time": "2021-10-15T16:24:06.741006Z"
    }
   },
   "outputs": [
    {
     "name": "stdout",
     "output_type": "stream",
     "text": [
      "['Turtle', 'Dolphin', 'Sea Lion', 'Shark']\n"
     ]
    }
   ],
   "source": [
    "my_aquarium.show_all()"
   ]
  },
  {
   "cell_type": "code",
   "execution_count": 9,
   "metadata": {
    "ExecuteTime": {
     "end_time": "2021-10-15T16:24:06.750780Z",
     "start_time": "2021-10-15T16:24:06.747782Z"
    }
   },
   "outputs": [],
   "source": [
    "my_aquarium.leaves(\"Sea Lion\")"
   ]
  },
  {
   "cell_type": "code",
   "execution_count": 10,
   "metadata": {
    "ExecuteTime": {
     "end_time": "2021-10-15T16:24:06.757509Z",
     "start_time": "2021-10-15T16:24:06.753161Z"
    }
   },
   "outputs": [
    {
     "name": "stdout",
     "output_type": "stream",
     "text": [
      "No such sea creature in the Aquarium!\n"
     ]
    }
   ],
   "source": [
    "my_aquarium.leaves(\"Killer Whale\")"
   ]
  },
  {
   "cell_type": "code",
   "execution_count": 11,
   "metadata": {
    "ExecuteTime": {
     "end_time": "2021-10-15T16:24:06.764318Z",
     "start_time": "2021-10-15T16:24:06.760043Z"
    }
   },
   "outputs": [
    {
     "name": "stdout",
     "output_type": "stream",
     "text": [
      "['Turtle', 'Dolphin', 'Shark']\n"
     ]
    }
   ],
   "source": [
    "my_aquarium.show_all()"
   ]
  },
  {
   "cell_type": "code",
   "execution_count": 12,
   "metadata": {
    "ExecuteTime": {
     "end_time": "2021-10-15T16:24:06.770093Z",
     "start_time": "2021-10-15T16:24:06.767046Z"
    }
   },
   "outputs": [],
   "source": [
    "my_aquarium.leaves(\"Turtle\")"
   ]
  },
  {
   "cell_type": "code",
   "execution_count": 13,
   "metadata": {
    "ExecuteTime": {
     "end_time": "2021-10-15T16:24:06.779648Z",
     "start_time": "2021-10-15T16:24:06.772496Z"
    }
   },
   "outputs": [
    {
     "name": "stdout",
     "output_type": "stream",
     "text": [
      "['Dolphin', 'Shark']\n"
     ]
    }
   ],
   "source": [
    "my_aquarium.show_all()"
   ]
  },
  {
   "cell_type": "code",
   "execution_count": null,
   "metadata": {},
   "outputs": [],
   "source": []
  },
  {
   "cell_type": "code",
   "execution_count": null,
   "metadata": {},
   "outputs": [],
   "source": []
  }
 ],
 "metadata": {
  "kernelspec": {
   "display_name": "Python 3",
   "language": "python",
   "name": "python3"
  },
  "language_info": {
   "codemirror_mode": {
    "name": "ipython",
    "version": 3
   },
   "file_extension": ".py",
   "mimetype": "text/x-python",
   "name": "python",
   "nbconvert_exporter": "python",
   "pygments_lexer": "ipython3",
   "version": "3.8.8"
  },
  "toc": {
   "base_numbering": 1,
   "nav_menu": {},
   "number_sections": false,
   "sideBar": true,
   "skip_h1_title": false,
   "title_cell": "Table of Contents",
   "title_sidebar": "Contents",
   "toc_cell": false,
   "toc_position": {},
   "toc_section_display": true,
   "toc_window_display": false
  }
 },
 "nbformat": 4,
 "nbformat_minor": 2
}
