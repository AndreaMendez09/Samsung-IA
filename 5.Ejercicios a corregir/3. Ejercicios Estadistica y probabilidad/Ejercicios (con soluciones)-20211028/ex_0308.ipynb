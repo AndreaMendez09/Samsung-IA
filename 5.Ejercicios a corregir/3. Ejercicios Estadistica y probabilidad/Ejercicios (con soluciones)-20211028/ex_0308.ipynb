{
 "cells": [
  {
   "cell_type": "markdown",
   "metadata": {},
   "source": [
    "## Ejercicio de codificación #0308"
   ]
  },
  {
   "cell_type": "markdown",
   "metadata": {},
   "source": [
    "###  1. Prueba de hipótesis de las medias:"
   ]
  },
  {
   "cell_type": "markdown",
   "metadata": {},
   "source": [
    "#### 1.1. test-t de una muestra:"
   ]
  },
  {
   "cell_type": "code",
   "execution_count": null,
   "metadata": {},
   "outputs": [],
   "source": [
    "import numpy as np\n",
    "import scipy.stats as st"
   ]
  },
  {
   "cell_type": "code",
   "execution_count": null,
   "metadata": {},
   "outputs": [],
   "source": [
    "# Simula una muestra x con distribución Normal.\n",
    "# mu = 3, sigma = 2, n = 10.\n",
    "n = 10\n",
    "mu = 3\n",
    "sigma = 2\n",
    "np.random.seed(1234)\n",
    "x = np.random.randn(n)*sigma + mu"
   ]
  },
  {
   "cell_type": "markdown",
   "metadata": {},
   "source": [
    "Calcule el p-valor de contrastes de hipótesis de $t$ de Student para medias $0, 1$ y $2$ con la muestra 'x' anterior. Para ello, realice pruebas de cola simétrica, así como de cola derecha e izquierda.\n",
    "\n",
    "Analice los resultados, discutiendo en qué casos se acepta la hipótesis nula y en qué casos se rechaza."
   ]
  },
  {
   "cell_type": "markdown",
   "metadata": {},
   "source": [
    "**Prueba de las dos colas:**"
   ]
  },
  {
   "cell_type": "code",
   "execution_count": null,
   "metadata": {},
   "outputs": [],
   "source": [
    "# Usando la función ttest_1samp() de la librería SciPy.\n",
    "# Compara la media con 0.\n",
    "mu_0 = 0\n",
    "st.ttest_1samp(x, mu_0)"
   ]
  },
  {
   "cell_type": "code",
   "execution_count": null,
   "metadata": {},
   "outputs": [],
   "source": [
    "# Utilizando la fórmula de la teoría.\n",
    "# Compara la media con 0.\n",
    "mu_0 = 0\n",
    "x_mean = x.mean()                                      # Media de la muestra.\n",
    "SEM = x.std(ddof=1)/np.sqrt(n)                         # Error estándar de la media.\n",
    "p_value = (1-st.t.cdf((x_mean-mu_0)/SEM,df=n-1))*2\n",
    "p_value"
   ]
  },
  {
   "cell_type": "code",
   "execution_count": null,
   "metadata": {},
   "outputs": [],
   "source": [
    "# Utilizando la fórmula de la teoría.\n",
    "# Compara la media con 1.\n",
    "mu_0 = 1\n",
    "p_value = (1-st.t.cdf((x_mean-mu_0)/SEM,df=n-1))*2         # Utiliza las mismas x_mean y SEM de arriba.\n",
    "p_value"
   ]
  },
  {
   "cell_type": "code",
   "execution_count": null,
   "metadata": {},
   "outputs": [],
   "source": [
    "# Utilizando la fórmula de la teoría.\n",
    "# Compara la media con 2.\n",
    "mu_0 = 2\n",
    "p_value = (1-st.t.cdf((x_mean-mu_0)/SEM,df=n-1))*2         # Utiliza las mismas x_mean y SEM de arriba.\n",
    "p_value"
   ]
  },
  {
   "cell_type": "markdown",
   "metadata": {},
   "source": [
    "**Prueba de la cola derecha:**"
   ]
  },
  {
   "cell_type": "code",
   "execution_count": null,
   "metadata": {},
   "outputs": [],
   "source": [
    "# Utilizando la fórmula de la teoría.\n",
    "# Compara la media con 0.\n",
    "mu_0 = 0\n",
    "p_value = (1-st.t.cdf((x_mean-mu_0)/SEM,df=n-1))           # Utiliza las mismas x_mean y SEM de arriba.\n",
    "p_value"
   ]
  },
  {
   "cell_type": "code",
   "execution_count": null,
   "metadata": {},
   "outputs": [],
   "source": [
    "# Utilizando la fórmula de la teoría.\n",
    "# Compara la media con 1.\n",
    "mu_0 = 1\n",
    "p_value = (1-st.t.cdf((x_mean-mu_0)/SEM,df=n-1))           # Utiliza las mismas x_mean y SEM de arriba.\n",
    "p_value"
   ]
  },
  {
   "cell_type": "code",
   "execution_count": null,
   "metadata": {},
   "outputs": [],
   "source": [
    "# Utilizando la fórmula de la teoría.\n",
    "# Compara la media con 2.\n",
    "mu_0 = 2\n",
    "p_value = (1-st.t.cdf((x_mean-mu_0)/SEM,df=n-1))           # Utiliza las mismas x_mean y SEM de arriba.\n",
    "p_value"
   ]
  },
  {
   "cell_type": "markdown",
   "metadata": {},
   "source": [
    "**Prueba de la cola izquierda:**"
   ]
  },
  {
   "cell_type": "code",
   "execution_count": null,
   "metadata": {},
   "outputs": [],
   "source": [
    "# Utilizando la fórmula de la teoría.\n",
    "# Compara la media con 0.\n",
    "mu_0 = 0\n",
    "p_value = st.t.cdf((x_mean-mu_0)/SEM,df=n-1)              # Utiliza las mismas same x_mean y SEM de arriba.\n",
    "p_value"
   ]
  },
  {
   "cell_type": "code",
   "execution_count": null,
   "metadata": {},
   "outputs": [],
   "source": [
    "# Utilizando la fórmula de la teoría.\n",
    "# Compara la media con 1.\n",
    "mu_0 = 1\n",
    "p_value = st.t.cdf((x_mean-mu_0)/SEM,df=n-1)              # Utiliza las mismas same x_mean y SEM de arriba.\n",
    "p_value"
   ]
  },
  {
   "cell_type": "code",
   "execution_count": null,
   "metadata": {},
   "outputs": [],
   "source": [
    "# Utilizando la fórmula de la teoría.\n",
    "# Compara la media con 2.\n",
    "mu_0 = 2\n",
    "p_value = st.t.cdf((x_mean-mu_0)/SEM,df=n-1)              # Utiliza las mismas same x_mean y SEM de arriba.\n",
    "p_value"
   ]
  },
  {
   "cell_type": "markdown",
   "metadata": {},
   "source": [
    "#### 1.2. t-test de dos muestras independientes:"
   ]
  },
  {
   "cell_type": "code",
   "execution_count": null,
   "metadata": {},
   "outputs": [],
   "source": [
    "# Simula dos muestras x1 y x2 con distribución Normal .\n",
    "# mu1 = 3, sigma1 = 2, n1= 10.\n",
    "# mu2 = 5, sigma2 = 3, n2= 20\n",
    "n1 = 10\n",
    "n2 = 20\n",
    "mu1 = 3\n",
    "mu2 = 5\n",
    "sigma1 = 2\n",
    "sigma2 = 3\n",
    "x1 = np.random.randn(n1)*sigma1 + mu1\n",
    "x2 = np.random.randn(n2)*sigma2 + mu2"
   ]
  },
  {
   "cell_type": "markdown",
   "metadata": {},
   "source": [
    "Realice un contraste de hipótesis simétrico (dos colas) para evaluar la igualdad de medias de las muestras 'x1' y 'x2' anteriores."
   ]
  },
  {
   "cell_type": "code",
   "execution_count": null,
   "metadata": {},
   "outputs": [],
   "source": [
    "# Usando directamente el dataset.\n",
    "# Asume diferentes variaciones.\n",
    "# Prueba de dos colas.\n",
    "st.ttest_ind(x1,x2,equal_var=False)                                       "
   ]
  },
  {
   "cell_type": "code",
   "execution_count": null,
   "metadata": {},
   "outputs": [],
   "source": [
    "# Usando los estadísiticos calculados sobre el dataset.\n",
    "# Asume diferentes variaciones.\n",
    "# Prueba de dos colas.\n",
    "x1_mean = x1.mean()\n",
    "x2_mean = x2.mean()\n",
    "s1 = x1.std(ddof=1)\n",
    "s2 = x2.std(ddof=1)\n",
    "st.ttest_ind_from_stats(x1_mean,s1,n1,x2_mean,s2,n2,equal_var=False)    "
   ]
  },
  {
   "cell_type": "markdown",
   "metadata": {},
   "source": [
    "#### 1.3.  t-test de dos muestras emparejadas:"
   ]
  },
  {
   "cell_type": "code",
   "execution_count": null,
   "metadata": {},
   "outputs": [],
   "source": [
    "# Simula dos muestras x1 y x2 con distribución Normal .\n",
    "# Observe que x2 se crea agregando algo de 'ruido' a x1.\n",
    "# Luego, se establece la relación 'uno a uno'.\n",
    "n = 10\n",
    "x1 = np.random.randn(n)*5 + 3\n",
    "x2 = x1 + np.random.randn(n)*1 + 1"
   ]
  },
  {
   "cell_type": "markdown",
   "metadata": {},
   "source": [
    "Repita el contraste de hipótesis simétrico (dos colas) para evaluar la igualdad de medias de las muestras 'x1' y 'x2' anteriores. ¿A qué cree que se pueden deber las diferencias?"
   ]
  },
  {
   "cell_type": "code",
   "execution_count": null,
   "metadata": {},
   "outputs": [],
   "source": [
    "# Usando la función ttest_rel() de la librería SciPy. \n",
    "# Prueba de dos colas.\n",
    "st.ttest_rel(x1,x2)"
   ]
  },
  {
   "cell_type": "code",
   "execution_count": null,
   "metadata": {},
   "outputs": [],
   "source": [
    "# Compare con el test-t de dos muestras independientes en el mismo conjunto de datos.\n",
    "# El valor-p es completamente diferente\n",
    "st.ttest_ind(x1,x2,equal_var=False)  "
   ]
  },
  {
   "cell_type": "markdown",
   "metadata": {},
   "source": [
    "#### 1.4. ANOVA:"
   ]
  },
  {
   "cell_type": "code",
   "execution_count": null,
   "metadata": {},
   "outputs": [],
   "source": [
    "# Datos.\n",
    "x1 = np.array([82,93,61,74,69,70,53])\n",
    "x2 = np.array([71,62,85,94,78,66,71])\n",
    "x3 = np.array([64,73,87,91,56,78,87])"
   ]
  },
  {
   "cell_type": "markdown",
   "metadata": {},
   "source": [
    "Se tiene tres grupos de estudiantes. Los datos corresponden a los resultados de un examen de cada uno de los grupos.\n",
    "\n",
    "Determinar si existe alguna diferencia significativa en los resultados de las pruebas de cada uno de los grupos."
   ]
  },
  {
   "cell_type": "code",
   "execution_count": null,
   "metadata": {},
   "outputs": [],
   "source": [
    "# Usando la función f_onway() de la librería SciPy.\n",
    "res=st.f_oneway(x1,x2,x3)\n",
    "print(\"Test statistic  : %f \" % res[0] )\n",
    "print(\"p-value         : %f \" % res[1] )"
   ]
  }
 ],
 "metadata": {
  "kernelspec": {
   "display_name": "Python 3",
   "language": "python",
   "name": "python3"
  },
  "language_info": {
   "codemirror_mode": {
    "name": "ipython",
    "version": 3
   },
   "file_extension": ".py",
   "mimetype": "text/x-python",
   "name": "python",
   "nbconvert_exporter": "python",
   "pygments_lexer": "ipython3",
   "version": "3.8.8"
  }
 },
 "nbformat": 4,
 "nbformat_minor": 2
}
