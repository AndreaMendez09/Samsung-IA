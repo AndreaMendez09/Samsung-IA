{
 "cells": [
  {
   "cell_type": "markdown",
   "metadata": {},
   "source": [
    "## Ejercicio de codificación #0305"
   ]
  },
  {
   "cell_type": "markdown",
   "metadata": {},
   "source": [
    "### 1. Estimación del intervalo de la media:"
   ]
  },
  {
   "cell_type": "code",
   "execution_count": 19,
   "metadata": {},
   "outputs": [],
   "source": [
    "import numpy as np\n",
    "import scipy.stats as st"
   ]
  },
  {
   "cell_type": "code",
   "execution_count": 20,
   "metadata": {},
   "outputs": [],
   "source": [
    "# x contiene una muestra.\n",
    "# n = tamaño de la muestra.\n",
    "x = np.array([25,24,24,27,29,31,28,24,25,26,25,18,30,28,23,26,27,23,16,20,22,22,25,24, 24,25,25,27,26,30,25,25,26,26,25,24])\n",
    "n = len(x)"
   ]
  },
  {
   "cell_type": "code",
   "execution_count": 21,
   "metadata": {},
   "outputs": [],
   "source": [
    "# SEM = Standard Error of the Mean - Error estandar de la media.\n",
    "# Para hacer una estimación insesgada de la desviación estándar, establecemos ddof = 1. \n",
    "x_mean = x.mean()\n",
    "SEM = x.std(ddof=1)/np.sqrt(n*1.0)"
   ]
  },
  {
   "cell_type": "markdown",
   "metadata": {},
   "source": [
    "**Calcular un intervalos de confianza al 90%, 95% y 99% para la media.**\n",
    "\n",
    "#### 1.1 Intervalo de confianza del 90%:"
   ]
  },
  {
   "cell_type": "code",
   "execution_count": 22,
   "metadata": {},
   "outputs": [
    {
     "data": {
      "text/plain": [
       "(24.165832750582954, 25.834167249417046)"
      ]
     },
     "execution_count": 22,
     "metadata": {},
     "output_type": "execute_result"
    }
   ],
   "source": [
    "# Utilizando los cuantiles aproximados de la Normal Estándar.\n",
    "(x_mean - 1.645*SEM, x_mean + 1.645*SEM)"
   ]
  },
  {
   "cell_type": "code",
   "execution_count": 23,
   "metadata": {},
   "outputs": [
    {
     "data": {
      "text/plain": [
       "(24.1659069752658, 25.8340930247342)"
      ]
     },
     "execution_count": 23,
     "metadata": {},
     "output_type": "execute_result"
    }
   ],
   "source": [
    "# Utilizando los cuantiles exactos de la Normal Estándar.\n",
    "(x_mean - st.norm.ppf(0.95,loc=0,scale=1)*SEM, x_mean + st.norm.ppf(0.95,loc=0,scale=1)*SEM)"
   ]
  },
  {
   "cell_type": "code",
   "execution_count": 24,
   "metadata": {},
   "outputs": [
    {
     "data": {
      "text/plain": [
       "(24.1659069752658, 25.8340930247342)"
      ]
     },
     "execution_count": 24,
     "metadata": {},
     "output_type": "execute_result"
    }
   ],
   "source": [
    "# Utilizando la función interval() de la ibrería SciPy (Normal Estándar). \n",
    "st.norm.interval(0.9, loc = x_mean, scale = SEM )"
   ]
  },
  {
   "cell_type": "code",
   "execution_count": 25,
   "metadata": {},
   "outputs": [
    {
     "data": {
      "text/plain": [
       "(24.14323039111625, 25.85676960888375)"
      ]
     },
     "execution_count": 25,
     "metadata": {},
     "output_type": "execute_result"
    }
   ],
   "source": [
    "# Utilizando los cuantiles exactos de la t de Student.\n",
    "(x_mean - st.t.ppf(0.95,df=n-1)*SEM, x_mean + st.t.ppf(0.95,df=n-1)*SEM)"
   ]
  },
  {
   "cell_type": "code",
   "execution_count": 26,
   "metadata": {},
   "outputs": [
    {
     "data": {
      "text/plain": [
       "(24.14323039111625, 25.85676960888375)"
      ]
     },
     "execution_count": 26,
     "metadata": {},
     "output_type": "execute_result"
    }
   ],
   "source": [
    "# Utilizando la función interval() de la ibrería SciPy (Student-t).\n",
    "st.t.interval(0.9, df = n-1, loc = x_mean, scale = SEM )"
   ]
  },
  {
   "cell_type": "markdown",
   "metadata": {},
   "source": [
    "#### 1.2.  Intervalo de confianza del 95%:"
   ]
  },
  {
   "cell_type": "code",
   "execution_count": 27,
   "metadata": {},
   "outputs": [
    {
     "data": {
      "text/plain": [
       "(24.006098596439266, 25.993901403560734)"
      ]
     },
     "execution_count": 27,
     "metadata": {},
     "output_type": "execute_result"
    }
   ],
   "source": [
    "# Utilizando los cuantiles aproximados de la Normal Estándar.\n",
    "(x_mean - 1.96*SEM, x_mean + 1.96*SEM)"
   ]
  },
  {
   "cell_type": "code",
   "execution_count": 28,
   "metadata": {},
   "outputs": [
    {
     "data": {
      "text/plain": [
       "(24.006116859610792, 25.993883140389208)"
      ]
     },
     "execution_count": 28,
     "metadata": {},
     "output_type": "execute_result"
    }
   ],
   "source": [
    "# Utilizando los cuantiles exactos de la Normal Estándar.\n",
    "(x_mean - st.norm.ppf(0.975,loc=0,scale=1)*SEM, x_mean + st.norm.ppf(0.975,loc=0,scale=1)*SEM)"
   ]
  },
  {
   "cell_type": "code",
   "execution_count": 29,
   "metadata": {},
   "outputs": [
    {
     "data": {
      "text/plain": [
       "(24.006116859610792, 25.993883140389208)"
      ]
     },
     "execution_count": 29,
     "metadata": {},
     "output_type": "execute_result"
    }
   ],
   "source": [
    "# Utilizando la función interval() de la ibrería SciPy (Normal Estándar). \n",
    "st.norm.interval(0.95, loc = x_mean, scale = SEM )"
   ]
  },
  {
   "cell_type": "code",
   "execution_count": 30,
   "metadata": {},
   "outputs": [
    {
     "data": {
      "text/plain": [
       "(23.97054738812868, 26.02945261187132)"
      ]
     },
     "execution_count": 30,
     "metadata": {},
     "output_type": "execute_result"
    }
   ],
   "source": [
    "# Utilizando los cuantiles exactos de la t de Student.\n",
    "(x_mean - st.t.ppf(0.975,df=n-1)*SEM, x_mean + st.t.ppf(0.975,df=n-1)*SEM)"
   ]
  },
  {
   "cell_type": "code",
   "execution_count": 31,
   "metadata": {},
   "outputs": [
    {
     "data": {
      "text/plain": [
       "(23.97054738812868, 26.02945261187132)"
      ]
     },
     "execution_count": 31,
     "metadata": {},
     "output_type": "execute_result"
    }
   ],
   "source": [
    "# Utilizando la función interval() de la ibrería SciPy (Student-t).\n",
    "st.t.interval(0.95, df = n-1, loc = x_mean, scale = SEM )"
   ]
  },
  {
   "cell_type": "markdown",
   "metadata": {},
   "source": [
    "#### 1.3. Intervalo de confianza del 99%:"
   ]
  },
  {
   "cell_type": "code",
   "execution_count": 32,
   "metadata": {},
   "outputs": [
    {
     "data": {
      "text/plain": [
       "(23.693729583891603, 26.306270416108397)"
      ]
     },
     "execution_count": 32,
     "metadata": {},
     "output_type": "execute_result"
    }
   ],
   "source": [
    "# Utilizando los cuantiles aproximados de la Normal Estándar.\n",
    "(x_mean - 2.576*SEM, x_mean + 2.576*SEM)"
   ]
  },
  {
   "cell_type": "code",
   "execution_count": 33,
   "metadata": {},
   "outputs": [
    {
     "data": {
      "text/plain": [
       "(23.69381614279075, 26.30618385720925)"
      ]
     },
     "execution_count": 33,
     "metadata": {},
     "output_type": "execute_result"
    }
   ],
   "source": [
    "# Utilizando los cuantiles exactos de la Normal Estándar.\n",
    "(x_mean - st.norm.ppf(0.995,loc=0,scale=1)*SEM, x_mean + st.norm.ppf(0.995,loc=0,scale=1)*SEM)"
   ]
  },
  {
   "cell_type": "code",
   "execution_count": 34,
   "metadata": {},
   "outputs": [
    {
     "data": {
      "text/plain": [
       "(23.69381614279075, 26.30618385720925)"
      ]
     },
     "execution_count": 34,
     "metadata": {},
     "output_type": "execute_result"
    }
   ],
   "source": [
    "# Utilizando la función interval() de la ibrería SciPy (Normal Estándar).\n",
    "st.norm.interval(0.99, loc = x_mean, scale = SEM )"
   ]
  },
  {
   "cell_type": "code",
   "execution_count": 35,
   "metadata": {},
   "outputs": [
    {
     "data": {
      "text/plain": [
       "(23.618778470336505, 26.381221529663495)"
      ]
     },
     "execution_count": 35,
     "metadata": {},
     "output_type": "execute_result"
    }
   ],
   "source": [
    "# Utilizando los cuantiles exactos de la t de Student.\n",
    "(x_mean - st.t.ppf(0.995,df=n-1)*SEM, x_mean + st.t.ppf(0.995,df=n-1)*SEM)"
   ]
  },
  {
   "cell_type": "code",
   "execution_count": 36,
   "metadata": {},
   "outputs": [
    {
     "data": {
      "text/plain": [
       "(23.618778470336505, 26.381221529663495)"
      ]
     },
     "execution_count": 36,
     "metadata": {},
     "output_type": "execute_result"
    }
   ],
   "source": [
    "# Utilizando la función interval() de la ibrería SciPy (Student-t).\n",
    "st.t.interval(0.99, df = n-1, loc = x_mean, scale = SEM )"
   ]
  }
 ],
 "metadata": {
  "kernelspec": {
   "display_name": "Python 3",
   "language": "python",
   "name": "python3"
  },
  "language_info": {
   "codemirror_mode": {
    "name": "ipython",
    "version": 3
   },
   "file_extension": ".py",
   "mimetype": "text/x-python",
   "name": "python",
   "nbconvert_exporter": "python",
   "pygments_lexer": "ipython3",
   "version": "3.8.8"
  }
 },
 "nbformat": 4,
 "nbformat_minor": 2
}
