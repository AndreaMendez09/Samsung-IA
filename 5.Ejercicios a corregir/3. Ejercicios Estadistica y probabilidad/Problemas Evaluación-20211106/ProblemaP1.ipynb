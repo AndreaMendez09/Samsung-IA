{
 "cells": [
  {
   "cell_type": "markdown",
   "metadata": {},
   "source": [
    "## Prueba #0301"
   ]
  },
  {
   "cell_type": "markdown",
   "metadata": {},
   "source": [
    "### \"Tamaño de la muestra\""
   ]
  },
  {
   "cell_type": "code",
   "execution_count": 3,
   "metadata": {},
   "outputs": [],
   "source": [
    "import numpy as np\n",
    "import scipy.stats as st"
   ]
  },
  {
   "cell_type": "markdown",
   "metadata": {},
   "source": [
    "#### Responda las siguientes preguntas proporcionando código Python:"
   ]
  },
  {
   "cell_type": "markdown",
   "metadata": {},
   "source": [
    "Se sabe que el peso de los estudiantes de la escuela se distribuye con una distribución normal de desviación típica $\\sigma = 3$ kg. <br>\n",
    "Calcule el tamaño de muestra *mínimo* en cada uno de los siguientes casos."
   ]
  },
  {
   "cell_type": "code",
   "execution_count": 4,
   "metadata": {},
   "outputs": [],
   "source": [
    "sigma = 3.0"
   ]
  },
  {
   "cell_type": "markdown",
   "metadata": {},
   "source": [
    "1) Cuando queremos que el ancho total del intervalo de confianza del 95% para la media sea inferior a 2 kg:\n",
    "**NOTA**: Use la distribución normal para calcular el intervalo de confianza."
   ]
  },
  {
   "cell_type": "code",
   "execution_count": 6,
   "metadata": {},
   "outputs": [
    {
     "data": {
      "text/plain": [
       "35"
      ]
     },
     "execution_count": 6,
     "metadata": {},
     "output_type": "execute_result"
    }
   ],
   "source": [
    "import numpy as np\n",
    "import scipy.stats as st\n",
    "\n",
    "# L = 2*Delta_beta*sigma/sqrt(n).\n",
    "L = 2\n",
    "δβ = st.norm.ppf( (0.95 + 1)/ 2)\n",
    "n = (2 * δβ * sigma/L)**2\n",
    "int(np.ceil(n))"
   ]
  },
  {
   "cell_type": "markdown",
   "metadata": {},
   "source": [
    "2). Cuando queremos que el ancho total del intervalo de confianza del 95% para la media sea inferior a 2 kg: <br>\n",
    "**NOTA**: Utilice la distribución $t$ de Student.\n",
    "\n",
    "*SUGERENCIA*: Como la distribución de $t$ de Student depende de $n$, este ejercicio es más complejo que el anterior."
   ]
  },
  {
   "cell_type": "code",
   "execution_count": 29,
   "metadata": {},
   "outputs": [
    {
     "name": "stdout",
     "output_type": "stream",
     "text": [
      "37\n"
     ]
    }
   ],
   "source": [
    "n = 9\n",
    "L = 1000\n",
    "while L > 2:\n",
    "    n += 1\n",
    "    L = 2 * δβ * sigma/np.sqrt(n)\n",
    "    \n",
    "print(n)"
   ]
  }
 ],
 "metadata": {
  "kernelspec": {
   "display_name": "Python 3",
   "language": "python",
   "name": "python3"
  },
  "language_info": {
   "codemirror_mode": {
    "name": "ipython",
    "version": 3
   },
   "file_extension": ".py",
   "mimetype": "text/x-python",
   "name": "python",
   "nbconvert_exporter": "python",
   "pygments_lexer": "ipython3",
   "version": "3.8.8"
  }
 },
 "nbformat": 4,
 "nbformat_minor": 4
}
