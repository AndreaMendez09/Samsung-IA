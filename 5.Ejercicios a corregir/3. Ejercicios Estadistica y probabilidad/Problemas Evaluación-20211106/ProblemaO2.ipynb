{
 "cells": [
  {
   "cell_type": "markdown",
   "metadata": {},
   "source": [
    "## Prueba #0305"
   ]
  },
  {
   "cell_type": "markdown",
   "metadata": {},
   "source": [
    "### \"Correlación e intervalo de estimación\""
   ]
  },
  {
   "cell_type": "code",
   "execution_count": 2,
   "metadata": {},
   "outputs": [],
   "source": [
    "import numpy as np\n",
    "import scipy.stats as st"
   ]
  },
  {
   "cell_type": "markdown",
   "metadata": {},
   "source": [
    "#### Responda las siguientes preguntas proporcionando código Python:"
   ]
  },
  {
   "cell_type": "markdown",
   "metadata": {},
   "source": [
    "Calcule los intervalos de confianza del 95% y el 99% para la correlación de Pearson. <br>\n",
    "Analice si el intervalo de confianza incluye cero o no."
   ]
  },
  {
   "cell_type": "markdown",
   "metadata": {},
   "source": [
    "1) Cuando el tamaño de la muestra $n = 30$ y la correlación de la muestra $r = 0.45$:"
   ]
  },
  {
   "cell_type": "code",
   "execution_count": 8,
   "metadata": {},
   "outputs": [],
   "source": [
    "n = 30\n",
    "r = 0.45\n",
    "X = np.arctanh(r)"
   ]
  },
  {
   "cell_type": "code",
   "execution_count": 9,
   "metadata": {},
   "outputs": [
    {
     "name": "stdout",
     "output_type": "stream",
     "text": [
      "0.10709278247377603 0.6972330057657298\n"
     ]
    }
   ],
   "source": [
    "beta = 1 - 0.05\n",
    "valor1 = np.tanh( X - st.norm.ppf(( beta + 1 )/2 )/ np.sqrt( n - 3 ))\n",
    "valor2 = np.tanh( X + st.norm.ppf(( beta + 1 )/2 )/ np.sqrt( n - 3 ))\n",
    "\n",
    "print( valor1, valor2 )"
   ]
  },
  {
   "cell_type": "code",
   "execution_count": 10,
   "metadata": {},
   "outputs": [
    {
     "name": "stdout",
     "output_type": "stream",
     "text": [
      "-0.0110178561395322 0.7532471683684435\n"
     ]
    }
   ],
   "source": [
    "beta = 1 - 0.01\n",
    "valor3 = np.tanh( X - st.norm.ppf(( beta + 1 )/2 )/ np.sqrt( n - 3 ))\n",
    "valor4 = np.tanh( X + st.norm.ppf(( beta + 1 )/2 )/ np.sqrt( n - 3 ))\n",
    "\n",
    "print( valor3, valor4 )\n"
   ]
  },
  {
   "cell_type": "markdown",
   "metadata": {},
   "source": [
    "2). Cuando el tamaño de la muestra $n = 300$ y la correlación de la muestra $r = -0,2$:"
   ]
  },
  {
   "cell_type": "code",
   "execution_count": 11,
   "metadata": {},
   "outputs": [],
   "source": [
    "n = 300\n",
    "r = -0.2\n",
    "X = np.arctanh(r)"
   ]
  },
  {
   "cell_type": "code",
   "execution_count": 12,
   "metadata": {},
   "outputs": [
    {
     "name": "stdout",
     "output_type": "stream",
     "text": [
      "-0.30630362326590993 -0.08876963035471495\n"
     ]
    }
   ],
   "source": [
    "beta = 1 - 0.05\n",
    "valor1 = np.tanh( X - st.norm.ppf(( beta + 1 )/2 )/ np.sqrt( n - 3 ))\n",
    "valor2 = np.tanh( X + st.norm.ppf(( beta + 1 )/2 )/ np.sqrt( n - 3 ))\n",
    "\n",
    "print( valor1, valor2 )\n"
   ]
  },
  {
   "cell_type": "code",
   "execution_count": 13,
   "metadata": {},
   "outputs": [
    {
     "name": "stdout",
     "output_type": "stream",
     "text": [
      "-0.33832280715950935 -0.053217453740209496\n"
     ]
    }
   ],
   "source": [
    "beta = 1 - 0.01\n",
    "valor3 = np.tanh( X - st.norm.ppf(( beta + 1 )/2 )/ np.sqrt( n - 3 ))\n",
    "valor4 = np.tanh( X + st.norm.ppf(( beta + 1 )/2 )/ np.sqrt( n - 3 ))\n",
    "\n",
    "print( valor3, valor4 )\n"
   ]
  },
  {
   "cell_type": "code",
   "execution_count": null,
   "metadata": {},
   "outputs": [],
   "source": []
  }
 ],
 "metadata": {
  "kernelspec": {
   "display_name": "Python 3",
   "language": "python",
   "name": "python3"
  },
  "language_info": {
   "codemirror_mode": {
    "name": "ipython",
    "version": 3
   },
   "file_extension": ".py",
   "mimetype": "text/x-python",
   "name": "python",
   "nbconvert_exporter": "python",
   "pygments_lexer": "ipython3",
   "version": "3.8.8"
  }
 },
 "nbformat": 4,
 "nbformat_minor": 4
}
