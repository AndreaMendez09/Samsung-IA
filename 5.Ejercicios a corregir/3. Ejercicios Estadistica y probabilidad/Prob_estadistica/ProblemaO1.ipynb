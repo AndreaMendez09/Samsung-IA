{
 "cells": [
  {
   "cell_type": "markdown",
   "metadata": {},
   "source": [
    "## Prueba #0303"
   ]
  },
  {
   "cell_type": "markdown",
   "metadata": {},
   "source": [
    "### \"Control de calidad de rodamientos de bolas\""
   ]
  },
  {
   "cell_type": "code",
   "execution_count": 2,
   "metadata": {},
   "outputs": [],
   "source": [
    "import numpy as np\n",
    "import scipy.stats as st"
   ]
  },
  {
   "cell_type": "markdown",
   "metadata": {},
   "source": [
    "#### Responda las siguientes preguntas proporcionando código Python:"
   ]
  },
  {
   "cell_type": "markdown",
   "metadata": {},
   "source": [
    "Se sabe que el 3% de los rodamientos de bolas de una línea de producción están defectuosos. <br>\n",
    "Suponga que se extrae una muestra de 500 rodamientos de bolas."
   ]
  },
  {
   "cell_type": "code",
   "execution_count": 3,
   "metadata": {},
   "outputs": [],
   "source": [
    "p = 0.03\n",
    "n = 500"
   ]
  },
  {
   "cell_type": "markdown",
   "metadata": {},
   "source": [
    "1). ¿Cuál es la probabilidad de que la tasa de defectos de la muestra sea superior al 5%? <br>\n",
    "*SUGERENCIA*: Utilice la distribución normal estándar."
   ]
  },
  {
   "cell_type": "code",
   "execution_count": 9,
   "metadata": {},
   "outputs": [
    {
     "data": {
      "text/plain": [
       "0.9421368298654466"
      ]
     },
     "execution_count": 9,
     "metadata": {},
     "output_type": "execute_result"
    }
   ],
   "source": [
    "# Distribución normal estándar\n",
    "a = 0.05\n",
    "# Calculo el valor de la media y de desviación correspondientes a p y n, usando binom para poder estandarizar el punto \n",
    "mu = st.binom.mean(n,p)\n",
    "sigma = st.binom.std(n,p)\n",
    "punto = st.binom.ppf(a, n, p)   # percent point del 5%\n",
    "\n",
    "# uso el punto estandarizo  Z = X - mu/ sigma y calulo la probabilidad para que sea > 5 %\n",
    "st.norm.sf(((punto - mu)/sigma))"
   ]
  },
  {
   "cell_type": "markdown",
   "metadata": {},
   "source": [
    "2). ¿Cuál es la probabilidad de que la tasa de defectos de la muestra sea inferior al 2%? <br>\n",
    "*SUGERENCIA*: Utilice la distribución normal estándar."
   ]
  },
  {
   "cell_type": "code",
   "execution_count": 10,
   "metadata": {},
   "outputs": [
    {
     "data": {
      "text/plain": [
       "0.033243306175352816"
      ]
     },
     "execution_count": 10,
     "metadata": {},
     "output_type": "execute_result"
    }
   ],
   "source": [
    "b = 0.02\n",
    "punto = st.binom.ppf(b, n, p)\n",
    "\n",
    "# uso el punto estandarizo  Z = X - mu/ sigma\n",
    "st.norm.cdf((punto - mu)/sigma)\n"
   ]
  },
  {
   "cell_type": "markdown",
   "metadata": {},
   "source": [
    "3). Rehacer los cálculos de 1) y 2) usando la distribución binomial. Comente los resultados."
   ]
  },
  {
   "cell_type": "code",
   "execution_count": 11,
   "metadata": {},
   "outputs": [
    {
     "data": {
      "text/plain": [
       "0.933071439189228"
      ]
     },
     "execution_count": 11,
     "metadata": {},
     "output_type": "execute_result"
    }
   ],
   "source": [
    "# Rehacer 1).\n",
    "\n",
    "# Calculo el valor de la variable de la distribucion correspondiente a 5% \n",
    "b1 = st.binom.ppf(a, n, p)\n",
    "# Con el valor de la variable procedo a hallar la probabilidad que sea superior por eso uso sf\n",
    "st.binom.sf(b1, n, p)"
   ]
  },
  {
   "cell_type": "code",
   "execution_count": 12,
   "metadata": {},
   "outputs": [
    {
     "data": {
      "text/plain": [
       "0.03541250127834786"
      ]
     },
     "execution_count": 12,
     "metadata": {},
     "output_type": "execute_result"
    }
   ],
   "source": [
    "# Rehacer 2).\n",
    "\n",
    "# Calculo el valor de la variable de la distribución correspondiente al 2%\n",
    "b2 = st.binom.ppf(b, n, p)\n",
    "# procedo a hallar la probabilidad que sea menor que b2 por eso uso cdf\n",
    "st.binom.cdf(b2, n ,p)"
   ]
  }
 ],
 "metadata": {
  "kernelspec": {
   "display_name": "Python 3",
   "language": "python",
   "name": "python3"
  },
  "language_info": {
   "codemirror_mode": {
    "name": "ipython",
    "version": 3
   },
   "file_extension": ".py",
   "mimetype": "text/x-python",
   "name": "python",
   "nbconvert_exporter": "python",
   "pygments_lexer": "ipython3",
   "version": "3.8.8"
  }
 },
 "nbformat": 4,
 "nbformat_minor": 2
}
