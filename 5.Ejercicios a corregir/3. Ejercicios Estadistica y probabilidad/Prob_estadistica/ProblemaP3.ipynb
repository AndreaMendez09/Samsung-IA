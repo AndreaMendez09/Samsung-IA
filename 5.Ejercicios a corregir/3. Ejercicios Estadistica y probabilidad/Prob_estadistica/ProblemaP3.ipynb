{
 "cells": [
  {
   "cell_type": "markdown",
   "metadata": {},
   "source": [
    "## Prueba #0304"
   ]
  },
  {
   "cell_type": "markdown",
   "metadata": {},
   "source": [
    "### \"Tasa de apoyo a las políticas\""
   ]
  },
  {
   "cell_type": "code",
   "execution_count": 2,
   "metadata": {},
   "outputs": [],
   "source": [
    "import numpy as np\n",
    "import scipy.stats as st"
   ]
  },
  {
   "cell_type": "markdown",
   "metadata": {},
   "source": [
    "#### Responda las siguientes preguntas proporcionando código Python:"
   ]
  },
  {
   "cell_type": "markdown",
   "metadata": {},
   "source": [
    "Se sabe que la tasa global de apoyo a las políticas de un cierto partido es del 52%. <br>"
   ]
  },
  {
   "cell_type": "code",
   "execution_count": 17,
   "metadata": {},
   "outputs": [],
   "source": [
    "p = 0.52"
   ]
  },
  {
   "cell_type": "markdown",
   "metadata": {},
   "source": [
    "1) ¿Cuál es la probabilidad de que la tasa de apoyo sea inferior al 50% cuando se le pregunta a 100 personas? <br>\n",
    "*SUGERENCIA*: Utilice la proporción de muestra y la distribución normal estándar."
   ]
  },
  {
   "cell_type": "code",
   "execution_count": 58,
   "metadata": {},
   "outputs": [
    {
     "data": {
      "text/plain": [
       "0.5"
      ]
     },
     "execution_count": 58,
     "metadata": {},
     "output_type": "execute_result"
    }
   ],
   "source": [
    "n = 100\n",
    "# usando una proporción de la muestra \n",
    "mu = st.binom.mean(n,p)     # mu = n*p\n",
    "sigma = st.binom.std(n,p)   # sigma = np.sqrt(n*p*(1-p))\n",
    "punto = st.binom.ppf(0.50, n, p)  # percent point del 50 %\n",
    "\n",
    "# uso el punto estandarizo  Z = X - mu/ sigma y calulo la probabilidad para que sea menor que 50%\n",
    "st.norm.cdf(((punto - mu)/sigma))"
   ]
  },
  {
   "cell_type": "markdown",
   "metadata": {},
   "source": [
    "2) ¿Cuál es la probabilidad de que la tasa de apoyo sea inferior al 50% cuando se le pregunta a 300 personas? <br>\n",
    "*SUGERENCIA*: Utilice la proporción de muestra y la distribución normal estándar."
   ]
  },
  {
   "cell_type": "code",
   "execution_count": 59,
   "metadata": {},
   "outputs": [
    {
     "data": {
      "text/plain": [
       "0.5"
      ]
     },
     "execution_count": 59,
     "metadata": {},
     "output_type": "execute_result"
    }
   ],
   "source": [
    "n = 300\n",
    "# usando una proporción de la muestra \n",
    "mu = st.binom.mean(n,p)     # mu = n*p\n",
    "sigma = st.binom.std(n,p)   # sigma = np.sqrt(n*p*(1-p))\n",
    "punto = st.binom.ppf(0.50, n, p)  # percent point del 50 %\n",
    "\n",
    "# uso el punto estandarizo  Z = X - mu/ sigma y calulo la probabilidad para que sea menor que 50%\n",
    "st.norm.cdf(((punto - mu)/sigma))"
   ]
  },
  {
   "cell_type": "markdown",
   "metadata": {},
   "source": [
    "3) Rehacer los cálculos de 1) y 2) usando la distribución Binomial. Comente los resultados."
   ]
  },
  {
   "cell_type": "code",
   "execution_count": 50,
   "metadata": {},
   "outputs": [
    {
     "data": {
      "text/plain": [
       "0.5392995046115139"
      ]
     },
     "execution_count": 50,
     "metadata": {},
     "output_type": "execute_result"
    }
   ],
   "source": [
    "# Rehacer 1).\n",
    "n = 100 \n",
    "\n",
    "st.binom.cdf(st.binom.ppf(0.50, n , p), n, p)"
   ]
  },
  {
   "cell_type": "code",
   "execution_count": 51,
   "metadata": {},
   "outputs": [
    {
     "data": {
      "text/plain": [
       "0.522725873301859"
      ]
     },
     "execution_count": 51,
     "metadata": {},
     "output_type": "execute_result"
    }
   ],
   "source": [
    "# Rehacer 2).\n",
    "n = 300 \n",
    "st.binom.cdf(st.binom.ppf(0.50, n = 300 , p = 0.52), n = 300, p = 0.52)"
   ]
  },
  {
   "cell_type": "markdown",
   "metadata": {},
   "source": [
    "4) Rehacer los cálculos de 1) y 2) utilizando la distribución de Poisson. Comente los resultados."
   ]
  },
  {
   "cell_type": "code",
   "execution_count": 27,
   "metadata": {},
   "outputs": [
    {
     "data": {
      "text/plain": [
       "0.42632224798181584"
      ]
     },
     "execution_count": 27,
     "metadata": {},
     "output_type": "execute_result"
    }
   ],
   "source": [
    "# Rehacer 1).\n",
    "n = 100\n",
    "mu = n * p \n",
    "lam= 0.50 * n\n",
    "st.poisson.cdf(lam,mu)"
   ]
  },
  {
   "cell_type": "code",
   "execution_count": 28,
   "metadata": {},
   "outputs": [
    {
     "data": {
      "text/plain": [
       "0.33376351627852585"
      ]
     },
     "execution_count": 28,
     "metadata": {},
     "output_type": "execute_result"
    }
   ],
   "source": [
    "# Rehacer 2).\n",
    "n = 300\n",
    "mu = n * p \n",
    "lam= 0.50 * n\n",
    "st.poisson.cdf(lam,mu)"
   ]
  },
  {
   "cell_type": "code",
   "execution_count": null,
   "metadata": {},
   "outputs": [],
   "source": []
  }
 ],
 "metadata": {
  "kernelspec": {
   "display_name": "Python 3",
   "language": "python",
   "name": "python3"
  },
  "language_info": {
   "codemirror_mode": {
    "name": "ipython",
    "version": 3
   },
   "file_extension": ".py",
   "mimetype": "text/x-python",
   "name": "python",
   "nbconvert_exporter": "python",
   "pygments_lexer": "ipython3",
   "version": "3.8.8"
  }
 },
 "nbformat": 4,
 "nbformat_minor": 2
}
