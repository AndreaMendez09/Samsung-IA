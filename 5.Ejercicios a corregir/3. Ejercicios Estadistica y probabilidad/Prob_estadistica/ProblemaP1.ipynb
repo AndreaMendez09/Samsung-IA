{
 "cells": [
  {
   "cell_type": "markdown",
   "metadata": {},
   "source": [
    "## Prueba #0301"
   ]
  },
  {
   "cell_type": "markdown",
   "metadata": {},
   "source": [
    "### \"Tamaño de la muestra\""
   ]
  },
  {
   "cell_type": "code",
   "execution_count": 3,
   "metadata": {},
   "outputs": [],
   "source": [
    "import numpy as np\n",
    "import scipy.stats as st"
   ]
  },
  {
   "cell_type": "markdown",
   "metadata": {},
   "source": [
    "#### Responda las siguientes preguntas proporcionando código Python:"
   ]
  },
  {
   "cell_type": "markdown",
   "metadata": {},
   "source": [
    "Se sabe que el peso de los estudiantes de la escuela se distribuye con una distribución normal de desviación típica $\\sigma = 3$ kg. <br>\n",
    "Calcule el tamaño de muestra *mínimo* en cada uno de los siguientes casos."
   ]
  },
  {
   "cell_type": "code",
   "execution_count": 4,
   "metadata": {},
   "outputs": [],
   "source": [
    "sigma = 3.0"
   ]
  },
  {
   "cell_type": "markdown",
   "metadata": {},
   "source": [
    "1) Cuando queremos que el ancho total del intervalo de confianza del 95% para la media sea inferior a 2 kg:\n",
    "**NOTA**: Use la distribución normal para calcular el intervalo de confianza."
   ]
  },
  {
   "cell_type": "code",
   "execution_count": 9,
   "metadata": {},
   "outputs": [
    {
     "name": "stdout",
     "output_type": "stream",
     "text": [
      "1.959963984540054\n",
      "Necesito un tamaño mínimo de muestra: 34.573129386247125\n"
     ]
    }
   ],
   "source": [
    "# Distibución normal \n",
    "# Cuantil en alpha = 0.975\n",
    "alpha = 0.975\n",
    "mu = 2.0  # el maximo de kg \n",
    "quant = st.norm.ppf(alpha)   # sacamos el valor correspondiente al cuantil usando una dist normal estándar\n",
    "print(quant)\n",
    "epsilon = mu /2  \n",
    "n = (quant * sigma / epsilon)**2  # calculo de la n \n",
    "print('Necesito un tamaño mínimo de muestra:', n)"
   ]
  },
  {
   "cell_type": "markdown",
   "metadata": {},
   "source": [
    "2). Cuando queremos que el ancho total del intervalo de confianza del 95% para la media sea inferior a 2 kg: <br>\n",
    "**NOTA**: Utilice la distribución $t$ de Student.\n",
    "\n",
    "*SUGERENCIA*: Como la distribución de $t$ de Student depende de $n$, este ejercicio es más complejo que el anterior."
   ]
  },
  {
   "cell_type": "code",
   "execution_count": 17,
   "metadata": {},
   "outputs": [
    {
     "name": "stdout",
     "output_type": "stream",
     "text": [
      "1.9839715184496334\n",
      "Necesito un tamaño mínimo de muestra: 35.42528687417409\n"
     ]
    }
   ],
   "source": [
    "# t de Student\n",
    "\n",
    "# dado que no se sabe el valor de la muestra, n, por tanto no se os grados de libertad. \n",
    "# aunque ambos estan relacionados, sabemos que a mayor grados de libertad la función mas tiende a la normal\n",
    "# por ello elegimos df= 100 anunque podriamos elegir df= 100000 y obtendriamos unos valores de n no muy alejados\n",
    "\n",
    "df = 100\n",
    "quant = st.t.ppf(alpha, df) \n",
    "print(quant)\n",
    "n = (quant * sigma / epsilon)**2\n",
    "print('Necesito un tamaño mínimo de muestra:', n)    "
   ]
  },
  {
   "cell_type": "code",
   "execution_count": null,
   "metadata": {},
   "outputs": [],
   "source": []
  }
 ],
 "metadata": {
  "kernelspec": {
   "display_name": "Python 3",
   "language": "python",
   "name": "python3"
  },
  "language_info": {
   "codemirror_mode": {
    "name": "ipython",
    "version": 3
   },
   "file_extension": ".py",
   "mimetype": "text/x-python",
   "name": "python",
   "nbconvert_exporter": "python",
   "pygments_lexer": "ipython3",
   "version": "3.8.8"
  }
 },
 "nbformat": 4,
 "nbformat_minor": 2
}
