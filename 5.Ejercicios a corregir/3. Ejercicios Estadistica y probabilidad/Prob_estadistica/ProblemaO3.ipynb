{
 "cells": [
  {
   "cell_type": "markdown",
   "metadata": {},
   "source": [
    "## Prueba #0306"
   ]
  },
  {
   "cell_type": "markdown",
   "metadata": {},
   "source": [
    "### \"Test $F$ de ratio de varianza\""
   ]
  },
  {
   "cell_type": "code",
   "execution_count": 1,
   "metadata": {},
   "outputs": [],
   "source": [
    "import numpy as np\n",
    "import scipy.stats as st"
   ]
  },
  {
   "cell_type": "markdown",
   "metadata": {},
   "source": [
    "#### Responda las siguientes preguntas proporcionando código Python:"
   ]
  },
  {
   "cell_type": "markdown",
   "metadata": {},
   "source": [
    "En una fábrica hay dos máquinas de envasado. Las muestras de salida se extraen de cada máquina. <br>\n",
    "- $n_1 = 15$, $\\bar {x}_1 = 5.0592 kg$, $s_1^2 = 0.1130 kg^2$\n",
    "- $n_2 = 12$, $\\bar {x}_2 = 4.9808 kg$, $s_2^2 = 0.0152 kg^2$\n",
    "\n",
    "Comprobar si hay una diferencia significativa en las variaciones (95%)."
   ]
  },
  {
   "cell_type": "code",
   "execution_count": 2,
   "metadata": {},
   "outputs": [],
   "source": [
    "n1 = 15\n",
    "ssq1 = 0.1130\n",
    "n2 = 12\n",
    "ssq2 = 0.0152"
   ]
  },
  {
   "cell_type": "markdown",
   "metadata": {},
   "source": [
    "1) Hacer la prueba de comparación de superioridad ($s_1 \\geq s_2$):"
   ]
  },
  {
   "cell_type": "code",
   "execution_count": 3,
   "metadata": {},
   "outputs": [
    {
     "name": "stdout",
     "output_type": "stream",
     "text": [
      "Se descarta la hipotesis nula H_o : s1>=s2\n",
      "f:  7.434210526315789 , p value: 0.0009847696603404454\n"
     ]
    }
   ],
   "source": [
    "#  Usa la prueba de una cola \n",
    "alpha = 0.95\n",
    "df1 = n1 -1\n",
    "df2 = n2 -1\n",
    "f_value = ssq1 / ssq2\n",
    "p_value = 1 -st.f.cdf(f_value, df1, df2)\n",
    "if p_value < alpha:\n",
    "    print ('Se descarta la hipotesis nula H_o : s1>=s2')\n",
    "else:\n",
    "    print('La hipotesis es correcta')\n",
    "print('f: ',f_value ,',','p value:', p_value)\n",
    "    "
   ]
  },
  {
   "cell_type": "markdown",
   "metadata": {},
   "source": [
    "2) Hacer la prueba de comparación simétrica ($s_1 = s_2$):"
   ]
  },
  {
   "cell_type": "code",
   "execution_count": 4,
   "metadata": {},
   "outputs": [
    {
     "name": "stdout",
     "output_type": "stream",
     "text": [
      "Se descarta la hipotesis nula H_o : s1=s2\n",
      "f:  7.434210526315789 , p value: 0.001969539320680891\n"
     ]
    }
   ],
   "source": [
    "# Usamos la prueba de dos colas \n",
    "p_value = 2*(1 -st.f.cdf(f_value, df1, df2))\n",
    "if p_value < alpha:\n",
    "    print ('Se descarta la hipotesis nula H_o : s1=s2')\n",
    "else:\n",
    "    print('La hipotesis es correcta')\n",
    "print('f: ',f_value ,',','p value:', p_value)\n",
    "    "
   ]
  },
  {
   "cell_type": "markdown",
   "metadata": {},
   "source": [
    "3) Discuta brevemente los resultados:"
   ]
  },
  {
   "cell_type": "markdown",
   "metadata": {},
   "source": [
    "**En ambos casos se descarta las hipotesis iniciales, ya que el valor no cumple con la diferencia significativa entre las variables y su p < 0.95**\n"
   ]
  }
 ],
 "metadata": {
  "kernelspec": {
   "display_name": "Python 3",
   "language": "python",
   "name": "python3"
  },
  "language_info": {
   "codemirror_mode": {
    "name": "ipython",
    "version": 3
   },
   "file_extension": ".py",
   "mimetype": "text/x-python",
   "name": "python",
   "nbconvert_exporter": "python",
   "pygments_lexer": "ipython3",
   "version": "3.8.8"
  }
 },
 "nbformat": 4,
 "nbformat_minor": 2
}
