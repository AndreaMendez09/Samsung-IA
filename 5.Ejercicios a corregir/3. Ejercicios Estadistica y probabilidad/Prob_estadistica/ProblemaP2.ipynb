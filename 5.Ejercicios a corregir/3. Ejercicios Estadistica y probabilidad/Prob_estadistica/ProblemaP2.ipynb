{
 "cells": [
  {
   "cell_type": "markdown",
   "metadata": {},
   "source": [
    "## Prueba #0302"
   ]
  },
  {
   "cell_type": "markdown",
   "metadata": {},
   "source": [
    "### \"Especificación de tornillos\""
   ]
  },
  {
   "cell_type": "code",
   "execution_count": 1,
   "metadata": {},
   "outputs": [],
   "source": [
    "import numpy as np\n",
    "import scipy.stats as st"
   ]
  },
  {
   "cell_type": "markdown",
   "metadata": {},
   "source": [
    "#### Responda las siguientes preguntas proporcionando código Python:"
   ]
  },
  {
   "cell_type": "markdown",
   "metadata": {},
   "source": [
    "Según la hoja de especificaciones, el peso medio de los tornillos es $\\mu = 30$ gr con $\\sigma = 2$ gr. <br>\n",
    "Suponga que se extrae una muestra de 50 tornillos."
   ]
  },
  {
   "cell_type": "code",
   "execution_count": 2,
   "metadata": {},
   "outputs": [],
   "source": [
    "mu = 30\n",
    "sigma = 2\n",
    "n = 50\n",
    "df = n-1"
   ]
  },
  {
   "cell_type": "markdown",
   "metadata": {},
   "source": [
    "1). ¿Cuál es la probabilidad de que la media muestral esté **entre** 29.8 gr y 30.2 gr? (utilice la normal estándar  y la $t$ de Student)"
   ]
  },
  {
   "cell_type": "code",
   "execution_count": 30,
   "metadata": {},
   "outputs": [],
   "source": [
    "a = 29.8   \n",
    "b = 30.2"
   ]
  },
  {
   "cell_type": "code",
   "execution_count": 31,
   "metadata": {},
   "outputs": [
    {
     "name": "stdout",
     "output_type": "stream",
     "text": [
      "-0.09999999999999964 0.09999999999999964\n"
     ]
    },
    {
     "data": {
      "text/plain": [
       "0.0796556745540577"
      ]
     },
     "execution_count": 31,
     "metadata": {},
     "output_type": "execute_result"
    }
   ],
   "source": [
    "# Usando normal estándar.\n",
    "\n",
    "# Estandarizo los puntos de la función con la fórmula Z = (X - mu)/sigma\n",
    "z1 =(a - mu)/sigma\n",
    "z2 = (b - mu)/sigma\n",
    "print(z1, z2)\n",
    "\n",
    "# Con los puntos estandarizados,calculamos con la normal estandar loc = 0 , scale = 1\n",
    "st.norm.cdf(z2)-st.norm.cdf(z1)"
   ]
  },
  {
   "cell_type": "code",
   "execution_count": 32,
   "metadata": {},
   "outputs": [
    {
     "data": {
      "text/plain": [
       "0.0796556745540577"
      ]
     },
     "execution_count": 32,
     "metadata": {},
     "output_type": "execute_result"
    }
   ],
   "source": [
    "# Usando normal estándar.\n",
    "\n",
    "# Estandarizo los valores de la función, calculando primero el cdf de la función normal sin estandarizar y \n",
    "# luego estandarizo ese valor de la prob para hallar el Z ya estandarizado\n",
    "x1 = st.norm.ppf(st.norm.cdf(a, loc = mu, scale = sigma))\n",
    "x2 = st.norm.ppf(st.norm.cdf(b, loc = mu, scale = sigma))\n",
    "\n",
    "# Calculamos la probabilidad entre esos valores\n",
    "st.norm.cdf(x2)-st.norm.cdf(x1)"
   ]
  },
  {
   "cell_type": "code",
   "execution_count": 33,
   "metadata": {},
   "outputs": [
    {
     "data": {
      "text/plain": [
       "0.07924764741489632"
      ]
     },
     "execution_count": 33,
     "metadata": {},
     "output_type": "execute_result"
    }
   ],
   "source": [
    "# Usando t de Student.\n",
    "# Uso los valores estandarizados\n",
    "st.t.cdf(x2,df) - st.t.cdf(x1, df)"
   ]
  },
  {
   "cell_type": "code",
   "execution_count": 34,
   "metadata": {},
   "outputs": [
    {
     "data": {
      "text/plain": [
       "0.07924764741489626"
      ]
     },
     "execution_count": 34,
     "metadata": {},
     "output_type": "execute_result"
    }
   ],
   "source": [
    "# usando los valores sin estandariar \n",
    "st.t.cdf(b, df, loc = mu, scale = sigma) - st.t.cdf(a, df, loc = mu, scale = sigma)"
   ]
  },
  {
   "cell_type": "markdown",
   "metadata": {},
   "source": [
    "2). ¿Cuál es la probabilidad de que la media de la muestra sea **mayor** que 30,5 gr? (utilice normal estándar y $t$ de Student)"
   ]
  },
  {
   "cell_type": "code",
   "execution_count": 35,
   "metadata": {},
   "outputs": [],
   "source": [
    "c = 30.5"
   ]
  },
  {
   "cell_type": "code",
   "execution_count": 36,
   "metadata": {},
   "outputs": [
    {
     "data": {
      "text/plain": [
       "0.4012936743170763"
      ]
     },
     "execution_count": 36,
     "metadata": {},
     "output_type": "execute_result"
    }
   ],
   "source": [
    "# Usando normal estándar.\n",
    "\n",
    "# Pasamos la variable a variable normal estándar\n",
    "x = st.norm.ppf(st.norm.cdf(c, loc = mu, scale = sigma))\n",
    "# Calculamos la probabilidad\n",
    "st.norm.sf(x)"
   ]
  },
  {
   "cell_type": "code",
   "execution_count": 37,
   "metadata": {},
   "outputs": [
    {
     "data": {
      "text/plain": [
       "0.4018162657702288"
      ]
     },
     "execution_count": 37,
     "metadata": {},
     "output_type": "execute_result"
    }
   ],
   "source": [
    "# Usando t de Student.\n",
    "# usando el valor estandarizado\n",
    "st.t.sf(x, df)"
   ]
  },
  {
   "cell_type": "code",
   "execution_count": 38,
   "metadata": {},
   "outputs": [
    {
     "data": {
      "text/plain": [
       "0.4018162657702287"
      ]
     },
     "execution_count": 38,
     "metadata": {},
     "output_type": "execute_result"
    }
   ],
   "source": [
    "# usando el valor sin estandarizar\n",
    "st.t.sf(c, df, loc = mu, scale=sigma)"
   ]
  }
 ],
 "metadata": {
  "kernelspec": {
   "display_name": "Python 3",
   "language": "python",
   "name": "python3"
  },
  "language_info": {
   "codemirror_mode": {
    "name": "ipython",
    "version": 3
   },
   "file_extension": ".py",
   "mimetype": "text/x-python",
   "name": "python",
   "nbconvert_exporter": "python",
   "pygments_lexer": "ipython3",
   "version": "3.8.8"
  }
 },
 "nbformat": 4,
 "nbformat_minor": 2
}
