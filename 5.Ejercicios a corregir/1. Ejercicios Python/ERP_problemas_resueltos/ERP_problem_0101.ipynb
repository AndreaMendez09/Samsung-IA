{
 "cells": [
  {
   "cell_type": "markdown",
   "metadata": {},
   "source": [
    "## Prueba #0101"
   ]
  },
  {
   "cell_type": "markdown",
   "metadata": {},
   "source": [
    "#### Provide the answers in Python code:"
   ]
  },
  {
   "cell_type": "markdown",
   "metadata": {},
   "source": [
    "1).  En la clase A, las alturas de los estudiantes son:\n",
    "\n",
    "161.5 <br>\n",
    "165.9 <br>\n",
    "168.7 <br>\n",
    "163.1 <br>\n",
    "170.8 <br>\n",
    "167.2 <br>\n",
    "\n",
    "Calcular la altura media utilizando 'list' y el bucle 'for' de Python:"
   ]
  },
  {
   "cell_type": "code",
   "execution_count": 1,
   "metadata": {},
   "outputs": [
    {
     "name": "stdout",
     "output_type": "stream",
     "text": [
      "Altura media clase A:  166.20000000000002\n"
     ]
    }
   ],
   "source": [
    "#Creo una lista con las alturas de la clase A\n",
    "claseA = [161.5, 165.9, 168.7, 163.1, 170.8, 167.2]\n",
    "alturaTotal = 0\n",
    "\n",
    "for altura in claseA:\n",
    "    alturaTotal += altura\n",
    "\n",
    "print('Altura media clase A: ',alturaTotal/len(claseA))\n"
   ]
  },
  {
   "cell_type": "markdown",
   "metadata": {},
   "source": [
    "2).  En la clase B, las alturas de los estudiantes son:\n",
    "\n",
    "172.5 <br>\n",
    "162.9 <br>\n",
    "161.7 <br>\n",
    "160.1 <br>\n",
    "161.8 <br>\n",
    "169.2 <br>\n",
    "\n",
    "Calcular la altura media utilizando 'list' y el bucle 'for' de Python:"
   ]
  },
  {
   "cell_type": "code",
   "execution_count": 2,
   "metadata": {},
   "outputs": [
    {
     "name": "stdout",
     "output_type": "stream",
     "text": [
      "Altura media clase B:  164.70000000000002\n"
     ]
    }
   ],
   "source": [
    "#Genero una lista con las alturas de la clase B\n",
    "claseB = [172.5, 162.9, 161.7, 160.1, 161.8, 169.2]\n",
    "alturaTotal = 0\n",
    "\n",
    "for altura in claseB:\n",
    "    alturaTotal += altura\n",
    "\n",
    "print('Altura media clase B: ',alturaTotal/len(claseB))"
   ]
  },
  {
   "cell_type": "markdown",
   "metadata": {},
   "source": [
    "3). La clase A y la clase B se unen para formar la clase AB. Calcule la altura media utilizando 'list' y el bucle 'for' de Python:"
   ]
  },
  {
   "cell_type": "code",
   "execution_count": 3,
   "metadata": {},
   "outputs": [
    {
     "name": "stdout",
     "output_type": "stream",
     "text": [
      "Media clases AB:  165.45000000000002\n"
     ]
    }
   ],
   "source": [
    "#Uno la clase A y la clase B en una nueva lista\n",
    "claseAB = claseA + claseB\n",
    "alturaTotal = 0\n",
    "\n",
    "for altura in claseAB:\n",
    "    alturaTotal += altura\n",
    "\n",
    "print('Media clases AB: ',alturaTotal/len(claseAB))"
   ]
  },
  {
   "cell_type": "markdown",
   "metadata": {},
   "source": [
    "4). Ordenar las alturas de la clase AB."
   ]
  },
  {
   "cell_type": "code",
   "execution_count": 4,
   "metadata": {},
   "outputs": [
    {
     "name": "stdout",
     "output_type": "stream",
     "text": [
      "[160.1, 161.5, 161.7, 161.8, 162.9, 163.1, 165.9, 167.2, 168.7, 169.2, 170.8, 172.5]\n"
     ]
    }
   ],
   "source": [
    "claseAB.sort()\n",
    "print(claseAB)"
   ]
  },
  {
   "cell_type": "markdown",
   "metadata": {},
   "source": [
    "5). La clase C se forma con estudiantes con una altura inferior a 165. Haga una lista que contenga las alturas de la clase C."
   ]
  },
  {
   "cell_type": "code",
   "execution_count": 6,
   "metadata": {},
   "outputs": [
    {
     "data": {
      "text/plain": [
       "[160.1, 161.5, 161.7, 161.8, 162.9, 163.1]"
      ]
     },
     "execution_count": 6,
     "metadata": {},
     "output_type": "execute_result"
    }
   ],
   "source": [
    "#Inicializo la variable claseC\n",
    "claseC = []\n",
    "\n",
    "for altura in claseAB:\n",
    "    if altura < 165:\n",
    "        claseC.append(altura)\n",
    "\n",
    "claseC"
   ]
  },
  {
   "cell_type": "markdown",
   "metadata": {},
   "source": [
    "6). La clase D se forma con estudiantes con una altura mayor que 160 y menor que 170. Haga una lista que contenga las alturas de la clase D."
   ]
  },
  {
   "cell_type": "code",
   "execution_count": 7,
   "metadata": {},
   "outputs": [
    {
     "data": {
      "text/plain": [
       "[165.9, 167.2, 168.7, 169.2]"
      ]
     },
     "execution_count": 7,
     "metadata": {},
     "output_type": "execute_result"
    }
   ],
   "source": [
    "#Inicializo la variable claseD\n",
    "claseD = []\n",
    "\n",
    "for altura in claseAB:\n",
    "    if altura > 165 and altura < 170:\n",
    "        claseD.append(altura)\n",
    "        \n",
    "claseD"
   ]
  },
  {
   "cell_type": "code",
   "execution_count": null,
   "metadata": {},
   "outputs": [],
   "source": []
  }
 ],
 "metadata": {
  "kernelspec": {
   "display_name": "Python 3",
   "language": "python",
   "name": "python3"
  },
  "language_info": {
   "codemirror_mode": {
    "name": "ipython",
    "version": 3
   },
   "file_extension": ".py",
   "mimetype": "text/x-python",
   "name": "python",
   "nbconvert_exporter": "python",
   "pygments_lexer": "ipython3",
   "version": "3.8.8"
  }
 },
 "nbformat": 4,
 "nbformat_minor": 2
}
