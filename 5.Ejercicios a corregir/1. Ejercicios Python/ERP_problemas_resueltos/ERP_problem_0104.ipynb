{
 "cells": [
  {
   "cell_type": "markdown",
   "metadata": {},
   "source": [
    "## Prueba #0104 "
   ]
  },
  {
   "cell_type": "markdown",
   "metadata": {},
   "source": [
    "#### Codifique la clase 'Acuario' que genera el resultado como se muestra."
   ]
  },
  {
   "cell_type": "code",
   "execution_count": 1,
   "metadata": {},
   "outputs": [],
   "source": [
    "class Aquarium():\n",
    "    def __init__(self):\n",
    "        self.my_aquarium = []\n",
    "        print('An Aquarium has opened!')\n",
    "    def enters(self, animal):\n",
    "        if animal in self.my_aquarium:\n",
    "            print('We already have ',animal,'.')\n",
    "        else:\n",
    "            self.my_aquarium.append(animal)\n",
    "            print(animal,'is a new member of our Aquarium!')\n",
    "    def show_all(self):\n",
    "        print(self.my_aquarium)\n",
    "    def leaves(self, animal):\n",
    "        if animal in self.my_aquarium:\n",
    "            self.my_aquarium.remove(animal)\n",
    "        else:\n",
    "            print('No such sea creature in the Aquarium!')"
   ]
  },
  {
   "cell_type": "markdown",
   "metadata": {},
   "source": [
    "Resultados de la prueba:"
   ]
  },
  {
   "cell_type": "code",
   "execution_count": 2,
   "metadata": {},
   "outputs": [
    {
     "name": "stdout",
     "output_type": "stream",
     "text": [
      "An Aquarium has opened!\n"
     ]
    }
   ],
   "source": [
    "my_aquarium = Aquarium()"
   ]
  },
  {
   "cell_type": "code",
   "execution_count": 3,
   "metadata": {},
   "outputs": [
    {
     "name": "stdout",
     "output_type": "stream",
     "text": [
      "Turtle is a new member of our Aquarium!\n"
     ]
    }
   ],
   "source": [
    "my_aquarium.enters('Turtle')"
   ]
  },
  {
   "cell_type": "code",
   "execution_count": 4,
   "metadata": {},
   "outputs": [
    {
     "name": "stdout",
     "output_type": "stream",
     "text": [
      "We already have  Turtle .\n"
     ]
    }
   ],
   "source": [
    "my_aquarium.enters('Turtle')"
   ]
  },
  {
   "cell_type": "code",
   "execution_count": 5,
   "metadata": {},
   "outputs": [
    {
     "name": "stdout",
     "output_type": "stream",
     "text": [
      "Dolphin is a new member of our Aquarium!\n"
     ]
    }
   ],
   "source": [
    "my_aquarium.enters('Dolphin')"
   ]
  },
  {
   "cell_type": "code",
   "execution_count": 6,
   "metadata": {},
   "outputs": [
    {
     "name": "stdout",
     "output_type": "stream",
     "text": [
      "Sea Lion is a new member of our Aquarium!\n"
     ]
    }
   ],
   "source": [
    "my_aquarium.enters('Sea Lion')"
   ]
  },
  {
   "cell_type": "code",
   "execution_count": 7,
   "metadata": {},
   "outputs": [
    {
     "name": "stdout",
     "output_type": "stream",
     "text": [
      "Shark is a new member of our Aquarium!\n"
     ]
    }
   ],
   "source": [
    "my_aquarium.enters('Shark')"
   ]
  },
  {
   "cell_type": "code",
   "execution_count": 8,
   "metadata": {},
   "outputs": [
    {
     "name": "stdout",
     "output_type": "stream",
     "text": [
      "['Turtle', 'Dolphin', 'Sea Lion', 'Shark']\n"
     ]
    }
   ],
   "source": [
    "my_aquarium.show_all()"
   ]
  },
  {
   "cell_type": "code",
   "execution_count": 9,
   "metadata": {},
   "outputs": [],
   "source": [
    "my_aquarium.leaves(\"Sea Lion\")"
   ]
  },
  {
   "cell_type": "code",
   "execution_count": 10,
   "metadata": {},
   "outputs": [
    {
     "name": "stdout",
     "output_type": "stream",
     "text": [
      "No such sea creature in the Aquarium!\n"
     ]
    }
   ],
   "source": [
    "my_aquarium.leaves(\"Killer Whale\")"
   ]
  },
  {
   "cell_type": "code",
   "execution_count": 11,
   "metadata": {},
   "outputs": [
    {
     "name": "stdout",
     "output_type": "stream",
     "text": [
      "['Turtle', 'Dolphin', 'Shark']\n"
     ]
    }
   ],
   "source": [
    "my_aquarium.show_all()"
   ]
  },
  {
   "cell_type": "code",
   "execution_count": 12,
   "metadata": {},
   "outputs": [],
   "source": [
    "my_aquarium.leaves(\"Turtle\")"
   ]
  },
  {
   "cell_type": "code",
   "execution_count": 13,
   "metadata": {},
   "outputs": [
    {
     "name": "stdout",
     "output_type": "stream",
     "text": [
      "['Dolphin', 'Shark']\n"
     ]
    }
   ],
   "source": [
    "my_aquarium.show_all()"
   ]
  },
  {
   "cell_type": "code",
   "execution_count": null,
   "metadata": {},
   "outputs": [],
   "source": []
  }
 ],
 "metadata": {
  "kernelspec": {
   "display_name": "Python 3",
   "language": "python",
   "name": "python3"
  },
  "language_info": {
   "codemirror_mode": {
    "name": "ipython",
    "version": 3
   },
   "file_extension": ".py",
   "mimetype": "text/x-python",
   "name": "python",
   "nbconvert_exporter": "python",
   "pygments_lexer": "ipython3",
   "version": "3.8.8"
  }
 },
 "nbformat": 4,
 "nbformat_minor": 2
}
