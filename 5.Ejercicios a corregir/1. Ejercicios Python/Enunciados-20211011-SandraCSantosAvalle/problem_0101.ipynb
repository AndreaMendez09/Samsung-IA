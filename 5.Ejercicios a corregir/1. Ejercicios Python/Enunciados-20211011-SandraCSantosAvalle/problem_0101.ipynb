{
 "cells": [
  {
   "cell_type": "markdown",
   "metadata": {},
   "source": [
    "## Prueba #0101"
   ]
  },
  {
   "cell_type": "markdown",
   "metadata": {},
   "source": [
    "#### Provide the answers in Python code:"
   ]
  },
  {
   "cell_type": "markdown",
   "metadata": {},
   "source": [
    "1).  En la clase A, las alturas de los estudiantes son:\n",
    "\n",
    "161.5 <br>\n",
    "165.9 <br>\n",
    "168.7 <br>\n",
    "163.1 <br>\n",
    "170.8 <br>\n",
    "167.2 <br>\n",
    "\n",
    "Calcular la altura media utilizando 'list' y el bucle 'for' de Python:"
   ]
  },
  {
   "cell_type": "code",
   "execution_count": 1,
   "metadata": {},
   "outputs": [
    {
     "name": "stdout",
     "output_type": "stream",
     "text": [
      "166.2\n"
     ]
    }
   ],
   "source": [
    "import statistics\n",
    "altura_clase_A = [161.5,165.9,168.7,163.1,170.8,167.2]\n",
    "mean = statistics.mean(altura_clase_A)\n",
    "print(mean)\n",
    "\n"
   ]
  },
  {
   "cell_type": "markdown",
   "metadata": {},
   "source": [
    "2).  En la clase B, las alturas de los estudiantes son:\n",
    "\n",
    "172.5 <br>\n",
    "162.9 <br>\n",
    "161.7 <br>\n",
    "160.1 <br>\n",
    "161.8 <br>\n",
    "169.2 <br>\n",
    "\n",
    "Calcular la altura media utilizando 'list' y el bucle 'for' de Python:"
   ]
  },
  {
   "cell_type": "code",
   "execution_count": 2,
   "metadata": {},
   "outputs": [
    {
     "name": "stdout",
     "output_type": "stream",
     "text": [
      "164.7\n"
     ]
    }
   ],
   "source": [
    "import statistics\n",
    "altura_clase_B = [172.5,162.9,161.7,160.1,161.8,169.2]\n",
    "mean = statistics.mean(altura_clase_B)\n",
    "print(mean)"
   ]
  },
  {
   "cell_type": "markdown",
   "metadata": {},
   "source": [
    "3). La clase A y la clase B se unen para formar la clase AB. Calcule la altura media utilizando 'list' y el bucle 'for' de Python:"
   ]
  },
  {
   "cell_type": "code",
   "execution_count": 3,
   "metadata": {},
   "outputs": [
    {
     "name": "stdout",
     "output_type": "stream",
     "text": [
      "165.45\n"
     ]
    }
   ],
   "source": [
    "import statistics\n",
    "altura_clase_A = [161.5,165.9,168.7,163.1,170.8,167.2]\n",
    "altura_clase_B = [172.5,162.9,161.7,160.1,161.8,169.2]\n",
    "mean = statistics.mean(altura_clase_A + altura_clase_B)\n",
    "print(mean)"
   ]
  },
  {
   "cell_type": "markdown",
   "metadata": {},
   "source": [
    "4). Ordenar las alturas de la clase AB."
   ]
  },
  {
   "cell_type": "code",
   "execution_count": 4,
   "metadata": {},
   "outputs": [
    {
     "data": {
      "text/plain": [
       "[160.1,\n",
       " 161.5,\n",
       " 161.7,\n",
       " 161.8,\n",
       " 162.9,\n",
       " 163.1,\n",
       " 165.9,\n",
       " 167.2,\n",
       " 168.7,\n",
       " 169.2,\n",
       " 170.8,\n",
       " 172.5]"
      ]
     },
     "execution_count": 4,
     "metadata": {},
     "output_type": "execute_result"
    }
   ],
   "source": [
    "altura_clase_A = [161.5,165.9,168.7,163.1,170.8,167.2]\n",
    "altura_clase_B = [172.5,162.9,161.7,160.1,161.8,169.2]\n",
    "altura_clase_AB = altura_clase_A + altura_clase_B\n",
    "sorted(altura_clase_AB)\n"
   ]
  },
  {
   "cell_type": "markdown",
   "metadata": {},
   "source": [
    "5). La clase C se forma con estudiantes con una altura inferior a 165. Haga una lista que contenga las alturas de la clase C."
   ]
  },
  {
   "cell_type": "code",
   "execution_count": 5,
   "metadata": {},
   "outputs": [
    {
     "data": {
      "text/plain": [
       "[165.9, 168.7, 170.8, 167.2, 172.5, 169.2]"
      ]
     },
     "execution_count": 5,
     "metadata": {},
     "output_type": "execute_result"
    }
   ],
   "source": [
    "\n",
    "altura_clase_A = [161.5,165.9,168.7,163.1,170.8,167.2]\n",
    "altura_clase_B = [172.5,162.9,161.7,160.1,161.8,169.2]\n",
    "altura_clase_AB = altura_clase_A + altura_clase_B\n",
    "\n",
    "altura_clase_C = []\n",
    "for altura in altura_clase_AB:\n",
    "    if float(altura)>165:\n",
    "        altura_clase_C.append(float(altura))\n",
    "altura_clase_C\n",
    "\n"
   ]
  },
  {
   "cell_type": "markdown",
   "metadata": {},
   "source": [
    "6). La clase D se forma con estudiantes con una altura mayor que 160 y menor que 170. Haga una lista que contenga las alturas de la clase D."
   ]
  },
  {
   "cell_type": "code",
   "execution_count": 6,
   "metadata": {},
   "outputs": [
    {
     "data": {
      "text/plain": [
       "[161.5, 165.9, 168.7, 163.1, 167.2, 162.9, 161.7, 160.1, 161.8, 169.2]"
      ]
     },
     "execution_count": 6,
     "metadata": {},
     "output_type": "execute_result"
    }
   ],
   "source": [
    "altura_clase_A = [161.5,165.9,168.7,163.1,170.8,167.2]\n",
    "altura_clase_B = [172.5,162.9,161.7,160.1,161.8,169.2]\n",
    "altura_clase_AB = altura_clase_A + altura_clase_B\n",
    "\n",
    "altura_clase_D = []\n",
    "for altura in altura_clase_AB:\n",
    "    if float(altura)>160 and float(altura)<170 :\n",
    "        altura_clase_D.append(float(altura))\n",
    "altura_clase_D"
   ]
  },
  {
   "cell_type": "code",
   "execution_count": null,
   "metadata": {},
   "outputs": [],
   "source": []
  }
 ],
 "metadata": {
  "kernelspec": {
   "display_name": "Python 3",
   "language": "python",
   "name": "python3"
  },
  "language_info": {
   "codemirror_mode": {
    "name": "ipython",
    "version": 3
   },
   "file_extension": ".py",
   "mimetype": "text/x-python",
   "name": "python",
   "nbconvert_exporter": "python",
   "pygments_lexer": "ipython3",
   "version": "3.8.8"
  }
 },
 "nbformat": 4,
 "nbformat_minor": 2
}
