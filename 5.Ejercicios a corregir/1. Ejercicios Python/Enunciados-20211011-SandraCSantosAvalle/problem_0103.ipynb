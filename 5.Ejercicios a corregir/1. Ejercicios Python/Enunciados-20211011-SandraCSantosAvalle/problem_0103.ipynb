{
 "cells": [
  {
   "cell_type": "markdown",
   "metadata": {},
   "source": [
    "## Prueba #0103 "
   ]
  },
  {
   "cell_type": "markdown",
   "metadata": {},
   "source": [
    "#### Codifique la clase llamada 'Calculadora' que genera el resultado como se muestra."
   ]
  },
  {
   "cell_type": "code",
   "execution_count": 13,
   "metadata": {},
   "outputs": [],
   "source": [
    "class Calculator:                \n",
    "        def __init__(self, calc1, calc2):\n",
    "            self.calc1 = float(calc1)\n",
    "            self.calc2 = float(calc2)\n",
    "\n",
    "        def sum(self):\n",
    "            sum = self.calc1 + self.calc2\n",
    "            return sum\n",
    "        \n",
    "    \n",
    "        def subtract(self):\n",
    "            subtract = self.calc1 - self.calc2\n",
    "            return subtract\n",
    "\n",
    "        def product(self):\n",
    "            product = self.calc1 * self.calc2\n",
    "            return product\n",
    "        \n",
    "\n",
    "        def divide(self):\n",
    "            divide = self.calc1 / self.calc2\n",
    "            return divide\n",
    "        \n",
    "        \n",
    "        \n",
    "#        Calculator = Calculator(calc1,calc2)\n",
    "#        Calculator.sum()\n",
    "#        Calculator.subtract()\n",
    "#        Calculator.product()\n",
    "#        Calculator.divide()\n"
   ]
  },
  {
   "cell_type": "markdown",
   "metadata": {},
   "source": [
    "Resultados de la prueba:"
   ]
  },
  {
   "cell_type": "code",
   "execution_count": 14,
   "metadata": {},
   "outputs": [],
   "source": [
    "calc1 = Calculator(5,3)\n",
    "calc2 = Calculator(10,2)"
   ]
  },
  {
   "cell_type": "code",
   "execution_count": 15,
   "metadata": {},
   "outputs": [
    {
     "name": "stdout",
     "output_type": "stream",
     "text": [
      "8.0\n",
      "2.0\n",
      "15.0\n",
      "1.6666666666666667\n"
     ]
    }
   ],
   "source": [
    "print(calc1.sum())\n",
    "print(calc1.subtract())\n",
    "print(calc1.product())\n",
    "print(calc1.divide())"
   ]
  },
  {
   "cell_type": "code",
   "execution_count": 16,
   "metadata": {},
   "outputs": [
    {
     "name": "stdout",
     "output_type": "stream",
     "text": [
      "12.0\n",
      "8.0\n",
      "20.0\n",
      "5.0\n"
     ]
    }
   ],
   "source": [
    "print(calc2.sum())\n",
    "print(calc2.subtract())\n",
    "print(calc2.product())\n",
    "print(calc2.divide())"
   ]
  },
  {
   "cell_type": "code",
   "execution_count": null,
   "metadata": {},
   "outputs": [],
   "source": []
  }
 ],
 "metadata": {
  "kernelspec": {
   "display_name": "Python 3",
   "language": "python",
   "name": "python3"
  },
  "language_info": {
   "codemirror_mode": {
    "name": "ipython",
    "version": 3
   },
   "file_extension": ".py",
   "mimetype": "text/x-python",
   "name": "python",
   "nbconvert_exporter": "python",
   "pygments_lexer": "ipython3",
   "version": "3.8.8"
  }
 },
 "nbformat": 4,
 "nbformat_minor": 2
}
