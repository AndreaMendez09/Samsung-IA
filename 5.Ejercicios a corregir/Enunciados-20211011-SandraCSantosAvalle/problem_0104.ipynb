{
 "cells": [
  {
   "cell_type": "markdown",
   "metadata": {},
   "source": [
    "## Prueba #0104 "
   ]
  },
  {
   "cell_type": "markdown",
   "metadata": {},
   "source": [
    "#### Codifique la clase 'Acuario' que genera el resultado como se muestra."
   ]
  },
  {
   "cell_type": "code",
   "execution_count": 10,
   "metadata": {},
   "outputs": [],
   "source": [
    "class Aquarium:\n",
    "\n",
    "    def init__(self, my_aquarium):\n",
    "        self.my_aquarium = my_aquarium\n",
    "        print('An Aquarium has opened!')\n",
    "        \n",
    "    def enters(self):\n",
    "        print ('{self.my_aquarium}is a new member of our Aquarium!')\n",
    "        \n",
    "        my_aquarium = Aquarium ()\n",
    "        my_aquarium.enters()\n",
    "        \n",
    "        my_aquarium = set(my_aquarium)\n",
    "        print ('We already have{self.my_aquarium}')\n",
    "        \n",
    "    def leaves(self):\n",
    "        print ('No such sea creature in the Aquarium!')\n",
    " \n",
    "    \n",
    "    "
   ]
  },
  {
   "cell_type": "markdown",
   "metadata": {},
   "source": [
    "Resultados de la prueba:"
   ]
  },
  {
   "cell_type": "code",
   "execution_count": 8,
   "metadata": {},
   "outputs": [],
   "source": [
    "my_aquarium = Aquarium()"
   ]
  },
  {
   "cell_type": "code",
   "execution_count": 9,
   "metadata": {},
   "outputs": [
    {
     "ename": "TypeError",
     "evalue": "enters() takes 1 positional argument but 2 were given",
     "output_type": "error",
     "traceback": [
      "\u001b[1;31m---------------------------------------------------------------------------\u001b[0m",
      "\u001b[1;31mTypeError\u001b[0m                                 Traceback (most recent call last)",
      "\u001b[1;32m<ipython-input-9-aa7a38bc9e8a>\u001b[0m in \u001b[0;36m<module>\u001b[1;34m\u001b[0m\n\u001b[1;32m----> 1\u001b[1;33m \u001b[0mmy_aquarium\u001b[0m\u001b[1;33m.\u001b[0m\u001b[0menters\u001b[0m\u001b[1;33m(\u001b[0m\u001b[1;34m'Turtle'\u001b[0m\u001b[1;33m)\u001b[0m\u001b[1;33m\u001b[0m\u001b[1;33m\u001b[0m\u001b[0m\n\u001b[0m",
      "\u001b[1;31mTypeError\u001b[0m: enters() takes 1 positional argument but 2 were given"
     ]
    }
   ],
   "source": [
    "my_aquarium.enters('Turtle')"
   ]
  },
  {
   "cell_type": "code",
   "execution_count": 4,
   "metadata": {},
   "outputs": [
    {
     "name": "stdout",
     "output_type": "stream",
     "text": [
      "We already have Turtle.\n"
     ]
    }
   ],
   "source": [
    "my_aquarium.enters('Turtle')"
   ]
  },
  {
   "cell_type": "code",
   "execution_count": 5,
   "metadata": {},
   "outputs": [
    {
     "name": "stdout",
     "output_type": "stream",
     "text": [
      "Dolphin is a new member of our Aquarium!\n"
     ]
    }
   ],
   "source": [
    "my_aquarium.enters('Dolphin')"
   ]
  },
  {
   "cell_type": "code",
   "execution_count": 6,
   "metadata": {},
   "outputs": [
    {
     "name": "stdout",
     "output_type": "stream",
     "text": [
      "Sea Lion is a new member of our Aquarium!\n"
     ]
    }
   ],
   "source": [
    "my_aquarium.enters('Sea Lion')"
   ]
  },
  {
   "cell_type": "code",
   "execution_count": 7,
   "metadata": {},
   "outputs": [
    {
     "name": "stdout",
     "output_type": "stream",
     "text": [
      "Shark is a new member of our Aquarium!\n"
     ]
    }
   ],
   "source": [
    "my_aquarium.enters('Shark')"
   ]
  },
  {
   "cell_type": "code",
   "execution_count": 8,
   "metadata": {},
   "outputs": [
    {
     "name": "stdout",
     "output_type": "stream",
     "text": [
      "['Turtle', 'Dolphin', 'Sea Lion', 'Shark']\n"
     ]
    }
   ],
   "source": [
    "my_aquarium.show_all()"
   ]
  },
  {
   "cell_type": "code",
   "execution_count": 9,
   "metadata": {},
   "outputs": [],
   "source": [
    "my_aquarium.leaves(\"Sea Lion\")"
   ]
  },
  {
   "cell_type": "code",
   "execution_count": 10,
   "metadata": {},
   "outputs": [
    {
     "name": "stdout",
     "output_type": "stream",
     "text": [
      "No such sea creature in the Aquarium!\n"
     ]
    }
   ],
   "source": [
    "my_aquarium.leaves(\"Killer Whale\")"
   ]
  },
  {
   "cell_type": "code",
   "execution_count": 11,
   "metadata": {},
   "outputs": [
    {
     "name": "stdout",
     "output_type": "stream",
     "text": [
      "['Turtle', 'Dolphin', 'Shark']\n"
     ]
    }
   ],
   "source": [
    "my_aquarium.show_all()"
   ]
  },
  {
   "cell_type": "code",
   "execution_count": 12,
   "metadata": {},
   "outputs": [],
   "source": [
    "my_aquarium.leaves(\"Turtle\")"
   ]
  },
  {
   "cell_type": "code",
   "execution_count": 13,
   "metadata": {},
   "outputs": [
    {
     "name": "stdout",
     "output_type": "stream",
     "text": [
      "['Dolphin', 'Shark']\n"
     ]
    }
   ],
   "source": [
    "my_aquarium.show_all()"
   ]
  }
 ],
 "metadata": {
  "kernelspec": {
   "display_name": "Python 3",
   "language": "python",
   "name": "python3"
  },
  "language_info": {
   "codemirror_mode": {
    "name": "ipython",
    "version": 3
   },
   "file_extension": ".py",
   "mimetype": "text/x-python",
   "name": "python",
   "nbconvert_exporter": "python",
   "pygments_lexer": "ipython3",
   "version": "3.8.8"
  }
 },
 "nbformat": 4,
 "nbformat_minor": 2
}
