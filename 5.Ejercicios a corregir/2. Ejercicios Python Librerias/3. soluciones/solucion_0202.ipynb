{
 "cells": [
  {
   "cell_type": "markdown",
   "metadata": {},
   "source": [
    "## Prueba #0202"
   ]
  },
  {
   "cell_type": "code",
   "execution_count": 1,
   "metadata": {},
   "outputs": [],
   "source": [
    "import pandas as pd\n",
    "import numpy as np\n",
    "import os"
   ]
  },
  {
   "cell_type": "markdown",
   "metadata": {},
   "source": [
    "#### Leer los datos."
   ]
  },
  {
   "cell_type": "code",
   "execution_count": 2,
   "metadata": {},
   "outputs": [],
   "source": [
    "# Ir al directorio en el que se encuentra el archivo. \n",
    "os.chdir(r'./')                # Reemplazar por la ruta correcta."
   ]
  },
  {
   "cell_type": "code",
   "execution_count": 3,
   "metadata": {},
   "outputs": [],
   "source": [
    "df = pd.read_csv('data_census.csv', header='infer')"
   ]
  },
  {
   "cell_type": "code",
   "execution_count": 4,
   "metadata": {},
   "outputs": [
    {
     "data": {
      "text/plain": [
       "(281, 6)"
      ]
     },
     "execution_count": 4,
     "metadata": {},
     "output_type": "execute_result"
    }
   ],
   "source": [
    "df.shape"
   ]
  },
  {
   "cell_type": "code",
   "execution_count": 5,
   "metadata": {},
   "outputs": [
    {
     "data": {
      "text/html": [
       "<div>\n",
       "<style scoped>\n",
       "    .dataframe tbody tr th:only-of-type {\n",
       "        vertical-align: middle;\n",
       "    }\n",
       "\n",
       "    .dataframe tbody tr th {\n",
       "        vertical-align: top;\n",
       "    }\n",
       "\n",
       "    .dataframe thead th {\n",
       "        text-align: right;\n",
       "    }\n",
       "</style>\n",
       "<table border=\"1\" class=\"dataframe\">\n",
       "  <thead>\n",
       "    <tr style=\"text-align: right;\">\n",
       "      <th></th>\n",
       "      <th>ProvinceCode</th>\n",
       "      <th>CityCode</th>\n",
       "      <th>Population</th>\n",
       "      <th>Households</th>\n",
       "      <th>PersonsHousehold</th>\n",
       "      <th>GenderRatio</th>\n",
       "    </tr>\n",
       "  </thead>\n",
       "  <tbody>\n",
       "    <tr>\n",
       "      <th>0</th>\n",
       "      <td>109</td>\n",
       "      <td>1001</td>\n",
       "      <td>10078850</td>\n",
       "      <td>4197478</td>\n",
       "      <td>2.40</td>\n",
       "      <td>0.97</td>\n",
       "    </tr>\n",
       "    <tr>\n",
       "      <th>1</th>\n",
       "      <td>109</td>\n",
       "      <td>1188</td>\n",
       "      <td>155695</td>\n",
       "      <td>72882</td>\n",
       "      <td>2.14</td>\n",
       "      <td>0.98</td>\n",
       "    </tr>\n",
       "    <tr>\n",
       "      <th>2</th>\n",
       "      <td>109</td>\n",
       "      <td>1189</td>\n",
       "      <td>126817</td>\n",
       "      <td>59614</td>\n",
       "      <td>2.13</td>\n",
       "      <td>1.00</td>\n",
       "    </tr>\n",
       "    <tr>\n",
       "      <th>3</th>\n",
       "      <td>109</td>\n",
       "      <td>1158</td>\n",
       "      <td>235186</td>\n",
       "      <td>108138</td>\n",
       "      <td>2.17</td>\n",
       "      <td>0.94</td>\n",
       "    </tr>\n",
       "    <tr>\n",
       "      <th>4</th>\n",
       "      <td>109</td>\n",
       "      <td>1105</td>\n",
       "      <td>298145</td>\n",
       "      <td>126915</td>\n",
       "      <td>2.35</td>\n",
       "      <td>0.99</td>\n",
       "    </tr>\n",
       "    <tr>\n",
       "      <th>...</th>\n",
       "      <td>...</td>\n",
       "      <td>...</td>\n",
       "      <td>...</td>\n",
       "      <td>...</td>\n",
       "      <td>...</td>\n",
       "      <td>...</td>\n",
       "    </tr>\n",
       "    <tr>\n",
       "      <th>276</th>\n",
       "      <td>103</td>\n",
       "      <td>1011</td>\n",
       "      <td>63069</td>\n",
       "      <td>27724</td>\n",
       "      <td>2.27</td>\n",
       "      <td>0.94</td>\n",
       "    </tr>\n",
       "    <tr>\n",
       "      <th>277</th>\n",
       "      <td>103</td>\n",
       "      <td>1233</td>\n",
       "      <td>48856</td>\n",
       "      <td>24193</td>\n",
       "      <td>2.02</td>\n",
       "      <td>0.91</td>\n",
       "    </tr>\n",
       "    <tr>\n",
       "      <th>278</th>\n",
       "      <td>115</td>\n",
       "      <td>1001</td>\n",
       "      <td>615250</td>\n",
       "      <td>251478</td>\n",
       "      <td>2.45</td>\n",
       "      <td>1.01</td>\n",
       "    </tr>\n",
       "    <tr>\n",
       "      <th>279</th>\n",
       "      <td>115</td>\n",
       "      <td>1186</td>\n",
       "      <td>454673</td>\n",
       "      <td>182709</td>\n",
       "      <td>2.49</td>\n",
       "      <td>1.00</td>\n",
       "    </tr>\n",
       "    <tr>\n",
       "      <th>280</th>\n",
       "      <td>115</td>\n",
       "      <td>1096</td>\n",
       "      <td>160577</td>\n",
       "      <td>68769</td>\n",
       "      <td>2.34</td>\n",
       "      <td>1.02</td>\n",
       "    </tr>\n",
       "  </tbody>\n",
       "</table>\n",
       "<p>281 rows × 6 columns</p>\n",
       "</div>"
      ],
      "text/plain": [
       "     ProvinceCode  CityCode  Population  Households  PersonsHousehold  \\\n",
       "0             109      1001    10078850     4197478              2.40   \n",
       "1             109      1188      155695       72882              2.14   \n",
       "2             109      1189      126817       59614              2.13   \n",
       "3             109      1158      235186      108138              2.17   \n",
       "4             109      1105      298145      126915              2.35   \n",
       "..            ...       ...         ...         ...               ...   \n",
       "276           103      1011       63069       27724              2.27   \n",
       "277           103      1233       48856       24193              2.02   \n",
       "278           115      1001      615250      251478              2.45   \n",
       "279           115      1186      454673      182709              2.49   \n",
       "280           115      1096      160577       68769              2.34   \n",
       "\n",
       "     GenderRatio  \n",
       "0           0.97  \n",
       "1           0.98  \n",
       "2           1.00  \n",
       "3           0.94  \n",
       "4           0.99  \n",
       "..           ...  \n",
       "276         0.94  \n",
       "277         0.91  \n",
       "278         1.01  \n",
       "279         1.00  \n",
       "280         1.02  \n",
       "\n",
       "[281 rows x 6 columns]"
      ]
     },
     "execution_count": 5,
     "metadata": {},
     "output_type": "execute_result"
    }
   ],
   "source": [
    "df.head(10)\n",
    "df.duplicated()\n",
    "df"
   ]
  },
  {
   "cell_type": "markdown",
   "metadata": {},
   "source": [
    "#### Responda a las preguntas utilizando la librería Pandas."
   ]
  },
  {
   "cell_type": "markdown",
   "metadata": {},
   "source": [
    "1). Población total de ProvinceCode igual a 115 y 116:"
   ]
  },
  {
   "cell_type": "code",
   "execution_count": 21,
   "metadata": {},
   "outputs": [
    {
     "data": {
      "text/plain": [
       "284301.28571428574"
      ]
     },
     "execution_count": 21,
     "metadata": {},
     "output_type": "execute_result"
    }
   ],
   "source": [
    "new_df = df.query('ProvinceCode == 115') \n",
    "new_df\n",
    "other_df = df.query('ProvinceCode == 116')\n",
    "other_df\n",
    "average_pop = new_df.append(other_df)\n",
    "average_pop['Population'].mean()"
   ]
  },
  {
   "cell_type": "markdown",
   "metadata": {},
   "source": [
    "2). Población promedio de las ciudades donde hay más hombres (GenderRatio>1):"
   ]
  },
  {
   "cell_type": "code",
   "execution_count": 23,
   "metadata": {},
   "outputs": [
    {
     "data": {
      "text/plain": [
       "419221.2076923077"
      ]
     },
     "execution_count": 23,
     "metadata": {},
     "output_type": "execute_result"
    }
   ],
   "source": [
    "y_cities = df[df['GenderRatio'] > 1]\n",
    "y_cities['Population'].mean()"
   ]
  },
  {
   "cell_type": "markdown",
   "metadata": {},
   "source": [
    "3). Lugares con más hombres (GenderRatio>1) y menos de 2 personas por hogar:"
   ]
  },
  {
   "cell_type": "code",
   "execution_count": 24,
   "metadata": {},
   "outputs": [
    {
     "data": {
      "text/html": [
       "<div>\n",
       "<style scoped>\n",
       "    .dataframe tbody tr th:only-of-type {\n",
       "        vertical-align: middle;\n",
       "    }\n",
       "\n",
       "    .dataframe tbody tr th {\n",
       "        vertical-align: top;\n",
       "    }\n",
       "\n",
       "    .dataframe thead th {\n",
       "        text-align: right;\n",
       "    }\n",
       "</style>\n",
       "<table border=\"1\" class=\"dataframe\">\n",
       "  <thead>\n",
       "    <tr style=\"text-align: right;\">\n",
       "      <th></th>\n",
       "      <th>ProvinceCode</th>\n",
       "      <th>CityCode</th>\n",
       "      <th>Population</th>\n",
       "      <th>Households</th>\n",
       "      <th>PersonsHousehold</th>\n",
       "      <th>GenderRatio</th>\n",
       "    </tr>\n",
       "  </thead>\n",
       "  <tbody>\n",
       "    <tr>\n",
       "      <th>62</th>\n",
       "      <td>112</td>\n",
       "      <td>1155</td>\n",
       "      <td>20825</td>\n",
       "      <td>11172</td>\n",
       "      <td>1.86</td>\n",
       "      <td>1.29</td>\n",
       "    </tr>\n",
       "    <tr>\n",
       "      <th>149</th>\n",
       "      <td>101</td>\n",
       "      <td>1240</td>\n",
       "      <td>26790</td>\n",
       "      <td>13433</td>\n",
       "      <td>1.99</td>\n",
       "      <td>1.27</td>\n",
       "    </tr>\n",
       "    <tr>\n",
       "      <th>152</th>\n",
       "      <td>101</td>\n",
       "      <td>1017</td>\n",
       "      <td>30066</td>\n",
       "      <td>15485</td>\n",
       "      <td>1.94</td>\n",
       "      <td>1.15</td>\n",
       "    </tr>\n",
       "    <tr>\n",
       "      <th>167</th>\n",
       "      <td>117</td>\n",
       "      <td>1033</td>\n",
       "      <td>38027</td>\n",
       "      <td>19145</td>\n",
       "      <td>1.99</td>\n",
       "      <td>1.03</td>\n",
       "    </tr>\n",
       "    <tr>\n",
       "      <th>227</th>\n",
       "      <td>113</td>\n",
       "      <td>1120</td>\n",
       "      <td>43566</td>\n",
       "      <td>22248</td>\n",
       "      <td>1.96</td>\n",
       "      <td>1.11</td>\n",
       "    </tr>\n",
       "    <tr>\n",
       "      <th>253</th>\n",
       "      <td>104</td>\n",
       "      <td>1163</td>\n",
       "      <td>10304</td>\n",
       "      <td>5365</td>\n",
       "      <td>1.92</td>\n",
       "      <td>1.15</td>\n",
       "    </tr>\n",
       "  </tbody>\n",
       "</table>\n",
       "</div>"
      ],
      "text/plain": [
       "     ProvinceCode  CityCode  Population  Households  PersonsHousehold  \\\n",
       "62            112      1155       20825       11172              1.86   \n",
       "149           101      1240       26790       13433              1.99   \n",
       "152           101      1017       30066       15485              1.94   \n",
       "167           117      1033       38027       19145              1.99   \n",
       "227           113      1120       43566       22248              1.96   \n",
       "253           104      1163       10304        5365              1.92   \n",
       "\n",
       "     GenderRatio  \n",
       "62          1.29  \n",
       "149         1.27  \n",
       "152         1.15  \n",
       "167         1.03  \n",
       "227         1.11  \n",
       "253         1.15  "
      ]
     },
     "execution_count": 24,
     "metadata": {},
     "output_type": "execute_result"
    }
   ],
   "source": [
    "sole_cities = y_cities[y_cities['PersonsHousehold'] < 2]\n",
    "sole_cities"
   ]
  },
  {
   "cell_type": "markdown",
   "metadata": {},
   "source": [
    "4). Ordene el DataFrame en orden ascendente de 'Hogares'. Mostrar los 10 primeros."
   ]
  },
  {
   "cell_type": "code",
   "execution_count": 37,
   "metadata": {},
   "outputs": [
    {
     "data": {
      "text/html": [
       "<div>\n",
       "<style scoped>\n",
       "    .dataframe tbody tr th:only-of-type {\n",
       "        vertical-align: middle;\n",
       "    }\n",
       "\n",
       "    .dataframe tbody tr th {\n",
       "        vertical-align: top;\n",
       "    }\n",
       "\n",
       "    .dataframe thead th {\n",
       "        text-align: right;\n",
       "    }\n",
       "</style>\n",
       "<table border=\"1\" class=\"dataframe\">\n",
       "  <thead>\n",
       "    <tr style=\"text-align: right;\">\n",
       "      <th></th>\n",
       "      <th>ProvinceCode</th>\n",
       "      <th>CityCode</th>\n",
       "      <th>Population</th>\n",
       "      <th>Households</th>\n",
       "      <th>PersonsHousehold</th>\n",
       "      <th>GenderRatio</th>\n",
       "    </tr>\n",
       "  </thead>\n",
       "  <tbody>\n",
       "    <tr>\n",
       "      <th>253</th>\n",
       "      <td>104</td>\n",
       "      <td>1163</td>\n",
       "      <td>10304</td>\n",
       "      <td>5365</td>\n",
       "      <td>1.92</td>\n",
       "      <td>1.15</td>\n",
       "    </tr>\n",
       "    <tr>\n",
       "      <th>244</th>\n",
       "      <td>104</td>\n",
       "      <td>1147</td>\n",
       "      <td>17984</td>\n",
       "      <td>8769</td>\n",
       "      <td>2.05</td>\n",
       "      <td>0.97</td>\n",
       "    </tr>\n",
       "    <tr>\n",
       "      <th>200</th>\n",
       "      <td>114</td>\n",
       "      <td>1179</td>\n",
       "      <td>23308</td>\n",
       "      <td>10877</td>\n",
       "      <td>2.14</td>\n",
       "      <td>0.98</td>\n",
       "    </tr>\n",
       "    <tr>\n",
       "      <th>150</th>\n",
       "      <td>101</td>\n",
       "      <td>1130</td>\n",
       "      <td>24283</td>\n",
       "      <td>11162</td>\n",
       "      <td>2.18</td>\n",
       "      <td>1.17</td>\n",
       "    </tr>\n",
       "    <tr>\n",
       "      <th>62</th>\n",
       "      <td>112</td>\n",
       "      <td>1155</td>\n",
       "      <td>20825</td>\n",
       "      <td>11172</td>\n",
       "      <td>1.86</td>\n",
       "      <td>1.29</td>\n",
       "    </tr>\n",
       "    <tr>\n",
       "      <th>199</th>\n",
       "      <td>114</td>\n",
       "      <td>1073</td>\n",
       "      <td>25181</td>\n",
       "      <td>11723</td>\n",
       "      <td>2.15</td>\n",
       "      <td>0.98</td>\n",
       "    </tr>\n",
       "    <tr>\n",
       "      <th>241</th>\n",
       "      <td>104</td>\n",
       "      <td>1039</td>\n",
       "      <td>24096</td>\n",
       "      <td>12091</td>\n",
       "      <td>1.99</td>\n",
       "      <td>1.00</td>\n",
       "    </tr>\n",
       "    <tr>\n",
       "      <th>213</th>\n",
       "      <td>113</td>\n",
       "      <td>1034</td>\n",
       "      <td>27115</td>\n",
       "      <td>12465</td>\n",
       "      <td>2.18</td>\n",
       "      <td>0.95</td>\n",
       "    </tr>\n",
       "    <tr>\n",
       "      <th>198</th>\n",
       "      <td>114</td>\n",
       "      <td>1193</td>\n",
       "      <td>26325</td>\n",
       "      <td>12531</td>\n",
       "      <td>2.10</td>\n",
       "      <td>1.00</td>\n",
       "    </tr>\n",
       "    <tr>\n",
       "      <th>243</th>\n",
       "      <td>104</td>\n",
       "      <td>1208</td>\n",
       "      <td>26353</td>\n",
       "      <td>13233</td>\n",
       "      <td>1.99</td>\n",
       "      <td>0.98</td>\n",
       "    </tr>\n",
       "  </tbody>\n",
       "</table>\n",
       "</div>"
      ],
      "text/plain": [
       "     ProvinceCode  CityCode  Population  Households  PersonsHousehold  \\\n",
       "253           104      1163       10304        5365              1.92   \n",
       "244           104      1147       17984        8769              2.05   \n",
       "200           114      1179       23308       10877              2.14   \n",
       "150           101      1130       24283       11162              2.18   \n",
       "62            112      1155       20825       11172              1.86   \n",
       "199           114      1073       25181       11723              2.15   \n",
       "241           104      1039       24096       12091              1.99   \n",
       "213           113      1034       27115       12465              2.18   \n",
       "198           114      1193       26325       12531              2.10   \n",
       "243           104      1208       26353       13233              1.99   \n",
       "\n",
       "     GenderRatio  \n",
       "253         1.15  \n",
       "244         0.97  \n",
       "200         0.98  \n",
       "150         1.17  \n",
       "62          1.29  \n",
       "199         0.98  \n",
       "241         1.00  \n",
       "213         0.95  \n",
       "198         1.00  \n",
       "243         0.98  "
      ]
     },
     "execution_count": 37,
     "metadata": {},
     "output_type": "execute_result"
    }
   ],
   "source": [
    "df.sort_values(['Households'], inplace=True)\n",
    "df.head(10)"
   ]
  },
  {
   "cell_type": "code",
   "execution_count": null,
   "metadata": {},
   "outputs": [],
   "source": []
  }
 ],
 "metadata": {
  "kernelspec": {
   "display_name": "Python 3",
   "language": "python",
   "name": "python3"
  },
  "language_info": {
   "codemirror_mode": {
    "name": "ipython",
    "version": 3
   },
   "file_extension": ".py",
   "mimetype": "text/x-python",
   "name": "python",
   "nbconvert_exporter": "python",
   "pygments_lexer": "ipython3",
   "version": "3.8.8"
  }
 },
 "nbformat": 4,
 "nbformat_minor": 2
}
