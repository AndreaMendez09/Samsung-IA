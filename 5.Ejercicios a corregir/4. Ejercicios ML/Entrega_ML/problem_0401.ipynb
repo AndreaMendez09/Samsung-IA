{
 "cells": [
  {
   "cell_type": "markdown",
   "metadata": {
    "id": "b-CXstoN8Wql"
   },
   "source": [
    "## Prueba #0401"
   ]
  },
  {
   "cell_type": "markdown",
   "metadata": {
    "id": "GVcgsRoa8Wqm"
   },
   "source": [
    "### \"Número óptimo de clústeres para agrupamiento con K-medias\""
   ]
  },
  {
   "cell_type": "code",
   "execution_count": 1,
   "metadata": {
    "id": "F6TYUIfd8Wqm"
   },
   "outputs": [],
   "source": [
    "import numpy as np\n",
    "import pandas as pd\n",
    "import matplotlib.pyplot as plt\n",
    "from sklearn.datasets import make_blobs\n",
    "from sklearn.cluster import KMeans\n",
    "%matplotlib inline"
   ]
  },
  {
   "cell_type": "markdown",
   "metadata": {
    "id": "txGRKpPl8Wqq"
   },
   "source": [
    "#### Responde la siguiente pregunta proporcionando código Python:"
   ]
  },
  {
   "cell_type": "code",
   "execution_count": 2,
   "metadata": {
    "id": "DoQGluSi8Wqq"
   },
   "outputs": [
    {
     "data": {
      "text/plain": [
       "(150, 8)"
      ]
     },
     "execution_count": 2,
     "metadata": {},
     "output_type": "execute_result"
    }
   ],
   "source": [
    "# Usaremos datos simulados.\n",
    "# 3 grupos en un espacio de 8 dimensiones.\n",
    "# ¡Difícil de visualizar!\n",
    "X, label = make_blobs(n_samples=150, n_features=8, centers=3, cluster_std = 2, random_state=123)\n",
    "X.shape"
   ]
  },
  {
   "cell_type": "markdown",
   "metadata": {
    "id": "pgQYnKB08Wqt"
   },
   "source": [
    "1). Defina una función que calcule la \"suma interna total de cuadrados\".\n",
    "- X         :   Datos.\n",
    "- centers   :   Matriz que contiene las coordenadas del centroide. Calculado por kmeans.\n",
    "- clusters  :   Matriz de etiquetas de clústeres. Calculado por kmeans. <br> <br>\n",
    "SUGERENCIA: Implemente la fórmula de la clase teórica."
   ]
  },
  {
   "cell_type": "code",
   "execution_count": 3,
   "metadata": {
    "id": "vAAXBvWY8Wqt"
   },
   "outputs": [],
   "source": [
    "def total_internal_ss(X, centers, clusters):\n",
    "    sum_dist =0\n",
    "    for i in np.arange(0,clusters.size):\n",
    "        # punto, observación para la que se calcula la distancia al centroide\n",
    "        Xi = X[i,:]\n",
    "        # clúster al que KMeans ha asignado el punto\n",
    "        cluster_xi = clusters[i]\n",
    "        # centroide del clúster al que KMeans ha asignado el punto\n",
    "        centroide = centers[cluster_xi]\n",
    "        # suma de las distancias\n",
    "        sum_dist = sum_dist + np.linalg.norm(Xi-centroide)\n",
    "    return sum_dist"
   ]
  },
  {
   "cell_type": "markdown",
   "metadata": {
    "id": "zasFq4eP8Wqw"
   },
   "source": [
    "2). Visualice como un diagrama de dispersión la \"suma interna total de cuadrados\" vs N# de grupos. \n",
    "- Luego, determine el número óptimo de clústeres.\n",
    "- ¿Es este número el mismo que se esperaba?"
   ]
  },
  {
   "cell_type": "code",
   "execution_count": 8,
   "metadata": {
    "id": "L2gZp3nq8Wqx"
   },
   "outputs": [
    {
     "name": "stdout",
     "output_type": "stream",
     "text": [
      "inertia 10921.712724042538\n",
      "tss 1222.7190957070013\n",
      "inertia 4665.301322394898\n",
      "tss 814.5908845829434\n",
      "inertia 4427.616016757532\n",
      "tss 792.1094551262012\n",
      "inertia 4183.587685948054\n",
      "tss 768.4706778130919\n",
      "inertia 4011.6737561244863\n",
      "tss 753.3978042973004\n",
      "inertia 3876.754335436137\n",
      "tss 739.8822035272477\n",
      "inertia 3706.844255482886\n",
      "tss 721.5307956304738\n",
      "inertia 3582.6452208150777\n",
      "tss 711.4164200607976\n",
      "inertia 3484.9964437605568\n",
      "tss 697.6656777025353\n"
     ]
    }
   ],
   "source": [
    "# posibles valores para k\n",
    "valores_k = np.arange(2,11)  # transparencias empieza en el 2   np.arange(2,11)\n",
    "# suma interna total de cuadrados para cada valor de k\n",
    "val_sumas = np.array([])\n",
    "# obtener el valor de la suma interna total de cuadrados para cada k\n",
    "for k in valores_k:\n",
    "    # KMeans con nº agrupaciones = k\n",
    "    kmeans = KMeans(n_clusters = k)\n",
    "    \n",
    "    # calcular la agrupación en clústeres\n",
    "    kmeans.fit(X)\n",
    "    # centros de clústeres (centroides)\n",
    "    centers = kmeans.cluster_centers_\n",
    "    # resultado del etiquetado de clúster\n",
    "    clusters = kmeans.labels_\n",
    "    print(\"inertia\", kmeans.inertia_)\n",
    "    print(\"tss\", total_internal_ss(X, centers, clusters))\n",
    "    # calcular la suma interna total de cuadrados\n",
    "    val_sumas = np.append(val_sumas, total_internal_ss(X, centers, clusters))"
   ]
  },
  {
   "cell_type": "code",
   "execution_count": 5,
   "metadata": {
    "id": "WlJv5jKf8Wqz"
   },
   "outputs": [
    {
     "data": {
      "image/png": "[encoded data removed]",
      "text/plain": [
       "<Figure size 432x288 with 1 Axes>"
      ]
     },
     "metadata": {
      "needs_background": "light"
     },
     "output_type": "display_data"
    }
   ],
   "source": [
    "# Visualizar los datos obtenidos\n",
    "plt.plot(valores_k, val_sumas, \"go--\")\n",
    "plt.xlabel(\"Nº de grupos\")\n",
    "plt.ylabel(\"Suma interna total de cuadrados\")\n",
    "plt.title(\"Suma interna total de cuadrados vs Nº de grupos\")\n",
    "plt.show()"
   ]
  },
  {
   "cell_type": "markdown",
   "metadata": {},
   "source": [
    "A partir del diagrama obtenido se puede determinar que el número óptimo de clústeres es 3. \n",
    "Para k = 3 se observa el cambio de tendencia (el codo).\n",
    "\n",
    "El k obtenido es el esperado ya que al generar las muestras gaussianas se ha indicado que se generarían\n",
    "3 centros (centers=3)."
   ]
  }
 ],
 "metadata": {
  "colab": {
   "name": "problem_0401.ipynb",
   "provenance": []
  },
  "kernelspec": {
   "display_name": "Python 3",
   "language": "python",
   "name": "python3"
  },
  "language_info": {
   "codemirror_mode": {
    "name": "ipython",
    "version": 3
   },
   "file_extension": ".py",
   "mimetype": "text/x-python",
   "name": "python",
   "nbconvert_exporter": "python",
   "pygments_lexer": "ipython3",
   "version": "3.8.8"
  }
 },
 "nbformat": 4,
 "nbformat_minor": 1
}
