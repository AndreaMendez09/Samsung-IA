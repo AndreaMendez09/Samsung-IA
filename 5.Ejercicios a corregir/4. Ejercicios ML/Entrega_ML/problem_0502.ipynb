{
 "cells": [
  {
   "cell_type": "markdown",
   "metadata": {},
   "source": [
    "## Prueba #0502"
   ]
  },
  {
   "cell_type": "markdown",
   "metadata": {},
   "source": [
    "### \"Reconocimiento de actividad humana\" "
   ]
  },
  {
   "cell_type": "markdown",
   "metadata": {},
   "source": [
    "#### Responda las siguientes preguntas proporcionando código Python:\n",
    "#### Objetivos:\n",
    "- Realizar la EDA.\n",
    "- Realizar el preprocesamiento de los datos.\n",
    "- Optimice y pruebe un modelo predictivo de su elección."
   ]
  },
  {
   "cell_type": "code",
   "execution_count": 1,
   "metadata": {},
   "outputs": [],
   "source": [
    "import numpy as np\n",
    "import pandas as pd\n",
    "import matplotlib.pyplot as plt\n",
    "import seaborn as sns\n",
    "import os\n",
    "import warnings\n",
    "from sklearn.model_selection import train_test_split, GridSearchCV\n",
    "from sklearn.neighbors import KNeighborsClassifier\n",
    "from sklearn.tree import DecisionTreeClassifier\n",
    "from sklearn.ensemble import RandomForestClassifier,AdaBoostClassifier, GradientBoostingClassifier\n",
    "from xgboost import XGBClassifier\n",
    "from sklearn import metrics, preprocessing\n",
    "warnings.filterwarnings(action='ignore')                  # Desactivar las advertencias.\n",
    "%matplotlib inline"
   ]
  },
  {
   "cell_type": "markdown",
   "metadata": {},
   "source": [
    "#### Leer los datos:\n",
    "La explicación sobre el conjunto de datos se puede encontrar [aquí](https://archive.ics.uci.edu/ml/datasets/human+activity+recognition+using+smartphones)."
   ]
  },
  {
   "cell_type": "code",
   "execution_count": 2,
   "metadata": {},
   "outputs": [],
   "source": [
    "# Ir al directorio dónde se ecuentra el fichero \n",
    "os.chdir(r'./')                # Reemplazar por la ruta adecuada"
   ]
  },
  {
   "cell_type": "code",
   "execution_count": 3,
   "metadata": {
    "scrolled": true
   },
   "outputs": [],
   "source": [
    "df = pd.read_csv('data_human activity recognition.csv', header='infer')"
   ]
  },
  {
   "cell_type": "code",
   "execution_count": 4,
   "metadata": {},
   "outputs": [
    {
     "data": {
      "text/plain": [
       "(19622, 160)"
      ]
     },
     "execution_count": 4,
     "metadata": {},
     "output_type": "execute_result"
    }
   ],
   "source": [
    "df.shape   # 19622 observaciones, 160 características"
   ]
  },
  {
   "cell_type": "code",
   "execution_count": 5,
   "metadata": {
    "scrolled": true
   },
   "outputs": [
    {
     "data": {
      "text/plain": [
       "Index(['Unnamed: 0', 'user_name', 'raw_timestamp_part_1',\n",
       "       'raw_timestamp_part_2', 'cvtd_timestamp', 'new_window', 'num_window',\n",
       "       'roll_belt', 'pitch_belt', 'yaw_belt',\n",
       "       ...\n",
       "       'gyros_forearm_x', 'gyros_forearm_y', 'gyros_forearm_z',\n",
       "       'accel_forearm_x', 'accel_forearm_y', 'accel_forearm_z',\n",
       "       'magnet_forearm_x', 'magnet_forearm_y', 'magnet_forearm_z', 'classe'],\n",
       "      dtype='object', length=160)"
      ]
     },
     "execution_count": 5,
     "metadata": {},
     "output_type": "execute_result"
    }
   ],
   "source": [
    "df.columns # nombre de las 160 características"
   ]
  },
  {
   "cell_type": "markdown",
   "metadata": {},
   "source": [
    "1). Realice la EDA. Compruebe los valores faltantes. SUGERENCIA: La variable de respuesta es 'clase'."
   ]
  },
  {
   "cell_type": "code",
   "execution_count": 6,
   "metadata": {},
   "outputs": [
    {
     "name": "stdout",
     "output_type": "stream",
     "text": [
      "Valores posibles para la salida del data set y número de repeticiones para cada una de ellas: \n",
      "A 5580\n",
      "B 3797\n",
      "C 3422\n",
      "D 3216\n",
      "E 3607\n"
     ]
    },
    {
     "data": {
      "image/png": "[encoded data removed]",
      "text/plain": [
       "<Figure size 432x288 with 1 Axes>"
      ]
     },
     "metadata": {
      "needs_background": "light"
     },
     "output_type": "display_data"
    },
    {
     "name": "stdout",
     "output_type": "stream",
     "text": [
      "Hay valores faltantes para  100  características\n",
      "Número de valores faltantes por caracterítica del dataset: \n"
     ]
    },
    {
     "data": {
      "text/html": [
       "<div>\n",
       "<style scoped>\n",
       "    .dataframe tbody tr th:only-of-type {\n",
       "        vertical-align: middle;\n",
       "    }\n",
       "\n",
       "    .dataframe tbody tr th {\n",
       "        vertical-align: top;\n",
       "    }\n",
       "\n",
       "    .dataframe thead th {\n",
       "        text-align: right;\n",
       "    }\n",
       "</style>\n",
       "<table border=\"1\" class=\"dataframe\">\n",
       "  <thead>\n",
       "    <tr style=\"text-align: right;\">\n",
       "      <th></th>\n",
       "      <th>0</th>\n",
       "    </tr>\n",
       "  </thead>\n",
       "  <tbody>\n",
       "    <tr>\n",
       "      <th>kurtosis_roll_belt</th>\n",
       "      <td>19216</td>\n",
       "    </tr>\n",
       "    <tr>\n",
       "      <th>kurtosis_picth_belt</th>\n",
       "      <td>19216</td>\n",
       "    </tr>\n",
       "    <tr>\n",
       "      <th>kurtosis_yaw_belt</th>\n",
       "      <td>19216</td>\n",
       "    </tr>\n",
       "    <tr>\n",
       "      <th>skewness_roll_belt</th>\n",
       "      <td>19216</td>\n",
       "    </tr>\n",
       "    <tr>\n",
       "      <th>skewness_roll_belt.1</th>\n",
       "      <td>19216</td>\n",
       "    </tr>\n",
       "    <tr>\n",
       "      <th>...</th>\n",
       "      <td>...</td>\n",
       "    </tr>\n",
       "    <tr>\n",
       "      <th>stddev_pitch_forearm</th>\n",
       "      <td>19216</td>\n",
       "    </tr>\n",
       "    <tr>\n",
       "      <th>var_pitch_forearm</th>\n",
       "      <td>19216</td>\n",
       "    </tr>\n",
       "    <tr>\n",
       "      <th>avg_yaw_forearm</th>\n",
       "      <td>19216</td>\n",
       "    </tr>\n",
       "    <tr>\n",
       "      <th>stddev_yaw_forearm</th>\n",
       "      <td>19216</td>\n",
       "    </tr>\n",
       "    <tr>\n",
       "      <th>var_yaw_forearm</th>\n",
       "      <td>19216</td>\n",
       "    </tr>\n",
       "  </tbody>\n",
       "</table>\n",
       "<p>100 rows × 1 columns</p>\n",
       "</div>"
      ],
      "text/plain": [
       "                          0\n",
       "kurtosis_roll_belt    19216\n",
       "kurtosis_picth_belt   19216\n",
       "kurtosis_yaw_belt     19216\n",
       "skewness_roll_belt    19216\n",
       "skewness_roll_belt.1  19216\n",
       "...                     ...\n",
       "stddev_pitch_forearm  19216\n",
       "var_pitch_forearm     19216\n",
       "avg_yaw_forearm       19216\n",
       "stddev_yaw_forearm    19216\n",
       "var_yaw_forearm       19216\n",
       "\n",
       "[100 rows x 1 columns]"
      ]
     },
     "execution_count": 6,
     "metadata": {},
     "output_type": "execute_result"
    }
   ],
   "source": [
    "# Comprobar las posibles salidas que tiene el dataset\n",
    "salida = df['classe']\n",
    "val_sal, num_rep = np.unique(salida, return_counts=True)\n",
    "print('Valores posibles para la salida del data set y número de repeticiones para cada una de ellas: ')\n",
    "for ind in np.arange(0, val_sal.size):\n",
    "    print(val_sal[ind], num_rep[ind])\n",
    "\n",
    "# Tabla de frecuencia de classe (variable objetivo, salida del dataset)\n",
    "sns.countplot('classe',data=df)\n",
    "plt.show()\n",
    "\n",
    "# Comprobar los valores faltantes para cada característica del data set\n",
    "# Suma valores perdidos del DataFrame por columnas (axis=0), por característica del data frame\n",
    "num_val_falt_caract = df.isnull().sum(axis=0)\n",
    "# filtrar por características para las que hay valores faltantes\n",
    "caract_val_falt = num_val_falt_caract.loc[lambda x : x!=0]\n",
    "print('Hay valores faltantes para ', caract_val_falt.size , ' características')\n",
    "print('Número de valores faltantes por caracterítica del dataset: ')\n",
    "caract_val_falt.to_frame()"
   ]
  },
  {
   "cell_type": "markdown",
   "metadata": {},
   "source": [
    "2). Elimine las columnas que tengan más del 97% de valores perdidos."
   ]
  },
  {
   "cell_type": "code",
   "execution_count": 7,
   "metadata": {},
   "outputs": [
    {
     "name": "stdout",
     "output_type": "stream",
     "text": [
      "Nº observaciones del data set:  19622\n",
      "Nº máximo de valores perdidos para las columnas del data set:  19033.0\n",
      "Hay  100 columnas que tienen más del 97% de valores perdidos\n",
      "Nº características del data set tras eliminar columnas con más del 97% de datos perdidos:  60\n"
     ]
    }
   ],
   "source": [
    "num_obser, num_carct = df.shape \n",
    "num_obser\n",
    "print('Nº observaciones del data set: ' , num_obser)\n",
    "\n",
    "# características que se deben eliminar\n",
    "caract_sup_lim_perd = np.array([])\n",
    "\n",
    "# límite de valores faltantes por columna\n",
    "lim_val_falt = np.round(num_obser*0.97)\n",
    "print('Nº máximo de valores perdidos para las columnas del data set: ', lim_val_falt)\n",
    "\n",
    "for index, value in caract_val_falt.items():\n",
    "    if value > lim_val_falt:\n",
    "        caract_sup_lim_perd = np.append(caract_sup_lim_perd, index)\n",
    "print('Hay ' , caract_sup_lim_perd.size ,'columnas que tienen más del 97% de valores perdidos')\n",
    "\n",
    "# Se eliminan las columnas\n",
    "# axis=1 por columnas\n",
    "df = df.drop(caract_sup_lim_perd, axis=1)\n",
    "df.head(3)\n",
    "\n",
    "num_obser, num_caract = df.shape \n",
    "print('Nº características del data set tras eliminar columnas con más del 97% de datos perdidos: ' , num_caract)"
   ]
  },
  {
   "cell_type": "markdown",
   "metadata": {},
   "source": [
    "3). Elimine de las columnas innecesarias. SUGERENCIA: Aquellas columnas con \"time\" en el nombre y aquellas que obviamente son innecesarias."
   ]
  },
  {
   "cell_type": "code",
   "execution_count": 8,
   "metadata": {},
   "outputs": [
    {
     "name": "stdout",
     "output_type": "stream",
     "text": [
      "Hay  3 columnas que contienen time en el nombre:  ['raw_timestamp_part_1' 'raw_timestamp_part_2' 'cvtd_timestamp']\n",
      "Hay 2 columnas innecesarias:  Unnamed: 0  y  user_name\n",
      "Nº características del data set tras eliminar columnas innecesarias:  55\n"
     ]
    }
   ],
   "source": [
    "# características que se deben eliminar\n",
    "caract_time = np.array([])\n",
    "\n",
    "# obtener aquellas columnas que contienen time en el nombre\n",
    "for i in np.arange(0, df.columns.size):\n",
    "    if (\"time\" in df.columns[i]):\n",
    "        caract_time = np.append(caract_time, df.columns[i])     \n",
    "print('Hay ', caract_time.size ,'columnas que contienen time en el nombre: ', caract_time)\n",
    "\n",
    "# identificar aquellas columnas innecesarias: identificador y nombre\n",
    "print('Hay 2 columnas innecesarias: ', df.columns[0], ' y ', df.columns[1])\n",
    "caract_innec = np.append(caract_time, df.columns[0])\n",
    "caract_innec = np.append(caract_innec, df.columns[1])\n",
    "\n",
    "# Se eliminan las columnas\n",
    "# axis=1 por columnas\n",
    "df = df.drop(caract_innec, axis=1)\n",
    "\n",
    "# características tras eliminar columnas innecesarias\n",
    "num_obser, num_caract = df.shape \n",
    "print('Nº características del data set tras eliminar columnas innecesarias: ' , num_caract)"
   ]
  },
  {
   "cell_type": "markdown",
   "metadata": {},
   "source": [
    "4). Codifique la etiqueta de la variable de respuesta. SUGERENCIA: use preprocessing.LabelEncoder ()."
   ]
  },
  {
   "cell_type": "code",
   "execution_count": 9,
   "metadata": {},
   "outputs": [
    {
     "data": {
      "text/html": [
       "<div>\n",
       "<style scoped>\n",
       "    .dataframe tbody tr th:only-of-type {\n",
       "        vertical-align: middle;\n",
       "    }\n",
       "\n",
       "    .dataframe tbody tr th {\n",
       "        vertical-align: top;\n",
       "    }\n",
       "\n",
       "    .dataframe thead th {\n",
       "        text-align: right;\n",
       "    }\n",
       "</style>\n",
       "<table border=\"1\" class=\"dataframe\">\n",
       "  <thead>\n",
       "    <tr style=\"text-align: right;\">\n",
       "      <th></th>\n",
       "      <th>new_window</th>\n",
       "      <th>num_window</th>\n",
       "      <th>roll_belt</th>\n",
       "      <th>pitch_belt</th>\n",
       "      <th>yaw_belt</th>\n",
       "      <th>total_accel_belt</th>\n",
       "      <th>gyros_belt_x</th>\n",
       "      <th>gyros_belt_y</th>\n",
       "      <th>gyros_belt_z</th>\n",
       "      <th>accel_belt_x</th>\n",
       "      <th>...</th>\n",
       "      <th>gyros_forearm_y</th>\n",
       "      <th>gyros_forearm_z</th>\n",
       "      <th>accel_forearm_x</th>\n",
       "      <th>accel_forearm_y</th>\n",
       "      <th>accel_forearm_z</th>\n",
       "      <th>magnet_forearm_x</th>\n",
       "      <th>magnet_forearm_y</th>\n",
       "      <th>magnet_forearm_z</th>\n",
       "      <th>classe</th>\n",
       "      <th>classe_cod</th>\n",
       "    </tr>\n",
       "  </thead>\n",
       "  <tbody>\n",
       "    <tr>\n",
       "      <th>0</th>\n",
       "      <td>no</td>\n",
       "      <td>11</td>\n",
       "      <td>1.41</td>\n",
       "      <td>8.07</td>\n",
       "      <td>-94.4</td>\n",
       "      <td>3</td>\n",
       "      <td>0.00</td>\n",
       "      <td>0.00</td>\n",
       "      <td>-0.02</td>\n",
       "      <td>-21</td>\n",
       "      <td>...</td>\n",
       "      <td>0.00</td>\n",
       "      <td>-0.02</td>\n",
       "      <td>192</td>\n",
       "      <td>203</td>\n",
       "      <td>-215</td>\n",
       "      <td>-17</td>\n",
       "      <td>654.0</td>\n",
       "      <td>476.0</td>\n",
       "      <td>A</td>\n",
       "      <td>0</td>\n",
       "    </tr>\n",
       "    <tr>\n",
       "      <th>1</th>\n",
       "      <td>no</td>\n",
       "      <td>11</td>\n",
       "      <td>1.41</td>\n",
       "      <td>8.07</td>\n",
       "      <td>-94.4</td>\n",
       "      <td>3</td>\n",
       "      <td>0.02</td>\n",
       "      <td>0.00</td>\n",
       "      <td>-0.02</td>\n",
       "      <td>-22</td>\n",
       "      <td>...</td>\n",
       "      <td>0.00</td>\n",
       "      <td>-0.02</td>\n",
       "      <td>192</td>\n",
       "      <td>203</td>\n",
       "      <td>-216</td>\n",
       "      <td>-18</td>\n",
       "      <td>661.0</td>\n",
       "      <td>473.0</td>\n",
       "      <td>A</td>\n",
       "      <td>0</td>\n",
       "    </tr>\n",
       "    <tr>\n",
       "      <th>2</th>\n",
       "      <td>no</td>\n",
       "      <td>11</td>\n",
       "      <td>1.42</td>\n",
       "      <td>8.07</td>\n",
       "      <td>-94.4</td>\n",
       "      <td>3</td>\n",
       "      <td>0.00</td>\n",
       "      <td>0.00</td>\n",
       "      <td>-0.02</td>\n",
       "      <td>-20</td>\n",
       "      <td>...</td>\n",
       "      <td>-0.02</td>\n",
       "      <td>0.00</td>\n",
       "      <td>196</td>\n",
       "      <td>204</td>\n",
       "      <td>-213</td>\n",
       "      <td>-18</td>\n",
       "      <td>658.0</td>\n",
       "      <td>469.0</td>\n",
       "      <td>A</td>\n",
       "      <td>0</td>\n",
       "    </tr>\n",
       "    <tr>\n",
       "      <th>3</th>\n",
       "      <td>no</td>\n",
       "      <td>12</td>\n",
       "      <td>1.48</td>\n",
       "      <td>8.05</td>\n",
       "      <td>-94.4</td>\n",
       "      <td>3</td>\n",
       "      <td>0.02</td>\n",
       "      <td>0.00</td>\n",
       "      <td>-0.03</td>\n",
       "      <td>-22</td>\n",
       "      <td>...</td>\n",
       "      <td>-0.02</td>\n",
       "      <td>0.00</td>\n",
       "      <td>189</td>\n",
       "      <td>206</td>\n",
       "      <td>-214</td>\n",
       "      <td>-16</td>\n",
       "      <td>658.0</td>\n",
       "      <td>469.0</td>\n",
       "      <td>A</td>\n",
       "      <td>0</td>\n",
       "    </tr>\n",
       "    <tr>\n",
       "      <th>4</th>\n",
       "      <td>no</td>\n",
       "      <td>12</td>\n",
       "      <td>1.48</td>\n",
       "      <td>8.07</td>\n",
       "      <td>-94.4</td>\n",
       "      <td>3</td>\n",
       "      <td>0.02</td>\n",
       "      <td>0.02</td>\n",
       "      <td>-0.02</td>\n",
       "      <td>-21</td>\n",
       "      <td>...</td>\n",
       "      <td>0.00</td>\n",
       "      <td>-0.02</td>\n",
       "      <td>189</td>\n",
       "      <td>206</td>\n",
       "      <td>-214</td>\n",
       "      <td>-17</td>\n",
       "      <td>655.0</td>\n",
       "      <td>473.0</td>\n",
       "      <td>A</td>\n",
       "      <td>0</td>\n",
       "    </tr>\n",
       "    <tr>\n",
       "      <th>...</th>\n",
       "      <td>...</td>\n",
       "      <td>...</td>\n",
       "      <td>...</td>\n",
       "      <td>...</td>\n",
       "      <td>...</td>\n",
       "      <td>...</td>\n",
       "      <td>...</td>\n",
       "      <td>...</td>\n",
       "      <td>...</td>\n",
       "      <td>...</td>\n",
       "      <td>...</td>\n",
       "      <td>...</td>\n",
       "      <td>...</td>\n",
       "      <td>...</td>\n",
       "      <td>...</td>\n",
       "      <td>...</td>\n",
       "      <td>...</td>\n",
       "      <td>...</td>\n",
       "      <td>...</td>\n",
       "      <td>...</td>\n",
       "      <td>...</td>\n",
       "    </tr>\n",
       "    <tr>\n",
       "      <th>19617</th>\n",
       "      <td>no</td>\n",
       "      <td>864</td>\n",
       "      <td>147.00</td>\n",
       "      <td>-34.80</td>\n",
       "      <td>129.0</td>\n",
       "      <td>21</td>\n",
       "      <td>0.37</td>\n",
       "      <td>-0.02</td>\n",
       "      <td>-0.67</td>\n",
       "      <td>50</td>\n",
       "      <td>...</td>\n",
       "      <td>-1.75</td>\n",
       "      <td>-0.25</td>\n",
       "      <td>-271</td>\n",
       "      <td>-68</td>\n",
       "      <td>-37</td>\n",
       "      <td>-205</td>\n",
       "      <td>-587.0</td>\n",
       "      <td>6.0</td>\n",
       "      <td>E</td>\n",
       "      <td>4</td>\n",
       "    </tr>\n",
       "    <tr>\n",
       "      <th>19618</th>\n",
       "      <td>no</td>\n",
       "      <td>864</td>\n",
       "      <td>145.00</td>\n",
       "      <td>-35.30</td>\n",
       "      <td>130.0</td>\n",
       "      <td>19</td>\n",
       "      <td>0.39</td>\n",
       "      <td>-0.02</td>\n",
       "      <td>-0.67</td>\n",
       "      <td>47</td>\n",
       "      <td>...</td>\n",
       "      <td>-1.36</td>\n",
       "      <td>0.00</td>\n",
       "      <td>-271</td>\n",
       "      <td>-91</td>\n",
       "      <td>-43</td>\n",
       "      <td>-151</td>\n",
       "      <td>-635.0</td>\n",
       "      <td>-36.0</td>\n",
       "      <td>E</td>\n",
       "      <td>4</td>\n",
       "    </tr>\n",
       "    <tr>\n",
       "      <th>19619</th>\n",
       "      <td>no</td>\n",
       "      <td>864</td>\n",
       "      <td>145.00</td>\n",
       "      <td>-35.50</td>\n",
       "      <td>130.0</td>\n",
       "      <td>19</td>\n",
       "      <td>0.37</td>\n",
       "      <td>0.00</td>\n",
       "      <td>-0.64</td>\n",
       "      <td>47</td>\n",
       "      <td>...</td>\n",
       "      <td>-1.20</td>\n",
       "      <td>0.05</td>\n",
       "      <td>-263</td>\n",
       "      <td>-99</td>\n",
       "      <td>-45</td>\n",
       "      <td>-116</td>\n",
       "      <td>-654.0</td>\n",
       "      <td>-70.0</td>\n",
       "      <td>E</td>\n",
       "      <td>4</td>\n",
       "    </tr>\n",
       "    <tr>\n",
       "      <th>19620</th>\n",
       "      <td>no</td>\n",
       "      <td>864</td>\n",
       "      <td>143.00</td>\n",
       "      <td>-35.90</td>\n",
       "      <td>131.0</td>\n",
       "      <td>18</td>\n",
       "      <td>0.37</td>\n",
       "      <td>-0.02</td>\n",
       "      <td>-0.59</td>\n",
       "      <td>46</td>\n",
       "      <td>...</td>\n",
       "      <td>-0.90</td>\n",
       "      <td>0.05</td>\n",
       "      <td>-270</td>\n",
       "      <td>-141</td>\n",
       "      <td>-51</td>\n",
       "      <td>-68</td>\n",
       "      <td>-678.0</td>\n",
       "      <td>-98.0</td>\n",
       "      <td>E</td>\n",
       "      <td>4</td>\n",
       "    </tr>\n",
       "    <tr>\n",
       "      <th>19621</th>\n",
       "      <td>yes</td>\n",
       "      <td>864</td>\n",
       "      <td>143.00</td>\n",
       "      <td>-36.00</td>\n",
       "      <td>132.0</td>\n",
       "      <td>18</td>\n",
       "      <td>0.35</td>\n",
       "      <td>-0.02</td>\n",
       "      <td>-0.57</td>\n",
       "      <td>42</td>\n",
       "      <td>...</td>\n",
       "      <td>-0.64</td>\n",
       "      <td>0.08</td>\n",
       "      <td>-278</td>\n",
       "      <td>-159</td>\n",
       "      <td>-52</td>\n",
       "      <td>-60</td>\n",
       "      <td>-686.0</td>\n",
       "      <td>-110.0</td>\n",
       "      <td>E</td>\n",
       "      <td>4</td>\n",
       "    </tr>\n",
       "  </tbody>\n",
       "</table>\n",
       "<p>19622 rows × 56 columns</p>\n",
       "</div>"
      ],
      "text/plain": [
       "      new_window  num_window  roll_belt  pitch_belt  yaw_belt  \\\n",
       "0             no          11       1.41        8.07     -94.4   \n",
       "1             no          11       1.41        8.07     -94.4   \n",
       "2             no          11       1.42        8.07     -94.4   \n",
       "3             no          12       1.48        8.05     -94.4   \n",
       "4             no          12       1.48        8.07     -94.4   \n",
       "...          ...         ...        ...         ...       ...   \n",
       "19617         no         864     147.00      -34.80     129.0   \n",
       "19618         no         864     145.00      -35.30     130.0   \n",
       "19619         no         864     145.00      -35.50     130.0   \n",
       "19620         no         864     143.00      -35.90     131.0   \n",
       "19621        yes         864     143.00      -36.00     132.0   \n",
       "\n",
       "       total_accel_belt  gyros_belt_x  gyros_belt_y  gyros_belt_z  \\\n",
       "0                     3          0.00          0.00         -0.02   \n",
       "1                     3          0.02          0.00         -0.02   \n",
       "2                     3          0.00          0.00         -0.02   \n",
       "3                     3          0.02          0.00         -0.03   \n",
       "4                     3          0.02          0.02         -0.02   \n",
       "...                 ...           ...           ...           ...   \n",
       "19617                21          0.37         -0.02         -0.67   \n",
       "19618                19          0.39         -0.02         -0.67   \n",
       "19619                19          0.37          0.00         -0.64   \n",
       "19620                18          0.37         -0.02         -0.59   \n",
       "19621                18          0.35         -0.02         -0.57   \n",
       "\n",
       "       accel_belt_x  ...  gyros_forearm_y  gyros_forearm_z  accel_forearm_x  \\\n",
       "0               -21  ...             0.00            -0.02              192   \n",
       "1               -22  ...             0.00            -0.02              192   \n",
       "2               -20  ...            -0.02             0.00              196   \n",
       "3               -22  ...            -0.02             0.00              189   \n",
       "4               -21  ...             0.00            -0.02              189   \n",
       "...             ...  ...              ...              ...              ...   \n",
       "19617            50  ...            -1.75            -0.25             -271   \n",
       "19618            47  ...            -1.36             0.00             -271   \n",
       "19619            47  ...            -1.20             0.05             -263   \n",
       "19620            46  ...            -0.90             0.05             -270   \n",
       "19621            42  ...            -0.64             0.08             -278   \n",
       "\n",
       "       accel_forearm_y  accel_forearm_z  magnet_forearm_x  magnet_forearm_y  \\\n",
       "0                  203             -215               -17             654.0   \n",
       "1                  203             -216               -18             661.0   \n",
       "2                  204             -213               -18             658.0   \n",
       "3                  206             -214               -16             658.0   \n",
       "4                  206             -214               -17             655.0   \n",
       "...                ...              ...               ...               ...   \n",
       "19617              -68              -37              -205            -587.0   \n",
       "19618              -91              -43              -151            -635.0   \n",
       "19619              -99              -45              -116            -654.0   \n",
       "19620             -141              -51               -68            -678.0   \n",
       "19621             -159              -52               -60            -686.0   \n",
       "\n",
       "       magnet_forearm_z  classe  classe_cod  \n",
       "0                 476.0       A           0  \n",
       "1                 473.0       A           0  \n",
       "2                 469.0       A           0  \n",
       "3                 469.0       A           0  \n",
       "4                 473.0       A           0  \n",
       "...                 ...     ...         ...  \n",
       "19617               6.0       E           4  \n",
       "19618             -36.0       E           4  \n",
       "19619             -70.0       E           4  \n",
       "19620             -98.0       E           4  \n",
       "19621            -110.0       E           4  \n",
       "\n",
       "[19622 rows x 56 columns]"
      ]
     },
     "execution_count": 9,
     "metadata": {},
     "output_type": "execute_result"
    }
   ],
   "source": [
    "# Transformador para codificar valores objetivo\n",
    "label_encoder = preprocessing.LabelEncoder()\n",
    "# Incluir las etiquetas codificadas en el df\n",
    "df['classe_cod'] = label_encoder.fit_transform(df['classe'])\n",
    "# vble salida\n",
    "Y = df.classe_cod\n",
    "df"
   ]
  },
  {
   "cell_type": "markdown",
   "metadata": {},
   "source": [
    "5). Realizar escalado min-max de las variables exploratorias. SUGERENCIA: utilice preprocesamiento.MinMaxScaler ()."
   ]
  },
  {
   "cell_type": "code",
   "execution_count": 10,
   "metadata": {},
   "outputs": [],
   "source": [
    "# codificar vble new_window para aplicar escalado min-max\n",
    "df['new_window'] = label_encoder.fit_transform(df['new_window'])\n",
    "# Transformador escalado min-max\n",
    "scaler = preprocessing.MinMaxScaler()\n",
    "# obtener datos del dataset, se eliminan las columnas correspondientes a la salida original y a la salida codificada\n",
    "X = df.drop(columns=['classe', 'classe_cod'])\n",
    "# transformar vbles\n",
    "X = scaler.fit_transform(df.drop(columns=['classe', 'classe_cod']))"
   ]
  },
  {
   "cell_type": "markdown",
   "metadata": {},
   "source": [
    "6). Elija un algoritmo y realice el análisis predictivo.\n",
    "- Optimizar el (los) hiperparámetro (s)\n",
    "- Calcule la precisión.\n",
    "- Consiga una precisión superior al 90%."
   ]
  },
  {
   "cell_type": "code",
   "execution_count": 11,
   "metadata": {},
   "outputs": [
    {
     "name": "stdout",
     "output_type": "stream",
     "text": [
      "mejor k obtenido con GridSearch:  1\n"
     ]
    }
   ],
   "source": [
    "# Dividir datos del dataset en entrenamiento y test\n",
    "X_train, X_test, y_train, y_test = train_test_split(X, Y, test_size=0.3, random_state=1234)\n",
    "\n",
    "# KNeighborsClassifier --> Clasificador que implementa el voto de los k vecinos más cercanos.\n",
    "knn_gs = KNeighborsClassifier()\n",
    "# parámetros a optimizar\n",
    "list_pos_k = np.arange(1,5,1)\n",
    "parameters = {'n_neighbors':list_pos_k}\n",
    "\n",
    "# Optimizar con GridSearch\n",
    "grid_search_knn = GridSearchCV(knn_gs, parameters, cv=10, n_jobs=-1)\n",
    "\n",
    "# Ajuste con todos los conj de parámetros\n",
    "grid_search_knn.fit(X_train, y_train)\n",
    "\n",
    "# Obtener el mejor k obtenido\n",
    "dic_mejor_param = grid_search_knn.best_params_\n",
    "mejor_k= dic_mejor_param['n_neighbors']\n",
    "print('mejor k obtenido con GridSearch: ', mejor_k)"
   ]
  },
  {
   "cell_type": "code",
   "execution_count": 12,
   "metadata": {},
   "outputs": [
    {
     "name": "stdout",
     "output_type": "stream",
     "text": [
      "Accuracy con la predicción GridSearchCV: 0.9751995923220655\n",
      "Accuracy con la predicción KNeighborsClassifier para k= 1 :  0.9751995923220655\n"
     ]
    }
   ],
   "source": [
    "# Predicción GridSearchCV\n",
    "y_pred_gs = grid_search_knn.predict(X_test)\n",
    "y_pred_gs\n",
    "print( \"Accuracy con la predicción GridSearchCV: \" + str(metrics.accuracy_score(y_test,y_pred_gs)))\n",
    "\n",
    "# Predicción KNeighborsClassifier entrenado con k óptimo\n",
    "knn = KNeighborsClassifier(n_neighbors=mejor_k).fit(X_train, y_train)\n",
    "y_pred_knn = knn.predict(X_test)\n",
    "val_accuracy_por_k = metrics.accuracy_score(y_test,y_pred_knn)\n",
    "print( \"Accuracy con la predicción KNeighborsClassifier para k=\",mejor_k ,\": \" , val_accuracy_por_k)"
   ]
  },
  {
   "cell_type": "code",
   "execution_count": 14,
   "metadata": {},
   "outputs": [
    {
     "name": "stdout",
     "output_type": "stream",
     "text": [
      "Se han obtenido 146 predicciones erróneas de un total de 5887\n"
     ]
    }
   ],
   "source": [
    "num_pred_err = 0\n",
    "i = 0\n",
    "for sal_esp in y_test:\n",
    "    if sal_esp!=y_pred_gs[i]:\n",
    "        num_pred_err += 1\n",
    "    i +=1   \n",
    "print(\"Se han obtenido\", num_pred_err, \"predicciones erróneas de un total de\", y_test.size)"
   ]
  },
  {
   "cell_type": "code",
   "execution_count": 15,
   "metadata": {},
   "outputs": [
    {
     "data": {
      "text/plain": [
       "<sklearn.metrics._plot.confusion_matrix.ConfusionMatrixDisplay at 0x10bdd81c310>"
      ]
     },
     "execution_count": 15,
     "metadata": {},
     "output_type": "execute_result"
    },
    {
     "data": {
      "image/png": "[encoded data removed]",
      "text/plain": [
       "<Figure size 432x288 with 2 Axes>"
      ]
     },
     "metadata": {
      "needs_background": "light"
     },
     "output_type": "display_data"
    }
   ],
   "source": [
    "# Matriz de confusión\n",
    "metrics.plot_confusion_matrix(knn, X_test, y_test, display_labels=val_sal , cmap=plt.cm.Blues)"
   ]
  }
 ],
 "metadata": {
  "kernelspec": {
   "display_name": "Python 3",
   "language": "python",
   "name": "python3"
  },
  "language_info": {
   "codemirror_mode": {
    "name": "ipython",
    "version": 3
   },
   "file_extension": ".py",
   "mimetype": "text/x-python",
   "name": "python",
   "nbconvert_exporter": "python",
   "pygments_lexer": "ipython3",
   "version": "3.8.8"
  }
 },
 "nbformat": 4,
 "nbformat_minor": 2
}
