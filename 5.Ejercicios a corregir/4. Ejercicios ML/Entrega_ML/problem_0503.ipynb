{
 "cells": [
  {
   "cell_type": "markdown",
   "metadata": {},
   "source": [
    "## Prueba #0503"
   ]
  },
  {
   "cell_type": "markdown",
   "metadata": {},
   "source": [
    "### \"Aumento de datos\""
   ]
  },
  {
   "cell_type": "markdown",
   "metadata": {},
   "source": [
    "#### Responda las siguientes preguntas proporcionando código Python:\n",
    "#### Objetivos:\n",
    "- Codifique las funciones de ayuda.\n",
    "- Optimice y pruebe un modelo predictivo de su elección.\n",
    "- Realice aumentos de datos para mejorar la precisión predictiva cuando los datos de entrenamiento proporcionados son pequeños."
   ]
  },
  {
   "cell_type": "code",
   "execution_count": 1,
   "metadata": {},
   "outputs": [],
   "source": [
    "import numpy as np\n",
    "import pandas as pd\n",
    "import os\n",
    "import warnings\n",
    "import matplotlib.pyplot as plt\n",
    "from sklearn.model_selection import GridSearchCV\n",
    "from sklearn.neighbors import KNeighborsClassifier\n",
    "from sklearn.tree import DecisionTreeClassifier\n",
    "from sklearn.ensemble import RandomForestClassifier,AdaBoostClassifier, GradientBoostingClassifier\n",
    "from xgboost import XGBClassifier\n",
    "from sklearn import metrics, preprocessing\n",
    "from scipy.ndimage.interpolation import rotate\n",
    "warnings.filterwarnings(action='ignore')                  # Desactivar las advertencias\n",
    "%matplotlib inline"
   ]
  },
  {
   "cell_type": "markdown",
   "metadata": {},
   "source": [
    "#### Leer los datos:\n",
    "La explicación de los datos originales se puede encontrar [aquí](http://yann.lecun.com/exdb/mnist/).\n",
    "- Los datos que usaremos son un pequeño subconjunto de los datos originales con solo 100 observaciones.\n",
    "- Cada observación es la versión \"aplanada\" de una imagen.\n",
    "- La primera columna corresponde a la etiqueta (Y).\n",
    "- El tamaño de la imagen es 28x28."
   ]
  },
  {
   "cell_type": "code",
   "execution_count": 2,
   "metadata": {},
   "outputs": [],
   "source": [
    "# Lea los datos de entrenamiento y prueba por separado.\n",
    "data_train = pd.read_csv('data_mnist_train_100.csv', header=None,encoding='latin1')\n",
    "data_test = pd.read_csv('data_mnist_test_100.csv', header=None,encoding='latin1')\n",
    "\n",
    "# Escale y divida el conjunto de datos en X e Y.\n",
    "X_train = np.array((data_train.iloc[:,1:]/255.0)*0.99+0.01)\n",
    "X_test = np.array((data_test.iloc[:,1:]/255.0)*0.99+0.01)\n",
    "Y_train = np.array(data_train.iloc[:,0])\n",
    "Y_test = np.array(data_test.iloc[:,0])\n"
   ]
  },
  {
   "cell_type": "markdown",
   "metadata": {},
   "source": [
    "1). Codifique la función auxiliar 'show_data ()' que visualiza cada observación dada. SUGERENCIA: use matplotlib.pyplot.imshow () y scipy.ndimage.interpolation ()."
   ]
  },
  {
   "cell_type": "code",
   "execution_count": 3,
   "metadata": {},
   "outputs": [],
   "source": [
    "def show_data(X, Y, n, angle=0):\n",
    "    # mostrar salida\n",
    "    print(Y[n])\n",
    "    d = np.sqrt(X[n,:].size)\n",
    "    # Cambio de matriz 1D a 2D\n",
    "    matriz_2d = X[n,:].reshape((int(d),int(d)))                                 \n",
    "    # Rotar    \n",
    "    matriz_2d_rot = rotate(matriz_2d, angle, cval=0.01, reshape=False)  \n",
    "    plt.imshow(matriz_2d_rot, cmap='Greys',interpolation='None')\n",
    "    plt.show()"
   ]
  },
  {
   "cell_type": "code",
   "execution_count": 4,
   "metadata": {},
   "outputs": [
    {
     "name": "stdout",
     "output_type": "stream",
     "text": [
      "3\n"
     ]
    },
    {
     "data": {
      "image/png": "[encoded data removed]",
      "text/plain": [
       "<Figure size 432x288 with 1 Axes>"
      ]
     },
     "metadata": {
      "needs_background": "light"
     },
     "output_type": "display_data"
    }
   ],
   "source": [
    "# Ejemplo 1.\n",
    "show_data(X_train, Y_train,10,+10)"
   ]
  },
  {
   "cell_type": "code",
   "execution_count": 5,
   "metadata": {},
   "outputs": [
    {
     "name": "stdout",
     "output_type": "stream",
     "text": [
      "3\n"
     ]
    },
    {
     "data": {
      "image/png": "[encoded data removed]",
      "text/plain": [
       "<Figure size 432x288 with 1 Axes>"
      ]
     },
     "metadata": {
      "needs_background": "light"
     },
     "output_type": "display_data"
    }
   ],
   "source": [
    "# Ejemplo 2.\n",
    "show_data(X_train, Y_train,10,-30)"
   ]
  },
  {
   "cell_type": "code",
   "execution_count": 6,
   "metadata": {},
   "outputs": [
    {
     "name": "stdout",
     "output_type": "stream",
     "text": [
      "1\n"
     ]
    },
    {
     "data": {
      "image/png": "[encoded data removed]",
      "text/plain": [
       "<Figure size 432x288 with 1 Axes>"
      ]
     },
     "metadata": {
      "needs_background": "light"
     },
     "output_type": "display_data"
    }
   ],
   "source": [
    "# Ejemplo 3.\n",
    "show_data(X_train, Y_train,77,0)"
   ]
  },
  {
   "cell_type": "markdown",
   "metadata": {},
   "source": [
    "2). Elija un algoritmo y realice el análisis predictivo.\n",
    "- Optimizar los hiperparámetros.\n",
    "- Calcule la precisión.\n",
    "- ¿Es la precisión lo suficientemente alta?"
   ]
  },
  {
   "cell_type": "code",
   "execution_count": 12,
   "metadata": {},
   "outputs": [
    {
     "name": "stdout",
     "output_type": "stream",
     "text": [
      "Valor óptimo obtenido para n_estimators:  18\n",
      "Valor óptimo obtenido para max_depth:  3\n",
      "Precisión con la predicción RandomForestClassifier: 0.64\n"
     ]
    }
   ],
   "source": [
    "# Optimización de hiper parámetros y validación del modelo con la mejor combinación de los mismos\n",
    "\n",
    "# Parámetros para el clasificador RandomForestClassifier\n",
    "# n_estimators --> nº estimadores\n",
    "# max_depth --> profundidad máxima\n",
    "nestim = np.arange(1,21,1)\n",
    "maxd = np.arange(1,4,1)\n",
    "parameters_rfc = {'n_estimators':nestim,'max_depth': maxd}\n",
    "\n",
    "# RandomForestClassifier --> Clasificador de Random Forest\n",
    "clf_rfc = RandomForestClassifier(random_state=43)\n",
    "\n",
    "# Búsqueda exhaustiva de valores de parámetros especificados para un estimador con GridSearchCV  # , scoring = 'precision'\n",
    "grid_search_rfc = GridSearchCV(clf_rfc, parameters_rfc, cv=10, n_jobs=-1)\n",
    "\n",
    "# ajustar con los datos de entrenamiento del data set\n",
    "grid_search_rfc.fit(X_train, Y_train)\n",
    "\n",
    "# Obtener valor óptimo de los parámetros obtenidos\n",
    "dic_mejor_par_rfc = grid_search_rfc.best_params_\n",
    "mejor_ne= dic_mejor_par_rfc['n_estimators']\n",
    "print('Valor óptimo obtenido para n_estimators: ', mejor_ne)\n",
    "mejor_md = dic_mejor_par_rfc['max_depth']\n",
    "print('Valor óptimo obtenido para max_depth: ', mejor_md)\n",
    "\n",
    "# Predicción RandomForestClassifier\n",
    "clas_rfc_mej_par = RandomForestClassifier(n_estimators=mejor_ne,max_depth=mejor_md, random_state=43)\n",
    "# ajustar con datos entrenamiento\n",
    "clas_rfc_mej_par.fit(X_train, Y_train)\n",
    "# predicción\n",
    "y_pred_rfc = clas_rfc_mej_par.predict(X_test)\n",
    "print( \"Precisión con la predicción RandomForestClassifier: \" + str(metrics.precision_score(Y_test,y_pred_rfc, average='micro')))"
   ]
  },
  {
   "cell_type": "markdown",
   "metadata": {},
   "source": [
    "La precisión (nº de 1s correctamente predichos/ nº total de 1s predichos) no es muy alta. \n",
    "Como se puede comprobar en el informe de métricas para algunos\n",
    "números la precisión obtenida es muy baja (en algún caso es 0) y ésto provoca\n",
    "que la precisión media se vea afectada."
   ]
  },
  {
   "cell_type": "code",
   "execution_count": 13,
   "metadata": {},
   "outputs": [
    {
     "name": "stdout",
     "output_type": "stream",
     "text": [
      "              precision    recall  f1-score   support\n",
      "\n",
      "           0       0.80      1.00      0.89         8\n",
      "           1       0.59      0.93      0.72        14\n",
      "           2       1.00      0.12      0.22         8\n",
      "           3       0.52      1.00      0.69        11\n",
      "           4       0.62      0.71      0.67        14\n",
      "           5       0.00      0.00      0.00         7\n",
      "           6       0.67      0.60      0.63        10\n",
      "           7       0.77      0.67      0.71        15\n",
      "           8       0.50      0.50      0.50         2\n",
      "           9       0.67      0.36      0.47        11\n",
      "\n",
      "    accuracy                           0.64       100\n",
      "   macro avg       0.61      0.59      0.55       100\n",
      "weighted avg       0.64      0.64      0.59       100\n",
      "\n"
     ]
    },
    {
     "data": {
      "text/plain": [
       "<sklearn.metrics._plot.confusion_matrix.ConfusionMatrixDisplay at 0x1e200c0cf10>"
      ]
     },
     "execution_count": 13,
     "metadata": {},
     "output_type": "execute_result"
    },
    {
     "data": {
      "image/png": "[encoded data removed]",
      "text/plain": [
       "<Figure size 432x288 with 2 Axes>"
      ]
     },
     "metadata": {
      "needs_background": "light"
     },
     "output_type": "display_data"
    }
   ],
   "source": [
    "from sklearn.metrics import classification_report\n",
    "# informe con las principales métricas de clasificación.\n",
    "print(classification_report(Y_test,y_pred_rfc))\n",
    "\n",
    "# Matriz de confusión\n",
    "metrics.plot_confusion_matrix(clas_rfc_mej_par, X_test, Y_test , cmap=plt.cm.Blues)"
   ]
  },
  {
   "cell_type": "markdown",
   "metadata": {},
   "source": [
    "3). Codifique la función auxiliar 'rotate_data ()' que rota cada observación dada en un ángulo. SUGERENCIA: use scipy.ndimage.interpolation ()."
   ]
  },
  {
   "cell_type": "code",
   "execution_count": 14,
   "metadata": {},
   "outputs": [
    {
     "name": "stdout",
     "output_type": "stream",
     "text": [
      "3\n"
     ]
    },
    {
     "data": {
      "image/png": "[encoded data removed]",
      "text/plain": [
       "<Figure size 432x288 with 1 Axes>"
      ]
     },
     "metadata": {
      "needs_background": "light"
     },
     "output_type": "display_data"
    },
    {
     "name": "stdout",
     "output_type": "stream",
     "text": [
      "3\n"
     ]
    },
    {
     "data": {
      "image/png": "[encoded data removed]",
      "text/plain": [
       "<Figure size 432x288 with 1 Axes>"
      ]
     },
     "metadata": {
      "needs_background": "light"
     },
     "output_type": "display_data"
    }
   ],
   "source": [
    "def rotate_data(X, observ, ang=0):\n",
    "    d = np.sqrt(X[observ,:].size)\n",
    "    # Cambio de matriz 1D a 2D\n",
    "    matriz_2d = X[observ,:].reshape((int(d),int(d)))\n",
    "    # Rotar    \n",
    "    matriz_2d_rot = rotate(matriz_2d, ang, cval=0.01, reshape=False)  \n",
    "    # Cambio de matriz 2D a 1D\n",
    "    matriz_1d_rot = matriz_2d_rot.ravel()\n",
    "    return matriz_1d_rot\n",
    "\n",
    "# probar resultado rotación\n",
    "obs = 10\n",
    "y_obs = Y_train[obs]\n",
    "\n",
    "# mostrar la imagen de la observación con rotación -30 del dataset original\n",
    "show_data(X_train, Y_train, obs, -30)\n",
    "\n",
    "# obtener observación rotada\n",
    "X_obs_rot = rotate_data(X_train, obs, -30)\n",
    "\n",
    "# generar nuevo dataset para comprobar que la rotación obtenida previamente es correcta\n",
    "Y_prueba_rot = np.array([y_obs])\n",
    "X_prueba_rot = np.array([[X_obs_rot]])\n",
    "# mostrar la observación del dataset de prueba sin rotación (debe aparecer rotada\n",
    "# ya que el dataset de prueba la contiene con rotación con respecto a la original)\n",
    "show_data(X_prueba_rot, Y_prueba_rot, 0, 0)\n"
   ]
  },
  {
   "cell_type": "markdown",
   "metadata": {},
   "source": [
    "4). Aumente el conjunto de datos de entrenamiento.\n",
    "- Aumente el tamaño del conjunto de datos de entrenamiento al introducir ligeras rotaciones (en sentido horario y antihorario).\n",
    "- Utilice la función 'rotate_data ()' definida en el paso anterior.\n",
    "- No es necesario aumentar el conjunto de datos de prueba.\n",
    "- Objetivo aproximadamente cinco veces mayor."
   ]
  },
  {
   "cell_type": "code",
   "execution_count": 43,
   "metadata": {},
   "outputs": [
    {
     "name": "stdout",
     "output_type": "stream",
     "text": [
      "Tipos de salidas:  [0 1 2 3 4 5 6 7 8 9]\n",
      "Nº de ocurrencias por salida:  [13 14  6 11 11  5 11 10  8 11]\n",
      "Número observaciones del dataset original:  100\n",
      "Número observaciones del dataset tras haberse aumentado:  1160\n",
      "Nº de ocurrencias por salida del dataset tras haberse aumentado: [117 126 114 121 121 105 121 110 104 121]\n"
     ]
    }
   ],
   "source": [
    "tipos_sal, rep_tip_sal = np.unique(Y_train, return_counts = True)\n",
    "print('Tipos de salidas: ',tipos_sal)\n",
    "print('Nº de ocurrencias por salida: ', rep_tip_sal)\n",
    "n_obs, n_carac = X_train.shape\n",
    "print('Número observaciones del dataset original: ' ,n_obs)    \n",
    "nuevas_obs_sal = 100   \n",
    "num_rot_sal = np.array([])\n",
    "for i in np.arange(0, rep_tip_sal.size):\n",
    "    obs_gen = np.round(nuevas_obs_sal/rep_tip_sal[i])\n",
    "    if obs_gen % 2 == 0:\n",
    "        num_rot_sal = np.append(num_rot_sal, obs_gen/2)\n",
    "    else:\n",
    "        num_rot_sal = np.append(num_rot_sal, (obs_gen +1) /2 )    \n",
    "\n",
    "def genera_num_rot(num_rot):\n",
    "    ang_max= 3\n",
    "    ang_ini = ang_max/num_rot\n",
    "    rotaciones = np.array([])\n",
    "    for i in np.arange(0, num_rot):\n",
    "        rotaciones = np.append(rotaciones, ang_ini + ang_ini*i)  \n",
    "    return rotaciones\n",
    "\n",
    "obs_rotadas = np.array([])\n",
    "sal_obs_rotadas = np.array([])\n",
    "ind_obs = np.arange(0, n_obs)\n",
    "for i_obs in ind_obs:\n",
    "    obs = X_train[i_obs]\n",
    "    sal_obs = Y_train[i_obs]\n",
    "    num_rot = num_rot_sal[sal_obs]\n",
    "    rotaciones = genera_num_rot(num_rot)\n",
    "    for rot in rotaciones:\n",
    "        obs_rot_sh = rotate_data(X_train, i_obs, -rot)\n",
    "        obs_rot_sah = rotate_data(X_train, i_obs, rot)\n",
    "        obs_rotadas = np.append(obs_rotadas,[[obs_rot_sh]])\n",
    "        obs_rotadas = np.append(obs_rotadas,[[obs_rot_sah]])  \n",
    "        sal_obs_rotadas = np.append(sal_obs_rotadas, np.full(2, Y_train[i_obs]))\n",
    "\n",
    "# Incluir observaciones y salida esperada en el dataset original\n",
    "X_train_ca = np.append(X_train, obs_rotadas)\n",
    "X_train_ca = X_train_ca.reshape(-1, n_carac)\n",
    "n_obs_ca, n_carac_ca = X_train_ca.shape\n",
    "print('Número observaciones del dataset tras haberse aumentado: ' ,n_obs_ca)\n",
    "#Y_train = np.append(Y_train, sal_obs_rotadas  x.astype(int))\n",
    "Y_train_ca = np.append(Y_train, sal_obs_rotadas.astype(int))\n",
    "# comprobar cómo se ha aumentado la frecuencia para cada tipo de salida\n",
    "tipos_sal_ca, rep_tip_sal_ca = np.unique(Y_train_ca, return_counts = True)\n",
    "print('Nº de ocurrencias por salida del dataset tras haberse aumentado:', rep_tip_sal_ca)"
   ]
  },
  {
   "cell_type": "markdown",
   "metadata": {},
   "source": [
    "5). Rehaga el análisis predictivo con el conjunto de datos de entrenamiento aumentado.\n",
    "- Utilice el mismo algoritmo que en el paso 2).\n",
    "- Calcule la precisión.\n",
    "- ¿Ha aumentado la precisión?"
   ]
  },
  {
   "cell_type": "code",
   "execution_count": 44,
   "metadata": {},
   "outputs": [
    {
     "name": "stdout",
     "output_type": "stream",
     "text": [
      "Valor óptimo obtenido para n_estimators:  19\n",
      "Valor óptimo obtenido para max_depth:  3\n",
      "Precisión con la predicción RandomForestClassifier: 0.67\n"
     ]
    }
   ],
   "source": [
    "# Optimización de hiper parámetros y validación del modelo con la mejor combinación de los mismos\n",
    "\n",
    "# Parámetros para el clasificador RandomForestClassifier del conjunto aumentado\n",
    "# n_estimators --> nº estimadores\n",
    "# max_depth --> profundidad máxima\n",
    "nestim_ca = np.arange(1,21,1)\n",
    "maxd_ca = np.arange(1,4,1)\n",
    "parameters_rfc_ca = {'n_estimators':nestim_ca,'max_depth': maxd_ca}\n",
    "\n",
    "# RandomForestClassifier --> Clasificador de Random Forest\n",
    "clf_rfc_ca = RandomForestClassifier(random_state=43)\n",
    "# Búsqueda exhaustiva de valores de parámetros especificados para un estimador con GridSearchCV  # , scoring = 'precision'\n",
    "grid_search_rfc_ca = GridSearchCV(clf_rfc_ca, parameters_rfc_ca, cv=10, n_jobs=-1)\n",
    "\n",
    "# ajustar con los datos de entrenamiento del data set\n",
    "grid_search_rfc_ca.fit(X_train_ca, Y_train_ca)\n",
    "\n",
    "# Obtener valor óptimo de los parámetros obtenidos\n",
    "dic_mejor_par_rfc_ca = grid_search_rfc_ca.best_params_\n",
    "mejor_ne_ca= dic_mejor_par_rfc_ca['n_estimators']\n",
    "print('Valor óptimo obtenido para n_estimators: ', mejor_ne_ca)\n",
    "mejor_md_ca = dic_mejor_par_rfc_ca['max_depth']\n",
    "print('Valor óptimo obtenido para max_depth: ', mejor_md_ca)\n",
    "\n",
    "# Predicción RandomForestClassifier\n",
    "clas_rfc_mej_par_ca = RandomForestClassifier(n_estimators=mejor_ne_ca,max_depth=mejor_md_ca, random_state=43)\n",
    "# ajustar con datos entrenamiento\n",
    "clas_rfc_mej_par_ca.fit(X_train_ca, Y_train_ca)\n",
    "# predicción\n",
    "y_pred_rfc_ca = clas_rfc_mej_par_ca.predict(X_test)\n",
    "print( \"Precisión con la predicción RandomForestClassifier: \" + str(metrics.precision_score(Y_test,y_pred_rfc_ca, average='micro')))"
   ]
  },
  {
   "cell_type": "markdown",
   "metadata": {},
   "source": [
    "La precición (nº de 1s correctamente predichos / nº total de 1s predichos) para el  el conjunto de datos de entrenamiento aumentado ha aumentado con respecto al resultado anterior."
   ]
  },
  {
   "cell_type": "code",
   "execution_count": 45,
   "metadata": {},
   "outputs": [
    {
     "name": "stdout",
     "output_type": "stream",
     "text": [
      "              precision    recall  f1-score   support\n",
      "\n",
      "           0       0.80      1.00      0.89         8\n",
      "           1       0.72      0.93      0.81        14\n",
      "           2       0.60      0.38      0.46         8\n",
      "           3       0.69      0.82      0.75        11\n",
      "           4       0.58      0.79      0.67        14\n",
      "           5       0.00      0.00      0.00         7\n",
      "           6       0.75      0.60      0.67        10\n",
      "           7       0.80      0.80      0.80        15\n",
      "           8       0.50      0.50      0.50         2\n",
      "           9       0.40      0.36      0.38        11\n",
      "\n",
      "    accuracy                           0.67       100\n",
      "   macro avg       0.58      0.62      0.59       100\n",
      "weighted avg       0.62      0.67      0.64       100\n",
      "\n"
     ]
    },
    {
     "data": {
      "text/plain": [
       "<sklearn.metrics._plot.confusion_matrix.ConfusionMatrixDisplay at 0x1e203326df0>"
      ]
     },
     "execution_count": 45,
     "metadata": {},
     "output_type": "execute_result"
    },
    {
     "data": {
      "image/png": "[encoded data removed]",
      "text/plain": [
       "<Figure size 432x288 with 2 Axes>"
      ]
     },
     "metadata": {
      "needs_background": "light"
     },
     "output_type": "display_data"
    }
   ],
   "source": [
    "from sklearn.metrics import classification_report\n",
    "# informe con las principales métricas de clasificación.\n",
    "print(classification_report(Y_test,y_pred_rfc_ca))\n",
    "\n",
    "# Matriz de confusión\n",
    "metrics.plot_confusion_matrix(clas_rfc_mej_par_ca, X_test, Y_test , cmap=plt.cm.Blues)"
   ]
  }
 ],
 "metadata": {
  "kernelspec": {
   "display_name": "Python 3",
   "language": "python",
   "name": "python3"
  },
  "language_info": {
   "codemirror_mode": {
    "name": "ipython",
    "version": 3
   },
   "file_extension": ".py",
   "mimetype": "text/x-python",
   "name": "python",
   "nbconvert_exporter": "python",
   "pygments_lexer": "ipython3",
   "version": "3.8.8"
  }
 },
 "nbformat": 4,
 "nbformat_minor": 2
}
