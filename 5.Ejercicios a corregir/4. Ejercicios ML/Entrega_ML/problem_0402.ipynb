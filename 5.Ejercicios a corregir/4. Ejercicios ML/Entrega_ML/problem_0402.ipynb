{
 "cells": [
  {
   "cell_type": "markdown",
   "metadata": {},
   "source": [
    "## Prueba #0402"
   ]
  },
  {
   "cell_type": "markdown",
   "metadata": {},
   "source": [
    "### \"Solución MCO\""
   ]
  },
  {
   "cell_type": "code",
   "execution_count": 1,
   "metadata": {},
   "outputs": [],
   "source": [
    "import numpy as np\n",
    "import pandas as pd"
   ]
  },
  {
   "cell_type": "markdown",
   "metadata": {},
   "source": [
    "#### Responda la siguiente pregunta proporcionando el código Python:\n",
    "<br>\n",
    "study = una matriz que contiene las horas de estudio. Esta es la variable explicativa. <br>\n",
    "score = una matriz que contiene las puntuaciones de las pruebas. Esta es la variable de respuesta."
   ]
  },
  {
   "cell_type": "code",
   "execution_count": 2,
   "metadata": {},
   "outputs": [],
   "source": [
    "study = np.array([ 3, 4.5, 6, 1.2, 2, 6.9, 6.7, 5.5]).reshape(-1,1)\n",
    "score = np.array([ 88, 85, 90, 80, 81, 92, 95, 90]).reshape(-1,1)"
   ]
  },
  {
   "cell_type": "markdown",
   "metadata": {},
   "source": [
    "1). Defina la clase 'linerRegression' para que coincida con el resultado que se muestra a continuación:"
   ]
  },
  {
   "cell_type": "code",
   "execution_count": 3,
   "metadata": {},
   "outputs": [],
   "source": [
    "class linearRegression:\n",
    "    \n",
    "    def __init__(self):\n",
    "        self.dfCoeficientes = pd.DataFrame(data = np.array([0,0]), index = ['Intercept', 'X1'], columns=[' Coefficient'])\n",
    "        self.r2 = 0\n",
    "        self.X = np.array([])\n",
    "        self.Y = np.array([])\n",
    "        \n",
    "    def train(self, input_X, input_Y):\n",
    "        \n",
    "        # asignar datos recibidos\n",
    "        self.X = input_X\n",
    "        self.Y = input_Y\n",
    "        \n",
    "        # Reg. Lineal.Solución con mínimos cuadrados ordinarios (MCO). Calcular coeficientes: beta\n",
    "        # beta = pseudo_inversa * Y siendo pseudo_inversa = inversa(traspX * X) * traspX \n",
    "        \n",
    "        # matriz de 1s del mismo tamaño que la muestra recibida \n",
    "        x0 = np.ones((self.X.size,1))\n",
    "        # apilar las dos matrices horizontalmente (en columnas)\n",
    "        datos = np.hstack((x0, self.X))\n",
    "        \n",
    "        # pseudo-inversa\n",
    "        pseudo_inversa = np.dot(np.linalg.inv(np.dot(np.transpose(datos), datos)), np.transpose(datos))\n",
    "        coef  = np.dot(pseudo_inversa, self.Y)\n",
    "        # se obtienen sólo 2 valores: beta0 y beta1 (ya que sólo se tiene una vble)\n",
    "        self.dfCoeficientes.loc['Intercept'] = coef[0]\n",
    "        self.dfCoeficientes.loc['X1'] = coef[1]\n",
    "        \n",
    "        # Reg. Lineal. Coeficiente de determinación o R^2\n",
    "        # Si sólo hay una variable explicativa X, se obtiene de la siguiente forma: R2 = (Cor(X,Y))^2\n",
    "        \n",
    "        # Correlación entre las series que contienen los datos y los valores para la salida\n",
    "        serie_datos = pd.Series(study.flatten())\n",
    "        serie_salida = pd.Series(score.flatten())\n",
    "        self.r2 = np.round(np.power(serie_datos.corr(serie_salida),2),6)\n",
    "        \n",
    "    def output(self):\n",
    "        if (self.X.size>0 and self.Y.size>0):\n",
    "            print(self.dfCoeficientes)\n",
    "            print('------------------------------')\n",
    "            print(\"R^2 :\", self.r2)\n",
    "        else:\n",
    "            print('Se debe realizar el entrenamiento: train')"
   ]
  },
  {
   "cell_type": "markdown",
   "metadata": {},
   "source": [
    "**Ejecución:**"
   ]
  },
  {
   "cell_type": "code",
   "execution_count": 4,
   "metadata": {},
   "outputs": [
    {
     "name": "stdout",
     "output_type": "stream",
     "text": [
      "            Coefficient\n",
      "Intercept     77.684670\n",
      "X1             2.221303\n",
      "------------------------------\n",
      "R^2 : 0.845842\n"
     ]
    }
   ],
   "source": [
    "LR = linearRegression()                    # Crea un objeto de regresión lineal.\n",
    "LR.train(study, score)                     # Entrenar.\n",
    "LR.output()                                # Muestra el resultado del entrenamiento."
   ]
  },
  {
   "cell_type": "code",
   "execution_count": 7,
   "metadata": {},
   "outputs": [
    {
     "name": "stdout",
     "output_type": "stream",
     "text": [
      "Se debe realizar el entrenamiento: train\n"
     ]
    }
   ],
   "source": [
    "# Prueba de resultado obtenido cuando no se realiza entrenamiento\n",
    "LR = linearRegression()                    # Crea un objeto de regresión lineal.\n",
    "LR.output()                                # Muestra el resultado del entrenamiento"
   ]
  }
 ],
 "metadata": {
  "kernelspec": {
   "display_name": "Python 3",
   "language": "python",
   "name": "python3"
  },
  "language_info": {
   "codemirror_mode": {
    "name": "ipython",
    "version": 3
   },
   "file_extension": ".py",
   "mimetype": "text/x-python",
   "name": "python",
   "nbconvert_exporter": "python",
   "pygments_lexer": "ipython3",
   "version": "3.8.8"
  }
 },
 "nbformat": 4,
 "nbformat_minor": 2
}
