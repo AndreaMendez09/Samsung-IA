{
 "cells": [
  {
   "cell_type": "markdown",
   "metadata": {},
   "source": [
    "## Prueba #0503"
   ]
  },
  {
   "cell_type": "markdown",
   "metadata": {},
   "source": [
    "### \"Aumento de datos\""
   ]
  },
  {
   "cell_type": "markdown",
   "metadata": {},
   "source": [
    "#### Responda las siguientes preguntas proporcionando código Python:\n",
    "#### Objetivos:\n",
    "- Codifique las funciones de ayuda.\n",
    "- Optimice y pruebe un modelo predictivo de su elección.\n",
    "- Realice aumentos de datos para mejorar la precisión predictiva cuando los datos de entrenamiento proporcionados son pequeños."
   ]
  },
  {
   "cell_type": "code",
   "execution_count": 1,
   "metadata": {},
   "outputs": [],
   "source": [
    "import numpy as np\n",
    "import pandas as pd\n",
    "import os\n",
    "import warnings\n",
    "import matplotlib.pyplot as plt\n",
    "from sklearn.model_selection import GridSearchCV\n",
    "from sklearn.neighbors import KNeighborsClassifier\n",
    "from sklearn.tree import DecisionTreeClassifier\n",
    "from sklearn.ensemble import RandomForestClassifier,AdaBoostClassifier, GradientBoostingClassifier\n",
    "from xgboost import XGBClassifier\n",
    "from sklearn import metrics, preprocessing\n",
    "from scipy.ndimage.interpolation import rotate\n",
    "warnings.filterwarnings(action='ignore')                  # Desactivar las advertencias\n",
    "%matplotlib inline"
   ]
  },
  {
   "cell_type": "markdown",
   "metadata": {},
   "source": [
    "#### Leer los datos:\n",
    "La explicación de los datos originales se puede encontrar [aquí](http://yann.lecun.com/exdb/mnist/).\n",
    "- Los datos que usaremos son un pequeño subconjunto de los datos originales con solo 100 observaciones.\n",
    "- Cada observación es la versión \"aplanada\" de una imagen.\n",
    "- La primera columna corresponde a la etiqueta (Y).\n",
    "- El tamaño de la imagen es 28x28."
   ]
  },
  {
   "cell_type": "code",
   "execution_count": 2,
   "metadata": {},
   "outputs": [],
   "source": [
    "# Ir al directorio dónde se ecuentra el fichero \n",
    "os.chdir(r'C:\\Users\\cocol\\Samsung IA\\3. Maching Learning\\Enunciados-20211115\\Data')                # Reemplazar por la ruta adecuada"
   ]
  },
  {
   "cell_type": "code",
   "execution_count": 3,
   "metadata": {},
   "outputs": [],
   "source": [
    "# Lea los datos de entrenamiento y prueba por separado.\n",
    "data_train = pd.read_csv('data_mnist_train_100.csv', header=None,encoding='latin1')\n",
    "data_test = pd.read_csv('data_mnist_test_100.csv', header=None,encoding='latin1')\n",
    "\n",
    "# Escale y divida el conjunto de datos en X e Y.\n",
    "X_train = np.array((data_train.iloc[:,1:]/255.0)*0.99+0.01)\n",
    "X_test = np.array((data_test.iloc[:,1:]/255.0)*0.99+0.01)\n",
    "Y_train = np.array(data_train.iloc[:,0])\n",
    "Y_test = np.array(data_test.iloc[:,0])"
   ]
  },
  {
   "cell_type": "markdown",
   "metadata": {},
   "source": [
    "1). Codifique la función auxiliar 'show_data ()' que visualiza cada observación dada. SUGERENCIA: use matplotlib.pyplot.imshow () y scipy.ndimage.interpolation ()."
   ]
  },
  {
   "cell_type": "code",
   "execution_count": 4,
   "metadata": {},
   "outputs": [
    {
     "name": "stdout",
     "output_type": "stream",
     "text": [
      "(100, 784)\n",
      "(100,)\n"
     ]
    }
   ],
   "source": [
    "print(X_train.shape)\n",
    "print(Y_train.shape)"
   ]
  },
  {
   "cell_type": "code",
   "execution_count": 5,
   "metadata": {},
   "outputs": [],
   "source": [
    "def show_data(X, Y, n, angle=0):\n",
    "    # X data , Y target  , n posicion del dato  \n",
    "    data = X[n,:].reshape((28,28))   # los pixeles de la imagen son 28x28\n",
    "    data = rotate(data, angle, reshape=False)   # Rotación de la imagen \n",
    "    plt.imshow(data, cmap = 'Greys', interpolation='nearest')  # muestra de la imagen \n",
    "    return Y[n] # devuelve el numero representado   \n",
    "  "
   ]
  },
  {
   "cell_type": "code",
   "execution_count": 6,
   "metadata": {},
   "outputs": [
    {
     "data": {
      "text/plain": [
       "3"
      ]
     },
     "execution_count": 6,
     "metadata": {},
     "output_type": "execute_result"
    },
    {
     "data": {
      "image/png": "[encoded data removed]",
      "text/plain": [
       "<Figure size 432x288 with 1 Axes>"
      ]
     },
     "metadata": {
      "needs_background": "light"
     },
     "output_type": "display_data"
    }
   ],
   "source": [
    "# Ejemplo 1.\n",
    "show_data(X_train, Y_train,10,+10)"
   ]
  },
  {
   "cell_type": "code",
   "execution_count": 7,
   "metadata": {},
   "outputs": [
    {
     "data": {
      "text/plain": [
       "3"
      ]
     },
     "execution_count": 7,
     "metadata": {},
     "output_type": "execute_result"
    },
    {
     "data": {
      "image/png": "[encoded data removed]",
      "text/plain": [
       "<Figure size 432x288 with 1 Axes>"
      ]
     },
     "metadata": {
      "needs_background": "light"
     },
     "output_type": "display_data"
    }
   ],
   "source": [
    "# Ejemplo 2.\n",
    "show_data(X_train, Y_train,10,-30)"
   ]
  },
  {
   "cell_type": "code",
   "execution_count": 8,
   "metadata": {},
   "outputs": [
    {
     "data": {
      "text/plain": [
       "1"
      ]
     },
     "execution_count": 8,
     "metadata": {},
     "output_type": "execute_result"
    },
    {
     "data": {
      "image/png": "[encoded data removed]",
      "text/plain": [
       "<Figure size 432x288 with 1 Axes>"
      ]
     },
     "metadata": {
      "needs_background": "light"
     },
     "output_type": "display_data"
    }
   ],
   "source": [
    "# Ejemplo 3.\n",
    "show_data(X_train, Y_train,77,0)"
   ]
  },
  {
   "cell_type": "markdown",
   "metadata": {},
   "source": [
    "2). Elija un algoritmo y realice el análisis predictivo.\n",
    "- Optimizar los hiperparámetros.\n",
    "- Calcule la precisión.\n",
    "- ¿Es la precisión lo suficientemente alta?"
   ]
  },
  {
   "cell_type": "code",
   "execution_count": 9,
   "metadata": {},
   "outputs": [
    {
     "name": "stdout",
     "output_type": "stream",
     "text": [
      "Best n_neighbors :  1\n"
     ]
    }
   ],
   "source": [
    "# k-nearest neighbors classifier \n",
    "\n",
    "# los hiperametros\n",
    "hyperparameters = {\n",
    "    'n_neighbors' : np.arange(1,10,1)\n",
    "}\n",
    "# uso el clasificador \n",
    "knn = KNeighborsClassifier()\n",
    "# Usamos GridSearch\n",
    "clf = GridSearchCV(knn,hyperparameters,cv=5)\n",
    "# fit del modelo\n",
    "best_model = clf.fit(X_train,Y_train)\n",
    "best_n_neighbors = best_model.best_estimator_.get_params()['n_neighbors']\n",
    "\n",
    "print('Best n_neighbors : ', best_n_neighbors)"
   ]
  },
  {
   "cell_type": "code",
   "execution_count": 10,
   "metadata": {},
   "outputs": [
    {
     "name": "stdout",
     "output_type": "stream",
     "text": [
      "The accuracy is : 0.67\n"
     ]
    }
   ],
   "source": [
    "# Mejor n_neighbors\n",
    "knn = KNeighborsClassifier(n_neighbors = best_n_neighbors).fit(X_train,Y_train)\n",
    "y_pred = knn.predict(X_test)\n",
    "precision = metrics.accuracy_score(Y_test,y_pred)\n",
    "\n",
    "print('The accuracy is : ' + str(precision))"
   ]
  },
  {
   "cell_type": "code",
   "execution_count": 11,
   "metadata": {},
   "outputs": [],
   "source": [
    "## la precisión no es suficientemente alta "
   ]
  },
  {
   "cell_type": "markdown",
   "metadata": {},
   "source": [
    "3). Codifique la función auxiliar 'rotate_data ()' que rota cada observación dada en un ángulo. SUGERENCIA: use scipy.ndimage.interpolation ()."
   ]
  },
  {
   "cell_type": "code",
   "execution_count": 12,
   "metadata": {},
   "outputs": [],
   "source": [
    "def rotate_data(X, angle=0):\n",
    "    data = X.reshape((28,28))\n",
    "    data = rotate(data, angle, reshape=False)\n",
    "    return data"
   ]
  },
  {
   "cell_type": "code",
   "execution_count": 13,
   "metadata": {},
   "outputs": [
    {
     "data": {
      "text/plain": [
       "array([[ 0.00000000e+00,  0.00000000e+00,  0.00000000e+00,\n",
       "         0.00000000e+00,  0.00000000e+00,  0.00000000e+00,\n",
       "         1.00000032e-02,  9.99999898e-03,  1.00000008e-02,\n",
       "         1.00000013e-02,  9.99994450e-03,  1.00000208e-02,\n",
       "         1.00001787e-02,  9.99995351e-03,  9.99975904e-03,\n",
       "         1.00000144e-02,  9.99963159e-03,  1.00000311e-02,\n",
       "         0.00000000e+00,  0.00000000e+00,  0.00000000e+00,\n",
       "         0.00000000e+00,  0.00000000e+00,  0.00000000e+00,\n",
       "         0.00000000e+00,  0.00000000e+00,  0.00000000e+00,\n",
       "         0.00000000e+00],\n",
       "       [ 0.00000000e+00,  0.00000000e+00,  0.00000000e+00,\n",
       "         0.00000000e+00,  0.00000000e+00,  0.00000000e+00,\n",
       "         9.99997688e-03,  9.99997724e-03,  1.00001278e-02,\n",
       "         1.00000398e-02,  9.99981127e-03,  9.99991476e-03,\n",
       "         9.99978078e-03,  9.99977504e-03,  1.00022621e-02,\n",
       "         1.00010201e-02,  9.99529151e-03,  9.99837034e-03,\n",
       "         9.99204197e-03,  0.00000000e+00,  0.00000000e+00,\n",
       "         0.00000000e+00,  0.00000000e+00,  0.00000000e+00,\n",
       "         0.00000000e+00,  0.00000000e+00,  0.00000000e+00,\n",
       "         0.00000000e+00],\n",
       "       [ 0.00000000e+00,  0.00000000e+00,  0.00000000e+00,\n",
       "         0.00000000e+00,  0.00000000e+00,  1.00001869e-02,\n",
       "         9.99973797e-03,  9.99993442e-03,  9.99997770e-03,\n",
       "         9.99963182e-03,  1.00012791e-02,  1.00017700e-02,\n",
       "         9.99692699e-03,  9.99326692e-03,  1.00071523e-02,\n",
       "         9.99914173e-03,  1.00075525e-02,  1.00415946e-02,\n",
       "         1.00083730e-02,  1.00059619e-02,  9.97779028e-03,\n",
       "         0.00000000e+00,  0.00000000e+00,  0.00000000e+00,\n",
       "         0.00000000e+00,  0.00000000e+00,  0.00000000e+00,\n",
       "         0.00000000e+00],\n",
       "       [ 0.00000000e+00,  0.00000000e+00,  0.00000000e+00,\n",
       "         0.00000000e+00,  9.99999962e-03,  1.00001037e-02,\n",
       "         9.99864618e-03,  1.00044516e-02,  9.99610949e-03,\n",
       "         9.99553126e-03,  1.00031166e-02,  1.00039927e-02,\n",
       "         1.00028526e-02,  1.00220156e-02,  9.98231672e-03,\n",
       "         9.88205435e-03,  1.01144161e-02,  9.83124510e-03,\n",
       "         1.00329465e-02,  1.00857382e-02,  1.00335645e-02,\n",
       "         1.01874871e-02,  9.76089189e-03,  0.00000000e+00,\n",
       "         0.00000000e+00,  0.00000000e+00,  0.00000000e+00,\n",
       "         0.00000000e+00],\n",
       "       [ 0.00000000e+00,  0.00000000e+00,  0.00000000e+00,\n",
       "         0.00000000e+00,  9.99996399e-03,  1.00009322e-02,\n",
       "         9.99973751e-03,  9.99664082e-03,  9.99836623e-03,\n",
       "         1.00330056e-02,  9.97895319e-03,  9.91452009e-03,\n",
       "         9.99426238e-03,  1.02385960e-02,  9.98668473e-03,\n",
       "         9.94077486e-03,  1.00047103e-02,  9.91301736e-03,\n",
       "         9.99155528e-03,  8.99297626e-03,  1.01139853e-02,\n",
       "         1.23991070e-02,  1.05973361e-02,  4.58498293e-03,\n",
       "         9.98647306e-03,  0.00000000e+00,  0.00000000e+00,\n",
       "         0.00000000e+00],\n",
       "       [ 0.00000000e+00,  0.00000000e+00,  0.00000000e+00,\n",
       "         9.99918073e-03,  1.00000928e-02,  9.99898752e-03,\n",
       "         9.99730459e-03,  1.00147633e-02,  1.00110360e-02,\n",
       "         9.82241364e-03,  1.04522621e-02,  9.74033940e-03,\n",
       "         1.00296987e-02,  9.03631525e-03,  9.25721971e-03,\n",
       "         1.44525875e-02,  8.04804150e-03,  1.56649644e-02,\n",
       "         8.66925266e-03,  9.24514312e-03,  1.08705033e-02,\n",
       "        -1.94494693e-02,  2.36070336e-02,  2.85324895e-02,\n",
       "         8.87792850e-03,  1.01191292e-02,  0.00000000e+00,\n",
       "         0.00000000e+00],\n",
       "       [ 0.00000000e+00,  0.00000000e+00,  0.00000000e+00,\n",
       "         9.98054625e-03,  1.00508441e-02,  9.94659977e-03,\n",
       "         9.99919060e-03,  1.00148704e-02,  9.99546060e-03,\n",
       "         1.00485263e-02,  1.04457631e-02,  5.87784498e-03,\n",
       "         2.12289297e-02,  2.31137253e-03,  7.92890022e-03,\n",
       "        -1.11373571e-02,  9.63783463e-03,  3.46151692e-03,\n",
       "        -6.93037860e-03,  1.77132566e-01,  2.07042403e-01,\n",
       "         1.61831067e-01, -8.38513017e-02, -1.95926196e-02,\n",
       "         1.12813664e-02,  9.70043741e-03,  9.96893702e-03,\n",
       "         1.00142730e-02],\n",
       "       [ 0.00000000e+00,  0.00000000e+00,  1.00295096e-02,\n",
       "         9.97903206e-03,  9.98899773e-03,  9.83591868e-03,\n",
       "         1.05452390e-02,  9.40993050e-03,  9.78490390e-03,\n",
       "         1.04859560e-02,  1.25086609e-02,  8.46080551e-03,\n",
       "         5.02218594e-03, -3.92020837e-02,  2.61043422e-01,\n",
       "         1.71810485e-01,  2.87025027e-01,  4.77355906e-01,\n",
       "         7.30875107e-01,  9.86985625e-01,  8.90927486e-01,\n",
       "         1.01857694e+00,  5.18320170e-01,  3.06589153e-02,\n",
       "         1.40250964e-02,  9.79534297e-03,  9.79836268e-03,\n",
       "         9.99643421e-03],\n",
       "       [ 0.00000000e+00,  0.00000000e+00,  1.00223062e-02,\n",
       "         9.61240895e-03,  1.09747548e-02,  9.87086596e-03,\n",
       "         7.61724258e-03,  1.31307816e-02,  8.54652095e-03,\n",
       "         7.29001219e-03,  8.20568247e-03,  4.16030564e-02,\n",
       "         2.60123408e-01,  4.27863528e-01,  9.40244931e-01,\n",
       "         9.87842620e-01,  9.70892812e-01,  9.95062445e-01,\n",
       "         9.99419057e-01,  9.88075663e-01,  9.74576125e-01,\n",
       "         9.83667685e-01,  8.28847658e-01,  2.03827950e-01,\n",
       "         7.93773188e-03,  9.98765049e-03,  1.05413839e-02,\n",
       "         1.00035064e-02],\n",
       "       [ 0.00000000e+00,  9.94622456e-03,  1.02088737e-02,\n",
       "         9.80673334e-03,  9.88609458e-03,  7.03227968e-03,\n",
       "         1.93440079e-02,  1.78716388e-02, -3.11672656e-02,\n",
       "         2.04831091e-01,  4.32028745e-01,  6.27906617e-01,\n",
       "         9.97233300e-01,  9.86480779e-01,  9.88662021e-01,\n",
       "         1.00550600e+00,  9.92258663e-01,  1.00501769e+00,\n",
       "         1.03364884e+00,  9.88651702e-01,  9.08601804e-01,\n",
       "         9.40632857e-01,  1.13533505e+00,  4.41648765e-01,\n",
       "        -2.94410420e-02,  9.54800850e-03,  1.01726960e-02,\n",
       "         9.98824830e-03],\n",
       "       [ 9.99843313e-03,  9.96775817e-03,  1.02728612e-02,\n",
       "         8.64315523e-03,  1.46160544e-02,  7.05164041e-03,\n",
       "        -1.93823416e-02,  3.04942014e-02,  3.32499931e-01,\n",
       "         8.43744614e-01,  1.01169477e+00,  1.04979652e+00,\n",
       "         9.33153561e-01,  9.88386396e-01,  9.67666538e-01,\n",
       "         7.85239476e-01,  6.38864508e-01,  6.04603111e-01,\n",
       "         9.41200551e-01,  1.00854737e+00,  5.61457177e-01,\n",
       "         5.51098837e-01,  9.52992907e-01,  1.14016611e-01,\n",
       "        -3.41427036e-02,  2.48219539e-02,  7.80912665e-03,\n",
       "         9.92088936e-03],\n",
       "       [ 9.94228830e-03,  1.02454922e-02,  9.26490447e-03,\n",
       "         1.14055033e-02,  9.34681008e-03, -4.22641416e-04,\n",
       "         1.96468348e-01,  6.62952239e-01,  9.86650177e-01,\n",
       "         1.04752892e+00,  8.25302489e-01,  5.05304628e-01,\n",
       "         2.68007231e-01,  3.90357635e-01,  4.67957961e-01,\n",
       "         1.37167896e-01,  4.65381009e-02,  4.74640401e-01,\n",
       "         1.01557833e+00,  1.02960437e+00,  4.24880904e-01,\n",
       "         7.07315266e-01,  1.11337879e+00,  4.90928230e-01,\n",
       "         3.96793447e-02,  8.53804142e-03,  1.06787841e-02,\n",
       "         1.01599721e-02],\n",
       "       [ 1.00331756e-02,  1.01196905e-02,  9.12501294e-03,\n",
       "         1.43232464e-02, -7.01910509e-03,  7.94936357e-02,\n",
       "         5.10171887e-01,  1.02480482e+00,  9.95585261e-01,\n",
       "         7.03076579e-01,  1.84278283e-01, -4.16355276e-02,\n",
       "         7.76946937e-05,  5.20556811e-03,  1.11801123e-01,\n",
       "         1.76242093e-02,  1.48519356e-02,  2.48703005e-01,\n",
       "         2.59471206e-01,  2.80484575e-01,  1.25139835e-01,\n",
       "         6.93328924e-01,  9.89448663e-01,  6.29201843e-01,\n",
       "         5.15157947e-02,  8.57250758e-04,  1.04836737e-02,\n",
       "         9.78683866e-03],\n",
       "       [ 1.03193512e-02,  8.92394767e-03,  1.27789501e-02,\n",
       "         5.36225487e-03,  1.20837146e-02,  2.75661344e-01,\n",
       "         8.53778109e-01,  1.07785365e+00,  5.36352755e-01,\n",
       "         1.62289042e-01, -2.58771819e-02,  2.02527295e-02,\n",
       "         1.57334801e-02,  4.56250641e-03,  1.34115004e-02,\n",
       "         3.68622272e-03,  3.02257646e-04, -1.69926279e-02,\n",
       "        -1.85984206e-03, -3.93245116e-03, -1.78551687e-02,\n",
       "         8.42296037e-01,  8.81628745e-01,  3.01275029e-01,\n",
       "        -4.68237673e-02,  2.06197876e-02,  9.14777848e-03,\n",
       "         9.92203456e-03],\n",
       "       [ 9.86020358e-03,  9.49861221e-03,  1.38235737e-02,\n",
       "        -8.10981460e-03,  1.19278589e-01,  6.35914431e-01,\n",
       "         9.96571641e-01,  7.26498652e-01,  2.30432327e-02,\n",
       "        -6.75821746e-03,  8.99988295e-03,  1.52589614e-02,\n",
       "         5.50796972e-03,  1.28274696e-02,  1.07847507e-02,\n",
       "         8.20922388e-03,  1.76603859e-02,  1.98039252e-03,\n",
       "         4.44974820e-02, -8.71895269e-02,  3.41719225e-01,\n",
       "         1.11846779e+00,  7.82328494e-01,  3.14013669e-02,\n",
       "        -7.39912145e-03,  1.93857256e-02,  6.66587497e-03,\n",
       "         1.08202738e-02],\n",
       "       [ 9.74404882e-03,  1.35658712e-02, -1.31094008e-03,\n",
       "         3.07359640e-02,  3.50443962e-01,  9.37557262e-01,\n",
       "         8.69550687e-01,  1.63231904e-01, -3.84868512e-02,\n",
       "         3.22824263e-02,  5.45214183e-03,  1.01973418e-02,\n",
       "         1.07236550e-02,  1.04420880e-02,  9.37663018e-03,\n",
       "         1.24638217e-02,  3.87422102e-03,  2.61973328e-02,\n",
       "        -1.97953244e-02,  1.76774114e-02,  9.04026600e-01,\n",
       "         1.05614168e+00,  6.85919301e-01,  5.45848822e-02,\n",
       "         2.12885207e-02,  6.72066062e-03,  1.04379870e-02,\n",
       "         1.01090488e-02],\n",
       "       [ 9.82974409e-03,  9.51250273e-03,  3.98213947e-03,\n",
       "         1.72358511e-01,  7.23874744e-01,  1.07539371e+00,\n",
       "         7.86591363e-01, -5.74621420e-02,  8.30824745e-03,\n",
       "         1.21461483e-02,  9.22228536e-03,  9.95404889e-03,\n",
       "         4.04087782e-03,  1.07448965e-02,  7.28869123e-03,\n",
       "         9.34769580e-03,  3.09641546e-03,  3.30607541e-02,\n",
       "        -8.91237416e-02,  5.15020626e-01,  1.09904465e+00,\n",
       "         9.54951795e-01,  6.69344045e-01,  1.79567365e-02,\n",
       "         2.31880012e-03,  9.69984793e-03,  1.07597452e-02,\n",
       "         9.78068862e-03],\n",
       "       [ 1.01583736e-02,  1.23121363e-02, -3.63019485e-03,\n",
       "         2.63936801e-01,  9.85737367e-01,  9.89824555e-01,\n",
       "         8.12190616e-01,  1.87286002e-01,  1.22211862e-02,\n",
       "         4.96330494e-03, -3.93597672e-03,  2.67339514e-02,\n",
       "         2.43212324e-02,  1.38148829e-02,  1.54777100e-02,\n",
       "         2.42330601e-02,  1.93353804e-02, -5.49437050e-02,\n",
       "         9.99636764e-02,  1.00635339e+00,  1.01152590e+00,\n",
       "         8.74822022e-01,  2.77095883e-01, -6.34940522e-02,\n",
       "         2.88676408e-02,  7.08901128e-03,  1.01159512e-02,\n",
       "         9.99782737e-03],\n",
       "       [ 1.00163857e-02,  9.76045159e-03,  8.76477785e-03,\n",
       "         1.99904746e-01,  8.77448234e-01,  1.00063295e+00,\n",
       "         9.95943837e-01,  6.56529497e-01,  2.10013265e-01,\n",
       "         1.27302492e-01,  7.76865539e-02, -9.78451354e-02,\n",
       "        -3.12562846e-03, -2.13408265e-02,  8.00346667e-03,\n",
       "        -2.11022611e-02,  5.29803277e-02,  1.89741805e-01,\n",
       "         6.78615861e-01,  1.11859284e+00,  9.45844931e-01,\n",
       "         6.00124318e-01, -3.14087298e-02,  7.13095646e-03,\n",
       "         1.61402654e-02,  6.90467555e-03,  1.07316622e-02,\n",
       "         0.00000000e+00],\n",
       "       [ 9.99512700e-03,  9.39860091e-03,  1.03751229e-02,\n",
       "         1.15640488e-02,  5.11260449e-01,  1.06359398e+00,\n",
       "         9.93059297e-01,  9.56740350e-01,  9.18763963e-01,\n",
       "         7.77342485e-01,  7.64139880e-01,  4.61753592e-01,\n",
       "         4.33062551e-01,  5.20565972e-01,  5.02282919e-01,\n",
       "         6.08210181e-01,  7.60987495e-01,  9.57589812e-01,\n",
       "         1.00518295e+00,  8.87138821e-01,  6.44475713e-01,\n",
       "         1.57206634e-01, -4.99848453e-02,  2.99969755e-02,\n",
       "         4.56414361e-03,  1.10599540e-02,  0.00000000e+00,\n",
       "         0.00000000e+00],\n",
       "       [ 1.00052556e-02,  9.79667652e-03,  1.20107278e-02,\n",
       "        -7.12799458e-03,  7.75600567e-02,  6.66865162e-01,\n",
       "         1.05847329e+00,  1.04968906e+00,  1.01888672e+00,\n",
       "         1.04415082e+00,  1.01788893e+00,  1.05555766e+00,\n",
       "         9.56897111e-01,  1.03347914e+00,  9.67799947e-01,\n",
       "         9.15500987e-01,  8.06653384e-01,  6.71966777e-01,\n",
       "         5.63747035e-01,  2.18222550e-01,  6.12227868e-03,\n",
       "        -1.32140312e-02,  1.84002379e-02,  1.07355090e-02,\n",
       "         8.40481218e-03,  1.04913011e-02,  0.00000000e+00,\n",
       "         0.00000000e+00],\n",
       "       [ 9.98757583e-03,  1.03654175e-02,  9.99635109e-03,\n",
       "         2.22122298e-02, -4.40214912e-02, -8.54796374e-02,\n",
       "         2.34047466e-01,  5.76729125e-01,  4.97743360e-01,\n",
       "         6.64905843e-01,  5.86685188e-01,  5.58664326e-01,\n",
       "         6.52489096e-01,  5.48233514e-01,  4.83536346e-01,\n",
       "         1.57146937e-01,  3.11123425e-03, -1.01221188e-01,\n",
       "         4.68495657e-02,  1.72425762e-02,  2.60510140e-03,\n",
       "         1.79820581e-02,  1.00471842e-02,  7.57905293e-03,\n",
       "         1.10021977e-02,  0.00000000e+00,  0.00000000e+00,\n",
       "         0.00000000e+00],\n",
       "       [ 0.00000000e+00,  0.00000000e+00,  9.08436311e-03,\n",
       "         6.94119015e-03,  3.22580192e-02,  2.54084403e-02,\n",
       "        -6.40007012e-02, -1.10989522e-02,  3.41517726e-03,\n",
       "        -1.41260762e-02, -6.05285435e-04, -6.32167751e-02,\n",
       "         8.02392676e-02, -6.07146054e-02,  5.64301051e-02,\n",
       "         1.59038430e-02,  2.08970668e-02,  2.31752008e-02,\n",
       "         1.07829127e-02,  5.49377642e-03,  1.03498854e-02,\n",
       "         9.46999740e-03,  1.04460158e-02,  1.00361163e-02,\n",
       "         1.00195016e-02,  0.00000000e+00,  0.00000000e+00,\n",
       "         0.00000000e+00],\n",
       "       [ 0.00000000e+00,  0.00000000e+00,  0.00000000e+00,\n",
       "         9.97824589e-03,  4.55659003e-03,  1.10067835e-02,\n",
       "         2.63056199e-02,  9.62935222e-03,  2.43785274e-02,\n",
       "         9.03900209e-03,  3.40514865e-02,  8.36348511e-03,\n",
       "         2.42389310e-02,  7.57040964e-03,  1.03827216e-02,\n",
       "         7.07374098e-03,  4.31820528e-03,  9.09495954e-03,\n",
       "         1.14717146e-02,  9.98003614e-03,  1.01882815e-02,\n",
       "         9.84344486e-03,  1.00149257e-02,  9.94353389e-03,\n",
       "         0.00000000e+00,  0.00000000e+00,  0.00000000e+00,\n",
       "         0.00000000e+00],\n",
       "       [ 0.00000000e+00,  0.00000000e+00,  0.00000000e+00,\n",
       "         0.00000000e+00,  0.00000000e+00,  9.27885995e-03,\n",
       "         8.20961138e-03,  9.30186625e-03,  6.46073090e-03,\n",
       "         9.05272326e-03,  4.72357174e-03,  9.95771346e-03,\n",
       "         6.14173975e-03,  1.02571856e-02,  1.11122466e-02,\n",
       "         1.06157277e-02,  1.06714775e-02,  9.93281443e-03,\n",
       "         9.87185222e-03,  9.83900874e-03,  1.01319146e-02,\n",
       "         9.99922944e-03,  9.98987250e-03,  9.99995387e-03,\n",
       "         0.00000000e+00,  0.00000000e+00,  0.00000000e+00,\n",
       "         0.00000000e+00],\n",
       "       [ 0.00000000e+00,  0.00000000e+00,  0.00000000e+00,\n",
       "         0.00000000e+00,  0.00000000e+00,  0.00000000e+00,\n",
       "         0.00000000e+00,  1.03681493e-02,  1.02065123e-02,\n",
       "         1.10349337e-02,  1.04010502e-02,  1.07009387e-02,\n",
       "         1.02839725e-02,  9.85656530e-03,  9.96556203e-03,\n",
       "         9.70628120e-03,  1.00296492e-02,  1.00735800e-02,\n",
       "         9.97857314e-03,  9.99949458e-03,  9.99861082e-03,\n",
       "         9.98997434e-03,  1.00046574e-02,  0.00000000e+00,\n",
       "         0.00000000e+00,  0.00000000e+00,  0.00000000e+00,\n",
       "         0.00000000e+00],\n",
       "       [ 0.00000000e+00,  0.00000000e+00,  0.00000000e+00,\n",
       "         0.00000000e+00,  0.00000000e+00,  0.00000000e+00,\n",
       "         0.00000000e+00,  0.00000000e+00,  0.00000000e+00,\n",
       "         9.82216234e-03,  1.00130980e-02,  9.80932406e-03,\n",
       "         9.99519193e-03,  1.00589635e-02,  9.98286608e-03,\n",
       "         1.00144787e-02,  1.00002106e-02,  9.99079764e-03,\n",
       "         1.00011235e-02,  1.00063529e-02,  9.99820951e-03,\n",
       "         9.99938261e-03,  0.00000000e+00,  0.00000000e+00,\n",
       "         0.00000000e+00,  0.00000000e+00,  0.00000000e+00,\n",
       "         0.00000000e+00],\n",
       "       [ 0.00000000e+00,  0.00000000e+00,  0.00000000e+00,\n",
       "         0.00000000e+00,  0.00000000e+00,  0.00000000e+00,\n",
       "         0.00000000e+00,  0.00000000e+00,  0.00000000e+00,\n",
       "         0.00000000e+00,  1.00015547e-02,  1.00111111e-02,\n",
       "         9.99794136e-03,  1.00026271e-02,  9.99725881e-03,\n",
       "         1.00031922e-02,  1.00007468e-02,  9.99832283e-03,\n",
       "         9.99986845e-03,  1.00000353e-02,  9.99993587e-03,\n",
       "         1.00001608e-02,  0.00000000e+00,  0.00000000e+00,\n",
       "         0.00000000e+00,  0.00000000e+00,  0.00000000e+00,\n",
       "         0.00000000e+00]])"
      ]
     },
     "execution_count": 13,
     "metadata": {},
     "output_type": "execute_result"
    }
   ],
   "source": [
    "rotate_data(X_train[1],-30)"
   ]
  },
  {
   "cell_type": "markdown",
   "metadata": {},
   "source": [
    "4). Aumente el conjunto de datos de entrenamiento.\n",
    "- Aumente el tamaño del conjunto de datos de entrenamiento al introducir ligeras rotaciones (en sentido horario y antihorario).\n",
    "- Utilice la función 'rotate_data ()' definida en el paso anterior.\n",
    "- No es necesario aumentar el conjunto de datos de prueba.\n",
    "- Objetivo aproximadamente cinco veces mayor."
   ]
  },
  {
   "cell_type": "code",
   "execution_count": 14,
   "metadata": {},
   "outputs": [],
   "source": [
    "       # <Tu código va aquí>"
   ]
  },
  {
   "cell_type": "markdown",
   "metadata": {},
   "source": [
    "5). Rehaga el análisis predictivo con el conjunto de datos de entrenamiento aumentado.\n",
    "- Utilice el mismo algoritmo que en el paso 2).\n",
    "- Calcule la precisión.\n",
    "- ¿Ha aumentado la precisión?"
   ]
  },
  {
   "cell_type": "code",
   "execution_count": 15,
   "metadata": {},
   "outputs": [],
   "source": [
    "       # <Tu código va aquí>"
   ]
  }
 ],
 "metadata": {
  "kernelspec": {
   "display_name": "Python 3",
   "language": "python",
   "name": "python3"
  },
  "language_info": {
   "codemirror_mode": {
    "name": "ipython",
    "version": 3
   },
   "file_extension": ".py",
   "mimetype": "text/x-python",
   "name": "python",
   "nbconvert_exporter": "python",
   "pygments_lexer": "ipython3",
   "version": "3.8.8"
  }
 },
 "nbformat": 4,
 "nbformat_minor": 2
}
