{
 "cells": [
  {
   "cell_type": "markdown",
   "metadata": {},
   "source": [
    "## Prueba #0402"
   ]
  },
  {
   "cell_type": "markdown",
   "metadata": {},
   "source": [
    "### \"Solución MCO\""
   ]
  },
  {
   "cell_type": "code",
   "execution_count": 1,
   "metadata": {},
   "outputs": [],
   "source": [
    "import numpy as np\n",
    "import pandas as pd"
   ]
  },
  {
   "cell_type": "markdown",
   "metadata": {},
   "source": [
    "#### Responda la siguiente pregunta proporcionando el código Python:\n",
    "<br>\n",
    "study = una matriz que contiene las horas de estudio. Esta es la variable explicativa. <br>\n",
    "score = una matriz que contiene las puntuaciones de las pruebas. Esta es la variable de respuesta."
   ]
  },
  {
   "cell_type": "code",
   "execution_count": 2,
   "metadata": {},
   "outputs": [],
   "source": [
    "study = np.array([ 3, 4.5, 6, 1.2, 2, 6.9, 6.7, 5.5]).reshape(-1,1)\n",
    "score = np.array([ 88, 85, 90, 80, 81, 92, 95, 90]).reshape(-1,1)"
   ]
  },
  {
   "cell_type": "markdown",
   "metadata": {},
   "source": [
    "1). Defina la clase 'linerRegression' para que coincida con el resultado que se muestra a continuación:"
   ]
  },
  {
   "cell_type": "code",
   "execution_count": 3,
   "metadata": {},
   "outputs": [],
   "source": [
    "class linearRegression:\n",
    "    def __init__(self):\n",
    "        self.coeficientes = []\n",
    "        self.intercept = None\n",
    "        self.coef= None\n",
    "        self.rr = None\n",
    "          \n",
    "        \n",
    "    def train(self, input_X, input_Y):\n",
    "        n,m = input_X.shape\n",
    "        x0 = np.ones((n,1))\n",
    "        X = np.concatenate((x0,input_X), axis=1)\n",
    "\n",
    "        # Calculo beta = ((X^t * X)^-1 * X^t) * y\n",
    "        beta = np.dot(np.dot(np.linalg.inv(np.dot(X.T, X)), X.T), input_Y)\n",
    "        self.coeficientes = beta\n",
    "        \n",
    "        # Como es lineal se que solo tiene dos coeficientes b0 y b1\n",
    "        for i in range(len(self.coeficientes)):\n",
    "            self.intercept = beta[i-1]\n",
    "            self.coef = beta[i]\n",
    "        \n",
    "        # Calculo del R^2 usando la y predicha y la y real \n",
    "        Y_pred = self.intercept + input_X *self.coef      # y = b0 + X·b1\n",
    "        corr_matrix = np.corrcoef(input_Y.T, Y_pred.T)    # matriz de correlacion \n",
    "        r = corr_matrix[0,1]                              # valor de [o,1] de la matrix -> r\n",
    "        rr = r**2                                         # r^2\n",
    "        self.rr = rr\n",
    "    \n",
    "    def output(self):\n",
    "        # creo el DataFrame de salida, con los datos \n",
    "        df = pd.DataFrame(self.coeficientes,index=['Intercept','X1'],columns=['Coefficient'])\n",
    "        print(df)\n",
    "        print('-'*30)        \n",
    "        print('R^2 : ', np.round(self.rr,6))\n",
    "        \n",
    "            "
   ]
  },
  {
   "cell_type": "code",
   "execution_count": 4,
   "metadata": {},
   "outputs": [
    {
     "name": "stdout",
     "output_type": "stream",
     "text": [
      "           Coefficient\n",
      "Intercept    77.684670\n",
      "X1            2.221303\n",
      "------------------------------\n",
      "R^2 :  0.845842\n"
     ]
    }
   ],
   "source": [
    "LR = linearRegression()                    # Crea un objeto de regresión lineal.\n",
    "LR.train(study, score)                     # Entrenar.\n",
    "LR.output()                                # Muestra e resultado de entrenamiento."
   ]
  },
  {
   "cell_type": "markdown",
   "metadata": {},
   "source": [
    "**Ejecución:**"
   ]
  },
  {
   "cell_type": "code",
   "execution_count": 5,
   "metadata": {},
   "outputs": [
    {
     "name": "stdout",
     "output_type": "stream",
     "text": [
      "           Coefficient\n",
      "Intercept    77.684670\n",
      "X1            2.221303\n",
      "------------------------------\n",
      "R^2 :  0.845842\n"
     ]
    }
   ],
   "source": [
    "LR = linearRegression()                    # Crea un objeto de regresión lineal.\n",
    "LR.train(study, score)                     # Entrenar.\n",
    "LR.output()                                # Muestra el resultado del entrenamiento."
   ]
  },
  {
   "cell_type": "code",
   "execution_count": null,
   "metadata": {},
   "outputs": [],
   "source": []
  }
 ],
 "metadata": {
  "kernelspec": {
   "display_name": "Python 3",
   "language": "python",
   "name": "python3"
  },
  "language_info": {
   "codemirror_mode": {
    "name": "ipython",
    "version": 3
   },
   "file_extension": ".py",
   "mimetype": "text/x-python",
   "name": "python",
   "nbconvert_exporter": "python",
   "pygments_lexer": "ipython3",
   "version": "3.8.8"
  }
 },
 "nbformat": 4,
 "nbformat_minor": 2
}
