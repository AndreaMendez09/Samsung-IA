{
 "cells": [
  {
   "cell_type": "markdown",
   "metadata": {},
   "source": [
    "## Prueba #0501"
   ]
  },
  {
   "cell_type": "markdown",
   "metadata": {},
   "source": [
    "### \"Regresión Logísitica y algoritmo de Gradiente Descendente\""
   ]
  },
  {
   "cell_type": "markdown",
   "metadata": {},
   "source": [
    "#### Responda las siguientes preguntas proporcionando código Python:\n",
    "#### Objetivos:\n",
    "- Codifique una clase de regresión logística utilizando solo la biblioteca NumPy.\n",
    "- Implementar en Python la función Sigmoid.\n",
    "- Implementar en Python el Gradiente de la probabilidad logarítmica.\n",
    "- Implementar en Python el algoritmo de gradiente descendente."
   ]
  },
  {
   "cell_type": "code",
   "execution_count": 1,
   "metadata": {},
   "outputs": [],
   "source": [
    "import numpy as np\n",
    "import pandas as pd\n",
    "from sklearn.datasets import load_breast_cancer\n",
    "from sklearn.model_selection import train_test_split"
   ]
  },
  {
   "cell_type": "markdown",
   "metadata": {},
   "source": [
    "#### Leer los datos:"
   ]
  },
  {
   "cell_type": "code",
   "execution_count": 15,
   "metadata": {},
   "outputs": [
    {
     "name": "stdout",
     "output_type": "stream",
     "text": [
      "30\n"
     ]
    }
   ],
   "source": [
    "# Cargar los datos\n",
    "data = load_breast_cancer()\n",
    "# Variables explicativas\n",
    "X = data['data']\n",
    "# Volver a etquetar para que 0 = 'benign' y 1 = malignant.\n",
    "Y = 1 - data['target']\n"
   ]
  },
  {
   "cell_type": "code",
   "execution_count": 3,
   "metadata": {},
   "outputs": [],
   "source": [
    "# Dividir el conjunto de datos en entrenamiento y prueba.\n",
    "X_train, X_test, Y_train, Y_test = train_test_split(X, Y, test_size=0.4, random_state=1234)"
   ]
  },
  {
   "cell_type": "markdown",
   "metadata": {},
   "source": [
    "1). Defina las funciones 'sigmoide' y 'gradiente' para producir el resultado que se muestra a continuación:"
   ]
  },
  {
   "cell_type": "code",
   "execution_count": 4,
   "metadata": {},
   "outputs": [],
   "source": [
    "def sigmoid(x):\n",
    "    return 1 / (1 + np.exp(-x))\n",
    "    \n",
    "def gradient(X, Y, beta):\n",
    "    z = np.dot(X,beta.T)*Y\n",
    "    ds = -Y*(1-sigmoid(z))*X\n",
    "    return ds.sum(axis=0)"
   ]
  },
  {
   "cell_type": "markdown",
   "metadata": {},
   "source": [
    "2). Defina la clase 'LogisticRegression' para producir el resultado que se muestra a continuación:"
   ]
  },
  {
   "cell_type": "code",
   "execution_count": 5,
   "metadata": {},
   "outputs": [],
   "source": [
    "class LogisticRegression:\n",
    "    def __init__(self, learn_rate):\n",
    "        self.learning_rate = learn_rate \n",
    "        self.beta = None\n",
    "        \n",
    "    def train(self, input_X, input_Y, n_epochs):\n",
    "        ones_column = np.ones((input_X.shape[0],1))                # Columna de 1s\n",
    "        X = np.concatenate((ones_column, input_X), axis=1)\n",
    "        Y = (2*input_Y -1).reshape(-1,1)                          # convertir : y=0 o 1 en y = -1 o 1\n",
    "        \n",
    "        n = X.shape[0]\n",
    "        m = X.shape[1]\n",
    "        self.beta = np.zeros([1,m])\n",
    "        #self.beta = np.ones([1,m])\n",
    "\n",
    "        # Calculo de las betas\n",
    "        for i in range(n_epochs):\n",
    "            self.beta = self.beta - self.learning_rate*gradient(X,Y,self.beta)\n",
    "        return self.beta               \n",
    "     \n",
    "        # Calclulo de la prediccion \n",
    "    def query(self, input_X, prob=True, cutoff=0.5):\n",
    "        ones_column = np.ones((input_X.shape[0],1))\n",
    "        X = np.concatenate((ones_column, input_X), axis=1)\n",
    "        model = np.dot(X,self.beta.T)\n",
    "        Y_pred = sigmoid(model)\n",
    "        \n",
    "        # valores de Y_pred en función de prob y cutoff\n",
    "        if prob == True:\n",
    "            return Y_pred\n",
    "        else: \n",
    "            return (Y_pred > cutoff) \n"
   ]
  },
  {
   "cell_type": "code",
   "execution_count": 6,
   "metadata": {},
   "outputs": [],
   "source": [
    "# Hiperparámetro para el regresor.\n",
    "learning_rate = 0.001"
   ]
  },
  {
   "cell_type": "code",
   "execution_count": 7,
   "metadata": {},
   "outputs": [
    {
     "name": "stderr",
     "output_type": "stream",
     "text": [
      "<ipython-input-4-c17d6434ef7b>:2: RuntimeWarning: overflow encountered in exp\n",
      "  return 1 / (1 + np.exp(-x))\n"
     ]
    }
   ],
   "source": [
    "# Entrenar y predecir.\n",
    "LR = LogisticRegression(learning_rate)\n",
    "LR.train(X_train, Y_train, 2000)\n",
    "Y_pred = LR.query(X_test,prob=False,cutoff=0.5)"
   ]
  },
  {
   "cell_type": "code",
   "execution_count": 8,
   "metadata": {
    "scrolled": true
   },
   "outputs": [
    {
     "name": "stdout",
     "output_type": "stream",
     "text": [
      "Accuracy : 0.912\n"
     ]
    }
   ],
   "source": [
    "# Mostrar la exactitud\n",
    "acc = (Y_pred == Y_test.reshape(-1,1)).mean()\n",
    "print('Accuracy : {}'.format(np.round(acc,3)))"
   ]
  },
  {
   "cell_type": "markdown",
   "metadata": {},
   "source": [
    "#### Ejecutar:"
   ]
  },
  {
   "cell_type": "code",
   "execution_count": 9,
   "metadata": {},
   "outputs": [],
   "source": [
    "# Hiperparámetro para el regresor.\n",
    "learning_rate = 0.001"
   ]
  },
  {
   "cell_type": "code",
   "execution_count": 10,
   "metadata": {},
   "outputs": [
    {
     "name": "stderr",
     "output_type": "stream",
     "text": [
      "<ipython-input-4-c17d6434ef7b>:2: RuntimeWarning: overflow encountered in exp\n",
      "  return 1 / (1 + np.exp(-x))\n"
     ]
    }
   ],
   "source": [
    "# Entrenar y predecir.\n",
    "LR = LogisticRegression(learning_rate)\n",
    "LR.train(X_train, Y_train, 2000)\n",
    "Y_pred = LR.query(X_test,prob=False,cutoff=0.5)"
   ]
  },
  {
   "cell_type": "code",
   "execution_count": 11,
   "metadata": {},
   "outputs": [
    {
     "name": "stdout",
     "output_type": "stream",
     "text": [
      "Accuracy : 0.912\n"
     ]
    }
   ],
   "source": [
    "# Mostrar la exactitud\n",
    "acc = (Y_pred == Y_test.reshape(-1,1)).mean()\n",
    "print('Accuracy : {}'.format(np.round(acc,3)))"
   ]
  },
  {
   "cell_type": "code",
   "execution_count": null,
   "metadata": {},
   "outputs": [],
   "source": []
  }
 ],
 "metadata": {
  "kernelspec": {
   "display_name": "Python 3",
   "language": "python",
   "name": "python3"
  },
  "language_info": {
   "codemirror_mode": {
    "name": "ipython",
    "version": 3
   },
   "file_extension": ".py",
   "mimetype": "text/x-python",
   "name": "python",
   "nbconvert_exporter": "python",
   "pygments_lexer": "ipython3",
   "version": "3.8.8"
  }
 },
 "nbformat": 4,
 "nbformat_minor": 2
}
