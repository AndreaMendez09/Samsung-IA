{
 "cells": [
  {
   "cell_type": "markdown",
   "metadata": {},
   "source": [
    "## Prueba #0101"
   ]
  },
  {
   "cell_type": "markdown",
   "metadata": {},
   "source": [
    "#### Provide the answers in Python code:"
   ]
  },
  {
   "cell_type": "markdown",
   "metadata": {},
   "source": [
    "1).  En la clase A, las alturas de los estudiantes son:\n",
    "\n",
    "161.5 <br>\n",
    "165.9 <br>\n",
    "168.7 <br>\n",
    "163.1 <br>\n",
    "170.8 <br>\n",
    "167.2 <br>\n",
    "\n",
    "Calcular la altura media utilizando 'list' y el bucle 'for' de Python:"
   ]
  },
  {
   "cell_type": "code",
   "execution_count": 3,
   "metadata": {},
   "outputs": [
    {
     "name": "stdout",
     "output_type": "stream",
     "text": [
      "166.20000000000002\n"
     ]
    }
   ],
   "source": [
    "list_a = [161.5, 165.9, 168.7, 163.1, 170.8, 167.2]\n",
    "suma = 0\n",
    "i = 0\n",
    "for elemento in list_a:\n",
    "    suma += elemento\n",
    "    i += 1\n",
    "media = suma / i\n",
    "print(media)\n"
   ]
  },
  {
   "cell_type": "markdown",
   "metadata": {},
   "source": [
    "2).  En la clase B, las alturas de los estudiantes son:\n",
    "\n",
    "172.5 <br>\n",
    "162.9 <br>\n",
    "161.7 <br>\n",
    "160.1 <br>\n",
    "161.8 <br>\n",
    "169.2 <br>\n",
    "\n",
    "Calcular la altura media utilizando 'list' y el bucle 'for' de Python:"
   ]
  },
  {
   "cell_type": "code",
   "execution_count": 2,
   "metadata": {},
   "outputs": [
    {
     "name": "stdout",
     "output_type": "stream",
     "text": [
      "164.70000000000002\n"
     ]
    }
   ],
   "source": [
    "list_b = [172.5, 162.9, 161.7, 160.1, 161.8, 169.2]\n",
    "suma = 0\n",
    "i = 0\n",
    "for elemento in list_b:\n",
    "    suma += elemento\n",
    "    i += 1\n",
    "media = suma / i\n",
    "print(media)"
   ]
  },
  {
   "cell_type": "markdown",
   "metadata": {},
   "source": [
    "3). La clase A y la clase B se unen para formar la clase AB. Calcule la altura media utilizando 'list' y el bucle 'for' de Python:"
   ]
  },
  {
   "cell_type": "code",
   "execution_count": 3,
   "metadata": {},
   "outputs": [
    {
     "name": "stdout",
     "output_type": "stream",
     "text": [
      "165.45000000000002\n"
     ]
    }
   ],
   "source": [
    "list_ab =  [161.5, 165.9, 168.7, 163.1, 170.8, 167.2, 172.5, 162.9, 161.7, 160.1, 161.8, 169.2]\n",
    "suma = 0\n",
    "i = 0\n",
    "for elemento in list_ab:\n",
    "    suma += elemento\n",
    "    i += 1\n",
    "media = suma / i\n",
    "print(media)\n"
   ]
  },
  {
   "cell_type": "markdown",
   "metadata": {},
   "source": [
    "4). Ordenar las alturas de la clase AB."
   ]
  },
  {
   "cell_type": "code",
   "execution_count": 4,
   "metadata": {},
   "outputs": [
    {
     "data": {
      "text/plain": [
       "[160.1,\n",
       " 161.5,\n",
       " 161.7,\n",
       " 161.8,\n",
       " 162.9,\n",
       " 163.1,\n",
       " 165.9,\n",
       " 167.2,\n",
       " 168.7,\n",
       " 169.2,\n",
       " 170.8,\n",
       " 172.5]"
      ]
     },
     "execution_count": 4,
     "metadata": {},
     "output_type": "execute_result"
    }
   ],
   "source": [
    "mi_lista = [161.5,165.9,168.7,163.1,170.8,167.2,172.5,162.9,161.7,160.1,161.8,169.2]\n",
    "sorted(mi_lista)"
   ]
  },
  {
   "cell_type": "markdown",
   "metadata": {},
   "source": [
    "5). La clase C se forma con estudiantes con una altura inferior a 165. Haga una lista que contenga las alturas de la clase C."
   ]
  },
  {
   "cell_type": "code",
   "execution_count": 5,
   "metadata": {},
   "outputs": [
    {
     "name": "stdout",
     "output_type": "stream",
     "text": [
      "165.9\n",
      "168.7\n",
      "170.8\n",
      "167.2\n",
      "172.5\n",
      "169.2\n"
     ]
    }
   ],
   "source": [
    "lista_ab =  [161.5,165.9,168.7,163.1,170.8,167.2,172.5,162.9,161.7,160.1,161.8,169.2]\n",
    "#lista_c = []\n",
    "for elemento in lista_ab:\n",
    "    if elemento < 165:\n",
    "        continue\n",
    "    print (elemento) #lista_c.append(elemento)\n",
    "#La ejecución esta bien, pero el ejercicio te pide que saques una lista, solo faltaría las líneas que te he dejado comentadas"
   ]
  },
  {
   "cell_type": "markdown",
   "metadata": {},
   "source": [
    "6). La clase D se forma con estudiantes con una altura mayor que 160 y menor que 170. Haga una lista que contenga las alturas de la clase D."
   ]
  },
  {
   "cell_type": "code",
   "execution_count": 6,
   "metadata": {},
   "outputs": [
    {
     "name": "stdout",
     "output_type": "stream",
     "text": [
      "161.5\n",
      "165.9\n",
      "168.7\n",
      "163.1\n",
      "167.2\n",
      "162.9\n",
      "161.7\n",
      "160.1\n",
      "161.8\n",
      "169.2\n"
     ]
    }
   ],
   "source": [
    "lista_ab =  [161.5,165.9,168.7,163.1,170.8,167.2,172.5,162.9,161.7,160.1,161.8,169.2]\n",
    "#lista_d = []\n",
    "for elemento in lista_ab:\n",
    "    if 160 < elemento > 170:\n",
    "        continue \n",
    "    print (elemento)#lista_d.append(elemento)\n",
    "#Lo mismo que en la anterior!, lo demás muy bien"
   ]
  },
  {
   "cell_type": "code",
   "execution_count": null,
   "metadata": {},
   "outputs": [],
   "source": []
  }
 ],
 "metadata": {
  "kernelspec": {
   "display_name": "Python 3",
   "language": "python",
   "name": "python3"
  },
  "language_info": {
   "codemirror_mode": {
    "name": "ipython",
    "version": 3
   },
   "file_extension": ".py",
   "mimetype": "text/x-python",
   "name": "python",
   "nbconvert_exporter": "python",
   "pygments_lexer": "ipython3",
   "version": "3.8.8"
  }
 },
 "nbformat": 4,
 "nbformat_minor": 2
}
