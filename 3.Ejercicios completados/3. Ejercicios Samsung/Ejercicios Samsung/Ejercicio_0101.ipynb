{
 "cells": [
  {
   "cell_type": "markdown",
   "id": "c53dc83b",
   "metadata": {},
   "source": [
    "## Ejercicio de codificación #0101"
   ]
  },
  {
   "cell_type": "markdown",
   "id": "aeae6e24",
   "metadata": {},
   "source": [
    "### 1.Ejemplos de Markdown:\n",
    "\n",
    "# Título 1\n",
    "## Título 2\n",
    "### Título 3\n",
    "#### Título 4\n",
    "\n",
    "[Google](www.google.es)\n",
    "\n",
    "*letra italica*\n",
    "** letra en negrita **"
   ]
  },
  {
   "cell_type": "markdown",
   "id": "a782e504",
   "metadata": {},
   "source": [
    "Una expresión en LaTex: $Area = \\pi r^2$ <br>\n",
    "Otra expresión en LaTex: $P (x) = \\int_{-\\infty}^x f(x) dx$ <br>"
   ]
  },
  {
   "cell_type": "markdown",
   "id": "63d1980d",
   "metadata": {},
   "source": [
    "La siguiente es una lista de items:\n",
    "- Un item.\n",
    "- Dos item.\n",
    "- Tres item.\n"
   ]
  },
  {
   "cell_type": "markdown",
   "id": "88fad8e9",
   "metadata": {},
   "source": [
    "> Esta es una cita.\n",
    "-----\n",
    "> Otra cita después de una líne horizontal."
   ]
  },
  {
   "cell_type": "markdown",
   "id": "1bbcd5c1",
   "metadata": {},
   "source": [
    "## 2. Python, vista rápida:"
   ]
  },
  {
   "cell_type": "code",
   "execution_count": 1,
   "id": "098ed234",
   "metadata": {},
   "outputs": [
    {
     "name": "stdout",
     "output_type": "stream",
     "text": [
      "Hello World!\n"
     ]
    }
   ],
   "source": [
    "# Imprime Hello World!\n",
    "print ('Hello World!')"
   ]
  },
  {
   "cell_type": "code",
   "execution_count": 2,
   "id": "ef8067d5",
   "metadata": {},
   "outputs": [
    {
     "data": {
      "text/plain": [
       "2"
      ]
     },
     "execution_count": 2,
     "metadata": {},
     "output_type": "execute_result"
    }
   ],
   "source": [
    "# Aritmética simple\n",
    "1+1"
   ]
  },
  {
   "cell_type": "code",
   "execution_count": 3,
   "id": "ae0cf77a",
   "metadata": {},
   "outputs": [
    {
     "data": {
      "text/plain": [
       "1.3333333333333333"
      ]
     },
     "execution_count": 3,
     "metadata": {},
     "output_type": "execute_result"
    }
   ],
   "source": [
    "4/3"
   ]
  },
  {
   "cell_type": "code",
   "execution_count": 4,
   "id": "6ef4d2c8",
   "metadata": {},
   "outputs": [
    {
     "data": {
      "text/plain": [
       "1"
      ]
     },
     "execution_count": 4,
     "metadata": {},
     "output_type": "execute_result"
    }
   ],
   "source": [
    "# División entera.\n",
    "4//3"
   ]
  },
  {
   "cell_type": "code",
   "execution_count": 5,
   "id": "82307320",
   "metadata": {},
   "outputs": [
    {
     "name": "stdout",
     "output_type": "stream",
     "text": [
      "15\n"
     ]
    }
   ],
   "source": [
    "# Variable\n",
    "x = 3\n",
    "print (x * 5)"
   ]
  },
  {
   "cell_type": "code",
   "execution_count": 6,
   "id": "faa4224e",
   "metadata": {},
   "outputs": [
    {
     "name": "stdout",
     "output_type": "stream",
     "text": [
      "1\n",
      "2\n",
      "3\n",
      "4\n",
      "5\n"
     ]
    }
   ],
   "source": [
    "# Iteración\n",
    "for x in [1, 2, 3, 4, 5]:\n",
    "    print(x)"
   ]
  },
  {
   "cell_type": "code",
   "execution_count": 8,
   "id": "f1994b98",
   "metadata": {},
   "outputs": [
    {
     "name": "stdout",
     "output_type": "stream",
     "text": [
      "x es menor que 10\n"
     ]
    }
   ],
   "source": [
    "#Estructura condicional\n",
    "x = 7\n",
    "if x < 10:\n",
    "    print('x es menor que 10')\n",
    "else:\n",
    "    print('x es mayor que 10')"
   ]
  }
 ],
 "metadata": {
  "kernelspec": {
   "display_name": "Python 3",
   "language": "python",
   "name": "python3"
  },
  "language_info": {
   "codemirror_mode": {
    "name": "ipython",
    "version": 3
   },
   "file_extension": ".py",
   "mimetype": "text/x-python",
   "name": "python",
   "nbconvert_exporter": "python",
   "pygments_lexer": "ipython3",
   "version": "3.8.8"
  }
 },
 "nbformat": 4,
 "nbformat_minor": 5
}
