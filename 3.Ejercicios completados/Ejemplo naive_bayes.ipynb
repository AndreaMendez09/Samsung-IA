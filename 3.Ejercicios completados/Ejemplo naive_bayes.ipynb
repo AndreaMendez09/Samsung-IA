{
 "cells": [
  {
   "cell_type": "code",
   "execution_count": null,
   "id": "fe4f371d",
   "metadata": {},
   "outputs": [],
   "source": [
    "def compute_probabilidad_atributo(xk, k, c, X, T, margen = 0.3):\n",
    "    exito = 0.0\n",
    "    totales = 0.0\n",
    "\n",
    "    for i in range(len(X)):\n",
    "        if T[i] == c:\n",
    "            totales = totales + 1\n",
    "            #if X[i][k] == xk:\n",
    "            if abs(X[i][k] - xk) < margen:\n",
    "                exito = exito + 1\n",
    "\n",
    "    return exito/totales\n",
    "\n",
    "def compute_probabilidad_clase(c, T):\n",
    "    exito = 0.0\n",
    "\n",
    "    for t in T:\n",
    "        if t == c:\n",
    "            exito = exito + 1\n",
    "\n",
    "    return exito/len(T)\n",
    "\n",
    "def naive_bayes(x, X, T, clases, margen = 0.3):\n",
    "    probabilidades = []\n",
    "\n",
    "    for c in clases:\n",
    "        producto = compute_probabilidad_clase(c, T)\n",
    "        for k in range(len(x)):\n",
    "            producto = producto * compute_probabilidad_atributo(x[k], k, c, X, T, margen)\n",
    "\n",
    "        probabilidades.append(producto)\n",
    "\n",
    "    return probabilidades\n",
    "    "
   ]
  }
 ],
 "metadata": {
  "kernelspec": {
   "display_name": "Python 3",
   "language": "python",
   "name": "python3"
  },
  "language_info": {
   "codemirror_mode": {
    "name": "ipython",
    "version": 3
   },
   "file_extension": ".py",
   "mimetype": "text/x-python",
   "name": "python",
   "nbconvert_exporter": "python",
   "pygments_lexer": "ipython3",
   "version": "3.8.8"
  }
 },
 "nbformat": 4,
 "nbformat_minor": 5
}
