{
 "cells": [
  {
   "cell_type": "markdown",
   "id": "faf5d9c9",
   "metadata": {},
   "source": [
    "# Planificación del proyecto <a name=\"Planificacion\"></a>"
   ]
  },
  {
   "cell_type": "markdown",
   "id": "a592b504",
   "metadata": {},
   "source": [
    "* [Planificación del proyecto](#Planificacion)\n",
    "* [Entenidimiento del negocio](#Entenidimiento)\n",
    "* [Comprensión de los datos](#Comprension)\n",
    "    * [Importamos librerias](#Importamos)\n",
    "    * [Cargamos el dataset](#Cargamos)\n",
    "* [Preparación de los datos](#Preparacion)\n",
    "* [Modelado Machinel Learning](#ModeladoML)\n",
    "    * [Linear Regression](#LinearR)\n",
    "        * [Ridge Regression](#Ridge)\n",
    "* [Modelado Machinel Learning](#ModeladoDL)\n",
    "* [Evaluación](#Evaluacion)\n",
    "* [Subir el modelo a Kaggle](#Subir)"
   ]
  },
  {
   "cell_type": "markdown",
   "id": "177656ea",
   "metadata": {},
   "source": [
    "## Entenidimiento del negocio <a name=\"Entenidimiento\"></a>"
   ]
  },
  {
   "cell_type": "markdown",
   "id": "5edce474",
   "metadata": {},
   "source": [
    "En esta práctica se deben estimar los costes médidos de diferentes pacientes usando un modelo de Machine Learning, dicha practica se podrá constrastar con las compañeras en la competición de Kaggle.\n",
    "https://www.kaggle.com/c/estimacin-de-costes-mdicos-sic-ed2-2021/overview"
   ]
  },
  {
   "cell_type": "markdown",
   "id": "a453aae4",
   "metadata": {},
   "source": [
    "## Comprensión de los datos <a name=\"Comprension\"></a>"
   ]
  },
  {
   "cell_type": "markdown",
   "id": "8d434f93",
   "metadata": {},
   "source": [
    "Nos han dado dos ficheros csv divididos en test y train.\n",
    "Las columnas que contienen son las siguientes:\n",
    "- id: columna identificativa para PK\n",
    "- age: edad del principal beneficiario del seguro médico.\n",
    "- sex: sexo del tomador del seguro médico.\n",
    "- bmi: indice de masa corporal.\n",
    "- children: número de hijos cubiertos por el seguro médico / número de descendientes.\n",
    "- smoker: fumador.\n",
    "- region: área residencial del beneficiario del seguro médico.\n",
    "- charges: costes médicos cargados a la aseguradora. Dicha columna no la tiene test.\n",
    "\n",
    "A continuación cargaremos los datos para su correspondiente procesamiento."
   ]
  },
  {
   "cell_type": "markdown",
   "id": "a2dba195",
   "metadata": {},
   "source": [
    "### Importamos librerias <a name=\"Importamos\"></a>"
   ]
  },
  {
   "cell_type": "code",
   "execution_count": 84,
   "id": "b69f1ad7",
   "metadata": {},
   "outputs": [],
   "source": [
    "import pandas as pd\n",
    "import numpy as np\n",
    "\n",
    "from sklearn import datasets,decomposition\n",
    "from sklearn import metrics, preprocessing\n",
    "from sklearn.metrics import r2_score\n",
    "from sklearn.model_selection import GridSearchCV, train_test_split, cross_val_score\n",
    "from sklearn.linear_model import LinearRegression, Ridge, BayesianRidge\n",
    "from sklearn.preprocessing import StandardScaler, MinMaxScaler, PolynomialFeatures\n",
    "from sklearn.pipeline import Pipeline\n",
    "\n",
    "import keras\n",
    "from keras.models import Sequential\n",
    "from keras.layers import Dense\n",
    "from keras.wrappers.scikit_learn import KerasRegressor\n",
    "from keras.optimizers import adam_v2\n"
   ]
  },
  {
   "cell_type": "markdown",
   "id": "7301e4fd",
   "metadata": {},
   "source": [
    "### Cargamos el dataset <a name=\"Cargamos\"></a>"
   ]
  },
  {
   "cell_type": "markdown",
   "id": "980fa6bb",
   "metadata": {},
   "source": [
    "En este caso tenemos el dataset dividido en dos ficheros, la parte de entrenamiento en _train.csv_ y la parte de validación en _test.csv_, por lo tanto creamos dos variables para ellos y hacemos drop de la PK ya que no es necesaria."
   ]
  },
  {
   "cell_type": "code",
   "execution_count": 21,
   "id": "6dfe1436",
   "metadata": {},
   "outputs": [
    {
     "data": {
      "text/html": [
       "<div>\n",
       "<style scoped>\n",
       "    .dataframe tbody tr th:only-of-type {\n",
       "        vertical-align: middle;\n",
       "    }\n",
       "\n",
       "    .dataframe tbody tr th {\n",
       "        vertical-align: top;\n",
       "    }\n",
       "\n",
       "    .dataframe thead th {\n",
       "        text-align: right;\n",
       "    }\n",
       "</style>\n",
       "<table border=\"1\" class=\"dataframe\">\n",
       "  <thead>\n",
       "    <tr style=\"text-align: right;\">\n",
       "      <th></th>\n",
       "      <th>id</th>\n",
       "      <th>age</th>\n",
       "      <th>sex</th>\n",
       "      <th>bmi</th>\n",
       "      <th>children</th>\n",
       "      <th>smoker</th>\n",
       "      <th>region</th>\n",
       "      <th>charges</th>\n",
       "    </tr>\n",
       "  </thead>\n",
       "  <tbody>\n",
       "    <tr>\n",
       "      <th>0</th>\n",
       "      <td>1229</td>\n",
       "      <td>58</td>\n",
       "      <td>male</td>\n",
       "      <td>30.305</td>\n",
       "      <td>0</td>\n",
       "      <td>no</td>\n",
       "      <td>northeast</td>\n",
       "      <td>11938.25595</td>\n",
       "    </tr>\n",
       "    <tr>\n",
       "      <th>1</th>\n",
       "      <td>1073</td>\n",
       "      <td>54</td>\n",
       "      <td>female</td>\n",
       "      <td>28.880</td>\n",
       "      <td>2</td>\n",
       "      <td>no</td>\n",
       "      <td>northeast</td>\n",
       "      <td>12096.65120</td>\n",
       "    </tr>\n",
       "    <tr>\n",
       "      <th>2</th>\n",
       "      <td>768</td>\n",
       "      <td>64</td>\n",
       "      <td>female</td>\n",
       "      <td>39.700</td>\n",
       "      <td>0</td>\n",
       "      <td>no</td>\n",
       "      <td>southwest</td>\n",
       "      <td>14319.03100</td>\n",
       "    </tr>\n",
       "    <tr>\n",
       "      <th>3</th>\n",
       "      <td>606</td>\n",
       "      <td>27</td>\n",
       "      <td>female</td>\n",
       "      <td>25.175</td>\n",
       "      <td>0</td>\n",
       "      <td>no</td>\n",
       "      <td>northeast</td>\n",
       "      <td>3558.62025</td>\n",
       "    </tr>\n",
       "    <tr>\n",
       "      <th>4</th>\n",
       "      <td>342</td>\n",
       "      <td>60</td>\n",
       "      <td>female</td>\n",
       "      <td>27.550</td>\n",
       "      <td>0</td>\n",
       "      <td>no</td>\n",
       "      <td>northeast</td>\n",
       "      <td>13217.09450</td>\n",
       "    </tr>\n",
       "  </tbody>\n",
       "</table>\n",
       "</div>"
      ],
      "text/plain": [
       "     id  age     sex     bmi  children smoker     region      charges\n",
       "0  1229   58    male  30.305         0     no  northeast  11938.25595\n",
       "1  1073   54  female  28.880         2     no  northeast  12096.65120\n",
       "2   768   64  female  39.700         0     no  southwest  14319.03100\n",
       "3   606   27  female  25.175         0     no  northeast   3558.62025\n",
       "4   342   60  female  27.550         0     no  northeast  13217.09450"
      ]
     },
     "execution_count": 21,
     "metadata": {},
     "output_type": "execute_result"
    }
   ],
   "source": [
    "#Parte para el entrenamiento\n",
    "dataset_train = pd.read_csv('train.csv')\n",
    "#dataset_train = dataset_train.drop('id', 1) # Para el entrenamiento no usamos los ids\n",
    "\n",
    "#Parte para la validacion\n",
    "dataset_test = pd.read_csv('test.csv')\n",
    "#dataset_test = dataset_test.drop('id', 1) # Para la validacion no usamos los ids\n",
    "\n",
    "dataset_train.head()\n",
    "#dataset_test.head()"
   ]
  },
  {
   "cell_type": "markdown",
   "id": "774cfaf4",
   "metadata": {},
   "source": [
    "Podemos comprobar que tenemos tres variables que no son númericas que son ``sex``, ``smoker`` y ``region``. De las cuales ``sex`` y ``smoker`` son variables binarias, a continuación comprobamos los datos que puede tener ``region`` para saber como prepararla en el siguiente paso."
   ]
  },
  {
   "cell_type": "code",
   "execution_count": 22,
   "id": "1a5cea26",
   "metadata": {
    "scrolled": true
   },
   "outputs": [
    {
     "data": {
      "text/plain": [
       "southeast    251\n",
       "northeast    235\n",
       "northwest    231\n",
       "southwest    219\n",
       "Name: region, dtype: int64"
      ]
     },
     "execution_count": 22,
     "metadata": {},
     "output_type": "execute_result"
    }
   ],
   "source": [
    "dataset_train['region'].value_counts()"
   ]
  },
  {
   "cell_type": "code",
   "execution_count": 23,
   "id": "945ccc7f",
   "metadata": {},
   "outputs": [
    {
     "data": {
      "text/plain": [
       "male      481\n",
       "female    455\n",
       "Name: sex, dtype: int64"
      ]
     },
     "execution_count": 23,
     "metadata": {},
     "output_type": "execute_result"
    }
   ],
   "source": [
    "dataset_train['sex'].value_counts()"
   ]
  },
  {
   "cell_type": "code",
   "execution_count": 24,
   "id": "c18dd431",
   "metadata": {},
   "outputs": [
    {
     "data": {
      "text/plain": [
       "no     733\n",
       "yes    203\n",
       "Name: smoker, dtype: int64"
      ]
     },
     "execution_count": 24,
     "metadata": {},
     "output_type": "execute_result"
    }
   ],
   "source": [
    "dataset_train['smoker'].value_counts()"
   ]
  },
  {
   "cell_type": "markdown",
   "id": "762c004a",
   "metadata": {},
   "source": [
    "Comprobamos que en este caso, region tiene cuatro posibilidades, será tratada en la siguiente fase."
   ]
  },
  {
   "cell_type": "markdown",
   "id": "f7382b10",
   "metadata": {},
   "source": [
    "## Preparación de los datos <a name=\"Preparacion\"></a>"
   ]
  },
  {
   "cell_type": "markdown",
   "id": "478e8e58",
   "metadata": {},
   "source": [
    "Para tener todas nuestras variables de forma numerica, pasaremos las mencionadas anteriormente por un **LabelEncoder**."
   ]
  },
  {
   "cell_type": "code",
   "execution_count": 25,
   "id": "a9548f2c",
   "metadata": {},
   "outputs": [
    {
     "data": {
      "text/html": [
       "<div>\n",
       "<style scoped>\n",
       "    .dataframe tbody tr th:only-of-type {\n",
       "        vertical-align: middle;\n",
       "    }\n",
       "\n",
       "    .dataframe tbody tr th {\n",
       "        vertical-align: top;\n",
       "    }\n",
       "\n",
       "    .dataframe thead th {\n",
       "        text-align: right;\n",
       "    }\n",
       "</style>\n",
       "<table border=\"1\" class=\"dataframe\">\n",
       "  <thead>\n",
       "    <tr style=\"text-align: right;\">\n",
       "      <th></th>\n",
       "      <th>id</th>\n",
       "      <th>age</th>\n",
       "      <th>sex</th>\n",
       "      <th>bmi</th>\n",
       "      <th>children</th>\n",
       "      <th>smoker</th>\n",
       "      <th>region</th>\n",
       "      <th>charges</th>\n",
       "    </tr>\n",
       "  </thead>\n",
       "  <tbody>\n",
       "    <tr>\n",
       "      <th>0</th>\n",
       "      <td>1229</td>\n",
       "      <td>58</td>\n",
       "      <td>1</td>\n",
       "      <td>30.305</td>\n",
       "      <td>0</td>\n",
       "      <td>0</td>\n",
       "      <td>0</td>\n",
       "      <td>11938.25595</td>\n",
       "    </tr>\n",
       "    <tr>\n",
       "      <th>1</th>\n",
       "      <td>1073</td>\n",
       "      <td>54</td>\n",
       "      <td>0</td>\n",
       "      <td>28.880</td>\n",
       "      <td>2</td>\n",
       "      <td>0</td>\n",
       "      <td>0</td>\n",
       "      <td>12096.65120</td>\n",
       "    </tr>\n",
       "    <tr>\n",
       "      <th>2</th>\n",
       "      <td>768</td>\n",
       "      <td>64</td>\n",
       "      <td>0</td>\n",
       "      <td>39.700</td>\n",
       "      <td>0</td>\n",
       "      <td>0</td>\n",
       "      <td>3</td>\n",
       "      <td>14319.03100</td>\n",
       "    </tr>\n",
       "    <tr>\n",
       "      <th>3</th>\n",
       "      <td>606</td>\n",
       "      <td>27</td>\n",
       "      <td>0</td>\n",
       "      <td>25.175</td>\n",
       "      <td>0</td>\n",
       "      <td>0</td>\n",
       "      <td>0</td>\n",
       "      <td>3558.62025</td>\n",
       "    </tr>\n",
       "    <tr>\n",
       "      <th>4</th>\n",
       "      <td>342</td>\n",
       "      <td>60</td>\n",
       "      <td>0</td>\n",
       "      <td>27.550</td>\n",
       "      <td>0</td>\n",
       "      <td>0</td>\n",
       "      <td>0</td>\n",
       "      <td>13217.09450</td>\n",
       "    </tr>\n",
       "  </tbody>\n",
       "</table>\n",
       "</div>"
      ],
      "text/plain": [
       "     id  age  sex     bmi  children  smoker  region      charges\n",
       "0  1229   58    1  30.305         0       0       0  11938.25595\n",
       "1  1073   54    0  28.880         2       0       0  12096.65120\n",
       "2   768   64    0  39.700         0       0       3  14319.03100\n",
       "3   606   27    0  25.175         0       0       0   3558.62025\n",
       "4   342   60    0  27.550         0       0       0  13217.09450"
      ]
     },
     "execution_count": 25,
     "metadata": {},
     "output_type": "execute_result"
    }
   ],
   "source": [
    "le = preprocessing.LabelEncoder()\n",
    "# Para la parte de entrenamiento\n",
    "dataset_train['sex'] = le.fit_transform(dataset_train['sex'])\n",
    "dataset_train['smoker'] = le.fit_transform(dataset_train['smoker'])\n",
    "dataset_train['region'] = le.fit_transform(dataset_train['region'])\n",
    "\n",
    "# Para la parte de validación\n",
    "dataset_test['sex'] = le.fit_transform(dataset_test['sex'])\n",
    "dataset_test['smoker'] = le.fit_transform(dataset_test['smoker'])\n",
    "dataset_test['region'] = le.fit_transform(dataset_test['region'])\n",
    "\n",
    "dataset_train.head()"
   ]
  },
  {
   "cell_type": "code",
   "execution_count": 26,
   "id": "47fb483a",
   "metadata": {},
   "outputs": [
    {
     "data": {
      "text/plain": [
       "pandas.core.frame.DataFrame"
      ]
     },
     "execution_count": 26,
     "metadata": {},
     "output_type": "execute_result"
    }
   ],
   "source": [
    "type(dataset_train)"
   ]
  },
  {
   "cell_type": "markdown",
   "id": "6a0215f1",
   "metadata": {},
   "source": [
    "Como vemos a continuación, ha dejado de tener la cadena de texto y ha pasado a tener un número categorico. "
   ]
  },
  {
   "cell_type": "code",
   "execution_count": 27,
   "id": "9c15748e",
   "metadata": {
    "scrolled": true
   },
   "outputs": [
    {
     "data": {
      "text/plain": [
       "2    251\n",
       "0    235\n",
       "1    231\n",
       "3    219\n",
       "Name: region, dtype: int64"
      ]
     },
     "execution_count": 27,
     "metadata": {},
     "output_type": "execute_result"
    }
   ],
   "source": [
    "dataset_train['region'].value_counts()"
   ]
  },
  {
   "cell_type": "code",
   "execution_count": 28,
   "id": "405bcad7",
   "metadata": {},
   "outputs": [
    {
     "data": {
      "text/plain": [
       "1    481\n",
       "0    455\n",
       "Name: sex, dtype: int64"
      ]
     },
     "execution_count": 28,
     "metadata": {},
     "output_type": "execute_result"
    }
   ],
   "source": [
    "dataset_train['sex'].value_counts()"
   ]
  },
  {
   "cell_type": "code",
   "execution_count": 29,
   "id": "0bb0a3ea",
   "metadata": {},
   "outputs": [
    {
     "data": {
      "text/plain": [
       "0    733\n",
       "1    203\n",
       "Name: smoker, dtype: int64"
      ]
     },
     "execution_count": 29,
     "metadata": {},
     "output_type": "execute_result"
    }
   ],
   "source": [
    "dataset_train['smoker'].value_counts()"
   ]
  },
  {
   "cell_type": "markdown",
   "id": "de8132e5",
   "metadata": {},
   "source": [
    "A continuación realizaremos un **MinMaxScaler** para normalizar las variables y que ninguna categoría de una columna tenga más peso que otra, para así entrenar a nuestro modelo correctamente."
   ]
  },
  {
   "cell_type": "code",
   "execution_count": 30,
   "id": "5f32042e",
   "metadata": {},
   "outputs": [
    {
     "data": {
      "text/html": [
       "<div>\n",
       "<style scoped>\n",
       "    .dataframe tbody tr th:only-of-type {\n",
       "        vertical-align: middle;\n",
       "    }\n",
       "\n",
       "    .dataframe tbody tr th {\n",
       "        vertical-align: top;\n",
       "    }\n",
       "\n",
       "    .dataframe thead th {\n",
       "        text-align: right;\n",
       "    }\n",
       "</style>\n",
       "<table border=\"1\" class=\"dataframe\">\n",
       "  <thead>\n",
       "    <tr style=\"text-align: right;\">\n",
       "      <th></th>\n",
       "      <th>age</th>\n",
       "      <th>sex</th>\n",
       "      <th>bmi</th>\n",
       "      <th>children</th>\n",
       "      <th>smoker</th>\n",
       "      <th>region</th>\n",
       "    </tr>\n",
       "  </thead>\n",
       "  <tbody>\n",
       "    <tr>\n",
       "      <th>0</th>\n",
       "      <td>58</td>\n",
       "      <td>1</td>\n",
       "      <td>30.305</td>\n",
       "      <td>0</td>\n",
       "      <td>0</td>\n",
       "      <td>0</td>\n",
       "    </tr>\n",
       "    <tr>\n",
       "      <th>1</th>\n",
       "      <td>54</td>\n",
       "      <td>0</td>\n",
       "      <td>28.880</td>\n",
       "      <td>2</td>\n",
       "      <td>0</td>\n",
       "      <td>0</td>\n",
       "    </tr>\n",
       "    <tr>\n",
       "      <th>2</th>\n",
       "      <td>64</td>\n",
       "      <td>0</td>\n",
       "      <td>39.700</td>\n",
       "      <td>0</td>\n",
       "      <td>0</td>\n",
       "      <td>3</td>\n",
       "    </tr>\n",
       "    <tr>\n",
       "      <th>3</th>\n",
       "      <td>27</td>\n",
       "      <td>0</td>\n",
       "      <td>25.175</td>\n",
       "      <td>0</td>\n",
       "      <td>0</td>\n",
       "      <td>0</td>\n",
       "    </tr>\n",
       "    <tr>\n",
       "      <th>4</th>\n",
       "      <td>60</td>\n",
       "      <td>0</td>\n",
       "      <td>27.550</td>\n",
       "      <td>0</td>\n",
       "      <td>0</td>\n",
       "      <td>0</td>\n",
       "    </tr>\n",
       "    <tr>\n",
       "      <th>...</th>\n",
       "      <td>...</td>\n",
       "      <td>...</td>\n",
       "      <td>...</td>\n",
       "      <td>...</td>\n",
       "      <td>...</td>\n",
       "      <td>...</td>\n",
       "    </tr>\n",
       "    <tr>\n",
       "      <th>931</th>\n",
       "      <td>60</td>\n",
       "      <td>0</td>\n",
       "      <td>32.450</td>\n",
       "      <td>0</td>\n",
       "      <td>1</td>\n",
       "      <td>2</td>\n",
       "    </tr>\n",
       "    <tr>\n",
       "      <th>932</th>\n",
       "      <td>62</td>\n",
       "      <td>0</td>\n",
       "      <td>39.160</td>\n",
       "      <td>0</td>\n",
       "      <td>0</td>\n",
       "      <td>2</td>\n",
       "    </tr>\n",
       "    <tr>\n",
       "      <th>933</th>\n",
       "      <td>55</td>\n",
       "      <td>0</td>\n",
       "      <td>29.830</td>\n",
       "      <td>0</td>\n",
       "      <td>0</td>\n",
       "      <td>0</td>\n",
       "    </tr>\n",
       "    <tr>\n",
       "      <th>934</th>\n",
       "      <td>20</td>\n",
       "      <td>0</td>\n",
       "      <td>33.300</td>\n",
       "      <td>0</td>\n",
       "      <td>0</td>\n",
       "      <td>3</td>\n",
       "    </tr>\n",
       "    <tr>\n",
       "      <th>935</th>\n",
       "      <td>57</td>\n",
       "      <td>1</td>\n",
       "      <td>42.130</td>\n",
       "      <td>1</td>\n",
       "      <td>1</td>\n",
       "      <td>2</td>\n",
       "    </tr>\n",
       "  </tbody>\n",
       "</table>\n",
       "<p>936 rows × 6 columns</p>\n",
       "</div>"
      ],
      "text/plain": [
       "     age  sex     bmi  children  smoker  region\n",
       "0     58    1  30.305         0       0       0\n",
       "1     54    0  28.880         2       0       0\n",
       "2     64    0  39.700         0       0       3\n",
       "3     27    0  25.175         0       0       0\n",
       "4     60    0  27.550         0       0       0\n",
       "..   ...  ...     ...       ...     ...     ...\n",
       "931   60    0  32.450         0       1       2\n",
       "932   62    0  39.160         0       0       2\n",
       "933   55    0  29.830         0       0       0\n",
       "934   20    0  33.300         0       0       3\n",
       "935   57    1  42.130         1       1       2\n",
       "\n",
       "[936 rows x 6 columns]"
      ]
     },
     "execution_count": 30,
     "metadata": {},
     "output_type": "execute_result"
    }
   ],
   "source": [
    "dataset_train.iloc[:,1:-1]"
   ]
  },
  {
   "cell_type": "code",
   "execution_count": 31,
   "id": "73a562a5",
   "metadata": {},
   "outputs": [],
   "source": [
    "# Parte para el entrenamiento\n",
    "sc_train = MinMaxScaler()\n",
    "sc_train.fit(dataset_train.iloc[:,1:-1]) # Se ajusta el reescalador, y omitimos la columna de id, para que no la normalice\n",
    "dataset_train[['age','sex','bmi','children','smoker','region']] = sc_train.transform(dataset_train[['age','sex','bmi','children','smoker','region']])\n",
    "\n",
    "#Parte para validacion\n",
    "sc_test = MinMaxScaler()\n",
    "sc_test.fit(dataset_test.iloc[:,1:]) # Se ajusta el reescalador\n",
    "dataset_test[['age','sex','bmi','children','smoker','region']] = sc_test.transform(dataset_test[['age','sex','bmi','children','smoker','region']])"
   ]
  },
  {
   "cell_type": "code",
   "execution_count": 32,
   "id": "b4d3d0d0",
   "metadata": {},
   "outputs": [
    {
     "data": {
      "text/html": [
       "<div>\n",
       "<style scoped>\n",
       "    .dataframe tbody tr th:only-of-type {\n",
       "        vertical-align: middle;\n",
       "    }\n",
       "\n",
       "    .dataframe tbody tr th {\n",
       "        vertical-align: top;\n",
       "    }\n",
       "\n",
       "    .dataframe thead th {\n",
       "        text-align: right;\n",
       "    }\n",
       "</style>\n",
       "<table border=\"1\" class=\"dataframe\">\n",
       "  <thead>\n",
       "    <tr style=\"text-align: right;\">\n",
       "      <th></th>\n",
       "      <th>id</th>\n",
       "      <th>age</th>\n",
       "      <th>sex</th>\n",
       "      <th>bmi</th>\n",
       "      <th>children</th>\n",
       "      <th>smoker</th>\n",
       "      <th>region</th>\n",
       "      <th>charges</th>\n",
       "    </tr>\n",
       "  </thead>\n",
       "  <tbody>\n",
       "    <tr>\n",
       "      <th>0</th>\n",
       "      <td>1229</td>\n",
       "      <td>0.869565</td>\n",
       "      <td>1.0</td>\n",
       "      <td>0.377184</td>\n",
       "      <td>0.0</td>\n",
       "      <td>0.0</td>\n",
       "      <td>0.000000</td>\n",
       "      <td>11938.25595</td>\n",
       "    </tr>\n",
       "    <tr>\n",
       "      <th>1</th>\n",
       "      <td>1073</td>\n",
       "      <td>0.782609</td>\n",
       "      <td>0.0</td>\n",
       "      <td>0.337341</td>\n",
       "      <td>0.4</td>\n",
       "      <td>0.0</td>\n",
       "      <td>0.000000</td>\n",
       "      <td>12096.65120</td>\n",
       "    </tr>\n",
       "    <tr>\n",
       "      <th>2</th>\n",
       "      <td>768</td>\n",
       "      <td>1.000000</td>\n",
       "      <td>0.0</td>\n",
       "      <td>0.639871</td>\n",
       "      <td>0.0</td>\n",
       "      <td>0.0</td>\n",
       "      <td>1.000000</td>\n",
       "      <td>14319.03100</td>\n",
       "    </tr>\n",
       "    <tr>\n",
       "      <th>3</th>\n",
       "      <td>606</td>\n",
       "      <td>0.195652</td>\n",
       "      <td>0.0</td>\n",
       "      <td>0.233748</td>\n",
       "      <td>0.0</td>\n",
       "      <td>0.0</td>\n",
       "      <td>0.000000</td>\n",
       "      <td>3558.62025</td>\n",
       "    </tr>\n",
       "    <tr>\n",
       "      <th>4</th>\n",
       "      <td>342</td>\n",
       "      <td>0.913043</td>\n",
       "      <td>0.0</td>\n",
       "      <td>0.300154</td>\n",
       "      <td>0.0</td>\n",
       "      <td>0.0</td>\n",
       "      <td>0.000000</td>\n",
       "      <td>13217.09450</td>\n",
       "    </tr>\n",
       "    <tr>\n",
       "      <th>...</th>\n",
       "      <td>...</td>\n",
       "      <td>...</td>\n",
       "      <td>...</td>\n",
       "      <td>...</td>\n",
       "      <td>...</td>\n",
       "      <td>...</td>\n",
       "      <td>...</td>\n",
       "      <td>...</td>\n",
       "    </tr>\n",
       "    <tr>\n",
       "      <th>931</th>\n",
       "      <td>845</td>\n",
       "      <td>0.913043</td>\n",
       "      <td>0.0</td>\n",
       "      <td>0.437159</td>\n",
       "      <td>0.0</td>\n",
       "      <td>1.0</td>\n",
       "      <td>0.666667</td>\n",
       "      <td>45008.95550</td>\n",
       "    </tr>\n",
       "    <tr>\n",
       "      <th>932</th>\n",
       "      <td>928</td>\n",
       "      <td>0.956522</td>\n",
       "      <td>0.0</td>\n",
       "      <td>0.624773</td>\n",
       "      <td>0.0</td>\n",
       "      <td>0.0</td>\n",
       "      <td>0.666667</td>\n",
       "      <td>13470.80440</td>\n",
       "    </tr>\n",
       "    <tr>\n",
       "      <th>933</th>\n",
       "      <td>1091</td>\n",
       "      <td>0.804348</td>\n",
       "      <td>0.0</td>\n",
       "      <td>0.363903</td>\n",
       "      <td>0.0</td>\n",
       "      <td>0.0</td>\n",
       "      <td>0.000000</td>\n",
       "      <td>11286.53870</td>\n",
       "    </tr>\n",
       "    <tr>\n",
       "      <th>934</th>\n",
       "      <td>1268</td>\n",
       "      <td>0.043478</td>\n",
       "      <td>0.0</td>\n",
       "      <td>0.460925</td>\n",
       "      <td>0.0</td>\n",
       "      <td>0.0</td>\n",
       "      <td>1.000000</td>\n",
       "      <td>1880.48700</td>\n",
       "    </tr>\n",
       "    <tr>\n",
       "      <th>935</th>\n",
       "      <td>530</td>\n",
       "      <td>0.847826</td>\n",
       "      <td>1.0</td>\n",
       "      <td>0.707815</td>\n",
       "      <td>0.2</td>\n",
       "      <td>1.0</td>\n",
       "      <td>0.666667</td>\n",
       "      <td>48675.51770</td>\n",
       "    </tr>\n",
       "  </tbody>\n",
       "</table>\n",
       "<p>936 rows × 8 columns</p>\n",
       "</div>"
      ],
      "text/plain": [
       "       id       age  sex       bmi  children  smoker    region      charges\n",
       "0    1229  0.869565  1.0  0.377184       0.0     0.0  0.000000  11938.25595\n",
       "1    1073  0.782609  0.0  0.337341       0.4     0.0  0.000000  12096.65120\n",
       "2     768  1.000000  0.0  0.639871       0.0     0.0  1.000000  14319.03100\n",
       "3     606  0.195652  0.0  0.233748       0.0     0.0  0.000000   3558.62025\n",
       "4     342  0.913043  0.0  0.300154       0.0     0.0  0.000000  13217.09450\n",
       "..    ...       ...  ...       ...       ...     ...       ...          ...\n",
       "931   845  0.913043  0.0  0.437159       0.0     1.0  0.666667  45008.95550\n",
       "932   928  0.956522  0.0  0.624773       0.0     0.0  0.666667  13470.80440\n",
       "933  1091  0.804348  0.0  0.363903       0.0     0.0  0.000000  11286.53870\n",
       "934  1268  0.043478  0.0  0.460925       0.0     0.0  1.000000   1880.48700\n",
       "935   530  0.847826  1.0  0.707815       0.2     1.0  0.666667  48675.51770\n",
       "\n",
       "[936 rows x 8 columns]"
      ]
     },
     "execution_count": 32,
     "metadata": {},
     "output_type": "execute_result"
    }
   ],
   "source": [
    "dataset_train"
   ]
  },
  {
   "cell_type": "code",
   "execution_count": 33,
   "id": "318730d2",
   "metadata": {},
   "outputs": [],
   "source": [
    "#Otra forma de realizar el MinMaxScaler, esta variable no se utilizara en este ejercicio\n",
    "scaler = preprocessing.MinMaxScaler()\n",
    "df = pd.DataFrame(scaler.fit_transform(dataset_train.iloc[:,1:]), columns=['age','sex','bmi','children','smoker','region','charges'], index=dataset_train.id)"
   ]
  },
  {
   "cell_type": "markdown",
   "id": "0621309e",
   "metadata": {},
   "source": [
    "Teniendo el dataset cargado y las variables normalizadas, ahora tendremos que separar la columna a predecir, que en este caso es ``charges`` y dividir nuestro dataset en las variables correspondientes. Tales como:\n",
    "- X_train: Será nuestra fuente de datos para el entrenamiento.\n",
    "- Y_train: Será nuestra fuente de datos de entrenamiento para la variable a predecir.\n",
    "- X_test: Será nuestra fuente de datos de validación, la cual no le ofreceremos la variable a predecir.\n",
    "- Y_test: Será nuestra fuente de datos de validación, sirve para obtener el rendimiento de nuestro modelo."
   ]
  },
  {
   "cell_type": "code",
   "execution_count": 91,
   "id": "55b597f5",
   "metadata": {},
   "outputs": [],
   "source": [
    "#MinMaxScaler nos devuelve un numpy array, lo pasamos a pandas DataFrame para poder trabajar mejor\n",
    "dataset_train = pd.DataFrame(dataset_train)\n",
    "dataset_test = pd.DataFrame(dataset_test)\n",
    "\n",
    "# Se separa la columna a predecir\n",
    "X_train = dataset_train.iloc[:,1:-1] #Ignoramos la columna de Id \n",
    "Y_train = dataset_train.iloc[:,-1]\n",
    "X_test = dataset_test"
   ]
  },
  {
   "cell_type": "code",
   "execution_count": 77,
   "id": "8b38cd06",
   "metadata": {},
   "outputs": [
    {
     "data": {
      "text/plain": [
       "0      11938.25595\n",
       "1      12096.65120\n",
       "2      14319.03100\n",
       "3       3558.62025\n",
       "4      13217.09450\n",
       "          ...     \n",
       "931    45008.95550\n",
       "932    13470.80440\n",
       "933    11286.53870\n",
       "934     1880.48700\n",
       "935    48675.51770\n",
       "Name: charges, Length: 936, dtype: float64"
      ]
     },
     "execution_count": 77,
     "metadata": {},
     "output_type": "execute_result"
    }
   ],
   "source": [
    "Y_train"
   ]
  },
  {
   "cell_type": "markdown",
   "id": "a883bcff",
   "metadata": {},
   "source": [
    "## Modelado Machinel Learning <a name=\"ModeladoML\"></a>"
   ]
  },
  {
   "cell_type": "markdown",
   "id": "af5bb282",
   "metadata": {},
   "source": [
    "Tenemos ya los datos correctos y normalizados, ahora toca elegir el tipo de modelo que vamos a desarrollar y la estructura que más se adecue, probaremos varias para constrastar datos.\n",
    "\n",
    "En este caso, al tener claramente una variable de salida no categorica, por lo tanto descaramos _Clasificacion_ , como tenemos variable de salida, descartamos _Clustering_, nos quedaría la opción más sensata que es **Regresion**.\n",
    "\n"
   ]
  },
  {
   "cell_type": "markdown",
   "id": "ff55b700",
   "metadata": {},
   "source": [
    "### Linear Regression <a name=\"LinearR\"></a>"
   ]
  },
  {
   "cell_type": "markdown",
   "id": "08a9757c",
   "metadata": {},
   "source": [
    "Realizaremos este primer modelo, asumiendo que existe una correlación lineal entre los datos. "
   ]
  },
  {
   "cell_type": "code",
   "execution_count": 16,
   "id": "85e4a916",
   "metadata": {},
   "outputs": [
    {
     "name": "stdout",
     "output_type": "stream",
     "text": [
      "Con los datos de entrenamiento:  0.7496636971119938\n"
     ]
    }
   ],
   "source": [
    "reg = LinearRegression().fit(X_train, Y_train)\n",
    "print(\"Con los datos de entrenamiento: \", reg.score(X_train, Y_train)) #Normalmente lo comprobaria con el score de los\n",
    "#datos de test, para comprobar el overfitting pero acutalmente no dispongo de Y_test"
   ]
  },
  {
   "cell_type": "code",
   "execution_count": 17,
   "id": "28bf9ac5",
   "metadata": {},
   "outputs": [
    {
     "data": {
      "text/plain": [
       "-2145.1746072827045"
      ]
     },
     "execution_count": 17,
     "metadata": {},
     "output_type": "execute_result"
    }
   ],
   "source": [
    "reg.intercept_"
   ]
  },
  {
   "cell_type": "markdown",
   "id": "7478961f",
   "metadata": {},
   "source": [
    "Como norma general:\n",
    "\n",
    "- Los valores positivos en estos coeficientes significan una correlación directa entre los valores de las características que representan los coeficientes y el coste medico a la aseguradora, mientras que los valores negativos representan una correlación inversa.\n",
    "- La magnitud de los coeficientes miden el grado de aportación, positiva o negativa, de una determinada característica.\n"
   ]
  },
  {
   "cell_type": "code",
   "execution_count": 18,
   "id": "ccd0b940",
   "metadata": {},
   "outputs": [
    {
     "data": {
      "text/plain": [
       "array([12435.62723763,    26.01948286, 12478.8115806 ,  1517.91753992,\n",
       "       23754.01188298,  -624.48267979])"
      ]
     },
     "execution_count": 18,
     "metadata": {},
     "output_type": "execute_result"
    }
   ],
   "source": [
    "reg.coef_"
   ]
  },
  {
   "cell_type": "code",
   "execution_count": 19,
   "id": "5be9cbff",
   "metadata": {},
   "outputs": [
    {
     "data": {
      "text/html": [
       "<div>\n",
       "<style scoped>\n",
       "    .dataframe tbody tr th:only-of-type {\n",
       "        vertical-align: middle;\n",
       "    }\n",
       "\n",
       "    .dataframe tbody tr th {\n",
       "        vertical-align: top;\n",
       "    }\n",
       "\n",
       "    .dataframe thead th {\n",
       "        text-align: right;\n",
       "    }\n",
       "</style>\n",
       "<table border=\"1\" class=\"dataframe\">\n",
       "  <thead>\n",
       "    <tr style=\"text-align: right;\">\n",
       "      <th></th>\n",
       "      <th>age</th>\n",
       "      <th>sex</th>\n",
       "      <th>bmi</th>\n",
       "      <th>children</th>\n",
       "      <th>smoker</th>\n",
       "      <th>region</th>\n",
       "    </tr>\n",
       "  </thead>\n",
       "  <tbody>\n",
       "    <tr>\n",
       "      <th>0</th>\n",
       "      <td>12435.627238</td>\n",
       "      <td>26.019483</td>\n",
       "      <td>12478.811581</td>\n",
       "      <td>1517.91754</td>\n",
       "      <td>23754.011883</td>\n",
       "      <td>-624.48268</td>\n",
       "    </tr>\n",
       "  </tbody>\n",
       "</table>\n",
       "</div>"
      ],
      "text/plain": [
       "            age        sex           bmi    children        smoker     region\n",
       "0  12435.627238  26.019483  12478.811581  1517.91754  23754.011883 -624.48268"
      ]
     },
     "execution_count": 19,
     "metadata": {},
     "output_type": "execute_result"
    }
   ],
   "source": [
    "pd.DataFrame(data=np.expand_dims(reg.coef_, axis=0), columns=['age','sex','bmi','children','smoker','region'])"
   ]
  },
  {
   "cell_type": "markdown",
   "id": "adaabcc4",
   "metadata": {},
   "source": [
    "Como vemos los datos de **intercept** y los **coeficientes** son bastante exagerados, esto declara un overfitting que es el principal problema de este modelo, se podría solucionar con _Ridge Regression_ hagamos una prueba con el antes de pasar al siguiente modelo."
   ]
  },
  {
   "cell_type": "markdown",
   "id": "b0b51225",
   "metadata": {},
   "source": [
    "#### Ridge Regression <a name=\"Ridge\"></a>"
   ]
  },
  {
   "cell_type": "markdown",
   "id": "12f140d1",
   "metadata": {},
   "source": [
    "##### Prueba 1 de encontrar el mejor alpha"
   ]
  },
  {
   "cell_type": "markdown",
   "id": "bd8437b5",
   "metadata": {},
   "source": [
    "Para mejorar el modelo anterior y evitar que los outlayers afecten a nuestro resultado, vamos a quitarlos con **StandardScaler**.\n",
    "\n",
    "También aplicaremos **PCA** su objetivo es encontrar las columnas principales y reducir la dimensionalidad del conjunto de datos ."
   ]
  },
  {
   "cell_type": "code",
   "execution_count": 20,
   "id": "5da32832",
   "metadata": {},
   "outputs": [],
   "source": [
    "std_slc = StandardScaler()\n",
    "pca = decomposition.PCA() #Decomposition reduce el numero de columnas, es uno de los PCA que he entendido, \n",
    "#Es probable que exista un PCA mejor para este dataset\n",
    "ridge = Ridge()"
   ]
  },
  {
   "cell_type": "code",
   "execution_count": 21,
   "id": "655f47c5",
   "metadata": {},
   "outputs": [],
   "source": [
    "pipe = Pipeline(steps=[(\"std_slc\", std_slc),\n",
    "                       (\"pca\", pca),\n",
    "                       (\"ridge\", ridge)])"
   ]
  },
  {
   "cell_type": "code",
   "execution_count": 22,
   "id": "b8d2c839",
   "metadata": {},
   "outputs": [
    {
     "data": {
      "text/plain": [
       "[1, 2, 3, 4, 5, 6]"
      ]
     },
     "execution_count": 22,
     "metadata": {},
     "output_type": "execute_result"
    }
   ],
   "source": [
    "n_components = list(range(1,X_train.shape[1]+1,1))\n",
    "n_components"
   ]
  },
  {
   "cell_type": "markdown",
   "id": "362bf9b0",
   "metadata": {},
   "source": [
    "Como en casi todos los modelos, existen distintas arquitecturas para el mismo modelo, cada una con sus ventajas y desventajas, añadiremos todas para que nos ofrezca la que mejor resultado de. \n",
    "\n",
    "Puedes mirar el funcionamiento de cada una aquí https://scikit-learn.org/stable/modules/generated/sklearn.linear_model.Ridge.html?highlight=ridge#sklearn.linear_model.Ridge\n",
    "\n",
    "Ha raíz de esto, he decidido quitar _lbfgs_ ya que aunque los datos estan normalizados, no están normalizados por el método, por lo tanto, lo he desechado para las pruebas."
   ]
  },
  {
   "cell_type": "code",
   "execution_count": 23,
   "id": "640166ff",
   "metadata": {},
   "outputs": [],
   "source": [
    "#Creamos una lista con todos los parametros de Ridge Regression\n",
    "solver = [\"auto\", \"svd\", \"cholesky\", \"lsqr\", \"sparse_cg\", \"sag\", \"saga\"]"
   ]
  },
  {
   "cell_type": "code",
   "execution_count": 24,
   "id": "f2158288",
   "metadata": {},
   "outputs": [],
   "source": [
    "parameters = dict(pca__n_components=n_components,\n",
    "                  ridge__normalize=[True, False],\n",
    "                  ridge__alpha=np.arange(1e-3,5,0.05),\n",
    "                  ridge__solver=solver)"
   ]
  },
  {
   "cell_type": "code",
   "execution_count": 25,
   "id": "6ea51bb1",
   "metadata": {},
   "outputs": [
    {
     "data": {
      "text/plain": [
       "GridSearchCV(estimator=Pipeline(steps=[('std_slc', StandardScaler()),\n",
       "                                       ('pca', PCA()), ('ridge', Ridge())]),\n",
       "             param_grid={'pca__n_components': [1, 2, 3, 4, 5, 6],\n",
       "                         'ridge__alpha': array([1.000e-03, 5.100e-02, 1.010e-01, 1.510e-01, 2.010e-01, 2.510e-01,\n",
       "       3.010e-01, 3.510e-01, 4.010e-01, 4.510e-01, 5.010e-01, 5.510e-01,\n",
       "       6.010e-01, 6.510e-01, 7.010e-01, 7.510e-01, 8.010e-01, 8.510e-01,...\n",
       "       3.601e+00, 3.651e+00, 3.701e+00, 3.751e+00, 3.801e+00, 3.851e+00,\n",
       "       3.901e+00, 3.951e+00, 4.001e+00, 4.051e+00, 4.101e+00, 4.151e+00,\n",
       "       4.201e+00, 4.251e+00, 4.301e+00, 4.351e+00, 4.401e+00, 4.451e+00,\n",
       "       4.501e+00, 4.551e+00, 4.601e+00, 4.651e+00, 4.701e+00, 4.751e+00,\n",
       "       4.801e+00, 4.851e+00, 4.901e+00, 4.951e+00]),\n",
       "                         'ridge__normalize': [True, False],\n",
       "                         'ridge__solver': ['auto', 'svd', 'cholesky', 'lsqr',\n",
       "                                           'sparse_cg', 'sag', 'saga']})"
      ]
     },
     "execution_count": 25,
     "metadata": {},
     "output_type": "execute_result"
    }
   ],
   "source": [
    "clf_GS = GridSearchCV(pipe, parameters)\n",
    "clf_GS.fit(X_train, Y_train) #Pasamos las variables de train, ya que nuestro test no tenemos disponible la Y"
   ]
  },
  {
   "cell_type": "code",
   "execution_count": 26,
   "id": "101b865c",
   "metadata": {},
   "outputs": [
    {
     "name": "stdout",
     "output_type": "stream",
     "text": [
      "Best Number Of Components: 6\n",
      "\n",
      "Ridge(alpha=3.851, solver='saga')\n"
     ]
    }
   ],
   "source": [
    "print(\"Best Number Of Components:\", clf_GS.best_estimator_.get_params()[\"pca__n_components\"])\n",
    "print(); print(clf_GS.best_estimator_.get_params()[\"ridge\"])"
   ]
  },
  {
   "cell_type": "code",
   "execution_count": 34,
   "id": "917fc5c3",
   "metadata": {
    "scrolled": true
   },
   "outputs": [
    {
     "name": "stdout",
     "output_type": "stream",
     "text": [
      "Con los datos de entrenamiento:  0.7486545086160235\n"
     ]
    }
   ],
   "source": [
    "ridge = Ridge(alpha= 3.851, solver='saga').fit(X_train, Y_train)\n",
    "print(\"Con los datos de entrenamiento: \", ridge.score(X_train, Y_train))"
   ]
  },
  {
   "cell_type": "markdown",
   "id": "ad4c2431",
   "metadata": {},
   "source": [
    "##### Prueba 2 de encontrar el mejor alpha"
   ]
  },
  {
   "cell_type": "code",
   "execution_count": 28,
   "id": "8df216b8",
   "metadata": {},
   "outputs": [
    {
     "name": "stdout",
     "output_type": "stream",
     "text": [
      "{'alpha': 0.901}\n",
      "-0.7403519346584229\n"
     ]
    }
   ],
   "source": [
    "ridge_2 = Ridge() #Creamos nuestro modelo\n",
    "\n",
    "rango_alpha = {'alpha':np.arange(1e-3,5,0.05)}#Establecemos el rango con el que probar para nuestro alpha\n",
    "\n",
    "ridge_regressor = GridSearchCV(ridge_2, rango_alpha, scoring=\"r2\", cv = 10) #Creamos el GridSearch para que pruebe\n",
    "\n",
    "ridge_regressor.fit(X_train,Y_train)\n",
    "\n",
    "#Obtenemos los datos que son mejores\n",
    "ridge_best_params_ = ridge_regressor.best_params_\n",
    "ridge_best_score_ = -ridge_regressor.best_score_\n",
    "print(ridge_best_params_); print(ridge_best_score_)"
   ]
  },
  {
   "cell_type": "markdown",
   "id": "0919e7ac",
   "metadata": {},
   "source": [
    "#### Conclusion de Ridge Regression"
   ]
  },
  {
   "cell_type": "markdown",
   "id": "079c64ab",
   "metadata": {},
   "source": [
    "Aunque normalmente suele ser una buena opción usar algun derivado de Linear Regression mejor que el puro,aun usando dos técnicas para obtener la mejor combinación de hiperparametros, no he conseguido mejorar el score de la versión pura de LinearRegression.\n",
    "\n",
    "    Aún así, dejo documentado las pruebas, por si fuese un error de ejecución o código en este caso."
   ]
  },
  {
   "cell_type": "markdown",
   "id": "bc3827e8",
   "metadata": {},
   "source": [
    "### Polynomial signs"
   ]
  },
  {
   "cell_type": "code",
   "execution_count": 35,
   "id": "8269ad9c",
   "metadata": {},
   "outputs": [],
   "source": [
    "quad = PolynomialFeatures(degree = 2)\n",
    "x_quad = quad.fit_transform(X_train)\n",
    "\n",
    "X_train_quad,X_test_quad,Y_train_quad,Y_test_quad = train_test_split(x_quad,Y_train, random_state = 0)\n",
    "\n",
    "plr = LinearRegression().fit(X_train_quad,Y_train_quad)\n",
    "\n",
    "Y_train_pred = plr.predict(X_train_quad)\n",
    "Y_test_pred = plr.predict(X_test_quad)"
   ]
  },
  {
   "cell_type": "code",
   "execution_count": 75,
   "id": "42329f60",
   "metadata": {},
   "outputs": [
    {
     "data": {
      "text/plain": [
       "0      11938.25595\n",
       "1      12096.65120\n",
       "2      14319.03100\n",
       "3       3558.62025\n",
       "4      13217.09450\n",
       "          ...     \n",
       "931    45008.95550\n",
       "932    13470.80440\n",
       "933    11286.53870\n",
       "934     1880.48700\n",
       "935    48675.51770\n",
       "Name: charges, Length: 936, dtype: float64"
      ]
     },
     "execution_count": 75,
     "metadata": {},
     "output_type": "execute_result"
    }
   ],
   "source": [
    "Y_train"
   ]
  },
  {
   "cell_type": "code",
   "execution_count": 74,
   "id": "5a9350a7",
   "metadata": {},
   "outputs": [
    {
     "ename": "ValueError",
     "evalue": "Shape of passed values is (234, 28), indices imply (234, 6)",
     "output_type": "error",
     "traceback": [
      "\u001b[1;31m---------------------------------------------------------------------------\u001b[0m",
      "\u001b[1;31mValueError\u001b[0m                                Traceback (most recent call last)",
      "\u001b[1;32mD:\\Anaconda\\lib\\site-packages\\pandas\\core\\internals\\managers.py\u001b[0m in \u001b[0;36mcreate_block_manager_from_blocks\u001b[1;34m(blocks, axes)\u001b[0m\n\u001b[0;32m   1674\u001b[0m                 blocks = [\n\u001b[1;32m-> 1675\u001b[1;33m                     make_block(\n\u001b[0m\u001b[0;32m   1676\u001b[0m                         \u001b[0mvalues\u001b[0m\u001b[1;33m=\u001b[0m\u001b[0mblocks\u001b[0m\u001b[1;33m[\u001b[0m\u001b[1;36m0\u001b[0m\u001b[1;33m]\u001b[0m\u001b[1;33m,\u001b[0m \u001b[0mplacement\u001b[0m\u001b[1;33m=\u001b[0m\u001b[0mslice\u001b[0m\u001b[1;33m(\u001b[0m\u001b[1;36m0\u001b[0m\u001b[1;33m,\u001b[0m \u001b[0mlen\u001b[0m\u001b[1;33m(\u001b[0m\u001b[0maxes\u001b[0m\u001b[1;33m[\u001b[0m\u001b[1;36m0\u001b[0m\u001b[1;33m]\u001b[0m\u001b[1;33m)\u001b[0m\u001b[1;33m)\u001b[0m\u001b[1;33m,\u001b[0m \u001b[0mndim\u001b[0m\u001b[1;33m=\u001b[0m\u001b[1;36m2\u001b[0m\u001b[1;33m\u001b[0m\u001b[1;33m\u001b[0m\u001b[0m\n",
      "\u001b[1;32mD:\\Anaconda\\lib\\site-packages\\pandas\\core\\internals\\blocks.py\u001b[0m in \u001b[0;36mmake_block\u001b[1;34m(values, placement, klass, ndim, dtype)\u001b[0m\n\u001b[0;32m   2741\u001b[0m \u001b[1;33m\u001b[0m\u001b[0m\n\u001b[1;32m-> 2742\u001b[1;33m     \u001b[1;32mreturn\u001b[0m \u001b[0mklass\u001b[0m\u001b[1;33m(\u001b[0m\u001b[0mvalues\u001b[0m\u001b[1;33m,\u001b[0m \u001b[0mndim\u001b[0m\u001b[1;33m=\u001b[0m\u001b[0mndim\u001b[0m\u001b[1;33m,\u001b[0m \u001b[0mplacement\u001b[0m\u001b[1;33m=\u001b[0m\u001b[0mplacement\u001b[0m\u001b[1;33m)\u001b[0m\u001b[1;33m\u001b[0m\u001b[1;33m\u001b[0m\u001b[0m\n\u001b[0m\u001b[0;32m   2743\u001b[0m \u001b[1;33m\u001b[0m\u001b[0m\n",
      "\u001b[1;32mD:\\Anaconda\\lib\\site-packages\\pandas\\core\\internals\\blocks.py\u001b[0m in \u001b[0;36m__init__\u001b[1;34m(self, values, placement, ndim)\u001b[0m\n\u001b[0;32m    141\u001b[0m         \u001b[1;32mif\u001b[0m \u001b[0mself\u001b[0m\u001b[1;33m.\u001b[0m\u001b[0m_validate_ndim\u001b[0m \u001b[1;32mand\u001b[0m \u001b[0mself\u001b[0m\u001b[1;33m.\u001b[0m\u001b[0mndim\u001b[0m \u001b[1;32mand\u001b[0m \u001b[0mlen\u001b[0m\u001b[1;33m(\u001b[0m\u001b[0mself\u001b[0m\u001b[1;33m.\u001b[0m\u001b[0mmgr_locs\u001b[0m\u001b[1;33m)\u001b[0m \u001b[1;33m!=\u001b[0m \u001b[0mlen\u001b[0m\u001b[1;33m(\u001b[0m\u001b[0mself\u001b[0m\u001b[1;33m.\u001b[0m\u001b[0mvalues\u001b[0m\u001b[1;33m)\u001b[0m\u001b[1;33m:\u001b[0m\u001b[1;33m\u001b[0m\u001b[1;33m\u001b[0m\u001b[0m\n\u001b[1;32m--> 142\u001b[1;33m             raise ValueError(\n\u001b[0m\u001b[0;32m    143\u001b[0m                 \u001b[1;34mf\"Wrong number of items passed {len(self.values)}, \"\u001b[0m\u001b[1;33m\u001b[0m\u001b[1;33m\u001b[0m\u001b[0m\n",
      "\u001b[1;31mValueError\u001b[0m: Wrong number of items passed 28, placement implies 6",
      "\nDuring handling of the above exception, another exception occurred:\n",
      "\u001b[1;31mValueError\u001b[0m                                Traceback (most recent call last)",
      "\u001b[1;32m<ipython-input-74-7ff87ba20051>\u001b[0m in \u001b[0;36m<module>\u001b[1;34m\u001b[0m\n\u001b[1;32m----> 1\u001b[1;33m \u001b[0mdf\u001b[0m \u001b[1;33m=\u001b[0m \u001b[0mpd\u001b[0m\u001b[1;33m.\u001b[0m\u001b[0mDataFrame\u001b[0m\u001b[1;33m(\u001b[0m\u001b[0mX_test_quad\u001b[0m\u001b[1;33m,\u001b[0m \u001b[0mcolumns\u001b[0m \u001b[1;33m=\u001b[0m \u001b[1;33m[\u001b[0m\u001b[1;34m'age'\u001b[0m\u001b[1;33m,\u001b[0m\u001b[1;34m'sex'\u001b[0m\u001b[1;33m,\u001b[0m\u001b[1;34m'bmi'\u001b[0m\u001b[1;33m,\u001b[0m\u001b[1;34m'children'\u001b[0m \u001b[1;33m,\u001b[0m\u001b[1;34m'smoker'\u001b[0m\u001b[1;33m,\u001b[0m \u001b[1;34m'region'\u001b[0m\u001b[1;33m]\u001b[0m\u001b[1;33m)\u001b[0m\u001b[1;33m\u001b[0m\u001b[1;33m\u001b[0m\u001b[0m\n\u001b[0m\u001b[0;32m      2\u001b[0m \u001b[0mprint\u001b[0m\u001b[1;33m(\u001b[0m\u001b[0mdf\u001b[0m\u001b[1;33m)\u001b[0m\u001b[1;33m\u001b[0m\u001b[1;33m\u001b[0m\u001b[0m\n",
      "\u001b[1;32mD:\\Anaconda\\lib\\site-packages\\pandas\\core\\frame.py\u001b[0m in \u001b[0;36m__init__\u001b[1;34m(self, data, index, columns, dtype, copy)\u001b[0m\n\u001b[0;32m    556\u001b[0m                 \u001b[0mmgr\u001b[0m \u001b[1;33m=\u001b[0m \u001b[0minit_dict\u001b[0m\u001b[1;33m(\u001b[0m\u001b[1;33m{\u001b[0m\u001b[0mdata\u001b[0m\u001b[1;33m.\u001b[0m\u001b[0mname\u001b[0m\u001b[1;33m:\u001b[0m \u001b[0mdata\u001b[0m\u001b[1;33m}\u001b[0m\u001b[1;33m,\u001b[0m \u001b[0mindex\u001b[0m\u001b[1;33m,\u001b[0m \u001b[0mcolumns\u001b[0m\u001b[1;33m,\u001b[0m \u001b[0mdtype\u001b[0m\u001b[1;33m=\u001b[0m\u001b[0mdtype\u001b[0m\u001b[1;33m)\u001b[0m\u001b[1;33m\u001b[0m\u001b[1;33m\u001b[0m\u001b[0m\n\u001b[0;32m    557\u001b[0m             \u001b[1;32melse\u001b[0m\u001b[1;33m:\u001b[0m\u001b[1;33m\u001b[0m\u001b[1;33m\u001b[0m\u001b[0m\n\u001b[1;32m--> 558\u001b[1;33m                 \u001b[0mmgr\u001b[0m \u001b[1;33m=\u001b[0m \u001b[0minit_ndarray\u001b[0m\u001b[1;33m(\u001b[0m\u001b[0mdata\u001b[0m\u001b[1;33m,\u001b[0m \u001b[0mindex\u001b[0m\u001b[1;33m,\u001b[0m \u001b[0mcolumns\u001b[0m\u001b[1;33m,\u001b[0m \u001b[0mdtype\u001b[0m\u001b[1;33m=\u001b[0m\u001b[0mdtype\u001b[0m\u001b[1;33m,\u001b[0m \u001b[0mcopy\u001b[0m\u001b[1;33m=\u001b[0m\u001b[0mcopy\u001b[0m\u001b[1;33m)\u001b[0m\u001b[1;33m\u001b[0m\u001b[1;33m\u001b[0m\u001b[0m\n\u001b[0m\u001b[0;32m    559\u001b[0m \u001b[1;33m\u001b[0m\u001b[0m\n\u001b[0;32m    560\u001b[0m         \u001b[1;31m# For data is list-like, or Iterable (will consume into list)\u001b[0m\u001b[1;33m\u001b[0m\u001b[1;33m\u001b[0m\u001b[1;33m\u001b[0m\u001b[0m\n",
      "\u001b[1;32mD:\\Anaconda\\lib\\site-packages\\pandas\\core\\internals\\construction.py\u001b[0m in \u001b[0;36minit_ndarray\u001b[1;34m(values, index, columns, dtype, copy)\u001b[0m\n\u001b[0;32m    236\u001b[0m         \u001b[0mblock_values\u001b[0m \u001b[1;33m=\u001b[0m \u001b[1;33m[\u001b[0m\u001b[0mvalues\u001b[0m\u001b[1;33m]\u001b[0m\u001b[1;33m\u001b[0m\u001b[1;33m\u001b[0m\u001b[0m\n\u001b[0;32m    237\u001b[0m \u001b[1;33m\u001b[0m\u001b[0m\n\u001b[1;32m--> 238\u001b[1;33m     \u001b[1;32mreturn\u001b[0m \u001b[0mcreate_block_manager_from_blocks\u001b[0m\u001b[1;33m(\u001b[0m\u001b[0mblock_values\u001b[0m\u001b[1;33m,\u001b[0m \u001b[1;33m[\u001b[0m\u001b[0mcolumns\u001b[0m\u001b[1;33m,\u001b[0m \u001b[0mindex\u001b[0m\u001b[1;33m]\u001b[0m\u001b[1;33m)\u001b[0m\u001b[1;33m\u001b[0m\u001b[1;33m\u001b[0m\u001b[0m\n\u001b[0m\u001b[0;32m    239\u001b[0m \u001b[1;33m\u001b[0m\u001b[0m\n\u001b[0;32m    240\u001b[0m \u001b[1;33m\u001b[0m\u001b[0m\n",
      "\u001b[1;32mD:\\Anaconda\\lib\\site-packages\\pandas\\core\\internals\\managers.py\u001b[0m in \u001b[0;36mcreate_block_manager_from_blocks\u001b[1;34m(blocks, axes)\u001b[0m\n\u001b[0;32m   1685\u001b[0m         \u001b[0mblocks\u001b[0m \u001b[1;33m=\u001b[0m \u001b[1;33m[\u001b[0m\u001b[0mgetattr\u001b[0m\u001b[1;33m(\u001b[0m\u001b[0mb\u001b[0m\u001b[1;33m,\u001b[0m \u001b[1;34m\"values\"\u001b[0m\u001b[1;33m,\u001b[0m \u001b[0mb\u001b[0m\u001b[1;33m)\u001b[0m \u001b[1;32mfor\u001b[0m \u001b[0mb\u001b[0m \u001b[1;32min\u001b[0m \u001b[0mblocks\u001b[0m\u001b[1;33m]\u001b[0m\u001b[1;33m\u001b[0m\u001b[1;33m\u001b[0m\u001b[0m\n\u001b[0;32m   1686\u001b[0m         \u001b[0mtot_items\u001b[0m \u001b[1;33m=\u001b[0m \u001b[0msum\u001b[0m\u001b[1;33m(\u001b[0m\u001b[0mb\u001b[0m\u001b[1;33m.\u001b[0m\u001b[0mshape\u001b[0m\u001b[1;33m[\u001b[0m\u001b[1;36m0\u001b[0m\u001b[1;33m]\u001b[0m \u001b[1;32mfor\u001b[0m \u001b[0mb\u001b[0m \u001b[1;32min\u001b[0m \u001b[0mblocks\u001b[0m\u001b[1;33m)\u001b[0m\u001b[1;33m\u001b[0m\u001b[1;33m\u001b[0m\u001b[0m\n\u001b[1;32m-> 1687\u001b[1;33m         \u001b[1;32mraise\u001b[0m \u001b[0mconstruction_error\u001b[0m\u001b[1;33m(\u001b[0m\u001b[0mtot_items\u001b[0m\u001b[1;33m,\u001b[0m \u001b[0mblocks\u001b[0m\u001b[1;33m[\u001b[0m\u001b[1;36m0\u001b[0m\u001b[1;33m]\u001b[0m\u001b[1;33m.\u001b[0m\u001b[0mshape\u001b[0m\u001b[1;33m[\u001b[0m\u001b[1;36m1\u001b[0m\u001b[1;33m:\u001b[0m\u001b[1;33m]\u001b[0m\u001b[1;33m,\u001b[0m \u001b[0maxes\u001b[0m\u001b[1;33m,\u001b[0m \u001b[0me\u001b[0m\u001b[1;33m)\u001b[0m\u001b[1;33m\u001b[0m\u001b[1;33m\u001b[0m\u001b[0m\n\u001b[0m\u001b[0;32m   1688\u001b[0m \u001b[1;33m\u001b[0m\u001b[0m\n\u001b[0;32m   1689\u001b[0m \u001b[1;33m\u001b[0m\u001b[0m\n",
      "\u001b[1;31mValueError\u001b[0m: Shape of passed values is (234, 28), indices imply (234, 6)"
     ]
    }
   ],
   "source": [
    "df = pd.DataFrame(X_test_quad, columns = ['age','sex','bmi','children' ,'smoker', 'region'])\n",
    "print(df)"
   ]
  },
  {
   "cell_type": "code",
   "execution_count": 38,
   "id": "b5e3f016",
   "metadata": {
    "scrolled": true
   },
   "outputs": [
    {
     "name": "stdout",
     "output_type": "stream",
     "text": [
      "0.8724979280733158\n"
     ]
    }
   ],
   "source": [
    "print(plr.score(X_test_quad,Y_test_quad))"
   ]
  },
  {
   "cell_type": "markdown",
   "id": "1cbaf1ce",
   "metadata": {},
   "source": [
    "## Modelado Deep Learning <a name=\"ModeladoDL\"></a>"
   ]
  },
  {
   "cell_type": "markdown",
   "id": "49f1a0fe",
   "metadata": {},
   "source": [
    "Elegiremos primero el tipo de DL:\n",
    " - **Red Neuronal Convolucional (CNN)**, este tipo de modelo esta diseñado exclusivamente para el reconocimiento de imagenes, por lo tanto lo descarto.\n",
    " - **Red Neuronal Recurrente (RNN)**, se utiliza principalmente para modelos que tengan como datos el lenguaje natural. Este tampoco es nuestro caso, por lo tanto lo descarto.\n",
    " - **AutoEncoder**, \n",
    " - **Red Generativa Antagónica (GAN)**, "
   ]
  },
  {
   "cell_type": "code",
   "execution_count": 94,
   "id": "62936100",
   "metadata": {},
   "outputs": [
    {
     "name": "stdout",
     "output_type": "stream",
     "text": [
      "Epoch 1/200\n",
      "30/30 [==============================] - 0s 5ms/step - loss: 13542.5029 - mae: 13542.5029 - val_loss: 13541.8945 - val_mae: 13541.8945\n",
      "Epoch 2/200\n",
      "30/30 [==============================] - 0s 2ms/step - loss: 13541.2031 - mae: 13541.2031 - val_loss: 13540.2949 - val_mae: 13540.2949\n",
      "Epoch 3/200\n",
      "30/30 [==============================] - 0s 2ms/step - loss: 13539.2285 - mae: 13539.2285 - val_loss: 13537.8369 - val_mae: 13537.8369\n",
      "Epoch 4/200\n",
      "30/30 [==============================] - 0s 1ms/step - loss: 13536.2246 - mae: 13536.2246 - val_loss: 13534.1543 - val_mae: 13534.1543\n",
      "Epoch 5/200\n",
      "30/30 [==============================] - 0s 1ms/step - loss: 13531.7979 - mae: 13531.7979 - val_loss: 13528.7744 - val_mae: 13528.7744\n",
      "Epoch 6/200\n",
      "30/30 [==============================] - 0s 2ms/step - loss: 13525.4424 - mae: 13525.4424 - val_loss: 13521.2568 - val_mae: 13521.2568\n",
      "Epoch 7/200\n",
      "30/30 [==============================] - 0s 1ms/step - loss: 13516.7061 - mae: 13516.7061 - val_loss: 13511.0703 - val_mae: 13511.0703\n",
      "Epoch 8/200\n",
      "30/30 [==============================] - 0s 2ms/step - loss: 13505.0811 - mae: 13505.0811 - val_loss: 13497.8135 - val_mae: 13497.8135\n",
      "Epoch 9/200\n",
      "30/30 [==============================] - 0s 1ms/step - loss: 13490.1816 - mae: 13490.1816 - val_loss: 13480.9346 - val_mae: 13480.9346\n",
      "Epoch 10/200\n",
      "30/30 [==============================] - 0s 1ms/step - loss: 13471.4307 - mae: 13471.4307 - val_loss: 13460.0947 - val_mae: 13460.0947\n",
      "Epoch 11/200\n",
      "30/30 [==============================] - 0s 1ms/step - loss: 13448.6562 - mae: 13448.6562 - val_loss: 13434.7549 - val_mae: 13434.7549\n",
      "Epoch 12/200\n",
      "30/30 [==============================] - 0s 1ms/step - loss: 13421.0645 - mae: 13421.0645 - val_loss: 13404.8613 - val_mae: 13404.8613\n",
      "Epoch 13/200\n",
      "30/30 [==============================] - 0s 1ms/step - loss: 13388.6328 - mae: 13388.6328 - val_loss: 13369.4189 - val_mae: 13369.4189\n",
      "Epoch 14/200\n",
      "30/30 [==============================] - 0s 2ms/step - loss: 13350.6611 - mae: 13350.6611 - val_loss: 13328.4385 - val_mae: 13328.4385\n",
      "Epoch 15/200\n",
      "30/30 [==============================] - 0s 1ms/step - loss: 13306.8867 - mae: 13306.8867 - val_loss: 13281.5488 - val_mae: 13281.5488\n",
      "Epoch 16/200\n",
      "30/30 [==============================] - 0s 2ms/step - loss: 13257.0986 - mae: 13257.0986 - val_loss: 13228.2266 - val_mae: 13228.2266\n",
      "Epoch 17/200\n",
      "30/30 [==============================] - 0s 2ms/step - loss: 13200.6553 - mae: 13200.6553 - val_loss: 13168.2188 - val_mae: 13168.2188\n",
      "Epoch 18/200\n",
      "30/30 [==============================] - 0s 2ms/step - loss: 13137.3418 - mae: 13137.3418 - val_loss: 13101.1152 - val_mae: 13101.1152\n",
      "Epoch 19/200\n",
      "30/30 [==============================] - 0s 1ms/step - loss: 13066.9521 - mae: 13066.9521 - val_loss: 13026.9844 - val_mae: 13026.9844\n",
      "Epoch 20/200\n",
      "30/30 [==============================] - 0s 1ms/step - loss: 12988.8857 - mae: 12988.8857 - val_loss: 12945.0986 - val_mae: 12945.0986\n",
      "Epoch 21/200\n",
      "30/30 [==============================] - 0s 1ms/step - loss: 12903.0049 - mae: 12903.0049 - val_loss: 12854.7646 - val_mae: 12854.7646\n",
      "Epoch 22/200\n",
      "30/30 [==============================] - 0s 1ms/step - loss: 12809.1338 - mae: 12809.1338 - val_loss: 12756.2490 - val_mae: 12756.2490\n",
      "Epoch 23/200\n",
      "30/30 [==============================] - 0s 1ms/step - loss: 12706.6348 - mae: 12706.6348 - val_loss: 12649.3965 - val_mae: 12649.3965\n",
      "Epoch 24/200\n",
      "30/30 [==============================] - 0s 1ms/step - loss: 12595.6299 - mae: 12595.6299 - val_loss: 12533.4277 - val_mae: 12533.4277\n",
      "Epoch 25/200\n",
      "30/30 [==============================] - 0s 1ms/step - loss: 12475.5918 - mae: 12475.5918 - val_loss: 12409.1709 - val_mae: 12409.1709\n",
      "Epoch 26/200\n",
      "30/30 [==============================] - 0s 1ms/step - loss: 12347.6016 - mae: 12347.6016 - val_loss: 12277.1895 - val_mae: 12277.1895\n",
      "Epoch 27/200\n",
      "30/30 [==============================] - 0s 1ms/step - loss: 12213.3760 - mae: 12213.3760 - val_loss: 12140.2168 - val_mae: 12140.2168\n",
      "Epoch 28/200\n",
      "30/30 [==============================] - 0s 1ms/step - loss: 12071.7969 - mae: 12071.7969 - val_loss: 11994.9619 - val_mae: 11994.9619\n",
      "Epoch 29/200\n",
      "30/30 [==============================] - 0s 1ms/step - loss: 11922.7539 - mae: 11922.7539 - val_loss: 11841.4062 - val_mae: 11841.4062\n",
      "Epoch 30/200\n",
      "30/30 [==============================] - 0s 1ms/step - loss: 11766.2305 - mae: 11766.2305 - val_loss: 11681.9609 - val_mae: 11681.9609\n",
      "Epoch 31/200\n",
      "30/30 [==============================] - 0s 1ms/step - loss: 11604.3652 - mae: 11604.3652 - val_loss: 11516.1328 - val_mae: 11516.1328\n",
      "Epoch 32/200\n",
      "30/30 [==============================] - 0s 1ms/step - loss: 11438.1924 - mae: 11438.1924 - val_loss: 11348.5371 - val_mae: 11348.5371\n",
      "Epoch 33/200\n",
      "30/30 [==============================] - 0s 1ms/step - loss: 11266.5771 - mae: 11266.5771 - val_loss: 11172.1035 - val_mae: 11172.1035\n",
      "Epoch 34/200\n",
      "30/30 [==============================] - 0s 1ms/step - loss: 11090.6426 - mae: 11090.6426 - val_loss: 10997.4004 - val_mae: 10997.4004\n",
      "Epoch 35/200\n",
      "30/30 [==============================] - 0s 1ms/step - loss: 10913.2002 - mae: 10913.2002 - val_loss: 10818.8389 - val_mae: 10818.8389\n",
      "Epoch 36/200\n",
      "30/30 [==============================] - 0s 1ms/step - loss: 10735.2432 - mae: 10735.2432 - val_loss: 10640.9414 - val_mae: 10640.9414\n",
      "Epoch 37/200\n",
      "30/30 [==============================] - 0s 1ms/step - loss: 10557.9512 - mae: 10557.9512 - val_loss: 10461.7119 - val_mae: 10461.7119\n",
      "Epoch 38/200\n",
      "30/30 [==============================] - 0s 1ms/step - loss: 10377.4551 - mae: 10377.4551 - val_loss: 10281.2744 - val_mae: 10281.2744\n",
      "Epoch 39/200\n",
      "30/30 [==============================] - 0s 2ms/step - loss: 10196.6006 - mae: 10196.6006 - val_loss: 10102.3311 - val_mae: 10102.3311\n",
      "Epoch 40/200\n",
      "30/30 [==============================] - 0s 2ms/step - loss: 10019.9092 - mae: 10019.9092 - val_loss: 9925.6016 - val_mae: 9925.6016\n",
      "Epoch 41/200\n",
      "30/30 [==============================] - 0s 1ms/step - loss: 9847.0781 - mae: 9847.0781 - val_loss: 9757.1807 - val_mae: 9757.1807\n",
      "Epoch 42/200\n",
      "30/30 [==============================] - 0s 2ms/step - loss: 9675.4199 - mae: 9675.4199 - val_loss: 9585.4414 - val_mae: 9585.4414\n",
      "Epoch 43/200\n",
      "30/30 [==============================] - 0s 1ms/step - loss: 9505.3799 - mae: 9505.3799 - val_loss: 9415.7354 - val_mae: 9415.7354\n",
      "Epoch 44/200\n",
      "30/30 [==============================] - 0s 1ms/step - loss: 9341.6895 - mae: 9341.6895 - val_loss: 9260.0469 - val_mae: 9260.0469\n",
      "Epoch 45/200\n",
      "30/30 [==============================] - 0s 1ms/step - loss: 9188.0156 - mae: 9188.0156 - val_loss: 9107.4316 - val_mae: 9107.4316\n",
      "Epoch 46/200\n",
      "30/30 [==============================] - 0s 1ms/step - loss: 9038.6553 - mae: 9038.6553 - val_loss: 8967.5615 - val_mae: 8967.5615\n",
      "Epoch 47/200\n",
      "30/30 [==============================] - 0s 1ms/step - loss: 8903.5654 - mae: 8903.5654 - val_loss: 8834.1553 - val_mae: 8834.1553\n",
      "Epoch 48/200\n",
      "30/30 [==============================] - 0s 2ms/step - loss: 8772.0342 - mae: 8772.0342 - val_loss: 8708.8574 - val_mae: 8708.8574\n",
      "Epoch 49/200\n",
      "30/30 [==============================] - 0s 2ms/step - loss: 8651.9492 - mae: 8651.9492 - val_loss: 8588.2656 - val_mae: 8588.2656\n",
      "Epoch 50/200\n",
      "30/30 [==============================] - 0s 1ms/step - loss: 8536.0186 - mae: 8536.0186 - val_loss: 8472.6895 - val_mae: 8472.6895\n",
      "Epoch 51/200\n",
      "30/30 [==============================] - 0s 1ms/step - loss: 8427.0137 - mae: 8427.0137 - val_loss: 8378.4375 - val_mae: 8378.4375\n",
      "Epoch 52/200\n",
      "30/30 [==============================] - 0s 1ms/step - loss: 8330.9434 - mae: 8330.9434 - val_loss: 8283.9824 - val_mae: 8283.9824\n",
      "Epoch 53/200\n",
      "30/30 [==============================] - 0s 2ms/step - loss: 8243.9336 - mae: 8243.9336 - val_loss: 8198.7373 - val_mae: 8198.7373\n",
      "Epoch 54/200\n",
      "30/30 [==============================] - 0s 1ms/step - loss: 8167.0127 - mae: 8167.0127 - val_loss: 8129.8696 - val_mae: 8129.8696\n",
      "Epoch 55/200\n",
      "30/30 [==============================] - 0s 2ms/step - loss: 8098.5635 - mae: 8098.5635 - val_loss: 8063.8281 - val_mae: 8063.8281\n",
      "Epoch 56/200\n",
      "30/30 [==============================] - 0s 2ms/step - loss: 8033.6685 - mae: 8033.6685 - val_loss: 7997.9214 - val_mae: 7997.9214\n"
     ]
    },
    {
     "name": "stdout",
     "output_type": "stream",
     "text": [
      "Epoch 57/200\n",
      "30/30 [==============================] - 0s 1ms/step - loss: 7972.1519 - mae: 7972.1519 - val_loss: 7936.9321 - val_mae: 7936.9321\n",
      "Epoch 58/200\n",
      "30/30 [==============================] - 0s 1ms/step - loss: 7911.8838 - mae: 7911.8838 - val_loss: 7883.6528 - val_mae: 7883.6528\n",
      "Epoch 59/200\n",
      "30/30 [==============================] - 0s 1ms/step - loss: 7859.2163 - mae: 7859.2163 - val_loss: 7835.3730 - val_mae: 7835.3730\n",
      "Epoch 60/200\n",
      "30/30 [==============================] - 0s 2ms/step - loss: 7812.3638 - mae: 7812.3638 - val_loss: 7790.2114 - val_mae: 7790.2114\n",
      "Epoch 61/200\n",
      "30/30 [==============================] - 0s 1ms/step - loss: 7769.8760 - mae: 7769.8760 - val_loss: 7746.7275 - val_mae: 7746.7275\n",
      "Epoch 62/200\n",
      "30/30 [==============================] - 0s 1ms/step - loss: 7730.5830 - mae: 7730.5830 - val_loss: 7710.6558 - val_mae: 7710.6558\n",
      "Epoch 63/200\n",
      "30/30 [==============================] - 0s 1ms/step - loss: 7695.2661 - mae: 7695.2661 - val_loss: 7676.2056 - val_mae: 7676.2056\n",
      "Epoch 64/200\n",
      "30/30 [==============================] - 0s 1ms/step - loss: 7661.5737 - mae: 7661.5737 - val_loss: 7647.2881 - val_mae: 7647.2881\n",
      "Epoch 65/200\n",
      "30/30 [==============================] - 0s 1ms/step - loss: 7633.1284 - mae: 7633.1284 - val_loss: 7617.0391 - val_mae: 7617.0391\n",
      "Epoch 66/200\n",
      "30/30 [==============================] - 0s 1ms/step - loss: 7605.0962 - mae: 7605.0962 - val_loss: 7590.3760 - val_mae: 7590.3760\n",
      "Epoch 67/200\n",
      "30/30 [==============================] - 0s 1ms/step - loss: 7578.1245 - mae: 7578.1245 - val_loss: 7564.5615 - val_mae: 7564.5615\n",
      "Epoch 68/200\n",
      "30/30 [==============================] - 0s 1ms/step - loss: 7553.6079 - mae: 7553.6079 - val_loss: 7541.9209 - val_mae: 7541.9209\n",
      "Epoch 69/200\n",
      "30/30 [==============================] - 0s 1ms/step - loss: 7531.2427 - mae: 7531.2427 - val_loss: 7518.1182 - val_mae: 7518.1182\n",
      "Epoch 70/200\n",
      "30/30 [==============================] - 0s 1ms/step - loss: 7509.3037 - mae: 7509.3037 - val_loss: 7497.7578 - val_mae: 7497.7578\n",
      "Epoch 71/200\n",
      "30/30 [==============================] - 0s 1ms/step - loss: 7488.5918 - mae: 7488.5918 - val_loss: 7477.6133 - val_mae: 7477.6133\n",
      "Epoch 72/200\n",
      "30/30 [==============================] - 0s 1ms/step - loss: 7468.5669 - mae: 7468.5669 - val_loss: 7458.5635 - val_mae: 7458.5635\n",
      "Epoch 73/200\n",
      "30/30 [==============================] - 0s 1ms/step - loss: 7448.8887 - mae: 7448.8887 - val_loss: 7438.1831 - val_mae: 7438.1831\n",
      "Epoch 74/200\n",
      "30/30 [==============================] - 0s 1ms/step - loss: 7429.3911 - mae: 7429.3911 - val_loss: 7419.6323 - val_mae: 7419.6323\n",
      "Epoch 75/200\n",
      "30/30 [==============================] - 0s 1ms/step - loss: 7411.9712 - mae: 7411.9712 - val_loss: 7402.1870 - val_mae: 7402.1870\n",
      "Epoch 76/200\n",
      "30/30 [==============================] - 0s 1ms/step - loss: 7394.6880 - mae: 7394.6880 - val_loss: 7383.9790 - val_mae: 7383.9790\n",
      "Epoch 77/200\n",
      "30/30 [==============================] - 0s 1ms/step - loss: 7376.6406 - mae: 7376.6406 - val_loss: 7367.0693 - val_mae: 7367.0693\n",
      "Epoch 78/200\n",
      "30/30 [==============================] - 0s 1ms/step - loss: 7360.1353 - mae: 7360.1353 - val_loss: 7350.2720 - val_mae: 7350.2720\n",
      "Epoch 79/200\n",
      "30/30 [==============================] - 0s 1ms/step - loss: 7343.3101 - mae: 7343.3101 - val_loss: 7333.2949 - val_mae: 7333.2949\n",
      "Epoch 80/200\n",
      "30/30 [==============================] - 0s 1ms/step - loss: 7325.2407 - mae: 7325.2407 - val_loss: 7315.8887 - val_mae: 7315.8887\n",
      "Epoch 81/200\n",
      "30/30 [==============================] - 0s 1ms/step - loss: 7308.2314 - mae: 7308.2314 - val_loss: 7298.9824 - val_mae: 7298.9824\n",
      "Epoch 82/200\n",
      "30/30 [==============================] - 0s 1ms/step - loss: 7291.0850 - mae: 7291.0850 - val_loss: 7282.0854 - val_mae: 7282.0854\n",
      "Epoch 83/200\n",
      "30/30 [==============================] - 0s 1ms/step - loss: 7274.6875 - mae: 7274.6875 - val_loss: 7263.5625 - val_mae: 7263.5625\n",
      "Epoch 84/200\n",
      "30/30 [==============================] - 0s 2ms/step - loss: 7256.1836 - mae: 7256.1836 - val_loss: 7246.9238 - val_mae: 7246.9238\n",
      "Epoch 85/200\n",
      "30/30 [==============================] - 0s 1ms/step - loss: 7239.3130 - mae: 7239.3130 - val_loss: 7230.0288 - val_mae: 7230.0288\n",
      "Epoch 86/200\n",
      "30/30 [==============================] - 0s 1ms/step - loss: 7221.9126 - mae: 7221.9126 - val_loss: 7212.6821 - val_mae: 7212.6821\n",
      "Epoch 87/200\n",
      "30/30 [==============================] - 0s 1ms/step - loss: 7205.0073 - mae: 7205.0073 - val_loss: 7195.7173 - val_mae: 7195.7173\n",
      "Epoch 88/200\n",
      "30/30 [==============================] - 0s 1ms/step - loss: 7187.7446 - mae: 7187.7446 - val_loss: 7178.7114 - val_mae: 7178.7114\n",
      "Epoch 89/200\n",
      "30/30 [==============================] - 0s 1ms/step - loss: 7170.5010 - mae: 7170.5010 - val_loss: 7160.9897 - val_mae: 7160.9897\n",
      "Epoch 90/200\n",
      "30/30 [==============================] - 0s 1ms/step - loss: 7153.3462 - mae: 7153.3462 - val_loss: 7143.4829 - val_mae: 7143.4829\n",
      "Epoch 91/200\n",
      "30/30 [==============================] - 0s 1ms/step - loss: 7135.6211 - mae: 7135.6211 - val_loss: 7125.8384 - val_mae: 7125.8384\n",
      "Epoch 92/200\n",
      "30/30 [==============================] - 0s 1ms/step - loss: 7118.1470 - mae: 7118.1470 - val_loss: 7108.2520 - val_mae: 7108.2520\n",
      "Epoch 93/200\n",
      "30/30 [==============================] - 0s 1ms/step - loss: 7100.3818 - mae: 7100.3818 - val_loss: 7090.5249 - val_mae: 7090.5249\n",
      "Epoch 94/200\n",
      "30/30 [==============================] - 0s 1ms/step - loss: 7082.0308 - mae: 7082.0308 - val_loss: 7072.0610 - val_mae: 7072.0610\n",
      "Epoch 95/200\n",
      "30/30 [==============================] - 0s 1ms/step - loss: 7063.7715 - mae: 7063.7715 - val_loss: 7053.6880 - val_mae: 7053.6880\n",
      "Epoch 96/200\n",
      "30/30 [==============================] - 0s 1ms/step - loss: 7044.9238 - mae: 7044.9238 - val_loss: 7035.2026 - val_mae: 7035.2026\n",
      "Epoch 97/200\n",
      "30/30 [==============================] - 0s 1ms/step - loss: 7026.3657 - mae: 7026.3657 - val_loss: 7016.3887 - val_mae: 7016.3887\n",
      "Epoch 98/200\n",
      "30/30 [==============================] - 0s 1ms/step - loss: 7008.4375 - mae: 7008.4375 - val_loss: 6997.6099 - val_mae: 6997.6099\n",
      "Epoch 99/200\n",
      "30/30 [==============================] - 0s 1ms/step - loss: 6988.9639 - mae: 6988.9639 - val_loss: 6978.4561 - val_mae: 6978.4561\n",
      "Epoch 100/200\n",
      "30/30 [==============================] - 0s 1ms/step - loss: 6969.7803 - mae: 6969.7803 - val_loss: 6959.7168 - val_mae: 6959.7168\n",
      "Epoch 101/200\n",
      "30/30 [==============================] - 0s 1ms/step - loss: 6950.7026 - mae: 6950.7026 - val_loss: 6940.0518 - val_mae: 6940.0518\n",
      "Epoch 102/200\n",
      "30/30 [==============================] - 0s 1ms/step - loss: 6931.2861 - mae: 6931.2861 - val_loss: 6920.5015 - val_mae: 6920.5015\n",
      "Epoch 103/200\n",
      "30/30 [==============================] - 0s 1ms/step - loss: 6912.1787 - mae: 6912.1787 - val_loss: 6901.2656 - val_mae: 6901.2656\n",
      "Epoch 104/200\n",
      "30/30 [==============================] - 0s 1ms/step - loss: 6892.6577 - mae: 6892.6577 - val_loss: 6881.5415 - val_mae: 6881.5415\n",
      "Epoch 105/200\n",
      "30/30 [==============================] - 0s 1ms/step - loss: 6872.0947 - mae: 6872.0947 - val_loss: 6861.0176 - val_mae: 6861.0176\n",
      "Epoch 106/200\n",
      "30/30 [==============================] - 0s 1ms/step - loss: 6851.9668 - mae: 6851.9668 - val_loss: 6841.1514 - val_mae: 6841.1514\n",
      "Epoch 107/200\n",
      "30/30 [==============================] - 0s 2ms/step - loss: 6832.0103 - mae: 6832.0103 - val_loss: 6820.8530 - val_mae: 6820.8530\n",
      "Epoch 108/200\n",
      "30/30 [==============================] - 0s 2ms/step - loss: 6811.6714 - mae: 6811.6714 - val_loss: 6799.8228 - val_mae: 6799.8228\n",
      "Epoch 109/200\n",
      "30/30 [==============================] - 0s 1ms/step - loss: 6791.3203 - mae: 6791.3203 - val_loss: 6779.5742 - val_mae: 6779.5742\n",
      "Epoch 110/200\n",
      "30/30 [==============================] - 0s 1ms/step - loss: 6769.6738 - mae: 6769.6738 - val_loss: 6757.7241 - val_mae: 6757.7241\n",
      "Epoch 111/200\n",
      "30/30 [==============================] - 0s 1ms/step - loss: 6748.0752 - mae: 6748.0752 - val_loss: 6736.4326 - val_mae: 6736.4326\n",
      "Epoch 112/200\n",
      "30/30 [==============================] - 0s 2ms/step - loss: 6726.3867 - mae: 6726.3867 - val_loss: 6714.4424 - val_mae: 6714.4424\n",
      "Epoch 113/200\n",
      "30/30 [==============================] - 0s 1ms/step - loss: 6704.7490 - mae: 6704.7490 - val_loss: 6692.9985 - val_mae: 6692.9985\n"
     ]
    },
    {
     "name": "stdout",
     "output_type": "stream",
     "text": [
      "Epoch 114/200\n",
      "30/30 [==============================] - 0s 1ms/step - loss: 6683.0591 - mae: 6683.0591 - val_loss: 6670.8511 - val_mae: 6670.8511\n",
      "Epoch 115/200\n",
      "30/30 [==============================] - 0s 1ms/step - loss: 6660.7305 - mae: 6660.7305 - val_loss: 6648.4961 - val_mae: 6648.4961\n",
      "Epoch 116/200\n",
      "30/30 [==============================] - 0s 2ms/step - loss: 6638.0273 - mae: 6638.0273 - val_loss: 6625.3359 - val_mae: 6625.3359\n",
      "Epoch 117/200\n",
      "30/30 [==============================] - 0s 2ms/step - loss: 6615.0923 - mae: 6615.0923 - val_loss: 6602.9751 - val_mae: 6602.9751\n",
      "Epoch 118/200\n",
      "30/30 [==============================] - 0s 1ms/step - loss: 6592.5488 - mae: 6592.5488 - val_loss: 6579.3262 - val_mae: 6579.3262\n",
      "Epoch 119/200\n",
      "30/30 [==============================] - 0s 1ms/step - loss: 6568.6875 - mae: 6568.6875 - val_loss: 6556.0103 - val_mae: 6556.0103\n",
      "Epoch 120/200\n",
      "30/30 [==============================] - 0s 1ms/step - loss: 6544.7324 - mae: 6544.7324 - val_loss: 6531.8198 - val_mae: 6531.8198\n",
      "Epoch 121/200\n",
      "30/30 [==============================] - 0s 1ms/step - loss: 6520.2690 - mae: 6520.2690 - val_loss: 6506.6890 - val_mae: 6506.6890\n",
      "Epoch 122/200\n",
      "30/30 [==============================] - 0s 2ms/step - loss: 6495.6631 - mae: 6495.6631 - val_loss: 6482.0098 - val_mae: 6482.0098\n",
      "Epoch 123/200\n",
      "30/30 [==============================] - 0s 2ms/step - loss: 6470.6094 - mae: 6470.6094 - val_loss: 6457.1294 - val_mae: 6457.1294\n",
      "Epoch 124/200\n",
      "30/30 [==============================] - 0s 2ms/step - loss: 6445.6074 - mae: 6445.6074 - val_loss: 6431.1284 - val_mae: 6431.1284\n",
      "Epoch 125/200\n",
      "30/30 [==============================] - 0s 2ms/step - loss: 6419.3384 - mae: 6419.3384 - val_loss: 6405.7598 - val_mae: 6405.7598\n",
      "Epoch 126/200\n",
      "30/30 [==============================] - 0s 2ms/step - loss: 6394.1191 - mae: 6394.1191 - val_loss: 6379.0605 - val_mae: 6379.0605\n",
      "Epoch 127/200\n",
      "30/30 [==============================] - 0s 2ms/step - loss: 6366.7222 - mae: 6366.7222 - val_loss: 6352.9160 - val_mae: 6352.9160\n",
      "Epoch 128/200\n",
      "30/30 [==============================] - 0s 1ms/step - loss: 6340.7070 - mae: 6340.7070 - val_loss: 6325.6499 - val_mae: 6325.6499\n",
      "Epoch 129/200\n",
      "30/30 [==============================] - 0s 2ms/step - loss: 6313.1377 - mae: 6313.1377 - val_loss: 6298.3276 - val_mae: 6298.3276\n",
      "Epoch 130/200\n",
      "30/30 [==============================] - 0s 1ms/step - loss: 6286.1558 - mae: 6286.1558 - val_loss: 6270.8574 - val_mae: 6270.8574\n",
      "Epoch 131/200\n",
      "30/30 [==============================] - 0s 1ms/step - loss: 6258.6382 - mae: 6258.6382 - val_loss: 6243.4707 - val_mae: 6243.4707\n",
      "Epoch 132/200\n",
      "30/30 [==============================] - 0s 1ms/step - loss: 6230.3633 - mae: 6230.3633 - val_loss: 6215.3628 - val_mae: 6215.3628\n",
      "Epoch 133/200\n",
      "30/30 [==============================] - 0s 2ms/step - loss: 6202.2866 - mae: 6202.2866 - val_loss: 6186.7837 - val_mae: 6186.7837\n",
      "Epoch 134/200\n",
      "30/30 [==============================] - 0s 1ms/step - loss: 6173.4238 - mae: 6173.4238 - val_loss: 6157.7373 - val_mae: 6157.7373\n",
      "Epoch 135/200\n",
      "30/30 [==============================] - 0s 1ms/step - loss: 6143.7954 - mae: 6143.7954 - val_loss: 6128.0396 - val_mae: 6128.0396\n",
      "Epoch 136/200\n",
      "30/30 [==============================] - 0s 1ms/step - loss: 6113.7607 - mae: 6113.7607 - val_loss: 6097.4653 - val_mae: 6097.4653\n",
      "Epoch 137/200\n",
      "30/30 [==============================] - 0s 1ms/step - loss: 6083.9155 - mae: 6083.9155 - val_loss: 6066.6255 - val_mae: 6066.6255\n",
      "Epoch 138/200\n",
      "30/30 [==============================] - 0s 2ms/step - loss: 6052.6689 - mae: 6052.6689 - val_loss: 6035.0630 - val_mae: 6035.0630\n",
      "Epoch 139/200\n",
      "30/30 [==============================] - 0s 2ms/step - loss: 6021.0264 - mae: 6021.0264 - val_loss: 6003.6426 - val_mae: 6003.6426\n",
      "Epoch 140/200\n",
      "30/30 [==============================] - 0s 2ms/step - loss: 5988.6968 - mae: 5988.6968 - val_loss: 5970.8423 - val_mae: 5970.8423\n",
      "Epoch 141/200\n",
      "30/30 [==============================] - 0s 1ms/step - loss: 5955.6406 - mae: 5955.6406 - val_loss: 5937.7598 - val_mae: 5937.7598\n",
      "Epoch 142/200\n",
      "30/30 [==============================] - ETA: 0s - loss: 6536.6558 - mae: 6536.655 - 0s 2ms/step - loss: 5922.2104 - mae: 5922.2104 - val_loss: 5904.4868 - val_mae: 5904.4868\n",
      "Epoch 143/200\n",
      "30/30 [==============================] - 0s 1ms/step - loss: 5888.5981 - mae: 5888.5981 - val_loss: 5870.6743 - val_mae: 5870.6743\n",
      "Epoch 144/200\n",
      "30/30 [==============================] - 0s 1ms/step - loss: 5855.1343 - mae: 5855.1343 - val_loss: 5835.5615 - val_mae: 5835.5615\n",
      "Epoch 145/200\n",
      "30/30 [==============================] - 0s 2ms/step - loss: 5819.4165 - mae: 5819.4165 - val_loss: 5800.4155 - val_mae: 5800.4155\n",
      "Epoch 146/200\n",
      "30/30 [==============================] - 0s 2ms/step - loss: 5784.4653 - mae: 5784.4653 - val_loss: 5764.6104 - val_mae: 5764.6104\n",
      "Epoch 147/200\n",
      "30/30 [==============================] - 0s 2ms/step - loss: 5748.4463 - mae: 5748.4463 - val_loss: 5728.6660 - val_mae: 5728.6660\n",
      "Epoch 148/200\n",
      "30/30 [==============================] - 0s 2ms/step - loss: 5711.1445 - mae: 5711.1445 - val_loss: 5691.0415 - val_mae: 5691.0415\n",
      "Epoch 149/200\n",
      "30/30 [==============================] - 0s 1ms/step - loss: 5673.1748 - mae: 5673.1748 - val_loss: 5653.3066 - val_mae: 5653.3066\n",
      "Epoch 150/200\n",
      "30/30 [==============================] - 0s 1ms/step - loss: 5634.9707 - mae: 5634.9707 - val_loss: 5614.5991 - val_mae: 5614.5991\n",
      "Epoch 151/200\n",
      "30/30 [==============================] - 0s 1ms/step - loss: 5596.1040 - mae: 5596.1040 - val_loss: 5575.2515 - val_mae: 5575.2515\n",
      "Epoch 152/200\n",
      "30/30 [==============================] - 0s 1ms/step - loss: 5556.4722 - mae: 5556.4722 - val_loss: 5534.4512 - val_mae: 5534.4512\n",
      "Epoch 153/200\n",
      "30/30 [==============================] - 0s 1ms/step - loss: 5516.4272 - mae: 5516.4272 - val_loss: 5493.9424 - val_mae: 5493.9424\n",
      "Epoch 154/200\n",
      "30/30 [==============================] - 0s 1ms/step - loss: 5476.7217 - mae: 5476.7217 - val_loss: 5455.2593 - val_mae: 5455.2593\n",
      "Epoch 155/200\n",
      "30/30 [==============================] - 0s 2ms/step - loss: 5437.3765 - mae: 5437.3765 - val_loss: 5414.4775 - val_mae: 5414.4775\n",
      "Epoch 156/200\n",
      "30/30 [==============================] - 0s 2ms/step - loss: 5395.6860 - mae: 5395.6860 - val_loss: 5373.2690 - val_mae: 5373.2690\n",
      "Epoch 157/200\n",
      "30/30 [==============================] - 0s 2ms/step - loss: 5353.5776 - mae: 5353.5776 - val_loss: 5331.0405 - val_mae: 5331.0405\n",
      "Epoch 158/200\n",
      "30/30 [==============================] - 0s 1ms/step - loss: 5311.8008 - mae: 5311.8008 - val_loss: 5287.8696 - val_mae: 5287.8696\n",
      "Epoch 159/200\n",
      "30/30 [==============================] - 0s 1ms/step - loss: 5269.0684 - mae: 5269.0684 - val_loss: 5245.9863 - val_mae: 5245.9863\n",
      "Epoch 160/200\n",
      "30/30 [==============================] - 0s 2ms/step - loss: 5226.8003 - mae: 5226.8003 - val_loss: 5202.6899 - val_mae: 5202.6899\n",
      "Epoch 161/200\n",
      "30/30 [==============================] - 0s 1ms/step - loss: 5184.0103 - mae: 5184.0103 - val_loss: 5160.8540 - val_mae: 5160.8540\n",
      "Epoch 162/200\n",
      "30/30 [==============================] - 0s 1ms/step - loss: 5140.4902 - mae: 5140.4902 - val_loss: 5117.3984 - val_mae: 5117.3984\n",
      "Epoch 163/200\n",
      "30/30 [==============================] - 0s 1ms/step - loss: 5096.7915 - mae: 5096.7915 - val_loss: 5072.5420 - val_mae: 5072.5420\n",
      "Epoch 164/200\n",
      "30/30 [==============================] - 0s 2ms/step - loss: 5051.6313 - mae: 5051.6313 - val_loss: 5027.6401 - val_mae: 5027.6401\n",
      "Epoch 165/200\n",
      "30/30 [==============================] - 0s 2ms/step - loss: 5007.6475 - mae: 5007.6475 - val_loss: 4983.6597 - val_mae: 4983.6597\n",
      "Epoch 166/200\n",
      "30/30 [==============================] - 0s 2ms/step - loss: 4962.7632 - mae: 4962.7632 - val_loss: 4938.8418 - val_mae: 4938.8418\n",
      "Epoch 167/200\n",
      "30/30 [==============================] - 0s 2ms/step - loss: 4918.7651 - mae: 4918.7651 - val_loss: 4894.3091 - val_mae: 4894.3091\n",
      "Epoch 168/200\n",
      "30/30 [==============================] - 0s 1ms/step - loss: 4874.3545 - mae: 4874.3545 - val_loss: 4851.4951 - val_mae: 4851.4951\n",
      "Epoch 169/200\n",
      "30/30 [==============================] - 0s 1ms/step - loss: 4830.9102 - mae: 4830.9102 - val_loss: 4807.6064 - val_mae: 4807.6064\n",
      "Epoch 170/200\n"
     ]
    },
    {
     "name": "stdout",
     "output_type": "stream",
     "text": [
      "30/30 [==============================] - 0s 1ms/step - loss: 4787.5532 - mae: 4787.5532 - val_loss: 4764.2275 - val_mae: 4764.2275\n",
      "Epoch 171/200\n",
      "30/30 [==============================] - 0s 1ms/step - loss: 4744.5781 - mae: 4744.5781 - val_loss: 4720.6895 - val_mae: 4720.6895\n",
      "Epoch 172/200\n",
      "30/30 [==============================] - 0s 1ms/step - loss: 4700.9463 - mae: 4700.9463 - val_loss: 4677.2290 - val_mae: 4677.2290\n",
      "Epoch 173/200\n",
      "30/30 [==============================] - 0s 2ms/step - loss: 4656.5977 - mae: 4656.5977 - val_loss: 4632.6665 - val_mae: 4632.6665\n",
      "Epoch 174/200\n",
      "30/30 [==============================] - 0s 2ms/step - loss: 4612.1509 - mae: 4612.1509 - val_loss: 4588.1318 - val_mae: 4588.1318\n",
      "Epoch 175/200\n",
      "30/30 [==============================] - 0s 2ms/step - loss: 4567.1201 - mae: 4567.1201 - val_loss: 4542.8535 - val_mae: 4542.8535\n",
      "Epoch 176/200\n",
      "30/30 [==============================] - 0s 2ms/step - loss: 4521.5854 - mae: 4521.5854 - val_loss: 4495.6880 - val_mae: 4495.6880\n",
      "Epoch 177/200\n",
      "30/30 [==============================] - 0s 1ms/step - loss: 4474.8110 - mae: 4474.8110 - val_loss: 4449.6963 - val_mae: 4449.6963\n",
      "Epoch 178/200\n",
      "30/30 [==============================] - 0s 1ms/step - loss: 4428.6743 - mae: 4428.6743 - val_loss: 4403.4844 - val_mae: 4403.4844\n",
      "Epoch 179/200\n",
      "30/30 [==============================] - 0s 1ms/step - loss: 4383.8228 - mae: 4383.8228 - val_loss: 4357.8574 - val_mae: 4357.8574\n",
      "Epoch 180/200\n",
      "30/30 [==============================] - 0s 2ms/step - loss: 4337.3682 - mae: 4337.3682 - val_loss: 4312.7603 - val_mae: 4312.7603\n",
      "Epoch 181/200\n",
      "30/30 [==============================] - 0s 2ms/step - loss: 4291.6748 - mae: 4291.6748 - val_loss: 4268.2026 - val_mae: 4268.2026\n",
      "Epoch 182/200\n",
      "30/30 [==============================] - 0s 2ms/step - loss: 4246.6177 - mae: 4246.6177 - val_loss: 4223.6943 - val_mae: 4223.6943\n",
      "Epoch 183/200\n",
      "30/30 [==============================] - 0s 1ms/step - loss: 4203.8589 - mae: 4203.8589 - val_loss: 4179.8608 - val_mae: 4179.8608\n",
      "Epoch 184/200\n",
      "30/30 [==============================] - 0s 1ms/step - loss: 4162.9951 - mae: 4162.9951 - val_loss: 4141.6631 - val_mae: 4141.6631\n",
      "Epoch 185/200\n",
      "30/30 [==============================] - 0s 2ms/step - loss: 4125.3643 - mae: 4125.3643 - val_loss: 4106.0249 - val_mae: 4106.0249\n",
      "Epoch 186/200\n",
      "30/30 [==============================] - 0s 1ms/step - loss: 4090.9399 - mae: 4090.9399 - val_loss: 4072.3530 - val_mae: 4072.3530\n",
      "Epoch 187/200\n",
      "30/30 [==============================] - 0s 1ms/step - loss: 4057.2070 - mae: 4057.2070 - val_loss: 4039.6951 - val_mae: 4039.6951\n",
      "Epoch 188/200\n",
      "30/30 [==============================] - 0s 1ms/step - loss: 4026.9167 - mae: 4026.9167 - val_loss: 4010.7825 - val_mae: 4010.7825\n",
      "Epoch 189/200\n",
      "30/30 [==============================] - 0s 1ms/step - loss: 3997.9690 - mae: 3997.9690 - val_loss: 3984.2559 - val_mae: 3984.2559\n",
      "Epoch 190/200\n",
      "30/30 [==============================] - 0s 1ms/step - loss: 3973.0054 - mae: 3973.0054 - val_loss: 3960.4470 - val_mae: 3960.4470\n",
      "Epoch 191/200\n",
      "30/30 [==============================] - 0s 1ms/step - loss: 3950.6338 - mae: 3950.6338 - val_loss: 3938.6597 - val_mae: 3938.6597\n",
      "Epoch 192/200\n",
      "30/30 [==============================] - 0s 1ms/step - loss: 3929.5442 - mae: 3929.5442 - val_loss: 3919.6851 - val_mae: 3919.6851\n",
      "Epoch 193/200\n",
      "30/30 [==============================] - 0s 2ms/step - loss: 3912.1692 - mae: 3912.1692 - val_loss: 3902.1973 - val_mae: 3902.1973\n",
      "Epoch 194/200\n",
      "30/30 [==============================] - 0s 1ms/step - loss: 3897.4612 - mae: 3897.4612 - val_loss: 3888.7214 - val_mae: 3888.7214\n",
      "Epoch 195/200\n",
      "30/30 [==============================] - 0s 2ms/step - loss: 3883.2615 - mae: 3883.2615 - val_loss: 3876.7441 - val_mae: 3876.7441\n",
      "Epoch 196/200\n",
      "30/30 [==============================] - 0s 2ms/step - loss: 3872.9155 - mae: 3872.9155 - val_loss: 3866.3804 - val_mae: 3866.3804\n",
      "Epoch 197/200\n",
      "30/30 [==============================] - 0s 2ms/step - loss: 3862.4934 - mae: 3862.4934 - val_loss: 3856.5854 - val_mae: 3856.5854\n",
      "Epoch 198/200\n",
      "30/30 [==============================] - 0s 1ms/step - loss: 3854.5122 - mae: 3854.5122 - val_loss: 3849.3984 - val_mae: 3849.3984\n",
      "Epoch 199/200\n",
      "30/30 [==============================] - 0s 2ms/step - loss: 3844.5588 - mae: 3844.5588 - val_loss: 3840.3386 - val_mae: 3840.3386\n",
      "Epoch 200/200\n",
      "30/30 [==============================] - 0s 1ms/step - loss: 3837.1936 - mae: 3837.1936 - val_loss: 3832.8950 - val_mae: 3832.8950\n"
     ]
    }
   ],
   "source": [
    "insurance = Sequential([\n",
    "      Dense(10),\n",
    "      Dense(10),\n",
    "      Dense(1),\n",
    "])\n",
    "\n",
    "insurance.compile(loss='mae',\n",
    "                  optimizer='adam',\n",
    "                  metrics=['mae'])\n",
    "\n",
    "history = insurance.fit(X_train,\n",
    "                        Y_train, validation_data=(X_train, Y_train), #No se muy bien que poner aqui\n",
    "                        epochs=200, verbose=1)\n",
    "\n"
   ]
  },
  {
   "cell_type": "markdown",
   "id": "1e09b103",
   "metadata": {},
   "source": [
    "## Evaluación <a name=\"Evaluacion\"></a>"
   ]
  },
  {
   "cell_type": "markdown",
   "id": "9df22d69",
   "metadata": {},
   "source": [
    "## Subir el modelo a Kaggle <a name=\"Subir\"></a>"
   ]
  },
  {
   "cell_type": "code",
   "execution_count": 29,
   "id": "2d325c9e",
   "metadata": {},
   "outputs": [
    {
     "name": "stdout",
     "output_type": "stream",
     "text": [
      "Requirement already satisfied: kaggle in d:\\anaconda\\lib\\site-packages (1.5.12)\n",
      "Requirement already satisfied: requests in d:\\anaconda\\lib\\site-packages (from kaggle) (2.25.1)\n",
      "Requirement already satisfied: python-slugify in d:\\anaconda\\lib\\site-packages (from kaggle) (5.0.2)\n",
      "Requirement already satisfied: tqdm in d:\\anaconda\\lib\\site-packages (from kaggle) (4.59.0)\n",
      "Requirement already satisfied: certifi in d:\\anaconda\\lib\\site-packages (from kaggle) (2020.12.5)\n",
      "Requirement already satisfied: python-dateutil in d:\\anaconda\\lib\\site-packages (from kaggle) (2.8.1)\n",
      "Requirement already satisfied: six>=1.10 in d:\\anaconda\\lib\\site-packages (from kaggle) (1.15.0)\n",
      "Requirement already satisfied: urllib3 in d:\\anaconda\\lib\\site-packages (from kaggle) (1.26.4)\n",
      "Requirement already satisfied: text-unidecode>=1.3 in d:\\anaconda\\lib\\site-packages (from python-slugify->kaggle) (1.3)\n",
      "Requirement already satisfied: chardet<5,>=3.0.2 in d:\\anaconda\\lib\\site-packages (from requests->kaggle) (4.0.0)\n",
      "Requirement already satisfied: idna<3,>=2.5 in d:\\anaconda\\lib\\site-packages (from requests->kaggle) (2.10)\n"
     ]
    }
   ],
   "source": [
    "!pip install kaggle"
   ]
  },
  {
   "cell_type": "code",
   "execution_count": 61,
   "id": "3e9aaabb",
   "metadata": {},
   "outputs": [
    {
     "data": {
      "text/html": [
       "<div>\n",
       "<style scoped>\n",
       "    .dataframe tbody tr th:only-of-type {\n",
       "        vertical-align: middle;\n",
       "    }\n",
       "\n",
       "    .dataframe tbody tr th {\n",
       "        vertical-align: top;\n",
       "    }\n",
       "\n",
       "    .dataframe thead th {\n",
       "        text-align: right;\n",
       "    }\n",
       "</style>\n",
       "<table border=\"1\" class=\"dataframe\">\n",
       "  <thead>\n",
       "    <tr style=\"text-align: right;\">\n",
       "      <th></th>\n",
       "      <th>age</th>\n",
       "      <th>sex</th>\n",
       "      <th>bmi</th>\n",
       "      <th>children</th>\n",
       "      <th>smoker</th>\n",
       "      <th>region</th>\n",
       "    </tr>\n",
       "  </thead>\n",
       "  <tbody>\n",
       "    <tr>\n",
       "      <th>0</th>\n",
       "      <td>0.869565</td>\n",
       "      <td>1.0</td>\n",
       "      <td>0.377184</td>\n",
       "      <td>0.0</td>\n",
       "      <td>0.0</td>\n",
       "      <td>0.000000</td>\n",
       "    </tr>\n",
       "    <tr>\n",
       "      <th>1</th>\n",
       "      <td>0.782609</td>\n",
       "      <td>0.0</td>\n",
       "      <td>0.337341</td>\n",
       "      <td>0.4</td>\n",
       "      <td>0.0</td>\n",
       "      <td>0.000000</td>\n",
       "    </tr>\n",
       "    <tr>\n",
       "      <th>2</th>\n",
       "      <td>1.000000</td>\n",
       "      <td>0.0</td>\n",
       "      <td>0.639871</td>\n",
       "      <td>0.0</td>\n",
       "      <td>0.0</td>\n",
       "      <td>1.000000</td>\n",
       "    </tr>\n",
       "    <tr>\n",
       "      <th>3</th>\n",
       "      <td>0.195652</td>\n",
       "      <td>0.0</td>\n",
       "      <td>0.233748</td>\n",
       "      <td>0.0</td>\n",
       "      <td>0.0</td>\n",
       "      <td>0.000000</td>\n",
       "    </tr>\n",
       "    <tr>\n",
       "      <th>4</th>\n",
       "      <td>0.913043</td>\n",
       "      <td>0.0</td>\n",
       "      <td>0.300154</td>\n",
       "      <td>0.0</td>\n",
       "      <td>0.0</td>\n",
       "      <td>0.000000</td>\n",
       "    </tr>\n",
       "    <tr>\n",
       "      <th>...</th>\n",
       "      <td>...</td>\n",
       "      <td>...</td>\n",
       "      <td>...</td>\n",
       "      <td>...</td>\n",
       "      <td>...</td>\n",
       "      <td>...</td>\n",
       "    </tr>\n",
       "    <tr>\n",
       "      <th>931</th>\n",
       "      <td>0.913043</td>\n",
       "      <td>0.0</td>\n",
       "      <td>0.437159</td>\n",
       "      <td>0.0</td>\n",
       "      <td>1.0</td>\n",
       "      <td>0.666667</td>\n",
       "    </tr>\n",
       "    <tr>\n",
       "      <th>932</th>\n",
       "      <td>0.956522</td>\n",
       "      <td>0.0</td>\n",
       "      <td>0.624773</td>\n",
       "      <td>0.0</td>\n",
       "      <td>0.0</td>\n",
       "      <td>0.666667</td>\n",
       "    </tr>\n",
       "    <tr>\n",
       "      <th>933</th>\n",
       "      <td>0.804348</td>\n",
       "      <td>0.0</td>\n",
       "      <td>0.363903</td>\n",
       "      <td>0.0</td>\n",
       "      <td>0.0</td>\n",
       "      <td>0.000000</td>\n",
       "    </tr>\n",
       "    <tr>\n",
       "      <th>934</th>\n",
       "      <td>0.043478</td>\n",
       "      <td>0.0</td>\n",
       "      <td>0.460925</td>\n",
       "      <td>0.0</td>\n",
       "      <td>0.0</td>\n",
       "      <td>1.000000</td>\n",
       "    </tr>\n",
       "    <tr>\n",
       "      <th>935</th>\n",
       "      <td>0.847826</td>\n",
       "      <td>1.0</td>\n",
       "      <td>0.707815</td>\n",
       "      <td>0.2</td>\n",
       "      <td>1.0</td>\n",
       "      <td>0.666667</td>\n",
       "    </tr>\n",
       "  </tbody>\n",
       "</table>\n",
       "<p>936 rows × 6 columns</p>\n",
       "</div>"
      ],
      "text/plain": [
       "          age  sex       bmi  children  smoker    region\n",
       "0    0.869565  1.0  0.377184       0.0     0.0  0.000000\n",
       "1    0.782609  0.0  0.337341       0.4     0.0  0.000000\n",
       "2    1.000000  0.0  0.639871       0.0     0.0  1.000000\n",
       "3    0.195652  0.0  0.233748       0.0     0.0  0.000000\n",
       "4    0.913043  0.0  0.300154       0.0     0.0  0.000000\n",
       "..        ...  ...       ...       ...     ...       ...\n",
       "931  0.913043  0.0  0.437159       0.0     1.0  0.666667\n",
       "932  0.956522  0.0  0.624773       0.0     0.0  0.666667\n",
       "933  0.804348  0.0  0.363903       0.0     0.0  0.000000\n",
       "934  0.043478  0.0  0.460925       0.0     0.0  1.000000\n",
       "935  0.847826  1.0  0.707815       0.2     1.0  0.666667\n",
       "\n",
       "[936 rows x 6 columns]"
      ]
     },
     "execution_count": 61,
     "metadata": {},
     "output_type": "execute_result"
    }
   ],
   "source": [
    "X_train"
   ]
  },
  {
   "cell_type": "code",
   "execution_count": 31,
   "id": "800a58dd",
   "metadata": {},
   "outputs": [
    {
     "data": {
      "text/plain": [
       "402"
      ]
     },
     "execution_count": 31,
     "metadata": {},
     "output_type": "execute_result"
    }
   ],
   "source": [
    "len(X_test.iloc[:,0:1].to_numpy().flatten())"
   ]
  },
  {
   "cell_type": "code",
   "execution_count": null,
   "id": "d715854f",
   "metadata": {},
   "outputs": [],
   "source": [
    "# Utilizamos el modelo que queramos mandar a Kaggle\n",
    "predicted_charges = reg.predict(X_test.iloc[:,1:])\n",
    "# Creamos el dataframe para mandarlo despues al CSV\n",
    "submission = pd.DataFrame({'id': X_test.iloc[:,0:1].to_numpy().flatten(), 'charges': predicted_charges})\n",
    "# Pasamos el dataframe a CSV\n",
    "submission.to_csv('submission.csv', index=False)"
   ]
  },
  {
   "cell_type": "markdown",
   "id": "159ea10a",
   "metadata": {},
   "source": [
    "Descomentar la siguiente línea para hacer la subida a kaggle a traves de su api, esto es posible porque tengo el token de mi perfil en mi ruta de la variable de entorno, por si quereis obtener más información visitar este link.\n",
    "https://github.com/Kaggle/kaggle-api"
   ]
  },
  {
   "cell_type": "code",
   "execution_count": 33,
   "id": "f74d17c3",
   "metadata": {},
   "outputs": [],
   "source": [
    "#!kaggle competitions submit -c estimacin-de-costes-mdicos-sic-ed2-2021 -f submission.csv -m \"Modelo ML con Regresion Lineal v2\""
   ]
  },
  {
   "cell_type": "markdown",
   "id": "eeb89e59",
   "metadata": {},
   "source": [
    "Pruebas de subir el otro modelo de Regression"
   ]
  },
  {
   "cell_type": "code",
   "execution_count": 64,
   "id": "ff4be01b",
   "metadata": {},
   "outputs": [
    {
     "name": "stdout",
     "output_type": "stream",
     "text": [
      "[[1.         0.56521739 1.         ... 0.         0.         0.        ]\n",
      " [1.         0.45652174 0.         ... 0.         0.         1.        ]\n",
      " [1.         0.36956522 0.         ... 0.         0.         0.11111111]\n",
      " ...\n",
      " [1.         0.36956522 1.         ... 0.         0.         0.44444444]\n",
      " [1.         0.63043478 1.         ... 1.         1.         1.        ]\n",
      " [1.         0.39130435 0.         ... 0.         0.         0.44444444]]\n"
     ]
    }
   ],
   "source": [
    "print(X_test_quad)"
   ]
  },
  {
   "cell_type": "code",
   "execution_count": 54,
   "id": "379720ef",
   "metadata": {},
   "outputs": [
    {
     "data": {
      "text/plain": [
       "234"
      ]
     },
     "execution_count": 54,
     "metadata": {},
     "output_type": "execute_result"
    }
   ],
   "source": [
    "len(Y_test_pred.flatten())"
   ]
  },
  {
   "cell_type": "code",
   "execution_count": 58,
   "id": "4746d965",
   "metadata": {
    "scrolled": true
   },
   "outputs": [
    {
     "ename": "ValueError",
     "evalue": "Data must be 1-dimensional",
     "output_type": "error",
     "traceback": [
      "\u001b[1;31m---------------------------------------------------------------------------\u001b[0m",
      "\u001b[1;31mValueError\u001b[0m                                Traceback (most recent call last)",
      "\u001b[1;32m<ipython-input-58-b4dfea283304>\u001b[0m in \u001b[0;36m<module>\u001b[1;34m\u001b[0m\n\u001b[0;32m      1\u001b[0m \u001b[1;31m# Creamos el dataframe para mandarlo despues al CSV\u001b[0m\u001b[1;33m\u001b[0m\u001b[1;33m\u001b[0m\u001b[1;33m\u001b[0m\u001b[0m\n\u001b[1;32m----> 2\u001b[1;33m \u001b[0msubmission\u001b[0m \u001b[1;33m=\u001b[0m \u001b[0mpd\u001b[0m\u001b[1;33m.\u001b[0m\u001b[0mDataFrame\u001b[0m\u001b[1;33m(\u001b[0m\u001b[1;33m{\u001b[0m\u001b[1;34m'id'\u001b[0m\u001b[1;33m:\u001b[0m \u001b[0mX_test_quad\u001b[0m\u001b[1;33m,\u001b[0m \u001b[1;34m'charges'\u001b[0m\u001b[1;33m:\u001b[0m \u001b[0mY_test_pred\u001b[0m\u001b[1;33m}\u001b[0m\u001b[1;33m)\u001b[0m\u001b[1;33m\u001b[0m\u001b[1;33m\u001b[0m\u001b[0m\n\u001b[0m\u001b[0;32m      3\u001b[0m \u001b[1;31m# Pasamos el dataframe a CSV\u001b[0m\u001b[1;33m\u001b[0m\u001b[1;33m\u001b[0m\u001b[1;33m\u001b[0m\u001b[0m\n\u001b[0;32m      4\u001b[0m \u001b[0msubmission\u001b[0m\u001b[1;33m.\u001b[0m\u001b[0mto_csv\u001b[0m\u001b[1;33m(\u001b[0m\u001b[1;34m'submission.csv'\u001b[0m\u001b[1;33m,\u001b[0m \u001b[0mindex\u001b[0m\u001b[1;33m=\u001b[0m\u001b[1;32mFalse\u001b[0m\u001b[1;33m)\u001b[0m\u001b[1;33m\u001b[0m\u001b[1;33m\u001b[0m\u001b[0m\n",
      "\u001b[1;32mD:\\Anaconda\\lib\\site-packages\\pandas\\core\\frame.py\u001b[0m in \u001b[0;36m__init__\u001b[1;34m(self, data, index, columns, dtype, copy)\u001b[0m\n\u001b[0;32m    527\u001b[0m \u001b[1;33m\u001b[0m\u001b[0m\n\u001b[0;32m    528\u001b[0m         \u001b[1;32melif\u001b[0m \u001b[0misinstance\u001b[0m\u001b[1;33m(\u001b[0m\u001b[0mdata\u001b[0m\u001b[1;33m,\u001b[0m \u001b[0mdict\u001b[0m\u001b[1;33m)\u001b[0m\u001b[1;33m:\u001b[0m\u001b[1;33m\u001b[0m\u001b[1;33m\u001b[0m\u001b[0m\n\u001b[1;32m--> 529\u001b[1;33m             \u001b[0mmgr\u001b[0m \u001b[1;33m=\u001b[0m \u001b[0minit_dict\u001b[0m\u001b[1;33m(\u001b[0m\u001b[0mdata\u001b[0m\u001b[1;33m,\u001b[0m \u001b[0mindex\u001b[0m\u001b[1;33m,\u001b[0m \u001b[0mcolumns\u001b[0m\u001b[1;33m,\u001b[0m \u001b[0mdtype\u001b[0m\u001b[1;33m=\u001b[0m\u001b[0mdtype\u001b[0m\u001b[1;33m)\u001b[0m\u001b[1;33m\u001b[0m\u001b[1;33m\u001b[0m\u001b[0m\n\u001b[0m\u001b[0;32m    530\u001b[0m         \u001b[1;32melif\u001b[0m \u001b[0misinstance\u001b[0m\u001b[1;33m(\u001b[0m\u001b[0mdata\u001b[0m\u001b[1;33m,\u001b[0m \u001b[0mma\u001b[0m\u001b[1;33m.\u001b[0m\u001b[0mMaskedArray\u001b[0m\u001b[1;33m)\u001b[0m\u001b[1;33m:\u001b[0m\u001b[1;33m\u001b[0m\u001b[1;33m\u001b[0m\u001b[0m\n\u001b[0;32m    531\u001b[0m             \u001b[1;32mimport\u001b[0m \u001b[0mnumpy\u001b[0m\u001b[1;33m.\u001b[0m\u001b[0mma\u001b[0m\u001b[1;33m.\u001b[0m\u001b[0mmrecords\u001b[0m \u001b[1;32mas\u001b[0m \u001b[0mmrecords\u001b[0m\u001b[1;33m\u001b[0m\u001b[1;33m\u001b[0m\u001b[0m\n",
      "\u001b[1;32mD:\\Anaconda\\lib\\site-packages\\pandas\\core\\internals\\construction.py\u001b[0m in \u001b[0;36minit_dict\u001b[1;34m(data, index, columns, dtype)\u001b[0m\n\u001b[0;32m    285\u001b[0m             \u001b[0marr\u001b[0m \u001b[1;32mif\u001b[0m \u001b[1;32mnot\u001b[0m \u001b[0mis_datetime64tz_dtype\u001b[0m\u001b[1;33m(\u001b[0m\u001b[0marr\u001b[0m\u001b[1;33m)\u001b[0m \u001b[1;32melse\u001b[0m \u001b[0marr\u001b[0m\u001b[1;33m.\u001b[0m\u001b[0mcopy\u001b[0m\u001b[1;33m(\u001b[0m\u001b[1;33m)\u001b[0m \u001b[1;32mfor\u001b[0m \u001b[0marr\u001b[0m \u001b[1;32min\u001b[0m \u001b[0marrays\u001b[0m\u001b[1;33m\u001b[0m\u001b[1;33m\u001b[0m\u001b[0m\n\u001b[0;32m    286\u001b[0m         ]\n\u001b[1;32m--> 287\u001b[1;33m     \u001b[1;32mreturn\u001b[0m \u001b[0marrays_to_mgr\u001b[0m\u001b[1;33m(\u001b[0m\u001b[0marrays\u001b[0m\u001b[1;33m,\u001b[0m \u001b[0mdata_names\u001b[0m\u001b[1;33m,\u001b[0m \u001b[0mindex\u001b[0m\u001b[1;33m,\u001b[0m \u001b[0mcolumns\u001b[0m\u001b[1;33m,\u001b[0m \u001b[0mdtype\u001b[0m\u001b[1;33m=\u001b[0m\u001b[0mdtype\u001b[0m\u001b[1;33m)\u001b[0m\u001b[1;33m\u001b[0m\u001b[1;33m\u001b[0m\u001b[0m\n\u001b[0m\u001b[0;32m    288\u001b[0m \u001b[1;33m\u001b[0m\u001b[0m\n\u001b[0;32m    289\u001b[0m \u001b[1;33m\u001b[0m\u001b[0m\n",
      "\u001b[1;32mD:\\Anaconda\\lib\\site-packages\\pandas\\core\\internals\\construction.py\u001b[0m in \u001b[0;36marrays_to_mgr\u001b[1;34m(arrays, arr_names, index, columns, dtype, verify_integrity)\u001b[0m\n\u001b[0;32m     83\u001b[0m \u001b[1;33m\u001b[0m\u001b[0m\n\u001b[0;32m     84\u001b[0m         \u001b[1;31m# don't force copy because getting jammed in an ndarray anyway\u001b[0m\u001b[1;33m\u001b[0m\u001b[1;33m\u001b[0m\u001b[1;33m\u001b[0m\u001b[0m\n\u001b[1;32m---> 85\u001b[1;33m         \u001b[0marrays\u001b[0m \u001b[1;33m=\u001b[0m \u001b[0m_homogenize\u001b[0m\u001b[1;33m(\u001b[0m\u001b[0marrays\u001b[0m\u001b[1;33m,\u001b[0m \u001b[0mindex\u001b[0m\u001b[1;33m,\u001b[0m \u001b[0mdtype\u001b[0m\u001b[1;33m)\u001b[0m\u001b[1;33m\u001b[0m\u001b[1;33m\u001b[0m\u001b[0m\n\u001b[0m\u001b[0;32m     86\u001b[0m \u001b[1;33m\u001b[0m\u001b[0m\n\u001b[0;32m     87\u001b[0m         \u001b[0mcolumns\u001b[0m \u001b[1;33m=\u001b[0m \u001b[0mensure_index\u001b[0m\u001b[1;33m(\u001b[0m\u001b[0mcolumns\u001b[0m\u001b[1;33m)\u001b[0m\u001b[1;33m\u001b[0m\u001b[1;33m\u001b[0m\u001b[0m\n",
      "\u001b[1;32mD:\\Anaconda\\lib\\site-packages\\pandas\\core\\internals\\construction.py\u001b[0m in \u001b[0;36m_homogenize\u001b[1;34m(data, index, dtype)\u001b[0m\n\u001b[0;32m    353\u001b[0m                     \u001b[0mval\u001b[0m \u001b[1;33m=\u001b[0m \u001b[0mdict\u001b[0m\u001b[1;33m(\u001b[0m\u001b[0mval\u001b[0m\u001b[1;33m)\u001b[0m\u001b[1;33m\u001b[0m\u001b[1;33m\u001b[0m\u001b[0m\n\u001b[0;32m    354\u001b[0m                 \u001b[0mval\u001b[0m \u001b[1;33m=\u001b[0m \u001b[0mlib\u001b[0m\u001b[1;33m.\u001b[0m\u001b[0mfast_multiget\u001b[0m\u001b[1;33m(\u001b[0m\u001b[0mval\u001b[0m\u001b[1;33m,\u001b[0m \u001b[0moindex\u001b[0m\u001b[1;33m.\u001b[0m\u001b[0m_values\u001b[0m\u001b[1;33m,\u001b[0m \u001b[0mdefault\u001b[0m\u001b[1;33m=\u001b[0m\u001b[0mnp\u001b[0m\u001b[1;33m.\u001b[0m\u001b[0mnan\u001b[0m\u001b[1;33m)\u001b[0m\u001b[1;33m\u001b[0m\u001b[1;33m\u001b[0m\u001b[0m\n\u001b[1;32m--> 355\u001b[1;33m             val = sanitize_array(\n\u001b[0m\u001b[0;32m    356\u001b[0m                 \u001b[0mval\u001b[0m\u001b[1;33m,\u001b[0m \u001b[0mindex\u001b[0m\u001b[1;33m,\u001b[0m \u001b[0mdtype\u001b[0m\u001b[1;33m=\u001b[0m\u001b[0mdtype\u001b[0m\u001b[1;33m,\u001b[0m \u001b[0mcopy\u001b[0m\u001b[1;33m=\u001b[0m\u001b[1;32mFalse\u001b[0m\u001b[1;33m,\u001b[0m \u001b[0mraise_cast_failure\u001b[0m\u001b[1;33m=\u001b[0m\u001b[1;32mFalse\u001b[0m\u001b[1;33m\u001b[0m\u001b[1;33m\u001b[0m\u001b[0m\n\u001b[0;32m    357\u001b[0m             )\n",
      "\u001b[1;32mD:\\Anaconda\\lib\\site-packages\\pandas\\core\\construction.py\u001b[0m in \u001b[0;36msanitize_array\u001b[1;34m(data, index, dtype, copy, raise_cast_failure)\u001b[0m\n\u001b[0;32m    527\u001b[0m     \u001b[1;32melif\u001b[0m \u001b[0msubarr\u001b[0m\u001b[1;33m.\u001b[0m\u001b[0mndim\u001b[0m \u001b[1;33m>\u001b[0m \u001b[1;36m1\u001b[0m\u001b[1;33m:\u001b[0m\u001b[1;33m\u001b[0m\u001b[1;33m\u001b[0m\u001b[0m\n\u001b[0;32m    528\u001b[0m         \u001b[1;32mif\u001b[0m \u001b[0misinstance\u001b[0m\u001b[1;33m(\u001b[0m\u001b[0mdata\u001b[0m\u001b[1;33m,\u001b[0m \u001b[0mnp\u001b[0m\u001b[1;33m.\u001b[0m\u001b[0mndarray\u001b[0m\u001b[1;33m)\u001b[0m\u001b[1;33m:\u001b[0m\u001b[1;33m\u001b[0m\u001b[1;33m\u001b[0m\u001b[0m\n\u001b[1;32m--> 529\u001b[1;33m             \u001b[1;32mraise\u001b[0m \u001b[0mValueError\u001b[0m\u001b[1;33m(\u001b[0m\u001b[1;34m\"Data must be 1-dimensional\"\u001b[0m\u001b[1;33m)\u001b[0m\u001b[1;33m\u001b[0m\u001b[1;33m\u001b[0m\u001b[0m\n\u001b[0m\u001b[0;32m    530\u001b[0m         \u001b[1;32melse\u001b[0m\u001b[1;33m:\u001b[0m\u001b[1;33m\u001b[0m\u001b[1;33m\u001b[0m\u001b[0m\n\u001b[0;32m    531\u001b[0m             \u001b[0msubarr\u001b[0m \u001b[1;33m=\u001b[0m \u001b[0mcom\u001b[0m\u001b[1;33m.\u001b[0m\u001b[0masarray_tuplesafe\u001b[0m\u001b[1;33m(\u001b[0m\u001b[0mdata\u001b[0m\u001b[1;33m,\u001b[0m \u001b[0mdtype\u001b[0m\u001b[1;33m=\u001b[0m\u001b[0mdtype\u001b[0m\u001b[1;33m)\u001b[0m\u001b[1;33m\u001b[0m\u001b[1;33m\u001b[0m\u001b[0m\n",
      "\u001b[1;31mValueError\u001b[0m: Data must be 1-dimensional"
     ]
    }
   ],
   "source": [
    "# Creamos el dataframe para mandarlo despues al CSV\n",
    "submission = pd.DataFrame({'id': X_test_quad, 'charges': Y_test_pred})\n",
    "# Pasamos el dataframe a CSV\n",
    "submission.to_csv('submission.csv', index=False)"
   ]
  },
  {
   "cell_type": "code",
   "execution_count": null,
   "id": "c5ceb8a6",
   "metadata": {},
   "outputs": [],
   "source": []
  }
 ],
 "metadata": {
  "kernelspec": {
   "display_name": "Python 3",
   "language": "python",
   "name": "python3"
  },
  "language_info": {
   "codemirror_mode": {
    "name": "ipython",
    "version": 3
   },
   "file_extension": ".py",
   "mimetype": "text/x-python",
   "name": "python",
   "nbconvert_exporter": "python",
   "pygments_lexer": "ipython3",
   "version": "3.8.8"
  }
 },
 "nbformat": 4,
 "nbformat_minor": 5
}
