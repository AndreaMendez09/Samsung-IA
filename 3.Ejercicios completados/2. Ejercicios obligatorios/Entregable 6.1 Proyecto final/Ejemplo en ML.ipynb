{
 "cells": [
  {
   "cell_type": "markdown",
   "id": "faf5d9c9",
   "metadata": {},
   "source": [
    "# Planificación del proyecto"
   ]
  },
  {
   "cell_type": "markdown",
   "id": "177656ea",
   "metadata": {},
   "source": [
    "## Entenidimiento del negocio "
   ]
  },
  {
   "cell_type": "markdown",
   "id": "5edce474",
   "metadata": {},
   "source": [
    "En esta práctica se deben estimar los costes médidos de diferentes pacientes usando un modelo de Machine Learning, dicha practica se podrá constrastar con las compañeras en la competición de Kaggle.\n",
    "https://www.kaggle.com/c/estimacin-de-costes-mdicos-sic-ed2-2021/overview"
   ]
  },
  {
   "cell_type": "markdown",
   "id": "a453aae4",
   "metadata": {},
   "source": [
    "## Comprensión de los datos "
   ]
  },
  {
   "cell_type": "markdown",
   "id": "8d434f93",
   "metadata": {},
   "source": [
    "Nos han dado dos ficheros csv divididos en test y train.\n",
    "Las columnas que contienen son las siguientes:\n",
    "- id: columna identificativa para PK\n",
    "- age: edad del principal beneficiario del seguro médico.\n",
    "- sex: sexo del tomador del seguro médico.\n",
    "- bmi: indice de masa corporal.\n",
    "- children: número de hijos cubiertos por el seguro médico / número de descendientes.\n",
    "- smoker: fumador.\n",
    "- region: área residencial del beneficiario del seguro médico.\n",
    "- charges: costes médicos cargados a la aseguradora. Dicha columna no la tiene test.\n",
    "\n",
    "A continuación cargaremos los datos para su correspondiente procesamiento."
   ]
  },
  {
   "cell_type": "markdown",
   "id": "a2dba195",
   "metadata": {},
   "source": [
    "### Importamos librerias"
   ]
  },
  {
   "cell_type": "code",
   "execution_count": 1,
   "id": "b69f1ad7",
   "metadata": {},
   "outputs": [],
   "source": [
    "import pandas as pd\n",
    "import numpy as np\n",
    "\n",
    "from sklearn import datasets\n",
    "from sklearn import metrics, preprocessing\n",
    "from sklearn.preprocessing import MinMaxScaler\n",
    "from sklearn.linear_model import Ridge\n",
    "from sklearn.linear_model import BayesianRidge\n",
    "from sklearn.metrics import r2_score\n",
    "from sklearn.model_selection import GridSearchCV\n",
    "from sklearn.model_selection import train_test_split\n",
    "from sklearn.linear_model import LinearRegression\n",
    "\n",
    "import keras\n",
    "from keras.models import Sequential\n",
    "from keras.layers import Dense\n",
    "from keras.wrappers.scikit_learn import KerasRegressor\n"
   ]
  },
  {
   "cell_type": "markdown",
   "id": "7301e4fd",
   "metadata": {},
   "source": [
    "### Cargamos el dataset "
   ]
  },
  {
   "cell_type": "markdown",
   "id": "980fa6bb",
   "metadata": {},
   "source": [
    "En este caso tenemos el dataset dividido en dos ficheros, la parte de entrenamiento en _train.csv_ y la parte de validación en _test.csv_, por lo tanto creamos dos variables para ellos y hacemos drop de la PK ya que no es necesaria."
   ]
  },
  {
   "cell_type": "code",
   "execution_count": 2,
   "id": "6dfe1436",
   "metadata": {},
   "outputs": [
    {
     "data": {
      "text/html": [
       "<div>\n",
       "<style scoped>\n",
       "    .dataframe tbody tr th:only-of-type {\n",
       "        vertical-align: middle;\n",
       "    }\n",
       "\n",
       "    .dataframe tbody tr th {\n",
       "        vertical-align: top;\n",
       "    }\n",
       "\n",
       "    .dataframe thead th {\n",
       "        text-align: right;\n",
       "    }\n",
       "</style>\n",
       "<table border=\"1\" class=\"dataframe\">\n",
       "  <thead>\n",
       "    <tr style=\"text-align: right;\">\n",
       "      <th></th>\n",
       "      <th>id</th>\n",
       "      <th>age</th>\n",
       "      <th>sex</th>\n",
       "      <th>bmi</th>\n",
       "      <th>children</th>\n",
       "      <th>smoker</th>\n",
       "      <th>region</th>\n",
       "      <th>charges</th>\n",
       "    </tr>\n",
       "  </thead>\n",
       "  <tbody>\n",
       "    <tr>\n",
       "      <th>0</th>\n",
       "      <td>1229</td>\n",
       "      <td>58</td>\n",
       "      <td>male</td>\n",
       "      <td>30.305</td>\n",
       "      <td>0</td>\n",
       "      <td>no</td>\n",
       "      <td>northeast</td>\n",
       "      <td>11938.25595</td>\n",
       "    </tr>\n",
       "    <tr>\n",
       "      <th>1</th>\n",
       "      <td>1073</td>\n",
       "      <td>54</td>\n",
       "      <td>female</td>\n",
       "      <td>28.880</td>\n",
       "      <td>2</td>\n",
       "      <td>no</td>\n",
       "      <td>northeast</td>\n",
       "      <td>12096.65120</td>\n",
       "    </tr>\n",
       "    <tr>\n",
       "      <th>2</th>\n",
       "      <td>768</td>\n",
       "      <td>64</td>\n",
       "      <td>female</td>\n",
       "      <td>39.700</td>\n",
       "      <td>0</td>\n",
       "      <td>no</td>\n",
       "      <td>southwest</td>\n",
       "      <td>14319.03100</td>\n",
       "    </tr>\n",
       "    <tr>\n",
       "      <th>3</th>\n",
       "      <td>606</td>\n",
       "      <td>27</td>\n",
       "      <td>female</td>\n",
       "      <td>25.175</td>\n",
       "      <td>0</td>\n",
       "      <td>no</td>\n",
       "      <td>northeast</td>\n",
       "      <td>3558.62025</td>\n",
       "    </tr>\n",
       "    <tr>\n",
       "      <th>4</th>\n",
       "      <td>342</td>\n",
       "      <td>60</td>\n",
       "      <td>female</td>\n",
       "      <td>27.550</td>\n",
       "      <td>0</td>\n",
       "      <td>no</td>\n",
       "      <td>northeast</td>\n",
       "      <td>13217.09450</td>\n",
       "    </tr>\n",
       "  </tbody>\n",
       "</table>\n",
       "</div>"
      ],
      "text/plain": [
       "     id  age     sex     bmi  children smoker     region      charges\n",
       "0  1229   58    male  30.305         0     no  northeast  11938.25595\n",
       "1  1073   54  female  28.880         2     no  northeast  12096.65120\n",
       "2   768   64  female  39.700         0     no  southwest  14319.03100\n",
       "3   606   27  female  25.175         0     no  northeast   3558.62025\n",
       "4   342   60  female  27.550         0     no  northeast  13217.09450"
      ]
     },
     "execution_count": 2,
     "metadata": {},
     "output_type": "execute_result"
    }
   ],
   "source": [
    "#Parte para el entrenamiento\n",
    "dataset_train = pd.read_csv('train.csv')\n",
    "#dataset_train = dataset_train.drop('id', 1) # Para el entrenamiento no usamos los ids\n",
    "\n",
    "#Parte para la validacion\n",
    "dataset_test = pd.read_csv('test.csv')\n",
    "#dataset_test = dataset_test.drop('id', 1) # Para la validacion no usamos los ids\n",
    "\n",
    "dataset_train.head()\n",
    "#dataset_test.head()"
   ]
  },
  {
   "cell_type": "markdown",
   "id": "774cfaf4",
   "metadata": {},
   "source": [
    "Podemos comprobar que tenemos tres variables que no son númericas que son ``sex``, ``smoker`` y ``region``. De las cuales ``sex`` y ``smoker`` son variables binarias, a continuación comprobamos los datos que puede tener ``region`` para saber como prepararla en el siguiente paso."
   ]
  },
  {
   "cell_type": "code",
   "execution_count": 3,
   "id": "1a5cea26",
   "metadata": {
    "scrolled": true
   },
   "outputs": [
    {
     "data": {
      "text/plain": [
       "southeast    251\n",
       "northeast    235\n",
       "northwest    231\n",
       "southwest    219\n",
       "Name: region, dtype: int64"
      ]
     },
     "execution_count": 3,
     "metadata": {},
     "output_type": "execute_result"
    }
   ],
   "source": [
    "dataset_train['region'].value_counts()"
   ]
  },
  {
   "cell_type": "code",
   "execution_count": 4,
   "id": "945ccc7f",
   "metadata": {},
   "outputs": [
    {
     "data": {
      "text/plain": [
       "male      481\n",
       "female    455\n",
       "Name: sex, dtype: int64"
      ]
     },
     "execution_count": 4,
     "metadata": {},
     "output_type": "execute_result"
    }
   ],
   "source": [
    "dataset_train['sex'].value_counts()"
   ]
  },
  {
   "cell_type": "code",
   "execution_count": 5,
   "id": "c18dd431",
   "metadata": {},
   "outputs": [
    {
     "data": {
      "text/plain": [
       "no     733\n",
       "yes    203\n",
       "Name: smoker, dtype: int64"
      ]
     },
     "execution_count": 5,
     "metadata": {},
     "output_type": "execute_result"
    }
   ],
   "source": [
    "dataset_train['smoker'].value_counts()"
   ]
  },
  {
   "cell_type": "markdown",
   "id": "762c004a",
   "metadata": {},
   "source": [
    "Comprobamos que en este caso, region tiene cuatro posibilidades, será tratada en la siguiente fase."
   ]
  },
  {
   "cell_type": "markdown",
   "id": "f7382b10",
   "metadata": {},
   "source": [
    "## Preparación de los datos "
   ]
  },
  {
   "cell_type": "markdown",
   "id": "478e8e58",
   "metadata": {},
   "source": [
    "Para tener todas nuestras variables de forma numerica, pasaremos las mencionadas anteriormente por un **LabelEncoder**."
   ]
  },
  {
   "cell_type": "code",
   "execution_count": 6,
   "id": "a9548f2c",
   "metadata": {},
   "outputs": [
    {
     "data": {
      "text/html": [
       "<div>\n",
       "<style scoped>\n",
       "    .dataframe tbody tr th:only-of-type {\n",
       "        vertical-align: middle;\n",
       "    }\n",
       "\n",
       "    .dataframe tbody tr th {\n",
       "        vertical-align: top;\n",
       "    }\n",
       "\n",
       "    .dataframe thead th {\n",
       "        text-align: right;\n",
       "    }\n",
       "</style>\n",
       "<table border=\"1\" class=\"dataframe\">\n",
       "  <thead>\n",
       "    <tr style=\"text-align: right;\">\n",
       "      <th></th>\n",
       "      <th>id</th>\n",
       "      <th>age</th>\n",
       "      <th>sex</th>\n",
       "      <th>bmi</th>\n",
       "      <th>children</th>\n",
       "      <th>smoker</th>\n",
       "      <th>region</th>\n",
       "      <th>charges</th>\n",
       "    </tr>\n",
       "  </thead>\n",
       "  <tbody>\n",
       "    <tr>\n",
       "      <th>0</th>\n",
       "      <td>1229</td>\n",
       "      <td>58</td>\n",
       "      <td>1</td>\n",
       "      <td>30.305</td>\n",
       "      <td>0</td>\n",
       "      <td>0</td>\n",
       "      <td>0</td>\n",
       "      <td>11938.25595</td>\n",
       "    </tr>\n",
       "    <tr>\n",
       "      <th>1</th>\n",
       "      <td>1073</td>\n",
       "      <td>54</td>\n",
       "      <td>0</td>\n",
       "      <td>28.880</td>\n",
       "      <td>2</td>\n",
       "      <td>0</td>\n",
       "      <td>0</td>\n",
       "      <td>12096.65120</td>\n",
       "    </tr>\n",
       "    <tr>\n",
       "      <th>2</th>\n",
       "      <td>768</td>\n",
       "      <td>64</td>\n",
       "      <td>0</td>\n",
       "      <td>39.700</td>\n",
       "      <td>0</td>\n",
       "      <td>0</td>\n",
       "      <td>3</td>\n",
       "      <td>14319.03100</td>\n",
       "    </tr>\n",
       "    <tr>\n",
       "      <th>3</th>\n",
       "      <td>606</td>\n",
       "      <td>27</td>\n",
       "      <td>0</td>\n",
       "      <td>25.175</td>\n",
       "      <td>0</td>\n",
       "      <td>0</td>\n",
       "      <td>0</td>\n",
       "      <td>3558.62025</td>\n",
       "    </tr>\n",
       "    <tr>\n",
       "      <th>4</th>\n",
       "      <td>342</td>\n",
       "      <td>60</td>\n",
       "      <td>0</td>\n",
       "      <td>27.550</td>\n",
       "      <td>0</td>\n",
       "      <td>0</td>\n",
       "      <td>0</td>\n",
       "      <td>13217.09450</td>\n",
       "    </tr>\n",
       "  </tbody>\n",
       "</table>\n",
       "</div>"
      ],
      "text/plain": [
       "     id  age  sex     bmi  children  smoker  region      charges\n",
       "0  1229   58    1  30.305         0       0       0  11938.25595\n",
       "1  1073   54    0  28.880         2       0       0  12096.65120\n",
       "2   768   64    0  39.700         0       0       3  14319.03100\n",
       "3   606   27    0  25.175         0       0       0   3558.62025\n",
       "4   342   60    0  27.550         0       0       0  13217.09450"
      ]
     },
     "execution_count": 6,
     "metadata": {},
     "output_type": "execute_result"
    }
   ],
   "source": [
    "le = preprocessing.LabelEncoder()\n",
    "# Para la parte de entrenamiento\n",
    "dataset_train['sex'] = le.fit_transform(dataset_train['sex'])\n",
    "dataset_train['smoker'] = le.fit_transform(dataset_train['smoker'])\n",
    "dataset_train['region'] = le.fit_transform(dataset_train['region'])\n",
    "\n",
    "# Para la parte de validación\n",
    "dataset_test['sex'] = le.fit_transform(dataset_test['sex'])\n",
    "dataset_test['smoker'] = le.fit_transform(dataset_test['smoker'])\n",
    "dataset_test['region'] = le.fit_transform(dataset_test['region'])\n",
    "\n",
    "dataset_train.head()"
   ]
  },
  {
   "cell_type": "code",
   "execution_count": 7,
   "id": "47fb483a",
   "metadata": {},
   "outputs": [
    {
     "data": {
      "text/plain": [
       "pandas.core.frame.DataFrame"
      ]
     },
     "execution_count": 7,
     "metadata": {},
     "output_type": "execute_result"
    }
   ],
   "source": [
    "type(dataset_train)"
   ]
  },
  {
   "cell_type": "markdown",
   "id": "6a0215f1",
   "metadata": {},
   "source": [
    "Como vemos a continuación, ha dejado de tener la cadena de texto y ha pasado a tener un número categorico. "
   ]
  },
  {
   "cell_type": "code",
   "execution_count": 8,
   "id": "9c15748e",
   "metadata": {
    "scrolled": true
   },
   "outputs": [
    {
     "data": {
      "text/plain": [
       "2    251\n",
       "0    235\n",
       "1    231\n",
       "3    219\n",
       "Name: region, dtype: int64"
      ]
     },
     "execution_count": 8,
     "metadata": {},
     "output_type": "execute_result"
    }
   ],
   "source": [
    "dataset_train['region'].value_counts()"
   ]
  },
  {
   "cell_type": "code",
   "execution_count": 9,
   "id": "405bcad7",
   "metadata": {},
   "outputs": [
    {
     "data": {
      "text/plain": [
       "1    481\n",
       "0    455\n",
       "Name: sex, dtype: int64"
      ]
     },
     "execution_count": 9,
     "metadata": {},
     "output_type": "execute_result"
    }
   ],
   "source": [
    "dataset_train['sex'].value_counts()"
   ]
  },
  {
   "cell_type": "code",
   "execution_count": 10,
   "id": "0bb0a3ea",
   "metadata": {},
   "outputs": [
    {
     "data": {
      "text/plain": [
       "0    733\n",
       "1    203\n",
       "Name: smoker, dtype: int64"
      ]
     },
     "execution_count": 10,
     "metadata": {},
     "output_type": "execute_result"
    }
   ],
   "source": [
    "dataset_train['smoker'].value_counts()"
   ]
  },
  {
   "cell_type": "markdown",
   "id": "de8132e5",
   "metadata": {},
   "source": [
    "A continuación realizaremos un **MinMaxScaler** para normalizar las variables y que ninguna categoría de una columna tenga más peso que otra, para así entrenar a nuestro modelo correctamente."
   ]
  },
  {
   "cell_type": "code",
   "execution_count": 11,
   "id": "5f32042e",
   "metadata": {},
   "outputs": [
    {
     "data": {
      "text/html": [
       "<div>\n",
       "<style scoped>\n",
       "    .dataframe tbody tr th:only-of-type {\n",
       "        vertical-align: middle;\n",
       "    }\n",
       "\n",
       "    .dataframe tbody tr th {\n",
       "        vertical-align: top;\n",
       "    }\n",
       "\n",
       "    .dataframe thead th {\n",
       "        text-align: right;\n",
       "    }\n",
       "</style>\n",
       "<table border=\"1\" class=\"dataframe\">\n",
       "  <thead>\n",
       "    <tr style=\"text-align: right;\">\n",
       "      <th></th>\n",
       "      <th>age</th>\n",
       "      <th>sex</th>\n",
       "      <th>bmi</th>\n",
       "      <th>children</th>\n",
       "      <th>smoker</th>\n",
       "      <th>region</th>\n",
       "    </tr>\n",
       "  </thead>\n",
       "  <tbody>\n",
       "    <tr>\n",
       "      <th>0</th>\n",
       "      <td>58</td>\n",
       "      <td>1</td>\n",
       "      <td>30.305</td>\n",
       "      <td>0</td>\n",
       "      <td>0</td>\n",
       "      <td>0</td>\n",
       "    </tr>\n",
       "    <tr>\n",
       "      <th>1</th>\n",
       "      <td>54</td>\n",
       "      <td>0</td>\n",
       "      <td>28.880</td>\n",
       "      <td>2</td>\n",
       "      <td>0</td>\n",
       "      <td>0</td>\n",
       "    </tr>\n",
       "    <tr>\n",
       "      <th>2</th>\n",
       "      <td>64</td>\n",
       "      <td>0</td>\n",
       "      <td>39.700</td>\n",
       "      <td>0</td>\n",
       "      <td>0</td>\n",
       "      <td>3</td>\n",
       "    </tr>\n",
       "    <tr>\n",
       "      <th>3</th>\n",
       "      <td>27</td>\n",
       "      <td>0</td>\n",
       "      <td>25.175</td>\n",
       "      <td>0</td>\n",
       "      <td>0</td>\n",
       "      <td>0</td>\n",
       "    </tr>\n",
       "    <tr>\n",
       "      <th>4</th>\n",
       "      <td>60</td>\n",
       "      <td>0</td>\n",
       "      <td>27.550</td>\n",
       "      <td>0</td>\n",
       "      <td>0</td>\n",
       "      <td>0</td>\n",
       "    </tr>\n",
       "    <tr>\n",
       "      <th>...</th>\n",
       "      <td>...</td>\n",
       "      <td>...</td>\n",
       "      <td>...</td>\n",
       "      <td>...</td>\n",
       "      <td>...</td>\n",
       "      <td>...</td>\n",
       "    </tr>\n",
       "    <tr>\n",
       "      <th>931</th>\n",
       "      <td>60</td>\n",
       "      <td>0</td>\n",
       "      <td>32.450</td>\n",
       "      <td>0</td>\n",
       "      <td>1</td>\n",
       "      <td>2</td>\n",
       "    </tr>\n",
       "    <tr>\n",
       "      <th>932</th>\n",
       "      <td>62</td>\n",
       "      <td>0</td>\n",
       "      <td>39.160</td>\n",
       "      <td>0</td>\n",
       "      <td>0</td>\n",
       "      <td>2</td>\n",
       "    </tr>\n",
       "    <tr>\n",
       "      <th>933</th>\n",
       "      <td>55</td>\n",
       "      <td>0</td>\n",
       "      <td>29.830</td>\n",
       "      <td>0</td>\n",
       "      <td>0</td>\n",
       "      <td>0</td>\n",
       "    </tr>\n",
       "    <tr>\n",
       "      <th>934</th>\n",
       "      <td>20</td>\n",
       "      <td>0</td>\n",
       "      <td>33.300</td>\n",
       "      <td>0</td>\n",
       "      <td>0</td>\n",
       "      <td>3</td>\n",
       "    </tr>\n",
       "    <tr>\n",
       "      <th>935</th>\n",
       "      <td>57</td>\n",
       "      <td>1</td>\n",
       "      <td>42.130</td>\n",
       "      <td>1</td>\n",
       "      <td>1</td>\n",
       "      <td>2</td>\n",
       "    </tr>\n",
       "  </tbody>\n",
       "</table>\n",
       "<p>936 rows × 6 columns</p>\n",
       "</div>"
      ],
      "text/plain": [
       "     age  sex     bmi  children  smoker  region\n",
       "0     58    1  30.305         0       0       0\n",
       "1     54    0  28.880         2       0       0\n",
       "2     64    0  39.700         0       0       3\n",
       "3     27    0  25.175         0       0       0\n",
       "4     60    0  27.550         0       0       0\n",
       "..   ...  ...     ...       ...     ...     ...\n",
       "931   60    0  32.450         0       1       2\n",
       "932   62    0  39.160         0       0       2\n",
       "933   55    0  29.830         0       0       0\n",
       "934   20    0  33.300         0       0       3\n",
       "935   57    1  42.130         1       1       2\n",
       "\n",
       "[936 rows x 6 columns]"
      ]
     },
     "execution_count": 11,
     "metadata": {},
     "output_type": "execute_result"
    }
   ],
   "source": [
    "dataset_train.iloc[:,1:-1]"
   ]
  },
  {
   "cell_type": "code",
   "execution_count": 12,
   "id": "73a562a5",
   "metadata": {},
   "outputs": [],
   "source": [
    "# Parte para el entrenamiento\n",
    "sc_train = MinMaxScaler()\n",
    "sc_train.fit(dataset_train.iloc[:,1:-1]) # Se ajusta el reescalador, y omitimos la columna de id, para que no la normalice\n",
    "dataset_train[['age','sex','bmi','children','smoker','region']] = sc_train.transform(dataset_train[['age','sex','bmi','children','smoker','region']])\n",
    "\n",
    "#Parte para validacion\n",
    "sc_test = MinMaxScaler()\n",
    "sc_test.fit(dataset_test.iloc[:,1:]) # Se ajusta el reescalador\n",
    "dataset_test[['age','sex','bmi','children','smoker','region']] = sc_test.transform(dataset_test[['age','sex','bmi','children','smoker','region']])"
   ]
  },
  {
   "cell_type": "code",
   "execution_count": 13,
   "id": "b4d3d0d0",
   "metadata": {},
   "outputs": [
    {
     "data": {
      "text/html": [
       "<div>\n",
       "<style scoped>\n",
       "    .dataframe tbody tr th:only-of-type {\n",
       "        vertical-align: middle;\n",
       "    }\n",
       "\n",
       "    .dataframe tbody tr th {\n",
       "        vertical-align: top;\n",
       "    }\n",
       "\n",
       "    .dataframe thead th {\n",
       "        text-align: right;\n",
       "    }\n",
       "</style>\n",
       "<table border=\"1\" class=\"dataframe\">\n",
       "  <thead>\n",
       "    <tr style=\"text-align: right;\">\n",
       "      <th></th>\n",
       "      <th>id</th>\n",
       "      <th>age</th>\n",
       "      <th>sex</th>\n",
       "      <th>bmi</th>\n",
       "      <th>children</th>\n",
       "      <th>smoker</th>\n",
       "      <th>region</th>\n",
       "      <th>charges</th>\n",
       "    </tr>\n",
       "  </thead>\n",
       "  <tbody>\n",
       "    <tr>\n",
       "      <th>0</th>\n",
       "      <td>1229</td>\n",
       "      <td>0.869565</td>\n",
       "      <td>1.0</td>\n",
       "      <td>0.377184</td>\n",
       "      <td>0.0</td>\n",
       "      <td>0.0</td>\n",
       "      <td>0.000000</td>\n",
       "      <td>11938.25595</td>\n",
       "    </tr>\n",
       "    <tr>\n",
       "      <th>1</th>\n",
       "      <td>1073</td>\n",
       "      <td>0.782609</td>\n",
       "      <td>0.0</td>\n",
       "      <td>0.337341</td>\n",
       "      <td>0.4</td>\n",
       "      <td>0.0</td>\n",
       "      <td>0.000000</td>\n",
       "      <td>12096.65120</td>\n",
       "    </tr>\n",
       "    <tr>\n",
       "      <th>2</th>\n",
       "      <td>768</td>\n",
       "      <td>1.000000</td>\n",
       "      <td>0.0</td>\n",
       "      <td>0.639871</td>\n",
       "      <td>0.0</td>\n",
       "      <td>0.0</td>\n",
       "      <td>1.000000</td>\n",
       "      <td>14319.03100</td>\n",
       "    </tr>\n",
       "    <tr>\n",
       "      <th>3</th>\n",
       "      <td>606</td>\n",
       "      <td>0.195652</td>\n",
       "      <td>0.0</td>\n",
       "      <td>0.233748</td>\n",
       "      <td>0.0</td>\n",
       "      <td>0.0</td>\n",
       "      <td>0.000000</td>\n",
       "      <td>3558.62025</td>\n",
       "    </tr>\n",
       "    <tr>\n",
       "      <th>4</th>\n",
       "      <td>342</td>\n",
       "      <td>0.913043</td>\n",
       "      <td>0.0</td>\n",
       "      <td>0.300154</td>\n",
       "      <td>0.0</td>\n",
       "      <td>0.0</td>\n",
       "      <td>0.000000</td>\n",
       "      <td>13217.09450</td>\n",
       "    </tr>\n",
       "    <tr>\n",
       "      <th>...</th>\n",
       "      <td>...</td>\n",
       "      <td>...</td>\n",
       "      <td>...</td>\n",
       "      <td>...</td>\n",
       "      <td>...</td>\n",
       "      <td>...</td>\n",
       "      <td>...</td>\n",
       "      <td>...</td>\n",
       "    </tr>\n",
       "    <tr>\n",
       "      <th>931</th>\n",
       "      <td>845</td>\n",
       "      <td>0.913043</td>\n",
       "      <td>0.0</td>\n",
       "      <td>0.437159</td>\n",
       "      <td>0.0</td>\n",
       "      <td>1.0</td>\n",
       "      <td>0.666667</td>\n",
       "      <td>45008.95550</td>\n",
       "    </tr>\n",
       "    <tr>\n",
       "      <th>932</th>\n",
       "      <td>928</td>\n",
       "      <td>0.956522</td>\n",
       "      <td>0.0</td>\n",
       "      <td>0.624773</td>\n",
       "      <td>0.0</td>\n",
       "      <td>0.0</td>\n",
       "      <td>0.666667</td>\n",
       "      <td>13470.80440</td>\n",
       "    </tr>\n",
       "    <tr>\n",
       "      <th>933</th>\n",
       "      <td>1091</td>\n",
       "      <td>0.804348</td>\n",
       "      <td>0.0</td>\n",
       "      <td>0.363903</td>\n",
       "      <td>0.0</td>\n",
       "      <td>0.0</td>\n",
       "      <td>0.000000</td>\n",
       "      <td>11286.53870</td>\n",
       "    </tr>\n",
       "    <tr>\n",
       "      <th>934</th>\n",
       "      <td>1268</td>\n",
       "      <td>0.043478</td>\n",
       "      <td>0.0</td>\n",
       "      <td>0.460925</td>\n",
       "      <td>0.0</td>\n",
       "      <td>0.0</td>\n",
       "      <td>1.000000</td>\n",
       "      <td>1880.48700</td>\n",
       "    </tr>\n",
       "    <tr>\n",
       "      <th>935</th>\n",
       "      <td>530</td>\n",
       "      <td>0.847826</td>\n",
       "      <td>1.0</td>\n",
       "      <td>0.707815</td>\n",
       "      <td>0.2</td>\n",
       "      <td>1.0</td>\n",
       "      <td>0.666667</td>\n",
       "      <td>48675.51770</td>\n",
       "    </tr>\n",
       "  </tbody>\n",
       "</table>\n",
       "<p>936 rows × 8 columns</p>\n",
       "</div>"
      ],
      "text/plain": [
       "       id       age  sex       bmi  children  smoker    region      charges\n",
       "0    1229  0.869565  1.0  0.377184       0.0     0.0  0.000000  11938.25595\n",
       "1    1073  0.782609  0.0  0.337341       0.4     0.0  0.000000  12096.65120\n",
       "2     768  1.000000  0.0  0.639871       0.0     0.0  1.000000  14319.03100\n",
       "3     606  0.195652  0.0  0.233748       0.0     0.0  0.000000   3558.62025\n",
       "4     342  0.913043  0.0  0.300154       0.0     0.0  0.000000  13217.09450\n",
       "..    ...       ...  ...       ...       ...     ...       ...          ...\n",
       "931   845  0.913043  0.0  0.437159       0.0     1.0  0.666667  45008.95550\n",
       "932   928  0.956522  0.0  0.624773       0.0     0.0  0.666667  13470.80440\n",
       "933  1091  0.804348  0.0  0.363903       0.0     0.0  0.000000  11286.53870\n",
       "934  1268  0.043478  0.0  0.460925       0.0     0.0  1.000000   1880.48700\n",
       "935   530  0.847826  1.0  0.707815       0.2     1.0  0.666667  48675.51770\n",
       "\n",
       "[936 rows x 8 columns]"
      ]
     },
     "execution_count": 13,
     "metadata": {},
     "output_type": "execute_result"
    }
   ],
   "source": [
    "dataset_train"
   ]
  },
  {
   "cell_type": "code",
   "execution_count": 14,
   "id": "318730d2",
   "metadata": {},
   "outputs": [],
   "source": [
    "#Otra forma de realizar el MinMaxScaler, esta variable no se utilizara en este ejercicio\n",
    "scaler = preprocessing.MinMaxScaler()\n",
    "df = pd.DataFrame(scaler.fit_transform(dataset_train.iloc[:,1:]), columns=['age','sex','bmi','children','smoker','region','charges'], index=dataset_train.id)"
   ]
  },
  {
   "cell_type": "markdown",
   "id": "0621309e",
   "metadata": {},
   "source": [
    "Teniendo el dataset cargado y las variables normalizadas, ahora tendremos que separar la columna a predecir, que en este caso es ``charges`` y dividir nuestro dataset en las variables correspondientes. Tales como:\n",
    "- X_train: Será nuestra fuente de datos para el entrenamiento.\n",
    "- Y_train: Será nuestra fuente de datos de entrenamiento para la variable a predecir.\n",
    "- X_test: Será nuestra fuente de datos de validación, la cual no le ofreceremos la variable a predecir.\n",
    "- Y_test: Será nuestra fuente de datos de validación, sirve para obtener el rendimiento de nuestro modelo."
   ]
  },
  {
   "cell_type": "code",
   "execution_count": 15,
   "id": "55b597f5",
   "metadata": {},
   "outputs": [],
   "source": [
    "#MinMaxScaler nos devuelve un numpy array, lo pasamos a pandas DataFrame para poder trabajar mejor\n",
    "dataset_train = pd.DataFrame(dataset_train)\n",
    "dataset_test = pd.DataFrame(dataset_test)\n",
    "\n",
    "# Se separa la columna a predecir\n",
    "X_train = dataset_train.iloc[:,1:-1] #Ignoramos la columna de Id \n",
    "Y_train = dataset_train.iloc[:,-1]\n",
    "X_test = dataset_test"
   ]
  },
  {
   "cell_type": "markdown",
   "id": "a883bcff",
   "metadata": {},
   "source": [
    "## Modelado "
   ]
  },
  {
   "cell_type": "markdown",
   "id": "af5bb282",
   "metadata": {},
   "source": [
    "Tenemos ya los datos correctos y normalizados, ahora toca elegir el tipo de modelo que vamos a desarrollar y la estructura que más se adecue, probaremos varias para constrastar datos.\n",
    "\n",
    "En este caso, al tener claramente una variable de salida no categorica, por lo tanto descaramos _Clasificacion_ , como tenemos variable de salida, descartamos _Clustering_, nos quedaría la opción más sensata que es **Regresion**.\n",
    "\n"
   ]
  },
  {
   "cell_type": "markdown",
   "id": "ff55b700",
   "metadata": {},
   "source": [
    "### Linear Regression"
   ]
  },
  {
   "cell_type": "code",
   "execution_count": 16,
   "id": "85e4a916",
   "metadata": {},
   "outputs": [
    {
     "name": "stdout",
     "output_type": "stream",
     "text": [
      "0.7496636971119938\n"
     ]
    }
   ],
   "source": [
    "reg = LinearRegression().fit(X_train, Y_train)\n",
    "print(reg.score(X_train, Y_train))"
   ]
  },
  {
   "cell_type": "markdown",
   "id": "1e09b103",
   "metadata": {},
   "source": [
    "## Evaluación "
   ]
  },
  {
   "cell_type": "markdown",
   "id": "9df22d69",
   "metadata": {},
   "source": [
    "## Subir el modelo a Kaggle"
   ]
  },
  {
   "cell_type": "code",
   "execution_count": 17,
   "id": "2d325c9e",
   "metadata": {},
   "outputs": [
    {
     "name": "stdout",
     "output_type": "stream",
     "text": [
      "Requirement already satisfied: kaggle in d:\\anaconda\\lib\\site-packages (1.5.12)\n",
      "Requirement already satisfied: urllib3 in d:\\anaconda\\lib\\site-packages (from kaggle) (1.26.4)\n",
      "Requirement already satisfied: python-dateutil in d:\\anaconda\\lib\\site-packages (from kaggle) (2.8.1)\n",
      "Requirement already satisfied: requests in d:\\anaconda\\lib\\site-packages (from kaggle) (2.25.1)\n",
      "Requirement already satisfied: tqdm in d:\\anaconda\\lib\\site-packages (from kaggle) (4.59.0)\n",
      "Requirement already satisfied: six>=1.10 in d:\\anaconda\\lib\\site-packages (from kaggle) (1.15.0)\n",
      "Requirement already satisfied: certifi in d:\\anaconda\\lib\\site-packages (from kaggle) (2020.12.5)\n",
      "Requirement already satisfied: python-slugify in d:\\anaconda\\lib\\site-packages (from kaggle) (5.0.2)\n",
      "Requirement already satisfied: text-unidecode>=1.3 in d:\\anaconda\\lib\\site-packages (from python-slugify->kaggle) (1.3)\n",
      "Requirement already satisfied: chardet<5,>=3.0.2 in d:\\anaconda\\lib\\site-packages (from requests->kaggle) (4.0.0)\n",
      "Requirement already satisfied: idna<3,>=2.5 in d:\\anaconda\\lib\\site-packages (from requests->kaggle) (2.10)\n"
     ]
    }
   ],
   "source": [
    "!pip install kaggle"
   ]
  },
  {
   "cell_type": "code",
   "execution_count": 18,
   "id": "3e9aaabb",
   "metadata": {},
   "outputs": [
    {
     "data": {
      "text/html": [
       "<div>\n",
       "<style scoped>\n",
       "    .dataframe tbody tr th:only-of-type {\n",
       "        vertical-align: middle;\n",
       "    }\n",
       "\n",
       "    .dataframe tbody tr th {\n",
       "        vertical-align: top;\n",
       "    }\n",
       "\n",
       "    .dataframe thead th {\n",
       "        text-align: right;\n",
       "    }\n",
       "</style>\n",
       "<table border=\"1\" class=\"dataframe\">\n",
       "  <thead>\n",
       "    <tr style=\"text-align: right;\">\n",
       "      <th></th>\n",
       "      <th>age</th>\n",
       "      <th>sex</th>\n",
       "      <th>bmi</th>\n",
       "      <th>children</th>\n",
       "      <th>smoker</th>\n",
       "      <th>region</th>\n",
       "    </tr>\n",
       "  </thead>\n",
       "  <tbody>\n",
       "    <tr>\n",
       "      <th>0</th>\n",
       "      <td>0.869565</td>\n",
       "      <td>1.0</td>\n",
       "      <td>0.377184</td>\n",
       "      <td>0.0</td>\n",
       "      <td>0.0</td>\n",
       "      <td>0.000000</td>\n",
       "    </tr>\n",
       "    <tr>\n",
       "      <th>1</th>\n",
       "      <td>0.782609</td>\n",
       "      <td>0.0</td>\n",
       "      <td>0.337341</td>\n",
       "      <td>0.4</td>\n",
       "      <td>0.0</td>\n",
       "      <td>0.000000</td>\n",
       "    </tr>\n",
       "    <tr>\n",
       "      <th>2</th>\n",
       "      <td>1.000000</td>\n",
       "      <td>0.0</td>\n",
       "      <td>0.639871</td>\n",
       "      <td>0.0</td>\n",
       "      <td>0.0</td>\n",
       "      <td>1.000000</td>\n",
       "    </tr>\n",
       "    <tr>\n",
       "      <th>3</th>\n",
       "      <td>0.195652</td>\n",
       "      <td>0.0</td>\n",
       "      <td>0.233748</td>\n",
       "      <td>0.0</td>\n",
       "      <td>0.0</td>\n",
       "      <td>0.000000</td>\n",
       "    </tr>\n",
       "    <tr>\n",
       "      <th>4</th>\n",
       "      <td>0.913043</td>\n",
       "      <td>0.0</td>\n",
       "      <td>0.300154</td>\n",
       "      <td>0.0</td>\n",
       "      <td>0.0</td>\n",
       "      <td>0.000000</td>\n",
       "    </tr>\n",
       "    <tr>\n",
       "      <th>...</th>\n",
       "      <td>...</td>\n",
       "      <td>...</td>\n",
       "      <td>...</td>\n",
       "      <td>...</td>\n",
       "      <td>...</td>\n",
       "      <td>...</td>\n",
       "    </tr>\n",
       "    <tr>\n",
       "      <th>931</th>\n",
       "      <td>0.913043</td>\n",
       "      <td>0.0</td>\n",
       "      <td>0.437159</td>\n",
       "      <td>0.0</td>\n",
       "      <td>1.0</td>\n",
       "      <td>0.666667</td>\n",
       "    </tr>\n",
       "    <tr>\n",
       "      <th>932</th>\n",
       "      <td>0.956522</td>\n",
       "      <td>0.0</td>\n",
       "      <td>0.624773</td>\n",
       "      <td>0.0</td>\n",
       "      <td>0.0</td>\n",
       "      <td>0.666667</td>\n",
       "    </tr>\n",
       "    <tr>\n",
       "      <th>933</th>\n",
       "      <td>0.804348</td>\n",
       "      <td>0.0</td>\n",
       "      <td>0.363903</td>\n",
       "      <td>0.0</td>\n",
       "      <td>0.0</td>\n",
       "      <td>0.000000</td>\n",
       "    </tr>\n",
       "    <tr>\n",
       "      <th>934</th>\n",
       "      <td>0.043478</td>\n",
       "      <td>0.0</td>\n",
       "      <td>0.460925</td>\n",
       "      <td>0.0</td>\n",
       "      <td>0.0</td>\n",
       "      <td>1.000000</td>\n",
       "    </tr>\n",
       "    <tr>\n",
       "      <th>935</th>\n",
       "      <td>0.847826</td>\n",
       "      <td>1.0</td>\n",
       "      <td>0.707815</td>\n",
       "      <td>0.2</td>\n",
       "      <td>1.0</td>\n",
       "      <td>0.666667</td>\n",
       "    </tr>\n",
       "  </tbody>\n",
       "</table>\n",
       "<p>936 rows × 6 columns</p>\n",
       "</div>"
      ],
      "text/plain": [
       "          age  sex       bmi  children  smoker    region\n",
       "0    0.869565  1.0  0.377184       0.0     0.0  0.000000\n",
       "1    0.782609  0.0  0.337341       0.4     0.0  0.000000\n",
       "2    1.000000  0.0  0.639871       0.0     0.0  1.000000\n",
       "3    0.195652  0.0  0.233748       0.0     0.0  0.000000\n",
       "4    0.913043  0.0  0.300154       0.0     0.0  0.000000\n",
       "..        ...  ...       ...       ...     ...       ...\n",
       "931  0.913043  0.0  0.437159       0.0     1.0  0.666667\n",
       "932  0.956522  0.0  0.624773       0.0     0.0  0.666667\n",
       "933  0.804348  0.0  0.363903       0.0     0.0  0.000000\n",
       "934  0.043478  0.0  0.460925       0.0     0.0  1.000000\n",
       "935  0.847826  1.0  0.707815       0.2     1.0  0.666667\n",
       "\n",
       "[936 rows x 6 columns]"
      ]
     },
     "execution_count": 18,
     "metadata": {},
     "output_type": "execute_result"
    }
   ],
   "source": [
    "X_train"
   ]
  },
  {
   "cell_type": "code",
   "execution_count": 20,
   "id": "800a58dd",
   "metadata": {},
   "outputs": [
    {
     "data": {
      "text/plain": [
       "402"
      ]
     },
     "execution_count": 20,
     "metadata": {},
     "output_type": "execute_result"
    }
   ],
   "source": [
    "len(X_test.iloc[:,0:1].to_numpy().flatten())"
   ]
  },
  {
   "cell_type": "code",
   "execution_count": 23,
   "id": "4746d965",
   "metadata": {},
   "outputs": [
    {
     "name": "stdout",
     "output_type": "stream",
     "text": [
      "[ 7.40737392e+03  4.79878681e+03  1.80380871e+03  3.22211659e+04\n",
      "  1.36691731e+04  1.43939936e+04  5.50030692e+03  1.24789496e+04\n",
      "  1.16838785e+04  7.54873613e+03  1.52014767e+04  3.37313342e+04\n",
      "  3.26213450e+03  3.55453229e+03  7.93869936e+03  1.38792589e+04\n",
      "  1.29662678e+04  4.80501967e+03  9.00096850e+03  3.38592297e+04\n",
      "  1.60039289e+04  3.23725099e+03  2.75251785e+04  1.54906986e+04\n",
      "  1.46435857e+04  1.16223729e+04  5.42728109e+03 -5.11244592e+02\n",
      "  5.51439703e+03  5.19934300e+03  1.52464534e+04  1.39937100e+04\n",
      "  2.66278287e+03  6.66500512e+03  2.86749354e+04  1.06467640e+04\n",
      "  6.79938511e+03  3.00275599e+04  1.15172130e+04  1.33812813e+04\n",
      "  3.23418232e+03  8.15175694e+03  4.03454899e+03  2.92867873e+04\n",
      "  7.75707380e+03  1.27460829e+04  1.12377155e+04  1.22739098e+04\n",
      "  3.41178574e+03  2.83725601e+03  2.94801121e+04  3.54682786e+03\n",
      "  1.49554186e+04  6.26866757e+03  1.01539805e+04  6.19249953e+03\n",
      "  3.65554784e+04  3.73502416e+04  7.94226392e+03  3.25345496e+04\n",
      "  5.12171533e+03  3.14102514e+03  1.26457228e+04  2.98487803e+04\n",
      "  1.22224641e+04  2.72868887e+02  5.83830786e+03  7.61646407e+03\n",
      "  8.49814495e+03  6.56183208e+03  3.29974064e+03  1.21948245e+04\n",
      "  3.41268828e+04  1.70699605e+04  1.05408375e+04  1.43580487e+04\n",
      "  3.99810595e+04  3.77289378e+04  8.26280893e+03  1.42481851e+03\n",
      "  1.02084475e+04  1.62033660e+04  1.65531753e+04  1.36870450e+04\n",
      "  3.31648937e+04  2.56894411e+04  3.08550493e+04  3.18782444e+03\n",
      "  6.94060818e+03  1.08148383e+04  1.07021022e+03  3.09617047e+04\n",
      "  1.63492040e+04  1.23695908e+04  1.19337321e+04  1.27022601e+04\n",
      "  2.22507053e+03  1.17390834e+04  1.32411780e+04  1.04079750e+04\n",
      "  3.32472997e+04  2.26138724e+03  1.02175839e+04  1.75579449e+02\n",
      "  1.22164104e+04  4.84069115e+03  9.75864812e+03  5.91801988e+03\n",
      "  7.09531602e+02  1.07107823e+04  1.01128589e+04  1.01938663e+04\n",
      "  9.57344209e+03  5.89664187e+03  1.33204304e+04  1.31621677e+04\n",
      "  5.57348668e+03  6.18054966e+03  1.51977138e+04  1.30512680e+04\n",
      "  2.60697976e+03  1.36958461e+04  7.12314107e+03  3.45465382e+03\n",
      "  7.03790473e+03  3.00424216e+04  5.73931672e+03  1.21885109e+04\n",
      "  4.23628770e+03  3.28773187e+04  2.62414225e+03  3.04895292e+03\n",
      "  3.40681432e+03  6.05600037e+03  7.37494132e+03  1.09776413e+04\n",
      "  8.37214972e+03  1.92643275e+04  1.98065594e+03  9.11758036e+03\n",
      "  5.09156359e+03  3.20392316e+04  7.14826864e+03  1.81940959e+04\n",
      "  1.92973039e+03  1.15312159e+04  1.91436341e+03  4.25655024e+03\n",
      "  7.79783470e+03  1.26111428e+04  9.58248612e+03  2.95495828e+04\n",
      "  9.47029362e+03  4.98221589e+03  1.44895999e+04  7.91020515e+03\n",
      "  2.49172454e+03  5.92992900e+03  1.66945322e+04  1.36785807e+04\n",
      "  1.09851533e+04  2.85464634e+03  1.09897905e+04  7.86627006e+03\n",
      "  9.37048641e+03  1.09050615e+04  1.25787185e+04  4.96124462e+02\n",
      "  1.39097066e+04  1.16174987e+04  5.59656445e+03  3.69462965e+03\n",
      "  4.45681166e+03  3.76848707e+04  1.64828524e+04  2.81533041e+04\n",
      "  1.25745347e+04  9.58769844e+03  8.11492242e+03  1.24497237e+04\n",
      "  8.45675046e+03  2.00667542e+03  3.30173955e+04  3.28580584e+04\n",
      "  1.15206273e+04  9.94333467e+03  6.82741399e+03  1.12317495e+04\n",
      "  5.86322160e+03  4.89490407e+03  1.28390065e+02  3.61858136e+03\n",
      "  2.79673321e+03  1.50441197e+04  2.98339149e+04  1.10842514e+04\n",
      "  1.43300897e+04  8.42074653e+03  2.02944779e+03  3.19605566e+04\n",
      "  3.24374547e+04  1.52286596e+04  2.60244177e+03  5.53425784e+03\n",
      "  9.17098976e+03  1.23178728e+04  4.72259539e+03  1.48940578e+04\n",
      "  3.08202928e+04  1.10717688e+04  1.13264168e+04  2.87455330e+04\n",
      "  3.62753385e+04  3.54116298e+03  7.63555640e+03  3.60036660e+04\n",
      "  1.07146408e+04  1.23253694e+04  7.70930674e+03  5.71203775e+03\n",
      "  5.75085143e+03 -9.39955906e+02  4.09487526e+02  2.28804323e+03\n",
      "  1.50328521e+04  1.36407171e+04  5.89567151e+03  1.81362914e+04\n",
      "  1.46971166e+04  1.17118934e+04  3.85211897e+04  2.81388895e+04\n",
      "  4.43620975e+03  1.03481234e+04  1.02235901e+04  1.31653014e+04\n",
      "  9.83185699e+03  7.15772928e+03  1.34201617e+04  5.92534766e+03\n",
      "  9.20387597e+03 -5.57974581e+02  8.71020454e+03  2.64026884e+03\n",
      "  9.51722919e+03  5.41443329e+03  9.34679503e+03  1.74067432e+04\n",
      "  8.90596871e+03  1.43773783e+04  2.44175764e+03  1.25913476e+04\n",
      "  3.30529914e+04  4.38921800e+03  3.74266086e+04  5.03958388e+03\n",
      "  5.75830499e+03  6.16210745e+03  1.06074630e+04  3.95706990e+03\n",
      "  2.99941664e+04  6.08457559e+03  2.75384822e+04  3.08075076e+03\n",
      "  3.19422823e+04  7.50320457e+03  2.71032623e+04  1.17907115e+04\n",
      "  2.27014758e+03  7.04402524e+03  3.95240241e+04  3.34511720e+04\n",
      "  2.83279860e+04  1.11727266e+04  1.57451966e+04  3.36386647e+04\n",
      "  2.55960345e+01  1.59162877e+04  3.05205194e+04  1.53967117e+04\n",
      "  5.30574318e+03  3.84045108e+04  1.03782481e+04  9.14525653e+03\n",
      "  3.37388308e+04  6.48565978e+03  3.07926121e+04  8.72719283e+03\n",
      "  3.92396978e+04  1.49817364e+04  3.75159458e+04  4.99446588e+02\n",
      "  4.69159623e+03  1.45583189e+04  1.44232537e+04  3.34270647e+04\n",
      "  1.28737427e+04  5.93154690e+03  1.24452210e+04  2.44012466e+03\n",
      "  1.70614975e+03  3.18269396e+04  3.41028703e+03  6.54793443e+03\n",
      "  1.00473377e+03  7.17372419e+03  1.04511567e+04  1.43357614e+04\n",
      "  1.51759362e+04  2.89649974e+04  1.84493376e+03  1.33763473e+04\n",
      "  4.53172364e+03  1.18725375e+04  1.10124203e+04  1.11460091e+04\n",
      "  2.04345069e+03  1.82686144e+04  1.37832905e+04  6.78979474e+03\n",
      "  1.18722875e+04  8.56333515e+03  3.34662502e+04  3.63855236e+04\n",
      "  1.05120199e+03  1.06389019e+04  1.57912557e+04  1.46614098e+04\n",
      "  5.98770703e+03  5.50308904e+03  5.68754488e+03  1.09297499e+04\n",
      "  1.15721676e+04  1.69813133e+04  3.78208607e+03  3.31984765e+04\n",
      "  4.93183356e+03  1.41278588e+04  8.20639157e+03  8.47525213e+02\n",
      "  1.17726873e+04  3.50756640e+04  2.57874956e+03  7.32206744e+03\n",
      "  1.46558410e+04  8.10656070e+03  8.59841666e+03  2.33060334e+03\n",
      "  8.95044240e+03  1.18752846e+04  2.76574235e+04  3.17964919e+04\n",
      " -7.43529050e+02  1.00521660e+04  1.24802110e+04  1.78898546e+04\n",
      "  1.18563477e+04  2.94674009e+04  2.53581486e+04  1.11829879e+04\n",
      "  3.92089453e+04 -2.11915512e+03  5.78398545e+03  1.01776471e+04\n",
      "  5.15615497e+03  9.34052482e+03  7.41732153e+03  6.27505097e+03\n",
      "  6.93399323e+03  1.34071280e+04  1.50277578e+03  6.67825265e+03\n",
      "  7.17897044e+03  1.45241938e+04  1.62836106e+04  4.71512407e+02\n",
      "  4.10595439e+04  3.54547773e+03  6.98233317e+03  1.81320702e+04\n",
      "  1.44037741e+04  1.18335326e+04  1.40201398e+04  2.91090039e+04\n",
      "  1.54387566e+04  4.83792703e+03  1.57284738e+04  3.70469101e+04\n",
      "  9.17233990e+03  1.06806440e+04  3.21689404e+04  4.90305163e+03\n",
      "  7.36054812e+03  3.61186897e+04  9.25969792e+03  1.17317316e+04\n",
      "  5.28878880e+03  1.43742571e+04  7.58739128e+03  8.50131885e+03\n",
      "  3.35694093e+03  4.04018431e+04]\n"
     ]
    }
   ],
   "source": [
    "# Use the model to make predictions\n",
    "predicted_prices = reg.predict(X_test.iloc[:,1:])\n",
    "# We will look at the predicted prices to ensure we have something sensible.\n",
    "print(predicted_prices)\n",
    "#,index=X_test.iloc[:,0:1].to_numpy().flatten()\n",
    "my_submission = pd.DataFrame({'id': X_test.iloc[:,0:1].to_numpy().flatten(), 'charges': predicted_prices})\n",
    "# you could use any filename. We choose submission here\n",
    "my_submission.to_csv('submission.csv', index=False)"
   ]
  },
  {
   "cell_type": "code",
   "execution_count": 24,
   "id": "f74d17c3",
   "metadata": {},
   "outputs": [
    {
     "name": "stdout",
     "output_type": "stream",
     "text": [
      "Successfully submitted to Estimación de costes médicos (SIC - Ed.2 - 2021)\n"
     ]
    },
    {
     "name": "stderr",
     "output_type": "stream",
     "text": [
      "\n",
      "  0%|          | 0.00/9.29k [00:00<?, ?B/s]\n",
      "100%|##########| 9.29k/9.29k [00:01<00:00, 5.55kB/s]\n"
     ]
    }
   ],
   "source": [
    "!kaggle competitions submit -c estimacin-de-costes-mdicos-sic-ed2-2021 -f submission.csv -m \"Modelo ML con Regresion Lineal v2\""
   ]
  },
  {
   "cell_type": "code",
   "execution_count": null,
   "id": "9ce4b685",
   "metadata": {},
   "outputs": [],
   "source": []
  }
 ],
 "metadata": {
  "kernelspec": {
   "display_name": "Python 3",
   "language": "python",
   "name": "python3"
  },
  "language_info": {
   "codemirror_mode": {
    "name": "ipython",
    "version": 3
   },
   "file_extension": ".py",
   "mimetype": "text/x-python",
   "name": "python",
   "nbconvert_exporter": "python",
   "pygments_lexer": "ipython3",
   "version": "3.8.8"
  }
 },
 "nbformat": 4,
 "nbformat_minor": 5
}
