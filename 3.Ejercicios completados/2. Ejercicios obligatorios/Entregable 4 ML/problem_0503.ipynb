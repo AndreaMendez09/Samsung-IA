{
 "cells": [
  {
   "cell_type": "markdown",
   "metadata": {},
   "source": [
    "## Prueba #0503"
   ]
  },
  {
   "cell_type": "markdown",
   "metadata": {},
   "source": [
    "### \"Aumento de datos\""
   ]
  },
  {
   "cell_type": "markdown",
   "metadata": {},
   "source": [
    "#### Responda las siguientes preguntas proporcionando código Python:\n",
    "#### Objetivos:\n",
    "- Codifique las funciones de ayuda.\n",
    "- Optimice y pruebe un modelo predictivo de su elección.\n",
    "- Realice aumentos de datos para mejorar la precisión predictiva cuando los datos de entrenamiento proporcionados son pequeños."
   ]
  },
  {
   "cell_type": "code",
   "execution_count": 1,
   "metadata": {},
   "outputs": [],
   "source": [
    "import numpy as np\n",
    "import pandas as pd\n",
    "import os\n",
    "import warnings\n",
    "import matplotlib.pyplot as plt\n",
    "from sklearn.model_selection import GridSearchCV\n",
    "from sklearn.neighbors import KNeighborsClassifier\n",
    "from sklearn.tree import DecisionTreeClassifier\n",
    "from sklearn.ensemble import RandomForestClassifier,AdaBoostClassifier, GradientBoostingClassifier\n",
    "from xgboost import XGBClassifier\n",
    "from sklearn import metrics, preprocessing\n",
    "from scipy.ndimage.interpolation import rotate\n",
    "warnings.filterwarnings(action='ignore')                  # Desactivar las advertencias\n",
    "%matplotlib inline"
   ]
  },
  {
   "cell_type": "markdown",
   "metadata": {},
   "source": [
    "#### Leer los datos:\n",
    "La explicación de los datos originales se puede encontrar [aquí](http://yann.lecun.com/exdb/mnist/).\n",
    "- Los datos que usaremos son un pequeño subconjunto de los datos originales con solo 100 observaciones.\n",
    "- Cada observación es la versión \"aplanada\" de una imagen.\n",
    "- La primera columna corresponde a la etiqueta (Y).\n",
    "- El tamaño de la imagen es 28x28."
   ]
  },
  {
   "cell_type": "code",
   "execution_count": 2,
   "metadata": {},
   "outputs": [],
   "source": [
    "# Ir al directorio dónde se ecuentra el fichero \n",
    "os.chdir(r'./Data')                # Reemplazar por la ruta adecuada"
   ]
  },
  {
   "cell_type": "code",
   "execution_count": 3,
   "metadata": {},
   "outputs": [],
   "source": [
    "# Lea los datos de entrenamiento y prueba por separado.\n",
    "data_train = pd.read_csv('data_mnist_train_100.csv', header=None,encoding='latin1')\n",
    "data_test = pd.read_csv('data_mnist_test_100.csv', header=None,encoding='latin1')\n",
    "\n",
    "# Escale y divida el conjunto de datos en X e Y.\n",
    "X_train = np.array((data_train.iloc[:,1:]/255.0)*0.99+0.01)\n",
    "X_test = np.array((data_test.iloc[:,1:]/255.0)*0.99+0.01)\n",
    "Y_train = np.array(data_train.iloc[:,0])\n",
    "Y_test = np.array(data_test.iloc[:,0])"
   ]
  },
  {
   "cell_type": "markdown",
   "metadata": {},
   "source": [
    "1). Codifique la función auxiliar 'show_data ()' que visualiza cada observación dada. SUGERENCIA: use matplotlib.pyplot.imshow () y scipy.ndimage.interpolation ()."
   ]
  },
  {
   "cell_type": "code",
   "execution_count": 5,
   "metadata": {},
   "outputs": [],
   "source": [
    "def show_data(X, Y, n, angle=0):\n",
    "        print(\"El numero seleccionado es un:\", Y[n]) #Para que se vea mejor el aviso\n",
    "        image = X[n] #Obtenemos la posicion dada en nuestra X\n",
    "        image = image.reshape((28, 28)) #Establecemos el tamaño de la imagen\n",
    "        image = rotate(image, angle, reshape=False) #Rotamos la imagen los ángulos dados\n",
    "        plt.figure()\n",
    "        plt.imshow(image, cmap=plt.get_cmap('gray_r')) #Gray_r hace el reverse, para que este el número en negro\n",
    "        plt.show() #Mostramos la imagen\n",
    "        "
   ]
  },
  {
   "cell_type": "code",
   "execution_count": 6,
   "metadata": {},
   "outputs": [
    {
     "name": "stdout",
     "output_type": "stream",
     "text": [
      "El numero seleccionado es un: 3\n"
     ]
    },
    {
     "data": {
      "image/png": "[encoded data removed]",
      "text/plain": [
       "<Figure size 432x288 with 1 Axes>"
      ]
     },
     "metadata": {
      "needs_background": "light"
     },
     "output_type": "display_data"
    }
   ],
   "source": [
    "# Ejemplo 1.\n",
    "show_data(X_train, Y_train,10,+10)"
   ]
  },
  {
   "cell_type": "code",
   "execution_count": 7,
   "metadata": {},
   "outputs": [
    {
     "name": "stdout",
     "output_type": "stream",
     "text": [
      "El numero seleccionado es un: 3\n"
     ]
    },
    {
     "data": {
      "image/png": "[encoded data removed]",
      "text/plain": [
       "<Figure size 432x288 with 1 Axes>"
      ]
     },
     "metadata": {
      "needs_background": "light"
     },
     "output_type": "display_data"
    }
   ],
   "source": [
    "# Ejemplo 2.\n",
    "show_data(X_train, Y_train,10,-30)"
   ]
  },
  {
   "cell_type": "code",
   "execution_count": 8,
   "metadata": {},
   "outputs": [
    {
     "name": "stdout",
     "output_type": "stream",
     "text": [
      "El numero seleccionado es un: 1\n"
     ]
    },
    {
     "data": {
      "image/png": "[encoded data removed]",
      "text/plain": [
       "<Figure size 432x288 with 1 Axes>"
      ]
     },
     "metadata": {
      "needs_background": "light"
     },
     "output_type": "display_data"
    }
   ],
   "source": [
    "# Ejemplo 3.\n",
    "show_data(X_train, Y_train,77,0)"
   ]
  },
  {
   "cell_type": "markdown",
   "metadata": {},
   "source": [
    "2). Elija un algoritmo y realice el análisis predictivo.\n",
    "- Optimizar los hiperparámetros.\n",
    "- Calcule la precisión.\n",
    "- ¿Es la precisión lo suficientemente alta?"
   ]
  },
  {
   "cell_type": "markdown",
   "metadata": {},
   "source": [
    "Tenemos un dataset etiquetado, esto lo convierte automaticamente en supervised learning, ahora debemos elejir entre los modelos de clasificación que conocemos. \n",
    "\n",
    "Digamos que todos los números tienen carácteristicas en común, aunque puedan existir diferencias, por ello vamos a probar kNN."
   ]
  },
  {
   "cell_type": "markdown",
   "metadata": {},
   "source": [
    "### KNN"
   ]
  },
  {
   "cell_type": "markdown",
   "metadata": {},
   "source": [
    "Pseudocódigo para KNN\n",
    "1. Cargar los datos\n",
    "2. Inicializar el valor de k\n",
    "3. Para obtener la clase predicha, repita desde 1 hasta el número total de puntos de datos de entrenamiento\n",
    "4. Calcule la distancia entre los datos de prueba y cada fila de datos de entrenamiento. Aquí usaremos la distancia euclidiana como nuestra métrica de distancia, ya que es el método más popular.\n",
    "5. Ordene las distancias calculadas en orden ascendente según los valores de distancia\n",
    "6. Obtenga las primeras k filas de la matriz ordenada\n",
    "7. Obtenga la clase más frecuente de estas filas\n",
    "8. Devuelve la clase predicha "
   ]
  },
  {
   "cell_type": "code",
   "execution_count": 38,
   "metadata": {},
   "outputs": [
    {
     "name": "stdout",
     "output_type": "stream",
     "text": [
      "Error minimo:- 0.32 at K = 7\n",
      "Máximo acierto:- 0.68 at K = 7\n"
     ]
    },
    {
     "data": {
      "image/png": "[encoded data removed]",
      "text/plain": [
       "<Figure size 720x432 with 1 Axes>"
      ]
     },
     "metadata": {
      "needs_background": "light"
     },
     "output_type": "display_data"
    }
   ],
   "source": [
    "#Inicializamos las variables\n",
    "error_rate = []\n",
    "accuracy = []\n",
    "\n",
    "#Este for se encarga de obtener el error\n",
    "for i in range(1,30,1):\n",
    "    knn = KNeighborsClassifier(n_neighbors=i)#Ponemos los vecinos segun el for\n",
    "    knn.fit(X_train,Y_train) #Pasamos los datos\n",
    "    predict_i = knn.predict(X_test) #Realizamos la predición\n",
    "    error_rate.append(np.mean(predict_i != Y_test)) #Añadimos el resultado\n",
    "\n",
    "#Este for se encarga de obtener el accuracy\n",
    "from sklearn import metrics\n",
    "for i in range(1,30,1):\n",
    "    knn = KNeighborsClassifier(n_neighbors = i)#Ponemos los vecinos segun el for\n",
    "    knn.fit(X_train,Y_train)#Pasamos los datos\n",
    "    predict_i = knn.predict(X_test)#Realizamos la predición\n",
    "    accuracy.append(metrics.accuracy_score(Y_test, predict_i))#Añadimos el resultado\n",
    "\n",
    "plt.figure(figsize=(10,6)) #Damos tamaño a la figura\n",
    "plt.plot(range(1,30),error_rate,color='blue', linestyle='dashed', \n",
    "         marker='D',markerfacecolor='red', markersize=8, label='Error') #Mostramos el error\n",
    "plt.plot(range(1,30),accuracy,color = 'green',linestyle='dashed', \n",
    "         marker='o', markersize=8, label='Accuracy') #Mostramos el accuracy\n",
    "plt.xlabel('K')\n",
    "plt.legend()\n",
    "plt.grid(color='#2A3459')\n",
    "#Se suma uno ya que index empieza en 0\n",
    "print(\"Error minimo:-\",min(error_rate),\"at K =\",error_rate.index(min(error_rate))+1) \n",
    "print(\"Máximo acierto:-\",max(accuracy),\"at K =\",accuracy.index(max(accuracy))+1)"
   ]
  },
  {
   "cell_type": "markdown",
   "metadata": {},
   "source": [
    "Podemos comprobar que el valor optimo para este dataset es k = 7"
   ]
  },
  {
   "cell_type": "code",
   "execution_count": 40,
   "metadata": {},
   "outputs": [
    {
     "name": "stdout",
     "output_type": "stream",
     "text": [
      "              precision    recall  f1-score   support\n",
      "\n",
      "           0       0.89      1.00      0.94         8\n",
      "           1       0.50      1.00      0.67        14\n",
      "           2       1.00      0.12      0.22         8\n",
      "           3       0.75      0.82      0.78        11\n",
      "           4       0.80      0.86      0.83        14\n",
      "           5       0.00      0.00      0.00         7\n",
      "           6       0.75      0.60      0.67        10\n",
      "           7       0.85      0.73      0.79        15\n",
      "           8       0.50      0.50      0.50         2\n",
      "           9       0.50      0.55      0.52        11\n",
      "\n",
      "    accuracy                           0.68       100\n",
      "   macro avg       0.65      0.62      0.59       100\n",
      "weighted avg       0.68      0.68      0.64       100\n",
      "\n"
     ]
    }
   ],
   "source": [
    "from sklearn.metrics import classification_report\n",
    "model = KNeighborsClassifier(n_neighbors=7)\n",
    "model.fit(X_train,Y_train)\n",
    "predictions = model.predict(X_test)\n",
    "\n",
    "print(classification_report(Y_test,predictions))\n"
   ]
  },
  {
   "cell_type": "markdown",
   "metadata": {},
   "source": [
    "3). Codifique la función auxiliar 'rotate_data ()' que rota cada observación dada en un ángulo. SUGERENCIA: use scipy.ndimage.interpolation ()."
   ]
  },
  {
   "cell_type": "code",
   "execution_count": 5,
   "metadata": {},
   "outputs": [],
   "source": [
    "import random\n",
    "def rotate_data(X,Y, observacion): #Ponemos la Y para pasar la label\n",
    "    angle = random.randint(1,356)\n",
    "    image = X[observacion] #Obtenemos la posicion dada en nuestra X\n",
    "    label = Y[observacion]\n",
    "    image = image.reshape((28, 28)) #Establecemos el tamaño de la imagen\n",
    "    image = rotate(image, angle, reshape=False) #Rotamos la imagen los ángulos dados\n",
    "    return image, label"
   ]
  },
  {
   "cell_type": "markdown",
   "metadata": {},
   "source": [
    "4). Aumente el conjunto de datos de entrenamiento.\n",
    "- Aumente el tamaño del conjunto de datos de entrenamiento al introducir ligeras rotaciones (en sentido horario y antihorario).\n",
    "- Utilice la función 'rotate_data ()' definida en el paso anterior.\n",
    "- No es necesario aumentar el conjunto de datos de prueba.\n",
    "- Objetivo aproximadamente cinco veces mayor."
   ]
  },
  {
   "cell_type": "code",
   "execution_count": 6,
   "metadata": {},
   "outputs": [],
   "source": [
    "prueba, label = rotate_data(X_train,Y_train, 2)\n",
    "X_aumented = prueba.flatten()\n",
    "X_aumented = np.expand_dims(X_aumented, -1)\n"
   ]
  },
  {
   "cell_type": "code",
   "execution_count": 7,
   "metadata": {},
   "outputs": [
    {
     "ename": "TypeError",
     "evalue": "only integer scalar arrays can be converted to a scalar index",
     "output_type": "error",
     "traceback": [
      "\u001b[1;31m---------------------------------------------------------------------------\u001b[0m",
      "\u001b[1;31mTypeError\u001b[0m                                 Traceback (most recent call last)",
      "\u001b[1;32m<ipython-input-7-eb8dc29e4c5e>\u001b[0m in \u001b[0;36m<module>\u001b[1;34m\u001b[0m\n\u001b[0;32m      3\u001b[0m     \u001b[0mX_aumented\u001b[0m \u001b[1;33m=\u001b[0m \u001b[0mprueba\u001b[0m\u001b[1;33m.\u001b[0m\u001b[0mflatten\u001b[0m\u001b[1;33m(\u001b[0m\u001b[1;33m)\u001b[0m\u001b[1;33m\u001b[0m\u001b[1;33m\u001b[0m\u001b[0m\n\u001b[0;32m      4\u001b[0m     \u001b[0mX_aumented\u001b[0m \u001b[1;33m=\u001b[0m \u001b[0mnp\u001b[0m\u001b[1;33m.\u001b[0m\u001b[0mexpand_dims\u001b[0m\u001b[1;33m(\u001b[0m\u001b[0mX_aumented\u001b[0m\u001b[1;33m,\u001b[0m \u001b[1;33m-\u001b[0m\u001b[1;36m1\u001b[0m\u001b[1;33m)\u001b[0m\u001b[1;33m\u001b[0m\u001b[1;33m\u001b[0m\u001b[0m\n\u001b[1;32m----> 5\u001b[1;33m     \u001b[0mX_train\u001b[0m \u001b[1;33m=\u001b[0m \u001b[0mnp\u001b[0m\u001b[1;33m.\u001b[0m\u001b[0mconcatenate\u001b[0m\u001b[1;33m(\u001b[0m\u001b[0mX_train\u001b[0m\u001b[1;33m,\u001b[0m \u001b[0mnp\u001b[0m\u001b[1;33m.\u001b[0m\u001b[0marray\u001b[0m\u001b[1;33m(\u001b[0m\u001b[0mX_aumented\u001b[0m\u001b[1;33m.\u001b[0m\u001b[0mT\u001b[0m\u001b[1;33m)\u001b[0m\u001b[1;33m)\u001b[0m\u001b[1;33m\u001b[0m\u001b[1;33m\u001b[0m\u001b[0m\n\u001b[0m\u001b[0;32m      6\u001b[0m     \u001b[0mnp\u001b[0m\u001b[1;33m.\u001b[0m\u001b[0mappend\u001b[0m\u001b[1;33m(\u001b[0m\u001b[0mY_train\u001b[0m\u001b[1;33m,\u001b[0m \u001b[0mnp\u001b[0m\u001b[1;33m.\u001b[0m\u001b[0marray\u001b[0m\u001b[1;33m(\u001b[0m\u001b[0mlabel\u001b[0m\u001b[1;33m)\u001b[0m\u001b[1;33m)\u001b[0m\u001b[1;33m\u001b[0m\u001b[1;33m\u001b[0m\u001b[0m\n\u001b[0;32m      7\u001b[0m \u001b[0mprint\u001b[0m\u001b[1;33m(\u001b[0m\u001b[0mX_train\u001b[0m\u001b[1;33m.\u001b[0m\u001b[0mshape\u001b[0m\u001b[1;33m)\u001b[0m\u001b[1;33m\u001b[0m\u001b[1;33m\u001b[0m\u001b[0m\n",
      "\u001b[1;32m<__array_function__ internals>\u001b[0m in \u001b[0;36mconcatenate\u001b[1;34m(*args, **kwargs)\u001b[0m\n",
      "\u001b[1;31mTypeError\u001b[0m: only integer scalar arrays can be converted to a scalar index"
     ]
    }
   ],
   "source": [
    "for i in range(1,100):\n",
    "    prueba, label = rotate_data(X_train,Y_train, i) #Obtenemos tanto los datos como la label\n",
    "    X_aumented = prueba.flatten()\n",
    "    X_aumented = np.expand_dims(X_aumented, -1)\n",
    "    X_train = np.concatenate(X_train, np.array(X_aumented.T))\n",
    "    Y_train = np.append(Y_train, np.array(label))\n",
    "print(X_train.shape)"
   ]
  },
  {
   "cell_type": "markdown",
   "metadata": {},
   "source": [
    "5). Rehaga el análisis predictivo con el conjunto de datos de entrenamiento aumentado.\n",
    "- Utilice el mismo algoritmo que en el paso 2).\n",
    "- Calcule la precisión.\n",
    "- ¿Ha aumentado la precisión?"
   ]
  },
  {
   "cell_type": "code",
   "execution_count": 1,
   "metadata": {},
   "outputs": [],
   "source": [
    "       # <Tu código va aquí>"
   ]
  }
 ],
 "metadata": {
  "kernelspec": {
   "display_name": "Python 3",
   "language": "python",
   "name": "python3"
  },
  "language_info": {
   "codemirror_mode": {
    "name": "ipython",
    "version": 3
   },
   "file_extension": ".py",
   "mimetype": "text/x-python",
   "name": "python",
   "nbconvert_exporter": "python",
   "pygments_lexer": "ipython3",
   "version": "3.8.8"
  }
 },
 "nbformat": 4,
 "nbformat_minor": 2
}
