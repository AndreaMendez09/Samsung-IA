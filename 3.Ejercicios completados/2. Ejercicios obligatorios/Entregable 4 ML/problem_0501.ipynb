{
 "cells": [
  {
   "cell_type": "markdown",
   "metadata": {},
   "source": [
    "## Prueba #0501"
   ]
  },
  {
   "cell_type": "markdown",
   "metadata": {},
   "source": [
    "### \"Regresión Logísitica y algoritmo de Gradiente Descendente\""
   ]
  },
  {
   "cell_type": "markdown",
   "metadata": {},
   "source": [
    "#### Responda las siguientes preguntas proporcionando código Python:\n",
    "#### Objetivos:\n",
    "- Codifique una clase de regresión logística utilizando solo la biblioteca NumPy.\n",
    "- Implementar en Python la función Sigmoid.\n",
    "- Implementar en Python el Gradiente de la probabilidad logarítmica.\n",
    "- Implementar en Python el algoritmo de gradiente descendente."
   ]
  },
  {
   "cell_type": "code",
   "execution_count": 1,
   "metadata": {},
   "outputs": [],
   "source": [
    "import numpy as np\n",
    "import pandas as pd\n",
    "from sklearn.datasets import load_breast_cancer\n",
    "from sklearn.model_selection import train_test_split\n",
    "import matplotlib.pyplot as plt"
   ]
  },
  {
   "cell_type": "markdown",
   "metadata": {},
   "source": [
    "#### Leer los datos:"
   ]
  },
  {
   "cell_type": "code",
   "execution_count": 2,
   "metadata": {},
   "outputs": [],
   "source": [
    "# Cargar los datos\n",
    "data = load_breast_cancer()\n",
    "# Variables explicativas\n",
    "X = data['data']\n",
    "# Volver a etquetar para que 0 = 'benign' y 1 = malignant.\n",
    "Y = 1 - data['target']"
   ]
  },
  {
   "cell_type": "code",
   "execution_count": 3,
   "metadata": {},
   "outputs": [],
   "source": [
    "# Dividir el conjunto de datos en entrenamiento y prueba.\n",
    "X_train, X_test, Y_train, Y_test = train_test_split(X, Y, test_size=0.4, random_state=1234)"
   ]
  },
  {
   "cell_type": "markdown",
   "metadata": {},
   "source": [
    "1). Defina las funciones 'sigmoide' y 'gradiente' para producir el resultado que se muestra a continuación:"
   ]
  },
  {
   "cell_type": "code",
   "execution_count": 18,
   "metadata": {},
   "outputs": [],
   "source": [
    "def sigmoid(x):\n",
    "    return 1 / (1 + np.exp(-x)) #Devuelve un número entre 0 - 1 \n",
    "\n",
    "def gradient(X, Y, beta):\n",
    "    return np.dot(X.T, (beta - Y)) / Y.shape[0]\n"
   ]
  },
  {
   "cell_type": "markdown",
   "metadata": {},
   "source": [
    "2). Defina la clase 'LogisticRegression' para producir el resultado que se muestra a continuación:"
   ]
  },
  {
   "cell_type": "code",
   "execution_count": 5,
   "metadata": {},
   "outputs": [],
   "source": [
    "class LogisticRegression:\n",
    "    def __init__(self, learn_rate):\n",
    "       # <Tu código va aquí>\n",
    "        \n",
    "    def train(self, input_X, input_Y, n_epochs):\n",
    "       # <YTu código va aquí>\n",
    "    \n",
    "    def query(self, input_X, prob=True, cutoff=0.5):\n",
    "       # <Tu código va aquí>"
   ]
  },
  {
   "cell_type": "markdown",
   "metadata": {},
   "source": [
    "#### Ejecutar:"
   ]
  },
  {
   "cell_type": "code",
   "execution_count": 6,
   "metadata": {},
   "outputs": [],
   "source": [
    "# Hiperparámetro para el regresor.\n",
    "learning_rate = 0.001"
   ]
  },
  {
   "cell_type": "code",
   "execution_count": 7,
   "metadata": {},
   "outputs": [],
   "source": [
    "# Entrenar y predecir.\n",
    "LR = LogisticRegression(learning_rate)\n",
    "LR.train(X_train, Y_train, 2000)\n",
    "Y_pred = LR.query(X_test,prob=False,cutoff=0.5)"
   ]
  },
  {
   "cell_type": "code",
   "execution_count": 8,
   "metadata": {},
   "outputs": [
    {
     "name": "stdout",
     "output_type": "stream",
     "text": [
      "Accuracy : 0.912\n"
     ]
    }
   ],
   "source": [
    "# Mostrar la exactitud\n",
    "acc = (Y_pred == Y_test.reshape(-1,1)).mean()\n",
    "print('Accuracy : {}'.format(np.round(acc,3)))"
   ]
  },
  {
   "cell_type": "markdown",
   "metadata": {},
   "source": [
    "### A continuación muestro el proceso para llegar al código deseado\n"
   ]
  },
  {
   "cell_type": "markdown",
   "metadata": {},
   "source": [
    "#### Funcion sigmoide\n",
    "\n",
    "Es una fonción matemática que tiene una curva en forma de \"S\", su función es transformar los valores originales a valores entre 0 - 1.\n",
    "Siendo su función:\n",
    "$$\n",
    "logit(x) = \\frac{1}{1+ e^{-x}}\n",
    "$$\n",
    "\n",
    "La función sigmoide realiza lo mismo que el método predict_proba de python, teniendo en cuenta que le pasaremos por ejemplo X_test.\n",
    "\n",
    "A continuación mostramos la gráfica en forma de \"S\".\n"
   ]
  },
  {
   "cell_type": "code",
   "execution_count": 4,
   "metadata": {},
   "outputs": [
    {
     "data": {
      "image/png": "[encoded data removed]",
      "text/plain": [
       "<Figure size 432x288 with 1 Axes>"
      ]
     },
     "metadata": {
      "needs_background": "light"
     },
     "output_type": "display_data"
    }
   ],
   "source": [
    "sigmoid = lambda x: 1 / (1 + np.exp(-x)) #La formula anterior la pasamos a código, es lo que ira en el método\n",
    "x = np.linspace(-10,10,100)\n",
    "y = sigmoid(x)\n",
    "\n",
    "#Configuramos la gráfica y la imprimimos por pantalla\n",
    "plt.plot(x,y)\n",
    "plt.xlabel('x')\n",
    "plt.ylabel('logit(x)')\n",
    "plt.show()"
   ]
  },
  {
   "cell_type": "code",
   "execution_count": 9,
   "metadata": {},
   "outputs": [
    {
     "data": {
      "text/plain": [
       "0.9999393299669873"
      ]
     },
     "execution_count": 9,
     "metadata": {},
     "output_type": "execute_result"
    }
   ],
   "source": [
    "sigmoid(X_test)[:,1].min()"
   ]
  },
  {
   "cell_type": "code",
   "execution_count": 10,
   "metadata": {},
   "outputs": [
    {
     "data": {
      "text/plain": [
       "1.0"
      ]
     },
     "execution_count": 10,
     "metadata": {},
     "output_type": "execute_result"
    }
   ],
   "source": [
    "sigmoid(X_test)[:,1].max()"
   ]
  },
  {
   "cell_type": "markdown",
   "metadata": {},
   "source": [
    "#### Funcion descenso de gradiente\n"
   ]
  },
  {
   "cell_type": "code",
   "execution_count": 17,
   "metadata": {},
   "outputs": [
    {
     "data": {
      "text/plain": [
       "array([[ 2.87660100e+02,  8.69844000e+01,  1.48342400e+04, ...,\n",
       "        -4.60362840e-01, -7.08507990e-01, -2.23662790e-01],\n",
       "       [ 3.81984900e+02,  2.80232900e+02,  1.73966100e+04, ...,\n",
       "        -3.37404000e-01, -4.74375000e-01, -1.70115440e-01],\n",
       "       [ 3.48316100e+02,  4.09062500e+02,  1.66400000e+04, ...,\n",
       "        -4.26951000e-01, -5.92062310e-01, -1.67489744e-01],\n",
       "       ...,\n",
       "       [ 2.42360000e+02,  7.32326400e+02,  1.15122900e+04, ...,\n",
       "        -2.63492760e-01, -3.94404760e-01, -1.50284760e-01],\n",
       "       [ 3.83160000e+02,  8.01588900e+02,  1.93478100e+04, ...,\n",
       "        -4.59775000e-01, -6.50364310e-01, -2.32624000e-01],\n",
       "       [ 6.02176000e+01,  6.02211600e+02,  2.29632640e+03, ...,\n",
       "         0.00000000e+00,  8.24264100e-02,  4.95475210e-03]])"
      ]
     },
     "execution_count": 17,
     "metadata": {},
     "output_type": "execute_result"
    }
   ],
   "source": [
    "w = 0.5\n",
    "y_pred= w * X\n",
    "cost=( y_pred - Y.reshape(-1,1)) **2  #linear regression\n",
    "grad_w=2 * X * ((w * X) - Y.reshape(-1,1) ) # derevative with respect to x\n",
    "grad_w"
   ]
  },
  {
   "cell_type": "markdown",
   "metadata": {},
   "source": [
    "Enlace:\n",
    "https://ichi.pro/es/descenso-de-gradiente-en-python-con-ejemplo-67986069776960"
   ]
  },
  {
   "cell_type": "code",
   "execution_count": null,
   "metadata": {},
   "outputs": [],
   "source": []
  }
 ],
 "metadata": {
  "kernelspec": {
   "display_name": "Python 3",
   "language": "python",
   "name": "python3"
  },
  "language_info": {
   "codemirror_mode": {
    "name": "ipython",
    "version": 3
   },
   "file_extension": ".py",
   "mimetype": "text/x-python",
   "name": "python",
   "nbconvert_exporter": "python",
   "pygments_lexer": "ipython3",
   "version": "3.8.8"
  }
 },
 "nbformat": 4,
 "nbformat_minor": 2
}
