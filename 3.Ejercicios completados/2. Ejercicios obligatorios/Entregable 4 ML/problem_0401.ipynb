{
 "cells": [
  {
   "cell_type": "markdown",
   "metadata": {
    "id": "b-CXstoN8Wql"
   },
   "source": [
    "## Prueba #0401"
   ]
  },
  {
   "cell_type": "markdown",
   "metadata": {
    "id": "GVcgsRoa8Wqm"
   },
   "source": [
    "### \"Número óptimo de clústeres para agrupamiento con K-medias\""
   ]
  },
  {
   "cell_type": "code",
   "execution_count": null,
   "metadata": {
    "id": "F6TYUIfd8Wqm"
   },
   "outputs": [],
   "source": [
    "import numpy as np\n",
    "import pandas as pd\n",
    "import matplotlib.pyplot as plt\n",
    "from sklearn.datasets import make_blobs\n",
    "from sklearn.cluster import KMeans\n",
    "%matplotlib inline"
   ]
  },
  {
   "cell_type": "markdown",
   "metadata": {
    "id": "txGRKpPl8Wqq"
   },
   "source": [
    "#### Responde la siguiente pregunta proporcionando código Python:"
   ]
  },
  {
   "cell_type": "code",
   "execution_count": null,
   "metadata": {
    "id": "DoQGluSi8Wqq"
   },
   "outputs": [],
   "source": [
    "# Usaremos datos simulados.\n",
    "# 3 grupos en un espacio de 8 dimensiones.\n",
    "# ¡Difícil de visualizar!\n",
    "X, label = make_blobs(n_samples=150, n_features=8, centers=3, cluster_std = 2, random_state=123)\n",
    "X.shape"
   ]
  },
  {
   "cell_type": "markdown",
   "metadata": {
    "id": "pgQYnKB08Wqt"
   },
   "source": [
    "1). Defina una función que calcule la \"suma interna total de cuadrados\".\n",
    "- X         :   Datos.\n",
    "- centers   :   Matriz que contiene las coordenadas del centroide. Calculado por kmeans.\n",
    "- clusters  :   Matriz de etiquetas de clústeres. Calculado por kmeans. <br> <br>\n",
    "SUGERENCIA: Implemente la fórmula de la clase teórica."
   ]
  },
  {
   "cell_type": "code",
   "execution_count": null,
   "metadata": {
    "id": "vAAXBvWY8Wqt"
   },
   "outputs": [],
   "source": [
    "def total_internal_ss(X, centers, clusters):\n",
    "       # <Tu código va aquí>"
   ]
  },
  {
   "cell_type": "markdown",
   "metadata": {
    "id": "zasFq4eP8Wqw"
   },
   "source": [
    "2). Visualice como un diagrama de dispersión la \"suma interna total de cuadrados\" vs N# de grupos. \n",
    "- Luego, determine el número óptimo de clústeres.\n",
    "- ¿Es este número el mismo que se esperaba?"
   ]
  },
  {
   "cell_type": "code",
   "execution_count": null,
   "metadata": {
    "id": "L2gZp3nq8Wqx"
   },
   "outputs": [],
   "source": [
    "       # <Tu código va aquí>"
   ]
  },
  {
   "cell_type": "code",
   "execution_count": null,
   "metadata": {
    "id": "WlJv5jKf8Wqz"
   },
   "outputs": [],
   "source": [
    "       # <Tu código va aquí>"
   ]
  }
 ],
 "metadata": {
  "colab": {
   "name": "problem_0401.ipynb",
   "provenance": []
  },
  "kernelspec": {
   "display_name": "Python 3",
   "language": "python",
   "name": "python3"
  },
  "language_info": {
   "codemirror_mode": {
    "name": "ipython",
    "version": 3
   },
   "file_extension": ".py",
   "mimetype": "text/x-python",
   "name": "python",
   "nbconvert_exporter": "python",
   "pygments_lexer": "ipython3",
   "version": "3.8.8"
  }
 },
 "nbformat": 4,
 "nbformat_minor": 1
}
