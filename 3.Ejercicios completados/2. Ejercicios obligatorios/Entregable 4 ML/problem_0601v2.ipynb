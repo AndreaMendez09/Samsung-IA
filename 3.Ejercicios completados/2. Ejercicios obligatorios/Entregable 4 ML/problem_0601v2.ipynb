{
 "cells": [
  {
   "cell_type": "markdown",
   "metadata": {},
   "source": [
    "## Prueba #0601"
   ]
  },
  {
   "cell_type": "markdown",
   "metadata": {},
   "source": [
    "### \"Análisis de clasificación con PNL\""
   ]
  },
  {
   "cell_type": "markdown",
   "metadata": {},
   "source": [
    "#### Responda las siguientes preguntas proporcionando código Python:\n",
    "#### Objectivos:\n",
    "- Preprocesamiento de datos de texto.\n",
    "- Crear una representación TF IDF.\n",
    "- Realizar el análisis predictivo mediante el algoritmo Naive Bayes."
   ]
  },
  {
   "cell_type": "code",
   "execution_count": 1,
   "metadata": {},
   "outputs": [],
   "source": [
    "import numpy as np\n",
    "import re\n",
    "import nltk\n",
    "import seaborn as sns\n",
    "import matplotlib.pyplot as plt\n",
    "import warnings\n",
    "from nltk.corpus import stopwords\n",
    "from sklearn.datasets import load_files\n",
    "from sklearn.model_selection import train_test_split\n",
    "from sklearn.feature_extraction.text import TfidfVectorizer\n",
    "from sklearn.naive_bayes import GaussianNB\n",
    "from sklearn.metrics import confusion_matrix\n",
    "from sklearn.metrics import accuracy_score\n",
    "warnings.filterwarnings('ignore')               # Desactivar las advertencias"
   ]
  },
  {
   "cell_type": "markdown",
   "metadata": {},
   "source": [
    "#### Leer los datos:\n",
    "Datos de reseñas de películas del departamento de CS de Cornell. <br>\n",
    "- Los datos se pueden encontrar [aquí](https://www.cs.cornell.edu/people/pabo/movie-review-data). <br>\n",
    "- Descarga y descomprimir el \"conjunto de datos polarity\". <br>\n",
    "- Bajo la carpeta \"txt_sentoken\", hay subcarpetas \"pos\" y \"neg\". <br>"
   ]
  },
  {
   "cell_type": "code",
   "execution_count": 2,
   "metadata": {},
   "outputs": [],
   "source": [
    "# Especifique la carpeta y lea las subcarpetas.\n",
    "reviews = load_files('txt_sentoken/')\n",
    "my_docs, y = reviews.data, reviews.target"
   ]
  },
  {
   "cell_type": "code",
   "execution_count": 3,
   "metadata": {},
   "outputs": [
    {
     "data": {
      "text/plain": [
       "2002"
      ]
     },
     "execution_count": 3,
     "metadata": {},
     "output_type": "execute_result"
    }
   ],
   "source": [
    "len(my_docs)"
   ]
  },
  {
   "cell_type": "code",
   "execution_count": 4,
   "metadata": {},
   "outputs": [
    {
     "data": {
      "text/plain": [
       "(array([0, 1]), array([1001, 1001], dtype=int64))"
      ]
     },
     "execution_count": 4,
     "metadata": {},
     "output_type": "execute_result"
    }
   ],
   "source": [
    "np.unique(y, return_counts=True)"
   ]
  },
  {
   "cell_type": "code",
   "execution_count": 5,
   "metadata": {},
   "outputs": [
    {
     "data": {
      "image/png": "[encoded data removed]",
      "text/plain": [
       "<Figure size 432x288 with 1 Axes>"
      ]
     },
     "metadata": {
      "needs_background": "light"
     },
     "output_type": "display_data"
    }
   ],
   "source": [
    "# Visualizar la variable de respuesta.\n",
    "sns.countplot(y).set_title(\"Frequency Table\")\n",
    "plt.show()"
   ]
  },
  {
   "cell_type": "markdown",
   "metadata": {},
   "source": [
    "1). Realizar el preprocesamiento de los datos:"
   ]
  },
  {
   "cell_type": "code",
   "execution_count": 6,
   "metadata": {},
   "outputs": [],
   "source": [
    "corpus = []\n",
    "for i in range(0, len(my_docs)):\n",
    "    review = re.sub(r'\\W', ' ', str(my_docs[i]))\n",
    "    review = review.lower()\n",
    "    review = re.sub(r'^br$', ' ', review)\n",
    "    review = re.sub(r'\\s+br\\s+',' ',review)\n",
    "    review = re.sub(r'\\s+[a-z]\\s+', ' ',review)\n",
    "    review = re.sub(r'^b\\s+', '', review)\n",
    "    review = re.sub(r'\\s+', ' ', review)               # Eliminar los espacios en blanco sobrantes incluidos en los pasos anteriores.\n",
    "    corpus.append(review)  "
   ]
  },
  {
   "cell_type": "markdown",
   "metadata": {},
   "source": [
    "2). Crear una representación TF IDF."
   ]
  },
  {
   "cell_type": "code",
   "execution_count": 22,
   "metadata": {},
   "outputs": [
    {
     "data": {
      "text/plain": [
       "(2002, 1000)"
      ]
     },
     "execution_count": 22,
     "metadata": {},
     "output_type": "execute_result"
    }
   ],
   "source": [
    "TFIDF = TfidfVectorizer(max_features = 1000, min_df = 2, max_df = 0.6, stop_words = stopwords.words('english'))\n",
    "TFIDF.fit(corpus)                                          # Crear el modelo TF IDF. \n",
    "X = TFIDF.transform(corpus)\n",
    "X.shape"
   ]
  },
  {
   "cell_type": "markdown",
   "metadata": {},
   "source": [
    "3). Aplicar el algoritmo de Naive Bayes algorithm. Calcular la exactitud."
   ]
  },
  {
   "cell_type": "code",
   "execution_count": 23,
   "metadata": {},
   "outputs": [
    {
     "name": "stdout",
     "output_type": "stream",
     "text": [
      "0.7644710578842315\n"
     ]
    }
   ],
   "source": [
    "classifier = GaussianNB();\n",
    "X_train, X_test, y_train, y_test = train_test_split(X.toarray(), y, test_size = 0.25)\n",
    "\n",
    "classifier.fit(X_train, y_train)\n",
    "y_pred = classifier.predict(X_test)\n",
    "acc = accuracy_score(y_test, y_pred)\n",
    "print(acc)"
   ]
  }
 ],
 "metadata": {
  "kernelspec": {
   "display_name": "Python 3",
   "language": "python",
   "name": "python3"
  },
  "language_info": {
   "codemirror_mode": {
    "name": "ipython",
    "version": 3
   },
   "file_extension": ".py",
   "mimetype": "text/x-python",
   "name": "python",
   "nbconvert_exporter": "python",
   "pygments_lexer": "ipython3",
   "version": "3.8.8"
  }
 },
 "nbformat": 4,
 "nbformat_minor": 2
}
