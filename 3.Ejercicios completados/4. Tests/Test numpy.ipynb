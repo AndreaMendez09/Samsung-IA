{
 "cells": [
  {
   "cell_type": "code",
   "execution_count": 1,
   "id": "2744c77c",
   "metadata": {},
   "outputs": [
    {
     "name": "stdout",
     "output_type": "stream",
     "text": [
      "1.20.1\n"
     ]
    }
   ],
   "source": [
    "import numpy as np\n",
    "print(np.__version__)"
   ]
  },
  {
   "cell_type": "markdown",
   "id": "78541fb5",
   "metadata": {},
   "source": [
    "Indicar qué código genera una matriz de 3x3 con todos los valores a True"
   ]
  },
  {
   "cell_type": "code",
   "execution_count": 7,
   "id": "7ba6ccf2",
   "metadata": {},
   "outputs": [
    {
     "name": "stdout",
     "output_type": "stream",
     "text": [
      "[[ True  True  True]\n",
      " [ True  True  True]\n",
      " [ True  True  True]]\n"
     ]
    }
   ],
   "source": [
    "array = np.ones((3,3), dtype=bool)\n",
    "#np.full((3, 3), True, dtype=bool)\n",
    "#np.array([True] * 9).reshape(3, 3)\n",
    "print(array)"
   ]
  },
  {
   "cell_type": "markdown",
   "id": "bfaac87c",
   "metadata": {},
   "source": [
    "Dado el array:\n",
    "arr = np.arange(10)\n",
    "Indicar qué código reemplaza todos los números impares sin modificar el array original."
   ]
  },
  {
   "cell_type": "code",
   "execution_count": 15,
   "id": "053b392f",
   "metadata": {},
   "outputs": [
    {
     "name": "stdout",
     "output_type": "stream",
     "text": [
      "[0 1 2 3 4 5 6 7 8 9]\n",
      "[ 0 -1  2 -1  4 -1  6 -1  8 -1]\n"
     ]
    }
   ],
   "source": [
    "arr = np.arange(10)\n",
    "arr2 = np.where(arr % 2 == 1, -1, arr)\n",
    "print(arr)\n",
    "print(arr2)"
   ]
  },
  {
   "cell_type": "markdown",
   "id": "9e4d6ba8",
   "metadata": {},
   "source": [
    "Dados los arrays:\n",
    "\n",
    "a = np.ones((3, 3))\n",
    "b = np.zeros((3, 3))\n",
    "Indicar cuál de los siguientes códigos los apila verticalmente:"
   ]
  },
  {
   "cell_type": "code",
   "execution_count": 22,
   "id": "1e6a7637",
   "metadata": {},
   "outputs": [
    {
     "name": "stdout",
     "output_type": "stream",
     "text": [
      "[[1. 1. 1.]\n",
      " [1. 1. 1.]\n",
      " [1. 1. 1.]\n",
      " [0. 0. 0.]\n",
      " [0. 0. 0.]\n",
      " [0. 0. 0.]]\n"
     ]
    }
   ],
   "source": [
    "a = np.ones((3, 3))\n",
    "b = np.zeros((3, 3))\n",
    "#apilados = np.vstack([a, b])\n",
    "#apilados = np.concatenate([a, b], axis=0)\n",
    "apilados = np.r_[a, b]\n",
    "print(apilados)"
   ]
  },
  {
   "cell_type": "markdown",
   "id": "fcb7c378",
   "metadata": {},
   "source": [
    "Dados los arrays:\n",
    "\n",
    "a = np.array([1,2,3,2,3,4,3,4,5,6])\n",
    "b = np.array([7,2,10,2,7,4,9,4,9,8])\n",
    "Indicar el código que obtiene las posiciones en las que sus valores coinciden:\n",
    "array([1,3,5,7])"
   ]
  },
  {
   "cell_type": "code",
   "execution_count": 31,
   "id": "6791bcee",
   "metadata": {},
   "outputs": [
    {
     "data": {
      "text/plain": [
       "array([2, 4])"
      ]
     },
     "execution_count": 31,
     "metadata": {},
     "output_type": "execute_result"
    }
   ],
   "source": [
    "a = np.array([1,2,3,2,3,4,3,4,5,6])\n",
    "b = np.array([7,2,10,2,7,4,9,4,9,8])\n",
    "#comunes = np.intersect1d(a,b)\n",
    "#comunes = np.array(list(set(a).intersection(set(b))))\n",
    "comunes = np.unique([x for x in a if x in b])\n",
    "comunes"
   ]
  },
  {
   "cell_type": "markdown",
   "id": "cf05d608",
   "metadata": {},
   "source": [
    "Dados los arrays:\n",
    "\n",
    "a = np.array([1,2,3,2,3,4,3,4,5,6])\n",
    "b = np.array([7,2,10,2,7,4,9,4,9,8])\n",
    "Indicar el código que obtiene las posiciones en las que sus valores coinciden:\n",
    "array([1,3,5,7])"
   ]
  },
  {
   "cell_type": "code",
   "execution_count": 36,
   "id": "268469dc",
   "metadata": {},
   "outputs": [
    {
     "data": {
      "text/plain": [
       "array([1, 3, 5, 7])"
      ]
     },
     "execution_count": 36,
     "metadata": {},
     "output_type": "execute_result"
    }
   ],
   "source": [
    "a = np.array([1,2,3,2,3,4,3,4,5,6])\n",
    "b = np.array([7,2,10,2,7,4,9,4,9,8])\n",
    "#posiciones = np.where(a == b)[0]\n",
    "posiciones = np.array([i for i, x in enumerate(a == b) if x])\n",
    "posiciones"
   ]
  },
  {
   "cell_type": "markdown",
   "id": "bc15fc36",
   "metadata": {},
   "source": [
    "Dado el siguiente  array:\n",
    "\n",
    "a = np.array([2, 6, 1, 9, 10, 3, 27])\n",
    "Indicar qué codigo obtiene los valores entre 5 y 10:\n",
    "array([6, 9, 10])"
   ]
  },
  {
   "cell_type": "code",
   "execution_count": 41,
   "id": "94fd9934",
   "metadata": {},
   "outputs": [
    {
     "data": {
      "text/plain": [
       "array([[ 6,  9, 10]])"
      ]
     },
     "execution_count": 41,
     "metadata": {},
     "output_type": "execute_result"
    }
   ],
   "source": [
    "a = np.array([2, 6, 1, 9, 10, 3, 27])\n",
    "#a[(a >= 5) & (a <= 10)]\n",
    "a[np.where((a >= 5) & (a <= 10))]"
   ]
  },
  {
   "cell_type": "markdown",
   "id": "da8e5566",
   "metadata": {},
   "source": [
    "¿Son equivalentes las siguientes expresiones?\n",
    "\n",
    "np.isnan(a).any()\n",
    "np.any(a==np.nan)"
   ]
  },
  {
   "cell_type": "code",
   "execution_count": 43,
   "id": "2fa5fe2c",
   "metadata": {},
   "outputs": [
    {
     "name": "stdout",
     "output_type": "stream",
     "text": [
      "False\n",
      "False\n"
     ]
    }
   ],
   "source": [
    "print(np.isnan(a).any())\n",
    "print(np.any(a==np.nan))"
   ]
  },
  {
   "cell_type": "markdown",
   "id": "a67db30f",
   "metadata": {},
   "source": [
    "La siguiente instrucción:\n",
    "\n",
    "np.where(a < 10, 10, np.where(a > 30, 30, a))\n",
    "¿Actualiza el array a cambiando los valores mayores que 30 por 30 y los menores de 10 po 10?"
   ]
  },
  {
   "cell_type": "code",
   "execution_count": 49,
   "id": "f4a565f5",
   "metadata": {},
   "outputs": [
    {
     "name": "stdout",
     "output_type": "stream",
     "text": [
      "[ 0  1  2  3  4  5  6  7  8  9 10 11 12 13 14 15 16 17 18 19 20 21 22 23\n",
      " 24 25 26 27 28 29 30 31 32 33 34 35 36 37 38 39 40 41 42 43 44 45 46 47\n",
      " 48 49]\n",
      "[49 48 47 46]\n"
     ]
    },
    {
     "data": {
      "text/plain": [
       "array([ 0,  1,  2,  3,  4,  5,  6,  7,  8,  9, 10, 11, 12, 13, 14, 15, 16,\n",
       "       17, 18, 19, 20, 21, 22, 23, 24, 25, 26, 27, 28, 29, 30, 31, 32, 33,\n",
       "       34, 35, 36, 37, 38, 39, 40, 41, 42, 43, 44, 45, 46, 47, 48, 49])"
      ]
     },
     "execution_count": 49,
     "metadata": {},
     "output_type": "execute_result"
    }
   ],
   "source": [
    "a = np.arange(50)\n",
    "print(a)\n",
    "\n",
    "print(np.sort(a)[:-5:-1])\n",
    "\n",
    "a[~np.isnan(a)]\n"
   ]
  },
  {
   "cell_type": "code",
   "execution_count": 52,
   "id": "868cf940",
   "metadata": {},
   "outputs": [
    {
     "data": {
      "text/plain": [
       "array([1., 2., 3., 4., 5., 7., 8., 9.])"
      ]
     },
     "execution_count": 52,
     "metadata": {},
     "output_type": "execute_result"
    }
   ],
   "source": [
    "a = np.array([np.nan,  1,  2,  3, np.nan,  4,  5, np.nan,  7,  8,  9, np.nan])\n",
    "a[~np.isnan(a)]\n"
   ]
  },
  {
   "cell_type": "code",
   "execution_count": null,
   "id": "c1a0467e",
   "metadata": {},
   "outputs": [],
   "source": []
  }
 ],
 "metadata": {
  "kernelspec": {
   "display_name": "Python 3",
   "language": "python",
   "name": "python3"
  },
  "language_info": {
   "codemirror_mode": {
    "name": "ipython",
    "version": 3
   },
   "file_extension": ".py",
   "mimetype": "text/x-python",
   "name": "python",
   "nbconvert_exporter": "python",
   "pygments_lexer": "ipython3",
   "version": "3.8.8"
  }
 },
 "nbformat": 4,
 "nbformat_minor": 5
}
