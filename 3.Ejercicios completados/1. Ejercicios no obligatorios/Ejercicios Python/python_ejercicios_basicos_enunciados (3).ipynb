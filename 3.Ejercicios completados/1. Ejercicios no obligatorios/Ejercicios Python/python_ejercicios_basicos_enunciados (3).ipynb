{
 "cells": [
  {
   "cell_type": "markdown",
   "metadata": {},
   "source": [
    "# Ejercicios básicos de Python"
   ]
  },
  {
   "cell_type": "markdown",
   "metadata": {},
   "source": [
    "1.- Escribe un código que obtenga una lista con los números primos entre 1 y 100:\n",
    "```python\n",
    "Out: [1, 2, 3, 5, 7, 11, 13, 17, 19, 23, 29, 31, 37, 41, 43, 47, 53, 59, 61, 67, 71, 73, 79, 83, 89, 97]\n",
    "```"
   ]
  },
  {
   "cell_type": "code",
   "execution_count": null,
   "metadata": {
    "scrolled": true,
    "tags": [
     "hide_input",
     "hide_output"
    ]
   },
   "outputs": [],
   "source": []
  },
  {
   "cell_type": "markdown",
   "metadata": {},
   "source": [
    "2.- Escribir un código que almacene las matrices\n",
    "$$\n",
    "A = \\begin{pmatrix}1 & 4 & 5\\\\5 & 3 & 6\\end{pmatrix}\\text{   }\n",
    "B = \\begin{pmatrix}-1 & 0\\\\0 & 1\\\\1 & 1\\end{pmatrix}\n",
    "$$\n",
    "en una tupla y muestre por pantalla su producto.\n",
    "```python\n",
    "Out: ((2, 5), (2, 11))\n",
    "```\n",
    ">**Nota**: Para representar matrices mediante tuplas usar tuplas anidadas, representando cada vector fila en una tupla."
   ]
  },
  {
   "cell_type": "code",
   "execution_count": null,
   "metadata": {},
   "outputs": [],
   "source": []
  },
  {
   "cell_type": "markdown",
   "metadata": {},
   "source": [
    "3.- Escribir un código que indique si una cadena dada es un palíndromo o no.\n",
    "```python\n",
    "In : \"malayalam\"\n",
    "Out: True\n",
    "    \n",
    "In : \"malayialam\"\n",
    "Out: False\n",
    "```"
   ]
  },
  {
   "cell_type": "code",
   "execution_count": null,
   "metadata": {},
   "outputs": [],
   "source": []
  }
 ],
 "metadata": {
  "kernelspec": {
   "display_name": "Python 3",
   "language": "python",
   "name": "python3"
  },
  "language_info": {
   "codemirror_mode": {
    "name": "ipython",
    "version": 3
   },
   "file_extension": ".py",
   "mimetype": "text/x-python",
   "name": "python",
   "nbconvert_exporter": "python",
   "pygments_lexer": "ipython3",
   "version": "3.7.3"
  }
 },
 "nbformat": 4,
 "nbformat_minor": 2
}
