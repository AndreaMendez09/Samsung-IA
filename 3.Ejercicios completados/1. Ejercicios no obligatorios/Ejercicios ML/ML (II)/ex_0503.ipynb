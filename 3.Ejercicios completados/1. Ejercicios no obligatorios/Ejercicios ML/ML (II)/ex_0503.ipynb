{
 "cells": [
  {
   "cell_type": "markdown",
   "metadata": {
    "colab_type": "text",
    "id": "7n21R3JYeDlQ"
   },
   "source": [
    "## Ejercicio de clasificación #0503"
   ]
  },
  {
   "cell_type": "markdown",
   "metadata": {
    "colab_type": "text",
    "id": "qXptt_vzeDlV"
   },
   "source": [
    "### 1. Clasificación con KNN:"
   ]
  },
  {
   "cell_type": "code",
   "execution_count": null,
   "metadata": {
    "colab": {},
    "colab_type": "code",
    "id": "XNRutPv6eDlZ"
   },
   "outputs": [],
   "source": [
    "import numpy as np\n",
    "import pandas as pd\n",
    "import matplotlib.pyplot as plt\n",
    "import os\n",
    "import seaborn as sns\n",
    "import warnings\n",
    "from sklearn.model_selection import train_test_split,GridSearchCV\n",
    "from sklearn.neighbors import KNeighborsClassifier\n",
    "from sklearn import metrics, preprocessing\n",
    "warnings.filterwarnings(action='ignore')                  # Desactiva las advertencias.\n",
    "%matplotlib inline"
   ]
  },
  {
   "cell_type": "markdown",
   "metadata": {
    "colab_type": "text",
    "id": "oPlxKcTTeDlv"
   },
   "source": [
    "#### 1.1. Leer los datos:"
   ]
  },
  {
   "cell_type": "markdown",
   "metadata": {
    "colab_type": "text",
    "id": "-lVecvG9eDl2"
   },
   "source": [
    "Los datos y la explicación se pueden encontrar [aquí](https://www.kaggle.com/c/titanic/data) (requiere registrarse)."
   ]
  },
  {
   "cell_type": "code",
   "execution_count": null,
   "metadata": {
    "colab": {},
    "colab_type": "code",
    "id": "hWSUAF3YeDl4"
   },
   "outputs": [],
   "source": [
    "# Ir al directorio dónde se encuentra el fichero \n",
    "os.chdir(r'Data')                # Reemplazar por la ruta adecuada.   "
   ]
  },
  {
   "cell_type": "code",
   "execution_count": null,
   "metadata": {
    "colab": {},
    "colab_type": "code",
    "id": "QQVpErooeDmO"
   },
   "outputs": [],
   "source": [
    "df = pd.read_csv('data_titanic.csv', header='infer')"
   ]
  },
  {
   "cell_type": "code",
   "execution_count": null,
   "metadata": {
    "colab": {},
    "colab_type": "code",
    "id": "1KcJsUJQeDme"
   },
   "outputs": [],
   "source": [
    "df.shape"
   ]
  },
  {
   "cell_type": "code",
   "execution_count": null,
   "metadata": {
    "colab": {},
    "colab_type": "code",
    "id": "4bEkburseDmu"
   },
   "outputs": [],
   "source": [
    "df.head(3)"
   ]
  },
  {
   "cell_type": "markdown",
   "metadata": {
    "colab_type": "text",
    "id": "_2x64NRHeDm-"
   },
   "source": [
    "#### 1.2. Procesamiento de valores faltantes: "
   ]
  },
  {
   "cell_type": "code",
   "execution_count": null,
   "metadata": {
    "colab": {},
    "colab_type": "code",
    "id": "cwfioLykeDm-"
   },
   "outputs": [],
   "source": [
    "# Compruebe los valores faltantes.\n"
   ]
  },
  {
   "cell_type": "code",
   "execution_count": null,
   "metadata": {
    "colab": {},
    "colab_type": "code",
    "id": "TSGE_6faeDnO"
   },
   "outputs": [],
   "source": [
    "# Complete los valores faltantes en la variable Age, usando el criterio que considere oportuno.\n"
   ]
  },
  {
   "cell_type": "code",
   "execution_count": null,
   "metadata": {
    "colab": {},
    "colab_type": "code",
    "id": "UY0Hu2L_eDnX"
   },
   "outputs": [],
   "source": [
    "# Eliminamos algunas columnas: 'PassengerId','Name','Ticket','Fare','Cabin'\n"
   ]
  },
  {
   "cell_type": "code",
   "execution_count": null,
   "metadata": {
    "colab": {},
    "colab_type": "code",
    "id": "QQWDyl9yeDni"
   },
   "outputs": [],
   "source": [
    "# Borramos el resto de los valores faltantes.\n"
   ]
  },
  {
   "cell_type": "markdown",
   "metadata": {
    "colab_type": "text",
    "id": "6ox4gRCseDnz"
   },
   "source": [
    "#### 1.3. Análisis exploratorio de datos:"
   ]
  },
  {
   "cell_type": "code",
   "execution_count": null,
   "metadata": {
    "colab": {},
    "colab_type": "code",
    "id": "CGAabj6seDn0"
   },
   "outputs": [],
   "source": [
    "# Tabla de frecuencia de Survived.\n"
   ]
  },
  {
   "cell_type": "code",
   "execution_count": null,
   "metadata": {
    "colab": {},
    "colab_type": "code",
    "id": "o1u6idy-eDn_"
   },
   "outputs": [],
   "source": [
    "# Ratio de Survived por AgeCategory. \n"
   ]
  },
  {
   "cell_type": "code",
   "execution_count": null,
   "metadata": {
    "colab": {},
    "colab_type": "code",
    "id": "SicY1swEeDoG"
   },
   "outputs": [],
   "source": [
    "# Ratio de Survival por SibSp. \n"
   ]
  },
  {
   "cell_type": "code",
   "execution_count": null,
   "metadata": {
    "colab": {},
    "colab_type": "code",
    "id": "vuU6XQKkeDoO"
   },
   "outputs": [],
   "source": [
    "# Ratio de Survival por Parch.\n"
   ]
  },
  {
   "cell_type": "code",
   "execution_count": null,
   "metadata": {
    "colab": {},
    "colab_type": "code",
    "id": "AxjkXZIfeDoU"
   },
   "outputs": [],
   "source": [
    "# Ratio de Survival por Pclass.\n"
   ]
  },
  {
   "cell_type": "code",
   "execution_count": null,
   "metadata": {
    "colab": {},
    "colab_type": "code",
    "id": "rFrW0w94eDoc"
   },
   "outputs": [],
   "source": [
    "# Ratio de Survival por Embarked.\n"
   ]
  },
  {
   "cell_type": "code",
   "execution_count": null,
   "metadata": {
    "colab": {},
    "colab_type": "code",
    "id": "VrHFM8NjeDoi"
   },
   "outputs": [],
   "source": [
    "# Ratio de Survival por Sex.\n"
   ]
  },
  {
   "cell_type": "markdown",
   "metadata": {
    "colab_type": "text",
    "id": "E0OD_YnMeDom"
   },
   "source": [
    "#### 1.4. Ingeniería de características:"
   ]
  },
  {
   "cell_type": "code",
   "execution_count": null,
   "metadata": {
    "colab": {},
    "colab_type": "code",
    "id": "iByxuHOheDon"
   },
   "outputs": [],
   "source": [
    "# Convertir en variables ficticias y eliminar las variables originales.\n"
   ]
  },
  {
   "cell_type": "code",
   "execution_count": null,
   "metadata": {
    "colab": {},
    "colab_type": "code",
    "id": "SskBhcqUeDov"
   },
   "outputs": [],
   "source": [
    "# Salvar en un fichero externo\n"
   ]
  },
  {
   "cell_type": "markdown",
   "metadata": {
    "colab_type": "text",
    "id": "l5msU2zaeDoz"
   },
   "source": [
    "#### 1.5. KNN entrenamiento y test:"
   ]
  },
  {
   "cell_type": "code",
   "execution_count": null,
   "metadata": {
    "colab": {},
    "colab_type": "code",
    "id": "7a2qtgqCeDo0"
   },
   "outputs": [],
   "source": [
    "# Eliminar la variable objetivo 'Survived'\n"
   ]
  },
  {
   "cell_type": "code",
   "execution_count": null,
   "metadata": {
    "colab": {},
    "colab_type": "code",
    "id": "doS_OG6ieDo-"
   },
   "outputs": [],
   "source": [
    "# Separar en entrenamiento y test\n"
   ]
  },
  {
   "cell_type": "code",
   "execution_count": null,
   "metadata": {
    "colab": {},
    "colab_type": "code",
    "id": "0S856hLkeDpP"
   },
   "outputs": [],
   "source": [
    "# KNN con n_neighbours = 5, métricas de calidad\n"
   ]
  },
  {
   "cell_type": "code",
   "execution_count": null,
   "metadata": {
    "colab": {},
    "colab_type": "code",
    "id": "oYR-iAZfeDpU"
   },
   "outputs": [],
   "source": [
    "# KNN con n_neighbours = 100, métricas de calidad\n"
   ]
  },
  {
   "cell_type": "markdown",
   "metadata": {
    "colab_type": "text",
    "id": "6NO129XHeDpd"
   },
   "source": [
    "#### 1.6. Compensación de sesgo-varianza KNN en función de *k*:"
   ]
  },
  {
   "cell_type": "code",
   "execution_count": null,
   "metadata": {
    "colab": {},
    "colab_type": "code",
    "id": "aGUsgCc9eDpf"
   },
   "outputs": [],
   "source": [
    "# Registrar cómo cambia el accuracy en función del valor de k\n"
   ]
  },
  {
   "cell_type": "code",
   "execution_count": null,
   "metadata": {
    "colab": {},
    "colab_type": "code",
    "id": "1gipj1VyeDpk"
   },
   "outputs": [],
   "source": [
    "# Visualizar.\n"
   ]
  },
  {
   "cell_type": "markdown",
   "metadata": {
    "colab_type": "text",
    "id": "I40H4XYIeDpn"
   },
   "source": [
    "#### 1.7. KNN optimización de hiperparámetros:"
   ]
  },
  {
   "cell_type": "code",
   "execution_count": null,
   "metadata": {
    "colab": {},
    "colab_type": "code",
    "id": "W8lPDCJ-eDpo"
   },
   "outputs": [],
   "source": [
    "# Cuadrícula de parámetros.\n"
   ]
  },
  {
   "cell_type": "code",
   "execution_count": null,
   "metadata": {
    "colab": {},
    "colab_type": "code",
    "id": "rtVLKVuieDpt"
   },
   "outputs": [],
   "source": [
    "# Optimizar la k usando GridSearch.\n"
   ]
  },
  {
   "cell_type": "code",
   "execution_count": null,
   "metadata": {
    "colab": {},
    "colab_type": "code",
    "id": "SBt81vMseDpx"
   },
   "outputs": [],
   "source": [
    "# Test con la mejor k.\n"
   ]
  }
 ],
 "metadata": {
  "colab": {
   "collapsed_sections": [],
   "name": "ex_0503.ipynb",
   "provenance": []
  },
  "kernelspec": {
   "display_name": "Python 3",
   "language": "python",
   "name": "python3"
  },
  "language_info": {
   "codemirror_mode": {
    "name": "ipython",
    "version": 3
   },
   "file_extension": ".py",
   "mimetype": "text/x-python",
   "name": "python",
   "nbconvert_exporter": "python",
   "pygments_lexer": "ipython3",
   "version": "3.8.8"
  }
 },
 "nbformat": 4,
 "nbformat_minor": 1
}
