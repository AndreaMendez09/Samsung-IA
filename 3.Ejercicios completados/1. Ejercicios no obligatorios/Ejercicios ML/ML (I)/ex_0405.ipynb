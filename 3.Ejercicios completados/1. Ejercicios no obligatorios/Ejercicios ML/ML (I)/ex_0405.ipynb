{
 "cells": [
  {
   "cell_type": "markdown",
   "metadata": {
    "colab_type": "text",
    "id": "ijC-rJf9Fp15"
   },
   "source": [
    "## Ejercicio de codificación #0405"
   ]
  },
  {
   "cell_type": "markdown",
   "metadata": {
    "colab_type": "text",
    "id": "4ODRH6VZFp18"
   },
   "source": [
    "### 1. Regresión lineal con datos de 'Galton':"
   ]
  },
  {
   "cell_type": "code",
   "execution_count": null,
   "metadata": {
    "colab": {},
    "colab_type": "code",
    "id": "ywESt1ntFp1-"
   },
   "outputs": [],
   "source": [
    "import numpy as np\n",
    "import pandas as pd\n",
    "import matplotlib.pyplot as plt\n",
    "import seaborn as sns\n",
    "import os\n",
    "from sklearn.linear_model import LinearRegression\n",
    "%matplotlib inline"
   ]
  },
  {
   "cell_type": "markdown",
   "metadata": {
    "colab_type": "text",
    "id": "FdtSz9YaFp2J"
   },
   "source": [
    "#### 1.1. Leer datos y visualizar:"
   ]
  },
  {
   "cell_type": "code",
   "execution_count": null,
   "metadata": {
    "colab": {},
    "colab_type": "code",
    "id": "-OdLCEFGFp2M"
   },
   "outputs": [],
   "source": [
    "# Ir al directorio que contiene el fichero \n",
    "# os.chdir(r'~~')                # Reemplazar por la ruta adecuada.   "
   ]
  },
  {
   "cell_type": "code",
   "execution_count": null,
   "metadata": {
    "colab": {},
    "colab_type": "code",
    "id": "dSNLV1PkFp2S"
   },
   "outputs": [],
   "source": [
    "df = pd.read_csv('data_galton.csv', header='infer')"
   ]
  },
  {
   "cell_type": "code",
   "execution_count": null,
   "metadata": {
    "colab": {},
    "colab_type": "code",
    "id": "HM394omUFp2Y"
   },
   "outputs": [],
   "source": [
    "df.head()"
   ]
  },
  {
   "cell_type": "code",
   "execution_count": null,
   "metadata": {
    "colab": {},
    "colab_type": "code",
    "id": "0tzgvNGwFp2e"
   },
   "outputs": [],
   "source": [
    "# Hay muchos valores repetidos.\n",
    "# Por lo que resumimos con una tabla cruzada.\n",
    "myTable = pd.crosstab(df.parent,df.child)\n",
    "myTable"
   ]
  },
  {
   "cell_type": "code",
   "execution_count": null,
   "metadata": {
    "colab": {},
    "colab_type": "code",
    "id": "quQvGK2JFp2m"
   },
   "outputs": [],
   "source": [
    "# Transforme la tabla cruzada para que pueda mostrarse como un diagrama de dispersión.\n",
    "# Tamaño del punto = Frecuencia.\n",
    "nrows = myTable.shape[0]\n",
    "ncols = myTable.shape[1]\n",
    "childHeights = list(myTable.columns)\n",
    "parentHeights = list(myTable.index)\n",
    "combo = [ (x,y,myTable.loc[x,y]) for x in parentHeights for y in childHeights]\n",
    "combo = pd.DataFrame(combo, columns = ['x','y','freq'])"
   ]
  },
  {
   "cell_type": "code",
   "execution_count": null,
   "metadata": {
    "colab": {},
    "colab_type": "code",
    "id": "UrGV6DSbFp2r"
   },
   "outputs": [],
   "source": [
    "# Muestra el diagrama de dispersión.\n",
    "plt.scatter(combo.x, combo.y, s=combo.freq*2, c='green',alpha=0.5)\n",
    "plt.xlabel('Parent height')\n",
    "plt.ylabel('Child height')\n",
    "plt.title(\"Galton's Data\")\n",
    "plt.show()"
   ]
  },
  {
   "cell_type": "markdown",
   "metadata": {
    "colab_type": "text",
    "id": "2xa435DCFp2w"
   },
   "source": [
    "#### 1.2. Entrenamiento de regresión lineal:"
   ]
  },
  {
   "cell_type": "code",
   "execution_count": null,
   "metadata": {
    "colab": {},
    "colab_type": "code",
    "id": "GNRBAVmJFp2x"
   },
   "outputs": [],
   "source": [
    "# Crea una instancia de un objeto de regresión lineal.\n"
   ]
  },
  {
   "cell_type": "code",
   "execution_count": null,
   "metadata": {
    "colab": {},
    "colab_type": "code",
    "id": "ua6HbaDIFp21"
   },
   "outputs": [],
   "source": [
    "# Entrenamiento.\n"
   ]
  },
  {
   "cell_type": "code",
   "execution_count": null,
   "metadata": {
    "colab": {},
    "colab_type": "code",
    "id": "IPZG2ogQFp26"
   },
   "outputs": [],
   "source": [
    "# Muestra la intersección.\n"
   ]
  },
  {
   "cell_type": "code",
   "execution_count": null,
   "metadata": {
    "colab": {},
    "colab_type": "code",
    "id": "ekiA_PnrFp2-"
   },
   "outputs": [],
   "source": [
    "# Muestra la pendiente.\n"
   ]
  },
  {
   "cell_type": "markdown",
   "metadata": {
    "colab_type": "text",
    "id": "O_Ptxi9-Fp3D"
   },
   "source": [
    "#### 1.3. Visualización de la línea de regresión:"
   ]
  },
  {
   "cell_type": "code",
   "execution_count": null,
   "metadata": {
    "colab": {},
    "colab_type": "code",
    "id": "CieEzlSpFp3F"
   },
   "outputs": [],
   "source": [
    "# Y predicho.\n"
   ]
  },
  {
   "cell_type": "code",
   "execution_count": null,
   "metadata": {
    "colab": {},
    "colab_type": "code",
    "id": "WY9LN6SzFp3J"
   },
   "outputs": [],
   "source": [
    "# Muestra el diagrama de dispersión + línea de regresión.\n"
   ]
  }
 ],
 "metadata": {
  "colab": {
   "collapsed_sections": [],
   "name": "ex_0405.ipynb",
   "provenance": []
  },
  "kernelspec": {
   "display_name": "Python 3",
   "language": "python",
   "name": "python3"
  },
  "language_info": {
   "codemirror_mode": {
    "name": "ipython",
    "version": 3
   },
   "file_extension": ".py",
   "mimetype": "text/x-python",
   "name": "python",
   "nbconvert_exporter": "python",
   "pygments_lexer": "ipython3",
   "version": "3.8.8"
  }
 },
 "nbformat": 4,
 "nbformat_minor": 1
}
