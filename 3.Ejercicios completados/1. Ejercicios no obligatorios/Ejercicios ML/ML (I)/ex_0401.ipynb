{
 "cells": [
  {
   "cell_type": "markdown",
   "metadata": {
    "colab_type": "text",
    "id": "dSL-at0-_ZYg"
   },
   "source": [
    "## Ejercicio de codificación #0401"
   ]
  },
  {
   "cell_type": "markdown",
   "metadata": {
    "colab_type": "text",
    "id": "jMgsH8cV_ZYj"
   },
   "source": [
    "### 1. Agrupación de K-Medias con datos simulados:"
   ]
  },
  {
   "cell_type": "code",
   "execution_count": null,
   "metadata": {
    "colab": {},
    "colab_type": "code",
    "id": "f_eMNyvV_ZYl"
   },
   "outputs": [],
   "source": [
    "import numpy as np\n",
    "import pandas as pd\n",
    "import os\n",
    "from sklearn.cluster import KMeans\n",
    "from sklearn.datasets import make_blobs\n",
    "%matplotlib inline"
   ]
  },
  {
   "cell_type": "markdown",
   "metadata": {
    "colab_type": "text",
    "id": "weAJ-VKG_ZY0"
   },
   "source": [
    "#### 1.1. Genere datos simulados y visualice:"
   ]
  },
  {
   "cell_type": "code",
   "execution_count": null,
   "metadata": {
    "colab": {},
    "colab_type": "code",
    "id": "E-I43Yed_ZY2"
   },
   "outputs": [],
   "source": [
    "# Dataset #1.\n",
    "X1, label1 = make_blobs(n_samples=100, n_features=2, centers=2, cluster_std = 5, random_state=123)\n",
    "plt.scatter(X1[:,0],X1[:,1], c= label1, alpha=0.7 )\n",
    "plt.title('Dataset #1 : Original')\n",
    "plt.show()"
   ]
  },
  {
   "cell_type": "code",
   "execution_count": null,
   "metadata": {
    "colab": {},
    "colab_type": "code",
    "id": "Q2m67wQH_ZZK"
   },
   "outputs": [],
   "source": [
    "# Dataset #2\n",
    "X2, label2 = make_blobs(n_samples=100, n_features=2, centers=3, cluster_std = 1, random_state=321)\n",
    "plt.scatter(X2[:,0],X2[:,1], c= label2, alpha=0.7 )\n",
    "plt.title('Dataset #2 : Original')\n",
    "plt.show()"
   ]
  },
  {
   "cell_type": "markdown",
   "metadata": {
    "colab_type": "text",
    "id": "bIn2goOt_ZZP"
   },
   "source": [
    "#### 1.2. Aplicar clústeres de k-medias y visualizar:"
   ]
  },
  {
   "cell_type": "code",
   "execution_count": 1,
   "metadata": {
    "colab": {},
    "colab_type": "code",
    "executionInfo": {
     "elapsed": 1897,
     "status": "ok",
     "timestamp": 1601033482672,
     "user": {
      "displayName": "Raul Lara Cabrera",
      "photoUrl": "https://lh3.googleusercontent.com/a-/AOh14GhUNGuMoEhpiztThNxtDRiCxT6kNb7Z8RQaXESqrwk=s64",
      "userId": "09376789323423253756"
     },
     "user_tz": -120
    },
    "id": "jW1msGMT_ZZQ"
   },
   "outputs": [],
   "source": [
    "# Dataset #1 y dos clusters.\n"
   ]
  },
  {
   "cell_type": "code",
   "execution_count": null,
   "metadata": {
    "colab": {},
    "colab_type": "code",
    "id": "rJ60hwwa_ZZX"
   },
   "outputs": [],
   "source": [
    "# Dataset #1 y tres clusteres.\n"
   ]
  },
  {
   "cell_type": "code",
   "execution_count": null,
   "metadata": {
    "colab": {},
    "colab_type": "code",
    "id": "JQd9eTO2_ZZe"
   },
   "outputs": [],
   "source": [
    "# Dataset #2 y dos clusteres.\n"
   ]
  },
  {
   "cell_type": "code",
   "execution_count": null,
   "metadata": {
    "colab": {},
    "colab_type": "code",
    "id": "2vk91MFN_ZZj"
   },
   "outputs": [],
   "source": [
    "# Dataset #2 y tres clusteres.\n"
   ]
  },
  {
   "cell_type": "markdown",
   "metadata": {
    "colab_type": "text",
    "id": "ln59Jq2g_ZZo"
   },
   "source": [
    "NOTA: los grupos en k-medias tienen límites lineales. El resultado de la agrupación puede revelar la estructura existente, pero esto no siempre está garantizado."
   ]
  }
 ],
 "metadata": {
  "colab": {
   "collapsed_sections": [],
   "name": "ex_0401.ipynb",
   "provenance": []
  },
  "kernelspec": {
   "display_name": "Python 3",
   "language": "python",
   "name": "python3"
  },
  "language_info": {
   "codemirror_mode": {
    "name": "ipython",
    "version": 3
   },
   "file_extension": ".py",
   "mimetype": "text/x-python",
   "name": "python",
   "nbconvert_exporter": "python",
   "pygments_lexer": "ipython3",
   "version": "3.8.8"
  }
 },
 "nbformat": 4,
 "nbformat_minor": 1
}
