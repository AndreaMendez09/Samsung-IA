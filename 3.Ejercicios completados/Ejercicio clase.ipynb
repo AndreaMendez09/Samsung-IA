{
 "cells": [
  {
   "cell_type": "code",
   "execution_count": 24,
   "id": "696b9f87",
   "metadata": {},
   "outputs": [
    {
     "name": "stdout",
     "output_type": "stream",
     "text": [
      "False\n",
      "True\n"
     ]
    }
   ],
   "source": [
    "from collections import deque\n",
    "\n",
    "def palindromo(cadena):\n",
    "    cadena_deque = deque(cadena)\n",
    "    cadena_deque_reversed = deque(cadena)\n",
    "    cadena_deque_reversed.reverse()\n",
    "    if (cadena_deque_reversed == cadena_deque):\n",
    "        return True\n",
    "    else:\n",
    "        return False    \n",
    "\n",
    "print(palindromo(\"lsdkjfskf\"))\n",
    "print(palindromo(\"radar\"))"
   ]
  },
  {
   "cell_type": "code",
   "execution_count": 25,
   "id": "747dd8d4",
   "metadata": {},
   "outputs": [
    {
     "name": "stdout",
     "output_type": "stream",
     "text": [
      "True\n"
     ]
    }
   ],
   "source": [
    "from collections import deque\n",
    "\n",
    "cadena = deque(\"malayalam\")\n",
    "es_palindromo = True\n",
    "while len(cadena)>1:\n",
    "    if cadena.pop() != cadena.popleft():\n",
    "        es_palindromo = False\n",
    "        break\n",
    "print(es_palindromo)"
   ]
  },
  {
   "cell_type": "code",
   "execution_count": 27,
   "id": "fd33ada7",
   "metadata": {},
   "outputs": [
    {
     "name": "stdout",
     "output_type": "stream",
     "text": [
      "True\n"
     ]
    }
   ],
   "source": [
    "from collections import deque\n",
    "\n",
    "def es_palindromo_rec(cadena):\n",
    "    if len(cadena)>1:\n",
    "        if cadena.pop() != cadena.popleft():\n",
    "            return False\n",
    "        return es_palindromo_rec(cadena)\n",
    "    return True\n",
    "cadena = deque(\"malayalam\")\n",
    "es_palindromo_rec(cadena)\n",
    "print(es_palindromo)"
   ]
  },
  {
   "cell_type": "code",
   "execution_count": null,
   "id": "d44e63d9",
   "metadata": {},
   "outputs": [],
   "source": []
  }
 ],
 "metadata": {
  "kernelspec": {
   "display_name": "Python 3",
   "language": "python",
   "name": "python3"
  },
  "language_info": {
   "codemirror_mode": {
    "name": "ipython",
    "version": 3
   },
   "file_extension": ".py",
   "mimetype": "text/x-python",
   "name": "python",
   "nbconvert_exporter": "python",
   "pygments_lexer": "ipython3",
   "version": "3.8.8"
  }
 },
 "nbformat": 4,
 "nbformat_minor": 5
}
