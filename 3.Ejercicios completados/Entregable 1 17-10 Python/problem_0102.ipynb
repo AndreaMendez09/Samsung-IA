{
 "cells": [
  {
   "cell_type": "markdown",
   "metadata": {},
   "source": [
    "## Prueba #0102 "
   ]
  },
  {
   "cell_type": "markdown",
   "metadata": {},
   "source": [
    "#### Use una función lambda y `map()` para responder las siguientes preguntas."
   ]
  },
  {
   "cell_type": "markdown",
   "metadata": {},
   "source": [
    "1). Agregue 1 a cada elemento de la lista 'a' y cree otra lista. <br>\n",
    "\n",
    "a = [1, 2, 3, 4, 5, 6, 7, 8, 9, 10]"
   ]
  },
  {
   "cell_type": "code",
   "execution_count": 15,
   "metadata": {},
   "outputs": [
    {
     "name": "stdout",
     "output_type": "stream",
     "text": [
      "[2, 3, 4, 5, 6, 7, 8, 9, 10, 11]\n"
     ]
    }
   ],
   "source": [
    "#Con la funcion lambda y map\n",
    "a = [1, 2, 3, 4, 5, 6, 7, 8, 9, 10]\n",
    "b = map(lambda lista_a: lista_a + 1, a) #map(function, iterables) \n",
    "print(list(b))"
   ]
  },
  {
   "cell_type": "markdown",
   "metadata": {},
   "source": [
    "2). Multiplique los elementos las listas 'a' y 'b'. Mostrar el resultado como otra lista.\n",
    "\n",
    "a = [2, 4, 6, 8, 10]\n",
    "\n",
    "b = [10, 8, 6, 4, 2]"
   ]
  },
  {
   "cell_type": "code",
   "execution_count": 8,
   "metadata": {},
   "outputs": [
    {
     "name": "stdout",
     "output_type": "stream",
     "text": [
      "[20, 32, 36, 32, 20]\n"
     ]
    }
   ],
   "source": [
    "#Con la funcion lambda y map\n",
    "a = [2, 4, 6, 8, 10]\n",
    "b = [10, 8, 6, 4, 2]\n",
    "c = map(lambda lista_a, lista_b: lista_a * lista_b, a, b)\n",
    "print(list(c))"
   ]
  },
  {
   "cell_type": "markdown",
   "metadata": {},
   "source": [
    "#### Use una función lambda y `filter()` para responder las siguientes preguntas."
   ]
  },
  {
   "cell_type": "markdown",
   "metadata": {},
   "source": [
    "3). Encuentra los múltiplos de 5 en el rango 1 ~ 100. Mostrar el resultado como una lista."
   ]
  },
  {
   "cell_type": "code",
   "execution_count": 24,
   "metadata": {},
   "outputs": [
    {
     "name": "stdout",
     "output_type": "stream",
     "text": [
      "[5, 10, 15, 20, 25, 30, 35, 40, 45, 50, 55, 60, 65, 70, 75, 80, 85, 90, 95]\n"
     ]
    }
   ],
   "source": [
    "multiplos_cinco = filter(lambda x : x % 5 == 0, range(1,100)) #filter(lambda, lista_valores) devuelve True si se cumple\n",
    "print(list(multiplos_cinco))"
   ]
  },
  {
   "cell_type": "markdown",
   "metadata": {},
   "source": [
    "4). En la siguiente lista, encuentre los valores mayores que 160. Muestre el resultado como una lista.\n",
    "\n",
    "a = [145.2, 160.3, 155.2, 171.6, 165.34, 167.2, 161.1, 164.9]"
   ]
  },
  {
   "cell_type": "code",
   "execution_count": 26,
   "metadata": {},
   "outputs": [
    {
     "name": "stdout",
     "output_type": "stream",
     "text": [
      "[160.3, 171.6, 165.34, 167.2, 161.1, 164.9]\n"
     ]
    }
   ],
   "source": [
    "a = [145.2, 160.3, 155.2, 171.6, 165.34, 167.2, 161.1, 164.9]\n",
    "mayores = filter(lambda x : x > 160, a) #filter(lambda, lista_valores) devuelve True si se cumple\n",
    "print(list(mayores))"
   ]
  },
  {
   "cell_type": "markdown",
   "metadata": {},
   "source": [
    "5). En la siguiente lista, encuentre los valores mayores que 160 y menores que 165. Muestre el resultado como una lista.\n",
    "\n",
    "a = [145.2, 160.3, 155.2, 171.6, 165.34, 167.2, 161.1, 164.9]"
   ]
  },
  {
   "cell_type": "code",
   "execution_count": 27,
   "metadata": {},
   "outputs": [
    {
     "name": "stdout",
     "output_type": "stream",
     "text": [
      "[160.3, 161.1, 164.9]\n"
     ]
    }
   ],
   "source": [
    "a = [145.2, 160.3, 155.2, 171.6, 165.34, 167.2, 161.1, 164.9]\n",
    "mayores_dos = filter(lambda x : x > 160 and x < 165, a) #filter(lambda, lista_valores) devuelve True si se cumple\n",
    "print(list(mayores_dos))"
   ]
  },
  {
   "cell_type": "markdown",
   "metadata": {},
   "source": [
    "6). En la siguiente lista de nombres, extraiga solo aquellos que comienzan con 'J'. Mostrar el resultado como una lista.\n",
    "\n",
    "a = ['Sara', 'Jack', 'Rebecca', 'Jennifer', 'Paul', 'Andrew', 'John']"
   ]
  },
  {
   "cell_type": "code",
   "execution_count": 28,
   "metadata": {},
   "outputs": [
    {
     "name": "stdout",
     "output_type": "stream",
     "text": [
      "['Jack', 'Jennifer', 'John']\n"
     ]
    }
   ],
   "source": [
    "a = ['Sara', 'Jack', 'Rebecca', 'Jennifer', 'Paul', 'Andrew', 'John']\n",
    "empiezan_con_j = filter(lambda x : x[0] == 'J' , a) #filter(lambda, lista_valores) devuelve True si se cumple\n",
    "print(list(empiezan_con_j))"
   ]
  }
 ],
 "metadata": {
  "kernelspec": {
   "display_name": "Python 3",
   "language": "python",
   "name": "python3"
  },
  "language_info": {
   "codemirror_mode": {
    "name": "ipython",
    "version": 3
   },
   "file_extension": ".py",
   "mimetype": "text/x-python",
   "name": "python",
   "nbconvert_exporter": "python",
   "pygments_lexer": "ipython3",
   "version": "3.8.8"
  }
 },
 "nbformat": 4,
 "nbformat_minor": 2
}
