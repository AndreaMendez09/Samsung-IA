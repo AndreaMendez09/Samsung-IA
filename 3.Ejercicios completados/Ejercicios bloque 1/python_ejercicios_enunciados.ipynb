{
 "cells": [
  {
   "cell_type": "markdown",
   "metadata": {},
   "source": [
    "# Ejercicios de introducción a Python"
   ]
  },
  {
   "cell_type": "markdown",
   "metadata": {},
   "source": [
    "1.- Escribe un código que obtenga la longitud de las cadenas de tamaño mayor que 2 que comiezan y acaban por el mismo caracter:\n",
    "```python\n",
    " In: words = ['abc', 'xyz', 'aba', '1221', 'aa']\n",
    "Out: [3, 4]\n",
    "```"
   ]
  },
  {
   "cell_type": "code",
   "execution_count": 2,
   "metadata": {},
   "outputs": [
    {
     "name": "stdout",
     "output_type": "stream",
     "text": [
      "[3, 4]\n"
     ]
    }
   ],
   "source": [
    "words = ['abc', 'xyz', 'aba', '1221', 'aa']\n",
    "salida = []\n",
    "for palabra in words:\n",
    "    if palabra[0] == palabra[-1] and len(palabra) > 2:\n",
    "        salida.append(len(palabra))\n",
    "\n",
    "print(salida)"
   ]
  },
  {
   "cell_type": "markdown",
   "metadata": {},
   "source": [
    "2.- Escribir un código que dada una lista de tuplas no vacias, devuelva una lista ordenada por el último elemento de las tuplas en orden creciente:\n",
    "```python\n",
    " In: [(2, 5), (1, 2), (4, 4), (2, 3), (2, 1)]\n",
    "Out: [(2, 1), (1, 2), (2, 3), (4, 4), (2, 5)]\n",
    "```"
   ]
  },
  {
   "cell_type": "code",
   "execution_count": 5,
   "metadata": {},
   "outputs": [
    {
     "name": "stdout",
     "output_type": "stream",
     "text": [
      "[(2, 1), (1, 2), (2, 3), (4, 4), (2, 5)]\n"
     ]
    }
   ],
   "source": [
    "tupla = [(2, 5), (1, 2), (4, 4), (2, 3), (2, 1)]\n",
    "tupla.sort(key=lambda tupla_n2: tupla_n2[1])\n",
    "print(tupla)"
   ]
  },
  {
   "cell_type": "markdown",
   "metadata": {},
   "source": [
    "3.- Escribir un código que devuelva una lista resultado de eliminar los dupliados de otra:\n",
    "```python\n",
    " In: duplicates = [10,20,30,20,10,50,60,40,80,50,40]\n",
    "Out: [40, 10, 80, 50, 20, 60, 30]\n",
    "```"
   ]
  },
  {
   "cell_type": "markdown",
   "metadata": {},
   "source": [
    "\n",
    "- List is a collection which is ordered and changeable. Allows duplicate members.\n",
    "- Tuple is a collection which is ordered and unchangeable. Allows duplicate members.\n",
    "- Set is a collection which is unordered and unindexed. No duplicate members.\n",
    "- Dictionary is a collection which is ordered* and changeable. No duplicate members.\n"
   ]
  },
  {
   "cell_type": "code",
   "execution_count": 9,
   "metadata": {},
   "outputs": [
    {
     "data": {
      "text/plain": [
       "[40, 10, 80, 50, 20, 60, 30]"
      ]
     },
     "execution_count": 9,
     "metadata": {},
     "output_type": "execute_result"
    }
   ],
   "source": [
    "duplicates = [10,20,30,20,10,50,60,40,80,50,40]\n",
    "list(set(duplicates))"
   ]
  },
  {
   "cell_type": "markdown",
   "metadata": {},
   "source": [
    "4.- Escribir un código que devuelve si dadas dos listas comparten algún elemento:  \n",
    "```python\n",
    " In: list1 = [1,2,3,4,5], list2 = [5,6,7,8,9]\n",
    "Out: True\n",
    "```"
   ]
  },
  {
   "cell_type": "code",
   "execution_count": 14,
   "metadata": {},
   "outputs": [
    {
     "name": "stdout",
     "output_type": "stream",
     "text": [
      "True\n"
     ]
    }
   ],
   "source": [
    "list1 = [1,2,3,4,5]\n",
    "list2 = [5,6,7,8,9]\n",
    "\n",
    "set1 = set(list1) \n",
    "set2 = set(list2) \n",
    "\n",
    "print(True if set1.intersection(set2) else False) #If en una línea value = true-expr if condition else false-expr"
   ]
  },
  {
   "cell_type": "markdown",
   "metadata": {},
   "source": [
    "4.1.- Devolver los elementos comunes."
   ]
  },
  {
   "cell_type": "code",
   "execution_count": 15,
   "metadata": {},
   "outputs": [
    {
     "name": "stdout",
     "output_type": "stream",
     "text": [
      "{5}\n"
     ]
    }
   ],
   "source": [
    "list1 = [1,2,3,4,5]\n",
    "list2 = [5,6,7,8,9]\n",
    "\n",
    "set1 = set(list1) \n",
    "set2 = set(list2) \n",
    "\n",
    "print(set1.intersection(set2))"
   ]
  },
  {
   "cell_type": "markdown",
   "metadata": {},
   "source": [
    "5.- Escribir un código que elimine los valores impares de una lista:  \n",
    "```python\n",
    " In: list1 = [1,2,3,4,5]\n",
    "Out: [2, 4]\n",
    "```"
   ]
  },
  {
   "cell_type": "code",
   "execution_count": 19,
   "metadata": {},
   "outputs": [
    {
     "name": "stdout",
     "output_type": "stream",
     "text": [
      "[2, 4]\n"
     ]
    }
   ],
   "source": [
    "list1 = [1,2,3,4,5]\n",
    "lista_pares = [numero for numero in list1 if numero % 2 == 0] # [<expression> <for loop> <condition if any>]\n",
    "print(lista_pares)"
   ]
  },
  {
   "cell_type": "markdown",
   "metadata": {},
   "source": [
    "6.- Escribir un código que devuelva una lista con los elementos diferentes de otras dos listas:  \n",
    "```python\n",
    " In: list1 = [1,2,3,4,5], list2 = [5,6,7,8,9]\n",
    "Out: [1, 2, 3, 4, 6, 7, 8, 9]\n",
    "```"
   ]
  },
  {
   "cell_type": "code",
   "execution_count": 6,
   "metadata": {},
   "outputs": [
    {
     "name": "stdout",
     "output_type": "stream",
     "text": [
      "{1, 2, 3, 4, 6, 7, 8, 9}\n"
     ]
    }
   ],
   "source": [
    "list1 = [1,2,3,4,5]\n",
    "list2 = [5,6,7,8,9]\n",
    "set1 = set(list1) \n",
    "set2 = set(list2) \n",
    "\n",
    "print (set1.symmetric_difference(set2))"
   ]
  },
  {
   "cell_type": "markdown",
   "metadata": {},
   "source": [
    "7.- Escribir un código que devuelva el segundo elemento mayor de una lista:  \n",
    "```python\n",
    " In: list1 = [9,2,1,4,8,6,7,5,3]\n",
    "Out: 8\n",
    "```"
   ]
  },
  {
   "cell_type": "code",
   "execution_count": 14,
   "metadata": {},
   "outputs": [
    {
     "name": "stdout",
     "output_type": "stream",
     "text": [
      "8\n"
     ]
    }
   ],
   "source": [
    "list1 = [9,2,1,4,8,6,7,5,3]\n",
    "list1.sort()\n",
    "print(list1[-2])"
   ]
  },
  {
   "cell_type": "markdown",
   "metadata": {},
   "source": [
    "8.- Escribir un código que devuelva una lista ordenada con las frecuencias de los elementos de mayor a menor:  \n",
    "```python\n",
    " In: list1 = [10,10,10,10,20,20,20,20,40,40,50,50,30]\n",
    "Out: [(10, 4), (20, 4), (40, 2), (50, 2), (30, 1)]\n",
    "```"
   ]
  },
  {
   "cell_type": "code",
   "execution_count": 49,
   "metadata": {},
   "outputs": [
    {
     "data": {
      "text/plain": [
       "[(10, 4), (20, 4), (40, 2), (50, 2), (30, 1)]"
      ]
     },
     "execution_count": 49,
     "metadata": {},
     "output_type": "execute_result"
    }
   ],
   "source": [
    "list1 = [10,10,10,10,20,20,20,20,40,40,50,50,30]\n",
    "lista_ordenada = list()\n",
    "lista_ordenada = [(numero, list1.count(numero)) for numero in set(list1)]\n",
    "sorted(lista_ordenada, key=lambda l:l[1], reverse=True)"
   ]
  },
  {
   "cell_type": "markdown",
   "metadata": {},
   "source": [
    "9.- Escribir un código que devuelva una lista resultado de concatenar los valores de una lista con un rango:  \n",
    "```python\n",
    " In: list1 = ['p', 'q'], n = 4\n",
    "Out: ['p1', 'q1', 'p2', 'q2', 'p3', 'q3', 'p4', 'q4'] \n",
    "```"
   ]
  },
  {
   "cell_type": "code",
   "execution_count": 58,
   "metadata": {},
   "outputs": [
    {
     "ename": "AttributeError",
     "evalue": "'numpy.ndarray' object has no attribute 'add'",
     "output_type": "error",
     "traceback": [
      "\u001b[1;31m---------------------------------------------------------------------------\u001b[0m",
      "\u001b[1;31mAttributeError\u001b[0m                            Traceback (most recent call last)",
      "\u001b[1;32m<ipython-input-58-6b6639737d6c>\u001b[0m in \u001b[0;36m<module>\u001b[1;34m\u001b[0m\n\u001b[0;32m      4\u001b[0m \u001b[0mn\u001b[0m \u001b[1;33m=\u001b[0m \u001b[1;36m4\u001b[0m\u001b[1;33m\u001b[0m\u001b[1;33m\u001b[0m\u001b[0m\n\u001b[0;32m      5\u001b[0m \u001b[0marray_suma\u001b[0m \u001b[1;33m=\u001b[0m \u001b[0mnp\u001b[0m\u001b[1;33m.\u001b[0m\u001b[0marray\u001b[0m\u001b[1;33m(\u001b[0m\u001b[0mlist1\u001b[0m\u001b[1;33m)\u001b[0m\u001b[1;33m\u001b[0m\u001b[1;33m\u001b[0m\u001b[0m\n\u001b[1;32m----> 6\u001b[1;33m \u001b[0marray_suma\u001b[0m\u001b[1;33m.\u001b[0m\u001b[0madd\u001b[0m\u001b[1;33m(\u001b[0m\u001b[0mrange\u001b[0m\u001b[1;33m(\u001b[0m\u001b[1;36m1\u001b[0m\u001b[1;33m,\u001b[0m \u001b[0mn\u001b[0m\u001b[1;33m+\u001b[0m\u001b[1;36m1\u001b[0m\u001b[1;33m)\u001b[0m\u001b[1;33m)\u001b[0m\u001b[1;33m\u001b[0m\u001b[1;33m\u001b[0m\u001b[0m\n\u001b[0m\u001b[0;32m      7\u001b[0m \u001b[0mprint\u001b[0m\u001b[1;33m(\u001b[0m\u001b[0marray_suma\u001b[0m\u001b[1;33m)\u001b[0m\u001b[1;33m\u001b[0m\u001b[1;33m\u001b[0m\u001b[0m\n",
      "\u001b[1;31mAttributeError\u001b[0m: 'numpy.ndarray' object has no attribute 'add'"
     ]
    }
   ],
   "source": [
    "import numpy as np\n",
    "\n",
    "list1 = ['p', 'q']\n",
    "n = 4\n",
    "array_suma = np.array(list1)\n",
    "array_suma.add(range(1, n+1))\n",
    "print(array_suma)"
   ]
  },
  {
   "cell_type": "markdown",
   "metadata": {},
   "source": [
    "10.- Escribir un código que convierta una lista de listas en un diccionario:  \n",
    "```python\n",
    " In: list1 = [[\"Black\", \"Red\", \"Maroon\", \"Yellow\"], [\"#000000\", \"#FF0000\", \"#800000\", \"#FFFF00\"]]\n",
    "Out: {'Black': '#FFFF00', 'Red': '#FFFF00', 'Maroon': '#FFFF00', 'Yellow': '#FFFF00'}\n",
    "```"
   ]
  },
  {
   "cell_type": "code",
   "execution_count": 4,
   "metadata": {},
   "outputs": [
    {
     "name": "stdout",
     "output_type": "stream",
     "text": [
      "{'Black': '#000000', 'Red': '#FF0000', 'Maroon': '#800000', 'Yellow': '#FFFF00'}\n"
     ]
    }
   ],
   "source": [
    "list1 = [[\"Black\", \"Red\", \"Maroon\", \"Yellow\"], [\"#000000\", \"#FF0000\", \"#800000\", \"#FFFF00\"]]\n",
    "diccionario = dict(zip(list1[0], list1[1])) #Zip devuelve tuplas, como queremos un diccionario lo convertimos\n",
    "print(diccionario)"
   ]
  },
  {
   "cell_type": "markdown",
   "metadata": {},
   "source": [
    "11.- Escribir un código que divida una lista en una lista de listas cada n elementos (no contiguos):  \n",
    "```python\n",
    " In: list1 = ['a', 'b', 'c', 'd', 'e', 'f', 'g', 'h', 'i', 'j', 'k', 'l', 'm', 'n']\n",
    "     step = 3\n",
    "Out: [['a', 'd', 'g', 'j', 'm'], ['b', 'e', 'h', 'k', 'n'], ['c', 'f', 'i', 'l']]\n",
    "```"
   ]
  },
  {
   "cell_type": "code",
   "execution_count": null,
   "metadata": {},
   "outputs": [],
   "source": [
    "list1 = ['a', 'b', 'c', 'd', 'e', 'f', 'g', 'h', 'i', 'j', 'k', 'l', 'm', 'n']\n",
    "step = 3\n",
    "for letra in range(step):\n",
    "    "
   ]
  },
  {
   "cell_type": "markdown",
   "metadata": {},
   "source": [
    "12.- Escribir un código que divida una lista en una lista de listas cada n elementos (contiguos):  \n",
    "```python\n",
    " In: list1 = ['a', 'b', 'c', 'd', 'e', 'f', 'g', 'h', 'i', 'j', 'k', 'l', 'm', 'n']\n",
    "     step = 3\n",
    "Out: [['a', 'b', 'c'], ['d', 'e', 'f'], ['g', 'h', 'i'], ['j', 'k', 'l'], ['m', 'n']]\n",
    "```"
   ]
  },
  {
   "cell_type": "code",
   "execution_count": null,
   "metadata": {},
   "outputs": [],
   "source": []
  },
  {
   "cell_type": "markdown",
   "metadata": {},
   "source": [
    "13.- Escribir un código que encuentre en una lista de listas aquella cuya suma sea mayor:  \n",
    "```python\n",
    " In: list1 = [[1,2,3], [4,5,6], [10,11,12], [7,8,9]]\n",
    "Out: [10,11,12]\n",
    "```"
   ]
  },
  {
   "cell_type": "code",
   "execution_count": null,
   "metadata": {},
   "outputs": [],
   "source": []
  },
  {
   "cell_type": "markdown",
   "metadata": {},
   "source": [
    "14.- Escribir un código que elimine las listas duplicadas de una lista de listas:  \n",
    "```python\n",
    " In: list1 = [[10, 20], [40], [30, 56, 25], [10, 20], [33], [40]]\n",
    "Out: [[33], [30, 56, 25], [40], [10, 20]]\n",
    "```"
   ]
  },
  {
   "cell_type": "code",
   "execution_count": null,
   "metadata": {},
   "outputs": [],
   "source": []
  },
  {
   "cell_type": "markdown",
   "metadata": {},
   "source": [
    "15.- Escribir un código que elimine las tuplas vacias de una lista de tuplas:  \n",
    "```python\n",
    " In: list1 = [(), (), ('',), ('a', 'b'), ('a', 'b', 'c'), ('d')]\n",
    "Out: [('',), ('a', 'b'), ('a', 'b', 'c'), 'd'] \n",
    "```"
   ]
  },
  {
   "cell_type": "code",
   "execution_count": null,
   "metadata": {},
   "outputs": [],
   "source": []
  },
  {
   "cell_type": "markdown",
   "metadata": {},
   "source": [
    "16.- Escribir un código que concatene varios diccionarios en uno:  \n",
    "```python\n",
    " In: dic1={1:10, 2:20}, dic2={3:30, 4:40}, dic3={5:50, 6:60}\n",
    "Out: {1: 10, 2: 20, 3: 30, 4: 40, 5: 50, 6: 60}\n",
    "```"
   ]
  },
  {
   "cell_type": "code",
   "execution_count": null,
   "metadata": {},
   "outputs": [],
   "source": []
  },
  {
   "cell_type": "markdown",
   "metadata": {},
   "source": [
    "17.- Escribir un código que devuelva los valores únicos de una lista de diccionarios:  \n",
    "```python\n",
    " In: list1 = [{\"V\":\"S001\", \"VI\": \"S002\"}, {\"VI\": \"S001\"}, {\"VI\": \"S005\"}, {\"VII\":\"S005\"}, {\"V\":\"S009\"},{\"VIII\":\"S007\"}]\n",
    "Out: {'S009', 'S002', 'S007', 'S005', 'S001'} \n",
    "```"
   ]
  },
  {
   "cell_type": "code",
   "execution_count": null,
   "metadata": {},
   "outputs": [],
   "source": []
  },
  {
   "cell_type": "markdown",
   "metadata": {},
   "source": [
    "18.- Escribir un codigo que obtenga los 3 valores más altos de un diccionario:\n",
    "```python\n",
    " In: my_dict = {'a':500, 'b':5874, 'c': 560,'d':400, 'e':5874, 'f': 20}  \n",
    "Out: [5874, 5874, 560]\n",
    "```"
   ]
  },
  {
   "cell_type": "code",
   "execution_count": null,
   "metadata": {},
   "outputs": [],
   "source": []
  },
  {
   "cell_type": "markdown",
   "metadata": {},
   "source": [
    "19.- Escribir un codigo que obtenga un diccionario a partir de una cadena en el que las letras sean las claves y los valores el número de apariciones:\n",
    "```python\n",
    " In: str1 = 'w3resource' \n",
    "Out: {'w': 1, '3': 1, 'r': 2, 'e': 2, 's': 1, 'o': 1, 'u': 1, 'c': 1}\n",
    "```"
   ]
  },
  {
   "cell_type": "code",
   "execution_count": null,
   "metadata": {},
   "outputs": [],
   "source": []
  },
  {
   "cell_type": "markdown",
   "metadata": {},
   "source": [
    "20.- Escribir un codigo que obtenga un diccionario con el acumulado de los valores de sus claves:\n",
    "```python\n",
    " In: list1 = [{'item': 'item1', 'amount': 400}, \n",
    "              {'item': 'item2', 'amount': 300}, \n",
    "              {'item': 'item1', 'amount': 750}]\n",
    "Out: {'item1': 1150, 'item2': 300}\n",
    "```"
   ]
  },
  {
   "cell_type": "code",
   "execution_count": null,
   "metadata": {},
   "outputs": [],
   "source": []
  },
  {
   "cell_type": "markdown",
   "metadata": {},
   "source": [
    "## Otras...\n",
    "\n",
    "1.- Dada una lista de la compra basada en productos (producto, precio kg, kg), se pide obtener el total del coste de la misma:\n",
    "```python\n",
    " In: lista_compra = ((\"patatas\", 1.8, 2), \n",
    "                     (\"zanahorias\", 2.0, 1), \n",
    "                     (\"aguacates\", 3.5, 2))\n",
    "Out: 12.6\n",
    "```"
   ]
  },
  {
   "cell_type": "code",
   "execution_count": null,
   "metadata": {},
   "outputs": [],
   "source": []
  },
  {
   "cell_type": "markdown",
   "metadata": {},
   "source": [
    "2.- Dada una lista de la compra basada en productos (producto, precio kg, kg), se pide obtener el total del coste de la misma:\n",
    "```python\n",
    " In: lista_compra = ((\"patatas\", \"1.8 €/Kg\", \"2 Kg\"), \n",
    "                     (\"zanahorias\", \"2.0 €/Kg\", \"1 Kg\"), \n",
    "                     (\"aguacates\", \"3.5 €/Kg\", \"2 Kg\"))\n",
    "Out: 12.6\n",
    "```"
   ]
  },
  {
   "cell_type": "code",
   "execution_count": null,
   "metadata": {},
   "outputs": [],
   "source": []
  },
  {
   "cell_type": "markdown",
   "metadata": {},
   "source": [
    "2.1.- Utilizar una función:"
   ]
  },
  {
   "cell_type": "code",
   "execution_count": null,
   "metadata": {},
   "outputs": [],
   "source": []
  },
  {
   "cell_type": "markdown",
   "metadata": {},
   "source": [
    "2.2.- Utilizar la función **map**:"
   ]
  },
  {
   "cell_type": "code",
   "execution_count": null,
   "metadata": {},
   "outputs": [],
   "source": []
  },
  {
   "cell_type": "markdown",
   "metadata": {},
   "source": [
    "2.3.- Utilizar una función de la librería **itertoools**:"
   ]
  },
  {
   "cell_type": "code",
   "execution_count": null,
   "metadata": {},
   "outputs": [],
   "source": []
  },
  {
   "cell_type": "markdown",
   "metadata": {},
   "source": [
    "3.- Crear una función que dadas dos cadenas nos indique si son anagramas:\n",
    "```python\n",
    " In: is_anagram('anagram','margana')\n",
    "Out: True\n",
    "```\n",
    "```python\n",
    " In: is_anagram('cat','rat')\n",
    "Out: False\n",
    "```"
   ]
  },
  {
   "cell_type": "code",
   "execution_count": null,
   "metadata": {},
   "outputs": [],
   "source": []
  },
  {
   "cell_type": "markdown",
   "metadata": {},
   "source": [
    "4.- Dada una lista de listas de tuplas, indicar el número de apariciones de cada una de ellas:\n",
    "```python\n",
    " In: lista = [[('hi', 'bye')], [('Geeks', 'forGeeks')], \n",
    "              [('a', 'b')], [('hi', 'bye')], [('a', 'b')]] \n",
    "Out: {('hi', 'bye'): 2, ('Geeks', 'forGeeks'): 1, ('a', 'b'): 2}\n",
    "```"
   ]
  },
  {
   "cell_type": "code",
   "execution_count": null,
   "metadata": {},
   "outputs": [],
   "source": []
  },
  {
   "cell_type": "markdown",
   "metadata": {},
   "source": [
    "5.- Dada una lista de tuplas, obtener utilizando un **filtro** aquellas que continen un valor específico:\n",
    "```python\n",
    " In: lista = [(11, 22), (33, 55), (55, 77), (11, 44), (33, 22, 100, 11), (99, 11)] \n",
    "     n = 11 \n",
    "Out: [(11, 22), (11, 44), (33, 22, 100, 11), (99, 11)]\n",
    "```"
   ]
  },
  {
   "cell_type": "code",
   "execution_count": null,
   "metadata": {},
   "outputs": [],
   "source": []
  },
  {
   "cell_type": "markdown",
   "metadata": {},
   "source": [
    "6.- Sumar los valores de dos listas utilizando la función **map** con una función **lambda**:\n",
    "```python\n",
    " In: list1 = [1, 2, 3]\n",
    "     list2 = [4, 5, 6]\n",
    "Out: [5, 7, 9]\n",
    "```"
   ]
  },
  {
   "cell_type": "code",
   "execution_count": null,
   "metadata": {},
   "outputs": [],
   "source": []
  },
  {
   "cell_type": "markdown",
   "metadata": {},
   "source": [
    "7.- El siguiente diccionario contiene el ranking de varias compañías del Fortune 500:\n",
    "```python\n",
    "    # Dictionary of fortune 500 companies\n",
    "    dictOfFortune500 = {\n",
    "        \"Walmart\": 1,\n",
    "        \"Exxon Mobil\" : 2,\n",
    "        \"Berkshire Hathaway\" : 3,\n",
    "        \"Apple\" : 4,\n",
    "        \"UnitedHealth Group\" : 5,\n",
    "        \"McKesson\" : 5,\n",
    "        \"CVS Health\" : 5,\n",
    "        \"Amazon.com\" : 6,\n",
    "        \"AT&T\" : 6,\n",
    "        \"General Motors\" : 7\n",
    "        }\n",
    "```"
   ]
  },
  {
   "cell_type": "code",
   "execution_count": null,
   "metadata": {},
   "outputs": [],
   "source": [
    "# Dictionary of fortune 500 companies\n",
    "dictOfFortune500 = {\n",
    "    \"Walmart\": 1,\n",
    "    \"Exxon Mobil\" : 2,\n",
    "    \"Berkshire Hathaway\" : 3,\n",
    "    \"Apple\" : 4,\n",
    "    \"UnitedHealth Group\" : 5,\n",
    "    \"McKesson\" : 5,\n",
    "    \"CVS Health\" : 5,\n",
    "    \"Amazon.com\" : 6,\n",
    "    \"AT&T\" : 6,\n",
    "    \"General Motors\" : 7\n",
    "    }"
   ]
  },
  {
   "cell_type": "markdown",
   "metadata": {},
   "source": [
    "7.1.- Definir una función que devuelva las compañías con ranking 5: "
   ]
  },
  {
   "cell_type": "code",
   "execution_count": null,
   "metadata": {},
   "outputs": [],
   "source": []
  },
  {
   "cell_type": "markdown",
   "metadata": {},
   "source": [
    "7.2.- Utilizar una comprensión de listas:"
   ]
  },
  {
   "cell_type": "code",
   "execution_count": null,
   "metadata": {},
   "outputs": [],
   "source": []
  },
  {
   "cell_type": "markdown",
   "metadata": {},
   "source": [
    "7.3.- Utilizar un filtro:"
   ]
  },
  {
   "cell_type": "code",
   "execution_count": null,
   "metadata": {},
   "outputs": [],
   "source": []
  },
  {
   "cell_type": "markdown",
   "metadata": {},
   "source": [
    "7.4.- Modificar la función para que admita una lista de valores:"
   ]
  },
  {
   "cell_type": "code",
   "execution_count": null,
   "metadata": {},
   "outputs": [],
   "source": []
  },
  {
   "cell_type": "markdown",
   "metadata": {},
   "source": [
    "---\n",
    "<div style=\"text-align:center\">\n",
    "    [<a href=\"../python.ipynb\">Python</a>]\n",
    "    <!--[<a href=\"python_test.ipynb\">test</a>]-->\n",
    "    [ejercicios]\n",
    "</div>"
   ]
  }
 ],
 "metadata": {
  "kernelspec": {
   "display_name": "Python 3",
   "language": "python",
   "name": "python3"
  },
  "language_info": {
   "codemirror_mode": {
    "name": "ipython",
    "version": 3
   },
   "file_extension": ".py",
   "mimetype": "text/x-python",
   "name": "python",
   "nbconvert_exporter": "python",
   "pygments_lexer": "ipython3",
   "version": "3.8.8"
  }
 },
 "nbformat": 4,
 "nbformat_minor": 2
}
