{
 "cells": [
  {
   "cell_type": "markdown",
   "metadata": {},
   "source": [
    "# Ejercicios de introducción a Numpy "
   ]
  },
  {
   "cell_type": "code",
   "execution_count": 2,
   "metadata": {},
   "outputs": [
    {
     "name": "stdout",
     "output_type": "stream",
     "text": [
      "1.20.1\n"
     ]
    }
   ],
   "source": [
    "import numpy as np\n",
    "print(np.__version__)"
   ]
  },
  {
   "cell_type": "markdown",
   "metadata": {},
   "source": [
    "1.- Extrae todos los número impares de un array:\n",
    "```python\n",
    " In: array([0, 1, 2, 3, 4, 5, 6, 7, 8, 9])\n",
    "Out: array([1, 3, 5, 7, 9])\n",
    "```"
   ]
  },
  {
   "cell_type": "code",
   "execution_count": 8,
   "metadata": {},
   "outputs": [
    {
     "data": {
      "text/plain": [
       "array([1, 3, 5, 7, 9])"
      ]
     },
     "execution_count": 8,
     "metadata": {},
     "output_type": "execute_result"
    }
   ],
   "source": [
    "array = np.arange(10)\n",
    "array[array % 2 != 0]"
   ]
  },
  {
   "cell_type": "markdown",
   "metadata": {},
   "source": [
    "2.- Reemplaza los números impares de un array con valores fijos:\n",
    "```python\n",
    " In: array([0, 1, 2, 3, 4, 5, 6, 7, 8, 9])\n",
    "Out: array([0, -1, 2, -1, 4, -1, 6, -1, 8, -1])\n",
    "```"
   ]
  },
  {
   "cell_type": "code",
   "execution_count": 11,
   "metadata": {},
   "outputs": [
    {
     "data": {
      "text/plain": [
       "array([ 0, -1,  2, -1,  4, -1,  6, -1,  8, -1])"
      ]
     },
     "execution_count": 11,
     "metadata": {},
     "output_type": "execute_result"
    }
   ],
   "source": [
    "array = np.arange(10)\n",
    "array[array % 2 != 0] = -1 #Se aplica a todo el array y modifica el original\n",
    "array"
   ]
  },
  {
   "cell_type": "markdown",
   "metadata": {},
   "source": [
    "3.- Reemplaza los números impares de un array con valores fijos sin afectar al array original:\n",
    "```python\n",
    " In: array([0, 1, 2, 3, 4, 5, 6, 7, 8, 9])\n",
    "Out: array([0, -1, 2, -1, 4, -1, 6, -1, 8, -1])\n",
    "```"
   ]
  },
  {
   "cell_type": "code",
   "execution_count": null,
   "metadata": {},
   "outputs": [],
   "source": [
    "array = np.arange(10)\n",
    "np.where(array % 2 != 0)\n",
    "array"
   ]
  },
  {
   "cell_type": "markdown",
   "metadata": {},
   "source": [
    "4.- Convertir un array de 1D en un array de 2D:  \n",
    "```python\n",
    " In: array([ 0, 1, 2, 3, 4, 5, 6, 7, 8, 9])\n",
    "Out: array([[0, 1, 2, 3, 4],\n",
    "            [5, 6, 7, 8, 9]])\n",
    "```"
   ]
  },
  {
   "cell_type": "code",
   "execution_count": 12,
   "metadata": {},
   "outputs": [
    {
     "data": {
      "text/plain": [
       "array([[0, 1, 2, 3, 4],\n",
       "       [5, 6, 7, 8, 9]])"
      ]
     },
     "execution_count": 12,
     "metadata": {},
     "output_type": "execute_result"
    }
   ],
   "source": [
    "array = np.arange(10)\n",
    "np.reshape(array, (2,-1)) #Significa el numero de columnas que sea necesaria -1"
   ]
  },
  {
   "cell_type": "markdown",
   "metadata": {},
   "source": [
    "5.- Apilar verticalmente dos arrays:  \n",
    "```python\n",
    " In: array([[0, 1, 2, 3, 4],\n",
    "            [5, 6, 7, 8, 9]]),\n",
    "     array([[1, 1, 1, 1, 1]\n",
    "            [1, 1, 1, 1, 1]])\n",
    "Out: array([[0, 1, 2, 3, 4],\n",
    "            [5, 6, 7, 8, 9],\n",
    "            [1, 1, 1, 1, 1],\n",
    "            [1, 1, 1, 1, 1]])\n",
    "```"
   ]
  },
  {
   "cell_type": "code",
   "execution_count": 15,
   "metadata": {},
   "outputs": [
    {
     "data": {
      "text/plain": [
       "array([[0, 1, 2, 3, 4],\n",
       "       [5, 6, 7, 8, 9],\n",
       "       [1, 1, 1, 1, 1],\n",
       "       [1, 1, 1, 1, 1]])"
      ]
     },
     "execution_count": 15,
     "metadata": {},
     "output_type": "execute_result"
    }
   ],
   "source": [
    "a = np.array([[0, 1, 2, 3, 4],\n",
    "            [5, 6, 7, 8, 9]])\n",
    "b = np.array([[1, 1, 1, 1, 1],\n",
    "            [1, 1, 1, 1, 1]])\n",
    "np.concatenate([a,b], axis=0)"
   ]
  },
  {
   "cell_type": "markdown",
   "metadata": {},
   "source": [
    "6.- Apilar horizontalmente dos arrays:  \n",
    "```python\n",
    " In: array([[0, 1, 2, 3, 4],\n",
    "            [5, 6, 7, 8, 9]]),\n",
    "     array([[1, 1, 1, 1, 1]\n",
    "            [1, 1, 1, 1, 1]])\n",
    "Out: array([[0, 1, 2, 3, 4, 1, 1, 1, 1, 1],\n",
    "            [5, 6, 7, 8, 9, 1, 1, 1, 1, 1]])\n",
    "```"
   ]
  },
  {
   "cell_type": "code",
   "execution_count": 24,
   "metadata": {},
   "outputs": [
    {
     "name": "stdout",
     "output_type": "stream",
     "text": [
      "[[0 1 2 3 4 1 1 1 1 1]\n",
      " [5 6 7 8 9 1 1 1 1 1]]\n"
     ]
    }
   ],
   "source": [
    "array1 = np.array([[0, 1, 2, 3, 4],\n",
    "            [5, 6, 7, 8, 9]])\n",
    "array2 = np.array([[1, 1, 1, 1, 1],\n",
    "    [1, 1, 1, 1, 1]])\n",
    "#np.concatenate([a,b], axis=1)\n",
    "array3 = np.column_stack((array1,array2))\n",
    "print(array3)\n"
   ]
  },
  {
   "cell_type": "markdown",
   "metadata": {},
   "source": [
    "7.- Crea el siguiente patrón sin codificación. Utilice solo las funciones numpy y la siguiente matriz de entrada: \n",
    "```python\n",
    " In: arr1 = np.array([1,2,3])\n",
    "Out: array([1, 1, 1, 2, 2, 2, 3, 3, 3, 1, 2, 3, 1, 2, 3, 1, 2, 3])\n",
    "```"
   ]
  },
  {
   "cell_type": "code",
   "execution_count": 19,
   "metadata": {},
   "outputs": [
    {
     "data": {
      "text/plain": [
       "array([1, 1, 1, 2, 2, 2, 3, 3, 3, 1, 2, 3, 1, 2, 3, 1, 2, 3])"
      ]
     },
     "execution_count": 19,
     "metadata": {},
     "output_type": "execute_result"
    }
   ],
   "source": [
    "arr1 = np.array([1,2,3])\n",
    "np.r_[np.repeat(arr1, 3), np.tile(arr1, 3)] #r_ afecta a las row\n"
   ]
  },
  {
   "cell_type": "markdown",
   "metadata": {},
   "source": [
    "8.- Obtener las posiciones de los elementos que coinciden en dos arrays:  \n",
    "```python\n",
    " In: array([1,2,3,2,3,4,3,4,5,6]),\n",
    "     array([7,2,10,2,7,4,9,4,9,8])\n",
    "Out: array([1, 3, 5, 7])\n",
    "```"
   ]
  },
  {
   "cell_type": "code",
   "execution_count": 20,
   "metadata": {},
   "outputs": [
    {
     "name": "stdout",
     "output_type": "stream",
     "text": [
      "[2 4]\n"
     ]
    }
   ],
   "source": [
    "a = np.array([1,2,3,2,3,4,3,4,5,6])\n",
    "b = np.array([7,2,10,2,7,4,9,4,9,8])\n"
   ]
  },
  {
   "cell_type": "markdown",
   "metadata": {},
   "source": [
    "9.- Obtener todos los items entre 5 y 10 del siguiente array:  \n",
    "```python\n",
    " In: array([2, 6, 1, 9, 10, 3, 27])\n",
    "Out: array([6, 9, 10]) \n",
    "```"
   ]
  },
  {
   "cell_type": "code",
   "execution_count": 43,
   "metadata": {},
   "outputs": [
    {
     "name": "stdout",
     "output_type": "stream",
     "text": [
      "[ 6  9 10]\n"
     ]
    }
   ],
   "source": [
    "array = np.array([2, 6, 1, 9, 10, 3, 27])\n",
    "index_array2 = np.where((array >= 5) & (array <= 10)) #Devuelve las posiciones\n",
    "print(array[index_array2])"
   ]
  },
  {
   "cell_type": "markdown",
   "metadata": {},
   "source": [
    "10.- Intercambia dos columnas de un array (columnas 0 y 1):  \n",
    "```python\n",
    " In: array([[0, 1, 2],\n",
    "            [3, 4, 5],\n",
    "            [6, 7, 8]])\n",
    "Out: array([[1, 0, 2],\n",
    "            [4, 3, 5],\n",
    "            [7, 6, 8]])\n",
    "```"
   ]
  },
  {
   "cell_type": "code",
   "execution_count": 21,
   "metadata": {},
   "outputs": [
    {
     "data": {
      "text/plain": [
       "array([[1, 0, 2],\n",
       "       [4, 3, 5],\n",
       "       [7, 6, 8]])"
      ]
     },
     "execution_count": 21,
     "metadata": {},
     "output_type": "execute_result"
    }
   ],
   "source": [
    "arr1 = np.arange(9).reshape(3,3)\n",
    "arr1[:,[1,0,2]]\n",
    "arr1.take([1,0,2], axis=1)"
   ]
  },
  {
   "cell_type": "markdown",
   "metadata": {},
   "source": [
    "11.- Intercambia dos filas de un array (filas 0 y 1):  \n",
    "```python\n",
    " In: array([[0, 1, 2],\n",
    "            [3, 4, 5],\n",
    "            [6, 7, 8]])\n",
    "Out: array([[3, 4, 5],\n",
    "            [0, 1, 2],\n",
    "            [6, 7, 8]])\n",
    "```"
   ]
  },
  {
   "cell_type": "code",
   "execution_count": 22,
   "metadata": {},
   "outputs": [
    {
     "data": {
      "text/plain": [
       "array([[3, 4, 5],\n",
       "       [0, 1, 2],\n",
       "       [6, 7, 8]])"
      ]
     },
     "execution_count": 22,
     "metadata": {},
     "output_type": "execute_result"
    }
   ],
   "source": [
    "arr1 = np.arange(9).reshape(3,3)\n",
    "arr1[:,[1,0,2]]\n",
    "arr1.take([1,0,2], axis=0)"
   ]
  },
  {
   "cell_type": "markdown",
   "metadata": {},
   "source": [
    "12.- Invierte todas las filas de un array 2D:  \n",
    "```python\n",
    " In: array([[0, 1, 2],\n",
    "            [3, 4, 5],\n",
    "            [6, 7, 8]])\n",
    "Out: array([[2, 1, 0],\n",
    "            [5, 4, 3],\n",
    "            [8, 7, 6]])\n",
    "```"
   ]
  },
  {
   "cell_type": "code",
   "execution_count": 45,
   "metadata": {},
   "outputs": [
    {
     "name": "stdout",
     "output_type": "stream",
     "text": [
      "[[2 1 0]\n",
      " [5 4 3]\n",
      " [8 7 6]]\n"
     ]
    }
   ],
   "source": [
    "array = np.array([[0, 1, 2],\n",
    "[3, 4, 5],\n",
    "[6, 7, 8]])\n",
    "array2 = np.flip(array, axis=1) #array[::-1]\n",
    "print(array2)"
   ]
  },
  {
   "cell_type": "markdown",
   "metadata": {},
   "source": [
    "13.- Invierte todas las columnas de un array 2D:  \n",
    "```python\n",
    " In: array([[0, 1, 2],\n",
    "            [3, 4, 5],\n",
    "            [6, 7, 8]])\n",
    "Out: array([[2, 1, 0],\n",
    "            [5, 4, 3],\n",
    "            [8, 7, 6]])\n",
    "```"
   ]
  },
  {
   "cell_type": "code",
   "execution_count": 48,
   "metadata": {},
   "outputs": [
    {
     "name": "stdout",
     "output_type": "stream",
     "text": [
      "[[6 7 8]\n",
      " [3 4 5]\n",
      " [0 1 2]]\n"
     ]
    }
   ],
   "source": [
    "array = np.array([[0, 1, 2],\n",
    "[3, 4, 5],\n",
    "[6, 7, 8]])\n",
    "array2 = np.flip(array, axis=0) #array[:,::-1]\n",
    "print(array2)"
   ]
  },
  {
   "cell_type": "markdown",
   "metadata": {},
   "source": [
    "14.- Crear un array 2D con *shape* 5x3 que contenga números decimales aleatorios entre 5 y 10:  \n",
    "```python\n",
    "Out: [[ 8.50061025  9.10531502  6.85867783]\n",
    "      [ 9.76262069  9.87717411  7.13466701]\n",
    "      [ 7.48966403  8.33409158  6.16808631]\n",
    "      [ 7.75010551  9.94535696  5.27373226]\n",
    "      [ 8.0850361   5.56165518  7.31244004]]\n",
    "```"
   ]
  },
  {
   "cell_type": "code",
   "execution_count": 60,
   "metadata": {},
   "outputs": [
    {
     "name": "stdout",
     "output_type": "stream",
     "text": [
      "[[6.3530177  6.69384286 6.04183459]\n",
      " [5.20947431 7.37566146 8.65256848]\n",
      " [9.58233702 8.21205913 5.68989967]\n",
      " [8.22992433 7.9789167  7.08005734]\n",
      " [5.40901533 9.39848508 5.58471468]]\n"
     ]
    }
   ],
   "source": [
    "array = np.random.uniform(5,10, size=(5,3))\n",
    "print(array)"
   ]
  },
  {
   "cell_type": "markdown",
   "metadata": {},
   "source": [
    "15.- indicar el número de elementos nulos, igual a `np.nan`, y su posición:  \n",
    "```python\n",
    " In: array([np.nan,  1,  2,  3, np.nan,  4,  5, np.nan,  7,  8,  9, np.nan])\n",
    "Out: Hay 4 valores nulos en las posiciones [0, 4, 7, 11]\n",
    "```"
   ]
  },
  {
   "cell_type": "code",
   "execution_count": 30,
   "metadata": {},
   "outputs": [
    {
     "name": "stdout",
     "output_type": "stream",
     "text": [
      "4 (array([ 0,  4,  7, 11], dtype=int64),)\n"
     ]
    }
   ],
   "source": [
    "nulos = np.array([np.nan,  1,  2,  3, np.nan,  4,  5, np.nan,  7,  8,  9, np.nan])\n",
    "nan = np.isnan(nulos).sum()\n",
    "posiciones = np.where(np.isnan(nulos))\n",
    "print(nan, posiciones)"
   ]
  },
  {
   "cell_type": "markdown",
   "metadata": {},
   "source": [
    "16.- Escribir un código que devuelva los valores únicos de un array y su número de apariciones:  \n",
    "```python\n",
    " In: array([1, 1, 2, 3, 3, 4, 5, 5, 7, 8, 9, 9])\n",
    "Out: (array([1, 2, 3, 4, 5, 7, 8, 9]), array([2, 1, 2, 1, 2, 1, 1, 2]))\n",
    "```"
   ]
  },
  {
   "cell_type": "code",
   "execution_count": 32,
   "metadata": {},
   "outputs": [
    {
     "data": {
      "text/plain": [
       "(array([1, 2, 3, 4, 5, 7, 8, 9]), array([2, 1, 2, 1, 2, 1, 1, 2], dtype=int64))"
      ]
     },
     "execution_count": 32,
     "metadata": {},
     "output_type": "execute_result"
    }
   ],
   "source": [
    "array = np.array([1, 1, 2, 3, 3, 4, 5, 5, 7, 8, 9, 9])\n",
    "np.unique(array, return_counts=True)"
   ]
  },
  {
   "cell_type": "markdown",
   "metadata": {},
   "source": [
    "17.- Crear una matriz de 5x5 como la siguiente:  \n",
    "```python\n",
    "Out: [[1. 1. 1. 1. 1.]\n",
    "      [1. 0. 0. 0. 1.]\n",
    "      [1. 0. 0. 0. 1.]\n",
    "      [1. 0. 0. 0. 1.]\n",
    "      [1. 1. 1. 1. 1.]]\n",
    "```"
   ]
  },
  {
   "cell_type": "code",
   "execution_count": 51,
   "metadata": {},
   "outputs": [
    {
     "data": {
      "text/plain": [
       "array([[1., 1., 1., 1., 1.],\n",
       "       [1., 0., 0., 0., 1.],\n",
       "       [1., 0., 0., 0., 1.],\n",
       "       [1., 0., 0., 0., 1.],\n",
       "       [1., 1., 1., 1., 1.]])"
      ]
     },
     "execution_count": 51,
     "metadata": {},
     "output_type": "execute_result"
    }
   ],
   "source": [
    "arr1 = np.zeros((5,5))\n",
    "arr1[[0,-1],:] = 1\n",
    "arr1[:, [0,-1]] = 1\n",
    "arr1"
   ]
  },
  {
   "cell_type": "code",
   "execution_count": 38,
   "metadata": {},
   "outputs": [
    {
     "data": {
      "text/plain": [
       "array([[1., 1., 1., 1., 1.],\n",
       "       [1., 0., 0., 0., 1.],\n",
       "       [1., 0., 0., 0., 1.],\n",
       "       [1., 0., 0., 0., 1.],\n",
       "       [1., 1., 1., 1., 1.]])"
      ]
     },
     "execution_count": 38,
     "metadata": {},
     "output_type": "execute_result"
    }
   ],
   "source": [
    "arr1 = np.ones((5,5))\n",
    "arr1[1:-1, 1:-1] = 0\n",
    "arr1"
   ]
  },
  {
   "cell_type": "markdown",
   "metadata": {},
   "source": [
    "18.- Crear una matriz de 5x5 como la siguiente:  \n",
    "```python\n",
    "Out: [[1 0 0 0 0]\n",
    "      [0 2 0 0 0]\n",
    "      [0 0 3 0 0]\n",
    "      [0 0 0 4 0]\n",
    "      [0 0 0 0 5]]\n",
    "```"
   ]
  },
  {
   "cell_type": "code",
   "execution_count": 55,
   "metadata": {},
   "outputs": [
    {
     "ename": "IndexError",
     "evalue": "index 5 is out of bounds for axis 0 with size 5",
     "output_type": "error",
     "traceback": [
      "\u001b[1;31m---------------------------------------------------------------------------\u001b[0m",
      "\u001b[1;31mIndexError\u001b[0m                                Traceback (most recent call last)",
      "\u001b[1;32m<ipython-input-55-275513088630>\u001b[0m in \u001b[0;36m<module>\u001b[1;34m\u001b[0m\n\u001b[0;32m      1\u001b[0m \u001b[0marr1\u001b[0m \u001b[1;33m=\u001b[0m \u001b[0mnp\u001b[0m\u001b[1;33m.\u001b[0m\u001b[0mzeros\u001b[0m\u001b[1;33m(\u001b[0m\u001b[1;33m(\u001b[0m\u001b[1;36m5\u001b[0m\u001b[1;33m,\u001b[0m\u001b[1;36m5\u001b[0m\u001b[1;33m)\u001b[0m\u001b[1;33m)\u001b[0m\u001b[1;33m\u001b[0m\u001b[1;33m\u001b[0m\u001b[0m\n\u001b[0;32m      2\u001b[0m \u001b[0mnp\u001b[0m\u001b[1;33m.\u001b[0m\u001b[0mdiag\u001b[0m\u001b[1;33m(\u001b[0m\u001b[0mrange\u001b[0m\u001b[1;33m(\u001b[0m\u001b[1;36m1\u001b[0m\u001b[1;33m,\u001b[0m\u001b[1;36m6\u001b[0m\u001b[1;33m)\u001b[0m\u001b[1;33m)\u001b[0m\u001b[1;33m\u001b[0m\u001b[1;33m\u001b[0m\u001b[0m\n\u001b[1;32m----> 3\u001b[1;33m \u001b[0marr1\u001b[0m\u001b[1;33m[\u001b[0m\u001b[0mnp\u001b[0m\u001b[1;33m.\u001b[0m\u001b[0mdiag\u001b[0m\u001b[1;33m(\u001b[0m\u001b[0mrange\u001b[0m\u001b[1;33m(\u001b[0m\u001b[1;36m1\u001b[0m\u001b[1;33m,\u001b[0m\u001b[1;36m6\u001b[0m\u001b[1;33m)\u001b[0m\u001b[1;33m)\u001b[0m\u001b[1;33m]\u001b[0m\u001b[1;33m\u001b[0m\u001b[1;33m\u001b[0m\u001b[0m\n\u001b[0m",
      "\u001b[1;31mIndexError\u001b[0m: index 5 is out of bounds for axis 0 with size 5"
     ]
    }
   ],
   "source": [
    "arr1 = np.zeros((5,5))\n",
    "np.diag(range(1,6))\n",
    "arr1"
   ]
  },
  {
   "cell_type": "markdown",
   "metadata": {},
   "source": [
    "19.- Crear una matriz de 4x4 como la siguiente:  \n",
    "```python\n",
    "Out: [[0. 1. 0. 1.]\n",
    "      [1. 0. 1. 0.]\n",
    "      [0. 1. 0. 1.]\n",
    "      [1. 0. 1. 0.]]\n",
    "```"
   ]
  },
  {
   "cell_type": "code",
   "execution_count": 58,
   "metadata": {},
   "outputs": [
    {
     "data": {
      "text/plain": [
       "array([[0., 1., 0., 1.],\n",
       "       [1., 0., 1., 0.],\n",
       "       [0., 1., 0., 1.],\n",
       "       [1., 0., 1., 0.]])"
      ]
     },
     "execution_count": 58,
     "metadata": {},
     "output_type": "execute_result"
    }
   ],
   "source": [
    "arr1 = np.zeros((4,4))\n",
    "arr1[::2,1::2] = 1\n",
    "arr1[1::2,::2] = 1\n",
    "arr1"
   ]
  },
  {
   "cell_type": "markdown",
   "metadata": {},
   "source": [
    "20.- Proporcionar la suma de todos los valores de una matriz y de sus filas y columnas:\n",
    "```python\n",
    " In: array([[0,1],[2,3]])\n",
    "Out: Suma total 6, por filas [2, 4] por columnas [1, 5]\n",
    "```"
   ]
  },
  {
   "cell_type": "code",
   "execution_count": null,
   "metadata": {
    "scrolled": true
   },
   "outputs": [],
   "source": []
  },
  {
   "cell_type": "markdown",
   "metadata": {},
   "source": [
    "21.- Crear un programa que dada una matriz añada un borde de 0's rodeándola: \n",
    "```python\n",
    " In: array([[ 1.  2.  3.]                                                          \n",
    "            [ 4.  5.  6.]                                                          \n",
    "            [ 7.  8.  9.]])\n",
    "Out: array([[ 0.  0.  0.  0.  0.]                                                  \n",
    "            [ 0.  1.  2.  3.  0.]                                                  \n",
    "            [ 0.  4.  5.  6.  0.]                                                  \n",
    "            [ 0.  7.  8.  9.  0.]                                                  \n",
    "            [ 0.  0.  0.  0.  0.]])\n",
    "```"
   ]
  },
  {
   "cell_type": "code",
   "execution_count": null,
   "metadata": {
    "scrolled": true
   },
   "outputs": [],
   "source": []
  },
  {
   "cell_type": "markdown",
   "metadata": {},
   "source": [
    "22.- Crear una matriz de 3x5 rellena de '2': \n",
    "```python\n",
    "Out: array([[2 2 2 2 2]\n",
    "            [2 2 2 2 2]\n",
    "            [2 2 2 2 2]])\n",
    "```"
   ]
  },
  {
   "cell_type": "code",
   "execution_count": null,
   "metadata": {
    "scrolled": true
   },
   "outputs": [],
   "source": []
  },
  {
   "cell_type": "markdown",
   "metadata": {},
   "source": [
    "23.- Crear una matriz igual que una dada pero rellena de otro valor: \n",
    "```python\n",
    " In: array([0, 1, 2, 3])\n",
    "Out: array([10, 10, 10, 10])\n",
    "```"
   ]
  },
  {
   "cell_type": "code",
   "execution_count": null,
   "metadata": {
    "scrolled": true
   },
   "outputs": [],
   "source": []
  },
  {
   "cell_type": "markdown",
   "metadata": {},
   "source": [
    "24.- Crear una matriz de 8x8 con el siguiente contenido:\n",
    "```python\n",
    "Out: [[ 0  1  0  2  0  3  0  4]\n",
    "      [16  0 15  0 14  0 13  0]\n",
    "      [ 0  5  0  6  0  7  0  8]\n",
    "      [12  0 11  0 10  0  9  0]\n",
    "      [ 0  9  0 10  0 11  0 12]\n",
    "      [ 8  0  7  0  6  0  5  0]\n",
    "      [ 0 13  0 14  0 15  0 16]\n",
    "      [ 4  0  3  0  2  0  1  0]]\n",
    "```"
   ]
  },
  {
   "cell_type": "code",
   "execution_count": 71,
   "metadata": {},
   "outputs": [
    {
     "data": {
      "text/plain": [
       "array([[ 0.,  1.,  0.,  2.,  0.,  3.,  0.,  4.],\n",
       "       [16.,  0., 15.,  0., 14.,  0., 13.,  0.],\n",
       "       [ 0.,  5.,  0.,  6.,  0.,  7.,  0.,  8.],\n",
       "       [12.,  0., 11.,  0., 10.,  0.,  9.,  0.],\n",
       "       [ 0.,  9.,  0., 10.,  0., 11.,  0., 12.],\n",
       "       [ 8.,  0.,  7.,  0.,  6.,  0.,  5.,  0.],\n",
       "       [ 0., 13.,  0., 14.,  0., 15.,  0., 16.],\n",
       "       [ 4.,  0.,  3.,  0.,  2.,  0.,  1.,  0.]])"
      ]
     },
     "execution_count": 71,
     "metadata": {},
     "output_type": "execute_result"
    }
   ],
   "source": [
    "arr1 = np.zeros((8,8))\n",
    "arra2 = np.arange(16,0,-1).reshape(4,4)\n",
    "arr1[::2,1::2] = np.arange(1,17).reshape(4,4)\n",
    "arr1[1::2,::2] = arra2 #filas impares por columnas pares\n",
    "arr1"
   ]
  },
  {
   "cell_type": "markdown",
   "metadata": {},
   "source": [
    "25.- Indicar el numero de bytes de ocupación en memoria de la matriz anterior:\n",
    "```python\n",
    " In: [[0 1 0 1 0 1 0 1]                                                      \n",
    "      [1 0 1 0 1 0 1 0]                                                      \n",
    "      [0 1 0 1 0 1 0 1]                                                      \n",
    "      [1 0 1 0 1 0 1 0]                                                      \n",
    "      [0 1 0 1 0 1 0 1]                                                      \n",
    "      [1 0 1 0 1 0 1 0]                                                      \n",
    "      [0 1 0 1 0 1 0 1]                                                      \n",
    "      [1 0 1 0 1 0 1 0]]\n",
    "Out: 512 bytes\n",
    "```"
   ]
  },
  {
   "cell_type": "code",
   "execution_count": 72,
   "metadata": {
    "scrolled": true
   },
   "outputs": [
    {
     "data": {
      "text/plain": [
       "512"
      ]
     },
     "execution_count": 72,
     "metadata": {},
     "output_type": "execute_result"
    }
   ],
   "source": [
    "arr1.nbytes"
   ]
  },
  {
   "cell_type": "markdown",
   "metadata": {},
   "source": [
    "26.- Crear una matriz de 6x5 con 30 números comprendidos entre 2.5. y 6.5, inclusive.\n",
    "```python\n",
    "Out: [[2.5       , 2.63793103, 2.77586207, 2.9137931 , 3.05172414],\n",
    "      [3.18965517, 3.32758621, 3.46551724, 3.60344828, 3.74137931],\n",
    "      [3.87931034, 4.01724138, 4.15517241, 4.29310345, 4.43103448],\n",
    "      [4.56896552, 4.70689655, 4.84482759, 4.98275862, 5.12068966],\n",
    "      [5.25862069, 5.39655172, 5.53448276, 5.67241379, 5.81034483],\n",
    "      [5.94827586, 6.0862069 , 6.22413793, 6.36206897, 6.5       ]]\n",
    "```"
   ]
  },
  {
   "cell_type": "code",
   "execution_count": 75,
   "metadata": {},
   "outputs": [
    {
     "data": {
      "text/plain": [
       "array([[2.5       , 2.63793103, 2.77586207, 2.9137931 , 3.05172414],\n",
       "       [3.18965517, 3.32758621, 3.46551724, 3.60344828, 3.74137931],\n",
       "       [3.87931034, 4.01724138, 4.15517241, 4.29310345, 4.43103448],\n",
       "       [4.56896552, 4.70689655, 4.84482759, 4.98275862, 5.12068966],\n",
       "       [5.25862069, 5.39655172, 5.53448276, 5.67241379, 5.81034483],\n",
       "       [5.94827586, 6.0862069 , 6.22413793, 6.36206897, 6.5       ]])"
      ]
     },
     "execution_count": 75,
     "metadata": {},
     "output_type": "execute_result"
    }
   ],
   "source": [
    "np.linspace(2.5, 6.5, 30).reshape(6,5)"
   ]
  },
  {
   "cell_type": "markdown",
   "metadata": {},
   "source": [
    "27.- Obtener el cuarto elemento de la siguiente matriz:\n",
    "```python\n",
    " In: array([[ 2, 4, 6],\n",
    "            [ 6, 8, 10]])\n",
    "Out: 6\n",
    "```"
   ]
  },
  {
   "cell_type": "code",
   "execution_count": null,
   "metadata": {
    "scrolled": true
   },
   "outputs": [],
   "source": []
  },
  {
   "cell_type": "markdown",
   "metadata": {},
   "source": [
    "28.- Cambiar la siguiente matriz según el patrón inidcado:\n",
    "```python\n",
    " In: array([[1,2,3]])\n",
    "Out: array([[1],\n",
    "            [2],\n",
    "            [3]])\n",
    "```"
   ]
  },
  {
   "cell_type": "code",
   "execution_count": 77,
   "metadata": {},
   "outputs": [
    {
     "data": {
      "text/plain": [
       "array([[1],\n",
       "       [2],\n",
       "       [3]])"
      ]
     },
     "execution_count": 77,
     "metadata": {},
     "output_type": "execute_result"
    }
   ],
   "source": [
    "arr1 = np.array([[1,2,3]])\n",
    "arr1.transpose()"
   ]
  },
  {
   "cell_type": "markdown",
   "metadata": {},
   "source": [
    "29.- Obtener la suma de los números múltiplos de 3 o de 5 contenidos entre el 1 y el 100:\n",
    "```python\n",
    "Out: 2318\n",
    "```"
   ]
  },
  {
   "cell_type": "code",
   "execution_count": null,
   "metadata": {},
   "outputs": [],
   "source": []
  },
  {
   "cell_type": "markdown",
   "metadata": {},
   "source": [
    "30.- Crear una función que eleve al cuadrado y sume uno a todos los elementos de cualquier matrix:\n",
    "```python\n",
    " In: array([1, 4, 9])\n",
    "Out: array([ 2,  3, 4])\n",
    "```"
   ]
  },
  {
   "cell_type": "code",
   "execution_count": null,
   "metadata": {},
   "outputs": [],
   "source": []
  },
  {
   "cell_type": "markdown",
   "metadata": {},
   "source": [
    "31.a - Importar el dataset `iris` (../data/iris.data) sin proporcionar un tipo por defecto y mostrar las 3 primeras filas recuperadas:\n",
    "```python\n",
    "Out: array([[5.1, 3.5, 1.4, 0.2, nan],\n",
    "            [4.9, 3. , 1.4, 0.2, nan],\n",
    "            [4.7, 3.2, 1.3, 0.2, nan]])\n",
    "```"
   ]
  },
  {
   "cell_type": "code",
   "execution_count": null,
   "metadata": {},
   "outputs": [],
   "source": []
  },
  {
   "cell_type": "markdown",
   "metadata": {},
   "source": [
    "31.b - Importar el dataset `iris_2d` (../data/iris.data) manteniendo intactos los valores de tipo texto (**dtype**=`object`) y mostrar las 3 primeras filas recuperadas:\n",
    "```python\n",
    "Out: array([[b'5.1', b'3.5', b'1.4', b'0.2', b'Iris-setosa'],\n",
    "            [b'4.9', b'3.0', b'1.4', b'0.2', b'Iris-setosa'],\n",
    "            [b'4.7', b'3.2', b'1.3', b'0.2', b'Iris-setosa']])\n",
    "```"
   ]
  },
  {
   "cell_type": "code",
   "execution_count": null,
   "metadata": {},
   "outputs": [],
   "source": []
  },
  {
   "cell_type": "markdown",
   "metadata": {},
   "source": [
    "31.c - Importar el dataset `iris_1d` (../data/iris.data) manteniendo intactos los valores de tipo texto (**dtype**=`None`) y mostrar las 3 primeras filas recuperadas:\n",
    "```python\n",
    "Out: array([(5.1, 3.5, 1.4, 0.2, 'Iris-setosa'),\n",
    "            (4.9, 3. , 1.4, 0.2, 'Iris-setosa'),\n",
    "            (4.7, 3.2, 1.3, 0.2, 'Iris-setosa')])\n",
    "```"
   ]
  },
  {
   "cell_type": "code",
   "execution_count": null,
   "metadata": {},
   "outputs": [],
   "source": []
  },
  {
   "cell_type": "markdown",
   "metadata": {},
   "source": [
    "32.- Recuperar los valores diferentes de columna de texto `species` para los dataset `iris_1d` e `iris_2d` obtenidos en el paso anterior:\n",
    "```python\n",
    "Out: ['Iris-setosa', 'Iris-versicolor', 'Iris-virginica']\n",
    "```"
   ]
  },
  {
   "cell_type": "code",
   "execution_count": null,
   "metadata": {},
   "outputs": [],
   "source": []
  },
  {
   "cell_type": "code",
   "execution_count": null,
   "metadata": {},
   "outputs": [],
   "source": []
  },
  {
   "cell_type": "markdown",
   "metadata": {},
   "source": [
    "33.- Recuperar los valores diferentes de columna de texto `species` de los dataset `iris_1d` e `iris_2d` obtenidos en el paso anterior y su número de apariciones:\n",
    "```python\n",
    "Out: (array([b'Iris-setosa', b'Iris-versicolor', b'Iris-virginica'], dtype='|S15'),     \n",
    "      array([50, 50, 50]))\n",
    "```"
   ]
  },
  {
   "cell_type": "code",
   "execution_count": null,
   "metadata": {},
   "outputs": [],
   "source": []
  },
  {
   "cell_type": "code",
   "execution_count": null,
   "metadata": {},
   "outputs": [],
   "source": []
  },
  {
   "cell_type": "markdown",
   "metadata": {},
   "source": [
    "34.- Obtener la media, la mediana y la desviación estándar de la columna `sepallength` de los dataset `iris_1d` e `iris_2d`.\n",
    "```python\n",
    "Out: 5.843333333333334 5.8 0.8253012917851409\n",
    "```"
   ]
  },
  {
   "cell_type": "code",
   "execution_count": null,
   "metadata": {},
   "outputs": [],
   "source": []
  },
  {
   "cell_type": "code",
   "execution_count": null,
   "metadata": {},
   "outputs": [],
   "source": []
  },
  {
   "cell_type": "markdown",
   "metadata": {},
   "source": [
    "35.- Crear una versión normalizada del campo `sepallength` de los dataset `iris_1d` e `iris_2d` cuyos valores estén entre 0 y 1, de modo que el valor mínimo sea 0 y el máximo 1.\n",
    "```python\n",
    "Out: array([0.22222222, 0.16666667, 0.11111111, ..., 0.61111111, 0.52777778, 0.44444444])\n",
    "```"
   ]
  },
  {
   "cell_type": "code",
   "execution_count": null,
   "metadata": {},
   "outputs": [],
   "source": []
  },
  {
   "cell_type": "code",
   "execution_count": null,
   "metadata": {},
   "outputs": [],
   "source": []
  },
  {
   "cell_type": "markdown",
   "metadata": {},
   "source": [
    "36.- Convertir el array 1D `iris_1d` en un array 2D (`iris_2d`) omitiendo el campo `species`.\n",
    "```python\n",
    "Out: array([[5.1, 3.5, 1.4, 0.2],\n",
    "            [4.9, 3. , 1.4, 0.2],\n",
    "            [4.7, 3.2, 1.3, 0.2],\n",
    "            ...,\n",
    "            [6.5, 3. , 5.2, 2. ],\n",
    "            [6.2, 3.4, 5.4, 2.3],\n",
    "            [5.9, 3. , 5.1, 1.8]])\n",
    "```"
   ]
  },
  {
   "cell_type": "code",
   "execution_count": null,
   "metadata": {},
   "outputs": [],
   "source": []
  },
  {
   "cell_type": "markdown",
   "metadata": {},
   "source": [
    "37.- Insertar el valor `np.nan` en el primer y último elemento del array `iris_2d` y en 18 posiciones aleatorias adicionales. \n",
    "```python\n",
    "Out: array([[nan, 3.5, 1.4, 0.2],\n",
    "            [4.9, nan, 1.4, 0.2],\n",
    "            [4.7, 3.2, 1.3, 0.2],\n",
    "            ...,\n",
    "            [6.5, 3. , 5.2, 2. ],\n",
    "            [6.2, 3.4, 5.4, 2.3],\n",
    "            [5.9, 3. , 5.1, nan]])\n",
    "```"
   ]
  },
  {
   "cell_type": "code",
   "execution_count": null,
   "metadata": {
    "scrolled": false
   },
   "outputs": [],
   "source": []
  },
  {
   "cell_type": "markdown",
   "metadata": {},
   "source": [
    "38.- Obtener todas las filas del array `iris_2db` que tengan algún valor `np.nan`.\n",
    "```python\n",
    "Out: array([[nan, 3.5, 1.4, 0.2],\n",
    "            [4.9, nan, 1.4, 0.2],\n",
    "            [nan, nan, 1.4, 0.2],\n",
    "            ...,\n",
    "            [nan, 3.2, 5.9, nan],\n",
    "            [6.7, 3.3, 5.7, nan],\n",
    "            [5.9, 3. , 5.1, nan]])\n",
    "```"
   ]
  },
  {
   "cell_type": "code",
   "execution_count": null,
   "metadata": {
    "scrolled": true
   },
   "outputs": [],
   "source": []
  },
  {
   "cell_type": "markdown",
   "metadata": {},
   "source": [
    "39.- Encontrar el número y la posición de los elementos `np.nan` de la columna `sepallength` del array `iris_2d`. \n",
    "```python\n",
    "Out: número de posiciones 'nan': 10\n",
    "     posiciones de los valores 'nan': [  0   8  14 ...  98 107 143]\n",
    "```"
   ]
  },
  {
   "cell_type": "code",
   "execution_count": null,
   "metadata": {},
   "outputs": [],
   "source": []
  },
  {
   "cell_type": "markdown",
   "metadata": {},
   "source": [
    "40.- Filtrar las columas del array `iris_2d` cuyo valor de la columna `petallength` sea mayor que 1.5 y cuyo valor de `sepallength` sea menor de 5.0. \n",
    "```python\n",
    "Out: array([[4.8, 3.4, 1.6, 0.2],\n",
    "            [4.7, 3.2, 1.6, 0.2],\n",
    "            [4.8, 3.1, 1.6, 0.2],\n",
    "            [4.9, 2.4, 3.3, 1. ],\n",
    "            [4.9, 2.5, 4.5, 1.7]])\n",
    "```"
   ]
  },
  {
   "cell_type": "code",
   "execution_count": null,
   "metadata": {},
   "outputs": [],
   "source": []
  },
  {
   "cell_type": "markdown",
   "metadata": {},
   "source": [
    "41.- Reemplaza todos los valores `np.nan` del array `iris_2d` con el valor 0.\n",
    "```python\n",
    "Out: array([[0. , 3.5, 1.4, 0.2],\n",
    "            [4.9, 0. , 1.4, 0.2],\n",
    "            [4.7, 3.2, 1.3, 0.2],\n",
    "            ...,\n",
    "            [6.5, 3. , 5.2, 2. ],\n",
    "            [6.2, 3.4, 5.4, 2.3],\n",
    "            [5.9, 3. , 5.1, 0. ]])\n",
    "```"
   ]
  },
  {
   "cell_type": "code",
   "execution_count": null,
   "metadata": {},
   "outputs": [],
   "source": []
  },
  {
   "cell_type": "markdown",
   "metadata": {},
   "source": [
    "42.- Comprueba que el array `iris_2d` no tiene valores `np.nan`.\n",
    "```python\n",
    "Out: False\n",
    "```"
   ]
  },
  {
   "cell_type": "code",
   "execution_count": null,
   "metadata": {},
   "outputs": [],
   "source": []
  },
  {
   "cell_type": "markdown",
   "metadata": {},
   "source": [
    "43.- Crear una nueva columna en `iris_2d` cuyo valor sea la multiplicación de las columnas `petallength` y `sepallength`.\n",
    "```python\n",
    "Out: array([[ 0.  ,  3.5 ,  1.4 ,  0.2 ,  0.  ],\n",
    "            [ 4.9 ,  3.  ,  1.4 ,  0.2 ,  6.86],\n",
    "            [ 4.7 ,  3.2 ,  1.3 ,  0.2 ,  6.11],\n",
    "            ...,\n",
    "            [ 6.5 ,  3.  ,  5.2 ,  2.  , 33.8 ],\n",
    "            [ 6.2 ,  3.4 ,  5.4 ,  2.3 , 33.48],\n",
    "            [ 5.9 ,  3.  ,  5.1 ,  1.8 , 30.09]])\n",
    "```"
   ]
  },
  {
   "cell_type": "code",
   "execution_count": null,
   "metadata": {},
   "outputs": [],
   "source": []
  },
  {
   "cell_type": "markdown",
   "metadata": {},
   "source": [
    "44.- Encontrar el segundo valor más grande de la columna `petallength` para la especie `Iris-setosa`.\n",
    "```python\n",
    "Out: 1.7\n",
    "```"
   ]
  },
  {
   "cell_type": "code",
   "execution_count": null,
   "metadata": {},
   "outputs": [],
   "source": []
  },
  {
   "cell_type": "markdown",
   "metadata": {},
   "source": [
    "45.- Calcular los percentiles 5 y 95 del campo `sepallength` del dataset `iris`.\n",
    "```python\n",
    "Out: array([0. , 7.2])\n",
    "```"
   ]
  },
  {
   "cell_type": "code",
   "execution_count": null,
   "metadata": {},
   "outputs": [],
   "source": []
  },
  {
   "cell_type": "markdown",
   "metadata": {},
   "source": [
    "---\n",
    "<div style=\"text-align:center\">\n",
    "    [<a href=\"../numpy.ipynb\">Numpy</a>]\n",
    "    [Ejercicios]\n",
    "</div>"
   ]
  }
 ],
 "metadata": {
  "kernelspec": {
   "display_name": "Python 3",
   "language": "python",
   "name": "python3"
  },
  "language_info": {
   "codemirror_mode": {
    "name": "ipython",
    "version": 3
   },
   "file_extension": ".py",
   "mimetype": "text/x-python",
   "name": "python",
   "nbconvert_exporter": "python",
   "pygments_lexer": "ipython3",
   "version": "3.8.8"
  }
 },
 "nbformat": 4,
 "nbformat_minor": 2
}
