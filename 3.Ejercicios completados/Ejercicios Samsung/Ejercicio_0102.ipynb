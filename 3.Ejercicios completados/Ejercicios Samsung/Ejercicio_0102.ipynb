{
 "cells": [
  {
   "cell_type": "markdown",
   "id": "8120ada7",
   "metadata": {},
   "source": [
    "## Ejercicio de codificación #0102"
   ]
  },
  {
   "cell_type": "markdown",
   "id": "91d0423d",
   "metadata": {},
   "source": [
    "### 1.Numeros:\n",
    "\n",
    "#### 1.1 Operaciones con números:"
   ]
  },
  {
   "cell_type": "code",
   "execution_count": 1,
   "id": "0291400c",
   "metadata": {},
   "outputs": [
    {
     "data": {
      "text/plain": [
       "2"
      ]
     },
     "execution_count": 1,
     "metadata": {},
     "output_type": "execute_result"
    }
   ],
   "source": [
    "1+1"
   ]
  },
  {
   "cell_type": "code",
   "execution_count": 2,
   "id": "a2b3fd20",
   "metadata": {},
   "outputs": [
    {
     "data": {
      "text/plain": [
       "8"
      ]
     },
     "execution_count": 2,
     "metadata": {},
     "output_type": "execute_result"
    }
   ],
   "source": [
    "2**3 #Es en realidad 2^3"
   ]
  },
  {
   "cell_type": "code",
   "execution_count": 3,
   "id": "92fe4ab6",
   "metadata": {},
   "outputs": [
    {
     "data": {
      "text/plain": [
       "3"
      ]
     },
     "execution_count": 3,
     "metadata": {},
     "output_type": "execute_result"
    }
   ],
   "source": [
    "8%5 #Saca el resto de la division 8/5"
   ]
  },
  {
   "cell_type": "code",
   "execution_count": 4,
   "id": "a5a4bb3a",
   "metadata": {},
   "outputs": [
    {
     "data": {
      "text/plain": [
       "1.0"
      ]
     },
     "execution_count": 4,
     "metadata": {},
     "output_type": "execute_result"
    }
   ],
   "source": [
    "8.0//5.0 #Realiza una división entera"
   ]
  },
  {
   "cell_type": "markdown",
   "id": "82eb2633",
   "metadata": {},
   "source": [
    "### 2. String:\n",
    "\n",
    "#### 2.1 Básicos:"
   ]
  },
  {
   "cell_type": "code",
   "execution_count": 5,
   "id": "33e44212",
   "metadata": {},
   "outputs": [
    {
     "name": "stdout",
     "output_type": "stream",
     "text": [
      "El dijo 'Python es muy fácil'\n",
      "El dijo \"Python es muy fácil\"\n"
     ]
    }
   ],
   "source": [
    "#Comillas dentro de comillas.\n",
    "print(\"El dijo 'Python es muy fácil'\")\n",
    "print('El dijo \"Python es muy fácil\"')"
   ]
  },
  {
   "cell_type": "code",
   "execution_count": 6,
   "id": "892bf449",
   "metadata": {},
   "outputs": [
    {
     "name": "stdout",
     "output_type": "stream",
     "text": [
      "Hola\n",
      "mi\n",
      "nombre\n",
      "es\n",
      "python\n"
     ]
    }
   ],
   "source": [
    "#Cadena Multi-linea\n",
    "my_string = \"\"\"Hola\n",
    "mi\n",
    "nombre\n",
    "es\n",
    "python\"\"\"\n",
    "print(my_string)"
   ]
  },
  {
   "cell_type": "markdown",
   "id": "d1565cf0",
   "metadata": {},
   "source": [
    "#### 2.2. Indexando y cortando cadenas"
   ]
  },
  {
   "cell_type": "code",
   "execution_count": 7,
   "id": "eeba4fc8",
   "metadata": {},
   "outputs": [
    {
     "name": "stdout",
     "output_type": "stream",
     "text": [
      "L\n",
      "n\n",
      "La v\n",
      "da es muy corta, necesitas Python\n"
     ]
    }
   ],
   "source": [
    "str = 'La vida es muy corta, necesitas Python'\n",
    "print (str[0]) #Imprime el valor en la posición 0\n",
    "print (str[-1]) #Imprime el último valor\n",
    "print (str[0:4]) #Imprime los valores entre la posición 0 y la 4, ambas incluidas\n",
    "print (str[5:]) #Imprime la posición 5 en adelante"
   ]
  },
  {
   "cell_type": "markdown",
   "id": "62be0f3c",
   "metadata": {},
   "source": [
    "#### 2.3 Funciones y métodos para objetos en cadena"
   ]
  },
  {
   "cell_type": "code",
   "execution_count": 8,
   "id": "8475884a",
   "metadata": {},
   "outputs": [
    {
     "name": "stdout",
     "output_type": "stream",
     "text": [
      "6\n"
     ]
    }
   ],
   "source": [
    "x = 'Python'\n",
    "print(len(x))"
   ]
  },
  {
   "cell_type": "code",
   "execution_count": 9,
   "id": "0fdd11f5",
   "metadata": {},
   "outputs": [
    {
     "data": {
      "text/plain": [
       "1"
      ]
     },
     "execution_count": 9,
     "metadata": {},
     "output_type": "execute_result"
    }
   ],
   "source": [
    "x.count('h')"
   ]
  },
  {
   "cell_type": "code",
   "execution_count": 10,
   "id": "8ea4d59c",
   "metadata": {},
   "outputs": [
    {
     "data": {
      "text/plain": [
       "'PYTHON'"
      ]
     },
     "execution_count": 10,
     "metadata": {},
     "output_type": "execute_result"
    }
   ],
   "source": [
    "x.upper()"
   ]
  },
  {
   "cell_type": "code",
   "execution_count": 11,
   "id": "c7d33de9",
   "metadata": {},
   "outputs": [
    {
     "data": {
      "text/plain": [
       "'python'"
      ]
     },
     "execution_count": 11,
     "metadata": {},
     "output_type": "execute_result"
    }
   ],
   "source": [
    "x.lower()"
   ]
  },
  {
   "cell_type": "code",
   "execution_count": 13,
   "id": "faf3d744",
   "metadata": {},
   "outputs": [
    {
     "data": {
      "text/plain": [
       "-1"
      ]
     },
     "execution_count": 13,
     "metadata": {},
     "output_type": "execute_result"
    }
   ],
   "source": [
    "x.find('w') # 'w' al no encontrarse notificará un -1"
   ]
  },
  {
   "cell_type": "code",
   "execution_count": 14,
   "id": "a747a71c",
   "metadata": {},
   "outputs": [
    {
     "data": {
      "text/plain": [
       "4"
      ]
     },
     "execution_count": 14,
     "metadata": {},
     "output_type": "execute_result"
    }
   ],
   "source": [
    "x.index('o')"
   ]
  },
  {
   "cell_type": "code",
   "execution_count": 15,
   "id": "79f2bcf2",
   "metadata": {},
   "outputs": [
    {
     "ename": "ValueError",
     "evalue": "substring not found",
     "output_type": "error",
     "traceback": [
      "\u001b[1;31m---------------------------------------------------------------------------\u001b[0m",
      "\u001b[1;31mValueError\u001b[0m                                Traceback (most recent call last)",
      "\u001b[1;32m<ipython-input-15-dd89450d9dd3>\u001b[0m in \u001b[0;36m<module>\u001b[1;34m\u001b[0m\n\u001b[1;32m----> 1\u001b[1;33m \u001b[0mx\u001b[0m\u001b[1;33m.\u001b[0m\u001b[0mindex\u001b[0m\u001b[1;33m(\u001b[0m\u001b[1;34m'w'\u001b[0m\u001b[1;33m)\u001b[0m\u001b[1;33m\u001b[0m\u001b[1;33m\u001b[0m\u001b[0m\n\u001b[0m",
      "\u001b[1;31mValueError\u001b[0m: substring not found"
     ]
    }
   ],
   "source": [
    "x.index('w') #'w' al no existir devuelve un error"
   ]
  },
  {
   "cell_type": "code",
   "execution_count": 17,
   "id": "88feaf2a",
   "metadata": {},
   "outputs": [],
   "source": [
    "x = 'La vida es muy corta, necesitas Python'"
   ]
  },
  {
   "cell_type": "code",
   "execution_count": 18,
   "id": "f7532021",
   "metadata": {},
   "outputs": [
    {
     "data": {
      "text/plain": [
       "['La', 'vida', 'es', 'muy', 'corta,', 'necesitas', 'Python']"
      ]
     },
     "execution_count": 18,
     "metadata": {},
     "output_type": "execute_result"
    }
   ],
   "source": [
    "x.split(' ')"
   ]
  },
  {
   "cell_type": "code",
   "execution_count": 19,
   "id": "0b599ceb",
   "metadata": {},
   "outputs": [
    {
     "name": "stdout",
     "output_type": "stream",
     "text": [
      "La vida es muy corta, necesitas Python\n"
     ]
    }
   ],
   "source": [
    "y = x.split(' ')\n",
    "a = ' '\n",
    "print(a.join(y))"
   ]
  },
  {
   "cell_type": "markdown",
   "id": "a053ec1a",
   "metadata": {},
   "source": [
    "#### 3.1 Operaciones con boleanos"
   ]
  },
  {
   "cell_type": "markdown",
   "id": "4003cd6f",
   "metadata": {},
   "source": [
    "Operador AND:"
   ]
  },
  {
   "cell_type": "code",
   "execution_count": 21,
   "id": "bb78b538",
   "metadata": {},
   "outputs": [
    {
     "data": {
      "text/plain": [
       "False"
      ]
     },
     "execution_count": 21,
     "metadata": {},
     "output_type": "execute_result"
    }
   ],
   "source": [
    "(3 > 2) and (5 < 4)"
   ]
  },
  {
   "cell_type": "code",
   "execution_count": 22,
   "id": "3a993adc",
   "metadata": {},
   "outputs": [
    {
     "data": {
      "text/plain": [
       "True"
      ]
     },
     "execution_count": 22,
     "metadata": {},
     "output_type": "execute_result"
    }
   ],
   "source": [
    "(3 > 2) and (5 > 4)"
   ]
  },
  {
   "cell_type": "markdown",
   "id": "10b94459",
   "metadata": {},
   "source": [
    "Operador OR:"
   ]
  },
  {
   "cell_type": "markdown",
   "id": "04836a79",
   "metadata": {},
   "source": [
    "Operador NOT:"
   ]
  },
  {
   "cell_type": "code",
   "execution_count": 23,
   "id": "9dcba232",
   "metadata": {},
   "outputs": [
    {
     "data": {
      "text/plain": [
       "False"
      ]
     },
     "execution_count": 23,
     "metadata": {},
     "output_type": "execute_result"
    }
   ],
   "source": [
    "not (4 > 2)"
   ]
  },
  {
   "cell_type": "code",
   "execution_count": 24,
   "id": "ac81149a",
   "metadata": {},
   "outputs": [
    {
     "data": {
      "text/plain": [
       "True"
      ]
     },
     "execution_count": 24,
     "metadata": {},
     "output_type": "execute_result"
    }
   ],
   "source": [
    "not (4 < 2)"
   ]
  },
  {
   "cell_type": "markdown",
   "id": "03b5655b",
   "metadata": {},
   "source": [
    "#### 3.2 Boleanos implícitos:"
   ]
  },
  {
   "cell_type": "code",
   "execution_count": 26,
   "id": "2ac67e74",
   "metadata": {},
   "outputs": [],
   "source": [
    "x = []        #Devuelve false\n",
    "y = [1, 2, 3] #Devuelve true"
   ]
  },
  {
   "cell_type": "code",
   "execution_count": 27,
   "id": "25ff42cf",
   "metadata": {},
   "outputs": [
    {
     "name": "stdout",
     "output_type": "stream",
     "text": [
      "Empty!\n"
     ]
    }
   ],
   "source": [
    "if x:\n",
    "    print('Not empty.')\n",
    "else:\n",
    "    print('Empty!')"
   ]
  },
  {
   "cell_type": "code",
   "execution_count": 28,
   "id": "98397fb4",
   "metadata": {},
   "outputs": [
    {
     "name": "stdout",
     "output_type": "stream",
     "text": [
      "Not empty.\n"
     ]
    }
   ],
   "source": [
    "if y:\n",
    "    print('Not empty.')\n",
    "else:\n",
    "    print('Empty!')"
   ]
  }
 ],
 "metadata": {
  "kernelspec": {
   "display_name": "Python 3",
   "language": "python",
   "name": "python3"
  },
  "language_info": {
   "codemirror_mode": {
    "name": "ipython",
    "version": 3
   },
   "file_extension": ".py",
   "mimetype": "text/x-python",
   "name": "python",
   "nbconvert_exporter": "python",
   "pygments_lexer": "ipython3",
   "version": "3.8.8"
  }
 },
 "nbformat": 4,
 "nbformat_minor": 5
}
