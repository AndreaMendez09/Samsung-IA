{
 "cells": [
  {
   "cell_type": "markdown",
   "metadata": {},
   "source": [
    "## Prueba #0101"
   ]
  },
  {
   "cell_type": "markdown",
   "metadata": {},
   "source": [
    "#### Provide the answers in Python code:"
   ]
  },
  {
   "cell_type": "markdown",
   "metadata": {},
   "source": [
    "1).  En la clase A, las alturas de los estudiantes son:\n",
    "\n",
    "161.5 <br>\n",
    "165.9 <br>\n",
    "168.7 <br>\n",
    "163.1 <br>\n",
    "170.8 <br>\n",
    "167.2 <br>\n",
    "\n",
    "Calcular la altura media utilizando 'list' y el bucle 'for' de Python:"
   ]
  },
  {
   "cell_type": "code",
   "execution_count": 15,
   "metadata": {},
   "outputs": [
    {
     "name": "stdout",
     "output_type": "stream",
     "text": [
      "La media de la altura de la clase A es: 166.20\n"
     ]
    }
   ],
   "source": [
    "#Codigo implementando el bucle for\n",
    "alturas_estudiantes_a = [161.5, 165.9, 168.7, 163.1, 170.8, 167.2] #Generamos una lista con datos homogeneos\n",
    "alturas_totales_a = 0 #Variable para guardar la suma de las alturas\n",
    "for altura in alturas_estudiantes_a:\n",
    "    alturas_totales_a += altura\n",
    "media_a = alturas_totales_a / len(alturas_estudiantes_a)\n",
    "print(\"La media de la altura de la clase A es: %.2f\" % media_a) #Usamos %.2f para formatear la salida a dos decimales"
   ]
  },
  {
   "cell_type": "code",
   "execution_count": 11,
   "metadata": {},
   "outputs": [
    {
     "name": "stdout",
     "output_type": "stream",
     "text": [
      "La media de la altura de la clase A es: 166.20\n"
     ]
    }
   ],
   "source": [
    "#Código alternativo más optimizado sin bucle for\n",
    "alturas_estudiantes_a = [161.5, 165.9, 168.7, 163.1, 170.8, 167.2] #Generamos una lista con datos homogeneos\n",
    "media_a = sum(alturas_estudiantes_a) / len(alturas_estudiantes_a) #Calculamos la media, sum para la suma y len para la cantidad\n",
    "print(\"La media de la altura de la clase A es: %.2f\" % media_a) #Usamos %.2f para formatear la salida a dos decimales"
   ]
  },
  {
   "cell_type": "markdown",
   "metadata": {},
   "source": [
    "2).  En la clase B, las alturas de los estudiantes son:\n",
    "\n",
    "172.5 <br>\n",
    "162.9 <br>\n",
    "161.7 <br>\n",
    "160.1 <br>\n",
    "161.8 <br>\n",
    "169.2 <br>\n",
    "\n",
    "Calcular la altura media utilizando 'list' y el bucle 'for' de Python:"
   ]
  },
  {
   "cell_type": "code",
   "execution_count": 19,
   "metadata": {},
   "outputs": [
    {
     "name": "stdout",
     "output_type": "stream",
     "text": [
      "La media de la altura de la clase B es: 164.70\n"
     ]
    }
   ],
   "source": [
    "#Codigo implementando el bucle for\n",
    "alturas_estudiantes_b = [172.5, 162.9, 161.7, 160.1, 161.8, 169.2] #Generamos una lista con datos homogeneos\n",
    "alturas_totales_b = 0 #Variable para guardar la suma de las alturas\n",
    "for altura in alturas_estudiantes_b:\n",
    "    alturas_totales_b += altura\n",
    "media_b = alturas_totales_b / len(alturas_estudiantes_b)\n",
    "print(\"La media de la altura de la clase B es: %.2f\" % media_b)"
   ]
  },
  {
   "cell_type": "code",
   "execution_count": 17,
   "metadata": {},
   "outputs": [
    {
     "name": "stdout",
     "output_type": "stream",
     "text": [
      "La media de la altura de la clase B es: 164.70\n"
     ]
    }
   ],
   "source": [
    "#Código alternativo más optimizado sin bucle for\n",
    "alturas_estudiantes_b = [172.5, 162.9, 161.7, 160.1, 161.8, 169.2]\n",
    "media_b = sum(alturas_estudiantes_b) / len(alturas_estudiantes_b)\n",
    "print(\"La media de la altura de la clase B es: %.2f\" % media_b)"
   ]
  },
  {
   "cell_type": "markdown",
   "metadata": {},
   "source": [
    "3). La clase A y la clase B se unen para formar la clase AB. Calcule la altura media utilizando 'list' y el bucle 'for' de Python:"
   ]
  },
  {
   "cell_type": "code",
   "execution_count": 25,
   "metadata": {},
   "outputs": [
    {
     "name": "stdout",
     "output_type": "stream",
     "text": [
      "La media de la altura de la clase union es: 165.45\n"
     ]
    }
   ],
   "source": [
    "#Codigo implementando el bucle for\n",
    "alturas_estudiantes_union = alturas_estudiantes_b + alturas_estudiantes_a\n",
    "alturas_totales_union = 0\n",
    "for altura in alturas_estudiantes_union:\n",
    "    alturas_totales_union += altura\n",
    "media_union = alturas_totales_union / len(alturas_estudiantes_b + alturas_estudiantes_a)\n",
    "print(\"La media de la altura de la clase union es: %.2f\" % media_union)"
   ]
  },
  {
   "cell_type": "code",
   "execution_count": 24,
   "metadata": {},
   "outputs": [
    {
     "name": "stdout",
     "output_type": "stream",
     "text": [
      "La media de la altura de la clase B es: 165.45\n"
     ]
    }
   ],
   "source": [
    "#Código alternativo más optimizado sin bucle for\n",
    "media_union = sum(alturas_estudiantes_b + alturas_estudiantes_a) / len(alturas_estudiantes_b + alturas_estudiantes_a)\n",
    "print(\"La media de la altura de la clase union es: %.2f\" % media_union)"
   ]
  },
  {
   "cell_type": "markdown",
   "metadata": {},
   "source": [
    "4). Ordenar las alturas de la clase AB."
   ]
  },
  {
   "cell_type": "code",
   "execution_count": 33,
   "metadata": {},
   "outputs": [
    {
     "name": "stdout",
     "output_type": "stream",
     "text": [
      "Las alturas ordenadas:  [160.1, 161.5, 161.7, 161.8, 162.9, 163.1, 165.9, 167.2, 168.7, 169.2, 170.8, 172.5]\n"
     ]
    }
   ],
   "source": [
    "alturas_estudiantes_union.sort() #Ordenamos la lista\n",
    "print(\"Las alturas ordenadas: \" , alturas_estudiantes_union)"
   ]
  },
  {
   "cell_type": "markdown",
   "metadata": {},
   "source": [
    "5). La clase C se forma con estudiantes con una altura inferior a 165. Haga una lista que contenga las alturas de la clase C."
   ]
  },
  {
   "cell_type": "code",
   "execution_count": 42,
   "metadata": {},
   "outputs": [
    {
     "name": "stdout",
     "output_type": "stream",
     "text": [
      "Las clase C lo formarian:  [160.1, 161.5, 161.7, 161.8, 162.9, 163.1]\n"
     ]
    }
   ],
   "source": [
    "#Codigo usando el for sin optimizar\n",
    "alturasalturas_estudiantes_c = list()\n",
    "for altura in alturas_estudiantes_union:\n",
    "    if altura < 165:\n",
    "        alturasalturas_estudiantes_c.append(altura)\n",
    "print(\"Las clase C lo formarian: \" , alturasalturas_estudiantes_c)"
   ]
  },
  {
   "cell_type": "code",
   "execution_count": 41,
   "metadata": {},
   "outputs": [
    {
     "name": "stdout",
     "output_type": "stream",
     "text": [
      "Las clase C lo formarian:  [160.1, 161.5, 161.7, 161.8, 162.9, 163.1]\n"
     ]
    }
   ],
   "source": [
    "#Codigo optimizando el for\n",
    "alturasalturas_estudiantes_c = [altura for altura in alturas_estudiantes_union if altura < 165]\n",
    "print(\"Las clase C lo formarian: \" , alturasalturas_estudiantes_c)"
   ]
  },
  {
   "cell_type": "markdown",
   "metadata": {},
   "source": [
    "6). La clase D se forma con estudiantes con una altura mayor que 160 y menor que 170. Haga una lista que contenga las alturas de la clase D."
   ]
  },
  {
   "cell_type": "code",
   "execution_count": 43,
   "metadata": {},
   "outputs": [
    {
     "name": "stdout",
     "output_type": "stream",
     "text": [
      "Las clase D lo formarian:  [160.1, 161.5, 161.7, 161.8, 162.9, 163.1, 165.9, 167.2, 168.7, 169.2]\n"
     ]
    }
   ],
   "source": [
    "#Codigo usando el for sin optimizar\n",
    "alturasalturas_estudiantes_d = list()\n",
    "for altura in alturas_estudiantes_union:\n",
    "    if altura < 170 and altura > 160:\n",
    "        alturasalturas_estudiantes_d.append(altura)\n",
    "print(\"Las clase D lo formarian: \" , alturasalturas_estudiantes_d)"
   ]
  },
  {
   "cell_type": "code",
   "execution_count": 44,
   "metadata": {},
   "outputs": [
    {
     "name": "stdout",
     "output_type": "stream",
     "text": [
      "Las clase D lo formarian:  [160.1, 161.5, 161.7, 161.8, 162.9, 163.1, 165.9, 167.2, 168.7, 169.2]\n"
     ]
    }
   ],
   "source": [
    "#Codigo optimizando el for\n",
    "alturasalturas_estudiantes_d = [altura for altura in alturas_estudiantes_union if altura < 170 and altura > 160]\n",
    "print(\"Las clase D lo formarian: \" , alturasalturas_estudiantes_d)"
   ]
  }
 ],
 "metadata": {
  "kernelspec": {
   "display_name": "Python 3",
   "language": "python",
   "name": "python3"
  },
  "language_info": {
   "codemirror_mode": {
    "name": "ipython",
    "version": 3
   },
   "file_extension": ".py",
   "mimetype": "text/x-python",
   "name": "python",
   "nbconvert_exporter": "python",
   "pygments_lexer": "ipython3",
   "version": "3.8.8"
  }
 },
 "nbformat": 4,
 "nbformat_minor": 2
}
