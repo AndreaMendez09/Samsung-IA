{
 "cells": [
  {
   "cell_type": "markdown",
   "metadata": {},
   "source": [
    "## Prueba #0103 "
   ]
  },
  {
   "cell_type": "markdown",
   "metadata": {},
   "source": [
    "#### Codifique la clase llamada 'Calculadora' que genera el resultado como se muestra."
   ]
  },
  {
   "cell_type": "code",
   "execution_count": 9,
   "metadata": {},
   "outputs": [],
   "source": [
    "class Calculator:\n",
    "    def __init__(self, n1, n2): #Creamos el constructor\n",
    "        #Realizamos las declaraciones de los campos necesarios\n",
    "        self.n1 = n1\n",
    "        self.n2 = n2\n",
    "        \n",
    "    def sum(self): #Suma\n",
    "        return self.n1 + self.n2\n",
    "    \n",
    "    def subtract(self): #Resta\n",
    "        return self.n1 - self.n2\n",
    "    \n",
    "    def product(self): #Multiplicacion\n",
    "        return self.n1 * self.n2\n",
    "    \n",
    "    def divide(self): #Dividir\n",
    "        return self.n1 / self.n2\n",
    "\n",
    "\n",
    "\n"
   ]
  },
  {
   "cell_type": "markdown",
   "metadata": {},
   "source": [
    "Resultados de la prueba:"
   ]
  },
  {
   "cell_type": "code",
   "execution_count": 10,
   "metadata": {},
   "outputs": [],
   "source": [
    "calc1 = Calculator(5,3)\n",
    "calc2 = Calculator(10,2)"
   ]
  },
  {
   "cell_type": "code",
   "execution_count": 11,
   "metadata": {},
   "outputs": [
    {
     "name": "stdout",
     "output_type": "stream",
     "text": [
      "8\n",
      "2\n",
      "15\n",
      "1.6666666666666667\n"
     ]
    }
   ],
   "source": [
    "print(calc1.sum())\n",
    "print(calc1.subtract())\n",
    "print(calc1.product())\n",
    "print(calc1.divide())"
   ]
  },
  {
   "cell_type": "code",
   "execution_count": 12,
   "metadata": {},
   "outputs": [
    {
     "name": "stdout",
     "output_type": "stream",
     "text": [
      "12\n",
      "8\n",
      "20\n",
      "5.0\n"
     ]
    }
   ],
   "source": [
    "print(calc2.sum())\n",
    "print(calc2.subtract())\n",
    "print(calc2.product())\n",
    "print(calc2.divide())"
   ]
  }
 ],
 "metadata": {
  "kernelspec": {
   "display_name": "Python 3",
   "language": "python",
   "name": "python3"
  },
  "language_info": {
   "codemirror_mode": {
    "name": "ipython",
    "version": 3
   },
   "file_extension": ".py",
   "mimetype": "text/x-python",
   "name": "python",
   "nbconvert_exporter": "python",
   "pygments_lexer": "ipython3",
   "version": "3.8.8"
  }
 },
 "nbformat": 4,
 "nbformat_minor": 2
}
