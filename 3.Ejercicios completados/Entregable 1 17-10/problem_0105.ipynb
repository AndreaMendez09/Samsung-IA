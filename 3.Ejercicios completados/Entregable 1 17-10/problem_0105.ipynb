{
 "cells": [
  {
   "cell_type": "markdown",
   "metadata": {},
   "source": [
    "## Prueba #0105 "
   ]
  },
  {
   "cell_type": "markdown",
   "metadata": {},
   "source": [
    "#### Asignación:\n",
    "- Escriba una función llamada 'palindrome' para probar si la palabra o frase ingresada es un palíndromo. <br>\n",
    "- Ignorar mayúsculas, espacios, signos de puntuación, símbolos, etc. <br>\n",
    "- Utilice las propiedades de las estructuras de datos 'cola' y 'pila'. <br>"
   ]
  },
  {
   "cell_type": "markdown",
   "metadata": {},
   "source": [
    "Ejemplos de palíndromos: <br>\n",
    "- mom\n",
    "- wow\n",
    "- noon\n",
    "- level\n",
    "- radar\n",
    "- kayak\n",
    "- racecar\n",
    "- God's dog\n",
    "- Madam, I'm Adam"
   ]
  },
  {
   "cell_type": "code",
   "execution_count": 77,
   "metadata": {},
   "outputs": [],
   "source": [
    "from collections import deque\n",
    "\n",
    "\n",
    "def cambiar_char_especiales(cadena): #Implementando distintas formas, sacaremos los caracteres especiales\n",
    "    cadena = cadena.lower() # Transformamos la cadena a minusculas\n",
    "    cadena = cadena.replace(\" \", \"\") #Ignoramos los espacios\n",
    "    \n",
    "    #Cambiamos las letras con acento\n",
    "    cadena = cadena.replace(\"á\", \"a\")\n",
    "    cadena = cadena.replace(\"é\", \"e\")\n",
    "    cadena = cadena.replace(\"í\", \"i\")\n",
    "    cadena = cadena.replace(\"ó\", \"o\")\n",
    "    cadena = cadena.replace(\"ú\", \"u\")\n",
    "    \n",
    "    #Lo siguiente es para quitar una gran mayoría de símbolos y caracteres especiales\n",
    "    #Realizo estas operaciones para quitar el b'' que marca el encode\n",
    "    cadena = cadena.encode(\"ascii\", \"ignore\")\n",
    "    cadena = cadena.decode(\"ascii\", \"ignore\")\n",
    "    \n",
    "    #Filtramos los caracteres especiales que quedan\n",
    "    char_especiales = ['!', '#', '$', '%', '?', '&', '@', '[', ']', '~', ']' ,'_', '*', \"'\", ',', '.']\n",
    "\n",
    "    #Realizamos un join del filtro, para ignorar los que quedan\n",
    "    cadena = ''.join(filter(lambda i:i not in char_especiales, cadena))\n",
    "    \n",
    "    print(\"La cadena quedaría:\", cadena)\n",
    "    return cadena\n",
    "\n",
    "\n",
    "\n",
    "def palindrome(d):\n",
    "    #Llamamos al método para limpiar la cadena\n",
    "    d = cambiar_char_especiales(d)\n",
    "    deque_cadena = deque(d)\n",
    "    es_palindromo = True\n",
    "    while len(deque_cadena)>1:\n",
    "        if deque_cadena.pop() != deque_cadena.popleft():\n",
    "            es_palindromo = False\n",
    "            break\n",
    "            \n",
    "    print(es_palindromo)\n",
    "    \n",
    "    \n",
    "    \n",
    "    \n",
    "    "
   ]
  },
  {
   "cell_type": "markdown",
   "metadata": {},
   "source": [
    "Resultados de la prueba:"
   ]
  },
  {
   "cell_type": "code",
   "execution_count": 78,
   "metadata": {},
   "outputs": [
    {
     "name": "stdout",
     "output_type": "stream",
     "text": [
      "La cadena quedaría: kayak\n",
      "True\n"
     ]
    }
   ],
   "source": [
    "palindrome(\"Kayak\")"
   ]
  },
  {
   "cell_type": "code",
   "execution_count": 79,
   "metadata": {},
   "outputs": [
    {
     "name": "stdout",
     "output_type": "stream",
     "text": [
      "La cadena quedaría: madamimadam\n",
      "True\n"
     ]
    }
   ],
   "source": [
    "palindrome(\"Madam, I'm Adam\")"
   ]
  },
  {
   "cell_type": "code",
   "execution_count": 80,
   "metadata": {},
   "outputs": [
    {
     "name": "stdout",
     "output_type": "stream",
     "text": [
      "La cadena quedaría: hello\n",
      "False\n"
     ]
    }
   ],
   "source": [
    "palindrome(\"Hello\")"
   ]
  },
  {
   "cell_type": "code",
   "execution_count": 81,
   "metadata": {},
   "outputs": [
    {
     "name": "stdout",
     "output_type": "stream",
     "text": [
      "La cadena quedaría: a\n",
      "True\n"
     ]
    }
   ],
   "source": [
    "palindrome(\"#@ñ*á?¿?¿~~~~\")"
   ]
  },
  {
   "cell_type": "code",
   "execution_count": 82,
   "metadata": {},
   "outputs": [
    {
     "name": "stdout",
     "output_type": "stream",
     "text": [
      "La cadena quedaría: a\n",
      "True\n"
     ]
    }
   ],
   "source": [
    "palindrome(\"á\")"
   ]
  },
  {
   "cell_type": "code",
   "execution_count": null,
   "metadata": {},
   "outputs": [],
   "source": []
  }
 ],
 "metadata": {
  "kernelspec": {
   "display_name": "Python 3",
   "language": "python",
   "name": "python3"
  },
  "language_info": {
   "codemirror_mode": {
    "name": "ipython",
    "version": 3
   },
   "file_extension": ".py",
   "mimetype": "text/x-python",
   "name": "python",
   "nbconvert_exporter": "python",
   "pygments_lexer": "ipython3",
   "version": "3.8.8"
  }
 },
 "nbformat": 4,
 "nbformat_minor": 2
}
