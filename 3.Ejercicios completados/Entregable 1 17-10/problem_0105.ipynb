{
 "cells": [
  {
   "cell_type": "markdown",
   "metadata": {},
   "source": [
    "## Prueba #0105 "
   ]
  },
  {
   "cell_type": "markdown",
   "metadata": {},
   "source": [
    "#### Asignación:\n",
    "- Escriba una función llamada 'palindrome' para probar si la palabra o frase ingresada es un palíndromo. <br>\n",
    "- Ignorar mayúsculas, espacios, signos de puntuación, símbolos, etc. <br>\n",
    "- Utilice las propiedades de las estructuras de datos 'cola' y 'pila'. <br>"
   ]
  },
  {
   "cell_type": "markdown",
   "metadata": {},
   "source": [
    "Ejemplos de palíndromos: <br>\n",
    "- mom\n",
    "- wow\n",
    "- noon\n",
    "- level\n",
    "- radar\n",
    "- kayak\n",
    "- racecar\n",
    "- God's dog\n",
    "- Madam, I'm Adam"
   ]
  },
  {
   "cell_type": "code",
   "execution_count": 42,
   "metadata": {},
   "outputs": [],
   "source": [
    "from collections import deque\n",
    "import re  #API https://docs.python.org/es/3/library/re.html\n",
    "\n",
    "\n",
    "#Método para quitar los caracteres especiales\n",
    "def cambiar_char_especiales(cadena): \n",
    "    cadena = cadena.lower() # Transformamos la cadena a minusculas\n",
    "    \n",
    "    #Cambiamos las letras con acento, para no perder las vocales con el re.sub\n",
    "    cadena = cadena.replace(\"á\", \"a\")\n",
    "    cadena = cadena.replace(\"é\", \"e\")\n",
    "    cadena = cadena.replace(\"í\", \"i\")\n",
    "    cadena = cadena.replace(\"ó\", \"o\")\n",
    "    cadena = cadena.replace(\"ú\", \"u\")\n",
    "    \n",
    "    \n",
    "    #Se pueden usar expresiones regulares para hacerlo mucho más sencillo\n",
    "    cadena = re.sub(r\"[^a-z]\",\"\",cadena) #Remplaza las ocurrencias con el parametro dado de la cadena indicada\n",
    "    #^ indica todos los char contrarios a lo indicado\n",
    "    \n",
    "    print(\"La cadena quedaría:\", cadena)\n",
    "    return cadena\n",
    "\n",
    "\n",
    "#Método para comprobar si es un palindromo\n",
    "def palindrome(d):\n",
    "    #Llamamos al método para limpiar la cadena\n",
    "    d = cambiar_char_especiales(d)\n",
    "    deque_cadena = deque(d)\n",
    "    es_palindromo = True\n",
    "    while len(deque_cadena)>1:\n",
    "        if deque_cadena.pop() != deque_cadena.popleft():\n",
    "            es_palindromo = False\n",
    "            break\n",
    "            \n",
    "    print(es_palindromo)\n",
    "    \n",
    "    \n",
    "    \n",
    "    \n",
    "    "
   ]
  },
  {
   "cell_type": "markdown",
   "metadata": {},
   "source": [
    "Resultados de la prueba:"
   ]
  },
  {
   "cell_type": "code",
   "execution_count": 43,
   "metadata": {},
   "outputs": [
    {
     "name": "stdout",
     "output_type": "stream",
     "text": [
      "La cadena quedaría: mom\n",
      "True\n"
     ]
    }
   ],
   "source": [
    "palindrome(\"mom\")"
   ]
  },
  {
   "cell_type": "code",
   "execution_count": 44,
   "metadata": {},
   "outputs": [
    {
     "name": "stdout",
     "output_type": "stream",
     "text": [
      "La cadena quedaría: wow\n",
      "True\n"
     ]
    }
   ],
   "source": [
    "palindrome(\"wow\")"
   ]
  },
  {
   "cell_type": "code",
   "execution_count": 45,
   "metadata": {},
   "outputs": [
    {
     "name": "stdout",
     "output_type": "stream",
     "text": [
      "La cadena quedaría: noon\n",
      "True\n"
     ]
    }
   ],
   "source": [
    "palindrome(\"noon\")"
   ]
  },
  {
   "cell_type": "code",
   "execution_count": 46,
   "metadata": {},
   "outputs": [
    {
     "name": "stdout",
     "output_type": "stream",
     "text": [
      "La cadena quedaría: level\n",
      "True\n"
     ]
    }
   ],
   "source": [
    "palindrome(\"level\")"
   ]
  },
  {
   "cell_type": "code",
   "execution_count": 47,
   "metadata": {},
   "outputs": [
    {
     "name": "stdout",
     "output_type": "stream",
     "text": [
      "La cadena quedaría: radar\n",
      "True\n"
     ]
    }
   ],
   "source": [
    "palindrome(\"radar\")"
   ]
  },
  {
   "cell_type": "code",
   "execution_count": 48,
   "metadata": {},
   "outputs": [
    {
     "name": "stdout",
     "output_type": "stream",
     "text": [
      "La cadena quedaría: kayak\n",
      "True\n"
     ]
    }
   ],
   "source": [
    "palindrome(\"kayak\")"
   ]
  },
  {
   "cell_type": "code",
   "execution_count": 49,
   "metadata": {},
   "outputs": [
    {
     "name": "stdout",
     "output_type": "stream",
     "text": [
      "La cadena quedaría: racecar\n",
      "True\n"
     ]
    }
   ],
   "source": [
    "palindrome(\"racecar\")"
   ]
  },
  {
   "cell_type": "code",
   "execution_count": 50,
   "metadata": {},
   "outputs": [
    {
     "name": "stdout",
     "output_type": "stream",
     "text": [
      "La cadena quedaría: godsdog\n",
      "True\n"
     ]
    }
   ],
   "source": [
    "palindrome(\"God's dog\")"
   ]
  },
  {
   "cell_type": "code",
   "execution_count": 51,
   "metadata": {},
   "outputs": [
    {
     "name": "stdout",
     "output_type": "stream",
     "text": [
      "La cadena quedaría: madamimadam\n",
      "True\n"
     ]
    }
   ],
   "source": [
    "palindrome(\"Madam, I'm Adam\")"
   ]
  },
  {
   "cell_type": "code",
   "execution_count": 52,
   "metadata": {},
   "outputs": [
    {
     "name": "stdout",
     "output_type": "stream",
     "text": [
      "La cadena quedaría: as\n",
      "False\n"
     ]
    }
   ],
   "source": [
    "palindrome(\"#@ñ*á?¿  ?¿~ç~S_\")"
   ]
  }
 ],
 "metadata": {
  "kernelspec": {
   "display_name": "Python 3",
   "language": "python",
   "name": "python3"
  },
  "language_info": {
   "codemirror_mode": {
    "name": "ipython",
    "version": 3
   },
   "file_extension": ".py",
   "mimetype": "text/x-python",
   "name": "python",
   "nbconvert_exporter": "python",
   "pygments_lexer": "ipython3",
   "version": "3.8.8"
  }
 },
 "nbformat": 4,
 "nbformat_minor": 2
}
